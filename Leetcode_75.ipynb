{
  "nbformat": 4,
  "nbformat_minor": 0,
  "metadata": {
    "colab": {
      "name": "Leetcode_75.ipynb",
      "provenance": [],
      "authorship_tag": "ABX9TyO71ndKfaCi5WGFwVn6wHEM",
      "include_colab_link": true
    },
    "kernelspec": {
      "name": "python3",
      "display_name": "Python 3"
    },
    "language_info": {
      "name": "python"
    }
  },
  "cells": [
    {
      "cell_type": "markdown",
      "metadata": {
        "id": "view-in-github",
        "colab_type": "text"
      },
      "source": [
        "<a href=\"https://colab.research.google.com/github/Drey-Tee/Data_Structures_And_Algorithms/blob/main/Leetcode_75.ipynb\" target=\"_parent\"><img src=\"https://colab.research.google.com/assets/colab-badge.svg\" alt=\"Open In Colab\"/></a>"
      ]
    },
    {
      "cell_type": "markdown",
      "source": [
        "**Leetcode 1480**: Running Sum of 1d Array\n",
        "\n",
        "**Description**:Given an array nums. We define a running sum of an array as runningSum[i] = sum(nums[0]…nums[i]).\n",
        "\n",
        "Return the running sum of nums.\n",
        "\n",
        " \n",
        "**URL**:**https://leetcode.com/problems/running-sum-of-1d-array/**"
      ],
      "metadata": {
        "id": "BfG8DMpQxRw3"
      }
    },
    {
      "cell_type": "code",
      "execution_count": null,
      "metadata": {
        "id": "jOq2PXLlvQHG"
      },
      "outputs": [],
      "source": [
        "class Solution:\n",
        "    def runningSum(self, nums: List[int]) -> List[int]:\n",
        "    # accumulate(an in-built library) is used to make an iterator return accumulated sums.\n",
        "        return list(accumulate(nums))"
      ]
    },
    {
      "cell_type": "code",
      "source": [
        ""
      ],
      "metadata": {
        "id": "DeiUHhhU36R7"
      },
      "execution_count": null,
      "outputs": []
    },
    {
      "cell_type": "markdown",
      "source": [
        "**Leetcode 724**: Find Pivot Index\n",
        "\n",
        "**Description**:Given an array of integers nums, calculate the pivot index of this array.\n",
        "\n",
        "The pivot index is the index where the sum of all the numbers strictly to the left of the index is equal to the sum of all the numbers strictly to the index's right.\n",
        "\n",
        "If the index is on the left edge of the array, then the left sum is 0 because there are no elements to the left. This also applies to the right edge of the array.\n",
        "\n",
        "Return the leftmost pivot index. If no such index exists, return -1.\n",
        "\n",
        " \n",
        "**URL**:**https://leetcode.com/problems/find-pivot-index/**"
      ],
      "metadata": {
        "id": "FiFgvII5xQmM"
      }
    },
    {
      "cell_type": "code",
      "source": [
        "class Solution:\n",
        "    def pivotIndex(self, nums: List[int]) -> int:\n",
        "        S = sum(nums)\n",
        "        leftsum = 0\n",
        "        for i, x in enumerate(nums):\n",
        "            if leftsum == (S - leftsum - x):\n",
        "                return i\n",
        "            leftsum += x\n",
        "        return -1\n",
        "        "
      ],
      "metadata": {
        "id": "zbsJN3Dm4aez"
      },
      "execution_count": null,
      "outputs": []
    }
  ]
}