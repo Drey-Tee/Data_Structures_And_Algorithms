{
  "nbformat": 4,
  "nbformat_minor": 0,
  "metadata": {
    "colab": {
      "name": "Leetcode_75.ipynb",
      "provenance": [],
      "authorship_tag": "ABX9TyNXiPsvFOLPksUg7/5XhsCy",
      "include_colab_link": true
    },
    "kernelspec": {
      "name": "python3",
      "display_name": "Python 3"
    },
    "language_info": {
      "name": "python"
    }
  },
  "cells": [
    {
      "cell_type": "markdown",
      "metadata": {
        "id": "view-in-github",
        "colab_type": "text"
      },
      "source": [
        "<a href=\"https://colab.research.google.com/github/Drey-Tee/Data_Structures_And_Algorithms/blob/main/Leetcode_75.ipynb\" target=\"_parent\"><img src=\"https://colab.research.google.com/assets/colab-badge.svg\" alt=\"Open In Colab\"/></a>"
      ]
    },
    {
      "cell_type": "markdown",
      "source": [
        "**Leetcode 1480**: Running Sum of 1d Array\n",
        "\n",
        "**Description**:Given an array nums. We define a running sum of an array as runningSum[i] = sum(nums[0]…nums[i]).\n",
        "\n",
        "Return the running sum of nums.\n",
        "\n",
        " \n",
        "**URL**:**https://leetcode.com/problems/running-sum-of-1d-array/**"
      ],
      "metadata": {
        "id": "BfG8DMpQxRw3"
      }
    },
    {
      "cell_type": "code",
      "source": [
        ""
      ],
      "metadata": {
        "id": "NCg1BgKwdrWf"
      },
      "execution_count": null,
      "outputs": []
    },
    {
      "cell_type": "code",
      "execution_count": null,
      "metadata": {
        "id": "jOq2PXLlvQHG"
      },
      "outputs": [],
      "source": [
        "class Solution:\n",
        "    def runningSum(self, nums: List[int]) -> List[int]:\n",
        "    # accumulate(an in-built library) is used to make an iterator return accumulated sums.\n",
        "        return list(accumulate(nums))"
      ]
    },
    {
      "cell_type": "code",
      "source": [
        ""
      ],
      "metadata": {
        "id": "DeiUHhhU36R7"
      },
      "execution_count": null,
      "outputs": []
    },
    {
      "cell_type": "markdown",
      "source": [
        "**Leetcode 724**: Find Pivot Index\n",
        "\n",
        "**Description**:Given an array of integers nums, calculate the pivot index of this array.\n",
        "\n",
        "The pivot index is the index where the sum of all the numbers strictly to the left of the index is equal to the sum of all the numbers strictly to the index's right.\n",
        "\n",
        "If the index is on the left edge of the array, then the left sum is 0 because there are no elements to the left. This also applies to the right edge of the array.\n",
        "\n",
        "Return the leftmost pivot index. If no such index exists, return -1.\n",
        "\n",
        " \n",
        "**URL**:**https://leetcode.com/problems/find-pivot-index/**"
      ],
      "metadata": {
        "id": "FiFgvII5xQmM"
      }
    },
    {
      "cell_type": "code",
      "source": [
        "class Solution:\n",
        "    def pivotIndex(self, nums: List[int]) -> int:\n",
        "        S = sum(nums)\n",
        "        leftsum = 0\n",
        "        for i, x in enumerate(nums):\n",
        "            if leftsum == (S - leftsum - x):\n",
        "                return i\n",
        "            leftsum += x\n",
        "        return -1\n",
        "        "
      ],
      "metadata": {
        "id": "zbsJN3Dm4aez"
      },
      "execution_count": null,
      "outputs": []
    },
    {
      "cell_type": "code",
      "source": [
        ""
      ],
      "metadata": {
        "id": "5hcNRI83dvZR"
      },
      "execution_count": null,
      "outputs": []
    },
    {
      "cell_type": "markdown",
      "source": [
        "**Leetcode 392**: Is Subsequence\n",
        "\n",
        "**Description**:Given two strings s and t, return true if s is a subsequence of t, or false otherwise.\n",
        "\n",
        "A subsequence of a string is a new string that is formed from the original string by deleting some (can be none) of the characters without disturbing the relative positions of the remaining characters. (i.e., \"ace\" is a subsequence of \"abcde\" while \"aec\" is not).\n",
        "\n",
        " \n",
        " \n",
        "**URL**:**https://leetcode.com/problems/is-subsequence/**"
      ],
      "metadata": {
        "id": "gbrBEur8dw1E"
      }
    },
    {
      "cell_type": "code",
      "source": [
        "lass Solution:\n",
        "    def isSubsequence(self, s: str, t: str) -> bool:\n",
        "        if s == '':\n",
        "            return True\n",
        "        for k in s:\n",
        "            if k not in t:\n",
        "                return False\n",
        "            i = t.index(k)\n",
        "            t = t[i+1:]\n",
        "        return True"
      ],
      "metadata": {
        "id": "HLzeTWFqdvdd"
      },
      "execution_count": null,
      "outputs": []
    },
    {
      "cell_type": "code",
      "source": [
        ""
      ],
      "metadata": {
        "id": "XNCdr_h3dvhZ"
      },
      "execution_count": null,
      "outputs": []
    },
    {
      "cell_type": "markdown",
      "source": [
        "**Leetcode 205**: Isomorphic Strings\n",
        "\n",
        "**Description**:Given two strings s and t, determine if they are isomorphic.\n",
        "\n",
        "Two strings s and t are isomorphic if the characters in s can be replaced to get t.\n",
        "\n",
        "All occurrences of a character must be replaced with another character while preserving the order of characters. No two characters may map to the same character, but a character may map to itself.\n",
        " \n",
        "**URL**:**https://leetcode.com/problems/isomorphic-strings/**"
      ],
      "metadata": {
        "id": "v4OeuqlFd-p6"
      }
    },
    {
      "cell_type": "code",
      "source": [
        "class Solution:\n",
        "    def isIsomorphic(self, s: str, t: str) -> bool:\n",
        "            return [*map(s.index, s)] == [*map(t.index, t)]\n"
      ],
      "metadata": {
        "id": "FqNDpSQLdvk_"
      },
      "execution_count": null,
      "outputs": []
    },
    {
      "cell_type": "code",
      "source": [
        ""
      ],
      "metadata": {
        "id": "WliMIFatdvoQ"
      },
      "execution_count": null,
      "outputs": []
    },
    {
      "cell_type": "markdown",
      "source": [
        "**Leetcode 876**: Middle of The Linked List\n",
        "\n",
        "**Description**:Given the head of a singly linked list, return the middle node of the linked list.\n",
        "\n",
        "If there are two middle nodes, return the second middle node.\n",
        " \n",
        "**URL**:**https://leetcode.com/problems/middle-of-the-linked-list/**"
      ],
      "metadata": {
        "id": "5WFQMgoKouJu"
      }
    },
    {
      "cell_type": "code",
      "source": [
        "# Definition for singly-linked list.\n",
        "# class ListNode:\n",
        "#     def __init__(self, val=0, next=None):\n",
        "#         self.val = val\n",
        "#         self.next = next\n",
        "class Solution:\n",
        "    def middleNode(self, head: Optional[ListNode]) -> Optional[ListNode]:\n",
        "        init = head\n",
        "        final = head\n",
        "        while final and final.next:\n",
        "            init = init.next\n",
        "            final = final.next.next\n",
        "        return init"
      ],
      "metadata": {
        "id": "8EZFrVZPdvrw"
      },
      "execution_count": null,
      "outputs": []
    },
    {
      "cell_type": "code",
      "source": [
        ""
      ],
      "metadata": {
        "id": "f12TxaR4dvvj"
      },
      "execution_count": null,
      "outputs": []
    },
    {
      "cell_type": "markdown",
      "source": [
        "**Leetcode 142**: Linked List Cycle II\n",
        "\n",
        "**Description**:Given the head of a linked list, return the node where the cycle begins. If there is no cycle, return null.\n",
        "\n",
        "There is a cycle in a linked list if there is some node in the list that can be reached again by continuously following the next pointer. Internally, pos is used to denote the index of the node that tail's next pointer is connected to (0-indexed). It is -1 if there is no cycle. Note that pos is not passed as a parameter.\n",
        "\n",
        "Do not modify the linked list.\n",
        " \n",
        "**URL**:**https://https://leetcode.com/problems/linked-list-cycle-ii/**"
      ],
      "metadata": {
        "id": "4EKyWcAkoo6T"
      }
    },
    {
      "cell_type": "code",
      "source": [
        "# Definition for singly-linked list.\n",
        "# class ListNode:\n",
        "#     def __init__(self, x):\n",
        "#         self.val = x\n",
        "#         self.next = None\n",
        "\n",
        "class Solution:\n",
        "    def detectCycle(self, head: Optional[ListNode]) -> Optional[ListNode]:\n",
        "         node_dict = {}\n",
        "\t\t\n",
        "         while head:\n",
        "\t\t\t# if node is not in dict, add it.\n",
        "            if head not in node_dict:\n",
        "                node_dict[head] = 'visited'\n",
        "\t\t\t# our node is in dict, so we have seen this node and this node is the start point of our cycle.\n",
        "            else:\n",
        "                return head\n",
        "\t\t\t# go to next node\n",
        "            head = head.next\n",
        "        # return None if there is no cycle.\n",
        "         return None"
      ],
      "metadata": {
        "id": "-JYKKbLrdvzc"
      },
      "execution_count": null,
      "outputs": []
    },
    {
      "cell_type": "code",
      "source": [
        ""
      ],
      "metadata": {
        "id": "m3utFH_Qdv2t"
      },
      "execution_count": null,
      "outputs": []
    },
    {
      "cell_type": "markdown",
      "source": [
        "**Leetcode 102**: Binary Tree Level Order Traversal\n",
        "\n",
        "**Description**:Given the root of a binary tree, return the level order traversal of its nodes' values. (i.e., from left to right, level by level).\n",
        " \n",
        "**URL**:**https://leetcode.com/problems/binary-tree-level-order-traversal/**"
      ],
      "metadata": {
        "id": "eScJpEYpXuiT"
      }
    },
    {
      "cell_type": "code",
      "source": [
        "# Definition for a binary tree node.\n",
        "# class TreeNode:\n",
        "#     def __init__(self, val=0, left=None, right=None):\n",
        "#         self.val = val\n",
        "#         self.left = left\n",
        "#         self.right = right\n",
        "class Solution:\n",
        "    def levelOrder(self, root: Optional[TreeNode]) -> List[List[int]]:\n",
        "        if not root:\n",
        "            return []\n",
        "\n",
        "        ans = []\n",
        "        q = deque([root])\n",
        "\n",
        "        while q:\n",
        "            currLevel = []\n",
        "            for _ in range(len(q)):\n",
        "                node = q.popleft()\n",
        "                currLevel.append(node.val)\n",
        "                if node.left:\n",
        "                    q.append(node.left)\n",
        "                if node.right:\n",
        "                    q.append(node.right)\n",
        "            ans.append(currLevel)\n",
        "\n",
        "        return ans"
      ],
      "metadata": {
        "id": "Tle-gJM1XvmZ"
      },
      "execution_count": null,
      "outputs": []
    },
    {
      "cell_type": "code",
      "source": [
        ""
      ],
      "metadata": {
        "id": "gsc_cvTtoMQS"
      },
      "execution_count": null,
      "outputs": []
    },
    {
      "cell_type": "markdown",
      "source": [
        "**Leetcode 704**: Binary Search\n",
        "\n",
        "**Description**:Given an array of integers nums which is sorted in ascending order, and an integer target, write a function to search target in nums. If target exists, then return its index. Otherwise, return -1.\n",
        "\n",
        "You must write an algorithm with O(log n) runtime complexity.\n",
        "\n",
        "**URL**:**https://leetcode.com/problems/binary-search/**"
      ],
      "metadata": {
        "id": "_JbxBQM-oORX"
      }
    },
    {
      "cell_type": "code",
      "source": [
        "class Solution:\n",
        "    def search(self, nums: List[int], target: int) -> int:\n",
        "        for val, num in enumerate(nums):\n",
        "            if num == target:\n",
        "                return val\n",
        "        else:\n",
        "            return -1"
      ],
      "metadata": {
        "id": "k3SsoC_hoMZX"
      },
      "execution_count": null,
      "outputs": []
    },
    {
      "cell_type": "code",
      "source": [
        ""
      ],
      "metadata": {
        "id": "vCrtxPTkoMdk"
      },
      "execution_count": null,
      "outputs": []
    },
    {
      "cell_type": "markdown",
      "source": [
        "**Leetcode 278**: First Bad Version\n",
        "\n",
        "**Description**: You are a product manager and currently leading a team to develop a new product. Unfortunately, the latest version of your product fails the quality check. Since each version is developed based on the previous version, all the versions after a bad version are also bad.\n",
        "\n",
        "Suppose you have n versions [1, 2, ..., n] and you want to find out the first bad one, which causes all the following ones to be bad.\n",
        "\n",
        "You are given an API bool isBadVersion(version) which returns whether version is bad. Implement a function to find the first bad version. You should minimize the number of calls to the API.\n",
        "\n",
        "**URL**:**https://leetcode.com/problems/first-bad-version/**"
      ],
      "metadata": {
        "id": "vttaoEqbxzPz"
      }
    },
    {
      "cell_type": "code",
      "source": [
        "# The isBadVersion API is already defined for you.\n",
        "# def isBadVersion(version: int) -> bool:\n",
        "\n",
        "class Solution:\n",
        "    def firstBadVersion(self, n: int) -> int:\n",
        "        left = 1\n",
        "        right = n\n",
        "\n",
        "        while left < right:\n",
        "            m = (left + right) >> 1\n",
        "            if isBadVersion(m):\n",
        "                right = m\n",
        "            else:\n",
        "                left = m + 1\n",
        "\n",
        "        return left\n"
      ],
      "metadata": {
        "id": "OtfxCZxMoMgd"
      },
      "execution_count": null,
      "outputs": []
    },
    {
      "cell_type": "code",
      "source": [
        ""
      ],
      "metadata": {
        "id": "MVyjcBy2oMkf"
      },
      "execution_count": null,
      "outputs": []
    },
    {
      "cell_type": "markdown",
      "source": [
        "**Leetcode 98**:Validate Binary Search Tree\n",
        "\n",
        "**Description**: Given the root of a binary tree, determine if it is a valid binary search tree (BST).\n",
        "\n",
        "A valid BST is defined as follows:\n",
        "\n",
        "a.The left subtree of a node contains only nodes with keys less than the node's \n",
        "key.\n",
        "\n",
        "b.The right subtree of a node contains only nodes with keys greater than the node's key.\n",
        "\n",
        "c.Both the left and right subtrees must also be binary search trees.\n",
        " \n",
        "\n",
        "**URL**:**https://leetcode.com/problems/validate-binary-search-tree/**"
      ],
      "metadata": {
        "id": "Hwbti41EaWlX"
      }
    },
    {
      "cell_type": "code",
      "source": [
        "# Definition for a binary tree node.\n",
        "# class TreeNode:\n",
        "#     def __init__(self, val=0, left=None, right=None):\n",
        "#         self.val = val\n",
        "#         self.left = left\n",
        "#         self.right = right\n",
        "class Solution:\n",
        "    def isValidBST(self, root: Optional[TreeNode]) -> bool:\n",
        "        def isValidBST(root: Optional[TreeNode],\n",
        "                   minNode: Optional[TreeNode], maxNode: Optional[TreeNode]) -> bool:\n",
        "            if not root:\n",
        "                return True\n",
        "            if minNode and root.val <= minNode.val:\n",
        "                return False\n",
        "            if maxNode and root.val >= maxNode.val:\n",
        "                return False\n",
        "\n",
        "            return isValidBST(root.left, minNode, root) and \\\n",
        "        isValidBST(root.right, root, maxNode)\n",
        "\n",
        "        return isValidBST(root, None, None)"
      ],
      "metadata": {
        "id": "SHXfn-ZboMoO"
      },
      "execution_count": null,
      "outputs": []
    },
    {
      "cell_type": "code",
      "source": [
        ""
      ],
      "metadata": {
        "id": "jgRi1V0EoM3n"
      },
      "execution_count": null,
      "outputs": []
    },
    {
      "cell_type": "markdown",
      "source": [
        "**Leetcode 235**:Lowest Common Ancestor Of A Binary Search Tree\n",
        "\n",
        "**Description**: Given a binary search tree (BST), find the lowest common ancestor (LCA) node of two given nodes in the BST.\n",
        "\n",
        "According to the definition of LCA on Wikipedia: “The lowest common ancestor is defined between two nodes p and q as the lowest node in T that has both p and q as descendants (where we allow a node to be a descendant of itself).”\n",
        "\n",
        "**URL**:**https://leetcode.com/problems/lowest-common-ancestor-of-a-binary-search-tree/**"
      ],
      "metadata": {
        "id": "TMjgXw8HccKm"
      }
    },
    {
      "cell_type": "code",
      "source": [
        "# Definition for a binary tree node.\n",
        "# class TreeNode:\n",
        "#     def __init__(self, x):\n",
        "#         self.val = x\n",
        "#         self.left = None\n",
        "#         self.right = None\n",
        "\n",
        "class Solution:\n",
        "    def lowestCommonAncestor(self, root: 'TreeNode', p: 'TreeNode', q: 'TreeNode') -> 'TreeNode':\n",
        "        if root.val > max(p.val, q.val):\n",
        "            return self.lowestCommonAncestor(root.left, p, q)\n",
        "        if root.val < min(p.val, q.val):\n",
        "            return self.lowestCommonAncestor(root.right, p, q)\n",
        "        return root\n"
      ],
      "metadata": {
        "id": "S766vjQfoM7n"
      },
      "execution_count": null,
      "outputs": []
    },
    {
      "cell_type": "code",
      "source": [
        ""
      ],
      "metadata": {
        "id": "5pPd4gORoM_Z"
      },
      "execution_count": null,
      "outputs": []
    },
    {
      "cell_type": "markdown",
      "source": [
        "**Leetcode 409**:Longest Palindrome\n",
        "\n",
        "**Description**: Given a string s which consists of lowercase or uppercase letters, return the length of the longest palindrome that can be built with those letters.\n",
        "\n",
        "Letters are case sensitive, for example, \"Aa\" is not considered a palindrome here.\n",
        "\n",
        "**URL**:**https://leetcode.com/problems/longest-palindrome/**"
      ],
      "metadata": {
        "id": "qXYuwDHqzRXK"
      }
    },
    {
      "cell_type": "code",
      "source": [
        "class Solution:\n",
        "    def longestPalindrome(self, s: str) -> int:\n",
        "        results = 0\n",
        "        count = Counter(s)\n",
        "\n",
        "        for c in count.values():\n",
        "            results += c if c % 2 == 0 else c - 1\n",
        "\n",
        "            hasOddCount = any(c % 2 == 1 for c in count.values())\n",
        "\n",
        "        return results + hasOddCount"
      ],
      "metadata": {
        "id": "YrJB5Qzrz0ax"
      },
      "execution_count": null,
      "outputs": []
    },
    {
      "cell_type": "code",
      "source": [
        ""
      ],
      "metadata": {
        "id": "MXIsXUKZ0HYm"
      },
      "execution_count": null,
      "outputs": []
    },
    {
      "cell_type": "markdown",
      "source": [
        "**Leetcode 733**: Flood Fill\n",
        "\n",
        "**Description**:An image is represented by an m x n integer grid image where image[i][j] represents the pixel value of the image.\n",
        "\n",
        "You are also given three integers sr, sc, and color. You should perform a flood fill on the image starting from the pixel image[sr][sc].\n",
        "\n",
        "To perform a flood fill, consider the starting pixel, plus any pixels connected 4-directionally to the starting pixel of the same color as the starting pixel, plus any pixels connected 4-directionally to those pixels (also with the same color), and so on. Replace the color of all of the aforementioned pixels with color.\n",
        "\n",
        "Return the modified image after performing the flood fill.\n",
        "\n",
        "**URL**:**https://leetcode.com/problems/flood-fill/**"
      ],
      "metadata": {
        "id": "XGYxJpXRnZXJ"
      }
    },
    {
      "cell_type": "code",
      "source": [
        "class Solution:\n",
        "    def floodFill(self, image: List[List[int]], sr: int, sc: int, newColor: int) -> List[List[int]]:\n",
        "        R, C = len(image), len(image[0])\n",
        "        color = image[sr][sc]\n",
        "        if color == newColor: \n",
        "            return image\n",
        "        def dfs(r, c):\n",
        "            if image[r][c] == color:\n",
        "                image[r][c] = newColor\n",
        "                if r >= 1: dfs(r-1, c)\n",
        "                if r+1 < R: dfs(r+1, c)\n",
        "                if c >= 1: dfs(r, c-1)\n",
        "                if c+1 < C: dfs(r, c+1)\n",
        "\n",
        "        dfs(sr, sc)\n",
        "        return image\n",
        "        "
      ],
      "metadata": {
        "id": "W6WYiW1F0HVk"
      },
      "execution_count": null,
      "outputs": []
    },
    {
      "cell_type": "code",
      "source": [
        ""
      ],
      "metadata": {
        "id": "WZhwJOcQ0HSV"
      },
      "execution_count": null,
      "outputs": []
    },
    {
      "cell_type": "markdown",
      "source": [
        "**Leetcode 509**: Fibonacci Number\n",
        "\n",
        "**Description**:The Fibonacci numbers, commonly denoted F(n) form a sequence, called the Fibonacci sequence, such that each number is the sum of the two preceding ones, starting from 0 and 1. That is,\n",
        "\n",
        "F(0) = 0, F(1) = 1\n",
        "F(n) = F(n - 1) + F(n - 2), for n > 1.\n",
        "Given n, calculate F(n).\n",
        "\n",
        "\n",
        "**URL**:**https://leetcode.com/problems/fibonacci-number/**"
      ],
      "metadata": {
        "id": "jKEZzlz2vHLJ"
      }
    },
    {
      "cell_type": "code",
      "source": [
        "class Solution:\n",
        "    def fib(self, n: int) -> int:\n",
        "        if n < 2:\n",
        "            return n\n",
        "\n",
        "        dp = [0, 0, 1]\n",
        "\n",
        "        for i in range(2, n + 1):\n",
        "            dp[0] = dp[1]\n",
        "            dp[1] = dp[2]\n",
        "            dp[2] = dp[0] + dp[1]\n",
        "\n",
        "        return dp[2]\n",
        "\n",
        "  #OR\n",
        "\n",
        "class Solution:\n",
        "  def fib(self, n: int) -> int:\n",
        "    results = 0\n",
        "    if (n < 2):\n",
        "      return n\n",
        "    return self.fib(n-1) + self.fib(n-2)\n",
        "         "
      ],
      "metadata": {
        "id": "GJL9JnMQ0HPG"
      },
      "execution_count": null,
      "outputs": []
    },
    {
      "cell_type": "code",
      "source": [
        ""
      ],
      "metadata": {
        "id": "UnK0ZSVU0HLt"
      },
      "execution_count": null,
      "outputs": []
    },
    {
      "cell_type": "markdown",
      "source": [
        "**Leetcode 70**: Climbing Stairs\n",
        "\n",
        "**Description**:You are climbing a staircase. It takes n steps to reach the top.\n",
        "\n",
        "Each time you can either climb 1 or 2 steps. In how many distinct ways can you climb to the top?\n",
        "\n",
        " \n",
        "**URL**:**https://leetcode.com/problems/climbing-stairs/**"
      ],
      "metadata": {
        "id": "X0AxZP3euPjW"
      }
    },
    {
      "cell_type": "code",
      "source": [
        "class Solution:\n",
        "    def climbStairs(self, n: int) -> int:\n",
        "        if n <= 3:\n",
        "            return n\n",
        "        n1, n2 = 2, 3\n",
        "\n",
        "        for i in range(4, n + 1):\n",
        "            temp = n1 + n2\n",
        "            n1 = n2\n",
        "            n2 = temp\n",
        "        return n2"
      ],
      "metadata": {
        "id": "qOl3zVsQ0HIb"
      },
      "execution_count": null,
      "outputs": []
    },
    {
      "cell_type": "code",
      "source": [
        ""
      ],
      "metadata": {
        "id": "ry8LWFth0HFN"
      },
      "execution_count": null,
      "outputs": []
    },
    {
      "cell_type": "code",
      "source": [
        ""
      ],
      "metadata": {
        "id": "980pPca20HB7"
      },
      "execution_count": null,
      "outputs": []
    },
    {
      "cell_type": "code",
      "source": [
        ""
      ],
      "metadata": {
        "id": "n07M8cDc0G5N"
      },
      "execution_count": null,
      "outputs": []
    },
    {
      "cell_type": "code",
      "source": [
        ""
      ],
      "metadata": {
        "id": "UcLNT02A0G19"
      },
      "execution_count": null,
      "outputs": []
    }
  ]
}