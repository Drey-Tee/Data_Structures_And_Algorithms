{
  "nbformat": 4,
  "nbformat_minor": 0,
  "metadata": {
    "colab": {
      "name": "Leetcode_75.ipynb",
      "provenance": [],
      "authorship_tag": "ABX9TyMpW+uSibFk24icyF/CSkGX",
      "include_colab_link": true
    },
    "kernelspec": {
      "name": "python3",
      "display_name": "Python 3"
    },
    "language_info": {
      "name": "python"
    }
  },
  "cells": [
    {
      "cell_type": "markdown",
      "metadata": {
        "id": "view-in-github",
        "colab_type": "text"
      },
      "source": [
        "<a href=\"https://colab.research.google.com/github/Drey-Tee/Data_Structures_And_Algorithms/blob/main/Leetcode_75.ipynb\" target=\"_parent\"><img src=\"https://colab.research.google.com/assets/colab-badge.svg\" alt=\"Open In Colab\"/></a>"
      ]
    },
    {
      "cell_type": "markdown",
      "source": [
        "**Leetcode 1480**: Running Sum of 1d Array\n",
        "\n",
        "**Description**:Given an array nums. We define a running sum of an array as runningSum[i] = sum(nums[0]…nums[i]).\n",
        "\n",
        "Return the running sum of nums.\n",
        "\n",
        " \n",
        "**URL**:**https://leetcode.com/problems/running-sum-of-1d-array/**"
      ],
      "metadata": {
        "id": "BfG8DMpQxRw3"
      }
    },
    {
      "cell_type": "code",
      "source": [
        ""
      ],
      "metadata": {
        "id": "NCg1BgKwdrWf"
      },
      "execution_count": null,
      "outputs": []
    },
    {
      "cell_type": "code",
      "execution_count": null,
      "metadata": {
        "id": "jOq2PXLlvQHG"
      },
      "outputs": [],
      "source": [
        "class Solution:\n",
        "    def runningSum(self, nums: List[int]) -> List[int]:\n",
        "    # accumulate(an in-built library) is used to make an iterator return accumulated sums.\n",
        "        return list(accumulate(nums))"
      ]
    },
    {
      "cell_type": "code",
      "source": [
        ""
      ],
      "metadata": {
        "id": "DeiUHhhU36R7"
      },
      "execution_count": null,
      "outputs": []
    },
    {
      "cell_type": "markdown",
      "source": [
        "**Leetcode 724**: Find Pivot Index\n",
        "\n",
        "**Description**:Given an array of integers nums, calculate the pivot index of this array.\n",
        "\n",
        "The pivot index is the index where the sum of all the numbers strictly to the left of the index is equal to the sum of all the numbers strictly to the index's right.\n",
        "\n",
        "If the index is on the left edge of the array, then the left sum is 0 because there are no elements to the left. This also applies to the right edge of the array.\n",
        "\n",
        "Return the leftmost pivot index. If no such index exists, return -1.\n",
        "\n",
        " \n",
        "**URL**:**https://leetcode.com/problems/find-pivot-index/**"
      ],
      "metadata": {
        "id": "FiFgvII5xQmM"
      }
    },
    {
      "cell_type": "code",
      "source": [
        "class Solution:\n",
        "    def pivotIndex(self, nums: List[int]) -> int:\n",
        "        S = sum(nums)\n",
        "        leftsum = 0\n",
        "        for i, x in enumerate(nums):\n",
        "            if leftsum == (S - leftsum - x):\n",
        "                return i\n",
        "            leftsum += x\n",
        "        return -1\n",
        "        "
      ],
      "metadata": {
        "id": "zbsJN3Dm4aez"
      },
      "execution_count": null,
      "outputs": []
    },
    {
      "cell_type": "code",
      "source": [
        ""
      ],
      "metadata": {
        "id": "5hcNRI83dvZR"
      },
      "execution_count": null,
      "outputs": []
    },
    {
      "cell_type": "markdown",
      "source": [
        "**Leetcode 392**: Is Subsequence\n",
        "\n",
        "**Description**:Given two strings s and t, return true if s is a subsequence of t, or false otherwise.\n",
        "\n",
        "A subsequence of a string is a new string that is formed from the original string by deleting some (can be none) of the characters without disturbing the relative positions of the remaining characters. (i.e., \"ace\" is a subsequence of \"abcde\" while \"aec\" is not).\n",
        "\n",
        " \n",
        " \n",
        "**URL**:**https://leetcode.com/problems/is-subsequence/**"
      ],
      "metadata": {
        "id": "gbrBEur8dw1E"
      }
    },
    {
      "cell_type": "code",
      "source": [
        "lass Solution:\n",
        "    def isSubsequence(self, s: str, t: str) -> bool:\n",
        "        if s == '':\n",
        "            return True\n",
        "        for k in s:\n",
        "            if k not in t:\n",
        "                return False\n",
        "            i = t.index(k)\n",
        "            t = t[i+1:]\n",
        "        return True"
      ],
      "metadata": {
        "id": "HLzeTWFqdvdd"
      },
      "execution_count": null,
      "outputs": []
    },
    {
      "cell_type": "code",
      "source": [
        ""
      ],
      "metadata": {
        "id": "XNCdr_h3dvhZ"
      },
      "execution_count": null,
      "outputs": []
    },
    {
      "cell_type": "markdown",
      "source": [
        "**Leetcode 205**: Isomorphic Strings\n",
        "\n",
        "**Description**:Given two strings s and t, determine if they are isomorphic.\n",
        "\n",
        "Two strings s and t are isomorphic if the characters in s can be replaced to get t.\n",
        "\n",
        "All occurrences of a character must be replaced with another character while preserving the order of characters. No two characters may map to the same character, but a character may map to itself.\n",
        " \n",
        "**URL**:**https://leetcode.com/problems/isomorphic-strings/**"
      ],
      "metadata": {
        "id": "v4OeuqlFd-p6"
      }
    },
    {
      "cell_type": "code",
      "source": [
        "class Solution:\n",
        "    def isIsomorphic(self, s: str, t: str) -> bool:\n",
        "            return [*map(s.index, s)] == [*map(t.index, t)]\n"
      ],
      "metadata": {
        "id": "FqNDpSQLdvk_"
      },
      "execution_count": null,
      "outputs": []
    },
    {
      "cell_type": "code",
      "source": [
        ""
      ],
      "metadata": {
        "id": "WliMIFatdvoQ"
      },
      "execution_count": null,
      "outputs": []
    },
    {
      "cell_type": "markdown",
      "source": [
        "**Leetcode 876**: Middle of The Linked List\n",
        "\n",
        "**Description**:Given the head of a singly linked list, return the middle node of the linked list.\n",
        "\n",
        "If there are two middle nodes, return the second middle node.\n",
        " \n",
        "**URL**:**https://leetcode.com/problems/middle-of-the-linked-list/**"
      ],
      "metadata": {
        "id": "5WFQMgoKouJu"
      }
    },
    {
      "cell_type": "code",
      "source": [
        "# Definition for singly-linked list.\n",
        "# class ListNode:\n",
        "#     def __init__(self, val=0, next=None):\n",
        "#         self.val = val\n",
        "#         self.next = next\n",
        "class Solution:\n",
        "    def middleNode(self, head: Optional[ListNode]) -> Optional[ListNode]:\n",
        "        init = head\n",
        "        final = head\n",
        "        while final and final.next:\n",
        "            init = init.next\n",
        "            final = final.next.next\n",
        "        return init"
      ],
      "metadata": {
        "id": "8EZFrVZPdvrw"
      },
      "execution_count": null,
      "outputs": []
    },
    {
      "cell_type": "code",
      "source": [
        ""
      ],
      "metadata": {
        "id": "f12TxaR4dvvj"
      },
      "execution_count": null,
      "outputs": []
    },
    {
      "cell_type": "markdown",
      "source": [
        "**Leetcode 142**: Linked List Cycle II\n",
        "\n",
        "**Description**:Given the head of a linked list, return the node where the cycle begins. If there is no cycle, return null.\n",
        "\n",
        "There is a cycle in a linked list if there is some node in the list that can be reached again by continuously following the next pointer. Internally, pos is used to denote the index of the node that tail's next pointer is connected to (0-indexed). It is -1 if there is no cycle. Note that pos is not passed as a parameter.\n",
        "\n",
        "Do not modify the linked list.\n",
        " \n",
        "**URL**:**https://https://leetcode.com/problems/linked-list-cycle-ii/**"
      ],
      "metadata": {
        "id": "4EKyWcAkoo6T"
      }
    },
    {
      "cell_type": "code",
      "source": [
        "# Definition for singly-linked list.\n",
        "# class ListNode:\n",
        "#     def __init__(self, x):\n",
        "#         self.val = x\n",
        "#         self.next = None\n",
        "\n",
        "class Solution:\n",
        "    def detectCycle(self, head: Optional[ListNode]) -> Optional[ListNode]:\n",
        "         node_dict = {}\n",
        "\t\t\n",
        "         while head:\n",
        "\t\t\t# if node is not in dict, add it.\n",
        "            if head not in node_dict:\n",
        "                node_dict[head] = 'visited'\n",
        "\t\t\t# our node is in dict, so we have seen this node and this node is the start point of our cycle.\n",
        "            else:\n",
        "                return head\n",
        "\t\t\t# go to next node\n",
        "            head = head.next\n",
        "        # return None if there is no cycle.\n",
        "         return None"
      ],
      "metadata": {
        "id": "-JYKKbLrdvzc"
      },
      "execution_count": null,
      "outputs": []
    },
    {
      "cell_type": "code",
      "source": [
        ""
      ],
      "metadata": {
        "id": "m3utFH_Qdv2t"
      },
      "execution_count": null,
      "outputs": []
    },
    {
      "cell_type": "markdown",
      "source": [
        "**Leetcode 102**: Binary Tree Level Order Traversal\n",
        "\n",
        "**Description**:Given the root of a binary tree, return the level order traversal of its nodes' values. (i.e., from left to right, level by level).\n",
        " \n",
        "**URL**:**https://leetcode.com/problems/binary-tree-level-order-traversal/**"
      ],
      "metadata": {
        "id": "eScJpEYpXuiT"
      }
    },
    {
      "cell_type": "code",
      "source": [
        "# Definition for a binary tree node.\n",
        "# class TreeNode:\n",
        "#     def __init__(self, val=0, left=None, right=None):\n",
        "#         self.val = val\n",
        "#         self.left = left\n",
        "#         self.right = right\n",
        "class Solution:\n",
        "    def levelOrder(self, root: Optional[TreeNode]) -> List[List[int]]:\n",
        "        if not root:\n",
        "            return []\n",
        "\n",
        "        ans = []\n",
        "        q = deque([root])\n",
        "\n",
        "        while q:\n",
        "            currLevel = []\n",
        "            for _ in range(len(q)):\n",
        "                node = q.popleft()\n",
        "                currLevel.append(node.val)\n",
        "                if node.left:\n",
        "                    q.append(node.left)\n",
        "                if node.right:\n",
        "                    q.append(node.right)\n",
        "            ans.append(currLevel)\n",
        "\n",
        "        return ans"
      ],
      "metadata": {
        "id": "Tle-gJM1XvmZ"
      },
      "execution_count": null,
      "outputs": []
    },
    {
      "cell_type": "code",
      "source": [
        ""
      ],
      "metadata": {
        "id": "gsc_cvTtoMQS"
      },
      "execution_count": null,
      "outputs": []
    },
    {
      "cell_type": "markdown",
      "source": [
        "**Leetcode 704**: Binary Search\n",
        "\n",
        "**Description**:Given an array of integers nums which is sorted in ascending order, and an integer target, write a function to search target in nums. If target exists, then return its index. Otherwise, return -1.\n",
        "\n",
        "You must write an algorithm with O(log n) runtime complexity.\n",
        "\n",
        "**URL**:**https://leetcode.com/problems/binary-search/**"
      ],
      "metadata": {
        "id": "_JbxBQM-oORX"
      }
    },
    {
      "cell_type": "code",
      "source": [
        "class Solution:\n",
        "    def search(self, nums: List[int], target: int) -> int:\n",
        "        for val, num in enumerate(nums):\n",
        "            if num == target:\n",
        "                return val\n",
        "        else:\n",
        "            return -1"
      ],
      "metadata": {
        "id": "k3SsoC_hoMZX"
      },
      "execution_count": null,
      "outputs": []
    },
    {
      "cell_type": "code",
      "source": [
        ""
      ],
      "metadata": {
        "id": "vCrtxPTkoMdk"
      },
      "execution_count": null,
      "outputs": []
    },
    {
      "cell_type": "code",
      "source": [
        ""
      ],
      "metadata": {
        "id": "OtfxCZxMoMgd"
      },
      "execution_count": null,
      "outputs": []
    },
    {
      "cell_type": "code",
      "source": [
        ""
      ],
      "metadata": {
        "id": "MVyjcBy2oMkf"
      },
      "execution_count": null,
      "outputs": []
    },
    {
      "cell_type": "code",
      "source": [
        ""
      ],
      "metadata": {
        "id": "SHXfn-ZboMoO"
      },
      "execution_count": null,
      "outputs": []
    },
    {
      "cell_type": "code",
      "source": [
        ""
      ],
      "metadata": {
        "id": "jgRi1V0EoM3n"
      },
      "execution_count": null,
      "outputs": []
    },
    {
      "cell_type": "code",
      "source": [
        ""
      ],
      "metadata": {
        "id": "S766vjQfoM7n"
      },
      "execution_count": null,
      "outputs": []
    },
    {
      "cell_type": "code",
      "source": [
        ""
      ],
      "metadata": {
        "id": "5pPd4gORoM_Z"
      },
      "execution_count": null,
      "outputs": []
    }
  ]
}