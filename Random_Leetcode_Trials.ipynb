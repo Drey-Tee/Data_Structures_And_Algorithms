{
  "nbformat": 4,
  "nbformat_minor": 0,
  "metadata": {
    "colab": {
      "name": "Random Leetcode Trials",
      "provenance": [],
      "authorship_tag": "ABX9TyOlYL0wWha2i4eCoGceFYF6",
      "include_colab_link": true
    },
    "kernelspec": {
      "name": "python3",
      "display_name": "Python 3"
    },
    "language_info": {
      "name": "python"
    }
  },
  "cells": [
    {
      "cell_type": "markdown",
      "metadata": {
        "id": "view-in-github",
        "colab_type": "text"
      },
      "source": [
        "<a href=\"https://colab.research.google.com/github/Drey-Tee/Data_Structures_And_Algorithms/blob/main/Random_Leetcode_Trials.ipynb\" target=\"_parent\"><img src=\"https://colab.research.google.com/assets/colab-badge.svg\" alt=\"Open In Colab\"/></a>"
      ]
    },
    {
      "cell_type": "markdown",
      "source": [
        "**Leetcode 242**: Valid Anagram\n",
        "\n",
        "**Description**: Given two strings s and t, return true if t is an anagram of s, and false otherwise.\n",
        "An Anagram is a word or phrase formed by rearranging the letters of a different word or phrase, typically using all the original letters exactly once.\n",
        "\n",
        "**URL**: **https://leetcode.com/problems/valid-anagram/**\n"
      ],
      "metadata": {
        "id": "3ycpTqYthPLR"
      }
    },
    {
      "cell_type": "code",
      "execution_count": null,
      "metadata": {
        "colab": {
          "base_uri": "https://localhost:8080/"
        },
        "id": "rJmzktusIAdc",
        "outputId": "b248379e-455f-40e1-f9db-102f3135ea88"
      },
      "outputs": [
        {
          "output_type": "execute_result",
          "data": {
            "text/plain": [
              "True"
            ]
          },
          "metadata": {},
          "execution_count": 17
        }
      ],
      "source": [
        "s = \"arc\"\n",
        "t = \"car\"\n",
        "def isAnagram(s, t):\n",
        "  if sorted(s) == sorted(t):\n",
        "    return True\n",
        "  else:\n",
        "    return False\n",
        "\n",
        "isAnagram(s,t)\n"
      ]
    },
    {
      "cell_type": "code",
      "source": [
        ""
      ],
      "metadata": {
        "id": "_ol7Ljxm_0ej"
      },
      "execution_count": null,
      "outputs": []
    }
  ]
}