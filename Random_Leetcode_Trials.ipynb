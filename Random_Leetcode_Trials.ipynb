{
  "nbformat": 4,
  "nbformat_minor": 0,
  "metadata": {
    "colab": {
      "name": "Random Leetcode Trials",
      "provenance": [],
      "authorship_tag": "ABX9TyPqeT+uCyONrNEQlOJ2vGkT",
      "include_colab_link": true
    },
    "kernelspec": {
      "name": "python3",
      "display_name": "Python 3"
    },
    "language_info": {
      "name": "python"
    }
  },
  "cells": [
    {
      "cell_type": "markdown",
      "metadata": {
        "id": "view-in-github",
        "colab_type": "text"
      },
      "source": [
        "<a href=\"https://colab.research.google.com/github/Drey-Tee/Data_Structures_And_Algorithms/blob/main/Random_Leetcode_Trials.ipynb\" target=\"_parent\"><img src=\"https://colab.research.google.com/assets/colab-badge.svg\" alt=\"Open In Colab\"/></a>"
      ]
    },
    {
      "cell_type": "markdown",
      "source": [
        "**Leetcode 242**: Valid Anagram\n",
        "\n",
        "**Description**: Given two strings s and t, return true if t is an anagram of s, and false otherwise.\n",
        "An Anagram is a word or phrase formed by rearranging the letters of a different word or phrase, typically using all the original letters exactly once.\n",
        "\n",
        "**URL**: **https://leetcode.com/problems/valid-anagram/**\n"
      ],
      "metadata": {
        "id": "3ycpTqYthPLR"
      }
    },
    {
      "cell_type": "code",
      "execution_count": null,
      "metadata": {
        "colab": {
          "base_uri": "https://localhost:8080/"
        },
        "id": "rJmzktusIAdc",
        "outputId": "b248379e-455f-40e1-f9db-102f3135ea88"
      },
      "outputs": [
        {
          "output_type": "execute_result",
          "data": {
            "text/plain": [
              "True"
            ]
          },
          "metadata": {},
          "execution_count": 17
        }
      ],
      "source": [
        "s = \"arc\"\n",
        "t = \"car\"\n",
        "def isAnagram(s, t):\n",
        "  if sorted(s) == sorted(t):\n",
        "    return True\n",
        "  else:\n",
        "    return False\n",
        "\n",
        "isAnagram(s,t)\n"
      ]
    },
    {
      "cell_type": "code",
      "source": [
        ""
      ],
      "metadata": {
        "id": "4bazzBW0YXlj"
      },
      "execution_count": null,
      "outputs": []
    },
    {
      "cell_type": "markdown",
      "source": [
        "**Leetcode 136**: Single Number\n",
        "\n",
        "**Description**: Given a non-empty array of integers nums, every element appears twice except for one. Find that single one.\n",
        "You must implement a solution with a linear runtime complexity and use only constant extra space.\n",
        "\n",
        "**URL**:**https://leetcode.com/problems/single-number/**"
      ],
      "metadata": {
        "id": "RkZxy9_pYYvz"
      }
    },
    {
      "cell_type": "code",
      "source": [
        "nums = [2,2,1]\n",
        "def singleNumber(nums):\n",
        "  results = 0\n",
        "  for i in nums:\n",
        "    results ^= i\n",
        "  return results\n",
        "\n",
        "singleNumber(nums)"
      ],
      "metadata": {
        "colab": {
          "base_uri": "https://localhost:8080/"
        },
        "id": "QyONo9xn_0v1",
        "outputId": "05c76fb3-4d52-44c8-ed30-3feb2e3ceba5"
      },
      "execution_count": null,
      "outputs": [
        {
          "output_type": "execute_result",
          "data": {
            "text/plain": [
              "1"
            ]
          },
          "metadata": {},
          "execution_count": 14
        }
      ]
    },
    {
      "cell_type": "code",
      "source": [
        ""
      ],
      "metadata": {
        "id": "tM4ZE0jnyL66"
      },
      "execution_count": null,
      "outputs": []
    },
    {
      "cell_type": "markdown",
      "source": [
        "**Leetcode 268**: Missing Number\n",
        "\n",
        "**Description**: Given an array nums containing n distinct numbers in the range [0, n], return the only number in the range that is missing from the array.\n",
        "\n",
        "**URL**:**https://leetcode.com/problems/missing-number/**"
      ],
      "metadata": {
        "id": "PfyuxxUHyPhw"
      }
    },
    {
      "cell_type": "code",
      "source": [
        "class Solution:\n",
        "    def missingNumber(self, nums: List[int]) -> int:\n",
        "        results = len(nums)\n",
        "        \n",
        "        for i,num in enumerate(nums):\n",
        "            results ^= i ^ num\n",
        "        return results"
      ],
      "metadata": {
        "id": "K63ndH5gyL_w"
      },
      "execution_count": null,
      "outputs": []
    },
    {
      "cell_type": "markdown",
      "source": [
        "**Time Complexity**: O(n)\n",
        "\n",
        "**Space Complexity**: O(1)"
      ],
      "metadata": {
        "id": "AIxpxnvTzK_k"
      }
    },
    {
      "cell_type": "code",
      "source": [
        ""
      ],
      "metadata": {
        "id": "F3mLtpzGyMDT"
      },
      "execution_count": null,
      "outputs": []
    },
    {
      "cell_type": "code",
      "source": [
        ""
      ],
      "metadata": {
        "id": "_kYY0p1PyMGr"
      },
      "execution_count": null,
      "outputs": []
    },
    {
      "cell_type": "code",
      "source": [
        ""
      ],
      "metadata": {
        "id": "AS-uE-hWyMLA"
      },
      "execution_count": null,
      "outputs": []
    },
    {
      "cell_type": "code",
      "source": [
        ""
      ],
      "metadata": {
        "id": "jQJBDTBuyMOI"
      },
      "execution_count": null,
      "outputs": []
    },
    {
      "cell_type": "code",
      "source": [
        ""
      ],
      "metadata": {
        "id": "WzQyo6H9yMSJ"
      },
      "execution_count": null,
      "outputs": []
    }
  ]
}