{
  "nbformat": 4,
  "nbformat_minor": 0,
  "metadata": {
    "colab": {
      "name": "Random Leetcode Trials",
      "provenance": [],
      "authorship_tag": "ABX9TyN9hbimUkLGv7fGS/W/BrM8",
      "include_colab_link": true
    },
    "kernelspec": {
      "name": "python3",
      "display_name": "Python 3"
    },
    "language_info": {
      "name": "python"
    }
  },
  "cells": [
    {
      "cell_type": "markdown",
      "metadata": {
        "id": "view-in-github",
        "colab_type": "text"
      },
      "source": [
        "<a href=\"https://colab.research.google.com/github/Drey-Tee/Data_Structures_And_Algorithms/blob/main/Random_Leetcode_Trials.ipynb\" target=\"_parent\"><img src=\"https://colab.research.google.com/assets/colab-badge.svg\" alt=\"Open In Colab\"/></a>"
      ]
    },
    {
      "cell_type": "markdown",
      "source": [
        "**Leetcode 242**: Valid Anagram\n",
        "\n",
        "**Description**: Given two strings s and t, return true if t is an anagram of s, and false otherwise.\n",
        "An Anagram is a word or phrase formed by rearranging the letters of a different word or phrase, typically using all the original letters exactly once.\n",
        "\n",
        "**URL**: **https://leetcode.com/problems/valid-anagram/**\n"
      ],
      "metadata": {
        "id": "3ycpTqYthPLR"
      }
    },
    {
      "cell_type": "code",
      "execution_count": null,
      "metadata": {
        "colab": {
          "base_uri": "https://localhost:8080/"
        },
        "id": "rJmzktusIAdc",
        "outputId": "b248379e-455f-40e1-f9db-102f3135ea88"
      },
      "outputs": [
        {
          "output_type": "execute_result",
          "data": {
            "text/plain": [
              "True"
            ]
          },
          "metadata": {},
          "execution_count": 17
        }
      ],
      "source": [
        "s = \"arc\"\n",
        "t = \"car\"\n",
        "def isAnagram(s, t):\n",
        "  if sorted(s) == sorted(t):\n",
        "    return True\n",
        "  else:\n",
        "    return False\n",
        "\n",
        "isAnagram(s,t)\n"
      ]
    },
    {
      "cell_type": "code",
      "source": [
        ""
      ],
      "metadata": {
        "id": "4bazzBW0YXlj"
      },
      "execution_count": null,
      "outputs": []
    },
    {
      "cell_type": "markdown",
      "source": [
        "**Leetcode 136**: Single Number\n",
        "\n",
        "**Description**: Given a non-empty array of integers nums, every element appears twice except for one. Find that single one.\n",
        "You must implement a solution with a linear runtime complexity and use only constant extra space.\n",
        "\n",
        "**URL**:**https://leetcode.com/problems/single-number/**"
      ],
      "metadata": {
        "id": "RkZxy9_pYYvz"
      }
    },
    {
      "cell_type": "code",
      "source": [
        "nums = [2,2,1]\n",
        "def singleNumber(nums):\n",
        "  results = 0\n",
        "  for i in nums:\n",
        "    results ^= i\n",
        "  return results\n",
        "\n",
        "singleNumber(nums)"
      ],
      "metadata": {
        "colab": {
          "base_uri": "https://localhost:8080/"
        },
        "id": "QyONo9xn_0v1",
        "outputId": "05c76fb3-4d52-44c8-ed30-3feb2e3ceba5"
      },
      "execution_count": null,
      "outputs": [
        {
          "output_type": "execute_result",
          "data": {
            "text/plain": [
              "1"
            ]
          },
          "metadata": {},
          "execution_count": 14
        }
      ]
    },
    {
      "cell_type": "code",
      "source": [
        ""
      ],
      "metadata": {
        "id": "tM4ZE0jnyL66"
      },
      "execution_count": null,
      "outputs": []
    },
    {
      "cell_type": "markdown",
      "source": [
        "**Leetcode 268**: Missing Number\n",
        "\n",
        "**Description**: Given an array nums containing n distinct numbers in the range [0, n], return the only number in the range that is missing from the array.\n",
        "\n",
        "**URL**:**https://leetcode.com/problems/missing-number/**"
      ],
      "metadata": {
        "id": "PfyuxxUHyPhw"
      }
    },
    {
      "cell_type": "code",
      "source": [
        "class Solution:\n",
        "    def missingNumber(self, nums: List[int]) -> int:\n",
        "        results = len(nums)\n",
        "        \n",
        "        for i,num in enumerate(nums):\n",
        "            results ^= i ^ num\n",
        "        return results"
      ],
      "metadata": {
        "id": "K63ndH5gyL_w"
      },
      "execution_count": null,
      "outputs": []
    },
    {
      "cell_type": "markdown",
      "source": [
        "**Time Complexity**: O(n)\n",
        "\n",
        "**Space Complexity**: O(1)"
      ],
      "metadata": {
        "id": "AIxpxnvTzK_k"
      }
    },
    {
      "cell_type": "code",
      "source": [
        ""
      ],
      "metadata": {
        "id": "F3mLtpzGyMDT"
      },
      "execution_count": null,
      "outputs": []
    },
    {
      "cell_type": "markdown",
      "source": [
        "**Leetcode 9**: Palindrome Number\n",
        "\n",
        "**Description**: Given an integer x, return true if x is palindrome integer.\n",
        "An integer is a palindrome when it reads the same backward as forward.\n",
        "For example, 121 is a palindrome while 123 is not.\n",
        "\n",
        "**URL**:**https://leetcode.com/problems/palindrome-number/**"
      ],
      "metadata": {
        "id": "uky6NPRf1ofF"
      }
    },
    {
      "cell_type": "code",
      "source": [
        "class Solution:\n",
        "    def isPalindrome(self, x: int) -> bool:\n",
        "        if x < 0:\n",
        "            return False\n",
        "\n",
        "        reverse = 0\n",
        "        y = x\n",
        "\n",
        "        while y:\n",
        "            reverse = reverse * 10 + y % 10\n",
        "            y //= 10\n",
        "\n",
        "        return reverse == x"
      ],
      "metadata": {
        "id": "_kYY0p1PyMGr"
      },
      "execution_count": null,
      "outputs": []
    },
    {
      "cell_type": "markdown",
      "source": [
        "**Time Complexity**: O(logx)\n",
        "\n",
        "**Space Complexity**: O(logx)"
      ],
      "metadata": {
        "id": "XQkcOeqj2ds1"
      }
    },
    {
      "cell_type": "code",
      "source": [
        ""
      ],
      "metadata": {
        "id": "AS-uE-hWyMLA"
      },
      "execution_count": null,
      "outputs": []
    },
    {
      "cell_type": "markdown",
      "source": [
        "**Leetcode 26**: Remove Duplicates From Array\n",
        "\n",
        "**Description**: Given an integer array nums sorted in non-decreasing order, remove the duplicates in-place such that each unique element appears only once. The relative order of the elements should be kept the same.\n",
        "Since it is impossible to change the length of the array in some languages, you must instead have the result be placed in the first part of the array nums. More formally, if there are k elements after removing the duplicates, then the first k elements of nums should hold the final result. It does not matter what you leave beyond the first k elements.\n",
        "Return k after placing the final result in the first k slots of nums.\n",
        "Do not allocate extra space for another array. You must do this by modifying the input array in-place with O(1) extra memory.\n",
        "\n",
        "**URL**:**https://leetcode.com/problems/remove-duplicates-from-sorted-array/**"
      ],
      "metadata": {
        "id": "ZzD-QafP7LYa"
      }
    },
    {
      "cell_type": "code",
      "source": [
        "class Solution:\n",
        "    def removeDuplicates(self, nums: List[int]) -> int:\n",
        "        i = 0\n",
        "\n",
        "        for num in nums:\n",
        "            if i < 1 or num > nums[i - 1]:\n",
        "                nums[i] = num\n",
        "                i += 1\n",
        "\n",
        "        return i"
      ],
      "metadata": {
        "id": "jQJBDTBuyMOI"
      },
      "execution_count": null,
      "outputs": []
    },
    {
      "cell_type": "markdown",
      "source": [
        "**Time Complexity**: O(n)\n",
        "\n",
        "**Space Complexity**: O(1)"
      ],
      "metadata": {
        "id": "VH7nUPbL8AB8"
      }
    },
    {
      "cell_type": "code",
      "source": [
        ""
      ],
      "metadata": {
        "id": "WzQyo6H9yMSJ"
      },
      "execution_count": null,
      "outputs": []
    },
    {
      "cell_type": "markdown",
      "source": [
        "**Leetcode 196**: Delete Duplicate Emails-SQL\n",
        "\n",
        "**Description**: \n",
        "\n",
        "+-------------+---------+\n",
        "\n",
        "| Column Name | Type    |\n",
        "\n",
        "+-------------+---------+\n",
        "\n",
        "| id          | int     |\n",
        "\n",
        "\n",
        "| email       | varchar |\n",
        "\n",
        "+-------------+---------+\n",
        "\n",
        "id is the primary key column for this table.\n",
        "Each row of this table contains an email. The emails will not contain uppercase letters.\n",
        "Write an SQL query to delete all the duplicate emails, keeping only one unique email with the smallest id. Note that you are supposed to write a DELETE statement and not a SELECT one.\n",
        "After running your script, the answer shown is the Person table. The driver will first compile and run your piece of code and then show the Person table. The final order of the Person table does not matter.\n",
        "The query result format is in the following example.\n",
        "\n",
        "\n",
        "**URL**:**https://leetcode.com/problems/delete-duplicate-emails/**"
      ],
      "metadata": {
        "id": "YytqzNiuX9uQ"
      }
    },
    {
      "cell_type": "code",
      "source": [
        "# Please write a DELETE statement and DO NOT write a SELECT statement.\n",
        "# Write your MySQL query statement below\n",
        "DELETE tb1\n",
        "FROM Person as tb1, Person as tb2\n",
        "WHERE tb1.Email = tb2.Email AND tb1.Id > tb2.Id;"
      ],
      "metadata": {
        "id": "HegL1tgRX7Zt"
      },
      "execution_count": null,
      "outputs": []
    },
    {
      "cell_type": "code",
      "source": [
        ""
      ],
      "metadata": {
        "id": "Q-JnnzFlX7K1"
      },
      "execution_count": null,
      "outputs": []
    },
    {
      "cell_type": "markdown",
      "source": [
        "**Leetcode 66**: Plus One\n",
        "\n",
        "**Description**: You are given a large integer represented as an integer array digits, where each digits[i] is the ith digit of the integer. The digits are ordered from most significant to least significant in left-to-right order. The large integer does not contain any leading 0's.\n",
        "\n",
        "Increment the large integer by one and return the resulting array of digits.\n",
        "\n",
        "**URL**:**https://leetcode.com/problems/plus-one/**"
      ],
      "metadata": {
        "id": "Iy26BLRB6SAM"
      }
    },
    {
      "cell_type": "code",
      "source": [
        "class Solution:\n",
        "    def plusOne(self, digits: List[int]) -> List[int]:\n",
        "                return [int(x) for x in str(int(\"\".join(map(str, digits))) + 1)]"
      ],
      "metadata": {
        "id": "KgH12BRFX61s"
      },
      "execution_count": null,
      "outputs": []
    },
    {
      "cell_type": "code",
      "source": [
        ""
      ],
      "metadata": {
        "id": "iaSk6H3ZX6Xt"
      },
      "execution_count": null,
      "outputs": []
    },
    {
      "cell_type": "markdown",
      "source": [
        "**Leetcode 50**: Pow(x,n)\n",
        "\n",
        "**Description**: Implement pow(x, n), which calculates x raised to the power n (i.e., xn).\n",
        "\n",
        "**URL**:**https://leetcode.com/problems/powx-n/**"
      ],
      "metadata": {
        "id": "nLcWBrHo7Rmw"
      }
    },
    {
      "cell_type": "code",
      "source": [
        "class Solution:\n",
        "    def myPow(self, x: float, n: int) -> float:\n",
        "        return x**n\n",
        "        "
      ],
      "metadata": {
        "id": "ReOjtkEHX6I_"
      },
      "execution_count": null,
      "outputs": []
    },
    {
      "cell_type": "code",
      "source": [
        ""
      ],
      "metadata": {
        "id": "C52fCjQSExnZ"
      },
      "execution_count": null,
      "outputs": []
    },
    {
      "cell_type": "markdown",
      "source": [
        "**Leetcode 49**: Group Anagrams\n",
        "\n",
        "**Description**: Given an array of strings strs, group the anagrams together. You can return the answer in any order.\n",
        "\n",
        "An Anagram is a word or phrase formed by rearranging the letters of a different word or phrase, typically using all the original letters exactly once.\n",
        "\n",
        "**URL**:**https://leetcode.com/problems/group-anagrams/**"
      ],
      "metadata": {
        "id": "HimUwUPyEwdu"
      }
    },
    {
      "cell_type": "code",
      "source": [
        "class Solution:\n",
        "    def groupAnagrams(self, strs: List[str]) -> List[List[str]]:\n",
        "        like_anagrams = dict()\n",
        "        for string in strs:\n",
        "            key = \"\".join(sorted(string))\n",
        "            like_anagrams[key] = like_anagrams.get(key,[]) + [string]\n",
        "        return list(like_anagrams.values())\n",
        "            \n",
        "        "
      ],
      "metadata": {
        "id": "SVbHhVKRX563"
      },
      "execution_count": null,
      "outputs": []
    },
    {
      "cell_type": "code",
      "source": [
        ""
      ],
      "metadata": {
        "id": "21WcZYzSX5lt"
      },
      "execution_count": null,
      "outputs": []
    },
    {
      "cell_type": "markdown",
      "source": [
        "**Leetcode 347**: Top K Frequent Elements\n",
        "\n",
        "**Description**:Given an integer array nums and an integer k, return the k most frequent elements. You may return the answer in any order.\n",
        "\n",
        "**URL**:**https://leetcode.com/problems/top-k-frequent-elements/**"
      ],
      "metadata": {
        "id": "6uWkxR29R7Sv"
      }
    },
    {
      "cell_type": "code",
      "source": [
        "class Solution:\n",
        "    def topKFrequent(self, nums: List[int], k: int) -> List[int]:\n",
        "        count = {}\n",
        "        for num in nums:\n",
        "            count[num] = count.get(num, 0)+1\n",
        "        return sorted(count, key=count.get, reverse=True)[:k]\n",
        "    "
      ],
      "metadata": {
        "id": "_fK7-N4RR5YX"
      },
      "execution_count": null,
      "outputs": []
    },
    {
      "cell_type": "code",
      "source": [
        ""
      ],
      "metadata": {
        "id": "8IGGcCEYR5fv"
      },
      "execution_count": null,
      "outputs": []
    },
    {
      "cell_type": "markdown",
      "source": [
        "**Leetcode 125**: Valid Palindrome\n",
        "\n",
        "**Description**:A phrase is a palindrome if, after converting all uppercase letters into lowercase letters and removing all non-alphanumeric characters, it reads the same forward and backward. Alphanumeric characters include letters and numbers.\n",
        "\n",
        "Given a string s, return true if it is a palindrome, or false otherwise.\n",
        "\n",
        "**URL**:**https://leetcode.com/problems/valid-palindrome/**"
      ],
      "metadata": {
        "id": "kseJWiLuzj7d"
      }
    },
    {
      "cell_type": "code",
      "source": [
        "class Solution:\n",
        "    def isPalindrome(self, s: str) -> bool:\n",
        "        palindrome=''\n",
        "        for k in s:\n",
        "            #isalnum is a built-in function that checks for alphanumeric values\n",
        "            if k.isalnum() :\n",
        "                palindrome += k.lower()\n",
        "            # using ::-1 to reverse s\n",
        "        return palindrome == palindrome[::-1]\n",
        "        "
      ],
      "metadata": {
        "id": "dFKwrN6jR5je"
      },
      "execution_count": null,
      "outputs": []
    },
    {
      "cell_type": "code",
      "source": [
        ""
      ],
      "metadata": {
        "id": "Y7JfCgD8R5m9"
      },
      "execution_count": null,
      "outputs": []
    },
    {
      "cell_type": "markdown",
      "source": [
        "**Leetcode 704**: Binary Search\n",
        "\n",
        "**Description**:Given an array of integers nums which is sorted in ascending order, and an integer target, write a function to search target in nums. If target exists, then return its index. Otherwise, return -1.\n",
        "\n",
        "You must write an algorithm with O(log n) runtime complexity.\n",
        "\n",
        "\n",
        "**URL**:**https://leetcode.com/problems/binary-search/**"
      ],
      "metadata": {
        "id": "bOgdP1Ir6LX9"
      }
    },
    {
      "cell_type": "code",
      "source": [
        "class Solution:\n",
        "    def search(self, nums: List[int], target: int) -> int:\n",
        "        for val, num in enumerate(nums):\n",
        "            if num == target:\n",
        "                return val\n",
        "        else:\n",
        "            return -1\n",
        "        "
      ],
      "metadata": {
        "id": "TW8XXXA2R5qa"
      },
      "execution_count": null,
      "outputs": []
    },
    {
      "cell_type": "code",
      "source": [
        ""
      ],
      "metadata": {
        "id": "AO_Ua0IVR5t3"
      },
      "execution_count": null,
      "outputs": []
    },
    {
      "cell_type": "code",
      "source": [
        ""
      ],
      "metadata": {
        "id": "2uCeX8DnR5xs"
      },
      "execution_count": null,
      "outputs": []
    },
    {
      "cell_type": "code",
      "source": [
        ""
      ],
      "metadata": {
        "id": "G-bgb2j3R51z"
      },
      "execution_count": null,
      "outputs": []
    },
    {
      "cell_type": "code",
      "source": [
        ""
      ],
      "metadata": {
        "id": "M5b7G3LnR55n"
      },
      "execution_count": null,
      "outputs": []
    },
    {
      "cell_type": "code",
      "source": [
        ""
      ],
      "metadata": {
        "id": "daFJmoFTR59f"
      },
      "execution_count": null,
      "outputs": []
    },
    {
      "cell_type": "code",
      "source": [
        ""
      ],
      "metadata": {
        "id": "eAd2p1BOR6Ba"
      },
      "execution_count": null,
      "outputs": []
    },
    {
      "cell_type": "code",
      "source": [
        ""
      ],
      "metadata": {
        "id": "Ggs4wJvDR6FL"
      },
      "execution_count": null,
      "outputs": []
    }
  ]
}