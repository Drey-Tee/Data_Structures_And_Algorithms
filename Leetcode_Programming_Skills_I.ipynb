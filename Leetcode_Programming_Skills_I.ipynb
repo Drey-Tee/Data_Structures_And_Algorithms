{
  "nbformat": 4,
  "nbformat_minor": 0,
  "metadata": {
    "colab": {
      "name": "Leetcode_Programming Skills I.ipynb",
      "provenance": [],
      "authorship_tag": "ABX9TyOJwAzEeRMMMcwxU6DbVAMu",
      "include_colab_link": true
    },
    "kernelspec": {
      "name": "python3",
      "display_name": "Python 3"
    },
    "language_info": {
      "name": "python"
    }
  },
  "cells": [
    {
      "cell_type": "markdown",
      "metadata": {
        "id": "view-in-github",
        "colab_type": "text"
      },
      "source": [
        "<a href=\"https://colab.research.google.com/github/Drey-Tee/Data_Structures_And_Algorithms/blob/main/Leetcode_Programming_Skills_I.ipynb\" target=\"_parent\"><img src=\"https://colab.research.google.com/assets/colab-badge.svg\" alt=\"Open In Colab\"/></a>"
      ]
    },
    {
      "cell_type": "code",
      "execution_count": null,
      "metadata": {
        "colab": {
          "base_uri": "https://localhost:8080/"
        },
        "id": "A8r_IVdhcsqy",
        "outputId": "c8e86ef6-beab-4cdd-da04-aea4d767980e"
      },
      "outputs": [
        {
          "output_type": "stream",
          "name": "stdout",
          "text": [
            "7000.0\n",
            "1000.0\n",
            "[3000.0, 2000.0]\n",
            "5000.0\n",
            "2500.0\n"
          ]
        }
      ],
      "source": [
        "m = [1000.00, 3000.00, 7000.00, 2000.00]\n",
        "max_salary = max(m)\n",
        "print(max_salary)\n",
        "min_salary = min(m)\n",
        "print(min_salary)\n",
        "m.remove(max_salary)\n",
        "m.remove(min_salary)\n",
        "print(m)\n",
        "total = sum(m)\n",
        "print(total)\n",
        "avg = total / len(m)\n",
        "print(avg)"
      ]
    },
    {
      "cell_type": "code",
      "source": [
        "def avg_salary(m):\n",
        "  m = [1000.00, 3000.00, 7000.00, 2000.00]\n",
        "  for i in m:\n",
        "    if i is min(m) and i is max(m):\n",
        "      m.remove(i)\n",
        "      total = sum(m)\n",
        "      avg = total / len(m)\n",
        "      return avg\n",
        "\n",
        "print(avg)"
      ],
      "metadata": {
        "colab": {
          "base_uri": "https://localhost:8080/"
        },
        "id": "6Iyz-oUVpBqv",
        "outputId": "0b07180c-43cc-4755-c283-dc5ff5b48383"
      },
      "execution_count": null,
      "outputs": [
        {
          "output_type": "stream",
          "name": "stdout",
          "text": [
            "2500.0\n"
          ]
        }
      ]
    },
    {
      "cell_type": "code",
      "source": [
        "def hammingWeight(self, n: int) -> int:\n",
        " return bin(n).count('1')"
      ],
      "metadata": {
        "id": "RBixUK3IvAhQ"
      },
      "execution_count": null,
      "outputs": []
    },
    {
      "cell_type": "code",
      "source": [
        "def subtractProductAndSum(n: int) -> int:\n",
        "     digits = [int(i) for i in str(n)]\n",
        "     print(digits)\n",
        "     sum_of_int = sum(digits)\n",
        "     print(sum_of_int)\n",
        "     mult = 1\n",
        "     for x in digits:\n",
        "       mult = mult * x\n",
        "     return mult - sum_of_int\n",
        "subtractProductAndSum(234)"
      ],
      "metadata": {
        "colab": {
          "base_uri": "https://localhost:8080/"
        },
        "id": "s-jPKks-HvAj",
        "outputId": "99fb86ce-07d7-470a-d254-73849ef25bee"
      },
      "execution_count": null,
      "outputs": [
        {
          "output_type": "stream",
          "name": "stdout",
          "text": [
            "[2, 3, 4]\n",
            "9\n"
          ]
        },
        {
          "output_type": "execute_result",
          "data": {
            "text/plain": [
              "15"
            ]
          },
          "metadata": {},
          "execution_count": 54
        }
      ]
    },
    {
      "cell_type": "code",
      "source": [
        "nums = [2,3,5,2,4]\n",
        "def largestPerimeter(self, nums) -> int:\n",
        "  nums.sort()\n",
        "  a,b,c = nums.pop(), nums.pop(), nums.pop()\n",
        "  return a,b,c\n",
        "  print(a)\n",
        "  print(b)\n",
        "  print(c)"
      ],
      "metadata": {
        "id": "LmBsuLEjIecI"
      },
      "execution_count": null,
      "outputs": []
    },
    {
      "cell_type": "code",
      "source": [
        "class Solution:\n",
        "  def largestPerimeter(self, A):\n",
        "    A.sort()\n",
        "    for i in reversed(range(len(A) - 2)):\n",
        "      if A[i] + A[i+1] > A[i+2]:\n",
        "        return A[i] + A[i+1] + A[i+2]\n",
        "    return 0\n",
        "ob = Solution()\n",
        "print(ob.largestPerimeter([3,6,2,3]))"
      ],
      "metadata": {
        "id": "Olj2s6xBIeqY",
        "colab": {
          "base_uri": "https://localhost:8080/"
        },
        "outputId": "60462fca-20eb-48ae-d2e0-e1002a1121d1"
      },
      "execution_count": null,
      "outputs": [
        {
          "output_type": "stream",
          "name": "stdout",
          "text": [
            "8\n"
          ]
        }
      ]
    },
    {
      "cell_type": "code",
      "source": [
        "class Solution:\n",
        "    def nearestValidPoint(self, x: int, y: int, points:List[List[int]]) -> int:\n",
        "        init_d=float('inf')\n",
        "        ans=-1\n",
        "        for i in range(len(points)):\n",
        "            a, b = points[i]\n",
        "            if a==x or b==y:\n",
        "                d = abs(a-x) + abs(b-y)\n",
        "                if d < init_d:\n",
        "                    init_d, ans = d, i\n",
        "        return ans"
      ],
      "metadata": {
        "id": "s6OZjoJMIe16"
      },
      "execution_count": null,
      "outputs": []
    },
    {
      "cell_type": "code",
      "source": [
        "class Solution:\n",
        "  def arraySign(self, nums) -> int:\n",
        "    result = 1\n",
        "    for i in nums:\n",
        "      result = result * i\n",
        "    if result > 0:\n",
        "      return 1\n",
        "    elif result < 0:\n",
        "      return -1\n",
        "    else:\n",
        "      return 0"
      ],
      "metadata": {
        "id": "5vHcqlLuIfAw"
      },
      "execution_count": null,
      "outputs": []
    },
    {
      "cell_type": "code",
      "source": [
        "class Solution:\n",
        "    def isHappy( self, n: int) -> bool:\n",
        "        past = set()\n",
        "        while n != 1:\n",
        "            n = sum(int(i)**2 for i in str(n))\n",
        "            if n in past:\n",
        "                return False\n",
        "            past.add(n)\n",
        "        return True"
      ],
      "metadata": {
        "id": "dE1lV_HTjdpU"
      },
      "execution_count": null,
      "outputs": []
    },
    {
      "cell_type": "code",
      "source": [
        "class Solution:\n",
        "    def areAlmostEqual(self, s1: str, s2: str) -> bool:\n",
        "        if set(s1) != set(s2):\n",
        "            return False\n",
        "        check = 0\n",
        "        for i in range(len(s1)):\n",
        "            if s1[i] != s2[i]: \n",
        "                check += 1\n",
        "            if check > 2: \n",
        "                return False\n",
        "        return True"
      ],
      "metadata": {
        "id": "soYUVsvZjdsh"
      },
      "execution_count": null,
      "outputs": []
    },
    {
      "cell_type": "code",
      "source": [
        "n = 3\n",
        "for i in range(0,n):\n",
        "  square = i ** 2\n",
        "  print(square)"
      ],
      "metadata": {
        "colab": {
          "base_uri": "https://localhost:8080/"
        },
        "id": "PMZkciGkjdvx",
        "outputId": "a0aea4b6-04de-4915-ff6e-aa2acbcff4bd"
      },
      "execution_count": null,
      "outputs": [
        {
          "output_type": "stream",
          "name": "stdout",
          "text": [
            "0\n",
            "1\n",
            "4\n"
          ]
        }
      ]
    },
    {
      "cell_type": "code",
      "source": [
        "class Solution:\n",
        "    def areAlmostEqual(self, s1: str, s2: str) -> bool:\n",
        "        if s1 == s2:\n",
        "            return True\n",
        "        a = collections.Counter(s1)\n",
        "        b = collections.Counter(s2)\n",
        "        if a != b:\n",
        "            return False\n",
        "        check = 0\n",
        "        for i in range(len(s1)):\n",
        "            if s1[i] != s2[i]:\n",
        "                check += 1\n",
        "        return check < 3"
      ],
      "metadata": {
        "id": "APHXVFs0jdy5"
      },
      "execution_count": null,
      "outputs": []
    },
    {
      "cell_type": "code",
      "source": [
        "class Solution:\n",
        "    def preorder(self, root: 'Node') -> List[int]:\n",
        "        def traverse(root):\n",
        "            if not root: \n",
        "                return\n",
        "            ret.append(root.val)\n",
        "            for child in root.children:\n",
        "                traverse(child)\n",
        "        ret = []\n",
        "        traverse(root)\n",
        "        return ret"
      ],
      "metadata": {
        "id": "8ounTnNgjd2A"
      },
      "execution_count": null,
      "outputs": []
    },
    {
      "cell_type": "code",
      "source": [
        "class Solution:\n",
        "    def nextGreaterElement(self, nums1: List[int], nums2: List[int]) -> List[int]:\n",
        "        numToNextGreater = {}\n",
        "        stack = []\n",
        "        for num in nums2:\n",
        "            while stack and stack[-1] < num:\n",
        "                numToNextGreater[stack.pop()] = num\n",
        "            stack.append(num)\n",
        "\n",
        "        return [numToNextGreater.get(num, -1) for num in nums1]\n",
        "        "
      ],
      "metadata": {
        "id": "kBJ_QQEBVAMi"
      },
      "execution_count": null,
      "outputs": []
    },
    {
      "cell_type": "code",
      "source": [
        "class Solution:\n",
        "    def checkStraightLine(self, coordinates: List[List[int]]) -> bool:\n",
        "        x0, y0, x1, y1 = *coordinates[0], *coordinates[1]\n",
        "        dx = x1 - x0\n",
        "        dy = y1 - y0\n",
        "\n",
        "        return all((x - x0) * dy == (y - y0) * dx for x, y in coordinates)"
      ],
      "metadata": {
        "id": "J3WnAicPVAPn"
      },
      "execution_count": null,
      "outputs": []
    },
    {
      "cell_type": "code",
      "source": [
        "class Solution:\n",
        "    def sumOddLengthSubarrays(self, arr: List[int]) -> int:\n",
        "        sum_results = 0\n",
        "        array_size = len(arr)\n",
        "        for j in range(array_size):\n",
        "            sum_results += ((((j + 1) * (array_size - j) + 1) // 2) *arr[j])\n",
        "        return sum_results"
      ],
      "metadata": {
        "id": "6bouy3BpVAS_"
      },
      "execution_count": null,
      "outputs": []
    },
    {
      "cell_type": "code",
      "source": [
        "class Solution:\n",
        "    def moveZeroes(self, nums: List[int]) -> None:\n",
        "        \"\"\"\n",
        "        Do not return anything, modify nums in-place instead.\n",
        "        \"\"\"\n",
        "        j = 0\n",
        "        for i in nums:\n",
        "            if i != 0:\n",
        "                nums[j] = i\n",
        "                j += 1\n",
        "                \n",
        "        for k in range(j, len(nums)):\n",
        "            nums[k] = 0"
      ],
      "metadata": {
        "id": "SYq40if0VAWQ"
      },
      "execution_count": null,
      "outputs": []
    },
    {
      "cell_type": "code",
      "source": [
        "class Solution:\n",
        "    def maximumWealth(self, accounts: List[List[int]]) -> int:\n",
        "        sum_of_list = list(map(sum, accounts))\n",
        "        return max(sum_of_list)"
      ],
      "metadata": {
        "id": "2DW8ofQjVAZZ"
      },
      "execution_count": null,
      "outputs": []
    },
    {
      "cell_type": "code",
      "source": [
        ""
      ],
      "metadata": {
        "id": "F0BqGV-bRFGi"
      },
      "execution_count": null,
      "outputs": []
    },
    {
      "cell_type": "code",
      "source": [
        "class Solution:\n",
        "    def matrixReshape(self, nums: List[List[int]], r: int, c: int) -> List[List[int]]:\n",
        "        if nums == [] or r * c != len(nums) * len(nums[0]):\n",
        "            return nums\n",
        "\n",
        "        ans = [[0 for j in range(c)] for i in range(r)]\n",
        "        k = 0\n",
        "        for row in nums:\n",
        "            for num in row:\n",
        "                ans[k // c][k % c] = num\n",
        "                k += 1\n",
        "        return ans"
      ],
      "metadata": {
        "id": "pef-MJM_VAc6"
      },
      "execution_count": null,
      "outputs": []
    },
    {
      "cell_type": "code",
      "source": [
        "class Solution:\n",
        "    def diagonalSum(self, mat: List[List[int]]) -> int:\n",
        "        sum = 0\n",
        "        for j in range(len(mat)):            \n",
        "            sum += mat[j][j] + mat[j][~j]\n",
        "        if (len(mat) % 2): sum -= mat[int(j/2)][int(j/2)]\n",
        "        return sum"
      ],
      "metadata": {
        "id": "UdyN-xlWVAgE"
      },
      "execution_count": null,
      "outputs": []
    },
    {
      "cell_type": "code",
      "source": [
        "class Solution:\n",
        "  def mergeAlternately(self, word1: str, word2: str) -> str:\n",
        "    return ''.join(a + b for a, b in zip_longest(word1, word2, fillvalue=''))"
      ],
      "metadata": {
        "id": "mcf8upeQQ-gL"
      },
      "execution_count": null,
      "outputs": []
    },
    {
      "cell_type": "code",
      "source": [
        "class Solution:\n",
        "    def findTheDifference(self, s: str, t: str) -> str:\n",
        "        count = Counter(s)\n",
        "        for i,c in enumerate(t):\n",
        "            count[c] -= 1\n",
        "            if count[c] == -1:\n",
        "                return c"
      ],
      "metadata": {
        "id": "WQIxPBi6Q-XZ"
      },
      "execution_count": null,
      "outputs": []
    },
    {
      "cell_type": "code",
      "source": [
        "class Solution:\n",
        "    def interpret(self, command: str) -> str:\n",
        "        check = {\"(al)\":\"al\", \"()\":\"o\",\"G\":\"G\"}\n",
        "        t,ans = \"\",\"\"\n",
        "        for i in range(len(command)):\n",
        "            t += command[i]\n",
        "            if t in check:\n",
        "                ans += check[t]\n",
        "                t = \"\"\n",
        "        return ans"
      ],
      "metadata": {
        "id": "NW8JRLAJQ-On"
      },
      "execution_count": null,
      "outputs": []
    },
    {
      "cell_type": "code",
      "source": [
        "class Solution:\n",
        "    def toLowerCase(self, s: str) -> str:\n",
        "        return s.lower()"
      ],
      "metadata": {
        "id": "kinDLmR8Q-Fb"
      },
      "execution_count": null,
      "outputs": []
    },
    {
      "cell_type": "code",
      "source": [
        "# In while loop if i < s length and i+2=”#”, this is double digit.\n",
        "# Else is single digit.\n",
        "# use char to covert to letter as below.\n",
        "\n",
        "class Solution:\n",
        "    def freqAlphabets(self, s: str) -> str:\n",
        "        results = \"\"\n",
        "        i = 0\n",
        "        step = len(s)\n",
        "        while i < step:\n",
        "            if i + 2 < step and s[i + 2] == '#':\n",
        "                results += chr(int(s[i:i+2]) + 96)\n",
        "                i += 3\n",
        "            else:\n",
        "                results += chr(int(s[i]) + 96)\n",
        "                i += 1\n",
        "        return results\n",
        "        "
      ],
      "metadata": {
        "id": "d9YGLMtLQ97h"
      },
      "execution_count": null,
      "outputs": []
    },
    {
      "cell_type": "code",
      "source": [
        "class Solution:\n",
        "    def isAlienSorted(self, words: List[str], order: str) -> bool:\n",
        "        dict = {c: i for i, c in enumerate(order)}\n",
        "        words = [[dict[c] for c in word] for word in words]\n",
        "        return all(w1 <= w2 for w1, w2 in zip(words, words[1:]))\n",
        "        "
      ],
      "metadata": {
        "id": "4eBRU4oTQ9wo"
      },
      "execution_count": null,
      "outputs": []
    },
    {
      "cell_type": "code",
      "source": [
        ""
      ],
      "metadata": {
        "id": "N7xKWepLQ9iP"
      },
      "execution_count": null,
      "outputs": []
    },
    {
      "cell_type": "code",
      "source": [
        ""
      ],
      "metadata": {
        "id": "qWO9rsJoQ9SZ"
      },
      "execution_count": null,
      "outputs": []
    }
  ]
}