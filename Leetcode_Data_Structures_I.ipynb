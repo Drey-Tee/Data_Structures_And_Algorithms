{
  "nbformat": 4,
  "nbformat_minor": 0,
  "metadata": {
    "colab": {
      "name": "Leetcode_Data Structures I",
      "provenance": [],
      "authorship_tag": "ABX9TyNMHQ7KsQnh9978qrUd/dxH",
      "include_colab_link": true
    },
    "kernelspec": {
      "name": "python3",
      "display_name": "Python 3"
    },
    "language_info": {
      "name": "python"
    }
  },
  "cells": [
    {
      "cell_type": "markdown",
      "metadata": {
        "id": "view-in-github",
        "colab_type": "text"
      },
      "source": [
        "<a href=\"https://colab.research.google.com/github/Drey-Tee/Data_Structures_And_Algorithms/blob/main/Leetcode_Data_Structures_I.ipynb\" target=\"_parent\"><img src=\"https://colab.research.google.com/assets/colab-badge.svg\" alt=\"Open In Colab\"/></a>"
      ]
    },
    {
      "cell_type": "markdown",
      "source": [
        "**Leetcode 271**: Given an integer array nums, return true if any value appears at least twice in the array, and return false if every element is distinct.\n",
        "URL : **https://leetcode.com/problems/contains-duplicate/**"
      ],
      "metadata": {
        "id": "DUF-Hy7-_-qh"
      }
    },
    {
      "cell_type": "code",
      "execution_count": 2,
      "metadata": {
        "id": "OjN8sRr3-oK2"
      },
      "outputs": [],
      "source": [
        "from collections import Counter\n",
        "class Solution:\n",
        "    def containsDuplicate(self, nums) -> bool:\n",
        "        frequency = Counter(nums)\n",
        "        for i in frequency:\n",
        "            if frequency[i] > 1:\n",
        "                return True\n",
        "        else:\n",
        "            return False"
      ]
    },
    {
      "cell_type": "markdown",
      "source": [
        "**Time Complexity** : O(n) as we'd have to traverse over all the elements in the array where n is the size of the given array.\n",
        "\n",
        "**Space Complexity** : O(n) as well."
      ],
      "metadata": {
        "id": "iVXhaQRl_Fxs"
      }
    },
    {
      "cell_type": "code",
      "source": [
        ""
      ],
      "metadata": {
        "id": "GBRqwwO3Ab6t"
      },
      "execution_count": null,
      "outputs": []
    },
    {
      "cell_type": "markdown",
      "source": [
        "**Leetcode 53**: Given an integer array nums, find the contiguous subarray (containing at least one number) which has the largest sum and return its sum.\n",
        "\n",
        "A subarray is a contiguous part of an array.\n",
        "URL: **https://leetcode.com/problems/maximum-subarray/**\n",
        "\n"
      ],
      "metadata": {
        "id": "SytTUtnbNcua"
      }
    },
    {
      "cell_type": "code",
      "source": [
        "class Solution:\n",
        "    def maxSubArray(self, nums: List[int]) -> int:\n",
        "        max_so_far =nums[0]\n",
        "        current_max = nums[0]\n",
        "        for i in range(1,len(nums)):\n",
        "            current_max = max(nums[i], current_max + nums[i])\n",
        "            max_so_far = max(max_so_far,current_max)     \n",
        "        return max_so_far"
      ],
      "metadata": {
        "id": "idf3zoC7Ab9p"
      },
      "execution_count": null,
      "outputs": []
    },
    {
      "cell_type": "markdown",
      "source": [
        "**Time Complexity**: O(n) as there's traversal of elements to find the maximum contiguous subarray.\n",
        "**Space Complexity**: O(1) as it'd always run in the same amount of time regardless of the size of the array."
      ],
      "metadata": {
        "id": "6AIuYhKqOjSC"
      }
    },
    {
      "cell_type": "code",
      "source": [
        ""
      ],
      "metadata": {
        "id": "knKTk1LQAcAx"
      },
      "execution_count": null,
      "outputs": []
    },
    {
      "cell_type": "code",
      "source": [
        ""
      ],
      "metadata": {
        "id": "_0suFs2tAcDp"
      },
      "execution_count": null,
      "outputs": []
    },
    {
      "cell_type": "code",
      "source": [
        ""
      ],
      "metadata": {
        "id": "YYwgqJx9AcGw"
      },
      "execution_count": null,
      "outputs": []
    },
    {
      "cell_type": "code",
      "source": [
        ""
      ],
      "metadata": {
        "id": "1C0kAgJQAcJw"
      },
      "execution_count": null,
      "outputs": []
    },
    {
      "cell_type": "code",
      "source": [
        ""
      ],
      "metadata": {
        "id": "rvhbA4avAcM4"
      },
      "execution_count": null,
      "outputs": []
    },
    {
      "cell_type": "code",
      "source": [
        ""
      ],
      "metadata": {
        "id": "b5PFVF1iAcP4"
      },
      "execution_count": null,
      "outputs": []
    },
    {
      "cell_type": "code",
      "source": [
        ""
      ],
      "metadata": {
        "id": "9isfgjCGAcTB"
      },
      "execution_count": null,
      "outputs": []
    },
    {
      "cell_type": "code",
      "source": [
        ""
      ],
      "metadata": {
        "id": "ytyK6mIqAcWH"
      },
      "execution_count": null,
      "outputs": []
    },
    {
      "cell_type": "code",
      "source": [
        ""
      ],
      "metadata": {
        "id": "U8TXZqdFAcZI"
      },
      "execution_count": null,
      "outputs": []
    },
    {
      "cell_type": "code",
      "source": [
        ""
      ],
      "metadata": {
        "id": "2EfB0zrQAccQ"
      },
      "execution_count": null,
      "outputs": []
    },
    {
      "cell_type": "code",
      "source": [
        ""
      ],
      "metadata": {
        "id": "NvMY_VU1Acff"
      },
      "execution_count": null,
      "outputs": []
    },
    {
      "cell_type": "code",
      "source": [
        ""
      ],
      "metadata": {
        "id": "wt2kCV00Acio"
      },
      "execution_count": null,
      "outputs": []
    },
    {
      "cell_type": "code",
      "source": [
        ""
      ],
      "metadata": {
        "id": "oC2WR0P1AclW"
      },
      "execution_count": null,
      "outputs": []
    }
  ]
}