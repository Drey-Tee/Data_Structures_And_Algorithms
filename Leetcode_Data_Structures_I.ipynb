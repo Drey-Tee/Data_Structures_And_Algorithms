{
  "nbformat": 4,
  "nbformat_minor": 0,
  "metadata": {
    "colab": {
      "name": "Leetcode_Data Structures I",
      "provenance": [],
      "authorship_tag": "ABX9TyP5MC8yI7r/+m/NcU1bmV9P",
      "include_colab_link": true
    },
    "kernelspec": {
      "name": "python3",
      "display_name": "Python 3"
    },
    "language_info": {
      "name": "python"
    }
  },
  "cells": [
    {
      "cell_type": "markdown",
      "metadata": {
        "id": "view-in-github",
        "colab_type": "text"
      },
      "source": [
        "<a href=\"https://colab.research.google.com/github/Drey-Tee/Data_Structures_And_Algorithms/blob/main/Leetcode_Data_Structures_I.ipynb\" target=\"_parent\"><img src=\"https://colab.research.google.com/assets/colab-badge.svg\" alt=\"Open In Colab\"/></a>"
      ]
    },
    {
      "cell_type": "markdown",
      "source": [
        "**Leetcode 271**: Given an integer array nums, return true if any value appears at least twice in the array, and return false if every element is distinct.\n",
        "\n",
        "URL : **https://leetcode.com/problems/contains-duplicate/**"
      ],
      "metadata": {
        "id": "DUF-Hy7-_-qh"
      }
    },
    {
      "cell_type": "code",
      "execution_count": null,
      "metadata": {
        "id": "OjN8sRr3-oK2"
      },
      "outputs": [],
      "source": [
        "from collections import Counter\n",
        "class Solution:\n",
        "    def containsDuplicate(self, nums) -> bool:\n",
        "        frequency = Counter(nums)\n",
        "        for i in frequency:\n",
        "            if frequency[i] > 1:\n",
        "                return True\n",
        "        else:\n",
        "            return False"
      ]
    },
    {
      "cell_type": "markdown",
      "source": [
        "**Time Complexity** : O(n) as we'd have to traverse over all the elements in the array where n is the size of the given array.\n",
        "\n",
        "**Space Complexity** : O(n) as well."
      ],
      "metadata": {
        "id": "iVXhaQRl_Fxs"
      }
    },
    {
      "cell_type": "code",
      "source": [
        ""
      ],
      "metadata": {
        "id": "GBRqwwO3Ab6t"
      },
      "execution_count": null,
      "outputs": []
    },
    {
      "cell_type": "markdown",
      "source": [
        "**Leetcode 53**: Given an integer array nums, find the contiguous subarray (containing at least one number) which has the largest sum and return its sum.\n",
        "A subarray is a contiguous part of an array.\n",
        "\n",
        "URL: **https://leetcode.com/problems/maximum-subarray/**\n",
        "\n"
      ],
      "metadata": {
        "id": "SytTUtnbNcua"
      }
    },
    {
      "cell_type": "code",
      "source": [
        "class Solution:\n",
        "    def maxSubArray(self, nums: List[int]) -> int:\n",
        "        max_so_far =nums[0]\n",
        "        current_max = nums[0]\n",
        "        for i in range(1,len(nums)):\n",
        "            current_max = max(nums[i], current_max + nums[i])\n",
        "            max_so_far = max(max_so_far,current_max)     \n",
        "        return max_so_far"
      ],
      "metadata": {
        "id": "idf3zoC7Ab9p"
      },
      "execution_count": null,
      "outputs": []
    },
    {
      "cell_type": "markdown",
      "source": [
        "**Time Complexity**: O(n) as there's traversal of elements to find the maximum contiguous subarray.\n",
        "\n",
        "**Space Complexity**: O(1) as it'd always run in the same amount of time regardless of the size of the array."
      ],
      "metadata": {
        "id": "6AIuYhKqOjSC"
      }
    },
    {
      "cell_type": "code",
      "source": [
        ""
      ],
      "metadata": {
        "id": "mvzcpx1zm994"
      },
      "execution_count": null,
      "outputs": []
    },
    {
      "cell_type": "markdown",
      "source": [
        "**Leetcode 1**:Given an array of integers nums and an integer target, return indices of the two numbers such that they add up to target.\n",
        "You may assume that each input would have exactly one solution, and you may not use the same element twice.\n",
        "You can return the answer in any order.\n",
        "\n",
        "URL:**https://leetcode.com/problems/two-sum/**"
      ],
      "metadata": {
        "id": "M5z9MxafnBxw"
      }
    },
    {
      "cell_type": "code",
      "source": [
        "class Solution:\n",
        "    def twoSum(self, nums: List[int], target: int) -> List[int]:\n",
        "        seen_num = set()\n",
        "        add = seen_num.add\n",
        "        for i in nums: \n",
        "            needed_num = target - i\n",
        "            if needed_num in seen_num:\n",
        "                m = nums.index(needed_num)\n",
        "                n = nums.index(i, m+1)\n",
        "                return m,n\n",
        "            add(i)  "
      ],
      "metadata": {
        "id": "knKTk1LQAcAx"
      },
      "execution_count": null,
      "outputs": []
    },
    {
      "cell_type": "markdown",
      "source": [
        "**Time Complexity**: O(n)-linear time as it processes the input (n) in “n” number of operations. This means that as the input grows, the algorithm takes proportionally longer to complete.\n",
        "\n",
        "**Space Complexity**: O(n). same reason as above.\n"
      ],
      "metadata": {
        "id": "MQRbg724ntUN"
      }
    },
    {
      "cell_type": "code",
      "source": [
        ""
      ],
      "metadata": {
        "id": "YYwgqJx9AcGw"
      },
      "execution_count": null,
      "outputs": []
    },
    {
      "cell_type": "markdown",
      "source": [
        "**Leetcode 88**: You are given two integer arrays nums1 and nums2, sorted in non-decreasing order, and two integers m and n, representing the number of elements in nums1 and nums2 respectively.\n",
        "Merge nums1 and nums2 into a single array sorted in non-decreasing order.\n",
        "The final sorted array should not be returned by the function, but instead be stored inside the array nums1. To accommodate this, nums1 has a length of m + n, where the first m elements denote the elements that should be merged, and the last n elements are set to 0 and should be ignored. nums2 has a length of n.\n",
        "\n",
        "URL: **https://leetcode.com/problems/merge-sorted-array/**"
      ],
      "metadata": {
        "id": "4tBFXEgArL8R"
      }
    },
    {
      "cell_type": "code",
      "source": [
        "nums1 = [1,2,3,0,0,0]\n",
        "m = 3 \n",
        "nums2 = [2,5,6]\n",
        "n = 3\n",
        "new = []\n",
        "for i in nums1:\n",
        "  if i !=0:\n",
        "    new.append(i)\n",
        "nums1 = new\n",
        "nums1.extend(nums2) \n",
        "nums1=sorted(nums1)   \n",
        "print(nums1)\n",
        "\n",
        "# naive way I tried but wasn't accepted by leetcode\n",
        "    "
      ],
      "metadata": {
        "id": "1C0kAgJQAcJw",
        "colab": {
          "base_uri": "https://localhost:8080/"
        },
        "outputId": "e81cc76d-9993-4f17-e216-c283ccfb42a8"
      },
      "execution_count": null,
      "outputs": [
        {
          "output_type": "stream",
          "name": "stdout",
          "text": [
            "[1, 2, 2, 3, 5, 6]\n"
          ]
        }
      ]
    },
    {
      "cell_type": "code",
      "source": [
        "class Solution:\n",
        "    def merge(self, nums1: List[int], m: int, nums2: List[int], n: int) -> None:\n",
        "        \"\"\"\n",
        "        Do not return anything, modify nums1 in-place instead.\n",
        "        1. find last index in nums1\n",
        "        2. merge in reverse order\n",
        "        3. fill in nums1 with leftover nums2 elements\n",
        "        \n",
        "        \"\"\"\n",
        "        last_val = m + n -1\n",
        "        while m > 0 and n > 0:\n",
        "            if nums1[m - 1] > nums2[n - 1]:\n",
        "                nums1[last_val] = nums1[m - 1]\n",
        "                m -= 1\n",
        "            else:\n",
        "                nums1[last_val] = nums2[n - 1]\n",
        "                n -= 1\n",
        "            last_val -= 1\n",
        "        while n > 0:\n",
        "            nums1[last_val] = nums2[n - 1]\n",
        "            n,last_val = n - 1 , last_val - 1\n",
        "        "
      ],
      "metadata": {
        "id": "b5PFVF1iAcP4"
      },
      "execution_count": null,
      "outputs": []
    },
    {
      "cell_type": "markdown",
      "source": [
        "**Space Complexity**:\n",
        "\n",
        "**Time Complexity**:"
      ],
      "metadata": {
        "id": "phD79Cnwvfu8"
      }
    },
    {
      "cell_type": "code",
      "source": [
        ""
      ],
      "metadata": {
        "id": "_ZB2vABnudGd"
      },
      "execution_count": null,
      "outputs": []
    },
    {
      "cell_type": "markdown",
      "source": [
        "**Leetcode 350**: Intersection of Two Arrays II\n",
        "\n",
        "**Description**: Given two integer arrays nums1 and nums2, return an array of their intersection. Each element in the result must appear as many times as it shows in both arrays and you may return the result in any order.\n",
        "\n",
        "**URL**: **https://leetcode.com/problems/intersection-of-two-arrays-ii/**"
      ],
      "metadata": {
        "id": "6FdVx4B6uakm"
      }
    },
    {
      "cell_type": "code",
      "source": [
        "from collections import Counter\n",
        "def intersect(self, nums1: List[int], nums2: List[int]) -> List[int]:\n",
        "        A = Counter(nums1)\n",
        "        B = Counter(nums2)\n",
        "        A &= B\n",
        "        intersection = list(A.elements())\n",
        "        return intersection     "
      ],
      "metadata": {
        "id": "9isfgjCGAcTB"
      },
      "execution_count": null,
      "outputs": []
    },
    {
      "cell_type": "markdown",
      "source": [
        "**Space Complexity**:\n",
        "\n",
        "**Time Complexity**:"
      ],
      "metadata": {
        "id": "R7uweEuIvr5l"
      }
    },
    {
      "cell_type": "code",
      "source": [
        ""
      ],
      "metadata": {
        "id": "ytyK6mIqAcWH"
      },
      "execution_count": null,
      "outputs": []
    },
    {
      "cell_type": "markdown",
      "source": [
        "**Leetcode 121**: Best Time to Buy and Sell Stock\n",
        "\n",
        "**Description**: You are given an array prices where prices[i] is the price of a given stock on the ith day.\n",
        "You want to maximize your profit by choosing a single day to buy one stock and choosing a different day in the future to sell that stock.\n",
        "Return the maximum profit you can achieve from this transaction. If you cannot achieve any profit, return 0.\n",
        "\n",
        "**URL**:**https://leetcode.com/problems/best-time-to-buy-and-sell-stock/**"
      ],
      "metadata": {
        "id": "oH9oPtRK6eQZ"
      }
    },
    {
      "cell_type": "code",
      "source": [
        "class Solution:\n",
        "    def maxProfit(self, prices: List[int]) -> int:\n",
        "        max_profit_price = 0\n",
        "        min_buy_price = float('inf')\n",
        "        for price in prices:\n",
        "            min_buy_price=min(min_buy_price, price)\n",
        "            max_profit_price=max(max_profit_price, price - min_buy_price)\n",
        "        return max_profit_price\n",
        "        "
      ],
      "metadata": {
        "id": "U8TXZqdFAcZI"
      },
      "execution_count": null,
      "outputs": []
    },
    {
      "cell_type": "markdown",
      "source": [
        "**Space Complexity**: O(n) because only a single pass is needed for this problem.\n",
        "\n",
        "**Time Complexity**: O(n) due to the above, it shows that not a lot of executions would be needed to complete the program."
      ],
      "metadata": {
        "id": "eECR40GU7FuK"
      }
    },
    {
      "cell_type": "code",
      "source": [
        ""
      ],
      "metadata": {
        "id": "2EfB0zrQAccQ"
      },
      "execution_count": null,
      "outputs": []
    },
    {
      "cell_type": "markdown",
      "source": [
        "**Leetcode 566**:Reshape the Matrix\n",
        "\n",
        "**Description**:In MATLAB, there is a handy function called reshape which can reshape an m x n matrix into a new one with a different size r x c keeping its original data.\n",
        "You are given an m x n matrix mat and two integers r and c representing the number of rows and the number of columns of the wanted reshaped matrix.\n",
        "The reshaped matrix should be filled with all the elements of the original matrix in the same row-traversing order as they were.\n",
        "If the reshape operation with given parameters is possible and legal, output the new reshaped matrix; Otherwise, output the original matrix.\n",
        "\n",
        "**URL**:**https://leetcode.com/problems/reshape-the-matrix/**"
      ],
      "metadata": {
        "id": "6xjw1C3uFW4W"
      }
    },
    {
      "cell_type": "code",
      "source": [
        "class Solution:\n",
        "    def matrixReshape(self, nums: List[List[int]], r: int, c: int) -> List[List[int]]:\n",
        "        if nums == [] or r * c != len(nums) * len(nums[0]):\n",
        "            return nums\n",
        "\n",
        "        ans = [[0 for j in range(c)] for i in range(r)]\n",
        "        k = 0\n",
        "        for row in nums:\n",
        "            for num in row:\n",
        "                ans[k // c][k % c] = num\n",
        "                k += 1\n",
        "        return ans"
      ],
      "metadata": {
        "id": "NvMY_VU1Acff"
      },
      "execution_count": null,
      "outputs": []
    },
    {
      "cell_type": "markdown",
      "source": [
        "**Space Complexity**: O(rc) \n",
        "\n",
        "**Time Complexity**: O(rc)"
      ],
      "metadata": {
        "id": "QLYk9rY7Gp7U"
      }
    },
    {
      "cell_type": "code",
      "source": [
        ""
      ],
      "metadata": {
        "id": "wt2kCV00Acio"
      },
      "execution_count": null,
      "outputs": []
    },
    {
      "cell_type": "markdown",
      "source": [
        "**Leetcode 118**: Pascal's Triangle\n",
        "\n",
        "**Description**: Given an integer numRows, return the first numRows of Pascal's triangle.\n",
        "In Pascal's triangle, each number is the sum of the two numbers directly above it as shown:\n",
        "\n",
        "**URL**:**https://leetcode.com/problems/pascals-triangle/**"
      ],
      "metadata": {
        "id": "wjtpNV6wH0e3"
      }
    },
    {
      "cell_type": "code",
      "source": [
        "class Solution:\n",
        "    def generate(self, numRows: int) -> List[List[int]]:\n",
        "        results = []\n",
        "        for i in range(numRows):\n",
        "            results.append([1] * (i + 1))\n",
        "\n",
        "        for i in range(2, numRows):\n",
        "            for j in range(1, len(results[i]) - 1):\n",
        "                results[i][j] = results[i - 1][j - 1] + results[i - 1][j]\n",
        "\n",
        "        return results"
      ],
      "metadata": {
        "id": "oC2WR0P1AclW"
      },
      "execution_count": null,
      "outputs": []
    },
    {
      "cell_type": "markdown",
      "source": [
        "**Space Complexity**: O(n^2) \n",
        "\n",
        "**Time Complexity**: O(n^2)"
      ],
      "metadata": {
        "id": "t46M-TibKchM"
      }
    },
    {
      "cell_type": "code",
      "source": [
        ""
      ],
      "metadata": {
        "id": "9Pw6wxtZHqOg"
      },
      "execution_count": null,
      "outputs": []
    },
    {
      "cell_type": "markdown",
      "source": [
        "**Leetcode 36**: Valid Sudoku\n",
        "\n",
        "**Description**: Determine if a 9 x 9 Sudoku board is valid. Only the filled cells need to be validated according to the following rules:\n",
        "1. Each row must contain the digits 1-9 without repetition.\n",
        "2. Each column must contain the digits 1-9 without repetition.\n",
        "3. Each of the nine 3 x 3 sub-boxes of the grid must contain the digits 1-9 without repetition.\n",
        "\n",
        "**URL**:**https://leetcode.com/problems/valid-sudoku/ **\n"
      ],
      "metadata": {
        "id": "35j5IiEeOxg3"
      }
    },
    {
      "cell_type": "code",
      "source": [
        "class Solution:\n",
        "  def isValidSudoku(self, board: List[List[str]]) -> bool:\n",
        "    seen = set()\n",
        "\n",
        "    for i in range(9):\n",
        "      for j in range(9):\n",
        "        c = board[i][j]\n",
        "        if c == '.':\n",
        "          continue\n",
        "        if c + '@row ' + str(i) in seen or \\\n",
        "           c + '@col ' + str(j) in seen or \\\n",
        "           c + '@box ' + str(i // 3) + str(j // 3) in seen:\n",
        "          return False\n",
        "        seen.add(c + '@row ' + str(i))\n",
        "        seen.add(c + '@col ' + str(j))\n",
        "        seen.add(c + '@box ' + str(i // 3) + str(j // 3))\n",
        "\n",
        "    return True"
      ],
      "metadata": {
        "id": "1VGwQl9WHqbE"
      },
      "execution_count": null,
      "outputs": []
    },
    {
      "cell_type": "markdown",
      "source": [
        "**Space Complexity**: O(1) \n",
        "\n",
        "**Time Complexity**: O(1)"
      ],
      "metadata": {
        "id": "-tOAGrsdRwtr"
      }
    },
    {
      "cell_type": "code",
      "source": [
        ""
      ],
      "metadata": {
        "id": "aGtqGXjOHqnI"
      },
      "execution_count": null,
      "outputs": []
    },
    {
      "cell_type": "code",
      "source": [
        ""
      ],
      "metadata": {
        "id": "IzdA_z5zHqyZ"
      },
      "execution_count": null,
      "outputs": []
    },
    {
      "cell_type": "code",
      "source": [
        ""
      ],
      "metadata": {
        "id": "9gZQKnIkHq-s"
      },
      "execution_count": null,
      "outputs": []
    },
    {
      "cell_type": "code",
      "source": [
        ""
      ],
      "metadata": {
        "id": "p5v998byHrLh"
      },
      "execution_count": null,
      "outputs": []
    },
    {
      "cell_type": "code",
      "source": [
        ""
      ],
      "metadata": {
        "id": "9mK3S2qFHrZQ"
      },
      "execution_count": null,
      "outputs": []
    },
    {
      "cell_type": "code",
      "source": [
        ""
      ],
      "metadata": {
        "id": "5g6jrsxgHrr5"
      },
      "execution_count": null,
      "outputs": []
    }
  ]
}