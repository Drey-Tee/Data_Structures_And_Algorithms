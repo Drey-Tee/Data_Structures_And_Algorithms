{
  "cells": [
    {
      "cell_type": "markdown",
      "metadata": {
        "id": "view-in-github",
        "colab_type": "text"
      },
      "source": [
        "<a href=\"https://colab.research.google.com/github/Drey-Tee/Data_Structures_And_Algorithms/blob/main/Python_Crash_Practices.ipynb\" target=\"_parent\"><img src=\"https://colab.research.google.com/assets/colab-badge.svg\" alt=\"Open In Colab\"/></a>"
      ]
    },
    {
      "cell_type": "code",
      "execution_count": null,
      "metadata": {
        "colab": {
          "base_uri": "https://localhost:8080/"
        },
        "id": "Bzpk6RGDXH_j",
        "outputId": "66e515ee-51b6-4d78-bba8-b6c029c45419"
      },
      "outputs": [
        {
          "output_type": "stream",
          "name": "stdout",
          "text": [
            "<class 'float'>\n"
          ]
        }
      ],
      "source": [
        "my_float = 32.85\n",
        "print(type(my_float))"
      ]
    },
    {
      "cell_type": "code",
      "execution_count": null,
      "metadata": {
        "colab": {
          "base_uri": "https://localhost:8080/"
        },
        "id": "5gEH6Tm_qqRd",
        "outputId": "cedc21b4-df9a-4855-c4f1-fd02abe3a594"
      },
      "outputs": [
        {
          "output_type": "stream",
          "name": "stdout",
          "text": [
            "<class 'float'>\n"
          ]
        }
      ],
      "source": [
        "my_float = (32.85)\n",
        "print(type(my_float))"
      ]
    },
    {
      "cell_type": "code",
      "execution_count": null,
      "metadata": {
        "colab": {
          "base_uri": "https://localhost:8080/"
        },
        "id": "OAGFTcAKqqhB",
        "outputId": "d6a01705-1a60-4ead-dd56-8aa1e83e64ba"
      },
      "outputs": [
        {
          "output_type": "stream",
          "name": "stdout",
          "text": [
            "Mike Noble\n"
          ]
        }
      ],
      "source": [
        "first_name = 'Mike'\n",
        "last_name = 'Noble'\n",
        "print(first_name + \" \" + last_name)"
      ]
    },
    {
      "cell_type": "code",
      "execution_count": null,
      "metadata": {
        "colab": {
          "base_uri": "https://localhost:8080/"
        },
        "id": "c00FRBt5qqkT",
        "outputId": "fc81a626-1f87-4b1b-8065-fc4fcf59aaeb"
      },
      "outputs": [
        {
          "output_type": "stream",
          "name": "stdout",
          "text": [
            "10\n"
          ]
        }
      ],
      "source": [
        "print(len(\"Mike Noble\"))"
      ]
    },
    {
      "cell_type": "code",
      "execution_count": null,
      "metadata": {
        "colab": {
          "base_uri": "https://localhost:8080/"
        },
        "id": "y_PekVuTqqng",
        "outputId": "9d745e2a-e597-4acb-cfec-cd154986db2c"
      },
      "outputs": [
        {
          "output_type": "stream",
          "name": "stdout",
          "text": [
            "Mike Annan\n"
          ]
        }
      ],
      "source": [
        "print(\"Mike Noble\".replace(\"Noble\",\"Annan\"))"
      ]
    },
    {
      "cell_type": "code",
      "execution_count": null,
      "metadata": {
        "colab": {
          "base_uri": "https://localhost:8080/"
        },
        "id": "_QB6rJ7Gqqqv",
        "outputId": "c181bff9-eff2-4da2-8db9-213e0f50915f"
      },
      "outputs": [
        {
          "output_type": "stream",
          "name": "stdout",
          "text": [
            "['mike', 'anna', 'noble']\n"
          ]
        }
      ],
      "source": [
        "list_1 =[\"mike\",\"anna\",\"noble\"]\n",
        "print(list_1)"
      ]
    },
    {
      "cell_type": "code",
      "execution_count": null,
      "metadata": {
        "colab": {
          "base_uri": "https://localhost:8080/"
        },
        "id": "ohZbhNWKqqt7",
        "outputId": "c053be97-40ce-4982-fd99-02f3adb87e14"
      },
      "outputs": [
        {
          "output_type": "stream",
          "name": "stdout",
          "text": [
            "<class 'tuple'>\n",
            "('bmw', 'honda', 'toyota')\n"
          ]
        }
      ],
      "source": [
        "my_tuple = (\"bmw\",\"honda\",\"toyota\")\n",
        "print(type(my_tuple))\n",
        "print(my_tuple)"
      ]
    },
    {
      "cell_type": "code",
      "execution_count": null,
      "metadata": {
        "colab": {
          "base_uri": "https://localhost:8080/"
        },
        "id": "H4qd76wpqqxU",
        "outputId": "2baa9c5c-da52-4140-cb71-c151526504d0"
      },
      "outputs": [
        {
          "output_type": "stream",
          "name": "stdout",
          "text": [
            "Naa is older than Ama.\n"
          ]
        }
      ],
      "source": [
        "ama_age = 20\n",
        "naa_age = 22\n",
        "if ama_age < naa_age:\n",
        "  print(\"Naa is older than Ama.\")\n",
        "else:\n",
        "  print(\"Ama is the oldest.\")\n"
      ]
    },
    {
      "cell_type": "code",
      "execution_count": null,
      "metadata": {
        "colab": {
          "base_uri": "https://localhost:8080/"
        },
        "id": "bcp_uZ6Vqq0q",
        "outputId": "0fb41872-c5e0-4062-ab66-d1a32b28a9af"
      },
      "outputs": [
        {
          "output_type": "stream",
          "name": "stdout",
          "text": [
            "They are both of the same age.\n"
          ]
        }
      ],
      "source": [
        "#conditionals\n",
        "ama_age = 22\n",
        "naa_age = 22\n",
        "if ama_age < naa_age:\n",
        "  print(\"Naa is older than Ama.\")\n",
        "elif ama_age == naa_age:\n",
        "  print(\"They are both of the same age.\")\n",
        "else:\n",
        "  print(\"Ama is the oldest.\")\n"
      ]
    },
    {
      "cell_type": "code",
      "execution_count": null,
      "metadata": {
        "colab": {
          "base_uri": "https://localhost:8080/"
        },
        "id": "GPiq5M4fqq38",
        "outputId": "5fd16d71-09c9-4982-91ac-10d8f2a44c0a"
      },
      "outputs": [
        {
          "output_type": "stream",
          "name": "stdout",
          "text": [
            "2\n"
          ]
        }
      ],
      "source": [
        "#Ternary Operators\n",
        "a = 25\n",
        "b = 50\n",
        "x = 1\n",
        "y = 2\n",
        "result = x if a > b else y\n",
        "print(result)"
      ]
    },
    {
      "cell_type": "code",
      "execution_count": null,
      "metadata": {
        "colab": {
          "base_uri": "https://localhost:8080/"
        },
        "id": "rYeiAO-Nqq7M",
        "outputId": "6e0b1ea4-ebce-40a6-f1b9-a1469310412a"
      },
      "outputs": [
        {
          "output_type": "stream",
          "name": "stdout",
          "text": [
            "1\n"
          ]
        }
      ],
      "source": [
        "a = 25\n",
        "b = 50\n",
        "x = 1\n",
        "y = 2\n",
        "results = x if a < b else y\n",
        "print(results)"
      ]
    },
    {
      "cell_type": "code",
      "execution_count": null,
      "metadata": {
        "id": "SEr_Kwhoqq-o"
      },
      "outputs": [],
      "source": [
        "#Lists\n",
        "#initializing an empty list\n",
        "people = []"
      ]
    },
    {
      "cell_type": "code",
      "source": [
        "#creating a list\n",
        "people = [\"Mike\",\"Noble\", \"Duodu\"]\n",
        "print(people)"
      ],
      "metadata": {
        "colab": {
          "base_uri": "https://localhost:8080/"
        },
        "id": "HxQRbCrZ0Im6",
        "outputId": "2ebe8b11-912e-436c-d0b9-38ba2858e204"
      },
      "execution_count": null,
      "outputs": [
        {
          "output_type": "stream",
          "name": "stdout",
          "text": [
            "['Mike', 'Noble', 'Duodu']\n"
          ]
        }
      ]
    },
    {
      "cell_type": "code",
      "source": [
        "#adding a new member to the list\n",
        "people.append(\"Annan\")\n",
        "print(people)"
      ],
      "metadata": {
        "colab": {
          "base_uri": "https://localhost:8080/"
        },
        "id": "0ojuIv020IqV",
        "outputId": "efac1283-f3d0-4746-e65c-f0e54a689ffb"
      },
      "execution_count": null,
      "outputs": [
        {
          "output_type": "stream",
          "name": "stdout",
          "text": [
            "['Mike', 'Noble', 'Duodu', 'Annan']\n"
          ]
        }
      ]
    },
    {
      "cell_type": "code",
      "source": [
        "#inserting a member to a specific list\n",
        "people.insert(1,\"Kwame\")\n",
        "print(people)"
      ],
      "metadata": {
        "colab": {
          "base_uri": "https://localhost:8080/"
        },
        "id": "_lHukQp40Itw",
        "outputId": "740b53c8-0613-4bff-8b63-3e95c673d546"
      },
      "execution_count": null,
      "outputs": [
        {
          "output_type": "stream",
          "name": "stdout",
          "text": [
            "['Mike', 'Kwame', 'Noble', 'Duodu', 'Annan']\n"
          ]
        }
      ]
    },
    {
      "cell_type": "code",
      "source": [
        "#updating a member in the list\n",
        "people[1] = \"sirnobys\"\n",
        "print(people)"
      ],
      "metadata": {
        "colab": {
          "base_uri": "https://localhost:8080/"
        },
        "id": "jle9sQD_0Iw4",
        "outputId": "af61e386-a54f-43d7-c6f7-6e7331670c93"
      },
      "execution_count": null,
      "outputs": [
        {
          "output_type": "stream",
          "name": "stdout",
          "text": [
            "['Mike', 'sirnobys', 'Noble', 'Duodu', 'Annan']\n"
          ]
        }
      ]
    },
    {
      "cell_type": "code",
      "source": [
        "#deleting a member from the list\n",
        "people.remove('sirnobys')\n",
        "print(people)"
      ],
      "metadata": {
        "colab": {
          "base_uri": "https://localhost:8080/"
        },
        "id": "UOgSSRYc0I0V",
        "outputId": "992adca2-12b3-4838-8215-514a62deee85"
      },
      "execution_count": null,
      "outputs": [
        {
          "output_type": "stream",
          "name": "stdout",
          "text": [
            "['Mike', 'Noble', 'Duodu', 'Annan']\n"
          ]
        }
      ]
    },
    {
      "cell_type": "code",
      "source": [
        "#deleting every member in the list\n",
        "people.clear()\n",
        "print(people)"
      ],
      "metadata": {
        "colab": {
          "base_uri": "https://localhost:8080/"
        },
        "id": "gCO7T1Ms0I3j",
        "outputId": "5a423ec4-06a0-4aa3-d224-3c6f765e3365"
      },
      "execution_count": null,
      "outputs": [
        {
          "output_type": "stream",
          "name": "stdout",
          "text": [
            "[]\n"
          ]
        }
      ]
    },
    {
      "cell_type": "code",
      "source": [
        "#retrieving a member in the list using index\n",
        "people = [\"Mike\", \"Noble\", \"Annan\"]\n",
        "print(people)"
      ],
      "metadata": {
        "colab": {
          "base_uri": "https://localhost:8080/"
        },
        "id": "gt0l5KLf0I7J",
        "outputId": "c3db88c2-67d1-47d9-b49e-e43de925df6e"
      },
      "execution_count": null,
      "outputs": [
        {
          "output_type": "stream",
          "name": "stdout",
          "text": [
            "['Mike', 'Noble', 'Annan']\n"
          ]
        }
      ]
    },
    {
      "cell_type": "code",
      "source": [
        "print(people[2])"
      ],
      "metadata": {
        "colab": {
          "base_uri": "https://localhost:8080/"
        },
        "id": "s0kmyvcj0I-i",
        "outputId": "ae6cb39d-42d8-40b0-e862-23f026b29f74"
      },
      "execution_count": null,
      "outputs": [
        {
          "output_type": "stream",
          "name": "stdout",
          "text": [
            "Annan\n"
          ]
        }
      ]
    },
    {
      "cell_type": "code",
      "source": [
        "#checking to see if a member exist in a list\n",
        "if 'Mike' in people:\n",
        "  print(\"Mike exists!!\")\n",
        "else:\n",
        "  print(\"Mike is unknown.\")"
      ],
      "metadata": {
        "colab": {
          "base_uri": "https://localhost:8080/"
        },
        "id": "J9mWIyaD0JCM",
        "outputId": "37affbcd-3a17-4802-f5d0-620d15345c0e"
      },
      "execution_count": null,
      "outputs": [
        {
          "output_type": "stream",
          "name": "stdout",
          "text": [
            "Mike exists!!\n"
          ]
        }
      ]
    },
    {
      "cell_type": "code",
      "source": [
        "#Tuples\n",
        "#initializing empty tuple\n",
        "homies = ()\n",
        "print(homies)"
      ],
      "metadata": {
        "colab": {
          "base_uri": "https://localhost:8080/"
        },
        "id": "MsvokBah0JFU",
        "outputId": "5815f08e-2df4-49dd-ee56-2aaccc388798"
      },
      "execution_count": null,
      "outputs": [
        {
          "output_type": "stream",
          "name": "stdout",
          "text": [
            "()\n"
          ]
        }
      ]
    },
    {
      "cell_type": "code",
      "source": [
        "#creating a tuple\n",
        "homies = ('sirnobys','kwame','broken_teeth')\n",
        "print(homies)"
      ],
      "metadata": {
        "colab": {
          "base_uri": "https://localhost:8080/"
        },
        "id": "fJGqGIal0JIm",
        "outputId": "013f60bc-27b0-4e5e-fdbd-2497bb38f4e9"
      },
      "execution_count": null,
      "outputs": [
        {
          "output_type": "stream",
          "name": "stdout",
          "text": [
            "('sirnobys', 'kwame', 'broken_teeth')\n"
          ]
        }
      ]
    },
    {
      "cell_type": "code",
      "source": [
        "#tuples are immutable, they can't be updated,deleted or appended but there's a trick to update a tuple, by converting it to a list and back to a tuple\n",
        "homies_list = list(homies)\n",
        "homies_list[2] = \"Mine\"\n",
        "homies = tuple(homies_list)\n",
        "print(homies)"
      ],
      "metadata": {
        "colab": {
          "base_uri": "https://localhost:8080/"
        },
        "id": "WzY8WOUm0JL9",
        "outputId": "a3215909-48d4-49e7-bd44-14883fada149"
      },
      "execution_count": null,
      "outputs": [
        {
          "output_type": "stream",
          "name": "stdout",
          "text": [
            "('sirnobys', 'kwame', 'Mine')\n"
          ]
        }
      ]
    },
    {
      "cell_type": "code",
      "source": [
        "#retrieving a member from a tuple\n",
        "homies = ('sirnobys','kwame','broken_teeth')\n",
        "print(homies[1])"
      ],
      "metadata": {
        "colab": {
          "base_uri": "https://localhost:8080/"
        },
        "id": "EITMAE4w0JO7",
        "outputId": "f29560da-9f01-4009-f7d3-4e69ad87a137"
      },
      "execution_count": null,
      "outputs": [
        {
          "output_type": "stream",
          "name": "stdout",
          "text": [
            "kwame\n"
          ]
        }
      ]
    },
    {
      "cell_type": "code",
      "source": [
        "#check if a given member already exists in a tuple\n",
        "if 'sirnonbys' in homies:\n",
        "  print(\"Sirnobys is a member\")\n",
        "else:\n",
        "  print(\"We don't know him.\")"
      ],
      "metadata": {
        "colab": {
          "base_uri": "https://localhost:8080/"
        },
        "id": "UZmB9zxL0JSA",
        "outputId": "5f7a4421-c6cd-4098-f6ff-6aea1cdc87fb"
      },
      "execution_count": null,
      "outputs": [
        {
          "output_type": "stream",
          "name": "stdout",
          "text": [
            "We don't know him.\n"
          ]
        }
      ]
    },
    {
      "cell_type": "code",
      "source": [
        "#check if a given member already exists in a tuple\n",
        "if 'sirnobys' in homies:\n",
        "  print(\"Sirnobys is a member\")\n",
        "else:\n",
        "  print(\"We don't know him.\")"
      ],
      "metadata": {
        "colab": {
          "base_uri": "https://localhost:8080/"
        },
        "id": "Y-j3rK9_0JVb",
        "outputId": "2b824034-d7e7-4b2f-bb9f-4c47a4c52d8c"
      },
      "execution_count": null,
      "outputs": [
        {
          "output_type": "stream",
          "name": "stdout",
          "text": [
            "Sirnobys is a member\n"
          ]
        }
      ]
    },
    {
      "cell_type": "code",
      "source": [
        "#Sets\n",
        "#initializing an empty set\n",
        "fam = set()\n",
        "print(fam)"
      ],
      "metadata": {
        "colab": {
          "base_uri": "https://localhost:8080/"
        },
        "id": "aPpgoGIJVi_K",
        "outputId": "53175a23-84d4-4f3b-8819-a4cda8e0949d"
      },
      "execution_count": null,
      "outputs": [
        {
          "output_type": "stream",
          "name": "stdout",
          "text": [
            "set()\n"
          ]
        }
      ]
    },
    {
      "cell_type": "code",
      "source": [
        "#creating an initial set\n",
        "fam = {\"Drey\", \"Tee\"}\n",
        "print(fam)"
      ],
      "metadata": {
        "colab": {
          "base_uri": "https://localhost:8080/"
        },
        "id": "F85aBPsfVjC0",
        "outputId": "8e44f76b-1b10-44d2-dc89-b7f02c8b87db"
      },
      "execution_count": null,
      "outputs": [
        {
          "output_type": "stream",
          "name": "stdout",
          "text": [
            "{'Drey', 'Tee'}\n"
          ]
        }
      ]
    },
    {
      "cell_type": "code",
      "source": [
        "fam.add(\"Audy\")\n",
        "print(fam)"
      ],
      "metadata": {
        "colab": {
          "base_uri": "https://localhost:8080/"
        },
        "id": "H0uIRGYNVjGg",
        "outputId": "c7f685bf-a5fd-49be-afe4-30ba34773daf"
      },
      "execution_count": null,
      "outputs": [
        {
          "output_type": "stream",
          "name": "stdout",
          "text": [
            "{'Audy', 'Drey', 'Tee'}\n"
          ]
        }
      ]
    },
    {
      "cell_type": "code",
      "source": [
        "fam.update([\"Nuerki\",\"Tetteh\"])\n",
        "print(fam)"
      ],
      "metadata": {
        "colab": {
          "base_uri": "https://localhost:8080/"
        },
        "id": "Wvko0c3GVjJ2",
        "outputId": "bf5e5ae0-0c16-4325-9b11-27c8e0164986"
      },
      "execution_count": null,
      "outputs": [
        {
          "output_type": "stream",
          "name": "stdout",
          "text": [
            "{'Drey', 'Tee', 'Nuerki', 'Audy', 'Tetteh'}\n"
          ]
        }
      ]
    },
    {
      "cell_type": "code",
      "source": [
        "#sets do not allow repetition so you cannot add the same member more than once\n",
        "fam.add(\"Nuerki\")\n",
        "print(fam)"
      ],
      "metadata": {
        "colab": {
          "base_uri": "https://localhost:8080/"
        },
        "id": "rkkVmtrlVjNx",
        "outputId": "01ca4613-7f5a-4e2c-f6f8-06cea10901b9"
      },
      "execution_count": null,
      "outputs": [
        {
          "output_type": "stream",
          "name": "stdout",
          "text": [
            "{'Drey', 'Tee', 'Nuerki', 'Audy', 'Tetteh'}\n"
          ]
        }
      ]
    },
    {
      "cell_type": "code",
      "source": [
        "#sets are not mutable so members can only be added or deleted.\n",
        "#deleting in a set\n",
        "fam.remove(\"Tetteh\")\n",
        "print(fam)"
      ],
      "metadata": {
        "colab": {
          "base_uri": "https://localhost:8080/"
        },
        "id": "Yw6pJsiSVjRZ",
        "outputId": "1b56e6a6-f1b8-4528-d467-37a984821a99"
      },
      "execution_count": null,
      "outputs": [
        {
          "output_type": "stream",
          "name": "stdout",
          "text": [
            "{'Drey', 'Tee', 'Nuerki', 'Audy'}\n"
          ]
        }
      ]
    },
    {
      "cell_type": "code",
      "source": [
        "#deleting all members in a set.\n",
        "fam.clear()\n",
        "print(fam)"
      ],
      "metadata": {
        "colab": {
          "base_uri": "https://localhost:8080/"
        },
        "id": "cYkCjkyAVjVE",
        "outputId": "8fd37152-9b27-401e-837b-de59076c8bf0"
      },
      "execution_count": null,
      "outputs": [
        {
          "output_type": "stream",
          "name": "stdout",
          "text": [
            "set()\n"
          ]
        }
      ]
    },
    {
      "cell_type": "code",
      "source": [
        "#Dictionary\n",
        "#initializing an empty dictionary\n",
        "fams = {}\n",
        "print(fams)"
      ],
      "metadata": {
        "colab": {
          "base_uri": "https://localhost:8080/"
        },
        "id": "1LkUWvF9VjYi",
        "outputId": "92376d3e-90f2-4307-d770-c806dbdea860"
      },
      "execution_count": null,
      "outputs": [
        {
          "output_type": "stream",
          "name": "stdout",
          "text": [
            "{}\n"
          ]
        }
      ]
    },
    {
      "cell_type": "code",
      "source": [
        "#creating a dictionary\n",
        "fams = {\"sirnobys\":24 , \"msnobys\": 25}\n",
        "print(fams)"
      ],
      "metadata": {
        "colab": {
          "base_uri": "https://localhost:8080/"
        },
        "id": "jN9abmZFVjci",
        "outputId": "287c7076-5234-4776-af8b-6b3db0511052"
      },
      "execution_count": null,
      "outputs": [
        {
          "output_type": "stream",
          "name": "stdout",
          "text": [
            "{'sirnobys': 24, 'msnobys': 25}\n"
          ]
        }
      ]
    },
    {
      "cell_type": "code",
      "source": [
        "#adding in a dictionary\n",
        "fams[\"dee\"] = 26\n",
        "print(fams)"
      ],
      "metadata": {
        "colab": {
          "base_uri": "https://localhost:8080/"
        },
        "id": "W4E50AzpVjgj",
        "outputId": "cee8bcc3-0431-4a86-c6f4-5e9680147ee9"
      },
      "execution_count": null,
      "outputs": [
        {
          "output_type": "stream",
          "name": "stdout",
          "text": [
            "{'sirnobys': 24, 'msnobys': 25, 'dee': 26}\n"
          ]
        }
      ]
    },
    {
      "cell_type": "code",
      "source": [
        "#updating in a dictionary\n",
        "fams[\"sirnobys\"] = 25\n",
        "print(fams)"
      ],
      "metadata": {
        "colab": {
          "base_uri": "https://localhost:8080/"
        },
        "id": "2UQ9IQBgVjkP",
        "outputId": "1171af09-40db-4747-ff22-e0c568216123"
      },
      "execution_count": null,
      "outputs": [
        {
          "output_type": "stream",
          "name": "stdout",
          "text": [
            "{'sirnobys': 25, 'msnobys': 25, 'dee': 26}\n"
          ]
        }
      ]
    },
    {
      "cell_type": "code",
      "source": [
        "#deleting in a dictionary\n",
        "fams.pop(\"dee\")\n",
        "print(fams)"
      ],
      "metadata": {
        "colab": {
          "base_uri": "https://localhost:8080/"
        },
        "id": "Uy4-uXUGVjnz",
        "outputId": "6e2454bd-6bea-4a78-9e39-57a599f21ed3"
      },
      "execution_count": null,
      "outputs": [
        {
          "output_type": "stream",
          "name": "stdout",
          "text": [
            "{'sirnobys': 25, 'msnobys': 25}\n"
          ]
        }
      ]
    },
    {
      "cell_type": "code",
      "source": [
        "#deleting all items in a dictionary\n",
        "fams.clear()\n",
        "print(fams)"
      ],
      "metadata": {
        "colab": {
          "base_uri": "https://localhost:8080/"
        },
        "id": "2yg4LjeTVjrf",
        "outputId": "21a17f72-8e10-4072-bacb-39b187f07b84"
      },
      "execution_count": null,
      "outputs": [
        {
          "output_type": "stream",
          "name": "stdout",
          "text": [
            "{}\n"
          ]
        }
      ]
    },
    {
      "cell_type": "code",
      "source": [
        "fams = {\"sirnobys\":24 , \"msnobys\": 25}\n",
        "sirnobys_age = fams['sirnobys']\n",
        "print(sirnobys_age)"
      ],
      "metadata": {
        "colab": {
          "base_uri": "https://localhost:8080/"
        },
        "id": "uQ78hIPhVjvG",
        "outputId": "a9457d71-21b8-4c41-a82d-a824f315050d"
      },
      "execution_count": null,
      "outputs": [
        {
          "output_type": "stream",
          "name": "stdout",
          "text": [
            "24\n"
          ]
        }
      ]
    },
    {
      "cell_type": "code",
      "source": [
        "#While loops\n",
        "#squared of a number\n",
        "number = 1\n",
        "while number <=5: \n",
        "  print(number, 'squared is', number**2)\n",
        "  number = number + 1\n"
      ],
      "metadata": {
        "colab": {
          "base_uri": "https://localhost:8080/"
        },
        "id": "CnIDMTtRVjyy",
        "outputId": "124077a6-2006-48f2-b9c8-ca98b2f12860"
      },
      "execution_count": null,
      "outputs": [
        {
          "output_type": "stream",
          "name": "stdout",
          "text": [
            "1 squared is 1\n",
            "2 squared is 4\n",
            "3 squared is 9\n",
            "4 squared is 16\n",
            "5 squared is 25\n"
          ]
        }
      ]
    },
    {
      "cell_type": "code",
      "source": [
        "#else block\n",
        "number = 1\n",
        "while number <=5:\n",
        "  print(number, 'squared is', number**2)\n",
        "  number = number + 1\n",
        "else:\n",
        "  print(\"no numbers left!!\")"
      ],
      "metadata": {
        "colab": {
          "base_uri": "https://localhost:8080/"
        },
        "id": "5sjkEUkLVj2p",
        "outputId": "29f4d9bb-6740-4688-8c16-6332a4bfac8e"
      },
      "execution_count": null,
      "outputs": [
        {
          "output_type": "stream",
          "name": "stdout",
          "text": [
            "1 squared is 1\n",
            "2 squared is 4\n",
            "3 squared is 9\n",
            "4 squared is 16\n",
            "5 squared is 25\n",
            "no numbers left!!\n"
          ]
        }
      ]
    },
    {
      "cell_type": "code",
      "source": [
        "#how to break out of a while loop\n",
        "number = 1\n",
        "while number <=5:\n",
        "  print(number, 'squared is', number**2)\n",
        "  number = number + 1\n",
        "  if number == 4:\n",
        "    break\n"
      ],
      "metadata": {
        "colab": {
          "base_uri": "https://localhost:8080/"
        },
        "id": "lk8Su_8aVj6R",
        "outputId": "fd830d9a-2303-479a-e0fa-235928972147"
      },
      "execution_count": null,
      "outputs": [
        {
          "output_type": "stream",
          "name": "stdout",
          "text": [
            "1 squared is 1\n",
            "2 squared is 4\n",
            "3 squared is 9\n"
          ]
        }
      ]
    },
    {
      "cell_type": "code",
      "source": [
        "#how to skip an item in a while loop\n",
        "number = 0\n",
        "while number < 5:\n",
        "  number = number + 1\n",
        "  if number == 4:\n",
        "    continue\n",
        "  print(number, 'squared is', number**2)"
      ],
      "metadata": {
        "colab": {
          "base_uri": "https://localhost:8080/"
        },
        "id": "_Xu9r8vNVj98",
        "outputId": "6f827ae6-f71e-4cb5-9f80-3796f438a240"
      },
      "execution_count": null,
      "outputs": [
        {
          "output_type": "stream",
          "name": "stdout",
          "text": [
            "1 squared is 1\n",
            "2 squared is 4\n",
            "3 squared is 9\n",
            "5 squared is 25\n"
          ]
        }
      ]
    },
    {
      "cell_type": "code",
      "source": [
        "#for loops\n",
        "#loop over a list\n",
        "cars = [\"lexus\",\"bmw\", \"tesla\"]\n",
        "for car in cars:\n",
        "  print(car)"
      ],
      "metadata": {
        "colab": {
          "base_uri": "https://localhost:8080/"
        },
        "id": "2dYUkcI_VkB7",
        "outputId": "25e1a7e0-1a9a-4c07-c55c-3eefc2c9c481"
      },
      "execution_count": null,
      "outputs": [
        {
          "output_type": "stream",
          "name": "stdout",
          "text": [
            "lexus\n",
            "bmw\n",
            "tesla\n"
          ]
        }
      ]
    },
    {
      "cell_type": "code",
      "source": [
        "#using the range function for loop\n",
        "for number in range(10):\n",
        "  print(number)"
      ],
      "metadata": {
        "colab": {
          "base_uri": "https://localhost:8080/"
        },
        "id": "C3aAoBBAVkFd",
        "outputId": "dd373a37-ebf6-477f-9313-12f06d4cc663"
      },
      "execution_count": null,
      "outputs": [
        {
          "output_type": "stream",
          "name": "stdout",
          "text": [
            "0\n",
            "1\n",
            "2\n",
            "3\n",
            "4\n",
            "5\n",
            "6\n",
            "7\n",
            "8\n",
            "9\n"
          ]
        }
      ]
    },
    {
      "cell_type": "code",
      "source": [
        "#defining a start and stop for looping a range\n",
        "for number in range(2,10):\n",
        "  print(number)"
      ],
      "metadata": {
        "colab": {
          "base_uri": "https://localhost:8080/"
        },
        "id": "5UYrqsFIVkI8",
        "outputId": "7d3edd82-98a9-42df-8c58-76d81a801554"
      },
      "execution_count": null,
      "outputs": [
        {
          "output_type": "stream",
          "name": "stdout",
          "text": [
            "2\n",
            "3\n",
            "4\n",
            "5\n",
            "6\n",
            "7\n",
            "8\n",
            "9\n"
          ]
        }
      ]
    },
    {
      "cell_type": "code",
      "source": [
        "#setting a step\n",
        "for number in range(10,20,3):\n",
        "  print(number)"
      ],
      "metadata": {
        "colab": {
          "base_uri": "https://localhost:8080/"
        },
        "id": "Jy7pxVP5VkQG",
        "outputId": "8997e270-b416-4f41-cf6b-07b84e1e4b3d"
      },
      "execution_count": null,
      "outputs": [
        {
          "output_type": "stream",
          "name": "stdout",
          "text": [
            "10\n",
            "13\n",
            "16\n",
            "19\n"
          ]
        }
      ]
    },
    {
      "cell_type": "code",
      "source": [
        "#else block : when items in a list are finished, else is used\n",
        "for number in range(10,20,3):\n",
        "  print(number)\n",
        "else:\n",
        "  print(\"All items in range are exhausted\")\n",
        "\n"
      ],
      "metadata": {
        "colab": {
          "base_uri": "https://localhost:8080/"
        },
        "id": "aqXNRSn3C8f3",
        "outputId": "dd4f0daa-c0cb-4371-b293-45153547a808"
      },
      "execution_count": null,
      "outputs": [
        {
          "output_type": "stream",
          "name": "stdout",
          "text": [
            "10\n",
            "13\n",
            "16\n",
            "19\n",
            "All items in range are exhausted\n"
          ]
        }
      ]
    },
    {
      "cell_type": "code",
      "source": [
        "#how to break out of a loop\n",
        "cars = [\"lexus\",\"bmw\", \"tesla\"]\n",
        "for car in cars:\n",
        "  print(car)\n",
        "  if car == \"tesla\":\n",
        "    break\n"
      ],
      "metadata": {
        "colab": {
          "base_uri": "https://localhost:8080/"
        },
        "id": "OL8FlK6tC8jT",
        "outputId": "1fa91e35-a1b4-4b9c-b44f-de6eb7f0aeb8"
      },
      "execution_count": null,
      "outputs": [
        {
          "output_type": "stream",
          "name": "stdout",
          "text": [
            "lexus\n",
            "bmw\n",
            "tesla\n"
          ]
        }
      ]
    },
    {
      "cell_type": "code",
      "source": [
        "#how to skip an item in a for loop\n",
        "cars = [\"lexus\",\"bmw\", \"tesla\"]\n",
        "for car in cars:\n",
        "  \n",
        "  if car == \"lexus\":\n",
        "    continue\n",
        "  print(car)\n"
      ],
      "metadata": {
        "colab": {
          "base_uri": "https://localhost:8080/"
        },
        "id": "6yC-VlA_C8m7",
        "outputId": "530a4b7e-49ec-4204-8d83-805e2a7aaee0"
      },
      "execution_count": null,
      "outputs": [
        {
          "output_type": "stream",
          "name": "stdout",
          "text": [
            "bmw\n",
            "tesla\n"
          ]
        }
      ]
    },
    {
      "cell_type": "code",
      "source": [
        "#loops over loops : nested for loops\n",
        "car_models =[[\"lexus 1\",\"lexus 2\",\"lexus 3\"],[\"bmw 4\",\"bmw 5\",\"bmw 6\"],[\"tesla 7\",\"tesla 8\",\"tesla 9\"]]\n",
        "for brand in car_models:\n",
        "  for model in brand:\n",
        "    print(model)"
      ],
      "metadata": {
        "colab": {
          "base_uri": "https://localhost:8080/"
        },
        "id": "w57DJLWIC8qk",
        "outputId": "f7b04a23-21d9-4e41-9d52-85af335facd2"
      },
      "execution_count": null,
      "outputs": [
        {
          "output_type": "stream",
          "name": "stdout",
          "text": [
            "lexus 1\n",
            "lexus 2\n",
            "lexus 3\n",
            "bmw 4\n",
            "bmw 5\n",
            "bmw 6\n",
            "tesla 7\n",
            "tesla 8\n",
            "tesla 9\n"
          ]
        }
      ]
    },
    {
      "cell_type": "code",
      "source": [
        "#loop over a tuple\n",
        "people = (\"Bob\",\"Anna\",\"Ama\")\n",
        "for person in people:\n",
        "  print(person)"
      ],
      "metadata": {
        "colab": {
          "base_uri": "https://localhost:8080/"
        },
        "id": "j8g2xrV8C8uM",
        "outputId": "df3acd4f-230a-42c7-9e98-b971a501d613"
      },
      "execution_count": null,
      "outputs": [
        {
          "output_type": "stream",
          "name": "stdout",
          "text": [
            "Bob\n",
            "Anna\n",
            "Ama\n"
          ]
        }
      ]
    },
    {
      "cell_type": "code",
      "source": [
        "#loop over a set\n",
        "people = {\"Bob\",\"Anna\",\"Ama\"}\n",
        "for person in people:\n",
        "  print(person)"
      ],
      "metadata": {
        "colab": {
          "base_uri": "https://localhost:8080/"
        },
        "id": "b2E-FSZVC9HO",
        "outputId": "f8f63d8d-d667-4a3b-e03a-9486b28d078f"
      },
      "execution_count": null,
      "outputs": [
        {
          "output_type": "stream",
          "name": "stdout",
          "text": [
            "Ama\n",
            "Bob\n",
            "Anna\n"
          ]
        }
      ]
    },
    {
      "cell_type": "code",
      "source": [
        "#loop over a dictionary\n",
        "#to print the keys\n",
        "people = {'Bob':30, 'Mary':25}\n",
        "for person in people:\n",
        "  print(person)\n",
        "\n",
        "#to print the values\n",
        "people = {'Bob':30, 'Mary':25}\n",
        "for person in people:\n",
        "  print(people[person])"
      ],
      "metadata": {
        "colab": {
          "base_uri": "https://localhost:8080/"
        },
        "id": "qC2GYWD2C9K1",
        "outputId": "b328d03d-dee9-4764-edb3-ba2da90b5973"
      },
      "execution_count": null,
      "outputs": [
        {
          "output_type": "stream",
          "name": "stdout",
          "text": [
            "Bob\n",
            "Mary\n",
            "30\n",
            "25\n"
          ]
        }
      ]
    },
    {
      "cell_type": "code",
      "source": [
        "#Functions\n",
        "def my_name():\n",
        "  print(\"My name is Drey Tee.\")\n",
        "my_name()"
      ],
      "metadata": {
        "colab": {
          "base_uri": "https://localhost:8080/"
        },
        "id": "1N98OgQEC9Og",
        "outputId": "e9f1164d-02ab-4568-8f01-308106a1e6c9"
      },
      "execution_count": null,
      "outputs": [
        {
          "output_type": "stream",
          "name": "stdout",
          "text": [
            "My name is Drey Tee.\n"
          ]
        }
      ]
    },
    {
      "cell_type": "code",
      "source": [
        "#return a value\n",
        "def my_surname():\n",
        "  return(\"My surname is Tetteh\")\n",
        "print(my_surname())"
      ],
      "metadata": {
        "colab": {
          "base_uri": "https://localhost:8080/"
        },
        "id": "RHzpGUZzC9SK",
        "outputId": "b234d11c-82f4-441e-92e2-ac10524954fe"
      },
      "execution_count": null,
      "outputs": [
        {
          "output_type": "stream",
          "name": "stdout",
          "text": [
            "My surname is Tetteh\n"
          ]
        }
      ]
    },
    {
      "cell_type": "code",
      "source": [
        "#return multiple values\n",
        "def return_numbers():\n",
        "  return 10,2\n",
        "print(return_numbers())"
      ],
      "metadata": {
        "colab": {
          "base_uri": "https://localhost:8080/"
        },
        "id": "eu1jiNkJC9Vk",
        "outputId": "e29e4243-eb07-4390-dd53-c968c7e92ec5"
      },
      "execution_count": null,
      "outputs": [
        {
          "output_type": "stream",
          "name": "stdout",
          "text": [
            "(10, 2)\n"
          ]
        }
      ]
    },
    {
      "cell_type": "code",
      "source": [
        "#Arguments\n",
        "#one argument\n",
        "def my_number(num):\n",
        "  return 'My number is ' + str(num)\n",
        "print(my_number(23))"
      ],
      "metadata": {
        "colab": {
          "base_uri": "https://localhost:8080/"
        },
        "id": "4KBU_hBNC9ZY",
        "outputId": "6da2cb03-f30a-458c-8956-f80cb452c685"
      },
      "execution_count": null,
      "outputs": [
        {
          "output_type": "stream",
          "name": "stdout",
          "text": [
            "My number is 23\n"
          ]
        }
      ]
    },
    {
      "cell_type": "code",
      "source": [
        "#two or more arguments\n",
        "def sum(num_1,num_2,num_3):\n",
        "  return num_1 + num_2 + num_3\n",
        "print(sum(2,6,4))"
      ],
      "metadata": {
        "colab": {
          "base_uri": "https://localhost:8080/"
        },
        "id": "uMGSOgxgC9c1",
        "outputId": "7db0637b-9123-4c43-b27d-2211094b6b2c"
      },
      "execution_count": null,
      "outputs": [
        {
          "output_type": "stream",
          "name": "stdout",
          "text": [
            "12\n"
          ]
        }
      ]
    },
    {
      "cell_type": "code",
      "source": [
        "#default value argument\n",
        "def my_num(number =45):\n",
        "  return 'My number is: ' +str(number)\n",
        "print(my_num())\n",
        "print(my_num(30))"
      ],
      "metadata": {
        "colab": {
          "base_uri": "https://localhost:8080/"
        },
        "id": "FRmi6CmQC9go",
        "outputId": "fa264aa2-7b1e-43aa-eb97-cb5af6de20ef"
      },
      "execution_count": null,
      "outputs": [
        {
          "output_type": "stream",
          "name": "stdout",
          "text": [
            "My number is: 45\n",
            "My number is: 30\n"
          ]
        }
      ]
    },
    {
      "cell_type": "code",
      "source": [
        "#keyword or named argument\n",
        "def two_nums(first_num,second_num):\n",
        "  return 'The numbers are: ' + str(first_num) + ' and ' + str(second_num)\n",
        "print(two_nums(first_num = 30, second_num = -5))"
      ],
      "metadata": {
        "colab": {
          "base_uri": "https://localhost:8080/"
        },
        "id": "GGMKrmnqC9kE",
        "outputId": "0a77ae7d-88c8-4437-e2fa-b6048cb86e5b"
      },
      "execution_count": null,
      "outputs": [
        {
          "output_type": "stream",
          "name": "stdout",
          "text": [
            "The numbers are: 30 and -5\n"
          ]
        }
      ]
    },
    {
      "cell_type": "code",
      "source": [
        "#any number of arguments\n",
        "def my_numbers(*args):\n",
        "  for number in args:\n",
        "    print(number)\n",
        "my_numbers(10,2,3)"
      ],
      "metadata": {
        "colab": {
          "base_uri": "https://localhost:8080/"
        },
        "id": "fiytpACVC9nl",
        "outputId": "1328b3a5-4910-4e33-d5fb-3a0c6536b087"
      },
      "execution_count": null,
      "outputs": [
        {
          "output_type": "stream",
          "name": "stdout",
          "text": [
            "10\n",
            "2\n",
            "3\n"
          ]
        }
      ]
    },
    {
      "cell_type": "code",
      "source": [
        "#keyword arguments\n",
        "def my_numbers(**kwargs):\n",
        "    for key, value in kwargs.items():\n",
        "        print(key)\n",
        "        print(value)\n",
        "my_numbers(first_number=30, second_number=10)"
      ],
      "metadata": {
        "colab": {
          "base_uri": "https://localhost:8080/"
        },
        "id": "UyXoeiujC9rE",
        "outputId": "f6d10492-7091-4db7-92ab-a5af118d7ffc"
      },
      "execution_count": null,
      "outputs": [
        {
          "output_type": "stream",
          "name": "stdout",
          "text": [
            "first_number\n",
            "30\n",
            "second_number\n",
            "10\n"
          ]
        }
      ]
    },
    {
      "cell_type": "code",
      "source": [
        "def my_sport(sport):\n",
        "    print('I like ' + sport)\n",
        "my_sport('football')\n",
        "my_sport('swimming')"
      ],
      "metadata": {
        "colab": {
          "base_uri": "https://localhost:8080/"
        },
        "id": "8uX4xL9zC9ub",
        "outputId": "103b5c74-2ecb-4652-a76c-29773bbf7645"
      },
      "execution_count": null,
      "outputs": [
        {
          "output_type": "stream",
          "name": "stdout",
          "text": [
            "I like football\n",
            "I like swimming\n"
          ]
        }
      ]
    },
    {
      "cell_type": "code",
      "source": [
        "def my_numbers(numbers):\n",
        "    for number in numbers:\n",
        "        print(number)\n",
        "my_numbers([30, 10, 64, 92, 105])"
      ],
      "metadata": {
        "colab": {
          "base_uri": "https://localhost:8080/"
        },
        "id": "OWECwog5C9xs",
        "outputId": "c2b8e064-2c70-4264-cbe9-4f733e87c755"
      },
      "execution_count": null,
      "outputs": [
        {
          "output_type": "stream",
          "name": "stdout",
          "text": [
            "30\n",
            "10\n",
            "64\n",
            "92\n",
            "105\n"
          ]
        }
      ]
    },
    {
      "cell_type": "code",
      "source": [
        "#Scope\n",
        "#global scope\n",
        "name = \"Drey T.\"\n",
        "def print_name():\n",
        "  print(\"My name is: \" + name)\n",
        "print_name()\n"
      ],
      "metadata": {
        "colab": {
          "base_uri": "https://localhost:8080/"
        },
        "id": "sWtYKqsmimbn",
        "outputId": "ccf1f1a1-b5dc-45f1-b426-05ed308bf699"
      },
      "execution_count": null,
      "outputs": [
        {
          "output_type": "stream",
          "name": "stdout",
          "text": [
            "My name is: Drey T.\n"
          ]
        }
      ]
    },
    {
      "cell_type": "code",
      "source": [
        "#local sope\n",
        "def p_name():\n",
        "  name = \"Drey Tee\"\n",
        "  print(\"My name is \" + name)\n",
        "p_name()"
      ],
      "metadata": {
        "colab": {
          "base_uri": "https://localhost:8080/"
        },
        "id": "kiRKMLBuinvE",
        "outputId": "ea0198a5-e253-41b6-9ccc-1dc8fd506d65"
      },
      "execution_count": null,
      "outputs": [
        {
          "output_type": "stream",
          "name": "stdout",
          "text": [
            "My name is Drey Tee\n"
          ]
        }
      ]
    },
    {
      "cell_type": "code",
      "source": [
        "#mixing scopes\n",
        "name = \"Sarah\"\n",
        "def print_name():\n",
        "  name = 'Bob'\n",
        "  print('My name is ' + name)\n",
        "print(name)\n",
        "print_name()"
      ],
      "metadata": {
        "colab": {
          "base_uri": "https://localhost:8080/"
        },
        "id": "gr92oIxqioFI",
        "outputId": "f64d87c9-2424-4a99-e2ad-d3bb4dae98d0"
      },
      "execution_count": null,
      "outputs": [
        {
          "output_type": "stream",
          "name": "stdout",
          "text": [
            "Sarah\n",
            "My name is Bob\n"
          ]
        }
      ]
    },
    {
      "cell_type": "code",
      "source": [
        "#List Comprehensions\n",
        "#calculating the cube of a number\n",
        "#regular\n",
        "numbers = [1,2,3,4,5]\n",
        "list_numbers = []\n",
        "\n",
        "for n in numbers:\n",
        "  list_numbers.append(n**3)\n",
        "\n",
        "print(list_numbers)\n"
      ],
      "metadata": {
        "colab": {
          "base_uri": "https://localhost:8080/"
        },
        "id": "WXYpFHRlioIS",
        "outputId": "30af0ddb-6c4d-4ef8-e05e-915b4e8c6619"
      },
      "execution_count": null,
      "outputs": [
        {
          "output_type": "stream",
          "name": "stdout",
          "text": [
            "[1, 8, 27, 64, 125]\n"
          ]
        }
      ]
    },
    {
      "cell_type": "code",
      "source": [
        "#using list comprehension\n",
        "#calculating the cube of a number\n",
        "numbers = [1,2,3,4,5]\n",
        "new_list = []\n",
        "new_list = [n**3 for n in numbers]\n",
        "print(new_list)"
      ],
      "metadata": {
        "colab": {
          "base_uri": "https://localhost:8080/"
        },
        "id": "LsJl1E20ioLo",
        "outputId": "3f4b02e6-a61e-4929-db63-c85eff101ca9"
      },
      "execution_count": null,
      "outputs": [
        {
          "output_type": "stream",
          "name": "stdout",
          "text": [
            "[1, 8, 27, 64, 125]\n"
          ]
        }
      ]
    },
    {
      "cell_type": "code",
      "source": [
        "#calculating the cube of a number only if it\"s greater than 3\n",
        "#regular way\n",
        "numbers = [1,2,3,4,5]\n",
        "new_list = []\n",
        "for n in numbers:\n",
        "  if n > 3:\n",
        "    new_list.append(n**3)\n",
        "print(new_list)"
      ],
      "metadata": {
        "colab": {
          "base_uri": "https://localhost:8080/"
        },
        "id": "-QaNomNHioPf",
        "outputId": "8b166b87-e8e0-4df7-d16b-fe90e87cfa85"
      },
      "execution_count": null,
      "outputs": [
        {
          "output_type": "stream",
          "name": "stdout",
          "text": [
            "[64, 125]\n"
          ]
        }
      ]
    },
    {
      "cell_type": "code",
      "source": [
        "#calculating the cube of a number only if it\"s greater than 3\n",
        "#using list comprehension\n",
        "numbers = [1,2,3,4,5]\n",
        "new_list = []\n",
        "new_list = [n**3 for n in numbers if n>3]\n",
        "print(new_list)"
      ],
      "metadata": {
        "colab": {
          "base_uri": "https://localhost:8080/"
        },
        "id": "lcrRKQlnioSu",
        "outputId": "489bfeb4-434c-4d82-ed84-3d3860cf5843"
      },
      "execution_count": null,
      "outputs": [
        {
          "output_type": "stream",
          "name": "stdout",
          "text": [
            "[64, 125]\n"
          ]
        }
      ]
    },
    {
      "cell_type": "code",
      "source": [
        "#Calling functions using list comprehension\n",
        "numbers = [1,2,3,4,5]\n",
        "new_list = []\n",
        "def cube(number):\n",
        "  return number**3\n",
        "\n",
        "new_list = [cube(n) for n in numbers if n>3]\n",
        "print(new_list)\n"
      ],
      "metadata": {
        "colab": {
          "base_uri": "https://localhost:8080/"
        },
        "id": "CFATSsZ4cEoR",
        "outputId": "7a748613-a68f-463d-842c-958fa69d9b2f"
      },
      "execution_count": null,
      "outputs": [
        {
          "output_type": "stream",
          "name": "stdout",
          "text": [
            "[64, 125]\n"
          ]
        }
      ]
    },
    {
      "cell_type": "code",
      "source": [
        "#Lambda Functions\n"
      ],
      "metadata": {
        "id": "-iSoSkRYcErJ"
      },
      "execution_count": null,
      "outputs": []
    },
    {
      "cell_type": "code",
      "source": [
        "def get_squared_numbers(numbers):\n",
        "  squared_numbers = []\n",
        "  for n in numbers:\n",
        "    squared_numbers.append(n*n)\n",
        "  return squared_numbers\n",
        "\n",
        " "
      ],
      "metadata": {
        "id": "erMYoythHMJW"
      },
      "execution_count": null,
      "outputs": []
    },
    {
      "cell_type": "code",
      "source": [
        "numbers = [2,5,8,9]\n",
        "get_squared_numbers(numbers)"
      ],
      "metadata": {
        "colab": {
          "base_uri": "https://localhost:8080/"
        },
        "id": "cGeOLcvfI3yu",
        "outputId": "392a02dd-6fba-49c1-9ffa-392ddecd2ebc"
      },
      "execution_count": null,
      "outputs": [
        {
          "output_type": "execute_result",
          "data": {
            "text/plain": [
              "[4, 25, 64, 81]"
            ]
          },
          "metadata": {},
          "execution_count": 7
        }
      ]
    },
    {
      "cell_type": "code",
      "source": [
        "#Data Structures[Arrays]"
      ],
      "metadata": {
        "id": "EU4-hXXMcEuf"
      },
      "execution_count": null,
      "outputs": []
    },
    {
      "cell_type": "code",
      "source": [
        "# Let us say your expense for every month are listed below,\n",
        "# January - 2200\n",
        "# February - 2350\n",
        "# March - 2600\n",
        "# April - 2130\n",
        "# May - 2190\n",
        "# Create a list to store these monthly expenses and using that find out,\n",
        "\n",
        "# 1. In Feb, how many dollars you spent extra compare to January?\n",
        "# 2. Find out your total expense in first quarter (first three months) of the year.\n",
        "# 3. Find out if you spent exactly 2000 dollars in any month\n",
        "# 4. June month just finished and your expense is 1980 dollar. Add this item to our monthly expense list\n",
        "# 5. You returned an item that you bought in a month of April and\n",
        "# got a refund of 200$. Make a correction to your monthly expense list\n",
        "# based on this"
      ],
      "metadata": {
        "id": "gJNUnp5BcExZ"
      },
      "execution_count": null,
      "outputs": []
    },
    {
      "cell_type": "markdown",
      "source": [
        "**Question 1**\n",
        "Let us say your expense for every month are listed below,\n",
        " January - 2200\n",
        " February - 2350\n",
        " March - 2600\n",
        " April - 2130\n",
        " May - 2190\n",
        " Create a list to store these monthly expenses and using that find out,\n",
        "\n",
        " 1. In Feb, how many dollars you spent extra compare to January?\n",
        " 2. Find out your total expense in first quarter (first three months) of the year.\n",
        " 3. Find out if you spent exactly 2000 dollars in any month\n",
        " 4. June month just finished and your expense is 1980 dollar. Add this item to our monthly expense list\n",
        " 5. You returned an item that you bought in a month of April and\n",
        " got a refund of 200$. Make a correction to your monthly expense list\n",
        " based on this"
      ],
      "metadata": {
        "id": "s8ZryU7FhyO9"
      }
    },
    {
      "cell_type": "code",
      "source": [
        "expenses = [2200,2350, 2600, 2130, 2190]\n",
        "print(expenses)"
      ],
      "metadata": {
        "id": "QG40nnGtcE0y",
        "colab": {
          "base_uri": "https://localhost:8080/"
        },
        "outputId": "63e35a35-166a-4199-e196-17e48f47211e"
      },
      "execution_count": null,
      "outputs": [
        {
          "output_type": "stream",
          "name": "stdout",
          "text": [
            "[2200, 2350, 2600, 2130, 2190]\n"
          ]
        }
      ]
    },
    {
      "cell_type": "code",
      "source": [
        "extra_dollars = expenses[1] - expenses[0]\n",
        "print(extra_dollars)"
      ],
      "metadata": {
        "id": "39sSFjVOcE4E",
        "colab": {
          "base_uri": "https://localhost:8080/"
        },
        "outputId": "2bcfd15d-62e3-477d-e13b-6e42c530e6c8"
      },
      "execution_count": null,
      "outputs": [
        {
          "output_type": "stream",
          "name": "stdout",
          "text": [
            "150\n"
          ]
        }
      ]
    },
    {
      "cell_type": "code",
      "source": [
        "first_quarter_expenses = expenses[0] + expenses[1] + expenses[2]\n",
        "print(first_quarter_expenses)"
      ],
      "metadata": {
        "id": "wfk8wg9XcE7Z",
        "colab": {
          "base_uri": "https://localhost:8080/"
        },
        "outputId": "37ff4906-dc27-4a7d-b21a-af426cd56b21"
      },
      "execution_count": null,
      "outputs": [
        {
          "output_type": "stream",
          "name": "stdout",
          "text": [
            "7150\n"
          ]
        }
      ]
    },
    {
      "cell_type": "code",
      "source": [
        "exactly_two_k = 2000 in expenses\n",
        "print(exactly_two_k)"
      ],
      "metadata": {
        "id": "n955m0vecE-l",
        "colab": {
          "base_uri": "https://localhost:8080/"
        },
        "outputId": "6ed4e902-701b-460f-b910-5e18d65957b7"
      },
      "execution_count": null,
      "outputs": [
        {
          "output_type": "stream",
          "name": "stdout",
          "text": [
            "False\n"
          ]
        }
      ]
    },
    {
      "cell_type": "code",
      "source": [
        "expenses.append(1980)\n",
        "print(expenses)"
      ],
      "metadata": {
        "id": "h7fBDWqFcFB1",
        "colab": {
          "base_uri": "https://localhost:8080/"
        },
        "outputId": "02b11b83-3aa5-45fd-d6e4-6fd3d3fc1ac6"
      },
      "execution_count": null,
      "outputs": [
        {
          "output_type": "stream",
          "name": "stdout",
          "text": [
            "[2200, 2350, 2600, 2130, 2190, 1980]\n"
          ]
        }
      ]
    },
    {
      "cell_type": "code",
      "source": [
        "actual_expenses = expenses[3] - 200\n",
        "print(actual_expenses)"
      ],
      "metadata": {
        "id": "fRpOMvLQcFE7",
        "colab": {
          "base_uri": "https://localhost:8080/"
        },
        "outputId": "806ca0d8-5f46-46b7-af31-18c9c1008d31"
      },
      "execution_count": null,
      "outputs": [
        {
          "output_type": "stream",
          "name": "stdout",
          "text": [
            "1930\n"
          ]
        }
      ]
    },
    {
      "cell_type": "code",
      "source": [
        "expenses[3] = actual_expenses\n",
        "print(expenses)"
      ],
      "metadata": {
        "id": "f82KynAecFIW",
        "colab": {
          "base_uri": "https://localhost:8080/"
        },
        "outputId": "43f0671a-f92a-4892-ab75-641307d62a8f"
      },
      "execution_count": null,
      "outputs": [
        {
          "output_type": "stream",
          "name": "stdout",
          "text": [
            "[2200, 2350, 2600, 1930, 2190, 1980]\n"
          ]
        }
      ]
    },
    {
      "cell_type": "markdown",
      "source": [
        ""
      ],
      "metadata": {
        "id": "-7bnTn9LieGg"
      }
    },
    {
      "cell_type": "markdown",
      "source": [
        "**Question 2**\n",
        "You have a list of your favourite marvel super heros.\n",
        "heros=['spider man','thor','hulk','iron man','captain america']\n",
        "Using this find out,\n",
        "1. Length of the list\n",
        "2. Add 'black panther' at the end of this list\n",
        "3. You realize that you need to add 'black panther' after 'hulk',\n",
        "   so remove it from the list first and then add it after 'hulk'\n",
        "4. Now you don't like thor and hulk because they get angry easily :)\n",
        "   So you want to remove thor and hulk from list and replace them with doctor strange (because he is cool).\n",
        "   Do that with one line of code.\n",
        "5. Sort the heros list in alphabetical order (Hint. Use dir() functions to list down all functions available in list)"
      ],
      "metadata": {
        "id": "anXbyIvhhifV"
      }
    },
    {
      "cell_type": "code",
      "source": [
        "heroes=['spider man','thor','hulk','iron man','captain america']\n",
        "print(len(heroes))"
      ],
      "metadata": {
        "id": "xQNCDBVncFPE",
        "colab": {
          "base_uri": "https://localhost:8080/"
        },
        "outputId": "ac0f0571-91b8-4f2d-8ba5-f7c615ac351d"
      },
      "execution_count": null,
      "outputs": [
        {
          "output_type": "stream",
          "name": "stdout",
          "text": [
            "5\n"
          ]
        }
      ]
    },
    {
      "cell_type": "code",
      "source": [
        "heroes.append('black panther')\n",
        "print(heroes)"
      ],
      "metadata": {
        "id": "3kTc_Pv3cFSc",
        "colab": {
          "base_uri": "https://localhost:8080/"
        },
        "outputId": "e8dd4dbb-a289-4321-a7d5-2e85fd9392a5"
      },
      "execution_count": null,
      "outputs": [
        {
          "output_type": "stream",
          "name": "stdout",
          "text": [
            "['spider man', 'thor', 'hulk', 'iron man', 'captain america', 'black panther']\n"
          ]
        }
      ]
    },
    {
      "cell_type": "code",
      "source": [
        "heroes.remove('black panther')\n",
        "print(heroes)"
      ],
      "metadata": {
        "id": "WLp2f95dcFV8",
        "colab": {
          "base_uri": "https://localhost:8080/"
        },
        "outputId": "709e3235-d456-4b0e-90cd-259d98cff5de"
      },
      "execution_count": null,
      "outputs": [
        {
          "output_type": "stream",
          "name": "stdout",
          "text": [
            "['spider man', 'thor', 'hulk', 'iron man', 'captain america']\n"
          ]
        }
      ]
    },
    {
      "cell_type": "code",
      "source": [
        "heroes.insert(3, 'black panther')\n",
        "print(heroes)"
      ],
      "metadata": {
        "id": "PdJS40yRcFZQ",
        "colab": {
          "base_uri": "https://localhost:8080/"
        },
        "outputId": "e3857925-9279-4712-ea79-8f15b8613f1b"
      },
      "execution_count": null,
      "outputs": [
        {
          "output_type": "stream",
          "name": "stdout",
          "text": [
            "['spider man', 'thor', 'hulk', 'black panther', 'iron man', 'captain america']\n"
          ]
        }
      ]
    },
    {
      "cell_type": "code",
      "source": [
        "heroes[1:3] = ['doctor strange']\n",
        "print(heroes)"
      ],
      "metadata": {
        "id": "vFry5O8wcFcn",
        "colab": {
          "base_uri": "https://localhost:8080/"
        },
        "outputId": "06745712-a98b-4271-e338-7c5817f78c89"
      },
      "execution_count": null,
      "outputs": [
        {
          "output_type": "stream",
          "name": "stdout",
          "text": [
            "['spider man', 'doctor strange', 'black panther', 'iron man', 'captain america']\n"
          ]
        }
      ]
    },
    {
      "cell_type": "code",
      "source": [
        "heroes.sort()\n",
        "print(heroes)"
      ],
      "metadata": {
        "id": "raITYL9ycFgH",
        "colab": {
          "base_uri": "https://localhost:8080/"
        },
        "outputId": "286cea1d-b061-4693-830f-b73d0f714121"
      },
      "execution_count": null,
      "outputs": [
        {
          "output_type": "stream",
          "name": "stdout",
          "text": [
            "['black panther', 'captain america', 'doctor strange', 'iron man', 'spider man']\n"
          ]
        }
      ]
    },
    {
      "cell_type": "markdown",
      "source": [
        "**Question 3**\n",
        "Create a list of all odd numbers between 1 and a max number. Max number is something you need to take from a user using input() function"
      ],
      "metadata": {
        "id": "i2OABhselGBX"
      }
    },
    {
      "cell_type": "code",
      "source": [
        "max = int(input(\"Enter max number: \"))\n",
        "\n",
        "odd_numbers = []\n",
        "\n",
        "for i in range(1, max):\n",
        "    if i % 2 == 1:\n",
        "        odd_numbers.append(i)\n",
        "\n",
        "print(\"Odd numbers: \", odd_numbers)"
      ],
      "metadata": {
        "id": "nn2gFmn0cFmh",
        "colab": {
          "base_uri": "https://localhost:8080/"
        },
        "outputId": "b1f796bb-bb4b-41e4-c825-d8ec65f83fc4"
      },
      "execution_count": null,
      "outputs": [
        {
          "output_type": "stream",
          "name": "stdout",
          "text": [
            "Enter max number: 1000\n",
            "Odd numbers:  [1, 3, 5, 7, 9, 11, 13, 15, 17, 19, 21, 23, 25, 27, 29, 31, 33, 35, 37, 39, 41, 43, 45, 47, 49, 51, 53, 55, 57, 59, 61, 63, 65, 67, 69, 71, 73, 75, 77, 79, 81, 83, 85, 87, 89, 91, 93, 95, 97, 99, 101, 103, 105, 107, 109, 111, 113, 115, 117, 119, 121, 123, 125, 127, 129, 131, 133, 135, 137, 139, 141, 143, 145, 147, 149, 151, 153, 155, 157, 159, 161, 163, 165, 167, 169, 171, 173, 175, 177, 179, 181, 183, 185, 187, 189, 191, 193, 195, 197, 199, 201, 203, 205, 207, 209, 211, 213, 215, 217, 219, 221, 223, 225, 227, 229, 231, 233, 235, 237, 239, 241, 243, 245, 247, 249, 251, 253, 255, 257, 259, 261, 263, 265, 267, 269, 271, 273, 275, 277, 279, 281, 283, 285, 287, 289, 291, 293, 295, 297, 299, 301, 303, 305, 307, 309, 311, 313, 315, 317, 319, 321, 323, 325, 327, 329, 331, 333, 335, 337, 339, 341, 343, 345, 347, 349, 351, 353, 355, 357, 359, 361, 363, 365, 367, 369, 371, 373, 375, 377, 379, 381, 383, 385, 387, 389, 391, 393, 395, 397, 399, 401, 403, 405, 407, 409, 411, 413, 415, 417, 419, 421, 423, 425, 427, 429, 431, 433, 435, 437, 439, 441, 443, 445, 447, 449, 451, 453, 455, 457, 459, 461, 463, 465, 467, 469, 471, 473, 475, 477, 479, 481, 483, 485, 487, 489, 491, 493, 495, 497, 499, 501, 503, 505, 507, 509, 511, 513, 515, 517, 519, 521, 523, 525, 527, 529, 531, 533, 535, 537, 539, 541, 543, 545, 547, 549, 551, 553, 555, 557, 559, 561, 563, 565, 567, 569, 571, 573, 575, 577, 579, 581, 583, 585, 587, 589, 591, 593, 595, 597, 599, 601, 603, 605, 607, 609, 611, 613, 615, 617, 619, 621, 623, 625, 627, 629, 631, 633, 635, 637, 639, 641, 643, 645, 647, 649, 651, 653, 655, 657, 659, 661, 663, 665, 667, 669, 671, 673, 675, 677, 679, 681, 683, 685, 687, 689, 691, 693, 695, 697, 699, 701, 703, 705, 707, 709, 711, 713, 715, 717, 719, 721, 723, 725, 727, 729, 731, 733, 735, 737, 739, 741, 743, 745, 747, 749, 751, 753, 755, 757, 759, 761, 763, 765, 767, 769, 771, 773, 775, 777, 779, 781, 783, 785, 787, 789, 791, 793, 795, 797, 799, 801, 803, 805, 807, 809, 811, 813, 815, 817, 819, 821, 823, 825, 827, 829, 831, 833, 835, 837, 839, 841, 843, 845, 847, 849, 851, 853, 855, 857, 859, 861, 863, 865, 867, 869, 871, 873, 875, 877, 879, 881, 883, 885, 887, 889, 891, 893, 895, 897, 899, 901, 903, 905, 907, 909, 911, 913, 915, 917, 919, 921, 923, 925, 927, 929, 931, 933, 935, 937, 939, 941, 943, 945, 947, 949, 951, 953, 955, 957, 959, 961, 963, 965, 967, 969, 971, 973, 975, 977, 979, 981, 983, 985, 987, 989, 991, 993, 995, 997, 999]\n"
          ]
        }
      ]
    },
    {
      "cell_type": "code",
      "source": [
        "max = int(input(\"Enter max number: \"))\n",
        "\n",
        "odd_numbers = []\n",
        "\n",
        "for i in range(1, max):\n",
        "    if i % 2 == 1:\n",
        "        odd_numbers.append(i)\n",
        "\n",
        "print(\"Odd numbers: \", odd_numbers)"
      ],
      "metadata": {
        "id": "9sl0NfEjcFqD",
        "colab": {
          "base_uri": "https://localhost:8080/"
        },
        "outputId": "679dd5a4-90d4-448a-a612-bb60279c8a04"
      },
      "execution_count": null,
      "outputs": [
        {
          "output_type": "stream",
          "name": "stdout",
          "text": [
            "Enter max number: 20\n",
            "Odd numbers:  [1, 3, 5, 7, 9, 11, 13, 15, 17, 19]\n"
          ]
        }
      ]
    },
    {
      "cell_type": "markdown",
      "source": [
        "**Introducing Deque For Linked List Implementaion**"
      ],
      "metadata": {
        "id": "fdXxmrCXwzzx"
      }
    },
    {
      "cell_type": "code",
      "source": [
        "from collections import deque\n",
        "deque()"
      ],
      "metadata": {
        "id": "5952rNGA-gNr",
        "colab": {
          "base_uri": "https://localhost:8080/"
        },
        "outputId": "be81d927-3a84-43bb-865e-671e33c25d01"
      },
      "execution_count": null,
      "outputs": [
        {
          "output_type": "execute_result",
          "data": {
            "text/plain": [
              "deque([])"
            ]
          },
          "metadata": {},
          "execution_count": 1
        }
      ]
    },
    {
      "cell_type": "code",
      "source": [
        "deque([\"abcde\"])"
      ],
      "metadata": {
        "id": "ImOkPrMG-gQ7",
        "colab": {
          "base_uri": "https://localhost:8080/"
        },
        "outputId": "87e08673-6749-4e40-caf6-6b8be9510845"
      },
      "execution_count": null,
      "outputs": [
        {
          "output_type": "execute_result",
          "data": {
            "text/plain": [
              "deque(['abcde'])"
            ]
          },
          "metadata": {},
          "execution_count": 3
        }
      ]
    },
    {
      "cell_type": "code",
      "source": [
        "deque(\"abc\")"
      ],
      "metadata": {
        "id": "rZB1oQHm-gUv",
        "colab": {
          "base_uri": "https://localhost:8080/"
        },
        "outputId": "fc0a7198-d9d0-4d27-bd1d-1f8d412f28fa"
      },
      "execution_count": null,
      "outputs": [
        {
          "output_type": "execute_result",
          "data": {
            "text/plain": [
              "deque(['a', 'b', 'c'])"
            ]
          },
          "metadata": {},
          "execution_count": 4
        }
      ]
    },
    {
      "cell_type": "code",
      "source": [
        "llist = deque('abcdef')\n",
        "llist"
      ],
      "metadata": {
        "id": "Q3i0pZ2q-gYJ",
        "colab": {
          "base_uri": "https://localhost:8080/"
        },
        "outputId": "90904738-cbac-4e06-f6e5-90b59bfd0953"
      },
      "execution_count": null,
      "outputs": [
        {
          "output_type": "execute_result",
          "data": {
            "text/plain": [
              "deque(['a', 'b', 'c', 'd', 'e', 'f'])"
            ]
          },
          "metadata": {},
          "execution_count": 6
        }
      ]
    },
    {
      "cell_type": "code",
      "source": [
        "llist.append('g')\n",
        "llist"
      ],
      "metadata": {
        "id": "k9vPjNdX-gbk",
        "colab": {
          "base_uri": "https://localhost:8080/"
        },
        "outputId": "ad4d81af-676b-491b-cb2c-e5406ee498ce"
      },
      "execution_count": null,
      "outputs": [
        {
          "output_type": "execute_result",
          "data": {
            "text/plain": [
              "deque(['a', 'b', 'c', 'd', 'e', 'f', 'g'])"
            ]
          },
          "metadata": {},
          "execution_count": 7
        }
      ]
    },
    {
      "cell_type": "code",
      "source": [
        "llist.pop()\n",
        "llist"
      ],
      "metadata": {
        "id": "geHsU45y-ge9",
        "colab": {
          "base_uri": "https://localhost:8080/"
        },
        "outputId": "951932fd-8f69-46e2-fbae-04c3c040992d"
      },
      "execution_count": null,
      "outputs": [
        {
          "output_type": "execute_result",
          "data": {
            "text/plain": [
              "deque(['a', 'b', 'c', 'd', 'e', 'f'])"
            ]
          },
          "metadata": {},
          "execution_count": 9
        }
      ]
    },
    {
      "cell_type": "code",
      "source": [
        "llist.appendleft('q')\n",
        "llist"
      ],
      "metadata": {
        "id": "c06NQBym-gic",
        "colab": {
          "base_uri": "https://localhost:8080/"
        },
        "outputId": "d37e05c6-8f19-4911-8acf-815c743f74c4"
      },
      "execution_count": null,
      "outputs": [
        {
          "output_type": "execute_result",
          "data": {
            "text/plain": [
              "deque(['q', 'a', 'b', 'c', 'd', 'e', 'f'])"
            ]
          },
          "metadata": {},
          "execution_count": 10
        }
      ]
    },
    {
      "cell_type": "code",
      "source": [
        "llist.popleft()\n",
        "llist"
      ],
      "metadata": {
        "id": "A0CDYcki-gl8",
        "colab": {
          "base_uri": "https://localhost:8080/"
        },
        "outputId": "64a6d51e-49c7-4855-a7a9-702fccfcd949"
      },
      "execution_count": null,
      "outputs": [
        {
          "output_type": "execute_result",
          "data": {
            "text/plain": [
              "deque(['a', 'b', 'c', 'd', 'e', 'f'])"
            ]
          },
          "metadata": {},
          "execution_count": 11
        }
      ]
    },
    {
      "cell_type": "markdown",
      "source": [
        "**Creating a Linked List**"
      ],
      "metadata": {
        "id": "f0tqhkbhAGhX"
      }
    },
    {
      "cell_type": "code",
      "source": [
        "class Node:\n",
        "  def __init__(self, data):\n",
        "    self.data = data\n",
        "    self.next = None\n",
        "\n",
        "  def __repr__(self):\n",
        "    self.head = None\n",
        "\n",
        "class LinkedList:\n",
        "  def __init__(self):\n",
        "    self.head = None\n",
        "\n",
        "  def __repr__(self):\n",
        "    node = self.head\n",
        "    nodes = []\n",
        "    while node is not None :\n",
        "      nodes.append(node.data)\n",
        "      node = node.next\n",
        "    nodes.append(\"None\")\n",
        "    return \"-->\".join(nodes)"
      ],
      "metadata": {
        "id": "-LR-TtSHvZjD"
      },
      "execution_count": 38,
      "outputs": []
    },
    {
      "cell_type": "code",
      "source": [
        "linked_list = LinkedList()\n",
        "linked_list"
      ],
      "metadata": {
        "colab": {
          "base_uri": "https://localhost:8080/"
        },
        "id": "A1t6-SLsvZmH",
        "outputId": "5a19a61f-3d72-455d-9974-961f4bd585a1"
      },
      "execution_count": null,
      "outputs": [
        {
          "output_type": "execute_result",
          "data": {
            "text/plain": [
              "None"
            ]
          },
          "metadata": {},
          "execution_count": 3
        }
      ]
    },
    {
      "cell_type": "code",
      "source": [
        "first_node = Node(\"Drey\")\n",
        "linked_list.head = first_node\n",
        "linked_list"
      ],
      "metadata": {
        "colab": {
          "base_uri": "https://localhost:8080/"
        },
        "id": "x4PrxNStvZpR",
        "outputId": "aa329d03-2d58-41b7-d751-027dd6ea41c2"
      },
      "execution_count": null,
      "outputs": [
        {
          "output_type": "execute_result",
          "data": {
            "text/plain": [
              "Drey-->None"
            ]
          },
          "metadata": {},
          "execution_count": 4
        }
      ]
    },
    {
      "cell_type": "code",
      "source": [
        "second_node = Node(\"Tee\")\n",
        "third_node = Node(\"Tett\")\n",
        "first_node.next = second_node\n",
        "second_node.next = third_node\n",
        "linked_list"
      ],
      "metadata": {
        "colab": {
          "base_uri": "https://localhost:8080/"
        },
        "id": "BzAOCW7BvZsV",
        "outputId": "1c08adb0-734d-4c8f-dbf9-4c140ce894ef"
      },
      "execution_count": null,
      "outputs": [
        {
          "output_type": "execute_result",
          "data": {
            "text/plain": [
              "Drey-->Tee-->Tett-->None"
            ]
          },
          "metadata": {},
          "execution_count": 5
        }
      ]
    },
    {
      "cell_type": "markdown",
      "source": [
        "**Traversing a Linked List**"
      ],
      "metadata": {
        "id": "yGks9P8fAqiu"
      }
    },
    {
      "cell_type": "code",
      "source": [
        "def __iter__(self):\n",
        "    node = self.head\n",
        "    while node is not None:\n",
        "        yield node\n",
        "        node = node.next"
      ],
      "metadata": {
        "id": "N-ZwQq9tGsqo"
      },
      "execution_count": 41,
      "outputs": []
    },
    {
      "cell_type": "code",
      "source": [
        ""
      ],
      "metadata": {
        "id": "cTYwZKn_vZ4z"
      },
      "execution_count": null,
      "outputs": []
    }
  ],
  "metadata": {
    "colab": {
      "name": "Python Crash Practices.ipynb",
      "provenance": [],
      "authorship_tag": "ABX9TyMDWSmqCuXdiz5YAeRzme6N",
      "include_colab_link": true
    },
    "kernelspec": {
      "display_name": "Python 3",
      "name": "python3"
    },
    "language_info": {
      "name": "python"
    }
  },
  "nbformat": 4,
  "nbformat_minor": 0
}