{
  "nbformat": 4,
  "nbformat_minor": 0,
  "metadata": {
    "colab": {
      "provenance": [],
      "collapsed_sections": [],
      "authorship_tag": "ABX9TyP8p56mTOjn2Vx47rM6aeVN"
    },
    "kernelspec": {
      "name": "python3",
      "display_name": "Python 3"
    },
    "language_info": {
      "name": "python"
    }
  },
  "cells": [
    {
      "cell_type": "markdown",
      "source": [
        "**28th-September-2022**\n",
        "\n",
        "\n",
        "**Leetcode 838**: **Push Dominoes**\n",
        "\n",
        "**Problem**: There are n dominoes in a line, and we place each domino vertically upright. In the beginning, we simultaneously push some of the dominoes either to the left or to the right.\n",
        "\n",
        "After each second, each domino that is falling to the left pushes the adjacent domino on the left. Similarly, the dominoes falling to the right push their adjacent dominoes standing on the right.\n",
        "\n",
        "When a vertical domino has dominoes falling on it from both sides, it stays still due to the balance of the forces.\n",
        "\n",
        "For the purposes of this question, we will consider that a falling domino expends no additional force to a falling or already fallen domino.\n",
        "\n",
        "You are given a string dominoes representing the initial state where:\n",
        "\n",
        "dominoes[i] = 'L', if the ith domino has been pushed to the left,\n",
        "dominoes[i] = 'R', if the ith domino has been pushed to the right, and\n",
        "dominoes[i] = '.', if the ith domino has not been pushed.\n",
        "\n",
        "Return a string representing the final state.\n",
        "\n",
        " \n",
        "**URL**: https://leetcode.com/problems/push-dominoes/\n",
        "\n"
      ],
      "metadata": {
        "id": "9opmJ0RV-L4I"
      }
    },
    {
      "cell_type": "code",
      "source": [
        "class Solution:\n",
        "    def pushDominoes(self, dominoes: str) -> str:\n",
        "        while True:\n",
        "            new_dominoes = dominoes.replace('R.L', '|').replace('.L', 'LL').replace('R.', 'RR').replace('|', 'R.L')\n",
        "            if new_dominoes == dominoes:\n",
        "                break\n",
        "            else:\n",
        "                dominoes = new_dominoes\n",
        "            \n",
        "        return dominoes\n",
        "        "
      ],
      "metadata": {
        "id": "23yIgkQo-MwH"
      },
      "execution_count": null,
      "outputs": []
    },
    {
      "cell_type": "code",
      "source": [],
      "metadata": {
        "id": "SYJLuZ8S-QAB"
      },
      "execution_count": null,
      "outputs": []
    },
    {
      "cell_type": "markdown",
      "source": [
        "**29th-September-2022**\n",
        "\n",
        "\n",
        "**Leetcode 19**: **Remove Nth Node From End of List**\n",
        "\n",
        "**Problem**:Given the head of a linked list, remove the nth node from the end of the list and return its head.\n",
        "\n",
        "\n",
        " \n",
        "**URL**: **https://leetcode.com/problems/remove-nth-node-from-end-of-list/**"
      ],
      "metadata": {
        "id": "s5vzx1_5EDuQ"
      }
    },
    {
      "cell_type": "code",
      "source": [
        "# Definition for singly-linked list.\n",
        "# class ListNode:\n",
        "#     def __init__(self, val=0, next=None):\n",
        "#         self.val = val\n",
        "#         self.next = next\n",
        "class Solution:\n",
        "    def removeNthFromEnd(self, head: Optional[ListNode], n: int) -> Optional[ListNode]:\n",
        "        h1 = head\n",
        "        h2 = None\n",
        "        k = 1\n",
        "        while(h1):\n",
        "            if k == n+1:\n",
        "                h2 = head\n",
        "            elif k > n+1:\n",
        "                h2 = h2.next\n",
        "            h1 = h1.next\n",
        "            k += 1\n",
        "        if h2:\n",
        "            h2.next = h2.next.next\n",
        "        else:\n",
        "\t\t\t# Since h2 never started from head so nth node must be the first node\n",
        "            head = head.next\n",
        "        return head\n",
        "        "
      ],
      "metadata": {
        "id": "cqcRBBiO-QDE"
      },
      "execution_count": null,
      "outputs": []
    },
    {
      "cell_type": "code",
      "source": [],
      "metadata": {
        "id": "isdHSCMG-QGS"
      },
      "execution_count": null,
      "outputs": []
    },
    {
      "cell_type": "markdown",
      "source": [
        "**30th-September-2022**\n",
        "\n",
        "\n",
        "**Leetcode 658**: **Find K Closest Elements**\n",
        "\n",
        "**Problem**:Given a sorted integer array arr, two integers k and x, return the k closest integers to x in the array. The result should also be sorted in ascending order.\n",
        "\n",
        "An integer a is closer to x than an integer b if:\n",
        "\n",
        "|a - x| < |b - x|, or\n",
        "\n",
        "|a - x| == |b - x| and a < b\n",
        " \n",
        "**URL**: **https://leetcode.com/problems/find-k-closest-elements/**"
      ],
      "metadata": {
        "id": "RxXTF3xJZouz"
      }
    },
    {
      "cell_type": "code",
      "source": [
        "class Solution:\n",
        "    def findClosestElements(self, arr: List[int], k: int, x: int) -> List[int]:\n",
        "        min = 0\n",
        "        max=len(arr) - 1\n",
        "        while max - min +1 > k:\n",
        "            if  abs(x-arr[min]) > abs(x-arr[max]):\n",
        "                min +=1\n",
        "            else:\n",
        "                max-=1\n",
        "        return arr[min :max+1]\n",
        "        "
      ],
      "metadata": {
        "id": "kjApQjgO-QJR"
      },
      "execution_count": null,
      "outputs": []
    },
    {
      "cell_type": "code",
      "source": [],
      "metadata": {
        "id": "ezVE5Y03-QMQ"
      },
      "execution_count": null,
      "outputs": []
    },
    {
      "cell_type": "markdown",
      "source": [
        "**1st-October-2022**\n",
        "\n",
        "\n",
        "**Leetcode 218**: **The Skyline Problem**\n",
        "\n",
        "**Problem**:A city's skyline is the outer contour of the silhouette formed by all the buildings in that city when viewed from a distance. Given the locations and heights of all the buildings, return the skyline formed by these buildings collectively.\n",
        "\n",
        "The geometric information of each building is given in the array buildings where buildings[i] = [lefti, righti, heighti]:\n",
        "\n",
        "lefti is the x coordinate of the left edge of the ith building.\n",
        "righti is the x coordinate of the right edge of the ith building.\n",
        "heighti is the height of the ith building.\n",
        "You may assume all buildings are perfect rectangles grounded on an absolutely flat surface at height 0.\n",
        "\n",
        "The skyline should be represented as a list of \"key points\" sorted by their x-coordinate in the form [[x1,y1],[x2,y2],...]. Each key point is the left endpoint of some horizontal segment in the skyline except the last point in the list, which always has a y-coordinate 0 and is used to mark the skyline's termination where the rightmost building ends. Any ground between the leftmost and rightmost buildings should be part of the skyline's contour.\n",
        "\n",
        "Note: There must be no consecutive horizontal lines of equal height in the output skyline. For instance, [...,[2 3],[4 5],[7 5],[11 5],[12 7],...] is not acceptable; the three lines of height 5 should be merged into one in the final output as such: [...,[2 3],[4 5],[12 7],...]\n",
        " \n",
        "**URL**: **https://leetcode.com/problems/the-skyline-problem/**"
      ],
      "metadata": {
        "id": "3Av-UMgfY5Zg"
      }
    },
    {
      "cell_type": "code",
      "source": [
        "class Solution:\n",
        "    def getSkyline(self, buildings: List[List[int]]) -> List[List[int]]:\n",
        "        # for the same x, (x, -H) should be in front of (x, 0)\n",
        "        # For Example 2, we should process (2, -3) then (2, 0), as there's no height change\n",
        "        x_height_right_tuples = sorted([(L, -H, R) for L, R, H in buildings] + [(R, 0, \"doesn't matter\") for _, R, _ in buildings])   \n",
        "        # (0, float('inf')) is always in max_heap, so max_heap[0] is always valid\n",
        "        result, max_heap = [[0, 0]], [(0, float('inf'))]\n",
        "        for x, negative_height, R in x_height_right_tuples:\n",
        "            while x >= max_heap[0][1]:\n",
        "                # reduce max height up to date, i.e. only consider max height in the right side of line x\n",
        "                heapq.heappop(max_heap)\n",
        "            if negative_height:\n",
        "                # Consider each height, as it may be the potential max height\n",
        "                heapq.heappush(max_heap, (negative_height, R))\n",
        "            curr_max_height = -max_heap[0][0]\n",
        "            if result[-1][1] != curr_max_height:\n",
        "                result.append([x, curr_max_height])\n",
        "        return result[1:] "
      ],
      "metadata": {
        "id": "lbYdrVx6-QPa"
      },
      "execution_count": null,
      "outputs": []
    },
    {
      "cell_type": "code",
      "source": [],
      "metadata": {
        "id": "6Q9iQZGq-QSw"
      },
      "execution_count": null,
      "outputs": []
    },
    {
      "cell_type": "markdown",
      "source": [
        "**2nd-October-2022**\n",
        "\n",
        "\n",
        "**Leetcode 91**: **Decode Ways**\n",
        "\n",
        "**Problem**:A message containing letters from A-Z can be encoded into numbers using the following mapping:\n",
        "\n",
        "'A' -> \"1\"\n",
        "'B' -> \"2\"\n",
        "...\n",
        "'Z' -> \"26\"\n",
        "To decode an encoded message, all the digits must be grouped then mapped back into letters using the reverse of the mapping above (there may be multiple ways). For example, \"11106\" can be mapped into:\n",
        "\n",
        "\"AAJF\" with the grouping (1 1 10 6)\n",
        "\"KJF\" with the grouping (11 10 6)\n",
        "Note that the grouping (1 11 06) is invalid because \"06\" cannot be mapped into 'F' since \"6\" is different from \"06\".\n",
        "\n",
        "Given a string s containing only digits, return the number of ways to decode it.\n",
        "\n",
        "The test cases are generated so that the answer fits in a 32-bit integer.\n",
        "\n",
        " \n",
        "**URL**: **https://leetcode.com/problems/decode-ways/**"
      ],
      "metadata": {
        "id": "9_cxRK4U7bFZ"
      }
    },
    {
      "cell_type": "code",
      "source": [
        "class Solution:\n",
        "    def numDecodings(self, s: str) -> int:\n",
        "        @cache\n",
        "        def depth_first_search(k):\n",
        "            if k == len(s):\n",
        "                return 1\n",
        "            if s[k] == '0':\n",
        "                return 0\n",
        "            results = depth_first_search(k+1)\n",
        "            if 10 <= int(s[k:k+2]) <= 26:\n",
        "                results += depth_first_search(k+2)\n",
        "            return results\n",
        "        return depth_first_search(0)\n",
        "        "
      ],
      "metadata": {
        "id": "dgYWdR5F-QV5"
      },
      "execution_count": null,
      "outputs": []
    },
    {
      "cell_type": "code",
      "source": [],
      "metadata": {
        "id": "cdL3z8K3-QZA"
      },
      "execution_count": null,
      "outputs": []
    },
    {
      "cell_type": "markdown",
      "source": [
        "**3rd-October-2022**\n",
        "\n",
        "\n",
        "**Leetcode 1155**: **Number of Dice Rolls With Target Sum**\n",
        "\n",
        "**Problem**:You have n dice and each die has k faces numbered from 1 to k.\n",
        "\n",
        "Given three integers n, k, and target, return the number of possible ways (out of the kn total ways) to roll the dice so the sum of the face-up numbers equals target. Since the answer may be too large, return it modulo 109 + 7.\n",
        "\n",
        " \n",
        " \n",
        "**URL**: **https://leetcode.com/problems/number-of-dice-rolls-with-target-sum/**"
      ],
      "metadata": {
        "id": "VQnmBV6__xOD"
      }
    },
    {
      "cell_type": "code",
      "source": [
        "class Solution:\n",
        "    def numRollsToTarget(self, n: int, k: int, target: int) -> int:\n",
        "        dp = [[0 for j in range(target+2)] for i in range(n+1)]\n",
        "    \n",
        "        dp[0][0] = 1\n",
        "\n",
        "        for rem_d in range(1, n+1):\n",
        "                for tot_S in range(0, target + 2):\n",
        "                    for a in range(1,min(k+1,tot_S + 1)):\n",
        "                        dp[rem_d][tot_S] += dp[rem_d-1][tot_S - a]\n",
        "        return dp[n][target]%(10**9+7)\n",
        "  "
      ],
      "metadata": {
        "id": "kioIZeU5-QcH"
      },
      "execution_count": null,
      "outputs": []
    },
    {
      "cell_type": "code",
      "source": [],
      "metadata": {
        "id": "DBloOeSD-QfQ"
      },
      "execution_count": null,
      "outputs": []
    },
    {
      "cell_type": "markdown",
      "source": [
        "**4th-October-2022**\n",
        "\n",
        "\n",
        "**Leetcode 1578**: **Minimum Time to Make Rope Colorful**\n",
        "\n",
        "**Problem**:Alice has n balloons arranged on a rope. You are given a 0-indexed string colors where colors[i] is the color of the ith balloon.\n",
        "\n",
        "Alice wants the rope to be colorful. She does not want two consecutive balloons to be of the same color, so she asks Bob for help. Bob can remove some balloons from the rope to make it colorful. You are given a 0-indexed integer array neededTime where neededTime[i] is the time (in seconds) that Bob needs to remove the ith balloon from the rope.\n",
        "\n",
        "Return the minimum time Bob needs to make the rope colorful.\n",
        " \n",
        " \n",
        "**URL**: **https://leetcode.com/problems/minimum-time-to-make-rope-colorful/**"
      ],
      "metadata": {
        "id": "KoJGrkdpFgGw"
      }
    },
    {
      "cell_type": "code",
      "source": [
        "class Solution:\n",
        "    def minCost(self, colors: str, neededTime: List[int]) -> int:\n",
        "        res = 0\n",
        "        temp_max = 0\n",
        "        for i in range(len(colors)):\n",
        "            if i>0 and colors[i] == colors[i-1]:\n",
        "                res += min(neededTime[i],temp_max)\n",
        "                temp_max = max(temp_max,neededTime[i])\n",
        "            else:\n",
        "                temp_max = neededTime[i]\n",
        "        return res\n",
        "        "
      ],
      "metadata": {
        "id": "8XkMx6BO-Qiq"
      },
      "execution_count": null,
      "outputs": []
    },
    {
      "cell_type": "code",
      "source": [],
      "metadata": {
        "id": "uTLYfiiCGIgo"
      },
      "execution_count": null,
      "outputs": []
    },
    {
      "cell_type": "markdown",
      "source": [
        "**5th-October-2022**\n",
        "\n",
        "\n",
        "**Leetcode 112**: **Path Sum**\n",
        "\n",
        "**Problem**:Given the root of a binary tree and an integer targetSum, return true if the tree has a root-to-leaf path such that adding up all the values along the path equals targetSum.\n",
        "\n",
        "A leaf is a node with no children.\n",
        "\n",
        " \n",
        "**URL**: **https://leetcode.com/problems/path-sum/**"
      ],
      "metadata": {
        "id": "wCM1YmxQGrgs"
      }
    },
    {
      "cell_type": "code",
      "source": [
        "# Definition for a binary tree node.\n",
        "# class TreeNode:\n",
        "#     def __init__(self, val=0, left=None, right=None):\n",
        "#         self.val = val\n",
        "#         self.left = left\n",
        "#         self.right = right\n",
        "class Solution:\n",
        "    def hasPathSum(self, root: TreeNode, sum: int) -> bool:\n",
        "        if not root:\n",
        "            return False\n",
        "        if root.val == sum and not root.left and not root.right:\n",
        "            return True\n",
        "        return self.hasPathSum(root.left, sum - root.val) or \\\n",
        "    self.hasPathSum(root.right, sum - root.val)\n"
      ],
      "metadata": {
        "id": "YO6VWhOPGuG2"
      },
      "execution_count": null,
      "outputs": []
    },
    {
      "cell_type": "code",
      "source": [],
      "metadata": {
        "id": "Y_yjyVPOG7Kp"
      },
      "execution_count": null,
      "outputs": []
    },
    {
      "cell_type": "markdown",
      "source": [
        "**6th-October-2022**\n",
        "\n",
        "\n",
        "**Leetcode 623**: **Add One Row to Tree**\n",
        "\n",
        "**Problem**:Given the root of a binary tree and two integers val and depth, add a row of nodes with value val at the given depth depth.\n",
        "\n",
        "Note that the root node is at depth 1.\n",
        "\n",
        "The adding rule is:\n",
        "\n",
        "Given the integer depth, for each not null tree node cur at the depth depth - 1, create two tree nodes with value val as cur's left subtree root and right subtree root.\n",
        "cur's original left subtree should be the left subtree of the new left subtree root.\n",
        "cur's original right subtree should be the right subtree of the new right subtree root.\n",
        "If depth == 1 that means there is no depth depth - 1 at all, then create a tree node with value val as the new root of the whole original tree, and the original tree is the new root's left subtree.\n",
        " \n",
        "**URL**: **https://leetcode.com/problems/add-one-row-to-tree/**"
      ],
      "metadata": {
        "id": "CTACHGMFZvuT"
      }
    },
    {
      "cell_type": "code",
      "source": [
        "# Definition for a binary tree node.\n",
        "# class TreeNode:\n",
        "#     def __init__(self, val=0, left=None, right=None):\n",
        "#         self.val = val\n",
        "#         self.left = left\n",
        "#         self.right = right\n",
        "class Solution:\n",
        "    def addOneRow(self, root: Optional[TreeNode], val: int, depth: int) -> Optional[TreeNode]:\n",
        "        if depth == 1:\n",
        "            return TreeNode(val, left=root)\n",
        "        \n",
        "        def dfs(node, level):\n",
        "            if node is None:\n",
        "                return\n",
        "\n",
        "            if level == depth - 1:\n",
        "                node.left = TreeNode(val, left=node.left)\n",
        "                node.right = TreeNode(val, right = node.right)\n",
        "                return\n",
        "            \n",
        "            dfs(node.left, level + 1)\n",
        "            dfs(node.right, level + 1)\n",
        "            \n",
        "        \n",
        "        dfs(root, 1)\n",
        "        \n",
        "        return root\n",
        "        "
      ],
      "metadata": {
        "id": "wwsdogTvG5j5"
      },
      "execution_count": null,
      "outputs": []
    },
    {
      "cell_type": "code",
      "source": [],
      "metadata": {
        "id": "QM7MXTFVawdU"
      },
      "execution_count": null,
      "outputs": []
    },
    {
      "cell_type": "markdown",
      "source": [
        "**7th-October-2022**\n",
        "\n",
        "\n",
        "**Leetcode 981**: **Time Based Key Value Store**\n",
        "\n",
        "**Problem**:Design a time-based key-value data structure that can store multiple values for the same key at different time stamps and retrieve the key's value at a certain timestamp.\n",
        "\n",
        "Implement the TimeMap class:\n",
        "\n",
        "TimeMap() Initializes the object of the data structure.\n",
        "void set(String key, String value, int timestamp) Stores the key key with the value value at the given time timestamp.\n",
        "String get(String key, int timestamp) Returns a value such that set was called previously, with timestamp_prev <= timestamp. If there are multiple such values, it returns the value associated with the largest timestamp_prev. If there are no values, it returns \"\".\n",
        " \n",
        " \n",
        "**URL**: **https://leetcode.com/problems/time-based-key-value-store/**"
      ],
      "metadata": {
        "id": "IMX9KasvGroX"
      }
    },
    {
      "cell_type": "code",
      "source": [
        "class TimeMap:\n",
        "    def __init__(self):\n",
        "        self.d={}\n",
        "\n",
        "    def set(self, key: str, value: str, timestamp: int) -> None:\n",
        "        self.d[(key,timestamp)]=value\n",
        "\n",
        "    def get(self, key: str, timestamp: int) -> str:\n",
        "        for i in range(timestamp,0,-1):\n",
        "            if (key,i) in self.d:\n",
        "                return self.d[(key,i)]\n",
        "        return \"\"\n",
        "\n",
        "\n",
        "# Your TimeMap object will be instantiated and called as such:\n",
        "# obj = TimeMap()\n",
        "# obj.set(key,value,timestamp)\n",
        "# param_2 = obj.get(key,timestamp)"
      ],
      "metadata": {
        "id": "-rIR_4eMGwM9"
      },
      "execution_count": null,
      "outputs": []
    },
    {
      "cell_type": "code",
      "source": [],
      "metadata": {
        "id": "TIh_rZYAG47d"
      },
      "execution_count": null,
      "outputs": []
    },
    {
      "cell_type": "markdown",
      "source": [
        "**8th-October-2022**\n",
        "\n",
        "\n",
        "**Leetcode 732**: **My Calendar III**\n",
        "\n",
        "**Problem**: A k-booking happens when k events have some non-empty intersection (i.e., there is some time that is common to all k events.)\n",
        "\n",
        "You are given some events [start, end), after each given event, return an integer k representing the maximum k-booking between all the previous events.\n",
        "\n",
        "Implement the MyCalendarThree class:\n",
        "\n",
        "MyCalendarThree() Initializes the object.\n",
        "int book(int start, int end) Returns an integer k representing the largest integer such that there exists a k-booking in the calendar.\n",
        " \n",
        "**URL**: **https://leetcode.com/problems/my-calendar-iii/**"
      ],
      "metadata": {
        "id": "_kIN84odGrrt"
      }
    },
    {
      "cell_type": "code",
      "source": [
        "# Your MyCalendarThree object will be instantiated and called as such:\n",
        "# obj = MyCalendarThree()\n",
        "# param_1 = obj.book(start,end)\n",
        "from sortedcontainers import SortedDict\n",
        "\n",
        "class MyCalendarThree:\n",
        "\n",
        "    def __init__(self):\n",
        "        self.__events_count = SortedDict()\n",
        "\n",
        "    def book(self, start: int, end: int) -> int:\n",
        "\t\t# Insert current event into the SortedDict\n",
        "        self.__events_count[start] = self.__events_count.get(start, 0) + 1\n",
        "        self.__events_count[end] = self.__events_count.get(end, 0) - 1\n",
        "        \n",
        "\t\t# Return maximum overlap count\n",
        "        return max(accumulate(self.__events_count.values()))\n",
        "    \n",
        "    "
      ],
      "metadata": {
        "id": "PhM0vXmmGxF0"
      },
      "execution_count": null,
      "outputs": []
    },
    {
      "cell_type": "code",
      "source": [],
      "metadata": {
        "id": "Dl-BvhEDG36m"
      },
      "execution_count": null,
      "outputs": []
    },
    {
      "cell_type": "markdown",
      "source": [
        "**9th-October-2022**\n",
        "\n",
        "\n",
        "**Leetcode 16**: **3 Sum Closest**\n",
        "\n",
        "**Problem**: Given an integer array nums of length n and an integer target, find three integers in nums such that the sum is closest to target.\n",
        "\n",
        "Return the sum of the three integers.\n",
        "\n",
        "You may assume that each input would have exactly one solution.\n",
        "\n",
        "**URL**: **https://leetcode.com/problems/3sum-closest/**"
      ],
      "metadata": {
        "id": "n1CbDvVBGrvI"
      }
    },
    {
      "cell_type": "code",
      "source": [
        "class Solution:\n",
        "    def threeSumClosest(self, nums: List[int], target: int) -> int:\n",
        "        nums.sort()\n",
        "        d, ans = float(\"inf\"), 0\n",
        "        for i in range(len(nums) - 2):\n",
        "            s, e = i + 1, len(nums) - 1\n",
        "            while(s < e):\n",
        "                sum = nums[i] + nums[s] + nums[e]\n",
        "                if sum == target: return sum\n",
        "                if abs(sum - target) < d:\n",
        "                    d = abs(sum - target)\n",
        "                    ans = sum\n",
        "                if sum < target: s += 1\n",
        "                else: e -= 1\n",
        "        \n",
        "        return ans"
      ],
      "metadata": {
        "id": "F-7pE_MgGyCq"
      },
      "execution_count": null,
      "outputs": []
    },
    {
      "cell_type": "code",
      "source": [],
      "metadata": {
        "id": "WN9q4MfCG3I6"
      },
      "execution_count": null,
      "outputs": []
    },
    {
      "cell_type": "markdown",
      "source": [
        "**10th-October-2022**\n",
        "\n",
        "\n",
        "**Leetcode 16**: **Two Sum IV-Input is a BST**\n",
        "\n",
        "**Problem**: Given the root of a Binary Search Tree and a target number k, return true if there exist two elements in the BST such that their sum is equal to the given target.\n",
        "\n",
        "\n",
        "\n",
        "**URL**: **https://leetcode.com/problems/two-sum-iv-input-is-a-bst/**"
      ],
      "metadata": {
        "id": "9Hq8OsYpGrye"
      }
    },
    {
      "cell_type": "code",
      "source": [
        "# Definition for a binary tree node.\n",
        "# class TreeNode:\n",
        "#     def __init__(self, val=0, left=None, right=None):\n",
        "#         self.val = val\n",
        "#         self.left = left\n",
        "#         self.right = right\n",
        "class BSTIterator:\n",
        "    def __init__(self, root: Optional[TreeNode], leftToRight: bool):\n",
        "        self.stack = []\n",
        "        self.leftToRight = leftToRight\n",
        "        self.pushUntilNone(root)\n",
        "\n",
        "    def next(self) -> int:\n",
        "        node = self.stack.pop()\n",
        "        if self.leftToRight:\n",
        "            self.pushUntilNone(node.right)\n",
        "        else:\n",
        "            self.pushUntilNone(node.left)\n",
        "        return node.val\n",
        "\n",
        "    def pushUntilNone(self, root: Optional[TreeNode]):\n",
        "        while root:\n",
        "            self.stack.append(root)\n",
        "            root = root.left if self.leftToRight else root.right\n",
        "\n",
        "\n",
        "class Solution:\n",
        "    def findTarget(self, root: Optional[TreeNode], k: int) -> bool:\n",
        "        if not root:\n",
        "            return False\n",
        "\n",
        "        left = BSTIterator(root, True)\n",
        "        right = BSTIterator(root, False)\n",
        "\n",
        "        l = left.next()\n",
        "        r = right.next()\n",
        "\n",
        "        while l < r:\n",
        "            summ = l + r\n",
        "            if summ == k:\n",
        "                return True\n",
        "            if summ < k:\n",
        "                l = left.next()\n",
        "            else:\n",
        "                 r = right.next()\n",
        "\n",
        "        return False\n"
      ],
      "metadata": {
        "id": "WXQQURahG2Om"
      },
      "execution_count": null,
      "outputs": []
    },
    {
      "cell_type": "code",
      "source": [],
      "metadata": {
        "id": "I_G-rwm2GyuP"
      },
      "execution_count": null,
      "outputs": []
    },
    {
      "cell_type": "markdown",
      "source": [
        "**11th-October-2022**\n",
        "\n",
        "\n",
        "**Leetcode 1328**: **Break a Palindrome**\n",
        "\n",
        "**Problem**: Given a palindromic string of lowercase English letters palindrome, replace exactly one character with any lowercase English letter so that the resulting string is not a palindrome and that it is the lexicographically smallest one possible.\n",
        "\n",
        "Return the resulting string. If there is no way to replace a character to make it not a palindrome, return an empty string.\n",
        "\n",
        "A string a is lexicographically smaller than a string b (of the same length) if in the first position where a and b differ, a has a character strictly smaller than the corresponding character in b. For example, \"abcc\" is lexicographically smaller than \"abcd\" because the first position they differ is at the fourth character, and 'c' is smaller than 'd'.\n",
        "\n",
        "\n",
        "**URL**: **https://leetcode.com/problems/break-a-palindrome/**"
      ],
      "metadata": {
        "id": "LBlGmnpSGr33"
      }
    },
    {
      "cell_type": "code",
      "source": [
        "class Solution:\n",
        "    def breakPalindrome(self, palindrome: str) -> str:\n",
        "        if len(palindrome) == 1: \n",
        "            return \"\"\n",
        "        n = len(palindrome) // 2\n",
        "        for i in range(n):\n",
        "            if palindrome[i] != \"a\":\n",
        "                return palindrome[:i] + \"a\" + palindrome[i+1:]\n",
        "        return palindrome[:-1] + \"b\"\n",
        "        "
      ],
      "metadata": {
        "id": "9KcZRVkWGzkd"
      },
      "execution_count": null,
      "outputs": []
    },
    {
      "cell_type": "code",
      "source": [],
      "metadata": {
        "id": "ZCEU4rLRG1f1"
      },
      "execution_count": null,
      "outputs": []
    },
    {
      "cell_type": "markdown",
      "source": [
        "**12th-October-2022**\n",
        "\n",
        "\n",
        "**Leetcode 334**: **Increasing Triplet Sequence**\n",
        "\n",
        "**Problem**: Given an integer array nums, return true if there exists a triple of indices (i, j, k) such that i < j < k and nums[i] < nums[j] < nums[k]. If no such indices exists, return false.\n",
        "\n",
        "**URL**: **https://leetcode.com/problems/increasing-triplet-subsequence/**"
      ],
      "metadata": {
        "id": "wXvpPGBWGsBt"
      }
    },
    {
      "cell_type": "code",
      "source": [
        "class Solution:\n",
        "    def increasingTriplet(self, nums: List[int]) -> bool:\n",
        "        first,second=float(\"inf\"),float(\"inf\")\n",
        "        if len(nums)<3:\n",
        "            return False\n",
        "        for num in nums:\n",
        "            if num <= first:\n",
        "                first = num\n",
        "            elif num <= second:\n",
        "                second = num\n",
        "            else:\n",
        "                return True \n",
        "        return False\n",
        "        "
      ],
      "metadata": {
        "id": "vmk1ooin-Ql6"
      },
      "execution_count": null,
      "outputs": []
    },
    {
      "cell_type": "code",
      "source": [],
      "metadata": {
        "id": "cKrJ3VctQxk2"
      },
      "execution_count": null,
      "outputs": []
    },
    {
      "cell_type": "markdown",
      "source": [
        "**13th-October-2022**\n",
        "\n",
        "\n",
        "**Leetcode 976**: **Largest Perimeter Triangle**\n",
        "\n",
        "**Problem**: Given an integer array nums, return the largest perimeter of a triangle with a non-zero area, formed from three of these lengths. If it is impossible to form any triangle of a non-zero area, return 0.\n",
        "\n",
        "\n",
        "**URL**: **https://leetcode.com/problems/largest-perimeter-triangle/**"
      ],
      "metadata": {
        "id": "Rcr0_ekIQ0rD"
      }
    },
    {
      "cell_type": "code",
      "source": [
        "class Solution:\n",
        "    def largestPerimeter(self, nums: List[int]) -> int:\n",
        "        nums.sort()\n",
        "        for i in reversed(range(len(nums) - 2)):\n",
        "            if nums[i] + nums[i+1] > nums[i+2]:\n",
        "                return nums[i] + nums[i+1] + nums[i+2]\n",
        "        return 0"
      ],
      "metadata": {
        "id": "ZtORoTPkQxnv"
      },
      "execution_count": null,
      "outputs": []
    },
    {
      "cell_type": "code",
      "source": [],
      "metadata": {
        "id": "A04pwejZQxrY"
      },
      "execution_count": null,
      "outputs": []
    },
    {
      "cell_type": "markdown",
      "source": [
        "**14th-October-2022**\n",
        "\n",
        "\n",
        "**Leetcode 237**: **Delete Node In a Linked List**\n",
        "\n",
        "**Problem**:There is a singly-linked list head and we want to delete a node node in it.\n",
        "\n",
        "You are given the node to be deleted node. You will not be given access to the first node of head.\n",
        "\n",
        "All the values of the linked list are unique, and it is guaranteed that the given node node is not the last node in the linked list.\n",
        "\n",
        "Delete the given node. Note that by deleting the node, we do not mean removing it from memory. We mean:\n",
        "\n",
        "The value of the given node should not exist in the linked list.\n",
        "The number of nodes in the linked list should decrease by one.\n",
        "All the values before node should be in the same order.\n",
        "All the values after node should be in the same order.\n",
        "Custom testing:\n",
        "\n",
        "For the input, you should provide the entire linked list head and the node to be given node. node should not be the last node of the list and should be an actual node in the list.\n",
        "We will build the linked list and pass the node to your function.\n",
        "The output will be the entire list after calling your function.\n",
        "\n",
        "**URL**: **https://leetcode.com/problems/delete-node-in-a-linked-list/**"
      ],
      "metadata": {
        "id": "Zl2Zsbap-g9F"
      }
    },
    {
      "cell_type": "code",
      "source": [
        "# Definition for singly-linked list.\n",
        "# class ListNode:\n",
        "#     def __init__(self, x):\n",
        "#         self.val = x\n",
        "#         self.next = None\n",
        "\n",
        "class Solution:\n",
        "    def deleteNode(self, node):\n",
        "        \"\"\"\n",
        "        :type node: ListNode\n",
        "        :rtype: void Do not return anything, modify node in-place instead.\n",
        "        \"\"\"\n",
        "        nextNode = node.next\n",
        "        # Step 2\n",
        "        node.val = nextNode.val\n",
        "        # Step 3\n",
        "        node.next = nextNode.next\n",
        "        nextNode.next = None\n",
        "        del(nextNode)"
      ],
      "metadata": {
        "id": "F5ksuNBzQxui"
      },
      "execution_count": null,
      "outputs": []
    },
    {
      "cell_type": "code",
      "source": [],
      "metadata": {
        "id": "ZYCVZ0USQxxw"
      },
      "execution_count": null,
      "outputs": []
    },
    {
      "cell_type": "markdown",
      "source": [
        "**15th-October-2022**\n",
        "\n",
        "\n",
        "**Leetcode 237**: **Delete the Middle Node of a Linked List**\n",
        "\n",
        "**Problem**:You are given the head of a linked list. Delete the middle node, and return the head of the modified linked list.\n",
        "\n",
        "The middle node of a linked list of size n is the ⌊n / 2⌋th node from the start using 0-based indexing, where ⌊x⌋ denotes the largest integer less than or equal to x.\n",
        "\n",
        "For n = 1, 2, 3, 4, and 5, the middle nodes are 0, 1, 1, 2, and 2, respectively.\n",
        "\n",
        "\n",
        "**URL**: **https://leetcode.com/problems/delete-the-middle-node-of-a-linked-list/solution/**"
      ],
      "metadata": {
        "id": "g13FqnNb81pL"
      }
    },
    {
      "cell_type": "code",
      "source": [
        "# Definition for singly-linked list.\n",
        "# class ListNode:\n",
        "#     def __init__(self, val=0, next=None):\n",
        "#         self.val = val\n",
        "#         self.next = next\n",
        "class Solution:\n",
        "    def deleteMiddle(self, head: Optional[ListNode]) -> Optional[ListNode]:\n",
        "        if not head.next: \n",
        "            return None                   # If only head, then it's the middle node\n",
        "\n",
        "        l1 = head.next  \n",
        "        l2 = head\n",
        "\n",
        "        while l1.next and l1.next.next:             # On each iteration, l1 jumps two nodes and l2\n",
        "            l1 = l1.next.next                       # jumps one node, so when ptr1 hits the end of the\n",
        "            l2 = l2.next                            # list, l1 will be at the middle node.\n",
        "      \n",
        "        l2.next = l2.next.next                      # middle node is removed.\n",
        "\n",
        "        return head\n",
        "\n",
        "        "
      ],
      "metadata": {
        "id": "JVTf80yQQx05"
      },
      "execution_count": null,
      "outputs": []
    },
    {
      "cell_type": "code",
      "source": [],
      "metadata": {
        "id": "lCDo_As7Qx4B"
      },
      "execution_count": null,
      "outputs": []
    },
    {
      "cell_type": "markdown",
      "source": [
        "**16th-October-2022**\n",
        "\n",
        "\n",
        "**Leetcode 1531**: **String Compression II**\n",
        "\n",
        "**Problem**:Run-length encoding is a string compression method that works by replacing consecutive identical characters (repeated 2 or more times) with the concatenation of the character and the number marking the count of the characters (length of the run). For example, to compress the string \"aabccc\" we replace \"aa\" by \"a2\" and replace \"ccc\" by \"c3\". Thus the compressed string becomes \"a2bc3\".\n",
        "\n",
        "Notice that in this problem, we are not adding '1' after single characters.\n",
        "\n",
        "Given a string s and an integer k. You need to delete at most k characters from s such that the run-length encoded version of s has minimum length.\n",
        "\n",
        "Find the minimum length of the run-length encoded version of s after deleting at most k characters.\n",
        "\n",
        " \n",
        "\n",
        "**URL**: **https://leetcode.com/problems/string-compression-ii/**"
      ],
      "metadata": {
        "id": "6lpC1HNBHwrh"
      }
    },
    {
      "cell_type": "code",
      "source": [
        "class Solution:\n",
        "    def getLengthOfOptimalCompression(self, s: str, k: int) -> int:\n",
        "        @cache\n",
        "        def counter(start, last, last_count, k):\n",
        "            if k < 0: return float('inf')\n",
        "            if start == len(s): return 0\n",
        "            if s[start] == last:\n",
        "                delta = 1 if last_count == 1 or last_count == 9 or last_count == 99                 else 0\n",
        "                return delta + counter(start+1, last, last_count+1, k)\n",
        "            else:\n",
        "                keep_cnt = 1 + counter(start+1, s[start], 1, k)\n",
        "                delete_cnt = counter(start+1, last, last_count, k - 1)\n",
        "                return min(keep_cnt, delete_cnt)\n",
        "        return counter(0,\"\",0,k)\n",
        "        "
      ],
      "metadata": {
        "id": "jZUX7FAuQx7K"
      },
      "execution_count": null,
      "outputs": []
    },
    {
      "cell_type": "code",
      "source": [],
      "metadata": {
        "id": "YpJDJAfcQx-I"
      },
      "execution_count": null,
      "outputs": []
    },
    {
      "cell_type": "markdown",
      "source": [
        "**17th-October-2022**\n",
        "\n",
        "\n",
        "**Leetcode 1335**: **Minimum Difficulty of a Job Schedule**\n",
        "\n",
        "**Problem**:You want to schedule a list of jobs in d days. Jobs are dependent (i.e To work on the ith job, you have to finish all the jobs j where 0 <= j < i).\n",
        "\n",
        "You have to finish at least one task every day. The difficulty of a job schedule is the sum of difficulties of each day of the d days. The difficulty of a day is the maximum difficulty of a job done on that day.\n",
        "\n",
        "You are given an integer array jobDifficulty and an integer d. The difficulty of the ith job is jobDifficulty[i].\n",
        "\n",
        "Return the minimum difficulty of a job schedule. If you cannot find a schedule for the jobs return -1.\n",
        "\n",
        " \n",
        "\n",
        "**URL**: **https://leetcode.com/problems/minimum-difficulty-of-a-job-schedule/**"
      ],
      "metadata": {
        "id": "Nj_j0ttJC2bX"
      }
    },
    {
      "cell_type": "code",
      "source": [
        "class Solution:\n",
        "    def minDifficulty(self, jobDifficulty: List[int], d: int) -> int:\n",
        "        n = len(jobDifficulty)\n",
        "    \n",
        "        @cache\n",
        "        def dp(i, k):\n",
        "            if k == d: return max(jobDifficulty[i:])\n",
        "            res = float('inf')\n",
        "            curr = 0\n",
        "            for j in range(i, n - d + k):\n",
        "                curr = max(curr, jobDifficulty[j])\n",
        "                res = min(res, curr + dp(j + 1, k + 1))\n",
        "            return res\n",
        "        return -1 if n < d else dp(0, 1)"
      ],
      "metadata": {
        "id": "eCXRQlG6QyBJ"
      },
      "execution_count": null,
      "outputs": []
    },
    {
      "cell_type": "code",
      "source": [],
      "metadata": {
        "id": "Qy7dP5a0QyEh"
      },
      "execution_count": null,
      "outputs": []
    },
    {
      "cell_type": "markdown",
      "source": [
        "**18th-October-2022**\n",
        "\n",
        "\n",
        "**Leetcode 1832**: **Check if the Sentence is a Pangram**\n",
        "\n",
        "**Problem**:A pangram is a sentence where every letter of the English alphabet appears at least once.\n",
        "\n",
        "Given a string sentence containing only lowercase English letters, return true if sentence is a pangram, or false otherwise.\n",
        "\n",
        "\n",
        " \n",
        "\n",
        "**URL**: **https://leetcode.com/problems/check-if-the-sentence-is-pangram/**"
      ],
      "metadata": {
        "id": "k1mdmMbFD8K6"
      }
    },
    {
      "cell_type": "code",
      "source": [
        "class Solution:\n",
        "    def checkIfPangram(self, sentence: str) -> bool:\n",
        "        seen_letter = set(sentence)\n",
        "        if len(seen_letter) == 26:\n",
        "            return True\n",
        "        else:\n",
        "            return False\n",
        "\n",
        "# class Solution:\n",
        "#     def checkIfPangram(self, sentence: str) -> bool:\n",
        "#         seen_letter = set(sentence)\n",
        "#         return len(seen_letter) == 26\n",
        "            "
      ],
      "metadata": {
        "id": "xoHnG-zGQyHy"
      },
      "execution_count": null,
      "outputs": []
    },
    {
      "cell_type": "code",
      "source": [],
      "metadata": {
        "id": "w-SL9PktQyLT"
      },
      "execution_count": null,
      "outputs": []
    },
    {
      "cell_type": "markdown",
      "source": [
        "**19th-October-2022**\n",
        "\n",
        "\n",
        "**Leetcode 38**: **Count and Say**\n",
        "\n",
        "**Problem**:The count-and-say sequence is a sequence of digit strings defined by the recursive formula:\n",
        "\n",
        "countAndSay(1) = \"1\"\n",
        "countAndSay(n) is the way you would \"say\" the digit string from countAndSay(n-1), which is then converted into a different digit string.\n",
        "To determine how you \"say\" a digit string, split it into the minimal number of substrings such that each substring contains exactly one unique digit. Then for each substring, say the number of digits, then say the digit. Finally, concatenate every said digit.\n",
        "\n",
        "For example, the saying and conversion for digit string \"3322251\":\n",
        "\n",
        "\n",
        "Given a positive integer n, return the nth term of the count-and-say sequence.\n",
        " \n",
        "\n",
        "**URL**: **https://leetcode.com/problems/count-and-say/**"
      ],
      "metadata": {
        "id": "Fxh-qGNcS2-Q"
      }
    },
    {
      "cell_type": "code",
      "source": [
        "class Solution:\n",
        "    def countAndSay(self, n: int) -> str:\n",
        "        s = '1'\n",
        "        for _ in range(n-1):\n",
        "            let, temp, count = s[0], '', 0\n",
        "            for l in s:\n",
        "                if let == l:\n",
        "                    count += 1\n",
        "                else:\n",
        "                    temp += str(count)+let\n",
        "                    let = l\n",
        "                    count = 1\n",
        "            temp += str(count)+let\n",
        "            s = temp\n",
        "        return s\n",
        "        "
      ],
      "metadata": {
        "id": "2mZlwj2tQysI"
      },
      "execution_count": null,
      "outputs": []
    },
    {
      "cell_type": "code",
      "source": [],
      "metadata": {
        "id": "IIhPQWU4QyvF"
      },
      "execution_count": null,
      "outputs": []
    },
    {
      "cell_type": "markdown",
      "source": [
        "**20th-October-2022**\n",
        "\n",
        "\n",
        "**Leetcode 38**: **Top K Frequent Words**\n",
        "\n",
        "**Problem**:Given an array of strings words and an integer k, return the k most frequent strings.\n",
        "\n",
        "Return the answer sorted by the frequency from highest to lowest. Sort the words with the same frequency by their lexicographical order.\n",
        "\n",
        " \n",
        "**URL**: **https://leetcode.com/problems/top-k-frequent-words/**"
      ],
      "metadata": {
        "id": "QNJ6oQLJE65B"
      }
    },
    {
      "cell_type": "code",
      "source": [
        "class Solution:\n",
        "    def topKFrequent(self, words: List[str], k: int) -> List[str]:\n",
        "        \n",
        "        # Create a dict with this structure\n",
        "        #   {'word': # of occurances, ...}\n",
        "        seen = {}\n",
        "        for word in words: seen[word] = seen.get(word, 0) + 1\n",
        "            \n",
        "        # Sort that dict's items by two different keys (used in the lambda function)\n",
        "        #   1st key: -x[1]\n",
        "        #          : reverse order (descending) of the values (# of occurances)\n",
        "        #   2nd key: x[0]\n",
        "        #          : alphabetical order (secondary)\n",
        "        seen = sorted(seen.items(), key=lambda x:[-x[1], x[0]])\n",
        "        \n",
        "        # Return the first k elements \n",
        "        return [seen[i][0] for i in range(k)]"
      ],
      "metadata": {
        "id": "39fcG5U3QyyN"
      },
      "execution_count": null,
      "outputs": []
    },
    {
      "cell_type": "code",
      "source": [],
      "metadata": {
        "id": "uvnS7uMWG976"
      },
      "execution_count": null,
      "outputs": []
    },
    {
      "cell_type": "markdown",
      "source": [
        "**21st-October-2022**\n",
        "\n",
        "\n",
        "**Leetcode 38**: **Integer to Roman**\n",
        "\n",
        "**Problem**:Given an array of strings words and an integer k, return the k most frequent strings.\n",
        "\n",
        "Return the answer sorted by the frequency from highest to lowest. Sort the words with the same frequency by their lexicographical order.\n",
        "\n",
        " \n",
        "**URL**: **https://leetcode.com/problems/integer-to-roman/**"
      ],
      "metadata": {
        "id": "rbFHI5BeQaTD"
      }
    },
    {
      "cell_type": "code",
      "source": [
        "class Solution:\n",
        "    def intToRoman(self, num: int) -> str:\n",
        "        roman_numerals = {1000: \"M\", 900: \"CM\", 500: \"D\", 400: \"CD\", 100: \"C\", \n",
        "                          90: \"XC\", 50: \"L\", 40: \"XL\", 10: \"X\", 9: \"IX\", 5: \"V\", \n",
        "                          4:\"IV\", 1:\"I\"}\n",
        "        results = \"\"\n",
        "        \n",
        "        for key, value in roman_numerals.items():\n",
        "            while num>=key:\n",
        "                results += value\n",
        "                num -= key\n",
        "        return results      "
      ],
      "metadata": {
        "id": "VJj-nqCzqpPK"
      },
      "execution_count": null,
      "outputs": []
    },
    {
      "cell_type": "code",
      "source": [],
      "metadata": {
        "id": "rrjTfc8hqpTP"
      },
      "execution_count": null,
      "outputs": []
    },
    {
      "cell_type": "markdown",
      "source": [
        "**22nd-October-2022**\n",
        "\n",
        "\n",
        "**Leetcode 219**: **Contains Duplicate II**\n",
        "\n",
        "**Problem**: Given an integer array nums and an integer k, return true if there are two distinct indices i and j in the array such that nums[i] == nums[j] and abs(i - j) <= k.\n",
        " \n",
        "**URL**: **https://leetcode.com/problems/contains-duplicate-ii/**"
      ],
      "metadata": {
        "id": "uxXSh0zHvxXf"
      }
    },
    {
      "cell_type": "code",
      "source": [
        "class Solution:\n",
        "    def containsNearbyDuplicate(self, nums: List[int], k: int) -> bool:\n",
        "        dictionary = {}\n",
        "        for i, n in enumerate(nums):\n",
        "            if n in dictionary and abs(i - dictionary[n]) <= k:\n",
        "                return True\n",
        "            dictionary[n] = i\n",
        "        return False\n",
        "        "
      ],
      "metadata": {
        "id": "pwkxUeiPqpay"
      },
      "execution_count": null,
      "outputs": []
    },
    {
      "cell_type": "code",
      "source": [],
      "metadata": {
        "id": "IFdz1q65qpek"
      },
      "execution_count": null,
      "outputs": []
    },
    {
      "cell_type": "markdown",
      "source": [
        "**23rd-October-2022**\n",
        "\n",
        "\n",
        "**Leetcode 76**: **Minimum Window Substring**\n",
        "\n",
        "**Problem**: Given two strings s and t of lengths m and n respectively, return the minimum window substring of s such that every character in t (including duplicates) is included in the window. If there is no such substring, return the empty string \"\".\n",
        "\n",
        "The testcases will be generated such that the answer is unique.\n",
        "\n",
        "A substring is a contiguous sequence of characters within the string.\n",
        "\n",
        " \n",
        "**URL**: **https://leetcode.com/problems/minimum-window-substring/**"
      ],
      "metadata": {
        "id": "R_8MdtJo3vNz"
      }
    },
    {
      "cell_type": "code",
      "source": [
        "class Solution:\n",
        "    def minWindow(self, s: str, t: str) -> str:\n",
        "        need, missing = collections.Counter(t), len(t)\n",
        "        i = I = J = 0\n",
        "        for j, c in enumerate(s, 1):\n",
        "            missing -= need[c] > 0\n",
        "            need[c] -= 1\n",
        "            if not missing:\n",
        "                while i < j and need[s[i]] < 0:\n",
        "                    need[s[i]] += 1\n",
        "                    i += 1\n",
        "                if not J or j - i <= J - I:\n",
        "                    I, J = i, j\n",
        "        return s[I:J]"
      ],
      "metadata": {
        "id": "vTzfTe9BqpiW"
      },
      "execution_count": null,
      "outputs": []
    },
    {
      "cell_type": "code",
      "source": [],
      "metadata": {
        "id": "Q8i8v2cTqpmQ"
      },
      "execution_count": null,
      "outputs": []
    },
    {
      "cell_type": "markdown",
      "source": [
        "**24th-October-2022**\n",
        "\n",
        "\n",
        "**Leetcode 645**: **Set Mismatch**\n",
        "\n",
        "**Problem**: You have a set of integers s, which originally contains all the numbers from 1 to n. Unfortunately, due to some error, one of the numbers in s got duplicated to another number in the set, which results in repetition of one number and loss of another number.\n",
        "\n",
        "You are given an integer array nums representing the data status of this set after the error.\n",
        "\n",
        "Find the number that occurs twice and the number that is missing and return them in the form of an array.\n",
        "\n",
        " \n",
        "**URL**: **https://leetcode.com/problems/set-mismatch//**"
      ],
      "metadata": {
        "id": "UiDx51Y61mCW"
      }
    },
    {
      "cell_type": "code",
      "source": [
        "class Solution:\n",
        "    def findErrorNums(self, nums: List[int]) -> List[int]:\n",
        "        n = len(nums)\n",
        "        i = sum(nums)\n",
        "        k = sum(set(nums))\t\t\n",
        "        q = n*(n+1)//2\n",
        "        \n",
        "        return [i-k, q-k]"
      ],
      "metadata": {
        "id": "lBcWyIDeqpqJ"
      },
      "execution_count": null,
      "outputs": []
    },
    {
      "cell_type": "code",
      "source": [],
      "metadata": {
        "id": "Dk3De3UWqpuD"
      },
      "execution_count": null,
      "outputs": []
    },
    {
      "cell_type": "markdown",
      "source": [
        "**25th-October-2022**\n",
        "\n",
        "\n",
        "**Leetcode 1239**: **Maximum Length Of a Concatenated String with Unique Characters**\n",
        "\n",
        "**Problem**: You are given an array of strings arr. A string s is formed by the concatenation of a subsequence of arr that has unique characters.\n",
        "\n",
        "Return the maximum possible length of s.\n",
        "\n",
        "A subsequence is an array that can be derived from another array by deleting some or no elements without changing the order of the remaining elements.\n",
        "\n",
        " \n",
        "**URL**: **https://leetcode.com/problems/maximum-length-of-a-concatenated-string-with-unique-characters/**"
      ],
      "metadata": {
        "id": "BepXNCITnpPy"
      }
    },
    {
      "cell_type": "code",
      "source": [
        "class Solution:\n",
        "    def maxLength(self, arr: List[str]) -> int:\n",
        "        self.maximum = 0\n",
        "        def backtrack(start,array,s):\n",
        "            if len(s)==len(set(s)):\n",
        "                self.maximum = max(self.maximum,len(s))\n",
        "            else:\n",
        "                return\n",
        "            for i in range(start,len(array)):\n",
        "                backtrack(i+1,array,s + array[i])\n",
        "        backtrack(0,arr,\"\")\n",
        "        return self.maximum\n",
        "        "
      ],
      "metadata": {
        "id": "_rKl08Lpqpx1"
      },
      "execution_count": null,
      "outputs": []
    },
    {
      "cell_type": "code",
      "source": [],
      "metadata": {
        "id": "_pCcKxENqp1_"
      },
      "execution_count": null,
      "outputs": []
    },
    {
      "cell_type": "markdown",
      "source": [
        "**26th-October-2022**\n",
        "\n",
        "\n",
        "**Leetcode 1662**: **Check if Two Strings Are Equivalent**\n",
        "\n",
        "**Problem**:Given two string arrays word1 and word2, return true if the two arrays represent the same string, and false otherwise.\n",
        "\n",
        "A string is represented by an array if the array elements concatenated in order forms the string.\n",
        "\n",
        "\n",
        " \n",
        "**URL**: **https://leetcode.com/problems/check-if-two-string-arrays-are-equivalent/**"
      ],
      "metadata": {
        "id": "YmgAf4pKpBXh"
      }
    },
    {
      "cell_type": "code",
      "source": [
        "class Solution:\n",
        "    def arrayStringsAreEqual(self, word1: List[str], word2: List[str]) -> bool:\n",
        "        return \"\".join(word1) == \"\".join(word2)"
      ],
      "metadata": {
        "id": "C5B4Ohg2qp5x"
      },
      "execution_count": null,
      "outputs": []
    },
    {
      "cell_type": "code",
      "source": [],
      "metadata": {
        "id": "-qqQg9Glqp9n"
      },
      "execution_count": null,
      "outputs": []
    },
    {
      "cell_type": "markdown",
      "source": [
        "**27th-October-2022**\n",
        "\n",
        "\n",
        "**Leetcode 523**: **Continuous Subarray Sum**\n",
        "\n",
        "**Problem**:Given an integer array nums and an integer k, return true if nums has a continuous subarray of size at least two whose elements sum up to a multiple of k, or false otherwise.\n",
        "\n",
        "An integer x is a multiple of k if there exists an integer n such that x = n * k. 0 is always a multiple of k.\n",
        " \n",
        "**URL**: **https://leetcode.com/problems/continuous-subarray-sum/**"
      ],
      "metadata": {
        "id": "YgpQv2HP7_IH"
      }
    },
    {
      "cell_type": "code",
      "source": [
        "class Solution:\n",
        "    def checkSubarraySum(self, nums: List[int], k: int) -> bool:\n",
        "        \n",
        "        # initialize the hash map with index 0 for sum 0\n",
        "        hash_map = {0: 0}\n",
        "        m = 0\n",
        "        for i in range(len(nums)):\n",
        "            m += nums[i]\n",
        "            # if the remainder m % k occurs for the first time\n",
        "            if m % k not in hash_map:\n",
        "                hash_map[m % k] = i + 1\n",
        "            # if the subarray size is at least two\n",
        "            elif hash_map[m % k] < i:\n",
        "                return True\n",
        "        return False\n",
        "        "
      ],
      "metadata": {
        "id": "322FcXV_qqBd"
      },
      "execution_count": null,
      "outputs": []
    },
    {
      "cell_type": "markdown",
      "source": [
        "**28th-October-2022**\n",
        "\n",
        "\n",
        "**Leetcode 835**: **Image Overlap**\n",
        "\n",
        "**Problem**: You are given two images, img1 and img2, represented as binary, square matrices of size n x n. A binary matrix has only 0s and 1s as values.\n",
        "\n",
        "We translate one image however we choose by sliding all the 1 bits left, right, up, and/or down any number of units. We then place it on top of the other image. We can then calculate the overlap by counting the number of positions that have a 1 in both images.\n",
        "\n",
        "Note also that a translation does not include any kind of rotation. Any 1 bits that are translated outside of the matrix borders are erased.\n",
        "\n",
        "Return the largest possible overlap.\n",
        " \n",
        "**URL**: **https://leetcode.com/problems/image-overlap/**"
      ],
      "metadata": {
        "id": "VXq9nZVBTNvL"
      }
    },
    {
      "cell_type": "code",
      "source": [
        "class Solution:\n",
        "    def largestOverlap(self, img1: List[List[int]], img2: List[List[int]]) -> int:\n",
        "        dimension = len(img1)\n",
        "\n",
        "        def non_zero_cells(M):\n",
        "            result = []\n",
        "            for x in range(dimension):\n",
        "                for y in range(dimension):\n",
        "                    if M[x][y] == 1:\n",
        "                        result.append((x, y))\n",
        "            return result\n",
        "\n",
        "        transformation_count = defaultdict(int)\n",
        "        max_overlaps = 0\n",
        "\n",
        "        img1_ones = non_zero_cells(img1)\n",
        "        img2_ones = non_zero_cells(img2)\n",
        "\n",
        "        for (x_a, y_a) in img1_ones:\n",
        "            for (x_b, y_b) in img2_ones:\n",
        "                vector = (x_b - x_a, y_b - y_a)\n",
        "                transformation_count[vector] += 1\n",
        "                max_overlaps = max(max_overlaps, transformation_count[vector])\n",
        "                \n",
        "        return max_overlaps"
      ],
      "metadata": {
        "id": "9VEoLzGmqqFH"
      },
      "execution_count": null,
      "outputs": []
    },
    {
      "cell_type": "code",
      "source": [],
      "metadata": {
        "id": "gGiwYrb0qqIy"
      },
      "execution_count": null,
      "outputs": []
    },
    {
      "cell_type": "markdown",
      "source": [
        "**29th-October-2022**\n",
        "\n",
        "\n",
        "**Leetcode 49**: **Group Anagrams**\n",
        "\n",
        "**Problem**: You are given two images, img1 and img2, represented as binary, square matrices of size n x n. A binary matrix has only 0s and 1s as values.\n",
        "\n",
        "We translate one image however we choose by sliding all the 1 bits left, right, up, and/or down any number of units. We then place it on top of the other image. We can then calculate the overlap by counting the number of positions that have a 1 in both images.\n",
        "\n",
        "Note also that a translation does not include any kind of rotation. Any 1 bits that are translated outside of the matrix borders are erased.\n",
        "\n",
        "Return the largest possible overlap.\n",
        " \n",
        "**URL**: **https://leetcode.com/problems/group-anagrams/**"
      ],
      "metadata": {
        "id": "jfYC0QZLGven"
      }
    },
    {
      "cell_type": "code",
      "source": [
        "class Solution:\n",
        "    def groupAnagrams(self, strs: List[str]) -> List[List[str]]:\n",
        "        like_anagrams = dict()\n",
        "        for string in strs:\n",
        "            key = \"\".join(sorted(string))\n",
        "            like_anagrams[key] = like_anagrams.get(key,[]) + [string]\n",
        "        return list(like_anagrams.values())\n",
        "            "
      ],
      "metadata": {
        "id": "8SsP-YmOqqMy"
      },
      "execution_count": null,
      "outputs": []
    },
    {
      "cell_type": "code",
      "source": [],
      "metadata": {
        "id": "ggwdpv9mqqQk"
      },
      "execution_count": null,
      "outputs": []
    },
    {
      "cell_type": "markdown",
      "source": [
        "**30th-October-2022**\n",
        "\n",
        "\n",
        "**Leetcode 2136**: **Earliest Possible Day of Full Bloom**\n",
        "\n",
        "**Problem**: You have n flower seeds. Every seed must be planted first before it can begin to grow, then bloom. Planting a seed takes time and so does the growth of a seed. You are given two 0-indexed integer arrays plantTime and growTime, of length n each:\n",
        "\n",
        "plantTime[i] is the number of full days it takes you to plant the ith seed. Every day, you can work on planting exactly one seed. You do not have to work on planting the same seed on consecutive days, but the planting of a seed is not complete until you have worked plantTime[i] days on planting it in total.\n",
        "growTime[i] is the number of full days it takes the ith seed to grow after being completely planted. After the last day of its growth, the flower blooms and stays bloomed forever.\n",
        "From the beginning of day 0, you can plant the seeds in any order.\n",
        "\n",
        "Return the earliest possible day where all seeds are blooming.\n",
        "\n",
        "\n",
        "**URL**: **https://leetcode.com/problems/earliest-possible-day-of-full-bloom/**"
      ],
      "metadata": {
        "id": "cB1vIREOcT61"
      }
    },
    {
      "cell_type": "code",
      "source": [
        "class Solution:\n",
        "    def earliestFullBloom(self, plantTime: List[int], growTime: List[int]) -> int:\n",
        "        cur_plant_time = 0\n",
        "        result = 0\n",
        "        indices = sorted(range(len(plantTime)), key=lambda x: -growTime[x]) \n",
        "        for i in indices:\n",
        "            cur_plant_time += plantTime[i]\n",
        "            result = max(result, cur_plant_time + growTime[i])\n",
        "        return result\n"
      ],
      "metadata": {
        "id": "KmxAHIjbqqUe"
      },
      "execution_count": null,
      "outputs": []
    },
    {
      "cell_type": "code",
      "source": [],
      "metadata": {
        "id": "7QSBtIm-qqYR"
      },
      "execution_count": null,
      "outputs": []
    },
    {
      "cell_type": "markdown",
      "source": [
        "**31st-October-2022**\n",
        "\n",
        "\n",
        "**Leetcode 1293**: **Shortest Path In a Grid With Obstacles Elimination**\n",
        "\n",
        "**Problem**: You are given an m x n integer matrix grid where each cell is either 0 (empty) or 1 (obstacle). You can move up, down, left, or right from and to an empty cell in one step.\n",
        "\n",
        "Return the minimum number of steps to walk from the upper left corner (0, 0) to the lower right corner (m - 1, n - 1) given that you can eliminate at most k obstacles. If it is not possible to find such walk return -1.\n",
        "\n",
        "\n",
        "**URL**: **https://leetcode.com/problems/shortest-path-in-a-grid-with-obstacles-elimination/**"
      ],
      "metadata": {
        "id": "ICaLUUoTfNbu"
      }
    },
    {
      "cell_type": "code",
      "source": [
        "class Solution:\n",
        "    def shortestPath(self, grid: List[List[int]], k: int) -> int:\n",
        "        m = len(grid)\n",
        "        n = len(grid[0])\n",
        "        if m == 1 and n == 1:\n",
        "            return 0\n",
        "\n",
        "        dirs = [0, 1, 0, -1, 0]\n",
        "        steps = 0\n",
        "        q = deque([(0, 0, k)])\n",
        "        seen = {(0, 0, k)}\n",
        "\n",
        "        while q:\n",
        "            steps += 1\n",
        "            for _ in range(len(q)):\n",
        "                i, j, eliminate = q.popleft()\n",
        "                for l in range(4):\n",
        "                    x = i + dirs[l]\n",
        "                    y = j + dirs[l + 1]\n",
        "                    if x < 0 or x == m or y < 0 or y == n:\n",
        "                        continue\n",
        "                    if x == m - 1 and y == n - 1:\n",
        "                        return steps\n",
        "                    if grid[x][y] == 1 and eliminate == 0:\n",
        "                        continue\n",
        "                    newEliminate = eliminate - grid[x][y]\n",
        "                    if (x, y, newEliminate) in seen:\n",
        "                        continue\n",
        "                    q.append((x, y, newEliminate))\n",
        "                    seen.add((x, y, newEliminate))\n",
        "\n",
        "        return -1\n",
        "        "
      ],
      "metadata": {
        "id": "-3403RzGqqcM"
      },
      "execution_count": null,
      "outputs": []
    },
    {
      "cell_type": "code",
      "source": [],
      "metadata": {
        "id": "Rhx0yKDFqqgc"
      },
      "execution_count": null,
      "outputs": []
    },
    {
      "cell_type": "markdown",
      "source": [
        "**1st-November-2022**\n",
        "\n",
        "\n",
        "**Leetcode 766**: **Toeplitz Matrix**\n",
        "\n",
        "**Problem**:Given an m x n matrix, return true if the matrix is Toeplitz. Otherwise, return false.\n",
        "\n",
        "A matrix is Toeplitz if every diagonal from top-left to bottom-right has the same elements.\n",
        "\n",
        "**URL**: **https://leetcode.com/problems/toeplitz-matrix/**"
      ],
      "metadata": {
        "id": "XP3UayddanZe"
      }
    },
    {
      "cell_type": "code",
      "source": [
        "class Solution:\n",
        "    def isToeplitzMatrix(self, matrix: List[List[int]]) -> bool:\n",
        "        for i in range(len(matrix) - 1):\n",
        "            for j in range(len(matrix[0]) - 1):\n",
        "                if matrix[i][j] != matrix[i + 1][j + 1]:\n",
        "                    return False\n",
        "        return True\n"
      ],
      "metadata": {
        "id": "28e4zpNNqqkP"
      },
      "execution_count": null,
      "outputs": []
    },
    {
      "cell_type": "code",
      "source": [],
      "metadata": {
        "id": "FHmVr5liqqn4"
      },
      "execution_count": null,
      "outputs": []
    },
    {
      "cell_type": "markdown",
      "source": [
        "**2nd-November-2022**\n",
        "\n",
        "\n",
        "**Leetcode 1706**: **Where Will The Ball Fall**\n",
        "\n",
        "**Problem**:You have a 2-D grid of size m x n representing a box, and you have n balls. The box is open on the top and bottom sides.\n",
        "\n",
        "Each cell in the box has a diagonal board spanning two corners of the cell that can redirect a ball to the right or to the left.\n",
        "\n",
        "A board that redirects the ball to the right spans the top-left corner to the bottom-right corner and is represented in the grid as 1.\n",
        "A board that redirects the ball to the left spans the top-right corner to the bottom-left corner and is represented in the grid as -1.\n",
        "We drop one ball at the top of each column of the box. Each ball can get stuck in the box or fall out of the bottom. A ball gets stuck if it hits a \"V\" shaped pattern between two boards or if a board redirects the ball into either wall of the box.\n",
        "\n",
        "Return an array answer of size n where answer[i] is the column that the ball falls out of at the bottom after dropping the ball from the ith column at the top, or -1 if the ball gets stuck in the box.\n",
        "\n",
        "**URL**: **https://leetcode.com/problems/where-will-the-ball-fall/**"
      ],
      "metadata": {
        "id": "P4agaPb1hIKx"
      }
    },
    {
      "cell_type": "code",
      "source": [
        "class Solution:\n",
        "    def findBall(self, grid: List[List[int]]) -> List[int]:\n",
        "        a, b = len(grid), len(grid[0])\n",
        "        \n",
        "        # [1] function that simulates m steps\n",
        "        def move_ball(j):\n",
        "            for i in range(a):\n",
        "                k = j + grid[i][j]\n",
        "                if not (0 <= k < b) or (grid[i][k] != grid[i][j]):\n",
        "                    return -1\n",
        "                j = k\n",
        "            return j\n",
        "        \n",
        "        # [2] move n balls from the top to the bottom\n",
        "        return [move_ball(j) for j in range(b)]\n"
      ],
      "metadata": {
        "id": "SHhjVgzQqqr6"
      },
      "execution_count": null,
      "outputs": []
    },
    {
      "cell_type": "code",
      "source": [],
      "metadata": {
        "id": "9AYuAHDUqqvs"
      },
      "execution_count": null,
      "outputs": []
    },
    {
      "cell_type": "markdown",
      "source": [
        "**3rd-November-2022**\n",
        "\n",
        "\n",
        "**Leetcode 433**: **Minimum Genetic Mutation**\n",
        "\n",
        "**Problem**:A gene string can be represented by an 8-character long string, with choices from 'A', 'C', 'G', and 'T'.\n",
        "\n",
        "Suppose we need to investigate a mutation from a gene string start to a gene string end where one mutation is defined as one single character changed in the gene string.\n",
        "\n",
        "For example, \"AACCGGTT\" --> \"AACCGGTA\" is one mutation.\n",
        "There is also a gene bank bank that records all the valid gene mutations. A gene must be in bank to make it a valid gene string.\n",
        "\n",
        "Given the two gene strings start and end and the gene bank bank, return the minimum number of mutations needed to mutate from start to end. If there is no such a mutation, return -1.\n",
        "\n",
        "Note that the starting point is assumed to be valid, so it might not be included in the bank.\n",
        "\n",
        " \n",
        "\n",
        "\n",
        "\n",
        "**URL**: **https://leetcode.com/problems/minimum-genetic-mutation/**"
      ],
      "metadata": {
        "id": "FX1Dpdmmh-7k"
      }
    },
    {
      "cell_type": "code",
      "source": [
        "class Solution:\n",
        "    def minMutation(self, start: str, end: str, bank: List[str]) -> int:\n",
        "        queue = deque([(start, 0)])\n",
        "        seen = {start}\n",
        "        \n",
        "        while queue:\n",
        "            node, steps = queue.popleft()\n",
        "            if node == end:\n",
        "                return steps\n",
        "\n",
        "            for c in \"ACGT\":\n",
        "                for i in range(len(node)):\n",
        "                    neighbor = node[:i] + c + node[i + 1:]\n",
        "                    if neighbor not in seen and neighbor in bank:\n",
        "                        queue.append((neighbor, steps + 1))\n",
        "                        seen.add(neighbor)\n",
        "\n",
        "        return -1"
      ],
      "metadata": {
        "id": "WF1IFZEsqqzM"
      },
      "execution_count": null,
      "outputs": []
    },
    {
      "cell_type": "code",
      "source": [],
      "metadata": {
        "id": "xa77nLDIqq3I"
      },
      "execution_count": null,
      "outputs": []
    },
    {
      "cell_type": "markdown",
      "source": [
        "**4th-November-2022**\n",
        "\n",
        "\n",
        "**Leetcode 2131**: **Longest Palindrome By Concatenating Two Letter Words**\n",
        "\n",
        "**Problem**You are given an array of strings words. Each element of words consists of two lowercase English letters.\n",
        "\n",
        "Create the longest possible palindrome by selecting some elements from words and concatenating them in any order. Each element can be selected at most once.\n",
        "\n",
        "Return the length of the longest palindrome that you can create. If it is impossible to create any palindrome, return 0.\n",
        "\n",
        "A palindrome is a string that reads the same forward and backward.\n",
        "\n",
        "\n",
        "**URL**: **https://leetcode.com/problems/longest-palindrome-by-concatenating-two-letter-words/**"
      ],
      "metadata": {
        "id": "Da1Tm2QxO84Y"
      }
    },
    {
      "cell_type": "code",
      "source": [],
      "metadata": {
        "id": "9cOdS1meOlF1"
      },
      "execution_count": null,
      "outputs": []
    },
    {
      "cell_type": "code",
      "source": [],
      "metadata": {
        "id": "vWuR1jtGOlJl"
      },
      "execution_count": null,
      "outputs": []
    },
    {
      "cell_type": "code",
      "source": [],
      "metadata": {
        "id": "GEj3zbr4OlNh"
      },
      "execution_count": null,
      "outputs": []
    },
    {
      "cell_type": "code",
      "source": [],
      "metadata": {
        "id": "S37RakEmOlRR"
      },
      "execution_count": null,
      "outputs": []
    },
    {
      "cell_type": "code",
      "source": [],
      "metadata": {
        "id": "jMhINLaYOlU0"
      },
      "execution_count": null,
      "outputs": []
    },
    {
      "cell_type": "code",
      "source": [],
      "metadata": {
        "id": "RW_3odTOOlY0"
      },
      "execution_count": null,
      "outputs": []
    },
    {
      "cell_type": "code",
      "source": [],
      "metadata": {
        "id": "ZlAmCiIROlcY"
      },
      "execution_count": null,
      "outputs": []
    },
    {
      "cell_type": "code",
      "source": [],
      "metadata": {
        "id": "is2QHZFsOlgQ"
      },
      "execution_count": null,
      "outputs": []
    },
    {
      "cell_type": "code",
      "source": [],
      "metadata": {
        "id": "4po89yAXOljz"
      },
      "execution_count": null,
      "outputs": []
    },
    {
      "cell_type": "code",
      "source": [],
      "metadata": {
        "id": "RKBL8F6gOlnr"
      },
      "execution_count": null,
      "outputs": []
    },
    {
      "cell_type": "code",
      "source": [],
      "metadata": {
        "id": "hQMLXfJSOlrO"
      },
      "execution_count": null,
      "outputs": []
    },
    {
      "cell_type": "code",
      "source": [],
      "metadata": {
        "id": "byg8kTT_Olu9"
      },
      "execution_count": null,
      "outputs": []
    },
    {
      "cell_type": "code",
      "source": [],
      "metadata": {
        "id": "UAqz662iOlyy"
      },
      "execution_count": null,
      "outputs": []
    },
    {
      "cell_type": "code",
      "source": [],
      "metadata": {
        "id": "ZC4-nqE2Ol2o"
      },
      "execution_count": null,
      "outputs": []
    },
    {
      "cell_type": "code",
      "source": [],
      "metadata": {
        "id": "J2UhoRurOl6m"
      },
      "execution_count": null,
      "outputs": []
    },
    {
      "cell_type": "code",
      "source": [],
      "metadata": {
        "id": "V3xi_ObZOl-l"
      },
      "execution_count": null,
      "outputs": []
    },
    {
      "cell_type": "code",
      "source": [],
      "metadata": {
        "id": "SFhsxYDGOmCZ"
      },
      "execution_count": null,
      "outputs": []
    },
    {
      "cell_type": "code",
      "source": [],
      "metadata": {
        "id": "xq5orJ_6OmGB"
      },
      "execution_count": null,
      "outputs": []
    },
    {
      "cell_type": "code",
      "source": [],
      "metadata": {
        "id": "dxD58084OmJ8"
      },
      "execution_count": null,
      "outputs": []
    },
    {
      "cell_type": "code",
      "source": [],
      "metadata": {
        "id": "00StA8S2OmN8"
      },
      "execution_count": null,
      "outputs": []
    },
    {
      "cell_type": "code",
      "source": [],
      "metadata": {
        "id": "9HQuhpD6OmR6"
      },
      "execution_count": null,
      "outputs": []
    },
    {
      "cell_type": "code",
      "source": [],
      "metadata": {
        "id": "644Ziea4OmWD"
      },
      "execution_count": null,
      "outputs": []
    },
    {
      "cell_type": "code",
      "source": [],
      "metadata": {
        "id": "qZxce0YtOmaD"
      },
      "execution_count": null,
      "outputs": []
    },
    {
      "cell_type": "code",
      "source": [],
      "metadata": {
        "id": "frzCsj7sOmeI"
      },
      "execution_count": null,
      "outputs": []
    },
    {
      "cell_type": "code",
      "source": [],
      "metadata": {
        "id": "wBzACvqlOmiK"
      },
      "execution_count": null,
      "outputs": []
    },
    {
      "cell_type": "code",
      "source": [],
      "metadata": {
        "id": "WhGaoaQ8Oml5"
      },
      "execution_count": null,
      "outputs": []
    },
    {
      "cell_type": "code",
      "source": [],
      "metadata": {
        "id": "rK98CLoiOmpj"
      },
      "execution_count": null,
      "outputs": []
    },
    {
      "cell_type": "code",
      "source": [],
      "metadata": {
        "id": "lBwOv004OmtY"
      },
      "execution_count": null,
      "outputs": []
    },
    {
      "cell_type": "code",
      "source": [],
      "metadata": {
        "id": "KDBPjy19Omxh"
      },
      "execution_count": null,
      "outputs": []
    },
    {
      "cell_type": "code",
      "source": [],
      "metadata": {
        "id": "ZK6e6rKHOm1K"
      },
      "execution_count": null,
      "outputs": []
    },
    {
      "cell_type": "code",
      "source": [],
      "metadata": {
        "id": "caHM9WHcOm49"
      },
      "execution_count": null,
      "outputs": []
    },
    {
      "cell_type": "code",
      "source": [],
      "metadata": {
        "id": "wVRJTKUPOm9D"
      },
      "execution_count": null,
      "outputs": []
    },
    {
      "cell_type": "code",
      "source": [],
      "metadata": {
        "id": "AzzMbV--OnA7"
      },
      "execution_count": null,
      "outputs": []
    },
    {
      "cell_type": "code",
      "source": [],
      "metadata": {
        "id": "rn8k9XjAOnE5"
      },
      "execution_count": null,
      "outputs": []
    },
    {
      "cell_type": "code",
      "source": [],
      "metadata": {
        "id": "geJqE8bOOnI3"
      },
      "execution_count": null,
      "outputs": []
    },
    {
      "cell_type": "code",
      "source": [],
      "metadata": {
        "id": "NZS4ebICOnMt"
      },
      "execution_count": null,
      "outputs": []
    },
    {
      "cell_type": "code",
      "source": [],
      "metadata": {
        "id": "ikBeF7XNOnQh"
      },
      "execution_count": null,
      "outputs": []
    },
    {
      "cell_type": "code",
      "source": [],
      "metadata": {
        "id": "LZfzeBCmOnUj"
      },
      "execution_count": null,
      "outputs": []
    },
    {
      "cell_type": "code",
      "source": [],
      "metadata": {
        "id": "Q09XtQazOnYc"
      },
      "execution_count": null,
      "outputs": []
    },
    {
      "cell_type": "code",
      "source": [],
      "metadata": {
        "id": "c0N6uM1HOnb_"
      },
      "execution_count": null,
      "outputs": []
    },
    {
      "cell_type": "code",
      "source": [],
      "metadata": {
        "id": "6gqm5dEtOnf-"
      },
      "execution_count": null,
      "outputs": []
    },
    {
      "cell_type": "code",
      "source": [],
      "metadata": {
        "id": "tuhcDUGfOnje"
      },
      "execution_count": null,
      "outputs": []
    },
    {
      "cell_type": "code",
      "source": [],
      "metadata": {
        "id": "vY5xsiicOnnT"
      },
      "execution_count": null,
      "outputs": []
    },
    {
      "cell_type": "code",
      "source": [],
      "metadata": {
        "id": "468Nwj64OnrF"
      },
      "execution_count": null,
      "outputs": []
    },
    {
      "cell_type": "code",
      "source": [],
      "metadata": {
        "id": "10OX5Uy5OnvE"
      },
      "execution_count": null,
      "outputs": []
    },
    {
      "cell_type": "code",
      "source": [],
      "metadata": {
        "id": "fGhG8aHDOnyx"
      },
      "execution_count": null,
      "outputs": []
    },
    {
      "cell_type": "code",
      "source": [],
      "metadata": {
        "id": "Fk515pnmOn3C"
      },
      "execution_count": null,
      "outputs": []
    },
    {
      "cell_type": "code",
      "source": [],
      "metadata": {
        "id": "w_RehQFXOn6m"
      },
      "execution_count": null,
      "outputs": []
    },
    {
      "cell_type": "code",
      "source": [],
      "metadata": {
        "id": "iY16GLLUOn-2"
      },
      "execution_count": null,
      "outputs": []
    },
    {
      "cell_type": "code",
      "source": [],
      "metadata": {
        "id": "hm5VOfcQOoCj"
      },
      "execution_count": null,
      "outputs": []
    },
    {
      "cell_type": "code",
      "source": [],
      "metadata": {
        "id": "XoV_cZPxOoGi"
      },
      "execution_count": null,
      "outputs": []
    },
    {
      "cell_type": "code",
      "source": [],
      "metadata": {
        "id": "CW0tIiuaOoKf"
      },
      "execution_count": null,
      "outputs": []
    },
    {
      "cell_type": "code",
      "source": [],
      "metadata": {
        "id": "uSvyuWQ0OoOO"
      },
      "execution_count": null,
      "outputs": []
    },
    {
      "cell_type": "code",
      "source": [],
      "metadata": {
        "id": "uvQodVioOoR-"
      },
      "execution_count": null,
      "outputs": []
    },
    {
      "cell_type": "code",
      "source": [],
      "metadata": {
        "id": "UtS335NmOoWM"
      },
      "execution_count": null,
      "outputs": []
    },
    {
      "cell_type": "code",
      "source": [],
      "metadata": {
        "id": "thfH7UlnOoZp"
      },
      "execution_count": null,
      "outputs": []
    },
    {
      "cell_type": "code",
      "source": [],
      "metadata": {
        "id": "gAex4QYuOodW"
      },
      "execution_count": null,
      "outputs": []
    },
    {
      "cell_type": "code",
      "source": [],
      "metadata": {
        "id": "hnbamedHOohW"
      },
      "execution_count": null,
      "outputs": []
    },
    {
      "cell_type": "code",
      "source": [],
      "metadata": {
        "id": "VMDjS9g4Ook_"
      },
      "execution_count": null,
      "outputs": []
    },
    {
      "cell_type": "code",
      "source": [],
      "metadata": {
        "id": "tcWv9LtMOoo5"
      },
      "execution_count": null,
      "outputs": []
    },
    {
      "cell_type": "code",
      "source": [],
      "metadata": {
        "id": "F1kQ2XVeOosc"
      },
      "execution_count": null,
      "outputs": []
    },
    {
      "cell_type": "code",
      "source": [],
      "metadata": {
        "id": "d3peNteNOowk"
      },
      "execution_count": null,
      "outputs": []
    },
    {
      "cell_type": "code",
      "source": [],
      "metadata": {
        "id": "tIjDuELFOo0R"
      },
      "execution_count": null,
      "outputs": []
    },
    {
      "cell_type": "code",
      "source": [],
      "metadata": {
        "id": "dd_YgYbGOo4Q"
      },
      "execution_count": null,
      "outputs": []
    },
    {
      "cell_type": "code",
      "source": [],
      "metadata": {
        "id": "8c3CmuuROo8O"
      },
      "execution_count": null,
      "outputs": []
    },
    {
      "cell_type": "code",
      "source": [],
      "metadata": {
        "id": "ycH00mYiOo_0"
      },
      "execution_count": null,
      "outputs": []
    },
    {
      "cell_type": "code",
      "source": [],
      "metadata": {
        "id": "isjW4FWsqq7D"
      },
      "execution_count": null,
      "outputs": []
    },
    {
      "cell_type": "code",
      "source": [],
      "metadata": {
        "id": "57Me10rhqq-7"
      },
      "execution_count": null,
      "outputs": []
    }
  ]
}