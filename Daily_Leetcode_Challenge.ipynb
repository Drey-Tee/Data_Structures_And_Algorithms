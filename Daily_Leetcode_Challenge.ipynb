{
  "nbformat": 4,
  "nbformat_minor": 0,
  "metadata": {
    "colab": {
      "provenance": [],
      "authorship_tag": "ABX9TyN1gEaQj2JRjKmJ06y2RNvh",
      "include_colab_link": true
    },
    "kernelspec": {
      "name": "python3",
      "display_name": "Python 3"
    },
    "language_info": {
      "name": "python"
    }
  },
  "cells": [
    {
      "cell_type": "markdown",
      "metadata": {
        "id": "view-in-github",
        "colab_type": "text"
      },
      "source": [
        "<a href=\"https://colab.research.google.com/github/Drey-Tee/Data_Structures_And_Algorithms/blob/main/Daily_Leetcode_Challenge.ipynb\" target=\"_parent\"><img src=\"https://colab.research.google.com/assets/colab-badge.svg\" alt=\"Open In Colab\"/></a>"
      ]
    },
    {
      "cell_type": "markdown",
      "source": [
        "**28th-September-2022**\n",
        "\n",
        "\n",
        "**Leetcode 838**: **Push Dominoes**\n",
        "\n",
        "**Problem**: There are n dominoes in a line, and we place each domino vertically upright. In the beginning, we simultaneously push some of the dominoes either to the left or to the right.\n",
        "\n",
        "After each second, each domino that is falling to the left pushes the adjacent domino on the left. Similarly, the dominoes falling to the right push their adjacent dominoes standing on the right.\n",
        "\n",
        "When a vertical domino has dominoes falling on it from both sides, it stays still due to the balance of the forces.\n",
        "\n",
        "For the purposes of this question, we will consider that a falling domino expends no additional force to a falling or already fallen domino.\n",
        "\n",
        "You are given a string dominoes representing the initial state where:\n",
        "\n",
        "dominoes[i] = 'L', if the ith domino has been pushed to the left,\n",
        "dominoes[i] = 'R', if the ith domino has been pushed to the right, and\n",
        "dominoes[i] = '.', if the ith domino has not been pushed.\n",
        "\n",
        "Return a string representing the final state.\n",
        "\n",
        "\n",
        "**URL**: https://leetcode.com/problems/push-dominoes/\n",
        "\n"
      ],
      "metadata": {
        "id": "9opmJ0RV-L4I"
      }
    },
    {
      "cell_type": "code",
      "source": [
        "class Solution:\n",
        "    def pushDominoes(self, dominoes: str) -> str:\n",
        "        while True:\n",
        "            new_dominoes = dominoes.replace('R.L', '|').replace('.L', 'LL').replace('R.', 'RR').replace('|', 'R.L')\n",
        "            if new_dominoes == dominoes:\n",
        "                break\n",
        "            else:\n",
        "                dominoes = new_dominoes\n",
        "\n",
        "        return dominoes\n"
      ],
      "metadata": {
        "id": "23yIgkQo-MwH"
      },
      "execution_count": null,
      "outputs": []
    },
    {
      "cell_type": "code",
      "source": [],
      "metadata": {
        "id": "SYJLuZ8S-QAB"
      },
      "execution_count": null,
      "outputs": []
    },
    {
      "cell_type": "markdown",
      "source": [
        "**29th-September-2022**\n",
        "\n",
        "\n",
        "**Leetcode 19**: **Remove Nth Node From End of List**\n",
        "\n",
        "**Problem**:Given the head of a linked list, remove the nth node from the end of the list and return its head.\n",
        "\n",
        "\n",
        "\n",
        "**URL**: **https://leetcode.com/problems/remove-nth-node-from-end-of-list/**"
      ],
      "metadata": {
        "id": "s5vzx1_5EDuQ"
      }
    },
    {
      "cell_type": "code",
      "source": [
        "# Definition for singly-linked list.\n",
        "# class ListNode:\n",
        "#     def __init__(self, val=0, next=None):\n",
        "#         self.val = val\n",
        "#         self.next = next\n",
        "class Solution:\n",
        "    def removeNthFromEnd(self, head: Optional[ListNode], n: int) -> Optional[ListNode]:\n",
        "        h1 = head\n",
        "        h2 = None\n",
        "        k = 1\n",
        "        while(h1):\n",
        "            if k == n+1:\n",
        "                h2 = head\n",
        "            elif k > n+1:\n",
        "                h2 = h2.next\n",
        "            h1 = h1.next\n",
        "            k += 1\n",
        "        if h2:\n",
        "            h2.next = h2.next.next\n",
        "        else:\n",
        "\t\t\t# Since h2 never started from head so nth node must be the first node\n",
        "            head = head.next\n",
        "        return head\n"
      ],
      "metadata": {
        "id": "cqcRBBiO-QDE"
      },
      "execution_count": null,
      "outputs": []
    },
    {
      "cell_type": "code",
      "source": [],
      "metadata": {
        "id": "isdHSCMG-QGS"
      },
      "execution_count": null,
      "outputs": []
    },
    {
      "cell_type": "markdown",
      "source": [
        "**30th-September-2022**\n",
        "\n",
        "\n",
        "**Leetcode 658**: **Find K Closest Elements**\n",
        "\n",
        "**Problem**:Given a sorted integer array arr, two integers k and x, return the k closest integers to x in the array. The result should also be sorted in ascending order.\n",
        "\n",
        "An integer a is closer to x than an integer b if:\n",
        "\n",
        "|a - x| < |b - x|, or\n",
        "\n",
        "|a - x| == |b - x| and a < b\n",
        "\n",
        "**URL**: **https://leetcode.com/problems/find-k-closest-elements/**"
      ],
      "metadata": {
        "id": "RxXTF3xJZouz"
      }
    },
    {
      "cell_type": "code",
      "source": [
        "class Solution:\n",
        "    def findClosestElements(self, arr: List[int], k: int, x: int) -> List[int]:\n",
        "        min = 0\n",
        "        max=len(arr) - 1\n",
        "        while max - min +1 > k:\n",
        "            if  abs(x-arr[min]) > abs(x-arr[max]):\n",
        "                min +=1\n",
        "            else:\n",
        "                max-=1\n",
        "        return arr[min :max+1]\n"
      ],
      "metadata": {
        "id": "kjApQjgO-QJR"
      },
      "execution_count": null,
      "outputs": []
    },
    {
      "cell_type": "code",
      "source": [],
      "metadata": {
        "id": "ezVE5Y03-QMQ"
      },
      "execution_count": null,
      "outputs": []
    },
    {
      "cell_type": "markdown",
      "source": [
        "**1st-October-2022**\n",
        "\n",
        "\n",
        "**Leetcode 218**: **The Skyline Problem**\n",
        "\n",
        "**Problem**:A city's skyline is the outer contour of the silhouette formed by all the buildings in that city when viewed from a distance. Given the locations and heights of all the buildings, return the skyline formed by these buildings collectively.\n",
        "\n",
        "The geometric information of each building is given in the array buildings where buildings[i] = [lefti, righti, heighti]:\n",
        "\n",
        "lefti is the x coordinate of the left edge of the ith building.\n",
        "righti is the x coordinate of the right edge of the ith building.\n",
        "heighti is the height of the ith building.\n",
        "You may assume all buildings are perfect rectangles grounded on an absolutely flat surface at height 0.\n",
        "\n",
        "The skyline should be represented as a list of \"key points\" sorted by their x-coordinate in the form [[x1,y1],[x2,y2],...]. Each key point is the left endpoint of some horizontal segment in the skyline except the last point in the list, which always has a y-coordinate 0 and is used to mark the skyline's termination where the rightmost building ends. Any ground between the leftmost and rightmost buildings should be part of the skyline's contour.\n",
        "\n",
        "Note: There must be no consecutive horizontal lines of equal height in the output skyline. For instance, [...,[2 3],[4 5],[7 5],[11 5],[12 7],...] is not acceptable; the three lines of height 5 should be merged into one in the final output as such: [...,[2 3],[4 5],[12 7],...]\n",
        "\n",
        "**URL**: **https://leetcode.com/problems/the-skyline-problem/**"
      ],
      "metadata": {
        "id": "3Av-UMgfY5Zg"
      }
    },
    {
      "cell_type": "code",
      "source": [
        "class Solution:\n",
        "    def getSkyline(self, buildings: List[List[int]]) -> List[List[int]]:\n",
        "        # for the same x, (x, -H) should be in front of (x, 0)\n",
        "        # For Example 2, we should process (2, -3) then (2, 0), as there's no height change\n",
        "        x_height_right_tuples = sorted([(L, -H, R) for L, R, H in buildings] + [(R, 0, \"doesn't matter\") for _, R, _ in buildings])\n",
        "        # (0, float('inf')) is always in max_heap, so max_heap[0] is always valid\n",
        "        result, max_heap = [[0, 0]], [(0, float('inf'))]\n",
        "        for x, negative_height, R in x_height_right_tuples:\n",
        "            while x >= max_heap[0][1]:\n",
        "                # reduce max height up to date, i.e. only consider max height in the right side of line x\n",
        "                heapq.heappop(max_heap)\n",
        "            if negative_height:\n",
        "                # Consider each height, as it may be the potential max height\n",
        "                heapq.heappush(max_heap, (negative_height, R))\n",
        "            curr_max_height = -max_heap[0][0]\n",
        "            if result[-1][1] != curr_max_height:\n",
        "                result.append([x, curr_max_height])\n",
        "        return result[1:]"
      ],
      "metadata": {
        "id": "lbYdrVx6-QPa"
      },
      "execution_count": null,
      "outputs": []
    },
    {
      "cell_type": "code",
      "source": [],
      "metadata": {
        "id": "6Q9iQZGq-QSw"
      },
      "execution_count": null,
      "outputs": []
    },
    {
      "cell_type": "markdown",
      "source": [
        "**2nd-October-2022**\n",
        "\n",
        "\n",
        "**Leetcode 91**: **Decode Ways**\n",
        "\n",
        "**Problem**:A message containing letters from A-Z can be encoded into numbers using the following mapping:\n",
        "\n",
        "'A' -> \"1\"\n",
        "'B' -> \"2\"\n",
        "...\n",
        "'Z' -> \"26\"\n",
        "To decode an encoded message, all the digits must be grouped then mapped back into letters using the reverse of the mapping above (there may be multiple ways). For example, \"11106\" can be mapped into:\n",
        "\n",
        "\"AAJF\" with the grouping (1 1 10 6)\n",
        "\"KJF\" with the grouping (11 10 6)\n",
        "Note that the grouping (1 11 06) is invalid because \"06\" cannot be mapped into 'F' since \"6\" is different from \"06\".\n",
        "\n",
        "Given a string s containing only digits, return the number of ways to decode it.\n",
        "\n",
        "The test cases are generated so that the answer fits in a 32-bit integer.\n",
        "\n",
        "\n",
        "**URL**: **https://leetcode.com/problems/decode-ways/**"
      ],
      "metadata": {
        "id": "9_cxRK4U7bFZ"
      }
    },
    {
      "cell_type": "code",
      "source": [
        "class Solution:\n",
        "    def numDecodings(self, s: str) -> int:\n",
        "        @cache\n",
        "        def depth_first_search(k):\n",
        "            if k == len(s):\n",
        "                return 1\n",
        "            if s[k] == '0':\n",
        "                return 0\n",
        "            results = depth_first_search(k+1)\n",
        "            if 10 <= int(s[k:k+2]) <= 26:\n",
        "                results += depth_first_search(k+2)\n",
        "            return results\n",
        "        return depth_first_search(0)\n"
      ],
      "metadata": {
        "id": "dgYWdR5F-QV5"
      },
      "execution_count": null,
      "outputs": []
    },
    {
      "cell_type": "code",
      "source": [],
      "metadata": {
        "id": "cdL3z8K3-QZA"
      },
      "execution_count": null,
      "outputs": []
    },
    {
      "cell_type": "markdown",
      "source": [
        "**3rd-October-2022**\n",
        "\n",
        "\n",
        "**Leetcode 1155**: **Number of Dice Rolls With Target Sum**\n",
        "\n",
        "**Problem**:You have n dice and each die has k faces numbered from 1 to k.\n",
        "\n",
        "Given three integers n, k, and target, return the number of possible ways (out of the kn total ways) to roll the dice so the sum of the face-up numbers equals target. Since the answer may be too large, return it modulo 109 + 7.\n",
        "\n",
        "\n",
        "\n",
        "**URL**: **https://leetcode.com/problems/number-of-dice-rolls-with-target-sum/**"
      ],
      "metadata": {
        "id": "VQnmBV6__xOD"
      }
    },
    {
      "cell_type": "code",
      "source": [
        "class Solution:\n",
        "    def numRollsToTarget(self, n: int, k: int, target: int) -> int:\n",
        "        dp = [[0 for j in range(target+2)] for i in range(n+1)]\n",
        "\n",
        "        dp[0][0] = 1\n",
        "\n",
        "        for rem_d in range(1, n+1):\n",
        "                for tot_S in range(0, target + 2):\n",
        "                    for a in range(1,min(k+1,tot_S + 1)):\n",
        "                        dp[rem_d][tot_S] += dp[rem_d-1][tot_S - a]\n",
        "        return dp[n][target]%(10**9+7)\n"
      ],
      "metadata": {
        "id": "kioIZeU5-QcH"
      },
      "execution_count": null,
      "outputs": []
    },
    {
      "cell_type": "code",
      "source": [],
      "metadata": {
        "id": "DBloOeSD-QfQ"
      },
      "execution_count": null,
      "outputs": []
    },
    {
      "cell_type": "markdown",
      "source": [
        "**4th-October-2022**\n",
        "\n",
        "\n",
        "**Leetcode 1578**: **Minimum Time to Make Rope Colorful**\n",
        "\n",
        "**Problem**:Alice has n balloons arranged on a rope. You are given a 0-indexed string colors where colors[i] is the color of the ith balloon.\n",
        "\n",
        "Alice wants the rope to be colorful. She does not want two consecutive balloons to be of the same color, so she asks Bob for help. Bob can remove some balloons from the rope to make it colorful. You are given a 0-indexed integer array neededTime where neededTime[i] is the time (in seconds) that Bob needs to remove the ith balloon from the rope.\n",
        "\n",
        "Return the minimum time Bob needs to make the rope colorful.\n",
        "\n",
        "\n",
        "**URL**: **https://leetcode.com/problems/minimum-time-to-make-rope-colorful/**"
      ],
      "metadata": {
        "id": "KoJGrkdpFgGw"
      }
    },
    {
      "cell_type": "code",
      "source": [
        "class Solution:\n",
        "    def minCost(self, colors: str, neededTime: List[int]) -> int:\n",
        "        res = 0\n",
        "        temp_max = 0\n",
        "        for i in range(len(colors)):\n",
        "            if i>0 and colors[i] == colors[i-1]:\n",
        "                res += min(neededTime[i],temp_max)\n",
        "                temp_max = max(temp_max,neededTime[i])\n",
        "            else:\n",
        "                temp_max = neededTime[i]\n",
        "        return res\n"
      ],
      "metadata": {
        "id": "8XkMx6BO-Qiq"
      },
      "execution_count": null,
      "outputs": []
    },
    {
      "cell_type": "code",
      "source": [],
      "metadata": {
        "id": "uTLYfiiCGIgo"
      },
      "execution_count": null,
      "outputs": []
    },
    {
      "cell_type": "markdown",
      "source": [
        "**5th-October-2022**\n",
        "\n",
        "\n",
        "**Leetcode 112**: **Path Sum**\n",
        "\n",
        "**Problem**:Given the root of a binary tree and an integer targetSum, return true if the tree has a root-to-leaf path such that adding up all the values along the path equals targetSum.\n",
        "\n",
        "A leaf is a node with no children.\n",
        "\n",
        "\n",
        "**URL**: **https://leetcode.com/problems/path-sum/**"
      ],
      "metadata": {
        "id": "wCM1YmxQGrgs"
      }
    },
    {
      "cell_type": "code",
      "source": [
        "# Definition for a binary tree node.\n",
        "# class TreeNode:\n",
        "#     def __init__(self, val=0, left=None, right=None):\n",
        "#         self.val = val\n",
        "#         self.left = left\n",
        "#         self.right = right\n",
        "class Solution:\n",
        "    def hasPathSum(self, root: TreeNode, sum: int) -> bool:\n",
        "        if not root:\n",
        "            return False\n",
        "        if root.val == sum and not root.left and not root.right:\n",
        "            return True\n",
        "        return self.hasPathSum(root.left, sum - root.val) or \\\n",
        "    self.hasPathSum(root.right, sum - root.val)\n"
      ],
      "metadata": {
        "id": "YO6VWhOPGuG2"
      },
      "execution_count": null,
      "outputs": []
    },
    {
      "cell_type": "code",
      "source": [],
      "metadata": {
        "id": "Y_yjyVPOG7Kp"
      },
      "execution_count": null,
      "outputs": []
    },
    {
      "cell_type": "markdown",
      "source": [
        "**6th-October-2022**\n",
        "\n",
        "\n",
        "**Leetcode 623**: **Add One Row to Tree**\n",
        "\n",
        "**Problem**:Given the root of a binary tree and two integers val and depth, add a row of nodes with value val at the given depth depth.\n",
        "\n",
        "Note that the root node is at depth 1.\n",
        "\n",
        "The adding rule is:\n",
        "\n",
        "Given the integer depth, for each not null tree node cur at the depth depth - 1, create two tree nodes with value val as cur's left subtree root and right subtree root.\n",
        "cur's original left subtree should be the left subtree of the new left subtree root.\n",
        "cur's original right subtree should be the right subtree of the new right subtree root.\n",
        "If depth == 1 that means there is no depth depth - 1 at all, then create a tree node with value val as the new root of the whole original tree, and the original tree is the new root's left subtree.\n",
        "\n",
        "**URL**: **https://leetcode.com/problems/add-one-row-to-tree/**"
      ],
      "metadata": {
        "id": "CTACHGMFZvuT"
      }
    },
    {
      "cell_type": "code",
      "source": [
        "# Definition for a binary tree node.\n",
        "# class TreeNode:\n",
        "#     def __init__(self, val=0, left=None, right=None):\n",
        "#         self.val = val\n",
        "#         self.left = left\n",
        "#         self.right = right\n",
        "class Solution:\n",
        "    def addOneRow(self, root: Optional[TreeNode], val: int, depth: int) -> Optional[TreeNode]:\n",
        "        if depth == 1:\n",
        "            return TreeNode(val, left=root)\n",
        "\n",
        "        def dfs(node, level):\n",
        "            if node is None:\n",
        "                return\n",
        "\n",
        "            if level == depth - 1:\n",
        "                node.left = TreeNode(val, left=node.left)\n",
        "                node.right = TreeNode(val, right = node.right)\n",
        "                return\n",
        "\n",
        "            dfs(node.left, level + 1)\n",
        "            dfs(node.right, level + 1)\n",
        "\n",
        "\n",
        "        dfs(root, 1)\n",
        "\n",
        "        return root\n"
      ],
      "metadata": {
        "id": "wwsdogTvG5j5"
      },
      "execution_count": null,
      "outputs": []
    },
    {
      "cell_type": "code",
      "source": [],
      "metadata": {
        "id": "QM7MXTFVawdU"
      },
      "execution_count": null,
      "outputs": []
    },
    {
      "cell_type": "markdown",
      "source": [
        "**7th-October-2022**\n",
        "\n",
        "\n",
        "**Leetcode 981**: **Time Based Key Value Store**\n",
        "\n",
        "**Problem**:Design a time-based key-value data structure that can store multiple values for the same key at different time stamps and retrieve the key's value at a certain timestamp.\n",
        "\n",
        "Implement the TimeMap class:\n",
        "\n",
        "TimeMap() Initializes the object of the data structure.\n",
        "void set(String key, String value, int timestamp) Stores the key key with the value value at the given time timestamp.\n",
        "String get(String key, int timestamp) Returns a value such that set was called previously, with timestamp_prev <= timestamp. If there are multiple such values, it returns the value associated with the largest timestamp_prev. If there are no values, it returns \"\".\n",
        "\n",
        "\n",
        "**URL**: **https://leetcode.com/problems/time-based-key-value-store/**"
      ],
      "metadata": {
        "id": "IMX9KasvGroX"
      }
    },
    {
      "cell_type": "code",
      "source": [
        "class TimeMap:\n",
        "    def __init__(self):\n",
        "        self.d={}\n",
        "\n",
        "    def set(self, key: str, value: str, timestamp: int) -> None:\n",
        "        self.d[(key,timestamp)]=value\n",
        "\n",
        "    def get(self, key: str, timestamp: int) -> str:\n",
        "        for i in range(timestamp,0,-1):\n",
        "            if (key,i) in self.d:\n",
        "                return self.d[(key,i)]\n",
        "        return \"\"\n",
        "\n",
        "\n",
        "# Your TimeMap object will be instantiated and called as such:\n",
        "# obj = TimeMap()\n",
        "# obj.set(key,value,timestamp)\n",
        "# param_2 = obj.get(key,timestamp)"
      ],
      "metadata": {
        "id": "-rIR_4eMGwM9"
      },
      "execution_count": null,
      "outputs": []
    },
    {
      "cell_type": "code",
      "source": [],
      "metadata": {
        "id": "TIh_rZYAG47d"
      },
      "execution_count": null,
      "outputs": []
    },
    {
      "cell_type": "markdown",
      "source": [
        "**8th-October-2022**\n",
        "\n",
        "\n",
        "**Leetcode 732**: **My Calendar III**\n",
        "\n",
        "**Problem**: A k-booking happens when k events have some non-empty intersection (i.e., there is some time that is common to all k events.)\n",
        "\n",
        "You are given some events [start, end), after each given event, return an integer k representing the maximum k-booking between all the previous events.\n",
        "\n",
        "Implement the MyCalendarThree class:\n",
        "\n",
        "MyCalendarThree() Initializes the object.\n",
        "int book(int start, int end) Returns an integer k representing the largest integer such that there exists a k-booking in the calendar.\n",
        "\n",
        "**URL**: **https://leetcode.com/problems/my-calendar-iii/**"
      ],
      "metadata": {
        "id": "_kIN84odGrrt"
      }
    },
    {
      "cell_type": "code",
      "source": [
        "# Your MyCalendarThree object will be instantiated and called as such:\n",
        "# obj = MyCalendarThree()\n",
        "# param_1 = obj.book(start,end)\n",
        "from sortedcontainers import SortedDict\n",
        "\n",
        "class MyCalendarThree:\n",
        "\n",
        "    def __init__(self):\n",
        "        self.__events_count = SortedDict()\n",
        "\n",
        "    def book(self, start: int, end: int) -> int:\n",
        "\t\t# Insert current event into the SortedDict\n",
        "        self.__events_count[start] = self.__events_count.get(start, 0) + 1\n",
        "        self.__events_count[end] = self.__events_count.get(end, 0) - 1\n",
        "\n",
        "\t\t# Return maximum overlap count\n",
        "        return max(accumulate(self.__events_count.values()))\n",
        "\n"
      ],
      "metadata": {
        "id": "PhM0vXmmGxF0"
      },
      "execution_count": null,
      "outputs": []
    },
    {
      "cell_type": "code",
      "source": [],
      "metadata": {
        "id": "Dl-BvhEDG36m"
      },
      "execution_count": null,
      "outputs": []
    },
    {
      "cell_type": "markdown",
      "source": [
        "**9th-October-2022**\n",
        "\n",
        "\n",
        "**Leetcode 16**: **3 Sum Closest**\n",
        "\n",
        "**Problem**: Given an integer array nums of length n and an integer target, find three integers in nums such that the sum is closest to target.\n",
        "\n",
        "Return the sum of the three integers.\n",
        "\n",
        "You may assume that each input would have exactly one solution.\n",
        "\n",
        "**URL**: **https://leetcode.com/problems/3sum-closest/**"
      ],
      "metadata": {
        "id": "n1CbDvVBGrvI"
      }
    },
    {
      "cell_type": "code",
      "source": [
        "class Solution:\n",
        "    def threeSumClosest(self, nums: List[int], target: int) -> int:\n",
        "        nums.sort()\n",
        "        d, ans = float(\"inf\"), 0\n",
        "        for i in range(len(nums) - 2):\n",
        "            s, e = i + 1, len(nums) - 1\n",
        "            while(s < e):\n",
        "                sum = nums[i] + nums[s] + nums[e]\n",
        "                if sum == target: return sum\n",
        "                if abs(sum - target) < d:\n",
        "                    d = abs(sum - target)\n",
        "                    ans = sum\n",
        "                if sum < target: s += 1\n",
        "                else: e -= 1\n",
        "\n",
        "        return ans"
      ],
      "metadata": {
        "id": "F-7pE_MgGyCq"
      },
      "execution_count": null,
      "outputs": []
    },
    {
      "cell_type": "code",
      "source": [],
      "metadata": {
        "id": "WN9q4MfCG3I6"
      },
      "execution_count": null,
      "outputs": []
    },
    {
      "cell_type": "markdown",
      "source": [
        "**10th-October-2022**\n",
        "\n",
        "\n",
        "**Leetcode 16**: **Two Sum IV-Input is a BST**\n",
        "\n",
        "**Problem**: Given the root of a Binary Search Tree and a target number k, return true if there exist two elements in the BST such that their sum is equal to the given target.\n",
        "\n",
        "\n",
        "\n",
        "**URL**: **https://leetcode.com/problems/two-sum-iv-input-is-a-bst/**"
      ],
      "metadata": {
        "id": "9Hq8OsYpGrye"
      }
    },
    {
      "cell_type": "code",
      "source": [
        "# Definition for a binary tree node.\n",
        "# class TreeNode:\n",
        "#     def __init__(self, val=0, left=None, right=None):\n",
        "#         self.val = val\n",
        "#         self.left = left\n",
        "#         self.right = right\n",
        "class BSTIterator:\n",
        "    def __init__(self, root: Optional[TreeNode], leftToRight: bool):\n",
        "        self.stack = []\n",
        "        self.leftToRight = leftToRight\n",
        "        self.pushUntilNone(root)\n",
        "\n",
        "    def next(self) -> int:\n",
        "        node = self.stack.pop()\n",
        "        if self.leftToRight:\n",
        "            self.pushUntilNone(node.right)\n",
        "        else:\n",
        "            self.pushUntilNone(node.left)\n",
        "        return node.val\n",
        "\n",
        "    def pushUntilNone(self, root: Optional[TreeNode]):\n",
        "        while root:\n",
        "            self.stack.append(root)\n",
        "            root = root.left if self.leftToRight else root.right\n",
        "\n",
        "\n",
        "class Solution:\n",
        "    def findTarget(self, root: Optional[TreeNode], k: int) -> bool:\n",
        "        if not root:\n",
        "            return False\n",
        "\n",
        "        left = BSTIterator(root, True)\n",
        "        right = BSTIterator(root, False)\n",
        "\n",
        "        l = left.next()\n",
        "        r = right.next()\n",
        "\n",
        "        while l < r:\n",
        "            summ = l + r\n",
        "            if summ == k:\n",
        "                return True\n",
        "            if summ < k:\n",
        "                l = left.next()\n",
        "            else:\n",
        "                 r = right.next()\n",
        "\n",
        "        return False\n"
      ],
      "metadata": {
        "id": "WXQQURahG2Om"
      },
      "execution_count": null,
      "outputs": []
    },
    {
      "cell_type": "code",
      "source": [],
      "metadata": {
        "id": "I_G-rwm2GyuP"
      },
      "execution_count": null,
      "outputs": []
    },
    {
      "cell_type": "markdown",
      "source": [
        "**11th-October-2022**\n",
        "\n",
        "\n",
        "**Leetcode 1328**: **Break a Palindrome**\n",
        "\n",
        "**Problem**: Given a palindromic string of lowercase English letters palindrome, replace exactly one character with any lowercase English letter so that the resulting string is not a palindrome and that it is the lexicographically smallest one possible.\n",
        "\n",
        "Return the resulting string. If there is no way to replace a character to make it not a palindrome, return an empty string.\n",
        "\n",
        "A string a is lexicographically smaller than a string b (of the same length) if in the first position where a and b differ, a has a character strictly smaller than the corresponding character in b. For example, \"abcc\" is lexicographically smaller than \"abcd\" because the first position they differ is at the fourth character, and 'c' is smaller than 'd'.\n",
        "\n",
        "\n",
        "**URL**: **https://leetcode.com/problems/break-a-palindrome/**"
      ],
      "metadata": {
        "id": "LBlGmnpSGr33"
      }
    },
    {
      "cell_type": "code",
      "source": [
        "class Solution:\n",
        "    def breakPalindrome(self, palindrome: str) -> str:\n",
        "        if len(palindrome) == 1:\n",
        "            return \"\"\n",
        "        n = len(palindrome) // 2\n",
        "        for i in range(n):\n",
        "            if palindrome[i] != \"a\":\n",
        "                return palindrome[:i] + \"a\" + palindrome[i+1:]\n",
        "        return palindrome[:-1] + \"b\"\n"
      ],
      "metadata": {
        "id": "9KcZRVkWGzkd"
      },
      "execution_count": null,
      "outputs": []
    },
    {
      "cell_type": "code",
      "source": [],
      "metadata": {
        "id": "ZCEU4rLRG1f1"
      },
      "execution_count": null,
      "outputs": []
    },
    {
      "cell_type": "markdown",
      "source": [
        "**12th-October-2022**\n",
        "\n",
        "\n",
        "**Leetcode 334**: **Increasing Triplet Sequence**\n",
        "\n",
        "**Problem**: Given an integer array nums, return true if there exists a triple of indices (i, j, k) such that i < j < k and nums[i] < nums[j] < nums[k]. If no such indices exists, return false.\n",
        "\n",
        "**URL**: **https://leetcode.com/problems/increasing-triplet-subsequence/**"
      ],
      "metadata": {
        "id": "wXvpPGBWGsBt"
      }
    },
    {
      "cell_type": "code",
      "source": [
        "class Solution:\n",
        "    def increasingTriplet(self, nums: List[int]) -> bool:\n",
        "        first,second=float(\"inf\"),float(\"inf\")\n",
        "        if len(nums)<3:\n",
        "            return False\n",
        "        for num in nums:\n",
        "            if num <= first:\n",
        "                first = num\n",
        "            elif num <= second:\n",
        "                second = num\n",
        "            else:\n",
        "                return True\n",
        "        return False\n"
      ],
      "metadata": {
        "id": "vmk1ooin-Ql6"
      },
      "execution_count": null,
      "outputs": []
    },
    {
      "cell_type": "code",
      "source": [],
      "metadata": {
        "id": "cKrJ3VctQxk2"
      },
      "execution_count": null,
      "outputs": []
    },
    {
      "cell_type": "markdown",
      "source": [
        "**13th-October-2022**\n",
        "\n",
        "\n",
        "**Leetcode 976**: **Largest Perimeter Triangle**\n",
        "\n",
        "**Problem**: Given an integer array nums, return the largest perimeter of a triangle with a non-zero area, formed from three of these lengths. If it is impossible to form any triangle of a non-zero area, return 0.\n",
        "\n",
        "\n",
        "**URL**: **https://leetcode.com/problems/largest-perimeter-triangle/**"
      ],
      "metadata": {
        "id": "Rcr0_ekIQ0rD"
      }
    },
    {
      "cell_type": "code",
      "source": [
        "class Solution:\n",
        "    def largestPerimeter(self, nums: List[int]) -> int:\n",
        "        nums.sort()\n",
        "        for i in reversed(range(len(nums) - 2)):\n",
        "            if nums[i] + nums[i+1] > nums[i+2]:\n",
        "                return nums[i] + nums[i+1] + nums[i+2]\n",
        "        return 0"
      ],
      "metadata": {
        "id": "ZtORoTPkQxnv"
      },
      "execution_count": null,
      "outputs": []
    },
    {
      "cell_type": "code",
      "source": [],
      "metadata": {
        "id": "A04pwejZQxrY"
      },
      "execution_count": null,
      "outputs": []
    },
    {
      "cell_type": "markdown",
      "source": [
        "**14th-October-2022**\n",
        "\n",
        "\n",
        "**Leetcode 237**: **Delete Node In a Linked List**\n",
        "\n",
        "**Problem**:There is a singly-linked list head and we want to delete a node node in it.\n",
        "\n",
        "You are given the node to be deleted node. You will not be given access to the first node of head.\n",
        "\n",
        "All the values of the linked list are unique, and it is guaranteed that the given node node is not the last node in the linked list.\n",
        "\n",
        "Delete the given node. Note that by deleting the node, we do not mean removing it from memory. We mean:\n",
        "\n",
        "The value of the given node should not exist in the linked list.\n",
        "The number of nodes in the linked list should decrease by one.\n",
        "All the values before node should be in the same order.\n",
        "All the values after node should be in the same order.\n",
        "Custom testing:\n",
        "\n",
        "For the input, you should provide the entire linked list head and the node to be given node. node should not be the last node of the list and should be an actual node in the list.\n",
        "We will build the linked list and pass the node to your function.\n",
        "The output will be the entire list after calling your function.\n",
        "\n",
        "**URL**: **https://leetcode.com/problems/delete-node-in-a-linked-list/**"
      ],
      "metadata": {
        "id": "Zl2Zsbap-g9F"
      }
    },
    {
      "cell_type": "code",
      "source": [
        "# Definition for singly-linked list.\n",
        "# class ListNode:\n",
        "#     def __init__(self, x):\n",
        "#         self.val = x\n",
        "#         self.next = None\n",
        "\n",
        "class Solution:\n",
        "    def deleteNode(self, node):\n",
        "        \"\"\"\n",
        "        :type node: ListNode\n",
        "        :rtype: void Do not return anything, modify node in-place instead.\n",
        "        \"\"\"\n",
        "        nextNode = node.next\n",
        "        # Step 2\n",
        "        node.val = nextNode.val\n",
        "        # Step 3\n",
        "        node.next = nextNode.next\n",
        "        nextNode.next = None\n",
        "        del(nextNode)"
      ],
      "metadata": {
        "id": "F5ksuNBzQxui"
      },
      "execution_count": null,
      "outputs": []
    },
    {
      "cell_type": "code",
      "source": [],
      "metadata": {
        "id": "ZYCVZ0USQxxw"
      },
      "execution_count": null,
      "outputs": []
    },
    {
      "cell_type": "markdown",
      "source": [
        "**15th-October-2022**\n",
        "\n",
        "\n",
        "**Leetcode 237**: **Delete the Middle Node of a Linked List**\n",
        "\n",
        "**Problem**:You are given the head of a linked list. Delete the middle node, and return the head of the modified linked list.\n",
        "\n",
        "The middle node of a linked list of size n is the ⌊n / 2⌋th node from the start using 0-based indexing, where ⌊x⌋ denotes the largest integer less than or equal to x.\n",
        "\n",
        "For n = 1, 2, 3, 4, and 5, the middle nodes are 0, 1, 1, 2, and 2, respectively.\n",
        "\n",
        "\n",
        "**URL**: **https://leetcode.com/problems/delete-the-middle-node-of-a-linked-list/solution/**"
      ],
      "metadata": {
        "id": "g13FqnNb81pL"
      }
    },
    {
      "cell_type": "code",
      "source": [
        "# Definition for singly-linked list.\n",
        "# class ListNode:\n",
        "#     def __init__(self, val=0, next=None):\n",
        "#         self.val = val\n",
        "#         self.next = next\n",
        "class Solution:\n",
        "    def deleteMiddle(self, head: Optional[ListNode]) -> Optional[ListNode]:\n",
        "        if not head.next:\n",
        "            return None                   # If only head, then it's the middle node\n",
        "\n",
        "        l1 = head.next\n",
        "        l2 = head\n",
        "\n",
        "        while l1.next and l1.next.next:             # On each iteration, l1 jumps two nodes and l2\n",
        "            l1 = l1.next.next                       # jumps one node, so when ptr1 hits the end of the\n",
        "            l2 = l2.next                            # list, l1 will be at the middle node.\n",
        "\n",
        "        l2.next = l2.next.next                      # middle node is removed.\n",
        "\n",
        "        return head\n",
        "\n"
      ],
      "metadata": {
        "id": "JVTf80yQQx05"
      },
      "execution_count": null,
      "outputs": []
    },
    {
      "cell_type": "code",
      "source": [],
      "metadata": {
        "id": "lCDo_As7Qx4B"
      },
      "execution_count": null,
      "outputs": []
    },
    {
      "cell_type": "markdown",
      "source": [
        "**16th-October-2022**\n",
        "\n",
        "\n",
        "**Leetcode 1531**: **String Compression II**\n",
        "\n",
        "**Problem**:Run-length encoding is a string compression method that works by replacing consecutive identical characters (repeated 2 or more times) with the concatenation of the character and the number marking the count of the characters (length of the run). For example, to compress the string \"aabccc\" we replace \"aa\" by \"a2\" and replace \"ccc\" by \"c3\". Thus the compressed string becomes \"a2bc3\".\n",
        "\n",
        "Notice that in this problem, we are not adding '1' after single characters.\n",
        "\n",
        "Given a string s and an integer k. You need to delete at most k characters from s such that the run-length encoded version of s has minimum length.\n",
        "\n",
        "Find the minimum length of the run-length encoded version of s after deleting at most k characters.\n",
        "\n",
        "\n",
        "\n",
        "**URL**: **https://leetcode.com/problems/string-compression-ii/**"
      ],
      "metadata": {
        "id": "6lpC1HNBHwrh"
      }
    },
    {
      "cell_type": "code",
      "source": [
        "class Solution:\n",
        "    def getLengthOfOptimalCompression(self, s: str, k: int) -> int:\n",
        "        @cache\n",
        "        def counter(start, last, last_count, k):\n",
        "            if k < 0: return float('inf')\n",
        "            if start == len(s): return 0\n",
        "            if s[start] == last:\n",
        "                delta = 1 if last_count == 1 or last_count == 9 or last_count == 99                 else 0\n",
        "                return delta + counter(start+1, last, last_count+1, k)\n",
        "            else:\n",
        "                keep_cnt = 1 + counter(start+1, s[start], 1, k)\n",
        "                delete_cnt = counter(start+1, last, last_count, k - 1)\n",
        "                return min(keep_cnt, delete_cnt)\n",
        "        return counter(0,\"\",0,k)\n"
      ],
      "metadata": {
        "id": "jZUX7FAuQx7K"
      },
      "execution_count": null,
      "outputs": []
    },
    {
      "cell_type": "code",
      "source": [],
      "metadata": {
        "id": "YpJDJAfcQx-I"
      },
      "execution_count": null,
      "outputs": []
    },
    {
      "cell_type": "markdown",
      "source": [
        "**17th-October-2022**\n",
        "\n",
        "\n",
        "**Leetcode 1335**: **Minimum Difficulty of a Job Schedule**\n",
        "\n",
        "**Problem**:You want to schedule a list of jobs in d days. Jobs are dependent (i.e To work on the ith job, you have to finish all the jobs j where 0 <= j < i).\n",
        "\n",
        "You have to finish at least one task every day. The difficulty of a job schedule is the sum of difficulties of each day of the d days. The difficulty of a day is the maximum difficulty of a job done on that day.\n",
        "\n",
        "You are given an integer array jobDifficulty and an integer d. The difficulty of the ith job is jobDifficulty[i].\n",
        "\n",
        "Return the minimum difficulty of a job schedule. If you cannot find a schedule for the jobs return -1.\n",
        "\n",
        "\n",
        "\n",
        "**URL**: **https://leetcode.com/problems/minimum-difficulty-of-a-job-schedule/**"
      ],
      "metadata": {
        "id": "Nj_j0ttJC2bX"
      }
    },
    {
      "cell_type": "code",
      "source": [
        "class Solution:\n",
        "    def minDifficulty(self, jobDifficulty: List[int], d: int) -> int:\n",
        "        n = len(jobDifficulty)\n",
        "\n",
        "        @cache\n",
        "        def dp(i, k):\n",
        "            if k == d: return max(jobDifficulty[i:])\n",
        "            res = float('inf')\n",
        "            curr = 0\n",
        "            for j in range(i, n - d + k):\n",
        "                curr = max(curr, jobDifficulty[j])\n",
        "                res = min(res, curr + dp(j + 1, k + 1))\n",
        "            return res\n",
        "        return -1 if n < d else dp(0, 1)"
      ],
      "metadata": {
        "id": "eCXRQlG6QyBJ"
      },
      "execution_count": null,
      "outputs": []
    },
    {
      "cell_type": "code",
      "source": [],
      "metadata": {
        "id": "Qy7dP5a0QyEh"
      },
      "execution_count": null,
      "outputs": []
    },
    {
      "cell_type": "markdown",
      "source": [
        "**18th-October-2022**\n",
        "\n",
        "\n",
        "**Leetcode 1832**: **Check if the Sentence is a Pangram**\n",
        "\n",
        "**Problem**:A pangram is a sentence where every letter of the English alphabet appears at least once.\n",
        "\n",
        "Given a string sentence containing only lowercase English letters, return true if sentence is a pangram, or false otherwise.\n",
        "\n",
        "\n",
        "\n",
        "\n",
        "**URL**: **https://leetcode.com/problems/check-if-the-sentence-is-pangram/**"
      ],
      "metadata": {
        "id": "k1mdmMbFD8K6"
      }
    },
    {
      "cell_type": "code",
      "source": [
        "class Solution:\n",
        "    def checkIfPangram(self, sentence: str) -> bool:\n",
        "        seen_letter = set(sentence)\n",
        "        if len(seen_letter) == 26:\n",
        "            return True\n",
        "        else:\n",
        "            return False\n",
        "\n",
        "# class Solution:\n",
        "#     def checkIfPangram(self, sentence: str) -> bool:\n",
        "#         seen_letter = set(sentence)\n",
        "#         return len(seen_letter) == 26\n"
      ],
      "metadata": {
        "id": "xoHnG-zGQyHy"
      },
      "execution_count": null,
      "outputs": []
    },
    {
      "cell_type": "code",
      "source": [],
      "metadata": {
        "id": "w-SL9PktQyLT"
      },
      "execution_count": null,
      "outputs": []
    },
    {
      "cell_type": "markdown",
      "source": [
        "**19th-October-2022**\n",
        "\n",
        "\n",
        "**Leetcode 38**: **Count and Say**\n",
        "\n",
        "**Problem**:The count-and-say sequence is a sequence of digit strings defined by the recursive formula:\n",
        "\n",
        "countAndSay(1) = \"1\"\n",
        "countAndSay(n) is the way you would \"say\" the digit string from countAndSay(n-1), which is then converted into a different digit string.\n",
        "To determine how you \"say\" a digit string, split it into the minimal number of substrings such that each substring contains exactly one unique digit. Then for each substring, say the number of digits, then say the digit. Finally, concatenate every said digit.\n",
        "\n",
        "For example, the saying and conversion for digit string \"3322251\":\n",
        "\n",
        "\n",
        "Given a positive integer n, return the nth term of the count-and-say sequence.\n",
        "\n",
        "\n",
        "**URL**: **https://leetcode.com/problems/count-and-say/**"
      ],
      "metadata": {
        "id": "Fxh-qGNcS2-Q"
      }
    },
    {
      "cell_type": "code",
      "source": [
        "class Solution:\n",
        "    def countAndSay(self, n: int) -> str:\n",
        "        s = '1'\n",
        "        for _ in range(n-1):\n",
        "            let, temp, count = s[0], '', 0\n",
        "            for l in s:\n",
        "                if let == l:\n",
        "                    count += 1\n",
        "                else:\n",
        "                    temp += str(count)+let\n",
        "                    let = l\n",
        "                    count = 1\n",
        "            temp += str(count)+let\n",
        "            s = temp\n",
        "        return s\n"
      ],
      "metadata": {
        "id": "2mZlwj2tQysI"
      },
      "execution_count": null,
      "outputs": []
    },
    {
      "cell_type": "code",
      "source": [],
      "metadata": {
        "id": "IIhPQWU4QyvF"
      },
      "execution_count": null,
      "outputs": []
    },
    {
      "cell_type": "markdown",
      "source": [
        "**20th-October-2022**\n",
        "\n",
        "\n",
        "**Leetcode 38**: **Top K Frequent Words**\n",
        "\n",
        "**Problem**:Given an array of strings words and an integer k, return the k most frequent strings.\n",
        "\n",
        "Return the answer sorted by the frequency from highest to lowest. Sort the words with the same frequency by their lexicographical order.\n",
        "\n",
        "\n",
        "**URL**: **https://leetcode.com/problems/top-k-frequent-words/**"
      ],
      "metadata": {
        "id": "QNJ6oQLJE65B"
      }
    },
    {
      "cell_type": "code",
      "source": [
        "class Solution:\n",
        "    def topKFrequent(self, words: List[str], k: int) -> List[str]:\n",
        "\n",
        "        # Create a dict with this structure\n",
        "        #   {'word': # of occurances, ...}\n",
        "        seen = {}\n",
        "        for word in words: seen[word] = seen.get(word, 0) + 1\n",
        "\n",
        "        # Sort that dict's items by two different keys (used in the lambda function)\n",
        "        #   1st key: -x[1]\n",
        "        #          : reverse order (descending) of the values (# of occurances)\n",
        "        #   2nd key: x[0]\n",
        "        #          : alphabetical order (secondary)\n",
        "        seen = sorted(seen.items(), key=lambda x:[-x[1], x[0]])\n",
        "\n",
        "        # Return the first k elements\n",
        "        return [seen[i][0] for i in range(k)]"
      ],
      "metadata": {
        "id": "39fcG5U3QyyN"
      },
      "execution_count": null,
      "outputs": []
    },
    {
      "cell_type": "code",
      "source": [],
      "metadata": {
        "id": "uvnS7uMWG976"
      },
      "execution_count": null,
      "outputs": []
    },
    {
      "cell_type": "markdown",
      "source": [
        "**21st-October-2022**\n",
        "\n",
        "\n",
        "**Leetcode 38**: **Integer to Roman**\n",
        "\n",
        "**Problem**:Given an array of strings words and an integer k, return the k most frequent strings.\n",
        "\n",
        "Return the answer sorted by the frequency from highest to lowest. Sort the words with the same frequency by their lexicographical order.\n",
        "\n",
        "\n",
        "**URL**: **https://leetcode.com/problems/integer-to-roman/**"
      ],
      "metadata": {
        "id": "rbFHI5BeQaTD"
      }
    },
    {
      "cell_type": "code",
      "source": [
        "class Solution:\n",
        "    def intToRoman(self, num: int) -> str:\n",
        "        roman_numerals = {1000: \"M\", 900: \"CM\", 500: \"D\", 400: \"CD\", 100: \"C\",\n",
        "                          90: \"XC\", 50: \"L\", 40: \"XL\", 10: \"X\", 9: \"IX\", 5: \"V\",\n",
        "                          4:\"IV\", 1:\"I\"}\n",
        "        results = \"\"\n",
        "\n",
        "        for key, value in roman_numerals.items():\n",
        "            while num>=key:\n",
        "                results += value\n",
        "                num -= key\n",
        "        return results"
      ],
      "metadata": {
        "id": "VJj-nqCzqpPK"
      },
      "execution_count": null,
      "outputs": []
    },
    {
      "cell_type": "code",
      "source": [],
      "metadata": {
        "id": "rrjTfc8hqpTP"
      },
      "execution_count": null,
      "outputs": []
    },
    {
      "cell_type": "markdown",
      "source": [
        "**22nd-October-2022**\n",
        "\n",
        "\n",
        "**Leetcode 219**: **Contains Duplicate II**\n",
        "\n",
        "**Problem**: Given an integer array nums and an integer k, return true if there are two distinct indices i and j in the array such that nums[i] == nums[j] and abs(i - j) <= k.\n",
        "\n",
        "**URL**: **https://leetcode.com/problems/contains-duplicate-ii/**"
      ],
      "metadata": {
        "id": "uxXSh0zHvxXf"
      }
    },
    {
      "cell_type": "code",
      "source": [
        "class Solution:\n",
        "    def containsNearbyDuplicate(self, nums: List[int], k: int) -> bool:\n",
        "        dictionary = {}\n",
        "        for i, n in enumerate(nums):\n",
        "            if n in dictionary and abs(i - dictionary[n]) <= k:\n",
        "                return True\n",
        "            dictionary[n] = i\n",
        "        return False\n"
      ],
      "metadata": {
        "id": "pwkxUeiPqpay"
      },
      "execution_count": null,
      "outputs": []
    },
    {
      "cell_type": "code",
      "source": [],
      "metadata": {
        "id": "IFdz1q65qpek"
      },
      "execution_count": null,
      "outputs": []
    },
    {
      "cell_type": "markdown",
      "source": [
        "**23rd-October-2022**\n",
        "\n",
        "\n",
        "**Leetcode 76**: **Minimum Window Substring**\n",
        "\n",
        "**Problem**: Given two strings s and t of lengths m and n respectively, return the minimum window substring of s such that every character in t (including duplicates) is included in the window. If there is no such substring, return the empty string \"\".\n",
        "\n",
        "The testcases will be generated such that the answer is unique.\n",
        "\n",
        "A substring is a contiguous sequence of characters within the string.\n",
        "\n",
        "\n",
        "**URL**: **https://leetcode.com/problems/minimum-window-substring/**"
      ],
      "metadata": {
        "id": "R_8MdtJo3vNz"
      }
    },
    {
      "cell_type": "code",
      "source": [
        "class Solution:\n",
        "    def minWindow(self, s: str, t: str) -> str:\n",
        "        need, missing = collections.Counter(t), len(t)\n",
        "        i = I = J = 0\n",
        "        for j, c in enumerate(s, 1):\n",
        "            missing -= need[c] > 0\n",
        "            need[c] -= 1\n",
        "            if not missing:\n",
        "                while i < j and need[s[i]] < 0:\n",
        "                    need[s[i]] += 1\n",
        "                    i += 1\n",
        "                if not J or j - i <= J - I:\n",
        "                    I, J = i, j\n",
        "        return s[I:J]"
      ],
      "metadata": {
        "id": "vTzfTe9BqpiW"
      },
      "execution_count": null,
      "outputs": []
    },
    {
      "cell_type": "code",
      "source": [],
      "metadata": {
        "id": "Q8i8v2cTqpmQ"
      },
      "execution_count": null,
      "outputs": []
    },
    {
      "cell_type": "markdown",
      "source": [
        "**24th-October-2022**\n",
        "\n",
        "\n",
        "**Leetcode 645**: **Set Mismatch**\n",
        "\n",
        "**Problem**: You have a set of integers s, which originally contains all the numbers from 1 to n. Unfortunately, due to some error, one of the numbers in s got duplicated to another number in the set, which results in repetition of one number and loss of another number.\n",
        "\n",
        "You are given an integer array nums representing the data status of this set after the error.\n",
        "\n",
        "Find the number that occurs twice and the number that is missing and return them in the form of an array.\n",
        "\n",
        "\n",
        "**URL**: **https://leetcode.com/problems/set-mismatch//**"
      ],
      "metadata": {
        "id": "UiDx51Y61mCW"
      }
    },
    {
      "cell_type": "code",
      "source": [
        "class Solution:\n",
        "    def findErrorNums(self, nums: List[int]) -> List[int]:\n",
        "        n = len(nums)\n",
        "        i = sum(nums)\n",
        "        k = sum(set(nums))\n",
        "        q = n*(n+1)//2\n",
        "\n",
        "        return [i-k, q-k]"
      ],
      "metadata": {
        "id": "lBcWyIDeqpqJ"
      },
      "execution_count": null,
      "outputs": []
    },
    {
      "cell_type": "code",
      "source": [],
      "metadata": {
        "id": "Dk3De3UWqpuD"
      },
      "execution_count": null,
      "outputs": []
    },
    {
      "cell_type": "markdown",
      "source": [
        "**25th-October-2022**\n",
        "\n",
        "\n",
        "**Leetcode 1239**: **Maximum Length Of a Concatenated String with Unique Characters**\n",
        "\n",
        "**Problem**: You are given an array of strings arr. A string s is formed by the concatenation of a subsequence of arr that has unique characters.\n",
        "\n",
        "Return the maximum possible length of s.\n",
        "\n",
        "A subsequence is an array that can be derived from another array by deleting some or no elements without changing the order of the remaining elements.\n",
        "\n",
        "\n",
        "**URL**: **https://leetcode.com/problems/maximum-length-of-a-concatenated-string-with-unique-characters/**"
      ],
      "metadata": {
        "id": "BepXNCITnpPy"
      }
    },
    {
      "cell_type": "code",
      "source": [
        "class Solution:\n",
        "    def maxLength(self, arr: List[str]) -> int:\n",
        "        self.maximum = 0\n",
        "        def backtrack(start,array,s):\n",
        "            if len(s)==len(set(s)):\n",
        "                self.maximum = max(self.maximum,len(s))\n",
        "            else:\n",
        "                return\n",
        "            for i in range(start,len(array)):\n",
        "                backtrack(i+1,array,s + array[i])\n",
        "        backtrack(0,arr,\"\")\n",
        "        return self.maximum\n"
      ],
      "metadata": {
        "id": "_rKl08Lpqpx1"
      },
      "execution_count": null,
      "outputs": []
    },
    {
      "cell_type": "code",
      "source": [],
      "metadata": {
        "id": "_pCcKxENqp1_"
      },
      "execution_count": null,
      "outputs": []
    },
    {
      "cell_type": "markdown",
      "source": [
        "**26th-October-2022**\n",
        "\n",
        "\n",
        "**Leetcode 1662**: **Check if Two Strings Are Equivalent**\n",
        "\n",
        "**Problem**:Given two string arrays word1 and word2, return true if the two arrays represent the same string, and false otherwise.\n",
        "\n",
        "A string is represented by an array if the array elements concatenated in order forms the string.\n",
        "\n",
        "\n",
        "\n",
        "**URL**: **https://leetcode.com/problems/check-if-two-string-arrays-are-equivalent/**"
      ],
      "metadata": {
        "id": "YmgAf4pKpBXh"
      }
    },
    {
      "cell_type": "code",
      "source": [
        "class Solution:\n",
        "    def arrayStringsAreEqual(self, word1: List[str], word2: List[str]) -> bool:\n",
        "        return \"\".join(word1) == \"\".join(word2)"
      ],
      "metadata": {
        "id": "C5B4Ohg2qp5x"
      },
      "execution_count": null,
      "outputs": []
    },
    {
      "cell_type": "code",
      "source": [],
      "metadata": {
        "id": "-qqQg9Glqp9n"
      },
      "execution_count": null,
      "outputs": []
    },
    {
      "cell_type": "markdown",
      "source": [
        "**27th-October-2022**\n",
        "\n",
        "\n",
        "**Leetcode 523**: **Continuous Subarray Sum**\n",
        "\n",
        "**Problem**:Given an integer array nums and an integer k, return true if nums has a continuous subarray of size at least two whose elements sum up to a multiple of k, or false otherwise.\n",
        "\n",
        "An integer x is a multiple of k if there exists an integer n such that x = n * k. 0 is always a multiple of k.\n",
        "\n",
        "**URL**: **https://leetcode.com/problems/continuous-subarray-sum/**"
      ],
      "metadata": {
        "id": "YgpQv2HP7_IH"
      }
    },
    {
      "cell_type": "code",
      "source": [
        "class Solution:\n",
        "    def checkSubarraySum(self, nums: List[int], k: int) -> bool:\n",
        "\n",
        "        # initialize the hash map with index 0 for sum 0\n",
        "        hash_map = {0: 0}\n",
        "        m = 0\n",
        "        for i in range(len(nums)):\n",
        "            m += nums[i]\n",
        "            # if the remainder m % k occurs for the first time\n",
        "            if m % k not in hash_map:\n",
        "                hash_map[m % k] = i + 1\n",
        "            # if the subarray size is at least two\n",
        "            elif hash_map[m % k] < i:\n",
        "                return True\n",
        "        return False\n"
      ],
      "metadata": {
        "id": "322FcXV_qqBd"
      },
      "execution_count": null,
      "outputs": []
    },
    {
      "cell_type": "markdown",
      "source": [
        "**28th-October-2022**\n",
        "\n",
        "\n",
        "**Leetcode 835**: **Image Overlap**\n",
        "\n",
        "**Problem**: You are given two images, img1 and img2, represented as binary, square matrices of size n x n. A binary matrix has only 0s and 1s as values.\n",
        "\n",
        "We translate one image however we choose by sliding all the 1 bits left, right, up, and/or down any number of units. We then place it on top of the other image. We can then calculate the overlap by counting the number of positions that have a 1 in both images.\n",
        "\n",
        "Note also that a translation does not include any kind of rotation. Any 1 bits that are translated outside of the matrix borders are erased.\n",
        "\n",
        "Return the largest possible overlap.\n",
        "\n",
        "**URL**: **https://leetcode.com/problems/image-overlap/**"
      ],
      "metadata": {
        "id": "VXq9nZVBTNvL"
      }
    },
    {
      "cell_type": "code",
      "source": [
        "class Solution:\n",
        "    def largestOverlap(self, img1: List[List[int]], img2: List[List[int]]) -> int:\n",
        "        dimension = len(img1)\n",
        "\n",
        "        def non_zero_cells(M):\n",
        "            result = []\n",
        "            for x in range(dimension):\n",
        "                for y in range(dimension):\n",
        "                    if M[x][y] == 1:\n",
        "                        result.append((x, y))\n",
        "            return result\n",
        "\n",
        "        transformation_count = defaultdict(int)\n",
        "        max_overlaps = 0\n",
        "\n",
        "        img1_ones = non_zero_cells(img1)\n",
        "        img2_ones = non_zero_cells(img2)\n",
        "\n",
        "        for (x_a, y_a) in img1_ones:\n",
        "            for (x_b, y_b) in img2_ones:\n",
        "                vector = (x_b - x_a, y_b - y_a)\n",
        "                transformation_count[vector] += 1\n",
        "                max_overlaps = max(max_overlaps, transformation_count[vector])\n",
        "\n",
        "        return max_overlaps"
      ],
      "metadata": {
        "id": "9VEoLzGmqqFH"
      },
      "execution_count": null,
      "outputs": []
    },
    {
      "cell_type": "code",
      "source": [],
      "metadata": {
        "id": "gGiwYrb0qqIy"
      },
      "execution_count": null,
      "outputs": []
    },
    {
      "cell_type": "markdown",
      "source": [
        "**29th-October-2022**\n",
        "\n",
        "\n",
        "**Leetcode 49**: **Group Anagrams**\n",
        "\n",
        "**Problem**: You are given two images, img1 and img2, represented as binary, square matrices of size n x n. A binary matrix has only 0s and 1s as values.\n",
        "\n",
        "We translate one image however we choose by sliding all the 1 bits left, right, up, and/or down any number of units. We then place it on top of the other image. We can then calculate the overlap by counting the number of positions that have a 1 in both images.\n",
        "\n",
        "Note also that a translation does not include any kind of rotation. Any 1 bits that are translated outside of the matrix borders are erased.\n",
        "\n",
        "Return the largest possible overlap.\n",
        "\n",
        "**URL**: **https://leetcode.com/problems/group-anagrams/**"
      ],
      "metadata": {
        "id": "jfYC0QZLGven"
      }
    },
    {
      "cell_type": "code",
      "source": [
        "class Solution:\n",
        "    def groupAnagrams(self, strs: List[str]) -> List[List[str]]:\n",
        "        like_anagrams = dict()\n",
        "        for string in strs:\n",
        "            key = \"\".join(sorted(string))\n",
        "            like_anagrams[key] = like_anagrams.get(key,[]) + [string]\n",
        "        return list(like_anagrams.values())\n"
      ],
      "metadata": {
        "id": "8SsP-YmOqqMy"
      },
      "execution_count": null,
      "outputs": []
    },
    {
      "cell_type": "code",
      "source": [],
      "metadata": {
        "id": "ggwdpv9mqqQk"
      },
      "execution_count": null,
      "outputs": []
    },
    {
      "cell_type": "markdown",
      "source": [
        "**30th-October-2022**\n",
        "\n",
        "\n",
        "**Leetcode 2136**: **Earliest Possible Day of Full Bloom**\n",
        "\n",
        "**Problem**: You have n flower seeds. Every seed must be planted first before it can begin to grow, then bloom. Planting a seed takes time and so does the growth of a seed. You are given two 0-indexed integer arrays plantTime and growTime, of length n each:\n",
        "\n",
        "plantTime[i] is the number of full days it takes you to plant the ith seed. Every day, you can work on planting exactly one seed. You do not have to work on planting the same seed on consecutive days, but the planting of a seed is not complete until you have worked plantTime[i] days on planting it in total.\n",
        "growTime[i] is the number of full days it takes the ith seed to grow after being completely planted. After the last day of its growth, the flower blooms and stays bloomed forever.\n",
        "From the beginning of day 0, you can plant the seeds in any order.\n",
        "\n",
        "Return the earliest possible day where all seeds are blooming.\n",
        "\n",
        "\n",
        "**URL**: **https://leetcode.com/problems/earliest-possible-day-of-full-bloom/**"
      ],
      "metadata": {
        "id": "cB1vIREOcT61"
      }
    },
    {
      "cell_type": "code",
      "source": [
        "class Solution:\n",
        "    def earliestFullBloom(self, plantTime: List[int], growTime: List[int]) -> int:\n",
        "        cur_plant_time = 0\n",
        "        result = 0\n",
        "        indices = sorted(range(len(plantTime)), key=lambda x: -growTime[x])\n",
        "        for i in indices:\n",
        "            cur_plant_time += plantTime[i]\n",
        "            result = max(result, cur_plant_time + growTime[i])\n",
        "        return result\n"
      ],
      "metadata": {
        "id": "KmxAHIjbqqUe"
      },
      "execution_count": null,
      "outputs": []
    },
    {
      "cell_type": "code",
      "source": [],
      "metadata": {
        "id": "7QSBtIm-qqYR"
      },
      "execution_count": null,
      "outputs": []
    },
    {
      "cell_type": "markdown",
      "source": [
        "**31st-October-2022**\n",
        "\n",
        "\n",
        "**Leetcode 1293**: **Shortest Path In a Grid With Obstacles Elimination**\n",
        "\n",
        "**Problem**: You are given an m x n integer matrix grid where each cell is either 0 (empty) or 1 (obstacle). You can move up, down, left, or right from and to an empty cell in one step.\n",
        "\n",
        "Return the minimum number of steps to walk from the upper left corner (0, 0) to the lower right corner (m - 1, n - 1) given that you can eliminate at most k obstacles. If it is not possible to find such walk return -1.\n",
        "\n",
        "\n",
        "**URL**: **https://leetcode.com/problems/shortest-path-in-a-grid-with-obstacles-elimination/**"
      ],
      "metadata": {
        "id": "ICaLUUoTfNbu"
      }
    },
    {
      "cell_type": "code",
      "source": [
        "class Solution:\n",
        "    def shortestPath(self, grid: List[List[int]], k: int) -> int:\n",
        "        m = len(grid)\n",
        "        n = len(grid[0])\n",
        "        if m == 1 and n == 1:\n",
        "            return 0\n",
        "\n",
        "        dirs = [0, 1, 0, -1, 0]\n",
        "        steps = 0\n",
        "        q = deque([(0, 0, k)])\n",
        "        seen = {(0, 0, k)}\n",
        "\n",
        "        while q:\n",
        "            steps += 1\n",
        "            for _ in range(len(q)):\n",
        "                i, j, eliminate = q.popleft()\n",
        "                for l in range(4):\n",
        "                    x = i + dirs[l]\n",
        "                    y = j + dirs[l + 1]\n",
        "                    if x < 0 or x == m or y < 0 or y == n:\n",
        "                        continue\n",
        "                    if x == m - 1 and y == n - 1:\n",
        "                        return steps\n",
        "                    if grid[x][y] == 1 and eliminate == 0:\n",
        "                        continue\n",
        "                    newEliminate = eliminate - grid[x][y]\n",
        "                    if (x, y, newEliminate) in seen:\n",
        "                        continue\n",
        "                    q.append((x, y, newEliminate))\n",
        "                    seen.add((x, y, newEliminate))\n",
        "\n",
        "        return -1\n"
      ],
      "metadata": {
        "id": "-3403RzGqqcM"
      },
      "execution_count": null,
      "outputs": []
    },
    {
      "cell_type": "code",
      "source": [],
      "metadata": {
        "id": "Rhx0yKDFqqgc"
      },
      "execution_count": null,
      "outputs": []
    },
    {
      "cell_type": "markdown",
      "source": [
        "**1st-November-2022**\n",
        "\n",
        "\n",
        "**Leetcode 766**: **Toeplitz Matrix**\n",
        "\n",
        "**Problem**:Given an m x n matrix, return true if the matrix is Toeplitz. Otherwise, return false.\n",
        "\n",
        "A matrix is Toeplitz if every diagonal from top-left to bottom-right has the same elements.\n",
        "\n",
        "**URL**: **https://leetcode.com/problems/toeplitz-matrix/**"
      ],
      "metadata": {
        "id": "XP3UayddanZe"
      }
    },
    {
      "cell_type": "code",
      "source": [
        "class Solution:\n",
        "    def isToeplitzMatrix(self, matrix: List[List[int]]) -> bool:\n",
        "        for i in range(len(matrix) - 1):\n",
        "            for j in range(len(matrix[0]) - 1):\n",
        "                if matrix[i][j] != matrix[i + 1][j + 1]:\n",
        "                    return False\n",
        "        return True\n"
      ],
      "metadata": {
        "id": "28e4zpNNqqkP"
      },
      "execution_count": null,
      "outputs": []
    },
    {
      "cell_type": "code",
      "source": [],
      "metadata": {
        "id": "FHmVr5liqqn4"
      },
      "execution_count": null,
      "outputs": []
    },
    {
      "cell_type": "markdown",
      "source": [
        "**2nd-November-2022**\n",
        "\n",
        "\n",
        "**Leetcode 1706**: **Where Will The Ball Fall**\n",
        "\n",
        "**Problem**:You have a 2-D grid of size m x n representing a box, and you have n balls. The box is open on the top and bottom sides.\n",
        "\n",
        "Each cell in the box has a diagonal board spanning two corners of the cell that can redirect a ball to the right or to the left.\n",
        "\n",
        "A board that redirects the ball to the right spans the top-left corner to the bottom-right corner and is represented in the grid as 1.\n",
        "A board that redirects the ball to the left spans the top-right corner to the bottom-left corner and is represented in the grid as -1.\n",
        "We drop one ball at the top of each column of the box. Each ball can get stuck in the box or fall out of the bottom. A ball gets stuck if it hits a \"V\" shaped pattern between two boards or if a board redirects the ball into either wall of the box.\n",
        "\n",
        "Return an array answer of size n where answer[i] is the column that the ball falls out of at the bottom after dropping the ball from the ith column at the top, or -1 if the ball gets stuck in the box.\n",
        "\n",
        "**URL**: **https://leetcode.com/problems/where-will-the-ball-fall/**"
      ],
      "metadata": {
        "id": "P4agaPb1hIKx"
      }
    },
    {
      "cell_type": "code",
      "source": [
        "class Solution:\n",
        "    def findBall(self, grid: List[List[int]]) -> List[int]:\n",
        "        a, b = len(grid), len(grid[0])\n",
        "\n",
        "        # [1] function that simulates m steps\n",
        "        def move_ball(j):\n",
        "            for i in range(a):\n",
        "                k = j + grid[i][j]\n",
        "                if not (0 <= k < b) or (grid[i][k] != grid[i][j]):\n",
        "                    return -1\n",
        "                j = k\n",
        "            return j\n",
        "\n",
        "        # [2] move n balls from the top to the bottom\n",
        "        return [move_ball(j) for j in range(b)]\n"
      ],
      "metadata": {
        "id": "SHhjVgzQqqr6"
      },
      "execution_count": null,
      "outputs": []
    },
    {
      "cell_type": "code",
      "source": [],
      "metadata": {
        "id": "9AYuAHDUqqvs"
      },
      "execution_count": null,
      "outputs": []
    },
    {
      "cell_type": "markdown",
      "source": [
        "**3rd-November-2022**\n",
        "\n",
        "\n",
        "**Leetcode 433**: **Minimum Genetic Mutation**\n",
        "\n",
        "**Problem**:A gene string can be represented by an 8-character long string, with choices from 'A', 'C', 'G', and 'T'.\n",
        "\n",
        "Suppose we need to investigate a mutation from a gene string start to a gene string end where one mutation is defined as one single character changed in the gene string.\n",
        "\n",
        "For example, \"AACCGGTT\" --> \"AACCGGTA\" is one mutation.\n",
        "There is also a gene bank bank that records all the valid gene mutations. A gene must be in bank to make it a valid gene string.\n",
        "\n",
        "Given the two gene strings start and end and the gene bank bank, return the minimum number of mutations needed to mutate from start to end. If there is no such a mutation, return -1.\n",
        "\n",
        "Note that the starting point is assumed to be valid, so it might not be included in the bank.\n",
        "\n",
        "\n",
        "\n",
        "\n",
        "\n",
        "**URL**: **https://leetcode.com/problems/minimum-genetic-mutation/**"
      ],
      "metadata": {
        "id": "FX1Dpdmmh-7k"
      }
    },
    {
      "cell_type": "code",
      "source": [
        "class Solution:\n",
        "    def minMutation(self, start: str, end: str, bank: List[str]) -> int:\n",
        "        queue = deque([(start, 0)])\n",
        "        seen = {start}\n",
        "\n",
        "        while queue:\n",
        "            node, steps = queue.popleft()\n",
        "            if node == end:\n",
        "                return steps\n",
        "\n",
        "            for c in \"ACGT\":\n",
        "                for i in range(len(node)):\n",
        "                    neighbor = node[:i] + c + node[i + 1:]\n",
        "                    if neighbor not in seen and neighbor in bank:\n",
        "                        queue.append((neighbor, steps + 1))\n",
        "                        seen.add(neighbor)\n",
        "\n",
        "        return -1"
      ],
      "metadata": {
        "id": "WF1IFZEsqqzM"
      },
      "execution_count": null,
      "outputs": []
    },
    {
      "cell_type": "code",
      "source": [],
      "metadata": {
        "id": "xa77nLDIqq3I"
      },
      "execution_count": null,
      "outputs": []
    },
    {
      "cell_type": "markdown",
      "source": [
        "**4th-November-2022**\n",
        "\n",
        "\n",
        "**Leetcode 2131**: **Longest Palindrome By Concatenating Two Letter Words**\n",
        "\n",
        "**Problem**You are given an array of strings words. Each element of words consists of two lowercase English letters.\n",
        "\n",
        "Create the longest possible palindrome by selecting some elements from words and concatenating them in any order. Each element can be selected at most once.\n",
        "\n",
        "Return the length of the longest palindrome that you can create. If it is impossible to create any palindrome, return 0.\n",
        "\n",
        "A palindrome is a string that reads the same forward and backward.\n",
        "\n",
        "\n",
        "**URL**: **https://leetcode.com/problems/longest-palindrome-by-concatenating-two-letter-words/**"
      ],
      "metadata": {
        "id": "Da1Tm2QxO84Y"
      }
    },
    {
      "cell_type": "code",
      "source": [
        "class Solution:\n",
        "    def longestPalindrome(self, words: List[str]) -> int:\n",
        "        results = 0\n",
        "        count = [[0] * 26 for _ in range(26)]\n",
        "\n",
        "        for a, b in words:\n",
        "            i = ord(a) - ord('a')\n",
        "            j = ord(b) - ord('a')\n",
        "            if count[j][i]:\n",
        "                results += 4\n",
        "                count[j][i] -= 1\n",
        "            else:\n",
        "                count[i][j] += 1\n",
        "\n",
        "        for i in range(26):\n",
        "            if count[i][i]:\n",
        "                return results + 2\n",
        "\n",
        "        return results\n"
      ],
      "metadata": {
        "id": "9cOdS1meOlF1"
      },
      "execution_count": null,
      "outputs": []
    },
    {
      "cell_type": "code",
      "source": [],
      "metadata": {
        "id": "vWuR1jtGOlJl"
      },
      "execution_count": null,
      "outputs": []
    },
    {
      "cell_type": "markdown",
      "source": [
        "**5th-November-2022**\n",
        "\n",
        "\n",
        "**Leetcode 345**: **Reverse Vowels Of a String**\n",
        "\n",
        "**Problem**: Given a string s, reverse only all the vowels in the string and return it.\n",
        "\n",
        "The vowels are 'a', 'e', 'i', 'o', and 'u', and they can appear in both lower and upper cases, more than once.\n",
        "\n",
        "\n",
        "\n",
        "**URL**: **https://leetcode.com/problems/reverse-vowels-of-a-string/**"
      ],
      "metadata": {
        "id": "GODw15c13TX6"
      }
    },
    {
      "cell_type": "code",
      "source": [
        "class Solution:\n",
        "    def reverseVowels(self, s: str) -> str:\n",
        "        charList = list(s)\n",
        "        vowels = {'a', 'e', 'i', 'o', 'u', 'A', 'E', 'I', 'O', 'U'}\n",
        "        left = 0\n",
        "        right = len(s) - 1\n",
        "\n",
        "        while left < right:\n",
        "            while left < right and charList[left] not in vowels:\n",
        "                left += 1\n",
        "            while left < right and charList[right] not in vowels:\n",
        "                right -= 1\n",
        "            charList[left], charList[right] = charList[right], charList[left]\n",
        "            left += 1\n",
        "            right -= 1\n",
        "\n",
        "        return ''.join(charList)\n"
      ],
      "metadata": {
        "id": "GEj3zbr4OlNh"
      },
      "execution_count": null,
      "outputs": []
    },
    {
      "cell_type": "code",
      "source": [],
      "metadata": {
        "id": "S37RakEmOlRR"
      },
      "execution_count": null,
      "outputs": []
    },
    {
      "cell_type": "markdown",
      "source": [
        "**6th-November-2022**\n",
        "\n",
        "\n",
        "**Leetcode 212**: **Word Search II**\n",
        "\n",
        "**Problem**: Given an m x n board of characters and a list of strings words, return all words on the board.\n",
        "\n",
        "Each word must be constructed from letters of sequentially adjacent cells, where adjacent cells are horizontally or vertically neighboring. The same letter cell may not be used more than once in a word.\n",
        "\n",
        "\n",
        "**URL**: **https://leetcode.com/problems/word-search-ii/**"
      ],
      "metadata": {
        "id": "XSszZFc1G1hM"
      }
    },
    {
      "cell_type": "code",
      "source": [
        "from functools import reduce\n",
        "from collections import defaultdict\n",
        "class Solution:\n",
        "    def findWords(self, board: List[List[str]], words: List[str]) -> List[str]:\n",
        "\n",
        "        # create trie\n",
        "        Trie = lambda: defaultdict(Trie)\n",
        "        trie = Trie()\n",
        "        END = True\n",
        "\n",
        "        for word in words:\n",
        "            reduce(dict.__getitem__,word,trie)[END] = word\n",
        "\n",
        "        res = set()\n",
        "        def findstr(i,j,t):\n",
        "            if END in t:\n",
        "                res.add(t[END])\n",
        "                # return\n",
        "            letter = board[i][j]\n",
        "            board[i][j] = \"\"\n",
        "            if i > 0 and board[i-1][j] in t:\n",
        "                findstr(i-1,j,t[board[i-1][j]])\n",
        "            if j>0 and board[i][j-1] in t:\n",
        "                findstr(i,j-1,t[board[i][j-1]])\n",
        "            if i < len(board)-1 and board[i+1][j] in t:\n",
        "                findstr(i+1,j,t[board[i+1][j]])\n",
        "            if j < len(board[0])-1 and board[i][j+1] in t:\n",
        "                findstr(i,j+1,t[board[i][j+1]])\n",
        "            board[i][j] = letter\n",
        "\n",
        "            return\n",
        "\n",
        "        for i, row in enumerate(board):\n",
        "            for j, char in enumerate(row):\n",
        "                if board[i][j] in trie:\n",
        "                    findstr(i,j,trie[board[i][j]])\n",
        "        return res"
      ],
      "metadata": {
        "id": "jMhINLaYOlU0"
      },
      "execution_count": null,
      "outputs": []
    },
    {
      "cell_type": "code",
      "source": [],
      "metadata": {
        "id": "RW_3odTOOlY0"
      },
      "execution_count": null,
      "outputs": []
    },
    {
      "cell_type": "markdown",
      "source": [
        "**7th-November-2022**\n",
        "\n",
        "\n",
        "**Leetcode 212**: **Orderly Queue**\n",
        "\n",
        "**Problem**: You are given a string s and an integer k. You can choose one of the first k letters of s and append it at the end of the string..\n",
        "\n",
        "Return the lexicographically smallest string you could have after applying the mentioned step any number of moves.\n",
        "\n",
        "\n",
        "**URL**: **https://leetcode.com/problems/orderly-queue/**"
      ],
      "metadata": {
        "id": "QGL5hF86Byco"
      }
    },
    {
      "cell_type": "code",
      "source": [
        "class Solution:\n",
        "    def orderlyQueue(self, s: str, k: int) -> str:\n",
        "        if k == 1:\n",
        "             return min([s[n:] + s[:n] for n in range(len(s))])\n",
        "        return ''.join(sorted(s))"
      ],
      "metadata": {
        "id": "ZlAmCiIROlcY"
      },
      "execution_count": null,
      "outputs": []
    },
    {
      "cell_type": "code",
      "source": [],
      "metadata": {
        "id": "is2QHZFsOlgQ"
      },
      "execution_count": null,
      "outputs": []
    },
    {
      "cell_type": "markdown",
      "source": [
        "**8th-November-2022**\n",
        "\n",
        "\n",
        "**Leetcode 1323**: **Maximum 69 Number**\n",
        "\n",
        "**Problem**: You are given a positive integer num consisting only of digits 6 and 9.\n",
        "\n",
        "Return the maximum number you can get by changing at most one digit (6 becomes 9, and 9 becomes 6).\n",
        "\n",
        "\n",
        "**URL**: **https://leetcode.com/problems/maximum-69-number/**"
      ],
      "metadata": {
        "id": "rncMt92OYKf9"
      }
    },
    {
      "cell_type": "code",
      "source": [
        "class Solution:\n",
        "    def maximum69Number (self, num: int) -> int:\n",
        "        return int(str(num).replace('6', '9', 1))\n"
      ],
      "metadata": {
        "id": "4po89yAXOljz"
      },
      "execution_count": null,
      "outputs": []
    },
    {
      "cell_type": "code",
      "source": [],
      "metadata": {
        "id": "RKBL8F6gOlnr"
      },
      "execution_count": null,
      "outputs": []
    },
    {
      "cell_type": "markdown",
      "source": [
        "**9th-November-2022**\n",
        "\n",
        "\n",
        "**Leetcode 1544**: **Make the String Great**\n",
        "\n",
        "**Problem**: Given a string s of lower and upper case English letters.\n",
        "\n",
        "A good string is a string which doesn't have two adjacent characters s[i] and s[i + 1] where:\n",
        "\n",
        "0 <= i <= s.length - 2\n",
        "s[i] is a lower-case letter and s[i + 1] is the same letter but in upper-case or vice-versa.\n",
        "\n",
        "To make the string good, you can choose two adjacent characters that make the string bad and remove them. You can keep doing this until the string becomes good.\n",
        "\n",
        "Return the string after making it good. The answer is guaranteed to be unique under the given constraints.\n",
        "\n",
        "Notice that an empty string is also good.\n",
        "\n",
        "\n",
        "\n",
        "\n",
        "\n",
        "**URL**: **https://leetcode.com/problems/make-the-string-great/**"
      ],
      "metadata": {
        "id": "1PWXZhVWNioQ"
      }
    },
    {
      "cell_type": "code",
      "source": [
        "class Solution:\n",
        "    def makeGood(self, s: str) -> str:\n",
        "        k=0\n",
        "        s = list(s)\n",
        "        while k < len(s)-1:\n",
        "            if (s[k] == s[k+1].upper() or s[k].upper() == s[k+1]) and s[k] != s[k+1]:\n",
        "                # print(s)\n",
        "                s.pop(k)\n",
        "                # print(s)\n",
        "                s.pop(k)\n",
        "                # print(s)\n",
        "                k = -1\n",
        "            k+=1\n",
        "        return \"\".join(s)\n"
      ],
      "metadata": {
        "id": "hQMLXfJSOlrO"
      },
      "execution_count": null,
      "outputs": []
    },
    {
      "cell_type": "code",
      "source": [],
      "metadata": {
        "id": "byg8kTT_Olu9"
      },
      "execution_count": null,
      "outputs": []
    },
    {
      "cell_type": "markdown",
      "source": [
        "**10th-November-2022**\n",
        "\n",
        "\n",
        "**Leetcode 901**: **Online Stock Span**\n",
        "\n",
        "**Problem**: Design an algorithm that collects daily price quotes for some stock and returns the span of that stock's price for the current day.\n",
        "\n",
        "The span of the stock's price today is defined as the maximum number of consecutive days (starting from today and going backward) for which the stock price was less than or equal to today's price.\n",
        "\n",
        "..For example, if the price of a stock over the next 7 days were [100,80,60,70,60,\n",
        "75,85], then the stock spans would be [1,1,1,2,1,4,6].\n",
        "\n",
        "Implement the StockSpanner class:\n",
        "\n",
        "..StockSpanner() Initializes the object of the class.\n",
        "\n",
        "..int next(int price) Returns the span of the stock's price given that today's price is price.\n",
        "\n",
        "\n",
        "\n",
        "\n",
        "**URL**: **https://leetcode.com/problems/online-stock-span//**"
      ],
      "metadata": {
        "id": "FF-C9tHtVD0M"
      }
    },
    {
      "cell_type": "code",
      "source": [
        "class StockSpanner:\n",
        "\n",
        "    def __init__(self):\n",
        "        self.stack = []  # (price, span)\n",
        "\n",
        "\n",
        "    def next(self, price: int) -> int:\n",
        "        span = 1\n",
        "        while self.stack and self.stack[-1][0] <= price:\n",
        "            span += self.stack.pop()[1]\n",
        "        self.stack.append((price, span))\n",
        "        return span\n"
      ],
      "metadata": {
        "id": "UAqz662iOlyy"
      },
      "execution_count": null,
      "outputs": []
    },
    {
      "cell_type": "code",
      "source": [],
      "metadata": {
        "id": "ZC4-nqE2Ol2o"
      },
      "execution_count": null,
      "outputs": []
    },
    {
      "cell_type": "markdown",
      "source": [
        "**11th-November-2022**\n",
        "\n",
        "\n",
        "**Leetcode 1047**: **Remove All Adjacent Duplicates in String**\n",
        "\n",
        "**Problem**: You are given a string s consisting of lowercase English letters. A duplicate removal consists of choosing two adjacent and equal letters and removing them.\n",
        "\n",
        "We repeatedly make duplicate removals on s until we no longer can.\n",
        "\n",
        "Return the final string after all such duplicate removals have been made. It can be proven that the answer is unique.\n",
        "\n",
        "\n",
        "**URL**: **https://leetcode.com/problems/remove-all-adjacent-duplicates-in-string/**"
      ],
      "metadata": {
        "id": "874Em2ucaiug"
      }
    },
    {
      "cell_type": "code",
      "source": [
        "class Solution:\n",
        "    def removeDuplicates(self, s: str) -> str:\n",
        "        stack = []\n",
        "        topmost = -1\n",
        "\n",
        "        for k in s:\n",
        "            if stack and stack[-1] == k:\n",
        "                stack.pop()\n",
        "                topmost -= 1\n",
        "\n",
        "            else:\n",
        "                stack.append(k)\n",
        "                topmost += 1\n",
        "\n",
        "        return (''.join(stack))\n"
      ],
      "metadata": {
        "id": "J2UhoRurOl6m"
      },
      "execution_count": null,
      "outputs": []
    },
    {
      "cell_type": "code",
      "source": [],
      "metadata": {
        "id": "V3xi_ObZOl-l"
      },
      "execution_count": null,
      "outputs": []
    },
    {
      "cell_type": "markdown",
      "source": [
        "**12th-November-2022**\n",
        "\n",
        "\n",
        "**Leetcode 26**: **Remove Duplicates From Sorted Array**\n",
        "\n",
        "**Problem**: Given an integer array nums sorted in non-decreasing order, remove the duplicates in-place such that each unique element appears only once. The relative order of the elements should be kept the same.\n",
        "\n",
        "Since it is impossible to change the length of the array in some languages, you must instead have the result be placed in the first part of the array nums. More formally, if there are k elements after removing the duplicates, then the first k elements of nums should hold the final result. It does not matter what you leave beyond the first k elements.\n",
        "\n",
        "Return k after placing the final result in the first k slots of nums.\n",
        "\n",
        "Do not allocate extra space for another array. You must do this by modifying the input array in-place with O(1) extra memory.\n",
        "\n",
        "Custom Judge:\n",
        "\n",
        "The judge will test your solution with the following code:\n",
        "\n",
        "\n",
        "**URL**: **https://leetcode.com/problems/remove-duplicates-from-sorted-array/**"
      ],
      "metadata": {
        "id": "7XrR2UOIepZz"
      }
    },
    {
      "cell_type": "code",
      "source": [
        "class Solution:\n",
        "    def removeDuplicates(self, nums: List[int]) -> int:\n",
        "        i = 0\n",
        "\n",
        "        for num in nums:\n",
        "            if i < 1 or num > nums[i - 1]:\n",
        "                nums[i] = num\n",
        "                i += 1\n",
        "\n",
        "        return i\n"
      ],
      "metadata": {
        "id": "SFhsxYDGOmCZ"
      },
      "execution_count": null,
      "outputs": []
    },
    {
      "cell_type": "code",
      "source": [],
      "metadata": {
        "id": "xq5orJ_6OmGB"
      },
      "execution_count": null,
      "outputs": []
    },
    {
      "cell_type": "markdown",
      "source": [
        "**13th-November-2022**\n",
        "\n",
        "\n",
        "**Leetcode 295**: **Find Median From Date Stream**\n",
        "\n",
        "**Problem**: The median is the middle value in an ordered integer list. If the size of the list is even, there is no middle value, and the median is the mean of the two middle values.\n",
        "\n",
        "For example, for arr = [2,3,4], the median is 3.\n",
        "\n",
        "For example, for arr = [2,3], the median is (2 + 3) / 2 = 2.5.\n",
        "\n",
        "Implement the MedianFinder class:\n",
        "\n",
        "***MedianFinder()***initializes the MedianFinder object.\n",
        "\n",
        "***void addNum(int num)*** adds the integer num from the data stream to the data structure.\n",
        "\n",
        "***double findMedian()*** returns the median of all elements so far. Answers within 10-5 of the actual answer will be accepted.\n",
        "\n",
        "**URL**: **https://leetcode.com/problems/find-median-from-data-stream/**"
      ],
      "metadata": {
        "id": "Q0JJZ3_bAdgi"
      }
    },
    {
      "cell_type": "code",
      "source": [
        "class MedianFinder:\n",
        "  def __init__(self):\n",
        "    self.maxHeap = []\n",
        "    self.minHeap = []\n",
        "\n",
        "  def addNum(self, num: int) -> None:\n",
        "    if not self.maxHeap or num <= -self.maxHeap[0]:\n",
        "      heapq.heappush(self.maxHeap, -num)\n",
        "    else:\n",
        "      heapq.heappush(self.minHeap, num)\n",
        "\n",
        "    # Balance two heaps s.t.\n",
        "    # |maxHeap| >= |minHeap| and |maxHeap| - |minHeap| <= 1\n",
        "    if len(self.maxHeap) < len(self.minHeap):\n",
        "      heapq.heappush(self.maxHeap, -heapq.heappop(self.minHeap))\n",
        "    elif len(self.maxHeap) - len(self.minHeap) > 1:\n",
        "      heapq.heappush(self.minHeap, -heapq.heappop(self.maxHeap))\n",
        "\n",
        "  def findMedian(self) -> float:\n",
        "    if len(self.maxHeap) == len(self.minHeap):\n",
        "      return (-self.maxHeap[0] + self.minHeap[0]) / 2.0\n",
        "    return -self.maxHeap[0]\n"
      ],
      "metadata": {
        "id": "dxD58084OmJ8"
      },
      "execution_count": null,
      "outputs": []
    },
    {
      "cell_type": "code",
      "source": [],
      "metadata": {
        "id": "00StA8S2OmN8"
      },
      "execution_count": null,
      "outputs": []
    },
    {
      "cell_type": "markdown",
      "source": [
        "**14th-November-2022**\n",
        "\n",
        "\n",
        "**Leetcode 151**: **Reverse Words in a String**\n",
        "\n",
        "**Problem**: Given an input string s, reverse the order of the words.\n",
        "\n",
        "A word is defined as a sequence of non-space characters. The words in s will be separated by at least one space.\n",
        "\n",
        "Return a string of the words in reverse order concatenated by a single space.\n",
        "\n",
        "Note that s may contain leading or trailing spaces or multiple spaces between two words. The returned string should only have a single space separating the words. Do not include any extra spaces.\n",
        "\n",
        "**URL**: **https://leetcode.com/problems/reverse-words-in-a-string/**"
      ],
      "metadata": {
        "id": "9CMgA97lQUxG"
      }
    },
    {
      "cell_type": "code",
      "source": [
        "class Solution:\n",
        "    def reverseWords(self, s: str) -> str:\n",
        "            return ' '.join(reversed(s.split()))\n"
      ],
      "metadata": {
        "id": "9HQuhpD6OmR6"
      },
      "execution_count": null,
      "outputs": []
    },
    {
      "cell_type": "code",
      "source": [],
      "metadata": {
        "id": "644Ziea4OmWD"
      },
      "execution_count": null,
      "outputs": []
    },
    {
      "cell_type": "markdown",
      "source": [
        "**15th-November-2022**\n",
        "\n",
        "\n",
        "**Leetcode 947**: **Most Stones Removed with Same Row or Column**\n",
        "\n",
        "**Problem**: On a 2D plane, we place n stones at some integer coordinate points. Each coordinate point may have at most one stone.\n",
        "\n",
        "A stone can be removed if it shares either the same row or the same column as another stone that has not been removed.\n",
        "\n",
        "Given an array stones of length n where stones[i] = [xi, yi] represents the location of the ith stone, return the largest possible number of stones that can be removed.\n",
        "\n",
        "**URL**: **https://leetcode.com/problems/most-stones-removed-with-same-row-or-column/**"
      ],
      "metadata": {
        "id": "V4wkPiN4At_z"
      }
    },
    {
      "cell_type": "code",
      "source": [
        "class Solution:\n",
        "    def removeStones(self, stones: List[List[int]]) -> int:\n",
        "        rows=defaultdict(list)\n",
        "\n",
        "        cols=defaultdict(list)\n",
        "\n",
        "        for l,k in enumerate(stones):\n",
        "            rows[k[0]].append(l)\n",
        "            cols[k[1]].append(l)\n",
        "\n",
        "        n=len(stones)\n",
        "        vis=[False]*n\n",
        "\n",
        "\n",
        "        def dfs(node,vis):\n",
        "            ans[0]+=1\n",
        "            vis[node]=True\n",
        "            for i in rows[stones[node][0]]:\n",
        "                if vis[i]==False:\n",
        "                    dfs(i,vis)\n",
        "            for i in cols[stones[node][1]]:\n",
        "                if vis[i]==False:\n",
        "                    dfs(i,vis)\n",
        "        ans_=0\n",
        "        for i in range(0,n):\n",
        "            if vis[i]==False:\n",
        "                ans=[0]\n",
        "                dfs(i,vis)\n",
        "                ans_+=ans[0]-1\n",
        "        return ans_"
      ],
      "metadata": {
        "id": "qZxce0YtOmaD"
      },
      "execution_count": null,
      "outputs": []
    },
    {
      "cell_type": "code",
      "source": [],
      "metadata": {
        "id": "frzCsj7sOmeI"
      },
      "execution_count": null,
      "outputs": []
    },
    {
      "cell_type": "markdown",
      "source": [
        "**16th-November-2022**\n",
        "\n",
        "\n",
        "**Leetcode 222**: **Count Complete Tree Nodes**\n",
        "\n",
        "**Problem**:Given the root of a complete binary tree, return the number of the nodes in the tree.\n",
        "\n",
        "According to Wikipedia, every level, except possibly the last, is completely filled in a complete binary tree, and all nodes in the last level are as far left as possible. It can have between 1 and 2h nodes inclusive at the last level h.\n",
        "\n",
        "Design an algorithm that runs in less than O(n) time complexity.\n",
        "\n",
        "\n",
        "**URL**: **https://leetcode.com/problems/count-complete-tree-nodes//**"
      ],
      "metadata": {
        "id": "vW4B1CSG_7Wa"
      }
    },
    {
      "cell_type": "code",
      "source": [
        "# Definition for a binary tree node.\n",
        "# class TreeNode:\n",
        "#     def __init__(self, val=0, left=None, right=None):\n",
        "#         self.val = val\n",
        "#         self.left = left\n",
        "#         self.right = right\n",
        "class Solution:\n",
        "    def countNodes(self, root: Optional[TreeNode]) -> int:\n",
        "        if not root:\n",
        "            return 0\n",
        "        return 1 + self.countNodes(root.left) + self.countNodes(root.right)"
      ],
      "metadata": {
        "id": "wBzACvqlOmiK"
      },
      "execution_count": null,
      "outputs": []
    },
    {
      "cell_type": "code",
      "source": [],
      "metadata": {
        "id": "WhGaoaQ8Oml5"
      },
      "execution_count": null,
      "outputs": []
    },
    {
      "cell_type": "markdown",
      "source": [
        "**17th-November-2022**\n",
        "\n",
        "\n",
        "**Leetcode 374**: **Guess Number Higher or Lower**\n",
        "\n",
        "**Problem**:We are playing the Guess Game. The game is as follows:\n",
        "\n",
        "I pick a number from 1 to n. You have to guess which number I picked.\n",
        "\n",
        "Every time you guess wrong, I will tell you whether the number I picked is higher or lower than your guess.\n",
        "\n",
        "You call a pre-defined API int guess(int num), which returns three possible results:\n",
        "\n",
        ".. -1: Your guess is higher than the number I picked (i.e. num > pick).\n",
        "\n",
        ".. 1: Your guess is lower than the number I picked (i.e. num < pick).\n",
        "\n",
        ".. 0: your guess is equal to the number I picked (i.e. num == pick).\n",
        "\n",
        "Return the number that I picked.\n",
        "\n",
        "\n",
        "\n",
        "**URL**: **https://leetcode.com/problems/guess-number-higher-or-lower**"
      ],
      "metadata": {
        "id": "VVbBXmaEU8SB"
      }
    },
    {
      "cell_type": "code",
      "source": [
        "# The guess API is already defined for you.\n",
        "#param num, your guess\n",
        "#return -1 if num is higher than the picked number\n",
        "#          1 if num is lower than the picked number\n",
        "#          otherwise return 0\n",
        "# def guess(num: int) -> int:\n",
        "class Solution:\n",
        "    def guessNumber(self, n: int) -> int:\n",
        "        low = 1\n",
        "        high = n\n",
        "        while low <= high:\n",
        "            mid = (low + high)//2\n",
        "            results =  guess(mid)\n",
        "            if results == 0 :\n",
        "                return mid\n",
        "            elif results == -1:\n",
        "                high = mid - 1\n",
        "            else:\n",
        "                low = mid + 1\n"
      ],
      "metadata": {
        "id": "rK98CLoiOmpj"
      },
      "execution_count": null,
      "outputs": []
    },
    {
      "cell_type": "code",
      "source": [],
      "metadata": {
        "id": "lBwOv004OmtY"
      },
      "execution_count": null,
      "outputs": []
    },
    {
      "cell_type": "markdown",
      "source": [
        "**18th-November-2022**\n",
        "\n",
        "\n",
        "**Leetcode 223**: **Rectangle Area**\n",
        "\n",
        "**Problem**:Given the coordinates of two rectilinear rectangles in a 2D plane, return the total area covered by the two rectangles.\n",
        "\n",
        "The first rectangle is defined by its bottom-left corner (ax1, ay1) and its top-right corner (ax2, ay2).\n",
        "\n",
        "The second rectangle is defined by its bottom-left corner (bx1, by1) and its top-right corner (bx2, by2).\n",
        "\n",
        "\n",
        "\n",
        "**URL**: **https://leetcode.com/problems/rectangle-area/**"
      ],
      "metadata": {
        "id": "lNoE8dpBRmjJ"
      }
    },
    {
      "cell_type": "code",
      "source": [
        "class Solution:\n",
        "    def computeArea(self, ax1: int, ay1: int, ax2: int, ay2: int, bx1: int, by1: int, bx2: int, by2: int) -> int:\n",
        "        sums = (ax1 - ax2) * (ay1 - ay2) + (bx2 - bx1) * (by2 - by1)\n",
        "        return sums - max(min(ax2, bx2) - max(ax1, bx1), 0) * max(min(ay2, by2) - max(ay1, by1), 0)"
      ],
      "metadata": {
        "id": "KDBPjy19Omxh"
      },
      "execution_count": null,
      "outputs": []
    },
    {
      "cell_type": "code",
      "source": [],
      "metadata": {
        "id": "ZK6e6rKHOm1K"
      },
      "execution_count": null,
      "outputs": []
    },
    {
      "cell_type": "markdown",
      "source": [
        "**19th-November-2022**\n",
        "\n",
        "\n",
        "**Leetcode 263**: **Ugly Number**\n",
        "\n",
        "**Problem**:An ugly number is a positive integer whose prime factors are limited to 2, 3, and 5.\n",
        "\n",
        "Given an integer n, return true if n is an ugly number.\n",
        "\n",
        "\n",
        "**URL**: **https://leetcode.com/problems/ugly-number/**"
      ],
      "metadata": {
        "id": "XW_NV5e3AEbP"
      }
    },
    {
      "cell_type": "code",
      "source": [
        "class Solution:\n",
        "    def isUgly(self, n: int) -> bool:\n",
        "        if n == 0:\n",
        "            return False\n",
        "        for ugly_number in 2,3,5:\n",
        "            while n % ugly_number == 0:\n",
        "                n //= ugly_number\n",
        "        return n == 1"
      ],
      "metadata": {
        "id": "caHM9WHcOm49"
      },
      "execution_count": null,
      "outputs": []
    },
    {
      "cell_type": "code",
      "source": [],
      "metadata": {
        "id": "wVRJTKUPOm9D"
      },
      "execution_count": null,
      "outputs": []
    },
    {
      "cell_type": "markdown",
      "source": [
        "**20th-November-2022**\n",
        "\n",
        "\n",
        "**Leetcode 567**: **Erect The Fence**\n",
        "\n",
        "**Problem**:You are given an array trees where trees[i] = [xi, yi] represents the location of a tree in the garden.\n",
        "\n",
        "You are asked to fence the entire garden using the minimum length of rope as it is expensive. The garden is well fenced only if all the trees are enclosed.\n",
        "\n",
        "Return the coordinates of trees that are exactly located on the fence perimeter.\n",
        "\n",
        "**URL**: **https://leetcode.com/problems/erect-the-fence/**"
      ],
      "metadata": {
        "id": "LZx1KlY6n0yy"
      }
    },
    {
      "cell_type": "code",
      "source": [
        "class Solution:\n",
        "  def outerTrees(self, trees: List[List[int]]) -> List[List[int]]:\n",
        "    hull = []\n",
        "\n",
        "    trees.sort(key=lambda x: (x[0], x[1]))\n",
        "\n",
        "    def cross(p: List[int], q: List[int], r: List[int]) -> int:\n",
        "      return (q[1] - p[1]) * (r[0] - q[0]) - (q[0] - p[0]) * (r[1] - q[1])\n",
        "\n",
        "    # Build lower hull: left-to-right scan\n",
        "    for tree in trees:\n",
        "      while len(hull) > 1 and cross(hull[-1], hull[-2], tree) > 0:\n",
        "        hull.pop()\n",
        "      hull.append(tuple(tree))\n",
        "    hull.pop()\n",
        "\n",
        "    # Build upper hull: right-to-left scan\n",
        "    for tree in reversed(trees):\n",
        "      while len(hull) > 1 and cross(hull[-1], hull[-2], tree) > 0:\n",
        "        hull.pop()\n",
        "      hull.append(tuple(tree))\n",
        "\n",
        "    # Remove redundant elements from the stack\n",
        "    return list(set(hull))\n"
      ],
      "metadata": {
        "id": "AzzMbV--OnA7"
      },
      "execution_count": null,
      "outputs": []
    },
    {
      "cell_type": "code",
      "source": [],
      "metadata": {
        "id": "rn8k9XjAOnE5"
      },
      "execution_count": null,
      "outputs": []
    },
    {
      "cell_type": "markdown",
      "source": [
        "**21st-November-2022**\n",
        "\n",
        "\n",
        "**Leetcode 224**: **Basic Calculator**\n",
        "\n",
        "**Problem**:Given a string s representing a valid expression, implement a basic calculator to evaluate it, and return the result of the evaluation.\n",
        "\n",
        "Note: You are not allowed to use any built-in function which evaluates strings as mathematical expressions, such as eval().\n",
        "\n",
        "**URL**: **https://leetcode.com/problems/basic-calculator/**"
      ],
      "metadata": {
        "id": "A_B6VmUEIj0x"
      }
    },
    {
      "cell_type": "code",
      "source": [
        "class Solution:\n",
        "  def calculate(self, s: str) -> int:\n",
        "    ans = 0\n",
        "    num = 0\n",
        "    sign = 1\n",
        "    stack = [sign]  # stack[-1]: current env's sign\n",
        "\n",
        "    for c in s:\n",
        "      if c.isdigit():\n",
        "        num = num * 10 + (ord(c) - ord('0'))\n",
        "      elif c == '(':\n",
        "        stack.append(sign)\n",
        "      elif c == ')':\n",
        "        stack.pop()\n",
        "      elif c == '+' or c == '-':\n",
        "        ans += sign * num\n",
        "        sign = (1 if c == '+' else -1) * stack[-1]\n",
        "        num = 0\n",
        "\n",
        "    return ans + sign * num"
      ],
      "metadata": {
        "id": "Q3050mRoJCpG"
      },
      "execution_count": null,
      "outputs": []
    },
    {
      "cell_type": "code",
      "source": [],
      "metadata": {
        "id": "geJqE8bOOnI3"
      },
      "execution_count": null,
      "outputs": []
    },
    {
      "cell_type": "markdown",
      "source": [
        "**22nd-November-2022**\n",
        "\n",
        "\n",
        "**Leetcode 1926**: **Nearest Exit In A Maze**\n",
        "\n",
        "**Problem**:You are given an m x n matrix maze (0-indexed) with empty cells (represented as '.') and walls (represented as '+'). You are also given the entrance of the maze, where entrance = [entrancerow, entrancecol] denotes the row and column of the cell you are initially standing at.\n",
        "\n",
        "In one step, you can move one cell up, down, left, or right. You cannot step into a cell with a wall, and you cannot step outside the maze. Your goal is to find the nearest exit from the entrance. An exit is defined as an empty cell that is at the border of the maze. The entrance does not count as an exit.\n",
        "\n",
        "Return the number of steps in the shortest path from the entrance to the nearest exit, or -1 if no such path exists.\n",
        "\n",
        "**URL**: **https://leetcode.com/problems/nearest-exit-from-entrance-in-maze/**"
      ],
      "metadata": {
        "id": "jf2JGOe7J2xG"
      }
    },
    {
      "cell_type": "code",
      "source": [
        "class Solution:\n",
        "  def nearestExit(self, maze: List[List[str]], entrance: List[int]) -> int:\n",
        "    m = len(maze)\n",
        "    n = len(maze[0])\n",
        "    dirs = [0, 1, 0, -1, 0]\n",
        "    ans = 0\n",
        "    q = deque([(entrance[0], entrance[1])])\n",
        "    seen = {(entrance[0], entrance[1])}\n",
        "\n",
        "    while q:\n",
        "      ans += 1\n",
        "      for _ in range(len(q)):\n",
        "        i, j = q.popleft()\n",
        "        for k in range(4):\n",
        "          x = i + dirs[k]\n",
        "          y = j + dirs[k + 1]\n",
        "          if x < 0 or x == m or y < 0 or y == n:\n",
        "            continue\n",
        "          if (x, y) in seen or maze[x][y] == '+':\n",
        "            continue\n",
        "          if x == 0 or x == m - 1 or y == 0 or y == n - 1:\n",
        "            return ans\n",
        "          q.append((x, y))\n",
        "          seen.add((x, y))\n",
        "\n",
        "    return -1"
      ],
      "metadata": {
        "id": "NZS4ebICOnMt"
      },
      "execution_count": null,
      "outputs": []
    },
    {
      "cell_type": "code",
      "source": [],
      "metadata": {
        "id": "ikBeF7XNOnQh"
      },
      "execution_count": null,
      "outputs": []
    },
    {
      "cell_type": "markdown",
      "source": [
        "**23rd-November-2022**\n",
        "\n",
        "\n",
        "**Leetcode 279**: **Perfect Squares**\n",
        "\n",
        "**Problem**:Given an integer n, return the least number of perfect square numbers that sum to n.\n",
        "\n",
        "A perfect square is an integer that is the square of an integer; in other words, it is the product of some integer with itself. For example, 1, 4, 9, and 16 are perfect squares while 3 and 11 are not.\n",
        "\n",
        "**URL**: **https://leetcode.com/problems/perfect-squares/**"
      ],
      "metadata": {
        "id": "xQxgZYNhOWjI"
      }
    },
    {
      "cell_type": "code",
      "source": [
        "class Solution:\n",
        "  def numSquares(self, n: int) -> int:\n",
        "    dp = [n] * (n + 1)\n",
        "\n",
        "    dp[0] = 0\n",
        "    dp[1] = 1\n",
        "\n",
        "    for i in range(2, n + 1):\n",
        "      j = 1\n",
        "      while j * j <= i:\n",
        "        dp[i] = min(dp[i], dp[i - j * j] + 1)\n",
        "        j += 1\n",
        "\n",
        "    return dp[n]"
      ],
      "metadata": {
        "id": "LZfzeBCmOnUj"
      },
      "execution_count": null,
      "outputs": []
    },
    {
      "cell_type": "code",
      "source": [],
      "metadata": {
        "id": "Q09XtQazOnYc"
      },
      "execution_count": null,
      "outputs": []
    },
    {
      "cell_type": "markdown",
      "source": [
        "**24th-November-2022**\n",
        "\n",
        "\n",
        "**Leetcode 36**: **Valid Sudoku**\n",
        "\n",
        "**Problem**:Determine if a 9 x 9 Sudoku board is valid. Only the filled cells need to be validated according to the following rules:\n",
        "\n",
        "Each row must contain the digits 1-9 without repetition.\n",
        "\n",
        "Each column must contain the digits 1-9 without repetition.\n",
        "\n",
        "Each of the nine 3 x 3 sub-boxes of the grid must contain the digits 1-9 without repetition.\n",
        "\n",
        "Note:\n",
        "\n",
        "A Sudoku board (partially filled) could be valid but is not necessarily solvable.\n",
        "Only the filled cells need to be validated according to the mentioned rules.\n",
        "\n",
        "**URL**: **https://leetcode.com/problems/valid-sudoku/**"
      ],
      "metadata": {
        "id": "eP2QXOkjPTEg"
      }
    },
    {
      "cell_type": "code",
      "source": [
        "class Solution:\n",
        "    def isValidSudoku(self, board: List[List[str]]) -> bool:\n",
        "        seen = set()\n",
        "\n",
        "        for i in range(9):\n",
        "            for j in range(9):\n",
        "                c = board[i][j]\n",
        "                if c == '.':\n",
        "                    continue\n",
        "                if c + '@row ' + str(i) in seen or \\\n",
        "                   c + '@col ' + str(j) in seen or \\\n",
        "                   c + '@box ' + str(i // 3) + str(j // 3) in seen:\n",
        "                    return False\n",
        "                seen.add(c + '@row ' + str(i))\n",
        "                seen.add(c + '@col ' + str(j))\n",
        "                seen.add(c + '@box ' + str(i // 3) + str(j // 3))\n",
        "\n",
        "        return True"
      ],
      "metadata": {
        "id": "c0N6uM1HOnb_"
      },
      "execution_count": null,
      "outputs": []
    },
    {
      "cell_type": "code",
      "source": [],
      "metadata": {
        "id": "6gqm5dEtOnf-"
      },
      "execution_count": null,
      "outputs": []
    },
    {
      "cell_type": "markdown",
      "source": [
        "**25th-November-2022**\n",
        "\n",
        "\n",
        "**Leetcode 79**: **Word Search**\n",
        "\n",
        "**Problem**:Given an m x n grid of characters board and a string word, return true if word exists in the grid.\n",
        "\n",
        "The word can be constructed from letters of sequentially adjacent cells, where adjacent cells are horizontally or vertically neighboring. The same letter cell may not be used more than once.\n",
        "\n",
        "\n",
        "\n",
        "**URL**: **https://leetcode.com/problems/word-search/**"
      ],
      "metadata": {
        "id": "Z0RP2I3zi8fL"
      }
    },
    {
      "cell_type": "code",
      "source": [
        "class Solution:\n",
        "  def exist(self, board: List[List[str]], word: str) -> bool:\n",
        "    m = len(board)\n",
        "    n = len(board[0])\n",
        "\n",
        "    def dfs(i: int, j: int, s: int) -> bool:\n",
        "      if i < 0 or i == m or j < 0 or j == n:\n",
        "        return False\n",
        "      if board[i][j] != word[s] or board[i][j] == '*':\n",
        "        return False\n",
        "      if s == len(word) - 1:\n",
        "        return True\n",
        "\n",
        "      cache = board[i][j]\n",
        "      board[i][j] = '*'\n",
        "      isExist = \\\n",
        "          dfs(i + 1, j, s + 1) or \\\n",
        "          dfs(i - 1, j, s + 1) or \\\n",
        "          dfs(i, j + 1, s + 1) or \\\n",
        "          dfs(i, j - 1, s + 1)\n",
        "      board[i][j] = cache\n",
        "\n",
        "      return isExist\n",
        "\n",
        "    return any(dfs(i, j, 0) for i in range(m) for j in range(n))\n"
      ],
      "metadata": {
        "id": "tuhcDUGfOnje"
      },
      "execution_count": null,
      "outputs": []
    },
    {
      "cell_type": "code",
      "source": [],
      "metadata": {
        "id": "vY5xsiicOnnT"
      },
      "execution_count": null,
      "outputs": []
    },
    {
      "cell_type": "markdown",
      "source": [
        "**26th-November-2022**\n",
        "\n",
        "\n",
        "**Leetcode 907**: **Sum of Subarray Minimums**\n",
        "\n",
        "**Problem**:Given an array of integers arr, find the sum of min(b), where b ranges over every (contiguous) subarray of arr. Since the answer may be large, return the answer modulo 109 + 7.\n",
        "\n",
        "\n",
        "\n",
        "**URL**: **https://leetcode.com/problems/sum-of-subarray-minimums/**"
      ],
      "metadata": {
        "id": "75g_6hJ3AhwX"
      }
    },
    {
      "cell_type": "code",
      "source": [
        "class Solution:\n",
        "    def sumSubarrayMins(self, A: List[int]) -> int:\n",
        "        A = [0]+A\n",
        "        result = [0]*len(A)\n",
        "        stack = [0]\n",
        "        for i in range(len(A)):\n",
        "            while A[stack[-1]] > A[i]:\n",
        "                stack.pop()\n",
        "            j = stack[-1]\n",
        "            result[i] = result[j] + (i-j)*A[i]\n",
        "            stack.append(i)\n",
        "        return sum(result) % (10**9+7)"
      ],
      "metadata": {
        "id": "468Nwj64OnrF"
      },
      "execution_count": null,
      "outputs": []
    },
    {
      "cell_type": "code",
      "source": [],
      "metadata": {
        "id": "10OX5Uy5OnvE"
      },
      "execution_count": null,
      "outputs": []
    },
    {
      "cell_type": "markdown",
      "source": [
        "**27th-November-2022**\n",
        "\n",
        "\n",
        "**Leetcode 1235**: **Maximum Profit In Job Scheduling**\n",
        "\n",
        "**Problem**:We have n jobs, where every job is scheduled to be done from startTime[i] to endTime[i], obtaining a profit of profit[i].\n",
        "\n",
        "You're given the startTime, endTime and profit arrays, return the maximum profit you can take such that there are no two jobs in the subset with overlapping time range.\n",
        "\n",
        "If you choose a job that ends at time X you will be able to start another job that starts at time X.\n",
        "\n",
        "\n",
        "\n",
        "\n",
        "**URL**: **https://leetcode.com/problems/maximum-profit-in-job-scheduling/**"
      ],
      "metadata": {
        "id": "tinlxbPKBXaT"
      }
    },
    {
      "cell_type": "code",
      "source": [
        "class Solution:\n",
        "  def jobScheduling(self, startTime: List[int], endTime: List[int], profit: List[int]) -> int:\n",
        "    jobs = sorted([(s, e, p) for s, e, p in zip(startTime, endTime, profit)])\n",
        "\n",
        "    # Will use binary search to find the first available startTime\n",
        "    for i in range(len(startTime)):\n",
        "      startTime[i] = jobs[i][0]\n",
        "\n",
        "    # dp(i) := max profit to schedule jobs[i:]\n",
        "    @functools.lru_cache(None)\n",
        "    def dp(i: int) -> int:\n",
        "      if i == len(startTime):\n",
        "        return 0\n",
        "\n",
        "      j = bisect_left(startTime, jobs[i][1])\n",
        "      return max(jobs[i][2] + dp(j), dp(i + 1))\n",
        "\n",
        "    return dp(0)\n"
      ],
      "metadata": {
        "id": "fGhG8aHDOnyx"
      },
      "execution_count": null,
      "outputs": []
    },
    {
      "cell_type": "code",
      "source": [],
      "metadata": {
        "id": "Fk515pnmOn3C"
      },
      "execution_count": null,
      "outputs": []
    },
    {
      "cell_type": "markdown",
      "source": [
        "**28th-November-2022**\n",
        "\n",
        "\n",
        "**Leetcode 446**: **Arithmetic Slices II - Subsequence**\n",
        "\n",
        "**Problem**:Given an integer array nums, return the number of all the arithmetic subsequences of nums.\n",
        "\n",
        "A sequence of numbers is called arithmetic if it consists of at least three elements and if the difference between any two consecutive elements is the same.\n",
        "\n",
        "For example, [1, 3, 5, 7, 9], [7, 7, 7, 7], and [3, -1, -5, -9] are arithmetic sequences.\n",
        "\n",
        "For example, [1, 1, 2, 5, 7] is not an arithmetic sequence.\n",
        "\n",
        "A subsequence of an array is a sequence that can be formed by removing some elements (possibly none) of the array.\n",
        "\n",
        "For example, [2,5,10] is a subsequence of [1,2,1,2,4,1,5,10].\n",
        "\n",
        "The test cases are generated so that the answer fits in 32-bit integer.\n",
        "\n",
        "\n",
        "**URL**: **https://leetcode.com/problems/arithmetic-slices-ii-subsequence/**"
      ],
      "metadata": {
        "id": "eX_vj5F440CK"
      }
    },
    {
      "cell_type": "code",
      "source": [
        "class Solution:\n",
        "    def numberOfArithmeticSlices(self, A):\n",
        "        dp, res = collections.defaultdict(dict), 0\n",
        "        for j in range(len(A)):\n",
        "            for i in range(j):\n",
        "                dp[j][A[j] - A[i]] = dp[j].get(A[j] - A[i], 0) + dp[i].get(A[j] - A[i], 1)\n",
        "                if A[j] - A[i] in dp[i]: res, dp[j][A[j] - A[i]] = res + dp[i][A[j] - A[i]], dp[j][A[j] - A[i]] + 1\n",
        "        return res"
      ],
      "metadata": {
        "id": "iY16GLLUOn-2"
      },
      "execution_count": null,
      "outputs": []
    },
    {
      "cell_type": "code",
      "source": [],
      "metadata": {
        "id": "hm5VOfcQOoCj"
      },
      "execution_count": null,
      "outputs": []
    },
    {
      "cell_type": "markdown",
      "source": [
        "**29th-November-2022**\n",
        "\n",
        "\n",
        "**Leetcode 2225**: **Find Players With Zero Or One Losses**\n",
        "\n",
        "**Problem**:You are given an integer array matches where matches[i] = [winneri, loseri] indicates that the player winneri defeated player loseri in a match.\n",
        "\n",
        "Return a list answer of size 2 where:\n",
        "\n",
        "answer[0] is a list of all players that have not lost any matches.\n",
        "\n",
        "answer[1] is a list of all players that have lost exactly one match.\n",
        "\n",
        "The values in the two lists should be returned in increasing order.\n",
        "\n",
        "Note:\n",
        "\n",
        "You should only consider the players that have played at least one match.\n",
        "The testcases will be generated such that no two matches will have the same outcome.\n",
        "\n",
        "\n",
        "**URL**: **https://leetcode.com/problems/find-players-with-zero-or-one-losses/**"
      ],
      "metadata": {
        "id": "GBnV_9NxylbB"
      }
    },
    {
      "cell_type": "code",
      "source": [
        "class Solution:\n",
        "  def findWinners(self, matches: List[List[int]]) -> List[List[int]]:\n",
        "    ans = [[] for _ in range(2)]\n",
        "    lossesCount = Counter()\n",
        "\n",
        "    for winner, loser in matches:\n",
        "      if winner not in lossesCount:\n",
        "        lossesCount[winner] = 0\n",
        "      lossesCount[loser] += 1\n",
        "\n",
        "    for player, nLosses in lossesCount.items():\n",
        "      if nLosses < 2:\n",
        "        ans[nLosses].append(player)\n",
        "\n",
        "    return [sorted(ans[0]), sorted(ans[1])]"
      ],
      "metadata": {
        "id": "XoV_cZPxOoGi"
      },
      "execution_count": null,
      "outputs": []
    },
    {
      "cell_type": "code",
      "source": [],
      "metadata": {
        "id": "CW0tIiuaOoKf"
      },
      "execution_count": null,
      "outputs": []
    },
    {
      "cell_type": "markdown",
      "source": [
        "**30th-November-2022**\n",
        "\n",
        "\n",
        "**Leetcode 2225**: **Insert Delete GetRandom O(1)**\n",
        "\n",
        "**Problem**:Implement the RandomizedSet class:\n",
        "\n",
        "RandomizedSet() Initializes the RandomizedSet object.\n",
        "\n",
        "bool insert(int val) Inserts an item val into the set if not present.\n",
        "\n",
        "Returns true if the item was not present, false otherwise.\n",
        "\n",
        "bool remove(int val) Removes an item val from the set if present.\n",
        "\n",
        "Returns true if the item was present, false otherwise.\n",
        "\n",
        "int getRandom() Returns a random element from the current set of elements (it's guaranteed that at least one element exists when this method is called). Each element must have the same probability of being returned.\n",
        "\n",
        "You must implement the functions of the class such that each function works in average O(1) time complexity.\n",
        "\n",
        "\n",
        "**URL**: **https://leetcode.com/problems/insert-delete-getrandom-o1/**"
      ],
      "metadata": {
        "id": "vfPatyCKNlso"
      }
    },
    {
      "cell_type": "code",
      "source": [
        "class RandomizedSet:\n",
        "\n",
        "    def __init__(self):\n",
        "        \"\"\"\n",
        "        Initialize your data structure here.\n",
        "        \"\"\"\n",
        "        self.nums, self.ind = [], {}\n",
        "    def insert(self, val):\n",
        "        \"\"\"\n",
        "        Inserts a value to the set. Returns true if the set did not already contain the specified element.\n",
        "        :type val: int\n",
        "        :rtype: bool\n",
        "        \"\"\"\n",
        "        if val not in self.ind:\n",
        "            self.nums += val,\n",
        "            self.ind[val] = len(self.nums) - 1\n",
        "            return True\n",
        "        return False\n",
        "\n",
        "    def remove(self, val):\n",
        "        \"\"\"\n",
        "        Removes a value from the set. Returns true if the set contained the specified element.\n",
        "        :type val: int\n",
        "        :rtype: bool\n",
        "        \"\"\"\n",
        "        if val in self.ind:\n",
        "            ind, last = self.ind[val], self.nums[-1]\n",
        "            self.nums[ind], self.ind[last] = last, ind\n",
        "            self.nums.pop()\n",
        "            self.ind.pop(val)\n",
        "            return True\n",
        "        return False\n",
        "\n",
        "    def getRandom(self):\n",
        "        \"\"\"\n",
        "        Get a random element from the set.\n",
        "        :rtype: int\n",
        "        \"\"\"\n",
        "        return random.choice(self.nums)\n",
        "\n",
        "# Your RandomizedSet object will be instantiated and called as such:\n",
        "# obj = RandomizedSet()\n",
        "# param_1 = obj.insert(val)\n",
        "# param_2 = obj.remove(val)\n",
        "# param_3 = obj.getRandom()"
      ],
      "metadata": {
        "id": "uSvyuWQ0OoOO"
      },
      "execution_count": null,
      "outputs": []
    },
    {
      "cell_type": "code",
      "source": [],
      "metadata": {
        "id": "uvQodVioOoR-"
      },
      "execution_count": null,
      "outputs": []
    },
    {
      "cell_type": "markdown",
      "source": [
        "**01st-December-2022**\n",
        "\n",
        "\n",
        "**Leetcode 1207**: **Unique Number Of Occurrences**\n",
        "\n",
        "**Problem**:Given an array of integers arr, return true if the number of occurrences of each value in the array is unique, or false otherwise.\n",
        "\n",
        "\n",
        "**URL**: **https://leetcode.com/problems/unique-number-of-occurrences/**"
      ],
      "metadata": {
        "id": "zHaLzOEIbV-N"
      }
    },
    {
      "cell_type": "code",
      "source": [
        "class Solution:\n",
        "  def uniqueOccurrences(self, arr: List[int]) -> bool:\n",
        "    count = Counter(arr)\n",
        "    occurrences = set()\n",
        "\n",
        "    for value in count.values():\n",
        "      if value in occurrences:\n",
        "        return False\n",
        "      occurrences.add(value)\n",
        "\n",
        "    return True\n"
      ],
      "metadata": {
        "id": "UtS335NmOoWM"
      },
      "execution_count": null,
      "outputs": []
    },
    {
      "cell_type": "markdown",
      "source": [
        "**OR**"
      ],
      "metadata": {
        "id": "KjJAyDqPcOyl"
      }
    },
    {
      "cell_type": "code",
      "source": [
        "from collections import Counter as cnt\n",
        "class Solution:\n",
        "    def uniqueOccurrences(self, arr: List[int]) -> bool:\n",
        "        return all(v == 1 for v in cnt(cnt(arr).values()).values())"
      ],
      "metadata": {
        "id": "thfH7UlnOoZp"
      },
      "execution_count": null,
      "outputs": []
    },
    {
      "cell_type": "code",
      "source": [],
      "metadata": {
        "id": "gAex4QYuOodW"
      },
      "execution_count": null,
      "outputs": []
    },
    {
      "cell_type": "markdown",
      "source": [
        "**2nd-December-2022**\n",
        "\n",
        "\n",
        "**Leetcode 1704**: **Determine If String Halves Are Alike**\n",
        "\n",
        "**Problem**:You are given a string s of even length. Split this string into two halves of equal lengths, and let a be the first half and b be the second half.\n",
        "\n",
        "Two strings are alike if they have the same number of vowels ('a', 'e', 'i', 'o', 'u', 'A', 'E', 'I', 'O', 'U'). Notice that s contains uppercase and lowercase letters.\n",
        "\n",
        "Return true if a and b are alike. Otherwise, return false.\n",
        "\n",
        "\n",
        "\n",
        "**URL**: **https://leetcode.com/problems/determine-if-string-halves-are-alike/**"
      ],
      "metadata": {
        "id": "lLKYvU8DctuT"
      }
    },
    {
      "cell_type": "code",
      "source": [
        "class Solution:\n",
        "    def halvesAreAlike(self, s: str) -> bool:\n",
        "        vowels = set(('a', 'e', 'i', 'o', 'u', 'A', 'E', 'I', 'O', 'U'))\n",
        "        first_half, second_half = 0, 0\n",
        "        for i in range(len(s)//2):\n",
        "            if s[i] in vowels:\n",
        "                first_half += 1\n",
        "        for i in range(len(s)//2, len(s)):\n",
        "            if s[i] in vowels:\n",
        "                second_half += 1\n",
        "        return first_half == second_half"
      ],
      "metadata": {
        "id": "hnbamedHOohW"
      },
      "execution_count": null,
      "outputs": []
    },
    {
      "cell_type": "code",
      "source": [],
      "metadata": {
        "id": "VMDjS9g4Ook_"
      },
      "execution_count": null,
      "outputs": []
    },
    {
      "cell_type": "markdown",
      "source": [
        "**3rd-December-2022**\n",
        "\n",
        "\n",
        "**Leetcode 1657**: **Determine If Two Strings Are Close**\n",
        "\n",
        "**Problem**: Two strings are considered close if you can attain one from the other using the following operations:\n",
        "\n",
        "Operation 1: Swap any two existing characters.\n",
        "\n",
        "For example, abcde -> aecdb\n",
        "\n",
        "Operation 2: Transform every occurrence of one existing character into another existing character, and do the same with the other character.\n",
        "\n",
        "For example, aacabb -> bbcbaa (all a's turn into b's, and all b's turn into a's)\n",
        "You can use the operations on either string as many times as necessary.\n",
        "\n",
        "Given two strings, word1 and word2, return true if word1 and word2 are close, and false otherwise.\n",
        "\n",
        "\n",
        "**URL**: **https://leetcode.com/problems/determine-if-two-strings-are-close/**"
      ],
      "metadata": {
        "id": "SsI7qdhaxJBc"
      }
    },
    {
      "cell_type": "code",
      "source": [
        "class Solution:\n",
        "  def closeStrings(self, word1: str, word2: str) -> bool:\n",
        "    if len(word1) != len(word2):\n",
        "      return False\n",
        "\n",
        "    count1 = Counter(word1)\n",
        "    count2 = Counter(word2)\n",
        "\n",
        "    if count1.keys() != count2.keys():\n",
        "      return False\n",
        "\n",
        "    return sorted(count1.values()) == sorted(count2.values())"
      ],
      "metadata": {
        "id": "tcWv9LtMOoo5"
      },
      "execution_count": null,
      "outputs": []
    },
    {
      "cell_type": "code",
      "source": [],
      "metadata": {
        "id": "F1kQ2XVeOosc"
      },
      "execution_count": null,
      "outputs": []
    },
    {
      "cell_type": "markdown",
      "source": [
        "**4th-December-2022**\n",
        "\n",
        "\n",
        "**Leetcode 451**: **Sort Characters By Frequency**\n",
        "\n",
        "**Problem**: Given a string s, sort it in decreasing order based on the frequency of the characters. The frequency of a character is the number of times it appears in the string.\n",
        "\n",
        "Return the sorted string. If there are multiple answers, return any of them.\n",
        "\n",
        "\n",
        "\n",
        "\n",
        "**URL**: **https://leetcode.com/problems/sort-characters-by-frequency/**"
      ],
      "metadata": {
        "id": "OZccwiXJ1yBT"
      }
    },
    {
      "cell_type": "code",
      "source": [
        "class Solution:\n",
        "    def frequencySort(self, s: str) -> str:\n",
        "        sums = collections.Counter(s)\n",
        "        results = ''\n",
        "        for i, j in sorted(sums.items(), key = lambda x: -sums[x[0]]):\n",
        "            results += i * j\n",
        "            print(results)\n",
        "        return results"
      ],
      "metadata": {
        "id": "d3peNteNOowk"
      },
      "execution_count": null,
      "outputs": []
    },
    {
      "cell_type": "code",
      "source": [],
      "metadata": {
        "id": "tIjDuELFOo0R"
      },
      "execution_count": null,
      "outputs": []
    },
    {
      "cell_type": "markdown",
      "source": [
        "**5th-December-2022**\n",
        "\n",
        "\n",
        "**Leetcode 2256**: **Minimum Average Differences**\n",
        "\n",
        "**Problem**:You are given a 0-indexed integer array nums of length n.\n",
        "\n",
        "The average difference of the index i is the absolute difference between the average of the first i + 1 elements of nums and the average of the last n - i - 1 elements. Both averages should be rounded down to the nearest integer.\n",
        "\n",
        "Return the index with the minimum average difference. If there are multiple such indices, return the smallest one.\n",
        "\n",
        "Note:\n",
        "\n",
        "The absolute difference of two numbers is the absolute value of their difference.\n",
        "\n",
        "The average of n elements is the sum of the n elements divided (integer division) by n.\n",
        "\n",
        "The average of 0 elements is considered to be 0.\n",
        "\n",
        "\n",
        "\n",
        "\n",
        "\n",
        "\n",
        "**URL**: **https://leetcode.com/problems/minimum-average-difference/**"
      ],
      "metadata": {
        "id": "TuDpXVHZYTkT"
      }
    },
    {
      "cell_type": "code",
      "source": [
        "class Solution:\n",
        "  def minimumAverageDifference(self, nums: List[int]) -> int:\n",
        "    n = len(nums)\n",
        "    ans = 0\n",
        "    minDiff = inf\n",
        "    prefix = 0\n",
        "    suffix = sum(nums)\n",
        "\n",
        "    for i, num in enumerate(nums):\n",
        "      prefix += num\n",
        "      suffix -= num\n",
        "      prefixAvg = prefix // (i + 1)\n",
        "      suffixAvg = 0 if i == n - 1 else suffix // (n - i - 1)\n",
        "      diff = abs(prefixAvg - suffixAvg)\n",
        "      if diff < minDiff:\n",
        "        ans = i\n",
        "        minDiff = diff\n",
        "\n",
        "    return ans\n",
        "\n"
      ],
      "metadata": {
        "id": "dd_YgYbGOo4Q"
      },
      "execution_count": null,
      "outputs": []
    },
    {
      "cell_type": "code",
      "source": [],
      "metadata": {
        "id": "8c3CmuuROo8O"
      },
      "execution_count": null,
      "outputs": []
    },
    {
      "cell_type": "markdown",
      "source": [
        "**6th-December-2022**\n",
        "\n",
        "\n",
        "**Leetcode 876**: **Middle Of The Linked List**\n",
        "\n",
        "**Problem**:Given the head of a singly linked list, return the middle node of the linked list.\n",
        "\n",
        "If there are two middle nodes, return the second middle node.\n",
        "\n",
        "**URL**: **https://leetcode.com/problems/middle-of-the-linked-list/**"
      ],
      "metadata": {
        "id": "OD-CN5e49lcQ"
      }
    },
    {
      "cell_type": "code",
      "source": [
        "# Definition for singly-linked list.\n",
        "# class ListNode:\n",
        "#     def __init__(self, val=0, next=None):\n",
        "#         self.val = val\n",
        "#         self.next = next\n",
        "class Solution:\n",
        "    def middleNode(self, head: Optional[ListNode]) -> Optional[ListNode]:\n",
        "        init = head\n",
        "        final = head\n",
        "        while final and final.next:\n",
        "            init = init.next\n",
        "            final = final.next.next\n",
        "        return init"
      ],
      "metadata": {
        "id": "ycH00mYiOo_0"
      },
      "execution_count": null,
      "outputs": []
    },
    {
      "cell_type": "code",
      "source": [],
      "metadata": {
        "id": "isjW4FWsqq7D"
      },
      "execution_count": null,
      "outputs": []
    },
    {
      "cell_type": "markdown",
      "source": [
        "**7th-December-2022**\n",
        "\n",
        "\n",
        "**Leetcode 328**: **Odd Even Linked List**\n",
        "\n",
        "**Problem**:Given the head of a singly linked list, group all the nodes with odd indices together followed by the nodes with even indices, and return the reordered list.\n",
        "\n",
        "The first node is considered odd, and the second node is even, and so on.\n",
        "\n",
        "Note that the relative order inside both the even and odd groups should remain as it was in the input.\n",
        "\n",
        "You must solve the problem in O(1) extra space complexity and O(n) time complexity.\n",
        "\n",
        "**URL**: **https://leetcode.com/problems/odd-even-linked-list/**"
      ],
      "metadata": {
        "id": "UqD92FLItcVD"
      }
    },
    {
      "cell_type": "code",
      "source": [
        "# Definition for singly-linked list.\n",
        "# class ListNode:\n",
        "#     def __init__(self, val=0, next=None):\n",
        "#         self.val = val\n",
        "#         self.next = next\n",
        "class Solution:\n",
        "  def oddEvenList(self, head: ListNode) -> ListNode:\n",
        "    oddHead = ListNode(0)\n",
        "    evenHead = ListNode(0)\n",
        "    odd = oddHead\n",
        "    even = evenHead\n",
        "    isOdd = True\n",
        "\n",
        "    while head:\n",
        "      if isOdd:\n",
        "        odd.next = head\n",
        "        odd = head\n",
        "      else:\n",
        "        even.next = head\n",
        "        even = head\n",
        "      head = head.next\n",
        "      isOdd = not isOdd\n",
        "\n",
        "    even.next = None\n",
        "    odd.next = evenHead.next\n",
        "    return oddHead.next"
      ],
      "metadata": {
        "id": "57Me10rhqq-7"
      },
      "execution_count": null,
      "outputs": []
    },
    {
      "cell_type": "code",
      "source": [],
      "metadata": {
        "id": "T0JLNUGdJvg-"
      },
      "execution_count": null,
      "outputs": []
    },
    {
      "cell_type": "markdown",
      "source": [
        "**8th-December-2022**\n",
        "\n",
        "\n",
        "**Leetcode 938**: **Range Sum Of BST**\n",
        "\n",
        "**Problem**:GGiven the root node of a binary search tree and two integers low and high, return the sum of values of all nodes with a value in the inclusive range [low, high].\n",
        "\n",
        "**URL**: **https://leetcode.com/problems/range-sum-of-bst/**"
      ],
      "metadata": {
        "id": "AL5IabgViLaC"
      }
    },
    {
      "cell_type": "code",
      "source": [
        "# Definition for a binary tree node.\n",
        "# class TreeNode:\n",
        "#     def __init__(self, val=0, left=None, right=None):\n",
        "#         self.val = val\n",
        "#         self.left = left\n",
        "#         self.right = right\n",
        "class Solution:\n",
        "    def rangeSumBST(self, root: Optional[TreeNode], low: int, high: int) -> int:\n",
        "        if not root:\n",
        "            return 0\n",
        "        l = self.rangeSumBST(root.left, low,high)\n",
        "        h = self.rangeSumBST(root.right, low, high)\n",
        "        return l + h + (low <= root.val <= high) * root.val\n",
        "\n"
      ],
      "metadata": {
        "id": "_ZZQB-9IJvk2"
      },
      "execution_count": null,
      "outputs": []
    },
    {
      "cell_type": "code",
      "source": [],
      "metadata": {
        "id": "XzMOui22Jvof"
      },
      "execution_count": null,
      "outputs": []
    },
    {
      "cell_type": "markdown",
      "source": [
        "**9th-December-2022**\n",
        "\n",
        "\n",
        "**Leetcode 872**: **Leaf-Similar Tree**\n",
        "\n",
        "**Problem**:Consider all the leaves of a binary tree, from left to right order, the values of those leaves form a leaf value sequence.\n",
        "\n",
        "\n",
        "\n",
        "For example, in the given tree above, the leaf value sequence is (6, 7, 4, 9, 8).\n",
        "\n",
        "Two binary trees are considered leaf-similar if their leaf value sequence is the same.\n",
        "\n",
        "Return true if and only if the two given trees with head nodes root1 and root2 are leaf-similar.\n",
        "\n",
        "**URL**: **https://leetcode.com/problems/leaf-similar-trees/**"
      ],
      "metadata": {
        "id": "1rpjIe3XjhHr"
      }
    },
    {
      "cell_type": "code",
      "source": [
        "# Definition for a binary tree node.\n",
        "# class TreeNode:\n",
        "#     def __init__(self, val=0, left=None, right=None):\n",
        "#         self.val = val\n",
        "#         self.left = left\n",
        "#         self.right = right\n",
        "class Solution:\n",
        "    def leafSimilar(self, root1: Optional[TreeNode], root2: Optional[TreeNode]) -> bool:\n",
        "         def dfs(node, arr):\n",
        "            if node:\n",
        "                if not node.left and not node.right: arr += [node.val]\n",
        "                dfs(node.left, arr)\n",
        "                dfs(node.right, arr)\n",
        "                return arr\n",
        "         return dfs(root1, []) == dfs(root2, [])\n"
      ],
      "metadata": {
        "id": "PmwPTz7uJvsR"
      },
      "execution_count": null,
      "outputs": []
    },
    {
      "cell_type": "code",
      "source": [],
      "metadata": {
        "id": "ZThtmKIeJvv4"
      },
      "execution_count": null,
      "outputs": []
    },
    {
      "cell_type": "markdown",
      "source": [
        "**10th-December-2022**\n",
        "\n",
        "\n",
        "**Leetcode 1026**: **Maximum Difference Between Node & Ancestor**\n",
        "\n",
        "**Problem**:Given the root of a binary tree, find the maximum value v for which there exist different nodes a and b where v = |a.val - b.val| and a is an ancestor of b.\n",
        "\n",
        "A node a is an ancestor of b if either: any child of a is equal to b or any child of a is an ancestor of b.\n",
        "\n",
        "**URL**: **https://leetcode.com/problems/maximum-difference-between-node-and-ancestor/**"
      ],
      "metadata": {
        "id": "73hoKbU1GujZ"
      }
    },
    {
      "cell_type": "code",
      "source": [
        "class Solution:\n",
        "    def maxAncestorDiff(self, root: TreeNode) -> int:\n",
        "        self.res = 0\n",
        "        def dfs(node):\n",
        "            mx = mn = node.val\n",
        "            if node.left:\n",
        "                lMn, lMx = dfs(node.left)\n",
        "                mx = max(mx, lMx)\n",
        "                mn = min(mn, lMn)\n",
        "                self.res = max(self.res, abs(lMn - node.val), abs(lMx - node.val))\n",
        "            if node.right:\n",
        "                rMn, rMx = dfs(node.right)\n",
        "                mx = max(mx, rMx)\n",
        "                mn = min(mn, rMn)\n",
        "                self.res = max(self.res, abs(rMn - node.val), abs(rMx - node.val))\n",
        "            return mn, mx\n",
        "        dfs(root)\n",
        "        return self.res"
      ],
      "metadata": {
        "id": "1dmDozLgJvzh"
      },
      "execution_count": null,
      "outputs": []
    },
    {
      "cell_type": "code",
      "source": [],
      "metadata": {
        "id": "qB5TGYYGJv20"
      },
      "execution_count": null,
      "outputs": []
    },
    {
      "cell_type": "markdown",
      "source": [
        "**11th-December-2022**\n",
        "\n",
        "\n",
        "**Leetcode 1339**: **Maximum Product Of Splitted Binary Tree**\n",
        "\n",
        "**Problem**:Given the root of a binary tree, split the binary tree into two subtrees by removing one edge such that the product of the sums of the subtrees is maximized.\n",
        "\n",
        "Return the maximum product of the sums of the two subtrees. Since the answer may be too large, return it modulo 109 + 7.\n",
        "\n",
        "Note that you need to maximize the answer before taking the mod and not after taking it.\n",
        "\n",
        "\n",
        "**URL**: **https://leetcode.com/problems/maximum-product-of-splitted-binary-tree/**"
      ],
      "metadata": {
        "id": "yo9hjhHLeGVQ"
      }
    },
    {
      "cell_type": "code",
      "source": [
        "# Definition for a binary tree node.\n",
        "# class TreeNode:\n",
        "#     def __init__(self, val=0, left=None, right=None):\n",
        "#         self.val = val\n",
        "#         self.left = left\n",
        "#         self.right = right\n",
        "class Solution:\n",
        "    def maxProduct(self, root: TreeNode) -> int:\n",
        "        def makesums(node):\n",
        "            if not node:\n",
        "                return 0\n",
        "            node.summ = node.val + makesums(node.left) + makesums(node.right)\n",
        "            return node.summ\n",
        "\n",
        "        def findmaxprod(node, summ):\n",
        "            maxi = 0\n",
        "            while node:\n",
        "                sum_left = node.left.summ if node.left else 0\n",
        "                sum_right = node.right.summ if node.right else 0\n",
        "                if sum_left > sum_right:\n",
        "                    node, sums = node.left, sum_left\n",
        "                else:\n",
        "                    node, sums = node.right, sum_right\n",
        "                nmaxi= sums * (summ - sums)\n",
        "                if nmaxi > maxi:\n",
        "                    maxi = nmaxi\n",
        "                else:\n",
        "                    return maxi\n",
        "\n",
        "        summ = makesums(root)\n",
        "        return findmaxprod(root, summ) % (10 ** 9 + 7)"
      ],
      "metadata": {
        "id": "K1ahqyQzJv6E"
      },
      "execution_count": null,
      "outputs": []
    },
    {
      "cell_type": "code",
      "source": [],
      "metadata": {
        "id": "bnuz-zXRJv9L"
      },
      "execution_count": null,
      "outputs": []
    },
    {
      "cell_type": "markdown",
      "source": [
        "**12th-December-2022**\n",
        "\n",
        "\n",
        "**Leetcode 124**: **Binary Tree Maximum Path Sum**\n",
        "\n",
        "**Problem**:A path in a binary tree is a sequence of nodes where each pair of adjacent nodes in the sequence has an edge connecting them. A node can only appear in the sequence at most once. Note that the path does not need to pass through the root.\n",
        "\n",
        "The path sum of a path is the sum of the node's values in the path.\n",
        "\n",
        "Given the root of a binary tree, return the maximum path sum of any non-empty path.\n",
        "\n",
        "**URL**: **https://leetcode.com/problems/binary-tree-maximum-path-sum/**"
      ],
      "metadata": {
        "id": "xGu9lo-uMVzi"
      }
    },
    {
      "cell_type": "code",
      "source": [
        "# Definition for a binary tree node.\n",
        "# class TreeNode:\n",
        "#     def __init__(self, val=0, left=None, right=None):\n",
        "#         self.val = val\n",
        "#         self.left = left\n",
        "#         self.right = right\n",
        "class Solution:\n",
        "  def maxPathSum(self, root: Optional[TreeNode]) -> int:\n",
        "    res = -math.inf\n",
        "\n",
        "    def maxPathSumDownFrom(root: Optional[TreeNode]) -> int:\n",
        "      nonlocal res\n",
        "      if not root:\n",
        "        return 0\n",
        "\n",
        "      left = max(0, maxPathSumDownFrom(root.left))\n",
        "      right = max(0, maxPathSumDownFrom(root.right))\n",
        "      res = max(res, root.val + left + right)\n",
        "      return root.val + max(left, right)\n",
        "\n",
        "    maxPathSumDownFrom(root)\n",
        "    return res\n"
      ],
      "metadata": {
        "id": "QWj6JC3CJwAT"
      },
      "execution_count": null,
      "outputs": []
    },
    {
      "cell_type": "code",
      "source": [],
      "metadata": {
        "id": "aQFHxwx7JwEG"
      },
      "execution_count": null,
      "outputs": []
    },
    {
      "cell_type": "markdown",
      "source": [
        "**13th-December-2022**\n",
        "\n",
        "\n",
        "**Leetcode 70**: **Climbing Stairs**\n",
        "\n",
        "**Problem**:You are climbing a staircase. It takes n steps to reach the top.\n",
        "\n",
        "Each time you can either climb 1 or 2 steps. In how many distinct ways can you climb to the top?\n",
        "\n",
        "\n",
        "\n",
        "**URL**: **https://leetcode.com/problems/climbing-stairs/**"
      ],
      "metadata": {
        "id": "nnF0hdOnOIz6"
      }
    },
    {
      "cell_type": "code",
      "source": [
        "class Solution:\n",
        "    def climbStairs(self, n: int) -> int:\n",
        "        if n <= 3:\n",
        "            return n\n",
        "        n1, n2 = 2, 3\n",
        "\n",
        "        for i in range(4, n + 1):\n",
        "            temp = n1 + n2\n",
        "            n1 = n2\n",
        "            n2 = temp\n",
        "        return n2"
      ],
      "metadata": {
        "id": "S_xa8zE-JwHn"
      },
      "execution_count": null,
      "outputs": []
    },
    {
      "cell_type": "code",
      "source": [],
      "metadata": {
        "id": "bXvzxmYWJwKx"
      },
      "execution_count": null,
      "outputs": []
    },
    {
      "cell_type": "markdown",
      "source": [
        "**14th-December-2022**\n",
        "\n",
        "\n",
        "**Leetcode 931**: **Minimum Falling Path Sum**\n",
        "\n",
        "**Problem**:Given an n x n array of integers matrix, return the minimum sum of any falling path through matrix.\n",
        "\n",
        "A falling path starts at any element in the first row and chooses the element in the next row that is either directly below or diagonally left/right. Specifically, the next element from position (row, col) will be (row + 1, col - 1), (row + 1, col), or (row + 1, col + 1).\n",
        "\n",
        "**URL**: **https://leetcode.com/problems/minimum-falling-path-sum/**"
      ],
      "metadata": {
        "id": "EQEK409lGdIB"
      }
    },
    {
      "cell_type": "code",
      "source": [
        "class Solution:\n",
        "    def minFallingPathSum(self, matrix: List[List[int]]) -> int:\n",
        "        n = len(matrix)\n",
        "\n",
        "        for i in range(1, n):\n",
        "            for j in range(n):\n",
        "                mini = math.inf\n",
        "                for k in range(max(0, j - 1), min(n, j + 2)):\n",
        "                    mini = min(mini, matrix[i - 1][k])\n",
        "                matrix[i][j] += mini\n",
        "\n",
        "        return min(matrix[-1])"
      ],
      "metadata": {
        "id": "nADe1xgDJwOO"
      },
      "execution_count": null,
      "outputs": []
    },
    {
      "cell_type": "code",
      "source": [],
      "metadata": {
        "id": "_qEmBLUyJwR3"
      },
      "execution_count": null,
      "outputs": []
    },
    {
      "cell_type": "markdown",
      "source": [
        "**15th-December-2022**\n",
        "\n",
        "\n",
        "**Leetcode 198**: **House Robber**\n",
        "\n",
        "**Problem**:You are a professional robber planning to rob houses along a street. Each house has a certain amount of money stashed, the only constraint stopping you from robbing each of them is that adjacent houses have security systems connected and it will automatically contact the police if two adjacent houses were broken into on the same night.\n",
        "\n",
        "Given an integer array nums representing the amount of money of each house, return the maximum amount of money you can rob tonight without alerting the police.\n",
        "\n",
        "\n",
        "**URL**: **https://leetcode.com/problems/house-robber/**"
      ],
      "metadata": {
        "id": "knnbQW7fKo3O"
      }
    },
    {
      "cell_type": "code",
      "source": [
        "class Solution:\n",
        "  def rob(self, nums: List[int]) -> int:\n",
        "    if not nums:\n",
        "      return 0\n",
        "    if len(nums) == 1:\n",
        "      return nums[0]\n",
        "\n",
        "    # dp[i]: = max money of robbing nums[0..i]\n",
        "    dp = [0] * len(nums)\n",
        "    dp[0] = nums[0]\n",
        "    dp[1] = max(nums[0], nums[1])\n",
        "\n",
        "    for i in range(2, len(nums)):\n",
        "      dp[i] = max(dp[i - 1], dp[i - 2] + nums[i])\n",
        "\n",
        "    return dp[-1]\n"
      ],
      "metadata": {
        "id": "KBHNmx2fJwVY"
      },
      "execution_count": null,
      "outputs": []
    },
    {
      "cell_type": "code",
      "source": [],
      "metadata": {
        "id": "hw86NLjUNUnY"
      },
      "execution_count": null,
      "outputs": []
    },
    {
      "cell_type": "markdown",
      "source": [
        "**16th-December-2022**\n",
        "\n",
        "\n",
        "**Leetcode 1143**: **Longest Common Subsequence**\n",
        "\n",
        "**Problem**:Given two strings text1 and text2, return the length of their longest common subsequence. If there is no common subsequence, return 0.\n",
        "\n",
        "A subsequence of a string is a new string generated from the original string with some characters (can be none) deleted without changing the relative order of the remaining characters.\n",
        "\n",
        "For example, \"ace\" is a subsequence of \"abcde\".\n",
        "A common subsequence of two strings is a subsequence that is common to both strings.\n",
        "\n",
        "**URL**: **https://leetcode.com/problems/longest-common-subsequence/**"
      ],
      "metadata": {
        "id": "0V5orlA7Nbu_"
      }
    },
    {
      "cell_type": "code",
      "source": [
        "class Solution:\n",
        "    def longestCommonSubsequence(self, text1: str, text2: str) -> int:\n",
        "         m = len(text1)\n",
        "         n = len(text2)\n",
        "    # dp[i][j] := LCS's length of text1[0..i) and text2[0..j)\n",
        "         dp = [[0] * (n + 1) for _ in range(m + 1)]\n",
        "\n",
        "         for i in range(m):\n",
        "             for j in range(n):\n",
        "                 dp[i + 1][j + 1] = 1 + dp[i][j] if text1[i] == text2[j] \\\n",
        "             else max(dp[i][j + 1], dp[i + 1][j])\n",
        "\n",
        "         return dp[m][n]"
      ],
      "metadata": {
        "id": "SQXf8RMnNUqS"
      },
      "execution_count": null,
      "outputs": []
    },
    {
      "cell_type": "code",
      "source": [],
      "metadata": {
        "id": "rvsAJnK1NUtS"
      },
      "execution_count": null,
      "outputs": []
    },
    {
      "cell_type": "markdown",
      "source": [
        "**17th-December-2022**\n",
        "\n",
        "\n",
        "**Leetcode 232**: **Implement Queues Using Stacks**\n",
        "\n",
        "**Problem**:Implement a first in first out (FIFO) queue using only two stacks. The implemented queue should support all the functions of a normal queue (push, peek, pop, and empty).\n",
        "\n",
        "Implement the MyQueue class:\n",
        "\n",
        "void push(int x) Pushes element x to the back of the queue.\n",
        "\n",
        "int pop() Removes the element from the front of the queue and returns it.\n",
        "\n",
        "int peek() Returns the element at the front of the queue.\n",
        "\n",
        "boolean empty() Returns true if the queue is empty, false otherwise.\n",
        "\n",
        "Notes:\n",
        "\n",
        "You must use only standard operations of a stack, which means only push to top, peek/pop from top, size, and is empty operations are valid.\n",
        "Depending on your language, the stack may not be supported natively. You may simulate a stack using a list or deque (double-ended queue) as long as you use only a stack's standard operations.\n",
        "\n",
        "\n",
        "**URL**: **https://leetcode.com/problems/implement-queue-using-stacks/**"
      ],
      "metadata": {
        "id": "JFOBcMt2PTk7"
      }
    },
    {
      "cell_type": "code",
      "source": [
        "class MyQueue:\n",
        "\n",
        "    def __init__(self):\n",
        "        self.input = []\n",
        "        self.output = []\n",
        "\n",
        "    def push(self, x: int) -> None:\n",
        "            self.input.append(x)\n",
        "\n",
        "    def pop(self) -> int:\n",
        "        self.peek()\n",
        "        return self.output.pop()\n",
        "\n",
        "    def peek(self) -> int:\n",
        "        if not self.output:\n",
        "            while self.input:\n",
        "                self.output.append(self.input.pop())\n",
        "        return self.output[-1]\n",
        "\n",
        "\n",
        "    def empty(self) -> bool:\n",
        "            return not self.input and not self.output\n",
        "\n",
        "\n",
        "# Your MyQueue object will be instantiated and called as such:\n",
        "# obj = MyQueue()\n",
        "# obj.push(x)\n",
        "# param_2 = obj.pop()\n",
        "# param_3 = obj.peek()\n",
        "# param_4 = obj.empty()"
      ],
      "metadata": {
        "id": "Md7DBTrcNUwQ"
      },
      "execution_count": null,
      "outputs": []
    },
    {
      "cell_type": "code",
      "source": [],
      "metadata": {
        "id": "CsJcQLhzNUzi"
      },
      "execution_count": null,
      "outputs": []
    },
    {
      "cell_type": "markdown",
      "source": [
        "**18th-December-2022**\n",
        "\n",
        "\n",
        "**Leetcode 150**: **Evaluate Reverse Polish Notation**\n",
        "\n",
        "**Problem**:Evaluate the value of an arithmetic expression in Reverse Polish Notation.\n",
        "\n",
        "Valid operators are +, -, *, and /. Each operand may be an integer or another expression.\n",
        "\n",
        "Note that division between two integers should truncate toward zero.\n",
        "\n",
        "It is guaranteed that the given RPN expression is always valid. That means the expression would always evaluate to a result, and there will not be any division by zero operation.\n",
        "\n",
        "\n",
        "**URL**: **https://leetcode.com/problems/evaluate-reverse-polish-notation/**"
      ],
      "metadata": {
        "id": "MPpfJS6f6Agf"
      }
    },
    {
      "cell_type": "code",
      "source": [
        "class Solution:\n",
        "    def evalRPN(self, tokens: List[str]) -> int:\n",
        "        stack = []\n",
        "        operators = {\n",
        "        '+': lambda a, b: a + b,\n",
        "        '-': lambda a, b: a - b,\n",
        "        '*': lambda a, b: a * b,\n",
        "        '/': lambda a, b: int(a / b),\n",
        "    }\n",
        "\n",
        "        for token in tokens:\n",
        "            if token in operators:\n",
        "                b = stack.pop()\n",
        "                a = stack.pop()\n",
        "                stack.append(operators[token](a, b))\n",
        "            else:\n",
        "                stack.append(int(token))\n",
        "\n",
        "        return stack[0]"
      ],
      "metadata": {
        "id": "rlpV_8rWNU2q"
      },
      "execution_count": null,
      "outputs": []
    },
    {
      "cell_type": "code",
      "source": [],
      "metadata": {
        "id": "id6J2bsPNU6V"
      },
      "execution_count": null,
      "outputs": []
    },
    {
      "cell_type": "markdown",
      "source": [
        "**19th-December-2022**\n",
        "\n",
        "\n",
        "**Leetcode 739**: **Daily Temperatures**\n",
        "\n",
        "**Problem**:Given an array of integers temperatures represents the daily temperatures, return an array answer such that answer[i] is the number of days you have to wait after the ith day to get a warmer temperature. If there is no future day for which this is possible, keep answer[i] == 0 instead.\n",
        "\n",
        "\n",
        "\n",
        "\n",
        "\n",
        "\n",
        "**URL**: **https://leetcode.com/problems/daily-temperatures/**"
      ],
      "metadata": {
        "id": "CRaNvxSrOWh0"
      }
    },
    {
      "cell_type": "code",
      "source": [
        "class Solution:\n",
        "  def dailyTemperatures(self, temperatures: List[int]) -> List[int]:\n",
        "    ans = [0] * len(temperatures)\n",
        "    stack = []\n",
        "\n",
        "    for i, t in enumerate(temperatures):\n",
        "      while stack and t > temperatures[stack[-1]]:\n",
        "        index = stack.pop()\n",
        "        ans[index] = i - index\n",
        "      stack.append(i)\n",
        "\n",
        "    return ans\n"
      ],
      "metadata": {
        "id": "VXOZKgPHNU9J"
      },
      "execution_count": null,
      "outputs": []
    },
    {
      "cell_type": "code",
      "source": [],
      "metadata": {
        "id": "EnKeREuTNVAT"
      },
      "execution_count": null,
      "outputs": []
    },
    {
      "cell_type": "markdown",
      "source": [
        "**20th-December-2022**\n",
        "\n",
        "\n",
        "**Leetcode 1971**: **Find If Path Exists In A Graph**\n",
        "\n",
        "**Problem**:There is a bi-directional graph with n vertices, where each vertex is labeled from 0 to n - 1 (inclusive). The edges in the graph are represented as a 2D integer array edges, where each edges[i] = [ui, vi] denotes a bi-directional edge between vertex ui and vertex vi. Every vertex pair is connected by at most one edge, and no vertex has an edge to itself.\n",
        "\n",
        "You want to determine if there is a valid path that exists from vertex source to vertex destination.\n",
        "\n",
        "Given edges and the integers n, source, and destination, return true if there is a valid path from source to destination, or false otherwise.\n",
        "\n",
        "\n",
        "**URL**: **https://leetcode.com/problems/find-if-path-exists-in-graph/**"
      ],
      "metadata": {
        "id": "wZDB6h9wUuCN"
      }
    },
    {
      "cell_type": "code",
      "source": [
        "class Solution:\n",
        "    def validPath(self, n: int, edges: List[List[int]], start: int, end: int) -> bool:\n",
        "        neighbors = defaultdict(list)\n",
        "        for n1, n2 in edges:\n",
        "            neighbors[n1].append(n2)\n",
        "            neighbors[n2].append(n1)\n",
        "\n",
        "        def dfs(node, end, seen):\n",
        "            if node == end:\n",
        "                return True\n",
        "            if node in seen:\n",
        "                return False\n",
        "\n",
        "            seen.add(node)\n",
        "            for n in neighbors[node]:\n",
        "                if dfs(n, end, seen):\n",
        "                    return True\n",
        "\n",
        "            return False\n",
        "\n",
        "        seen = set()\n",
        "        return dfs(start, end, seen)"
      ],
      "metadata": {
        "id": "vBR86JExNVDb"
      },
      "execution_count": null,
      "outputs": []
    },
    {
      "cell_type": "code",
      "source": [],
      "metadata": {
        "id": "1R9kCOm7NVGz"
      },
      "execution_count": null,
      "outputs": []
    },
    {
      "cell_type": "markdown",
      "source": [
        "**21st-December-2022**\n",
        "\n",
        "\n",
        "**Leetcode 841**: **Keys And Rooms**\n",
        "\n",
        "**Problem**:There are n rooms labeled from 0 to n - 1 and all the rooms are locked except for room 0. Your goal is to visit all the rooms. However, you cannot enter a locked room without having its key.\n",
        "\n",
        "When you visit a room, you may find a set of distinct keys in it. Each key has a number on it, denoting which room it unlocks, and you can take all of them with you to unlock the other rooms.\n",
        "\n",
        "Given an array rooms where rooms[i] is the set of keys that you can obtain if you visited room i, return true if you can visit all the rooms, or false otherwise.\n",
        "\n",
        "\n",
        "\n",
        "\n",
        "**URL**: **https://leetcode.com/problems/keys-and-rooms/**"
      ],
      "metadata": {
        "id": "GJJVtkVLKSrx"
      }
    },
    {
      "cell_type": "code",
      "source": [
        "class Solution:\n",
        "  def canVisitAllRooms(self, rooms: List[List[int]]) -> bool:\n",
        "    seen = [False] * len(rooms)\n",
        "\n",
        "    def dfs(node: int) -> None:\n",
        "      seen[node] = True\n",
        "      for child in rooms[node]:\n",
        "        if not seen[child]:\n",
        "          dfs(child)\n",
        "\n",
        "    dfs(0)\n",
        "    return all(seen)\n"
      ],
      "metadata": {
        "id": "gCWWrzubNVKK"
      },
      "execution_count": null,
      "outputs": []
    },
    {
      "cell_type": "code",
      "source": [],
      "metadata": {
        "id": "KMQsAAjxNVN8"
      },
      "execution_count": null,
      "outputs": []
    },
    {
      "cell_type": "markdown",
      "source": [
        "**22nd-December-2022**\n",
        "\n",
        "\n",
        "**Leetcode 886**: **Possible Bipartition**\n",
        "\n",
        "**Problem**:We want to split a group of n people (labeled from 1 to n) into two groups of any size. Each person may dislike some other people, and they should not go into the same group.\n",
        "\n",
        "Given the integer n and the array dislikes where dislikes[i] = [ai, bi] indicates that the person labeled ai does not like the person labeled bi, return true if it is possible to split everyone into two groups in this way.\n",
        "\n",
        "\n",
        "**URL**: **https://leetcode.com/problems/possible-bipartition/**"
      ],
      "metadata": {
        "id": "0xObcWHD6VeC"
      }
    },
    {
      "cell_type": "code",
      "source": [
        "from enum import Enum\n",
        "\n",
        "\n",
        "class Color(Enum):\n",
        "  kWhite = 0\n",
        "  kRed = 1\n",
        "  kGreen = 2\n",
        "\n",
        "\n",
        "class Solution:\n",
        "  def possibleBipartition(self, n: int, dislikes: List[List[int]]) -> bool:\n",
        "    graph = [[] for _ in range(n + 1)]\n",
        "    colors = [Color.kWhite] * (n + 1)\n",
        "\n",
        "    for u, v in dislikes:\n",
        "      graph[u].append(v)\n",
        "      graph[v].append(u)\n",
        "\n",
        "    # Reduce to 785. Is Graph Bipartite?\n",
        "    def isValidColor(u: int, color: Color) -> bool:\n",
        "      # The painted color should be same as the `color`\n",
        "      if colors[u] != Color.kWhite:\n",
        "        return colors[u] == color\n",
        "\n",
        "      colors[u] = color  # Always paint w/ `color`\n",
        "\n",
        "      # All children should have valid colors\n",
        "      childrenColor = Color.kRed if colors[u] == Color.kGreen else Color.kGreen\n",
        "      return all(isValidColor(v, childrenColor) for v in graph[u])\n",
        "\n",
        "    return all(colors[i] != Color.kWhite or isValidColor(i, Color.kRed)\n",
        "               for i in range(1, n + 1))"
      ],
      "metadata": {
        "id": "vfUQ2IRFNVRf"
      },
      "execution_count": null,
      "outputs": []
    },
    {
      "cell_type": "code",
      "source": [],
      "metadata": {
        "id": "6elyVArwNVVA"
      },
      "execution_count": null,
      "outputs": []
    },
    {
      "cell_type": "markdown",
      "source": [
        "**23rd-December-2022**\n",
        "\n",
        "\n",
        "**Leetcode 834**: **Sum of Distance In Tree**\n",
        "\n",
        "**Problem**:There is an undirected connected tree with n nodes labeled from 0 to n - 1 and n - 1 edges.\n",
        "\n",
        "You are given the integer n and the array edges where edges[i] = [ai, bi] indicates that there is an edge between nodes ai and bi in the tree.\n",
        "\n",
        "Return an array answer of length n where answer[i] is the sum of the distances between the ith node in the tree and all other nodes.\n",
        "\n",
        "\n",
        "**URL**: **https://leetcode.com/problems/sum-of-distances-in-tree/**"
      ],
      "metadata": {
        "id": "VPV-U-rJ73Ts"
      }
    },
    {
      "cell_type": "code",
      "source": [
        "class Solution:\n",
        "    def sumOfDistancesInTree(self, n: int, edges: List[List[int]]) -> List[int]:\n",
        "        g = collections.defaultdict(list)\n",
        "        for u, v in edges:\n",
        "            g[u].append(v)\n",
        "            g[v].append(u)\n",
        "\n",
        "        d = {i:[1, 0] for i in range(n)}\n",
        "\n",
        "        def dfs(root, prev):\n",
        "            for nei in g[root]:\n",
        "                if nei != prev:\n",
        "                    dfs(nei, root)\n",
        "                    d[root][0] += d[nei][0]\n",
        "                    d[root][1] += (d[nei][0] + d[nei][1])\n",
        "\n",
        "        def dfs2(root, prev):\n",
        "            for nei in g[root]:\n",
        "                if nei != prev:\n",
        "                    d[nei][1] = d[root][1] - d[nei][0] + (n-d[nei][0])\n",
        "                    dfs2(nei, root)\n",
        "\n",
        "        dfs(0, -1)\n",
        "        dfs2(0, -1)\n",
        "        res = []\n",
        "        for key in d:\n",
        "            res.append(d[key][1])\n",
        "        return res"
      ],
      "metadata": {
        "id": "iogQPCYINVYI"
      },
      "execution_count": null,
      "outputs": []
    },
    {
      "cell_type": "code",
      "source": [],
      "metadata": {
        "id": "cp-SVl5qNVbX"
      },
      "execution_count": null,
      "outputs": []
    },
    {
      "cell_type": "markdown",
      "source": [
        "**24th-December-2022**\n",
        "\n",
        "\n",
        "**Leetcode 309**: **Best Time To Buy And Sell Stock With Cooldown**\n",
        "\n",
        "**Problem**:You are given an array prices where prices[i] is the price of a given stock on the ith day.\n",
        "\n",
        "Find the maximum profit you can achieve. You may complete as many transactions as you like (i.e., buy one and sell one share of the stock multiple times) with the following restrictions:\n",
        "\n",
        "After you sell your stock, you cannot buy stock on the next day (i.e., cooldown one day).\n",
        "Note: You may not engage in multiple transactions simultaneously (i.e., you must sell the stock before you buy again).\n",
        "\n",
        "**URL**: **https://leetcode.com/problems/best-time-to-buy-and-sell-stock-with-cooldown/**"
      ],
      "metadata": {
        "id": "DDMW7XLzykyV"
      }
    },
    {
      "cell_type": "code",
      "source": [
        "class Solution:\n",
        "  def maxProfit(self, prices: List[int]) -> int:\n",
        "    sell = 0\n",
        "    hold = -math.inf\n",
        "    prev = 0\n",
        "\n",
        "    for price in prices:\n",
        "      cache = sell\n",
        "      sell = max(sell, hold + price)\n",
        "      hold = max(hold, prev - price)\n",
        "      prev = cache\n",
        "\n",
        "    return sell"
      ],
      "metadata": {
        "id": "aw1UyagqNVeg"
      },
      "execution_count": null,
      "outputs": []
    },
    {
      "cell_type": "code",
      "source": [],
      "metadata": {
        "id": "2xLoX4ymNViB"
      },
      "execution_count": null,
      "outputs": []
    },
    {
      "cell_type": "markdown",
      "source": [
        "**25th-December-2022**\n",
        "\n",
        "\n",
        "**Leetcode 790**: **Domino And Tromino Tiling**\n",
        "\n",
        "**Problem**:You have two types of tiles: a 2 x 1 domino shape and a tromino shape. You may rotate these shapes.\n",
        "\n",
        "\n",
        "Given an integer n, return the number of ways to tile an 2 x n board. Since the answer may be very large, return it modulo 109 + 7.\n",
        "\n",
        "In a tiling, every square must be covered by a tile. Two tilings are different if and only if there are two 4-directionally adjacent cells on the board such that exactly one of the tilings has both squares occupied by a tile.\n",
        "\n",
        "\n",
        "\n",
        "**URL**: **https://leetcode.com/problems/domino-and-tromino-tiling/**"
      ],
      "metadata": {
        "id": "ZH3E_vMb0Yld"
      }
    },
    {
      "cell_type": "code",
      "source": [
        "class Solution:\n",
        "  def numTilings(self, N: int) -> int:\n",
        "    kMod = 1_000_000_007\n",
        "    dp = [0, 1, 2, 5] + [0] * 997\n",
        "\n",
        "    for i in range(4, N + 1):\n",
        "      dp[i] = 2 * dp[i - 1] + dp[i - 3]\n",
        "\n",
        "    return dp[N] % kMod"
      ],
      "metadata": {
        "id": "b80cnAnXNVla"
      },
      "execution_count": null,
      "outputs": []
    },
    {
      "cell_type": "code",
      "source": [],
      "metadata": {
        "id": "uqtn0HoZNVqX"
      },
      "execution_count": null,
      "outputs": []
    },
    {
      "cell_type": "markdown",
      "source": [
        "**26th-December-2022**\n",
        "\n",
        "\n",
        "**Leetcode 2389**: **Longest Subsequence With Limited Sum**\n",
        "\n",
        "**Problem**:You are given an integer array nums of length n, and an integer array queries of length m.\n",
        "\n",
        "Return an array answer of length m where answer[i] is the maximum size of a subsequence that you can take from nums such that the sum of its elements is less than or equal to queries[i].\n",
        "\n",
        "A subsequence is an array that can be derived from another array by deleting some or no elements without changing the order of the remaining elements.\n",
        "\n",
        "**URL**: **https://leetcode.com/problems/longest-subsequence-with-limited-sum/**"
      ],
      "metadata": {
        "id": "TSZIUdwZGl7C"
      }
    },
    {
      "cell_type": "code",
      "source": [
        "class Solution:\n",
        "  def answerQueries(self, nums: List[int], queries: List[int]) -> List[int]:\n",
        "    nums.sort()\n",
        "\n",
        "    def numOfElementsLessThan(query: int) -> int:\n",
        "      summ = 0\n",
        "      for i, num in enumerate(nums):\n",
        "        summ += num\n",
        "        if summ > query:\n",
        "          return i\n",
        "      return len(nums)\n",
        "\n",
        "    return [numOfElementsLessThan(query) for query in queries]\n"
      ],
      "metadata": {
        "id": "DeBRJm8rHREh"
      },
      "execution_count": null,
      "outputs": []
    },
    {
      "cell_type": "code",
      "source": [],
      "metadata": {
        "id": "l94iEoY5HRHp"
      },
      "execution_count": null,
      "outputs": []
    },
    {
      "cell_type": "markdown",
      "source": [
        "**27th-December-2022**\n",
        "\n",
        "\n",
        "**Leetcode 55**: **Jump Game**\n",
        "\n",
        "**Problem**:You are given an integer array nums. You are initially positioned at the array's first index, and each element in the array represents your maximum jump length at that position.\n",
        "\n",
        "Return true if you can reach the last index, or false otherwise.\n",
        "\n",
        "\n",
        "\n",
        "\n",
        "\n",
        "**URL**: **https://leetcode.com/problems/jump-game/**"
      ],
      "metadata": {
        "id": "J5d_1C3lBSII"
      }
    },
    {
      "cell_type": "code",
      "source": [
        "class Solution:\n",
        "  def canJump(self, nums: List[int]) -> bool:\n",
        "    i = 0\n",
        "    reach = 0\n",
        "\n",
        "    while i < len(nums) and i <= reach:\n",
        "      reach = max(reach, i + nums[i])\n",
        "      i += 1\n",
        "\n",
        "    return i == len(nums)\n"
      ],
      "metadata": {
        "id": "DwGwnSjTHRSH"
      },
      "execution_count": null,
      "outputs": []
    },
    {
      "cell_type": "code",
      "source": [],
      "metadata": {
        "id": "JzdrP5fYHRVK"
      },
      "execution_count": null,
      "outputs": []
    },
    {
      "cell_type": "markdown",
      "source": [
        "**28th-December-2022**\n",
        "\n",
        "\n",
        "**Leetcode 2279**: **Maximum Bags With Full Capacity of Rocks**\n",
        "\n",
        "**Problem**:You have n bags numbered from 0 to n - 1. You are given two 0-indexed integer arrays capacity and rocks. The ith bag can hold a maximum of capacity[i] rocks and currently contains rocks[i] rocks. You are also given an integer additionalRocks, the number of additional rocks you can place in any of the bags.\n",
        "\n",
        "Return the maximum number of bags that could have full capacity after placing the additional rocks in some bags.\n",
        "\n",
        "\n",
        "**URL**: **https://leetcode.com/problems/maximum-bags-with-full-capacity-of-rocks/**"
      ],
      "metadata": {
        "id": "GxqhvJaTFLUw"
      }
    },
    {
      "cell_type": "code",
      "source": [
        "class Solution:\n",
        "  def maximumBags(self, capacity: List[int], rocks: List[int], additionalRocks: int) -> int:\n",
        "    for i, d in enumerate(sorted([c - r for c, r in zip(capacity, rocks)])):\n",
        "      if d > additionalRocks:\n",
        "        return i\n",
        "      additionalRocks -= d\n",
        "    return len(capacity)\n"
      ],
      "metadata": {
        "id": "1SdDWyVzHRYb"
      },
      "execution_count": null,
      "outputs": []
    },
    {
      "cell_type": "code",
      "source": [],
      "metadata": {
        "id": "6KdQv0tIHRbj"
      },
      "execution_count": null,
      "outputs": []
    },
    {
      "cell_type": "markdown",
      "source": [
        "**29th-December-2022**\n",
        "\n",
        "\n",
        "**Leetcode 1962**: **Remove Stones to Minimize the Total**\n",
        "\n",
        "**Problem**:You are given a 0-indexed integer array piles, where piles[i] represents the number of stones in the ith pile, and an integer k. You should apply the following operation exactly k times:\n",
        "\n",
        "Choose any piles[i] and remove floor(piles[i] / 2) stones from it.\n",
        "Notice that you can apply the operation on the same pile more than once.\n",
        "\n",
        "Return the minimum possible total number of stones remaining after applying the k operations.\n",
        "\n",
        "floor(x) is the greatest integer that is smaller than or equal to x (i.e., rounds x down).\n",
        "\n",
        "\n",
        "**URL**: **https://leetcode.com/problems/remove-stones-to-minimize-the-total/**"
      ],
      "metadata": {
        "id": "DdDZlE7VHOYQ"
      }
    },
    {
      "cell_type": "code",
      "source": [
        "class Solution:\n",
        "    def minStoneSum(self, piles: List[int], k: int) -> int:\n",
        "        heap = []\n",
        "        for i in piles:\n",
        "            heappush(heap, -i)\n",
        "        for i in range(k):\n",
        "            temp = -floor(heappop(heap)/2)\n",
        "            heappush(heap, -temp)\n",
        "        return -sum(heap)"
      ],
      "metadata": {
        "id": "sQR4ngEwHRex"
      },
      "execution_count": null,
      "outputs": []
    },
    {
      "cell_type": "code",
      "source": [],
      "metadata": {
        "id": "svdSAWCsHRhz"
      },
      "execution_count": null,
      "outputs": []
    },
    {
      "cell_type": "markdown",
      "source": [
        "**30th-December-2022**\n",
        "\n",
        "\n",
        "**Leetcode 1834**: **Single Threaded CPU**\n",
        "\n",
        "**Problem**:You are given n​​​​​​ tasks labeled from 0 to n - 1 represented by a 2D integer array tasks, where tasks[i] = [enqueueTimei, processingTimei] means that the i​​​​​​th​​​​ task will be available to process at enqueueTimei and will take processingTimei to finish processing.\n",
        "\n",
        "You have a single-threaded CPU that can process at most one task at a time and will act in the following way:\n",
        "\n",
        "--If the CPU is idle and there are no available tasks to process, the CPU remains idle.\n",
        "If the CPU is idle and there are available tasks, the CPU will choose the one with the shortest processing time. If multiple tasks have the same shortest processing time, it will choose the task with the smallest index.\n",
        "\n",
        "--Once a task is started, the CPU will process the entire task without stopping.\n",
        "\n",
        "--The CPU can finish a task then start a new one instantly.\n",
        "Return the order in which the CPU will process the tasks.\n",
        "\n",
        "\n",
        "**URL**: **https://leetcode.com/problems/single-threaded-cpu/**"
      ],
      "metadata": {
        "id": "RUigKkpOzs8h"
      }
    },
    {
      "cell_type": "code",
      "source": [
        "class Solution:\n",
        "  def getOrder(self, tasks: List[List[int]]) -> List[int]:\n",
        "    n = len(tasks)\n",
        "    A = [[*task, i] for i, task in enumerate(tasks)]\n",
        "    ans = []\n",
        "    minHeap = []\n",
        "    i = 0  # tasks' pointer\n",
        "    time = 0  # Current time\n",
        "\n",
        "    A.sort()\n",
        "\n",
        "    while i < n or minHeap:\n",
        "      if not minHeap:\n",
        "        time = max(time, A[i][0])\n",
        "      while i < n and time >= A[i][0]:\n",
        "        heapq.heappush(minHeap, (A[i][1], A[i][2]))\n",
        "        i += 1\n",
        "      procTime, index = heapq.heappop(minHeap)\n",
        "      time += procTime\n",
        "      ans.append(index)\n",
        "\n",
        "    return ans\n"
      ],
      "metadata": {
        "id": "ifCFUAjMHRk8"
      },
      "execution_count": null,
      "outputs": []
    },
    {
      "cell_type": "code",
      "source": [],
      "metadata": {
        "id": "WsKwbETwHRob"
      },
      "execution_count": null,
      "outputs": []
    },
    {
      "cell_type": "markdown",
      "source": [
        "**31st-December-2022**\n",
        "\n",
        "\n",
        "**Leetcode 797**: **All Paths From Source To Target**\n",
        "\n",
        "**Problem**:Given a directed acyclic graph (DAG) of n nodes labeled from 0 to n - 1, find all possible paths from node 0 to node n - 1 and return them in any order.\n",
        "\n",
        "The graph is given as follows: graph[i] is a list of all nodes you can visit from node i (i.e., there is a directed edge from node i to node graph[i][j]).\n",
        "\n",
        "\n",
        "**URL**: **https://leetcode.com/problems/all-paths-from-source-to-target/**"
      ],
      "metadata": {
        "id": "Q0A4TcCYsoWN"
      }
    },
    {
      "cell_type": "code",
      "source": [
        "class Solution:\n",
        "  def allPathsSourceTarget(self, graph: List[List[int]]) -> List[List[int]]:\n",
        "    ans = []\n",
        "\n",
        "    def dfs(u: int, path: List[int]) -> None:\n",
        "      if u == len(graph) - 1:\n",
        "        ans.append(path)\n",
        "        return\n",
        "\n",
        "      for v in graph[u]:\n",
        "        dfs(v, path + [v])\n",
        "\n",
        "    dfs(0, [0])\n",
        "    return ans"
      ],
      "metadata": {
        "id": "VC2nOQ_pHRr7"
      },
      "execution_count": null,
      "outputs": []
    },
    {
      "cell_type": "code",
      "source": [],
      "metadata": {
        "id": "Ja6VMfkAHRvG"
      },
      "execution_count": null,
      "outputs": []
    },
    {
      "cell_type": "markdown",
      "source": [
        "**1st-January-2023**\n",
        "\n",
        "\n",
        "**Leetcode 980**: **Unique Paths III**\n",
        "\n",
        "**Problem**:You are given an m x n integer array grid where grid[i][j] could be:\n",
        "\n",
        "1 representing the starting square. There is exactly one starting square.\n",
        "\n",
        "2 representing the ending square. There is exactly one ending square.\n",
        "\n",
        "0 representing empty squares we can walk over.\n",
        "\n",
        "-1 representing obstacles that we cannot walk over.\n",
        "\n",
        "Return the number of 4-directional walks from the starting square to the ending square, that walk over every non-obstacle square exactly once.\n",
        "\n",
        "\n",
        "**URL**: **https://leetcode.com/problems/unique-paths-iii/**"
      ],
      "metadata": {
        "id": "m9BD4Vw8vzwn"
      }
    },
    {
      "cell_type": "code",
      "source": [
        "class Solution:\n",
        "\tdef uniquePathsIII(self, grid: List[List[int]]) -> int:\n",
        "\n",
        "\t\tdef DFS(row, col, count_zero, grid):\n",
        "\n",
        "\t\t\tif row < 0 or col < 0 or row >= len(grid) or col >= len(grid[0]) or grid[row][col] == -1:\n",
        "\t\t\t\treturn 0\n",
        "\n",
        "\t\t\tif grid[row][col] == 2:\n",
        "\t\t\t\tif count_zero == -1:\n",
        "\t\t\t\t\treturn 1\n",
        "\t\t\t\telse:\n",
        "\t\t\t\t\treturn 0\n",
        "\n",
        "\t\t\tgrid[row][col] = -1\n",
        "\n",
        "\t\t\tcount_zero = count_zero - 1\n",
        "\n",
        "\t\t\ttotal_paths = DFS(row + 1, col, count_zero, grid) + DFS(row, col + 1, count_zero, grid) + DFS(row - 1, col, count_zero, grid) + DFS(row, col - 1, count_zero, grid)\n",
        "\n",
        "\t\t\tgrid[row][col] = 0\n",
        "\n",
        "\t\t\tcount_zero = count_zero + 1\n",
        "\n",
        "\t\t\treturn total_paths\n",
        "\n",
        "\t\tcount_zero = 0\n",
        "\t\tx,y = 0,0\n",
        "\n",
        "\t\tfor r in range(len(grid)):\n",
        "\t\t\tfor c in range(len(grid[0])):\n",
        "\n",
        "\t\t\t\tif grid[r][c] == 0:\n",
        "\t\t\t\t\tcount_zero = count_zero + 1\n",
        "\n",
        "\t\t\t\telif grid[r][c] == 1:\n",
        "\t\t\t\t\tx,y = r,c\n",
        "\n",
        "\t\treturn DFS(x, y, count_zero, grid)"
      ],
      "metadata": {
        "id": "A4G81lJzHRyf"
      },
      "execution_count": null,
      "outputs": []
    },
    {
      "cell_type": "code",
      "source": [],
      "metadata": {
        "id": "ig5fGXKMg3Zw"
      },
      "execution_count": null,
      "outputs": []
    },
    {
      "cell_type": "markdown",
      "source": [
        "**2nd-January-2023**\n",
        "\n",
        "\n",
        "**Leetcode 290**: **Word Pattern**\n",
        "\n",
        "**Problem**:Given a pattern and a string s, find if s follows the same pattern.\n",
        "\n",
        "Here follow means a full match, such that there is a bijection between a letter in pattern and a non-empty word in s.\n",
        "\n",
        "\n",
        "**URL**: **https://leetcode.com/problems/word-pattern/**"
      ],
      "metadata": {
        "id": "gO-OZpgGiyc9"
      }
    },
    {
      "cell_type": "code",
      "source": [
        "class Solution:\n",
        "  def wordPattern(self, pattern: str, str: str) -> bool:\n",
        "    text = str.split()\n",
        "    return [*map(pattern.index, pattern)] == [*map(text.index, text)]\n"
      ],
      "metadata": {
        "id": "fwpu8Comg3dA"
      },
      "execution_count": null,
      "outputs": []
    },
    {
      "cell_type": "code",
      "source": [],
      "metadata": {
        "id": "Ku56859Bg3gg"
      },
      "execution_count": null,
      "outputs": []
    },
    {
      "cell_type": "markdown",
      "source": [
        "**3rd-January-2023**\n",
        "\n",
        "\n",
        "**Leetcode 520**: **Detect Capital**\n",
        "\n",
        "**Problem**:We define the usage of capitals in a word to be right when one of the following cases holds:\n",
        "\n",
        "--All letters in this word are capitals, like \"USA\".\n",
        "\n",
        "--All letters in this word are not capitals, like \"leetcode\".\n",
        "\n",
        "--Only the first letter in this word is capital, like \"Google\".\n",
        "\n",
        "Given a string word, return true if the usage of capitals in it is right.\n",
        "\n",
        "\n",
        "\n",
        "**URL**: **https://leetcode.com/problems/detect-capital/**"
      ],
      "metadata": {
        "id": "Cyyb_4dyNUXt"
      }
    },
    {
      "cell_type": "code",
      "source": [
        "class Solution:\n",
        "    def detectCapitalUse(self, word: str) -> bool:\n",
        "            return word.isupper() or word.islower() or word.istitle()\n"
      ],
      "metadata": {
        "id": "Tt7dprwwg3j2"
      },
      "execution_count": null,
      "outputs": []
    },
    {
      "cell_type": "code",
      "source": [],
      "metadata": {
        "id": "J8pRyyE7g3nJ"
      },
      "execution_count": null,
      "outputs": []
    },
    {
      "cell_type": "markdown",
      "source": [
        "**4th-January-2023**\n",
        "\n",
        "\n",
        "**Leetcode 944**: **Delete Columns to Make Sorted**\n",
        "\n",
        "**Problem**:You are given an array of n strings strs, all of the same length.\n",
        "\n",
        "The strings can be arranged such that there is one on each line, making a grid. For example, strs = [\"abc\", \"bce\", \"cae\"] can be arranged as:\n",
        "\n",
        "abc\n",
        "bce\n",
        "cae\n",
        "You want to delete the columns that are not sorted lexicographically. In the above example (0-indexed), columns 0 ('a', 'b', 'c') and 2 ('c', 'e', 'e') are sorted while column 1 ('b', 'c', 'a') is not, so you would delete column 1.\n",
        "\n",
        "Return the number of columns that you will delete.\n",
        "\n",
        "\n",
        "\n",
        "**URL**: **https://leetcode.com/problems/delete-columns-to-make-sorted/**"
      ],
      "metadata": {
        "id": "ilZeYoIcvdPD"
      }
    },
    {
      "cell_type": "code",
      "source": [
        "class Solution:\n",
        "    def minDeletionSize(self, strs: List[str]) -> int:\n",
        "        return sum(col != sorted(col) for col in map(list, zip(*strs)))\n"
      ],
      "metadata": {
        "id": "wkzplubQg3qq"
      },
      "execution_count": null,
      "outputs": []
    },
    {
      "cell_type": "code",
      "source": [],
      "metadata": {
        "id": "ot66-15Zg3uI"
      },
      "execution_count": null,
      "outputs": []
    },
    {
      "cell_type": "markdown",
      "source": [
        "**5th-January-2023**\n",
        "\n",
        "\n",
        "**Leetcode 2244**: **Minimum Rounds to Complete All Tasks**\n",
        "\n",
        "**Problem**:You are given a 0-indexed integer array tasks, where tasks[i] represents the difficulty level of a task. In each round, you can complete either 2 or 3 tasks of the same difficulty level.\n",
        "\n",
        "Return the minimum rounds required to complete all the tasks, or -1 if it is not possible to complete all the tasks.\n",
        "\n",
        "\n",
        "\n",
        "\n",
        "\n",
        "**URL**: **https://leetcode.com/problems/minimum-rounds-to-complete-all-tasks/**"
      ],
      "metadata": {
        "id": "Fa_Waf-NqDE4"
      }
    },
    {
      "cell_type": "code",
      "source": [
        "class Solution:\n",
        "    def minimumRounds(self, tasks: List[int]) -> int:\n",
        "        freqs = collections.Counter(tasks).values()\n",
        "        return -1 if 1 in freqs else sum((f + 2) // 3 for f in freqs)"
      ],
      "metadata": {
        "id": "SsV_heRSg3xr"
      },
      "execution_count": null,
      "outputs": []
    },
    {
      "cell_type": "code",
      "source": [],
      "metadata": {
        "id": "9h4Arj86g31K"
      },
      "execution_count": null,
      "outputs": []
    },
    {
      "cell_type": "markdown",
      "source": [
        "**6th-January-2023**\n",
        "\n",
        "\n",
        "**Leetcode 452**: **Minimum Number Of Arrows to Burst Baloons**\n",
        "\n",
        "**Problem**:There are some spherical balloons taped onto a flat wall that represents the XY-plane. The balloons are represented as a 2D integer array points where points[i] = [xstart, xend] denotes a balloon whose horizontal diameter stretches between xstart and xend. You do not know the exact y-coordinates of the balloons.\n",
        "\n",
        "Arrows can be shot up directly vertically (in the positive y-direction) from different points along the x-axis. A balloon with xstart and xend is burst by an arrow shot at x if xstart <= x <= xend. There is no limit to the number of arrows that can be shot. A shot arrow keeps traveling up infinitely, bursting any balloons in its path.\n",
        "\n",
        "Given the array points, return the minimum number of arrows that must be shot to burst all balloons.\n",
        "\n",
        "\n",
        "\n",
        "\n",
        "\n",
        "\n",
        "\n",
        "**URL**: **https://leetcode.com/problems/minimum-number-of-arrows-to-burst-balloons/**"
      ],
      "metadata": {
        "id": "giyGRan0IUZm"
      }
    },
    {
      "cell_type": "code",
      "source": [
        "class Solution:\n",
        "  def findMinArrowShots(self, points: List[List[int]]) -> int:\n",
        "    ans = 0\n",
        "    arrowX = -math.inf\n",
        "\n",
        "    for point in sorted(points, key=lambda x: x[1]):\n",
        "      if point[0] > arrowX:\n",
        "        ans += 1\n",
        "        arrowX = point[1]\n",
        "\n",
        "    return ans"
      ],
      "metadata": {
        "id": "wLaFy3v8g34n"
      },
      "execution_count": null,
      "outputs": []
    },
    {
      "cell_type": "code",
      "source": [],
      "metadata": {
        "id": "uHdVrzq86zQe"
      },
      "execution_count": null,
      "outputs": []
    },
    {
      "cell_type": "markdown",
      "source": [
        "**7th-January-2023**\n",
        "\n",
        "\n",
        "**Leetcode 1833**: **Maximum Ice Cream Bars**\n",
        "\n",
        "**Problem**:It is a sweltering summer day, and a boy wants to buy some ice cream bars.\n",
        "\n",
        "At the store, there are n ice cream bars. You are given an array costs of length n, where costs[i] is the price of the ith ice cream bar in coins. The boy initially has coins coins to spend, and he wants to buy as many ice cream bars as possible.\n",
        "\n",
        "Return the maximum number of ice cream bars the boy can buy with coins coins.\n",
        "\n",
        "Note: The boy can buy the ice cream bars in any order.\n",
        "\n",
        "\n",
        "\n",
        "\n",
        "\n",
        "\n",
        "**URL**: **https://leetcode.com/problems/maximum-ice-cream-bars/**"
      ],
      "metadata": {
        "id": "RNPjbnpsITM2"
      }
    },
    {
      "cell_type": "code",
      "source": [
        "class Solution:\n",
        "  def maxIceCream(self, costs: List[int], coins: int) -> int:\n",
        "    for k, cost in enumerate(sorted(costs)):\n",
        "      if coins >= cost:\n",
        "        coins -= cost\n",
        "      else:\n",
        "        return k\n",
        "\n",
        "    return len(costs)"
      ],
      "metadata": {
        "id": "K8_TtjlIg38G"
      },
      "execution_count": null,
      "outputs": []
    },
    {
      "cell_type": "code",
      "source": [],
      "metadata": {
        "id": "JKtV0hXhg3_l"
      },
      "execution_count": null,
      "outputs": []
    },
    {
      "cell_type": "markdown",
      "source": [
        "**8th-January-2023**\n",
        "\n",
        "\n",
        "**Leetcode 134**: **Gas Station**\n",
        "\n",
        "**Problem**:There are n gas stations along a circular route, where the amount of gas at the ith station is gas[i].\n",
        "\n",
        "You have a car with an unlimited gas tank and it costs cost[i] of gas to travel from the ith station to its next (i + 1)th station. You begin the journey with an empty tank at one of the gas stations.\n",
        "\n",
        "Given two integer arrays gas and cost, return the starting gas station's index if you can travel around the circuit once in the clockwise direction, otherwise return -1. If there exists a solution, it is guaranteed to be unique\n",
        "\n",
        "\n",
        "\n",
        "\n",
        "\n",
        "\n",
        "**URL**: **https://leetcode.com/problems/gas-station/**"
      ],
      "metadata": {
        "id": "yYvhITbh6kEH"
      }
    },
    {
      "cell_type": "code",
      "source": [
        "class Solution:\n",
        "  def canCompleteCircuit(self, gas: List[int], cost: List[int]) -> int:\n",
        "    res = 0\n",
        "    net = 0\n",
        "    summ = 0\n",
        "\n",
        "    for k in range(len(gas)):\n",
        "      net += gas[k] - cost[k]\n",
        "      summ += gas[k] - cost[k]\n",
        "      if summ < 0:\n",
        "        summ = 0\n",
        "        res = k + 1\n",
        "\n",
        "    return -1 if net < 0 else res"
      ],
      "metadata": {
        "id": "VcFPbqLPg4DK"
      },
      "execution_count": null,
      "outputs": []
    },
    {
      "cell_type": "code",
      "source": [],
      "metadata": {
        "id": "-VlEX7x6g4GY"
      },
      "execution_count": null,
      "outputs": []
    },
    {
      "cell_type": "markdown",
      "source": [
        "**9th-January-2023**\n",
        "\n",
        "\n",
        "**Leetcode 149**: **Max Points On a Line**\n",
        "\n",
        "**Problem**: Given an array of points where points[i] = [xi, yi] represents a point on the X-Y plane, return the maximum number of points that lie on the same straight line.\n",
        "\n",
        "\n",
        "\n",
        "\n",
        "\n",
        "\n",
        "\n",
        "\n",
        "**URL**: **https://leetcode.com/problems/max-points-on-a-line/**"
      ],
      "metadata": {
        "id": "WLgjN_97mczL"
      }
    },
    {
      "cell_type": "code",
      "source": [
        "class Solution:\n",
        "  def maxPoints(self, points: List[List[int]]) -> int:\n",
        "    ans = 0\n",
        "\n",
        "    def gcd(a: int, b: int) -> int:\n",
        "      return a if b == 0 else gcd(b, a % b)\n",
        "\n",
        "    def getSlope(p: List[int], q: List[int]) -> Tuple[int, int]:\n",
        "      dx = p[0] - q[0]\n",
        "      dy = p[1] - q[1]\n",
        "      if dx == 0:\n",
        "        return (0, p[0])\n",
        "      if dy == 0:\n",
        "        return (p[1], 0)\n",
        "      d = gcd(dx, dy)\n",
        "      return (dx // d, dy // d)\n",
        "\n",
        "    for i, p in enumerate(points):\n",
        "      slopeCount = collections.defaultdict(int)\n",
        "      samePoints = 1\n",
        "      maxPoints = 0\n",
        "      for j in range(i + 1, len(points)):\n",
        "        q = points[j]\n",
        "        if p == q:\n",
        "          samePoints += 1\n",
        "        else:\n",
        "          slope = getSlope(p, q)\n",
        "          slopeCount[slope] += 1\n",
        "          maxPoints = max(maxPoints, slopeCount[slope])\n",
        "      ans = max(ans, samePoints + maxPoints)\n",
        "\n",
        "    return ans"
      ],
      "metadata": {
        "id": "rB6aAwwRg4KA"
      },
      "execution_count": null,
      "outputs": []
    },
    {
      "cell_type": "code",
      "source": [],
      "metadata": {
        "id": "2fqoNIBTg4Nj"
      },
      "execution_count": null,
      "outputs": []
    },
    {
      "cell_type": "markdown",
      "source": [
        "**10th-January-2023**\n",
        "\n",
        "\n",
        "**Leetcode 144**: **Binary Tree Preorder Traversal**\n",
        "\n",
        "**Problem**: Given the root of a binary tree, return the preorder traversal of its nodes' values.\n",
        "\n",
        "\n",
        "\n",
        "\n",
        "\n",
        "\n",
        "\n",
        "\n",
        "\n",
        "**URL**: **https://leetcode.com/problems/binary-tree-preorder-traversal/**"
      ],
      "metadata": {
        "id": "uZbyUXi5pueK"
      }
    },
    {
      "cell_type": "code",
      "source": [
        "# Definition for a binary tree node.\n",
        "# class TreeNode:\n",
        "#     def __init__(self, val=0, left=None, right=None):\n",
        "#         self.val = val\n",
        "#         self.left = left\n",
        "#         self.right = right\n",
        "class Solution:\n",
        "  def preorderTraversal(self, root: Optional[TreeNode]) -> List[int]:\n",
        "    res = []\n",
        "\n",
        "    def preorder(root: Optional[TreeNode]) -> None:\n",
        "      if not root:\n",
        "        return\n",
        "\n",
        "      res.append(root.val)\n",
        "      preorder(root.left)\n",
        "      preorder(root.right)\n",
        "\n",
        "    preorder(root)\n",
        "    return res"
      ],
      "metadata": {
        "id": "nYokZoneg4RC"
      },
      "execution_count": null,
      "outputs": []
    },
    {
      "cell_type": "code",
      "source": [],
      "metadata": {
        "id": "niVAZWUKg4Ue"
      },
      "execution_count": null,
      "outputs": []
    },
    {
      "cell_type": "markdown",
      "source": [
        "**11th-January-2023**\n",
        "\n",
        "\n",
        "**Leetcode 100**: **Same Tree**\n",
        "\n",
        "**Problem**: Given the roots of two binary trees p and q, write a function to check if they are the same or not.\n",
        "\n",
        "Two binary trees are considered the same if they are structurally identical, and the nodes have the same value.\n",
        "\n",
        "\n",
        "\n",
        "\n",
        "**URL**: **https://leetcode.com/problems/same-tree/**"
      ],
      "metadata": {
        "id": "JEn23pJi54c5"
      }
    },
    {
      "cell_type": "code",
      "source": [
        "# Definition for a binary tree node.\n",
        "# class TreeNode:\n",
        "#     def __init__(self, val=0, left=None, right=None):\n",
        "#         self.val = val\n",
        "#         self.left = left\n",
        "#         self.right = right\n",
        "class Solution:\n",
        "  def isSameTree(self, p: Optional[TreeNode], q: Optional[TreeNode]) -> bool:\n",
        "    if not p or not q:\n",
        "      return p == q\n",
        "    return p.val == q.val and \\\n",
        "        self.isSameTree(p.left, q.left) and \\\n",
        "        self.isSameTree(p.right, q.right)"
      ],
      "metadata": {
        "id": "pyJHDuMg8beq"
      },
      "execution_count": null,
      "outputs": []
    },
    {
      "cell_type": "code",
      "source": [],
      "metadata": {
        "id": "4m60ilni8bhy"
      },
      "execution_count": null,
      "outputs": []
    },
    {
      "cell_type": "markdown",
      "source": [
        "**12th-January-2023**\n",
        "\n",
        "\n",
        "**Leetcode 1443**: **Minimum Time to Collect All Apples in a Tree**\n",
        "\n",
        "**Problem**: Given an undirected tree consisting of n vertices numbered from 0 to n-1, which has some apples in their vertices. You spend 1 second to walk over one edge of the tree. Return the minimum time in seconds you have to spend to collect all apples in the tree, starting at vertex 0 and coming back to this vertex.\n",
        "\n",
        "The edges of the undirected tree are given in the array edges, where edges[i] = [ai, bi] means that exists an edge connecting the vertices ai and bi. Additionally, there is a boolean array hasApple, where hasApple[i] = true means that vertex i has an apple; otherwise, it does not have any apple.\n",
        "\n",
        "\n",
        "\n",
        "\n",
        "**URL**: **https://leetcode.com/problems/minimum-time-to-collect-all-apples-in-a-tree/**"
      ],
      "metadata": {
        "id": "1XeIX7aW8zM8"
      }
    },
    {
      "cell_type": "code",
      "source": [
        "class Solution:\n",
        "    def minTime(self, n: int, edges: List[List[int]], hasApple: List[bool]) -> int:\n",
        "        parents=[-1]*n\n",
        "        for edge in edges:\n",
        "            parent,child=edge\n",
        "            if parents[child]==-1:\n",
        "                parents[child]=parent\n",
        "            else:\n",
        "                parents[parent]=child\n",
        "        for h in range(n-1,0,-1):\n",
        "            if hasApple[h] and parents[h]!=-1:\n",
        "                hasApple[parents[h]]=True\n",
        "        return sum(hasApple[1:])*2"
      ],
      "metadata": {
        "id": "JJYQ4_NE8bkh"
      },
      "execution_count": null,
      "outputs": []
    },
    {
      "cell_type": "code",
      "source": [],
      "metadata": {
        "id": "91W4ShEe8bng"
      },
      "execution_count": null,
      "outputs": []
    },
    {
      "cell_type": "markdown",
      "source": [
        "**13th-January-2023**\n",
        "\n",
        "\n",
        "**Leetcode 1519**: **Number of Nodes in the Sub-Tree With the Same Label**\n",
        "\n",
        "**Problem**: You are given a tree (i.e. a connected, undirected graph that has no cycles) consisting of n nodes numbered from 0 to n - 1 and exactly n - 1 edges. The root of the tree is the node 0, and each node of the tree has a label which is a lower-case character given in the string labels (i.e. The node with the number i has the label labels[i]).\n",
        "\n",
        "The edges array is given on the form edges[i] = [ai, bi], which means there is an edge between nodes ai and bi in the tree.\n",
        "\n",
        "Return an array of size n where ans[i] is the number of nodes in the subtree of the ith node which have the same label as node i.\n",
        "\n",
        "A subtree of a tree T is the tree consisting of a node in T and all of its descendant nodes.\n",
        "\n",
        "\n",
        "\n",
        "**URL**: **https://leetcode.com/problems/number-of-nodes-in-the-sub-tree-with-the-same-label/**"
      ],
      "metadata": {
        "id": "8Xo2JOFU-HLC"
      }
    },
    {
      "cell_type": "code",
      "source": [
        "class Solution:\n",
        "    def countSubTrees(self, n: int, edges: List[List[int]], labels: str) -> List[int]:\n",
        "        graph, labelCt, res = defaultdict(list), defaultdict(int), [0] * n\n",
        "\n",
        "#<-- 1 We build the graph g from edges\n",
        "        for a, b in edges:\n",
        "            graph[a].append(b)\n",
        "            graph[b].append(a)\n",
        "\n",
        "#<-- 2  We traverse the tree by recursion, keeping track of each node's parent so we do not revisit an already visited node.\n",
        "        def dfs(node=0, parent=None):\n",
        "            prev = labelCt[labels[node]]\n",
        "            labelCt[labels[node]] += 1\n",
        "\n",
        "            for child in graph[node]:\n",
        "                if child != parent: dfs(child, node)\n",
        "\n",
        "#<-- 3  During the traversal, we keep track of the label counts in res.\n",
        "            res[node] = labelCt[labels[node]] - prev\n",
        "\n",
        "        dfs()\n",
        "\n",
        "# <-- 4 Once the travesal is completed, we return res.\n",
        "        return res"
      ],
      "metadata": {
        "id": "DIJU7Jgc8bqv"
      },
      "execution_count": null,
      "outputs": []
    },
    {
      "cell_type": "code",
      "source": [],
      "metadata": {
        "id": "cqXWwldZ8bt5"
      },
      "execution_count": null,
      "outputs": []
    },
    {
      "cell_type": "markdown",
      "source": [
        "**14th-January-2023**\n",
        "\n",
        "\n",
        "**Leetcode 2246**: **Longest Path With Different Adjacent Characters**\n",
        "\n",
        "**Problem**: You are given a tree (i.e. a connected, undirected graph that has no cycles) rooted at node 0 consisting of n nodes numbered from 0 to n - 1. The tree is represented by a 0-indexed array parent of size n, where parent[i] is the parent of node i. Since node 0 is the root, parent[0] == -1.\n",
        "\n",
        "You are also given a string s of length n, where s[i] is the character assigned to node i.\n",
        "\n",
        "Return the length of the longest path in the tree such that no pair of adjacent nodes on the path have the same character assigned to them.\n",
        "\n",
        "\n",
        "\n",
        "**URL**: **https://leetcode.com/problems/longest-path-with-different-adjacent-characters/**"
      ],
      "metadata": {
        "id": "QbtboULNIc-s"
      }
    },
    {
      "cell_type": "code",
      "source": [
        "class Solution:\n",
        "  def longestPath(self, parent: List[int], s: str) -> int:\n",
        "    n = len(parent)\n",
        "    ans = 0\n",
        "    graph = [[] for _ in range(n)]\n",
        "\n",
        "    for i in range(1, n):\n",
        "      graph[parent[i]].append(i)\n",
        "\n",
        "    def longestPathDownFrom(u: int) -> int:\n",
        "      nonlocal ans\n",
        "      max1 = 0\n",
        "      max2 = 0\n",
        "\n",
        "      for v in graph[u]:\n",
        "        res = longestPathDownFrom(v)\n",
        "        if s[u] == s[v]:\n",
        "          continue\n",
        "        if res > max1:\n",
        "          max2 = max1\n",
        "          max1 = res\n",
        "        elif res > max2:\n",
        "          max2 = res\n",
        "\n",
        "      ans = max(ans, 1 + max1 + max2)\n",
        "      return 1 + max1\n",
        "\n",
        "    longestPathDownFrom(0)\n",
        "    return ans"
      ],
      "metadata": {
        "id": "BWUYsB9j8bxL"
      },
      "execution_count": null,
      "outputs": []
    },
    {
      "cell_type": "code",
      "source": [],
      "metadata": {
        "id": "CZR00Xmq8b0i"
      },
      "execution_count": null,
      "outputs": []
    },
    {
      "cell_type": "markdown",
      "source": [
        "**15th-January-2023**\n",
        "\n",
        "\n",
        "**Leetcode 1061**: **Lexicographically Smallest Equivalent String**\n",
        "\n",
        "**Problem**: You are given two strings of the same length s1 and s2 and a string baseStr.\n",
        "\n",
        "We say s1[i] and s2[i] are equivalent characters.\n",
        "\n",
        "For example, if s1 = \"abc\" and s2 = \"cde\", then we have 'a' == 'c', 'b' == 'd', and 'c' == 'e'.\n",
        "\n",
        "Equivalent characters follow the usual rules of any equivalence relation:\n",
        "\n",
        "**Reflexivity**: 'a' == 'a'.\n",
        "\n",
        "**Symmetry**: 'a' == 'b' implies 'b' == 'a'.\n",
        "\n",
        "**Transitivity**: 'a' == 'b' and 'b' == 'c' implies 'a' == 'c'.\n",
        "\n",
        "For example, given the equivalency information from s1 = \"abc\" and s2 = \"cde\", \"acd\" and \"aab\" are equivalent strings of baseStr = \"eed\", and \"aab\" is the lexicographically smallest equivalent string of baseStr.\n",
        "\n",
        "Return the lexicographically smallest equivalent string of baseStr by using the equivalency information from s1 and s2.\n",
        "\n",
        "\n",
        "\n",
        "**URL**: **https://leetcode.com/problems/lexicographically-smallest-equivalent-string/**"
      ],
      "metadata": {
        "id": "WBPV7cP0hlvE"
      }
    },
    {
      "cell_type": "code",
      "source": [
        "class Solution:\n",
        "    def smallestEquivalentString(self, s1: str, s2: str, baseStr: str) -> str:\n",
        "        ds = defaultdict(list)\n",
        "        for a in list(string.ascii_lowercase):\n",
        "            ds[a] = [a,[a]]\n",
        "        def update(p1,p2):\n",
        "            max_val = max(ds[p1][0],ds[p2][0])\n",
        "            min_val = min(ds[p1][0],ds[p2][0])\n",
        "            if ds[max_val][1]:\n",
        "                for i in ds[max_val][1]:\n",
        "                    ds[i][0] = ds[min_val][0]\n",
        "                ds[min_val][1].extend( ds[max_val][1])\n",
        "        for c_1,c_2 in zip(s1,s2):\n",
        "            p_1,p_2 = c_1,c_2\n",
        "            if ds[p_1][0] != ds[p_2][0]:\n",
        "                update(p_1,p_2)\n",
        "        return \"\".join([ds[c][0] for c in baseStr])"
      ],
      "metadata": {
        "id": "qnB7YSfG8b41"
      },
      "execution_count": null,
      "outputs": []
    },
    {
      "cell_type": "code",
      "source": [],
      "metadata": {
        "id": "l9HZpgVn8b9Z"
      },
      "execution_count": null,
      "outputs": []
    },
    {
      "cell_type": "markdown",
      "source": [
        "**16th-January-2023**\n",
        "\n",
        "\n",
        "**Leetcode 2421**: **Number of Good Paths**\n",
        "\n",
        "**Problem**: There is a tree (i.e. a connected, undirected graph with no cycles) consisting of n nodes numbered from 0 to n - 1 and exactly n - 1 edges.\n",
        "\n",
        "You are given a 0-indexed integer array vals of length n where vals[i] denotes the value of the ith node. You are also given a 2D integer array edges where edges[i] = [ai, bi] denotes that there exists an undirected edge connecting nodes ai and bi.\n",
        "\n",
        "A good path is a simple path that satisfies the following conditions:\n",
        "\n",
        "The starting node and the ending node have the same value.\n",
        "All nodes between the starting node and the ending node have values less than or equal to the starting node (i.e. the starting node's value should be the maximum value along the path).\n",
        "Return the number of distinct good paths.\n",
        "\n",
        "Note that a path and its reverse are counted as the same path. For example, 0 -> 1 is considered to be the same as 1 -> 0. A single node is also considered as a valid path.\n",
        "\n",
        "\n",
        "\n",
        "\n",
        "**URL**: **https://leetcode.com/problems/number-of-good-paths/**"
      ],
      "metadata": {
        "id": "CqQX6KuOWC8n"
      }
    },
    {
      "cell_type": "code",
      "source": [
        "class Solution:\n",
        "    def numberOfGoodPaths(self, vals: List[int], edges: List[List[int]]) -> int:\n",
        "        n = len(vals)\n",
        "        p = list(range(n))\n",
        "        count = [Counter({vals[i]:1}) for i in range(n)]\n",
        "        edges = sorted((max(vals[i],vals[j]),i,j) for i,j in edges)\n",
        "        ans = n\n",
        "        def find(i):\n",
        "            if p[i] != i:p[i] = find(p[i])\n",
        "            return p[i]\n",
        "        for val, i, j in edges:\n",
        "            pi, pj = find(i), find(j)\n",
        "            ans += count[pi][val]*count[pj][val]\n",
        "            p[pi] = pj\n",
        "            count[pj][val] += count[pi][val]\n",
        "        return ans-"
      ],
      "metadata": {
        "id": "dZ7hiH2a8cAv"
      },
      "execution_count": null,
      "outputs": []
    },
    {
      "cell_type": "code",
      "source": [],
      "metadata": {
        "id": "FsgUQgTb8cFT"
      },
      "execution_count": null,
      "outputs": []
    },
    {
      "cell_type": "markdown",
      "source": [
        "**17th-January-2023**\n",
        "\n",
        "\n",
        "**Leetcode 57**: **Insert Interval**\n",
        "\n",
        "**Problem**: There is a tree (i.e. a connected, undirected graph with no cycles) coYou are given an array of non-overlapping intervals intervals where intervals[i] = [starti, endi] represent the start and the end of the ith interval and intervals is sorted in ascending order by starti. You are also given an interval newInterval = [start, end] that represents the start and end of another interval.\n",
        "\n",
        "Insert newInterval into intervals such that intervals is still sorted in ascending order by starti and intervals still does not have any overlapping intervals (merge overlapping intervals if necessary).\n",
        "\n",
        "Return intervals after the insertion.\n",
        "\n",
        "\n",
        "\n",
        "\n",
        "\n",
        "**URL**: **https://leetcode.com/problems/insert-interval/**"
      ],
      "metadata": {
        "id": "XpjYvkJ8QwjO"
      }
    },
    {
      "cell_type": "code",
      "source": [
        "class Solution:\n",
        "  def insert(self, intervals: List[List[int]], newInterval: List[int]) -> List[List[int]]:\n",
        "    n = len(intervals)\n",
        "    ans = []\n",
        "    i = 0\n",
        "\n",
        "    while i < n and intervals[i][1] < newInterval[0]:\n",
        "      ans.append(intervals[i])\n",
        "      i += 1\n",
        "\n",
        "    while i < n and intervals[i][0] <= newInterval[1]:\n",
        "      newInterval[0] = min(newInterval[0], intervals[i][0])\n",
        "      newInterval[1] = max(newInterval[1], intervals[i][1])\n",
        "      i += 1\n",
        "\n",
        "    ans.append(newInterval)\n",
        "\n",
        "    while i < n:\n",
        "      ans.append(intervals[i])\n",
        "      i += 1\n",
        "\n",
        "    return ans"
      ],
      "metadata": {
        "id": "PBm9kRS28cJO"
      },
      "execution_count": null,
      "outputs": []
    },
    {
      "cell_type": "code",
      "source": [],
      "metadata": {
        "id": "_AfQHjMD8cRc"
      },
      "execution_count": null,
      "outputs": []
    },
    {
      "cell_type": "markdown",
      "source": [
        "**18th-January-2023**\n",
        "\n",
        "\n",
        "**Leetcode 926**: **Flip String to Monotone Increasing**\n",
        "\n",
        "**Problem**: A binary string is monotone increasing if it consists of some number of 0's (possibly none), followed by some number of 1's (also possibly none).\n",
        "\n",
        "You are given a binary string s. You can flip s[i] changing it from 0 to 1 or from 1 to 0.\n",
        "\n",
        "Return the minimum number of flips to make s monotone increasing.\n",
        "\n",
        "\n",
        "\n",
        "\n",
        "\n",
        "**URL**: **https://leetcode.com/problems/flip-string-to-monotone-increasing/**"
      ],
      "metadata": {
        "id": "QE-WLjRnjA_m"
      }
    },
    {
      "cell_type": "code",
      "source": [
        "class Solution:\n",
        "  def insert(self, intervals: List[List[int]], newInterval: List[int]) -> List[List[int]]:\n",
        "    n = len(intervals)\n",
        "    ans = []\n",
        "    i = 0\n",
        "\n",
        "    while i < n and intervals[i][1] < newInterval[0]:\n",
        "      ans.append(intervals[i])\n",
        "      i += 1\n",
        "\n",
        "    while i < n and intervals[i][0] <= newInterval[1]:\n",
        "      newInterval[0] = min(newInterval[0], intervals[i][0])\n",
        "      newInterval[1] = max(newInterval[1], intervals[i][1])\n",
        "      i += 1\n",
        "\n",
        "    ans.append(newInterval)\n",
        "\n",
        "    while i < n:\n",
        "      ans.append(intervals[i])\n",
        "      i += 1\n",
        "\n",
        "    return ans"
      ],
      "metadata": {
        "id": "geR_NB8wi51n"
      },
      "execution_count": null,
      "outputs": []
    },
    {
      "cell_type": "code",
      "source": [],
      "metadata": {
        "id": "RGlhGS11i54S"
      },
      "execution_count": null,
      "outputs": []
    },
    {
      "cell_type": "markdown",
      "source": [
        "**19th-January-2023**\n",
        "\n",
        "\n",
        "**Leetcode 918**: **Maximum Sum Circular Subarray**\n",
        "\n",
        "**Problem**: Given a circular integer array nums of length n, return the maximum possible sum of a non-empty subarray of nums.\n",
        "\n",
        "A circular array means the end of the array connects to the beginning of the array. Formally, the next element of nums[i] is nums[(i + 1) % n] and the previous element of nums[i] is nums[(i - 1 + n) % n].\n",
        "\n",
        "A subarray may only include each element of the fixed buffer nums at most once. Formally, for a subarray nums[i], nums[i + 1], ..., nums[j], there does not exist i <= k1, k2 <= j with k1 % n == k2 % n.\n",
        "\n",
        "\n",
        "\n",
        "\n",
        "\n",
        "\n",
        "**URL**: **https://leetcode.com/problems/maximum-sum-circular-subarray/**"
      ],
      "metadata": {
        "id": "JDASi5fp184f"
      }
    },
    {
      "cell_type": "code",
      "source": [
        "class Solution:\n",
        "  def maxSubarraySumCircular(self, A: List[int]) -> int:\n",
        "    totalSum = 0\n",
        "    currMaxSum = 0\n",
        "    currMinSum = 0\n",
        "    maxSum = -math.inf\n",
        "    minSum = math.inf\n",
        "\n",
        "    for a in A:\n",
        "      totalSum += a\n",
        "      currMaxSum = max(currMaxSum + a, a)\n",
        "      currMinSum = min(currMinSum + a, a)\n",
        "      maxSum = max(maxSum, currMaxSum)\n",
        "      minSum = min(minSum, currMinSum)\n",
        "\n",
        "    return maxSum if maxSum < 0 else max(maxSum, totalSum - minSum)"
      ],
      "metadata": {
        "id": "VfImlrfQi57g"
      },
      "execution_count": null,
      "outputs": []
    },
    {
      "cell_type": "code",
      "source": [],
      "metadata": {
        "id": "CkFkSytJi5-t"
      },
      "execution_count": null,
      "outputs": []
    },
    {
      "cell_type": "markdown",
      "source": [
        "**20th-January-2023**\n",
        "\n",
        "\n",
        "**Leetcode 974**: **Subarray Sums Divisible by K**\n",
        "\n",
        "**Problem**: Given an integer array nums and an integer k, return the number of non-empty subarrays that have a sum divisible by k.\n",
        "A subarray is a contiguous part of an array.\n",
        "\n",
        "**URL**: **https://leetcode.com/problems/subarray-sums-divisible-by-k/**"
      ],
      "metadata": {
        "id": "Xv_n-hhQ399r"
      }
    },
    {
      "cell_type": "code",
      "source": [
        "class Solution:\n",
        "    def subarraysDivByK(self, nums: List[int], k: int) -> int:\n",
        "        res = 0\n",
        "        prefix = 0\n",
        "        count = [1] + [0] * (k- 1)\n",
        "\n",
        "        for num in nums:\n",
        "            prefix = (prefix + num) % k\n",
        "            res += count[prefix]\n",
        "            count[prefix] += 1\n",
        "\n",
        "        return res"
      ],
      "metadata": {
        "id": "5Qnc6_aMi6CI"
      },
      "execution_count": null,
      "outputs": []
    },
    {
      "cell_type": "code",
      "source": [],
      "metadata": {
        "id": "KtgXTglXi6FK"
      },
      "execution_count": null,
      "outputs": []
    },
    {
      "cell_type": "markdown",
      "source": [
        "**21st-January-2023**\n",
        "\n",
        "\n",
        "**Leetcode 491**: **Non-decreasing Subsequences**\n",
        "\n",
        "**Problem**:Given an integer array nums, return all the different possible non-decreasing subsequences of the given array with at least two elements. You may return the answer in any order.\n",
        "\n",
        "\n",
        "\n",
        "**URL**: **https://leetcode.com/problems/non-decreasing-subsequences/**"
      ],
      "metadata": {
        "id": "WJ1M3-xN9XSi"
      }
    },
    {
      "cell_type": "code",
      "source": [
        "class Solution:\n",
        "  def findSubsequences(self, nums: List[int]) -> List[List[int]]:\n",
        "    ans = []\n",
        "\n",
        "    def dfs(s: int, path: List[int]) -> None:\n",
        "      if len(path) > 1:\n",
        "        ans.append(path)\n",
        "\n",
        "      used = set()\n",
        "\n",
        "      for i in range(s, len(nums)):\n",
        "        if nums[i] in used:\n",
        "          continue\n",
        "        if not path or nums[i] >= path[-1]:\n",
        "          used.add(nums[i])\n",
        "          dfs(i + 1, path + [nums[i]])\n",
        "\n",
        "    dfs(0, [])\n",
        "    return ans"
      ],
      "metadata": {
        "id": "M_V2eOdEi6Ih"
      },
      "execution_count": null,
      "outputs": []
    },
    {
      "cell_type": "code",
      "source": [],
      "metadata": {
        "id": "6l-dosesi6Lc"
      },
      "execution_count": null,
      "outputs": []
    },
    {
      "cell_type": "markdown",
      "source": [
        "**22nd-January-2023**\n",
        "\n",
        "\n",
        "**Leetcode 93**: **Restore IP Addresses**\n",
        "\n",
        "**Problem**:A valid IP address consists of exactly four integers separated by single dots. Each integer is between 0 and 255 (inclusive) and cannot have leading zeros.\n",
        "\n",
        "For example, \"0.1.2.201\" and \"192.168.1.1\" are valid IP addresses, but \"0.011.255.245\", \"192.168.1.312\" and \"192.168@1.1\" are invalid IP addresses.\n",
        "Given a string s containing only digits, return all possible valid IP addresses that can be formed by inserting dots into s. You are not allowed to reorder or remove any digits in s. You may return the valid IP addresses in any order.\n",
        "\n",
        "\n",
        "\n",
        "**URL**: **https://leetcode.com/problems/restore-ip-addresses/**"
      ],
      "metadata": {
        "id": "WLLP0udV_DWu"
      }
    },
    {
      "cell_type": "code",
      "source": [
        "class Solution:\n",
        "  def restoreIpAddresses(self, s: str) -> List[str]:\n",
        "    ans = []\n",
        "\n",
        "    def dfs(start: int, path: List[int]) -> None:\n",
        "      if len(path) == 4 and start == len(s):\n",
        "        ans.append(path[0] + '.' + path[1] + '.' + path[2] + '.' + path[3])\n",
        "        return\n",
        "      if len(path) == 4 or start == len(s):\n",
        "        return\n",
        "\n",
        "      for length in range(1, 4):\n",
        "        if start + length > len(s):\n",
        "          return  # Out of bound\n",
        "        if length > 1 and s[start] == '0':\n",
        "          return  # Leading '0'\n",
        "        num = s[start: start + length]\n",
        "        if int(num) > 255:\n",
        "          return\n",
        "        dfs(start + length, path + [num])\n",
        "\n",
        "    dfs(0, [])\n",
        "    return ans"
      ],
      "metadata": {
        "id": "79zcuH8Mi6Os"
      },
      "execution_count": null,
      "outputs": []
    },
    {
      "cell_type": "code",
      "source": [],
      "metadata": {
        "id": "zhtoCxX3i6SK"
      },
      "execution_count": null,
      "outputs": []
    },
    {
      "cell_type": "markdown",
      "source": [
        "**23rd-January-2023**\n",
        "\n",
        "\n",
        "**Leetcode 131**: **Palindrome Partitioning**\n",
        "\n",
        "**Problem**:Given a string s, partition s such that every\n",
        "substring\n",
        " of the partition is a\n",
        "palindrome\n",
        ". Return all possible palindrome partitioning of s.\n",
        "\n",
        "\n",
        "\n",
        "**URL**: **https://leetcode.com/problems/palindrome-partitioning/**"
      ],
      "metadata": {
        "id": "ZAiXDg9hdB2H"
      }
    },
    {
      "cell_type": "code",
      "source": [
        "class Solution:\n",
        "  def partition(self, s: str) -> List[List[str]]:\n",
        "    ans = []\n",
        "\n",
        "    def isPalindrome(s: str) -> bool:\n",
        "      return s == s[::-1]\n",
        "\n",
        "    def dfs(s: str, j: int, path: List[str], ans: List[List[str]]) -> None:\n",
        "      if j == len(s):\n",
        "        ans.append(path)\n",
        "        return\n",
        "\n",
        "      for i in range(j, len(s)):\n",
        "        if isPalindrome(s[j: i + 1]):\n",
        "          dfs(s, i + 1, path + [s[j: i + 1]], ans)\n",
        "\n",
        "    dfs(s, 0, [], ans)\n",
        "    return ans"
      ],
      "metadata": {
        "id": "-qYqduGVi6VS"
      },
      "execution_count": null,
      "outputs": []
    },
    {
      "cell_type": "code",
      "source": [],
      "metadata": {
        "id": "auINFWtOi6Yd"
      },
      "execution_count": null,
      "outputs": []
    },
    {
      "cell_type": "markdown",
      "source": [
        "**24th-January-2023**\n",
        "\n",
        "\n",
        "**Leetcode 997**: **Find The Town Judge**\n",
        "\n",
        "**Problem**:n a town, there are n people labeled from 1 to n. There is a rumor that one of these people is secretly the town judge.\n",
        "\n",
        "If the town judge exists, then:\n",
        "\n",
        "The town judge trusts nobody.\n",
        "Everybody (except for the town judge) trusts the town judge.\n",
        "There is exactly one person that satisfies properties 1 and 2.\n",
        "You are given an array trust where trust[i] = [ai, bi] representing that the person labeled ai trusts the person labeled bi.\n",
        "\n",
        "Return the label of the town judge if the town judge exists and can be identified, or return -1 otherwise.\n",
        "\n",
        "**URL**: **https://leetcode.com/problems/find-the-town-judge/**"
      ],
      "metadata": {
        "id": "hOso8hf3aOaa"
      }
    },
    {
      "cell_type": "code",
      "source": [
        "class Solution:\n",
        "  def findJudge(self, n: int, trust: List[List[int]]) -> int:\n",
        "    count = [0] * (n + 1)\n",
        "\n",
        "    for a, b in trust:\n",
        "      count[a] -= 1\n",
        "      count[b] += 1\n",
        "\n",
        "    for i in range(1, n + 1):\n",
        "      if count[i] == n - 1:\n",
        "        return i\n",
        "\n",
        "    return -1"
      ],
      "metadata": {
        "id": "FmlKXQtXi6b4"
      },
      "execution_count": null,
      "outputs": []
    },
    {
      "cell_type": "code",
      "source": [],
      "metadata": {
        "id": "1Wh7lbREi6fG"
      },
      "execution_count": null,
      "outputs": []
    },
    {
      "cell_type": "markdown",
      "source": [
        "**25th-January-2023**\n",
        "\n",
        "\n",
        "**Leetcode 909**: **Snakes And Ladders**\n",
        "\n",
        "**Problem**:You are given an n x n integer matrix board where the cells are labeled from 1 to n2 in a Boustrophedon style starting from the bottom left of the board (i.e. board[n - 1][0]) and alternating direction each row.\n",
        "\n",
        "You start on square 1 of the board. In each move, starting from square curr, do the following:\n",
        "\n",
        "Choose a destination square next with a label in the range [curr + 1, min(curr + 6, n2)].\n",
        "This choice simulates the result of a standard 6-sided die roll: i.e., there are always at most 6 destinations, regardless of the size of the board.\n",
        "If next has a snake or ladder, you must move to the destination of that snake or ladder. Otherwise, you move to next.\n",
        "The game ends when you reach the square n2.\n",
        "A board square on row r and column c has a snake or ladder if board[r][c] != -1. The destination of that snake or ladder is board[r][c]. Squares 1 and n2 do not have a snake or ladder.\n",
        "\n",
        "Note that you only take a snake or ladder at most once per move. If the destination to a snake or ladder is the start of another snake or ladder, you do not follow the subsequent snake or ladder.\n",
        "\n",
        "For example, suppose the board is [[-1,4],[-1,3]], and on the first move, your destination square is 2. You follow the ladder to square 3, but do not follow the subsequent ladder to 4.\n",
        "Return the least number of moves required to reach the square n2. If it is not possible to reach the square, return -1.\n",
        "\n",
        "\n",
        "\n",
        "**URL**: **https://leetcode.com/problems/snakes-and-ladders/**"
      ],
      "metadata": {
        "id": "gfffPnpAXHYn"
      }
    },
    {
      "cell_type": "code",
      "source": [
        "class Solution:\n",
        "  def snakesAndLadders(self, board: List[List[int]]) -> int:\n",
        "    n = len(board)\n",
        "    ans = 0\n",
        "    q = collections.deque([1])\n",
        "    seen = set()\n",
        "    A = [0] * (1 + n * n)  # 2D -> 1D\n",
        "\n",
        "    for i in range(n):\n",
        "      for j in range(n):\n",
        "        A[(n - 1 - i) * n + (j + 1 if n - i & 1 else n - j)] = board[i][j]\n",
        "\n",
        "    while q:\n",
        "      ans += 1\n",
        "      for _ in range(len(q)):\n",
        "        curr = q.popleft()\n",
        "        for next in range(curr + 1, min(curr + 6, n * n) + 1):\n",
        "          dest = A[next] if A[next] > 0 else next\n",
        "          if dest == n * n:\n",
        "            return ans\n",
        "          if dest in seen:\n",
        "            continue\n",
        "          q.append(dest)\n",
        "          seen.add(dest)\n",
        "\n",
        "    return -1"
      ],
      "metadata": {
        "id": "I7pb7kAri6ik"
      },
      "execution_count": null,
      "outputs": []
    },
    {
      "cell_type": "code",
      "source": [],
      "metadata": {
        "id": "iEp1EQLOi6l9"
      },
      "execution_count": null,
      "outputs": []
    },
    {
      "cell_type": "markdown",
      "source": [
        "**26th-January-2023**\n",
        "\n",
        "\n",
        "**Leetcode 997**: **Find Closest Node to Given Two Nodes**\n",
        "\n",
        "**Problem**:You are given a directed graph of n nodes numbered from 0 to n - 1, where each node has at most one outgoing edge.\n",
        "\n",
        "The graph is represented with a given 0-indexed array edges of size n, indicating that there is a directed edge from node i to node edges[i]. If there is no outgoing edge from i, then edges[i] == -1.\n",
        "\n",
        "You are also given two integers node1 and node2.\n",
        "\n",
        "Return the index of the node that can be reached from both node1 and node2, such that the maximum between the distance from node1 to that node, and from node2 to that node is minimized. If there are multiple answers, return the node with the smallest index, and if no possible answer exists, return -1.\n",
        "\n",
        "Note that edges may contain cycles.\n",
        "\n",
        "\n",
        "\n",
        "**URL**: **https://leetcode.com/problems/find-closest-node-to-given-two-nodes/**"
      ],
      "metadata": {
        "id": "fWe8VnXkYmyJ"
      }
    },
    {
      "cell_type": "code",
      "source": [
        "class Solution:\n",
        "    def dfs(self, node, edges, distance, visited):\n",
        "        visited[node] = True\n",
        "        neighbor = edges[node]\n",
        "        if neighbor != -1 and visited[neighbor] == False:\n",
        "            distance[neighbor] = distance[node] + 1\n",
        "            self.dfs(neighbor, edges, distance, visited)\n",
        "\n",
        "    def closestMeetingNode(self, edges, node1, node2):\n",
        "        n = len(edges)\n",
        "        ans = -1\n",
        "        minDist = float(\"inf\")\n",
        "        dist1 = [0] * n\n",
        "        dist2 = [0] * n\n",
        "        visited1 = [False] * n\n",
        "        visited2 = [False] * n\n",
        "        self.dfs(node1, edges, dist1, visited1)\n",
        "        self.dfs(node2, edges, dist2, visited2)\n",
        "\n",
        "        for currNode in range(n):\n",
        "            if visited1[currNode] and visited2[currNode] and minDist > max(dist1[currNode], dist2[currNode]):\n",
        "                minDist = max(dist1[currNode], dist2[currNode])\n",
        "                ans = currNode\n",
        "\n",
        "        return ans"
      ],
      "metadata": {
        "id": "6WoinxvPi6pa"
      },
      "execution_count": null,
      "outputs": []
    },
    {
      "cell_type": "code",
      "source": [],
      "metadata": {
        "id": "QWJzm4bwi6sQ"
      },
      "execution_count": null,
      "outputs": []
    },
    {
      "cell_type": "markdown",
      "source": [
        "**27th-January-2023**\n",
        "\n",
        "\n",
        "**Leetcode 787**: **Cheapest Flights Within K Stops**\n",
        "\n",
        "**Problem**:There are n cities connected by some number of flights. You are given an array flights where flights[i] = [fromi, toi, pricei] indicates that there is a flight from city fromi to city toi with cost pricei.\n",
        "\n",
        "You are also given three integers src, dst, and k, return the cheapest price from src to dst with at most k stops. If there is no such route, return -1.\n",
        "\n",
        "\n",
        "\n",
        "\n",
        "\n",
        "\n",
        "\n",
        "**URL**: **https://leetcode.com/problems/cheapest-flights-within-k-stops/**"
      ],
      "metadata": {
        "id": "q2fqeck3l0Th"
      }
    },
    {
      "cell_type": "code",
      "source": [
        "class Solution:\n",
        "  def findC=heapestPrice(self, n: int, flights: List[List[int]], src: int, dst: int, k: int) -> int:\n",
        "    graph = [[] for _ in range(n)]\n",
        "    minHeap = [(0, src, k + 1)]  # (d, u, stops)\n",
        "    dist = [[math.inf] * (k + 2) for _ in range(n)]\n",
        "\n",
        "    for u, v, w in flights:\n",
        "      graph[u].append((v, w))\n",
        "\n",
        "    while minHeap:\n",
        "      d, u, stops = heapq.heappop(minHeap)\n",
        "      if u = dst:\n",
        "        return d\n",
        "      if stops > 0:\n",
        "        for v, w in graph[u]:\n",
        "          newDist = d + w\n",
        "          if newDist < dist[v][stops - 1]:\n",
        "            dist[v][stops - 1] = newDist\n",
        "            heapq.heappush(minHeap, (newDist, v, stops - 1))\n",
        "\n",
        "    return -1"
      ],
      "metadata": {
        "id": "vT5f9ffzmSpk"
      },
      "execution_count": null,
      "outputs": []
    },
    {
      "cell_type": "code",
      "source": [],
      "metadata": {
        "id": "lpdJ6jXomSsf"
      },
      "execution_count": null,
      "outputs": []
    },
    {
      "cell_type": "markdown",
      "source": [
        "**28th-January-2023**\n",
        "\n",
        "\n",
        "**Leetcode 472**: **Concatenated Words**\n",
        "\n",
        "**Problem**:Given an array of strings words (without duplicates), return all the concatenated words in the given list of words.\n",
        "\n",
        "A concatenated word is defined as a string that is comprised entirely of at least two shorter words in the given array.\n",
        "\n",
        "**URL**: **https://leetcode.com/problems/concatenated-words**"
      ],
      "metadata": {
        "id": "D6m6NzsL-JCE"
      }
    },
    {
      "cell_type": "code",
      "source": [
        "class Solution:\n",
        "  def findAllConcatenatedWordsInADict(self, words: List[str]) -> List[str]:\n",
        "    wordSet = set(words)\n",
        "\n",
        "    def isConcat(word: str) -> bool:\n",
        "      for i in range(1, len(word)):\n",
        "        prefix = word[:i]\n",
        "        suffix = word[i:]\n",
        "        if prefix in wordSet and (suffix in wordSet or isConcat(suffix)):\n",
        "          return True\n",
        "\n",
        "      return False\n",
        "\n",
        "    return [word for word in words if isConcat(word)]"
      ],
      "metadata": {
        "id": "AICM-WB4mSvt"
      },
      "execution_count": null,
      "outputs": []
    },
    {
      "cell_type": "code",
      "source": [],
      "metadata": {
        "id": "Qgi3xzsDmSyw"
      },
      "execution_count": null,
      "outputs": []
    },
    {
      "cell_type": "markdown",
      "source": [
        "**29th-January-2023**\n",
        "\n",
        "\n",
        "**Leetcode 352**: **Data Stream as Disjoint Intervals**\n",
        "\n",
        "**Problem**:Given a data stream input of non-negative integers a1, a2, ..., an, summarize the numbers seen so far as a list of disjoint intervals.\n",
        "\n",
        "Implement the SummaryRanges class:\n",
        "\n",
        "*SummaryRanges() Initializes the object with an empty stream.\n",
        "\n",
        "*void addNum(int value) Adds the integer value to the stream.\n",
        "\n",
        "*int[ ][ ] getIntervals() Returns a summary of the integers in the stream currently as a list of disjoint intervals [starti, endi].\n",
        "\n",
        " The answer should be sorted by starti.\n",
        "\n",
        "\n",
        "**URL**: **https://leetcode.com/problems/concatenated-words**"
      ],
      "metadata": {
        "id": "fLp8DWfi-r76"
      }
    },
    {
      "cell_type": "code",
      "source": [
        "from sortedcontainers import SortedList\n",
        "\n",
        "class SummaryRanges:\n",
        "\n",
        "    def __init__(self):\n",
        "        self.intervals = SortedList()\n",
        "\n",
        "    def addNum(self, value: int) -> None:\n",
        "        n = len(self.intervals)\n",
        "        i = self.intervals.bisect((value, math.inf))\n",
        "\n",
        "        lt = self.intervals[i - 1] if 0 <= i - 1 < n else (-inf, -inf)\n",
        "        rt = self.intervals[i    ] if 0 <= i     < n else ( inf,  inf)\n",
        "\n",
        "        if lt[0] <= value <= lt[1]: return\n",
        "\n",
        "        a, b = value, value\n",
        "        if lt[1] + 1 == value: self.intervals.remove(lt); a = lt[0]\n",
        "        if value == rt[0] - 1: self.intervals.remove(rt); b = rt[1]\n",
        "\n",
        "        self.intervals.add((a, b))\n",
        "\n",
        "    def getIntervals(self) -> list[list[int]]:\n",
        "        return self.intervals\n",
        "\n",
        "# Your SummaryRanges object will be instantiated and called as such:\n",
        "# obj = SummaryRanges()\n",
        "# obj.addNum(value)\n",
        "# param_2 = obj.getIntervals()"
      ],
      "metadata": {
        "id": "40a1tS5ymS1w"
      },
      "execution_count": null,
      "outputs": []
    },
    {
      "cell_type": "code",
      "source": [],
      "metadata": {
        "id": "QkKC-hfGmS49"
      },
      "execution_count": null,
      "outputs": []
    },
    {
      "cell_type": "markdown",
      "source": [
        "**30th-January-2023**\n",
        "\n",
        "\n",
        "**Leetcode 460**: **LFU Cache**\n",
        "\n",
        "**Problem**:Design and implement a data structure for a Least Frequently Used (LFU) cache.\n",
        "\n",
        "Implement the LFUCache class:\n",
        "\n",
        "**LFUCache(int capacity) Initializes the object with the capacity of the data structure.\n",
        "\n",
        "**int get(int key) Gets the value of the key if the key exists in the cache. Otherwise, returns -1.\n",
        "\n",
        "**void put(int key, int value) Update the value of the key if present, or inserts the key if not already present. When the cache reaches its capacity, it should invalidate and remove the least frequently used key before inserting a new item. For this problem, when there is a tie (i.e., two or more keys with the same frequency), the least recently used key would be invalidated.\n",
        "\n",
        "To determine the least frequently used key, a use counter is maintained for each key in the cache. The key with the smallest use counter is the least frequently used key.\n",
        "\n",
        "When a key is first inserted into the cache, its use counter is set to 1 (due to the put operation). The use counter for a key in the cache is incremented either a get or put operation is called on it.\n",
        "\n",
        "The functions get and put must each run in O(1) average time complexity.\n",
        "\n",
        "\n",
        "\n",
        "\n",
        "**URL**: **https://leetcode.com/problems/lfu-cache/**"
      ],
      "metadata": {
        "id": "MAdyBI2Cg4T6"
      }
    },
    {
      "cell_type": "code",
      "source": [
        "class LFUCache:\n",
        "\n",
        "    def __init__(self, capacity: int):\n",
        "        self.cap = capacity\n",
        "\t# Table: key to freq (Key = key, Value = freq).\n",
        "        self.ktof = dict()\n",
        "\t# Table freq to key, (Key = freq, Value = defaultdict(keys)).\n",
        "\t# We can use a default dict (care only about keys) as a \"set with order\".\n",
        "        self.ftok = dict()\n",
        "\t# LFU cache (Key = key, Value = val).\n",
        "        self.cache = dict()\n",
        "\n",
        "    def get(self, key: int) -> int:\n",
        "\t# Not in cache.\n",
        "        if key not in self.cache:\n",
        "            return -1\n",
        "\t# Update the freq of this key in both k-to-f and f-to-k tables.\n",
        "        self.updateFre(key)\n",
        "        return self.cache[key]\n",
        "\n",
        "    def put(self, key: int, value: int) -> None:\n",
        "\t# 0 capacity.\n",
        "        if self.cap == 0:\n",
        "            return\n",
        "\n",
        "\t# Key in cache -> update the value of it and freq tables.\n",
        "        if key in self.cache:\n",
        "            self.cache[key] = value\n",
        "            self.updateFre(key)\n",
        "            return\n",
        "\n",
        "\t # Key not in cache -> Is cache full?\n",
        "        if len(self.cache) >= self.cap:\n",
        "\t\t# Cache is full, remove the LF and LR used key in 2 freq tables and cache.\n",
        "            minFre = min(self.ftok.keys())\n",
        "            LFkey = next(iter(self.ftok[minFre]))\n",
        "            self.ktof.pop(LFkey)\n",
        "\t\t# Same as below.\n",
        "            temp = self.ftok[minFre]\n",
        "            temp.pop(LFkey)\n",
        "            if temp:\n",
        "                self.ftok[minFre] = temp\n",
        "            else:\n",
        "                self.ftok.pop(minFre)\n",
        "            self.cache.pop(LFkey)\n",
        "        self.updateFre(key)\n",
        "        self.cache[key] = value\n",
        "        return\n",
        "\n",
        "# Update the freq of this key in both k-to-f and f-to-k tables.\n",
        "    def updateFre(self, key):\n",
        "\t# Update the k-to-f table, default freq is 0.\n",
        "        fre = self.ktof.get(key, 0)\n",
        "        self.ktof[key] = fre + 1\n",
        "\n",
        "\t# Update f-to-k table, default \"set of keys\" is None.\n",
        "        temp = self.ftok.get(fre)\n",
        "        if temp: #If the set exist, pop key.\n",
        "            temp.pop(key)\n",
        "            if temp: # If set is still not empty, update it\n",
        "                self.ftok[fre] = temp\n",
        "            else: # If set is now empty, pop it.\n",
        "                self.ftok.pop(fre)\n",
        "\t# Add key to the set of (fre + 1)\n",
        "        temp = self.ftok.get(fre + 1, dict())\n",
        "        temp[key] = None\n",
        "        self.ftok[fre + 1] = temp\n",
        "        return"
      ],
      "metadata": {
        "id": "WZX9e8jFmS8P"
      },
      "execution_count": null,
      "outputs": []
    },
    {
      "cell_type": "code",
      "source": [],
      "metadata": {
        "id": "TMcPYIg_mS_h"
      },
      "execution_count": null,
      "outputs": []
    },
    {
      "cell_type": "markdown",
      "source": [
        "**31st-January-2023**\n",
        "\n",
        "\n",
        "**Leetcode 1137**: **N-th Tribonacci Number**\n",
        "\n",
        "**Problem**:The Tribonacci sequence Tn is defined as follows:\n",
        "\n",
        "T0 = 0, T1 = 1, T2 = 1, and Tn+3 = Tn + Tn+1 + Tn+2 for n >= 0.\n",
        "\n",
        "Given n, return the value of Tn.\n",
        "\n",
        "\n",
        "**URL**: **https://leetcode.com/problems/n-th-tribonacci-number/**"
      ],
      "metadata": {
        "id": "mzcmEJpXiKQC"
      }
    },
    {
      "cell_type": "code",
      "source": [
        "class Solution:\n",
        "    def tribonacci(self, n: int) -> int:\n",
        "        last3 = 1\n",
        "        last2 = 0\n",
        "        last1 = 0\n",
        "        for i in range(n):\n",
        "            current_num = last1 + last2 + last3\n",
        "            last3 = last2\n",
        "            last2 = last1\n",
        "            last1 = current_num\n",
        "        return last1\n"
      ],
      "metadata": {
        "id": "4HoGEc3_iIOr"
      },
      "execution_count": null,
      "outputs": []
    },
    {
      "cell_type": "code",
      "source": [],
      "metadata": {
        "id": "48GcI_RSiISQ"
      },
      "execution_count": null,
      "outputs": []
    },
    {
      "cell_type": "markdown",
      "source": [
        "**1st-February-2023**\n",
        "\n",
        "\n",
        "**Leetcode 1626**: **Best Team With No Conflicts**\n",
        "\n",
        "**Problem**:You are the manager of a basketball team. For the upcoming tournament, you want to choose the team with the highest overall score. The score of the team is the sum of scores of all the players in the team.\n",
        "\n",
        "However, the basketball team is not allowed to have conflicts. A conflict exists if a younger player has a strictly higher score than an older player. A conflict does not occur between players of the same age.\n",
        "\n",
        "Given two lists, scores and ages, where each scores[i] and ages[i] represents the score and age of the ith player, respectively, return the highest overall score of all possible basketball teams.\n",
        "\n",
        "\n",
        "\n",
        "**URL**: **https://leetcode.com/problems/best-team-with-no-conflicts/**"
      ],
      "metadata": {
        "id": "wBthWrIwB5oX"
      }
    },
    {
      "cell_type": "code",
      "source": [
        "class Solution:\n",
        "    def bestTeamScore(self, scores: List[int], ages: List[int]) -> int:\n",
        "\n",
        "        dp = [0]*(1+max(ages))\n",
        "\n",
        "        score_age = sorted(zip(scores, ages))\n",
        "\n",
        "        for score, age in score_age:\n",
        "\n",
        "            dp[age] = score + max(dp[:age+1])\n",
        "\n",
        "        return max(dp)\n"
      ],
      "metadata": {
        "id": "Qq38XgPhiIWp"
      },
      "execution_count": null,
      "outputs": []
    },
    {
      "cell_type": "code",
      "source": [],
      "metadata": {
        "id": "vW2ZhSQwiIa8"
      },
      "execution_count": null,
      "outputs": []
    },
    {
      "cell_type": "markdown",
      "source": [
        "**2nd-February-2023**\n",
        "\n",
        "\n",
        "**Leetcode 1071**: **Greatest Common Divisor Of Strings**\n",
        "\n",
        "**Problem**:For two strings s and t, we say \"t divides s\" if and only if s = t + ... + t (i.e., t is concatenated with itself one or more times).\n",
        "\n",
        "Given two strings str1 and str2, return the largest string x such that x divides both str1 and str2.\n",
        "\n",
        "\n",
        "**URL**: **https://leetcode.com/problems/greatest-common-divisor-of-strings/**"
      ],
      "metadata": {
        "id": "V0KG87aVVdIJ"
      }
    },
    {
      "cell_type": "code",
      "source": [
        "class Solution:\n",
        "    def gcdOfStrings(self, str1: str, str2: str) -> str:\n",
        "        return str1[:gcd(len(str1),len(str2))] if str1+str2==str2+str1 else \"\""
      ],
      "metadata": {
        "id": "in895-HMiIqh"
      },
      "execution_count": null,
      "outputs": []
    },
    {
      "cell_type": "code",
      "source": [],
      "metadata": {
        "id": "TYue-_NEiIvA"
      },
      "execution_count": null,
      "outputs": []
    },
    {
      "cell_type": "markdown",
      "source": [
        "**3rd-February-2023**\n",
        "\n",
        "\n",
        "**Leetcode 953**: **Verifying an Alien Dictionary**\n",
        "\n",
        "**Problem**:In an alien language, surprisingly, they also use English lowercase letters, but possibly in a different order. The order of the alphabet is some permutation of lowercase letters.\n",
        "\n",
        "Given a sequence of words written in the alien language, and the order of the alphabet, return true if and only if the given words are sorted lexicographically in this alien language.\n",
        "\n",
        "\n",
        "\n",
        "**URL**: **https://leetcode.com/problems/verifying-an-alien-dictionary/**"
      ],
      "metadata": {
        "id": "XU59RFiMNWGm"
      }
    },
    {
      "cell_type": "code",
      "source": [
        "class Solution:\n",
        "    def isAlienSorted(self, words: List[str], order: str) -> bool:\n",
        "        return words == sorted(words,key=lambda word:[order.index(c) for c in word])\n"
      ],
      "metadata": {
        "id": "p11pUixRiIy4"
      },
      "execution_count": null,
      "outputs": []
    },
    {
      "cell_type": "code",
      "source": [],
      "metadata": {
        "id": "zhqGLVnSOOR9"
      },
      "execution_count": null,
      "outputs": []
    },
    {
      "cell_type": "markdown",
      "source": [
        "**4th-February-2023**\n",
        "\n",
        "\n",
        "**Leetcode 6**: **Zigzag Conversion**\n",
        "\n",
        "**Problem**:The string \"PAYPALISHIRING\" is written in a zigzag pattern on a given number of rows like this: (you may want to display this pattern in a fixed font for better legibility)\n",
        "\n",
        "P   A   H   N\n",
        "\n",
        "A P L S I I G\n",
        "\n",
        "Y   I   R\n",
        "\n",
        "And then read line by line: \"PAHNAPLSIIGYIR\"\n",
        "\n",
        "Write the code that will take a string and make this conversion given a number of rows:\n",
        "\n",
        "string convert(string s, int numRows);\n",
        "\n",
        "\n",
        "**URL**: **https://leetcode.com/problems/zigzag-conversion/**"
      ],
      "metadata": {
        "id": "AbKCbWJolpvS"
      }
    },
    {
      "cell_type": "code",
      "source": [
        "class Solution:\n",
        "  def convert(self, s: str, numRows: int) -> str:\n",
        "    rows = [''] * numRows\n",
        "    k = 0\n",
        "    direction = (numRows == 1) - 1\n",
        "\n",
        "    for c in s:\n",
        "      rows[k] += c\n",
        "      if k == 0 or k == numRows - 1:\n",
        "        direction *= -1\n",
        "      k += direction\n",
        "\n",
        "    return ''.join(rows)"
      ],
      "metadata": {
        "id": "ZiM3e2Z6iI3M"
      },
      "execution_count": null,
      "outputs": []
    },
    {
      "cell_type": "code",
      "source": [],
      "metadata": {
        "id": "YnkUh0bgiI7w"
      },
      "execution_count": null,
      "outputs": []
    },
    {
      "cell_type": "markdown",
      "source": [
        "**5th-February-2023**\n",
        "\n",
        "\n",
        "**Leetcode 567**: **Permutation in String**\n",
        "\n",
        "**Problem**:Given two strings s1 and s2, return true if s2 contains a permutation of s1, or false otherwise.\n",
        "\n",
        "In other words, return true if one of s1's permutations is the substring of s2.\n",
        "\n",
        "\n",
        "\n",
        "**URL**: **https://leetcode.com/problems/permutation-in-string/**"
      ],
      "metadata": {
        "id": "s_HH_OYbnFyY"
      }
    },
    {
      "cell_type": "code",
      "source": [
        "class Solution:\n",
        "  def checkInclusion(self, s1: str, s2: str) -> bool:\n",
        "    count = collections.Counter(s1)\n",
        "    required = len(s1)\n",
        "\n",
        "    for r, c in enumerate(s2):\n",
        "      count[c] -= 1\n",
        "      if count[c] >= 0:\n",
        "        required -= 1\n",
        "      if r >= len(s1):\n",
        "        count[s2[r - len(s1)]] += 1\n",
        "        if count[s2[r - len(s1)]] > 0:\n",
        "          required += 1\n",
        "      if required == 0:\n",
        "        return True\n",
        "\n",
        "    return False"
      ],
      "metadata": {
        "id": "ANUnF0waiI_3"
      },
      "execution_count": null,
      "outputs": []
    },
    {
      "cell_type": "code",
      "source": [],
      "metadata": {
        "id": "bpR2S6BWiJEf"
      },
      "execution_count": null,
      "outputs": []
    },
    {
      "cell_type": "markdown",
      "source": [
        "**6th-February-2023**\n",
        "\n",
        "\n",
        "**Leetcode 438**: **Find All Anagrams in a String**\n",
        "\n",
        "**Problem**:Given two strings s and p, return an array of all the start indices of p's anagrams in s. You may return the answer in any order.\n",
        "\n",
        "An Anagram is a word or phrase formed by rearranging the letters of a different word or phrase, typically using all the original letters exactly once\n",
        "\n",
        "\n",
        "**URL**: **https://leetcode.com/problems/find-all-anagrams-in-a-string/**"
      ],
      "metadata": {
        "id": "0fVbqjm0Bza_"
      }
    },
    {
      "cell_type": "code",
      "source": [
        "class Solution:\n",
        "    def findAnagrams(self, s: str, p: str) -> List[int]:\n",
        "        ans = []\n",
        "        count = Counter(p)\n",
        "        required = len(p)\n",
        "\n",
        "        for r, c in enumerate(s):\n",
        "            count[c] -= 1\n",
        "            if count[c] >= 0:\n",
        "                required -= 1\n",
        "            if r >= len(p):\n",
        "                count[s[r - len(p)]] += 1\n",
        "                if count[s[r - len(p)]] > 0:\n",
        "                    required += 1\n",
        "            if required == 0:\n",
        "                ans.append(r - len(p) + 1)\n",
        "\n",
        "        return ans"
      ],
      "metadata": {
        "id": "JcKdnn0KiJJR"
      },
      "execution_count": null,
      "outputs": []
    },
    {
      "cell_type": "code",
      "source": [],
      "metadata": {
        "id": "4WuGFd3uiJOk"
      },
      "execution_count": null,
      "outputs": []
    },
    {
      "cell_type": "markdown",
      "source": [
        "**7th-February-2023**\n",
        "\n",
        "\n",
        "**Leetcode 1470**: **Shuffle the Array**\n",
        "\n",
        "**Problem**:Given the array nums consisting of 2n elements in the form [x1,x2,...,xn,y1,y2,...,yn].\n",
        "\n",
        "Return the array in the form [x1,y1,x2,y2,...,xn,yn].\n",
        "\n",
        "**URL**: **https://leetcode.com/problems/shuffle-the-array/**"
      ],
      "metadata": {
        "id": "wzka49kQD5MJ"
      }
    },
    {
      "cell_type": "code",
      "source": [
        "class Solution:\n",
        "    def shuffle(self, nums: List[int], n: int) -> List[int]:\n",
        "             return [nums[j] for i in range(n) for j in (i, i + n)]"
      ],
      "metadata": {
        "id": "gaOOFSz-iJa9"
      },
      "execution_count": null,
      "outputs": []
    },
    {
      "cell_type": "code",
      "source": [],
      "metadata": {
        "id": "EqGIJwC-mTCf"
      },
      "execution_count": null,
      "outputs": []
    },
    {
      "cell_type": "markdown",
      "source": [
        "**8th-February-2023**\n",
        "\n",
        "\n",
        "**Leetcode 904**: **Fruits Into Baskets**\n",
        "\n",
        "**Problem**:You are visiting a farm that has a single row of fruit trees arranged from left to right. The trees are represented by an integer array fruits where fruits[i] is the type of fruit the ith tree produces.\n",
        "\n",
        "You want to collect as much fruit as possible. However, the owner has some strict rules that you must follow:\n",
        "\n",
        "*You only have two baskets, and each basket can only hold a single type of fruit. There is no limit on the amount of fruit each basket can hold.\n",
        "\n",
        "*Starting from any tree of your choice, you must pick exactly one fruit from every tree (including the start tree) while moving to the right. The picked fruits must fit in one of your baskets.\n",
        "\n",
        "*Once you reach a tree with fruit that cannot fit in your baskets, you must stop.\n",
        "Given the integer array fruits, return the maximum number of fruits you can pick.\n",
        "\n",
        "\n",
        "\n",
        "**URL**: **https://leetcode.com/problems/fruit-into-baskets/**"
      ],
      "metadata": {
        "id": "-lcllvWJgo2K"
      }
    },
    {
      "cell_type": "code",
      "source": [
        "class Solution:\n",
        "  def totalFruit(self, tree: List[int]) -> int:\n",
        "    ans = 0\n",
        "    count = collections.defaultdict(int)\n",
        "\n",
        "    l = 0\n",
        "    for r, t in enumerate(tree):\n",
        "      count[t] += 1\n",
        "      while len(count) > 2:\n",
        "        count[tree[l]] -= 1\n",
        "        if count[tree[l]] == 0:\n",
        "          del count[tree[l]]\n",
        "        l += 1\n",
        "      ans = max(ans, r - l + 1)\n",
        "\n",
        "    return ans"
      ],
      "metadata": {
        "id": "7lCEgbDyfvvN"
      },
      "execution_count": null,
      "outputs": []
    },
    {
      "cell_type": "code",
      "source": [],
      "metadata": {
        "id": "wS76aINWfvx-"
      },
      "execution_count": null,
      "outputs": []
    },
    {
      "cell_type": "markdown",
      "source": [
        "**9th-February-2023**\n",
        "\n",
        "\n",
        "**Leetcode 45**: **Jump Game II**\n",
        "\n",
        "**Problem**:You are given a 0-indexed array of integers nums of length n. You are initially positioned at nums[0].\n",
        "\n",
        "Each element nums[i] represents the maximum length of a forward jump from index i. In other words, if you are at nums[i], you can jump to any nums[i + j] where:\n",
        "\n",
        "0 <= j <= nums[i] and\n",
        "\n",
        "i + j < n\n",
        "\n",
        "Return the minimum number of jumps to reach nums[n - 1]. The test cases are generated such that you can reach nums[n - 1].\n",
        "\n",
        "**URL**: **https://leetcode.com/problems/jump-game-ii/**"
      ],
      "metadata": {
        "id": "HY-0vURhvNhE"
      }
    },
    {
      "cell_type": "code",
      "source": [
        "class Solution:\n",
        "  def jump(self, nums: List[int]) -> int:\n",
        "    ans = 0\n",
        "    end = 0\n",
        "    farthest = 0\n",
        "\n",
        "    # Implicit BFS\n",
        "    for i in range(len(nums) - 1):\n",
        "      farthest = max(farthest, i + nums[i])\n",
        "      if farthest >= len(nums) - 1:\n",
        "        ans += 1\n",
        "        break\n",
        "      if i == end:      # Visited all the items on the current level\n",
        "        ans += 1        # Increment the level\n",
        "        end = farthest  # Make the queue size for the next level\n",
        "\n",
        "    return ans"
      ],
      "metadata": {
        "id": "ceKz_nkHfv1D"
      },
      "execution_count": null,
      "outputs": []
    },
    {
      "cell_type": "code",
      "source": [],
      "metadata": {
        "id": "ZR8yUW32fv4H"
      },
      "execution_count": null,
      "outputs": []
    },
    {
      "cell_type": "markdown",
      "source": [
        "**10th-February-2023**\n",
        "\n",
        "\n",
        "**Leetcode 2306**: **Naming A Company**\n",
        "\n",
        "**Problem**:You are given an array of strings ideas that represents a list of names to be used in the process of naming a company. The process of naming a company is as follows:\n",
        "\n",
        "Choose 2 distinct names from ideas, call them ideaA and ideaB.\n",
        "Swap the first letters of ideaA and ideaB with each other.\n",
        "If both of the new names are not found in the original ideas, then the name ideaA ideaB (the concatenation of ideaA and ideaB, separated by a space) is a valid company name.\n",
        "Otherwise, it is not a valid name.\n",
        "Return the number of distinct valid names for the company.\n",
        "\n",
        "\n",
        "\n",
        "**URL**: **https://leetcode.com/problems/naming-a-company/**"
      ],
      "metadata": {
        "id": "mMHcl-4S0nmJ"
      }
    },
    {
      "cell_type": "code",
      "source": [
        "class Solution:\n",
        "  def distinctNames(self, ideas: List[str]) -> int:\n",
        "    ans = 0\n",
        "    # Group strings by initials\n",
        "    suffixes = [set() for _ in range(26)]\n",
        "\n",
        "    for idea in ideas:\n",
        "      suffixes[ord(idea[0]) - ord('a')].add(idea[1:])\n",
        "\n",
        "    for i in range(25):\n",
        "      for j in range(i + 1, 26):\n",
        "        count = len(suffixes[i] & suffixes[j])\n",
        "        ans += 2 * (len(suffixes[i]) - count) * (len(suffixes[j]) - count)\n",
        "\n",
        "    return ans"
      ],
      "metadata": {
        "id": "iO3r54fqfv7U"
      },
      "execution_count": null,
      "outputs": []
    },
    {
      "cell_type": "code",
      "source": [],
      "metadata": {
        "id": "Zn3-JUZGfv-e"
      },
      "execution_count": null,
      "outputs": []
    },
    {
      "cell_type": "markdown",
      "source": [
        "**11th-February-2023**\n",
        "\n",
        "\n",
        "**Leetcode 1162**: **As Far From Land As Possible**\n",
        "\n",
        "**Problem**:Given an n x n grid containing only values 0 and 1, where 0 represents water and 1 represents land, find a water cell such that its distance to the nearest land cell is maximized, and return the distance. If no land or water exists in the grid, return -1.\n",
        "\n",
        "The distance used in this problem is the Manhattan distance: the distance between two cells (x0, y0) and (x1, y1) is |x0 - x1| + |y0 - y1|.\n",
        "\n",
        "\n",
        "\n",
        "**URL**: **https://leetcode.com/problems/as-far-from-land-as-possible/**"
      ],
      "metadata": {
        "id": "E2ViXmoBUm9m"
      }
    },
    {
      "cell_type": "code",
      "source": [
        "class Solution:\n",
        "  def maxDistance(self, grid: List[List[int]]) -> int:\n",
        "    m = len(grid)\n",
        "    n = len(grid[0])\n",
        "    dirs = [0, 1, 0, -1, 0]\n",
        "    q = collections.deque()\n",
        "    water = 0\n",
        "\n",
        "    for i in range(m):\n",
        "      for j in range(n):\n",
        "        if grid[i][j] == 0:\n",
        "          water += 1\n",
        "        else:\n",
        "          q.append((i, j))\n",
        "\n",
        "    if water == 0 or water == m * n:\n",
        "      return -1\n",
        "\n",
        "    ans = 0\n",
        "    d = 0\n",
        "\n",
        "    while q:\n",
        "      for _ in range(len(q)):\n",
        "        i, j = q.popleft()\n",
        "        ans = d\n",
        "        for k in range(4):\n",
        "          x = i + dirs[k]\n",
        "          y = j + dirs[k + 1]\n",
        "          if x < 0 or x == m or y < 0 or y == n:\n",
        "            continue\n",
        "          if grid[x][y] > 0:\n",
        "            continue\n",
        "          q.append((x, y))\n",
        "          grid[x][y] = 2  # Mark as visited.\n",
        "      d += 1\n",
        "\n",
        "    return ans"
      ],
      "metadata": {
        "id": "e7kzMPeCfwB0"
      },
      "execution_count": null,
      "outputs": []
    },
    {
      "cell_type": "code",
      "source": [],
      "metadata": {
        "id": "HQdyVz7JfwEu"
      },
      "execution_count": null,
      "outputs": []
    },
    {
      "cell_type": "markdown",
      "source": [
        "**12th-February-2023**\n",
        "\n",
        "\n",
        "**Leetcode 1129**: **Shortest Path with Alternating Colors**\n",
        "\n",
        "**Problem**:Given an n x n grid containing only values 0 and 1, where 0 represents water and 1 represents land, find a water cell such that its distance to the nearest land cell is maximized, and return the distance. If no land or water exists in the grid, return -1.\n",
        "\n",
        "The distance used in this problem is the Manhattan distance: the distance between two cells (x0, y0) and (x1, y1) is |x0 - x1| + |y0 - y1|.\n",
        "\n",
        "\n",
        "You are given an integer n, the number of nodes in a directed graph where the nodes are labeled from 0 to n - 1. Each edge is red or blue in this graph, and there could be self-edges and parallel edges.\n",
        "\n",
        "You are given two arrays redEdges and blueEdges where:\n",
        "\n",
        "**redEdges[i] = [ai, bi] indicates that there is a directed red edge from node ai to node bi in the graph, and\n",
        "\n",
        "**blueEdges[j] = [uj, vj] indicates that there is a directed blue edge from node uj to node vj in the graph.\n",
        "\n",
        "Return an array answer of length n, where each answer[x] is the length of the shortest path from node 0 to node x such that the edge colors alternate along the path, or -1 if such a path does not exist.\n",
        "\n",
        "\n",
        "**URL**: **https://leetcode.com/problems/shortest-path-with-alternating-colors/**"
      ],
      "metadata": {
        "id": "6KOUAxPVTbSL"
      }
    },
    {
      "cell_type": "code",
      "source": [
        "from enum import Enum\n",
        "\n",
        "\n",
        "class Color(Enum):\n",
        "  kInit = 0\n",
        "  kRed = 1\n",
        "  kBlue = 2\n",
        "\n",
        "\n",
        "class Solution:\n",
        "  def shortestAlternatingPaths(self, n: int, redEdges: List[List[int]], blueEdges: List[List[int]]) -> List[int]:\n",
        "    ans = [-1] * n\n",
        "    graph = [[] for _ in range(n)]  # graph[u] := [(v, edgeColor)]\n",
        "    q = collections.deque([(0, Color.kInit)])  # [(u, prevColor)]\n",
        "\n",
        "    for u, v in redEdges:\n",
        "      graph[u].append((v, Color.kRed))\n",
        "\n",
        "    for u, v in blueEdges:\n",
        "      graph[u].append((v, Color.kBlue))\n",
        "\n",
        "    step = 0\n",
        "    while q:\n",
        "      for _ in range(len(q)):\n",
        "        u, prevColor = q.popleft()\n",
        "        if ans[u] == -1:\n",
        "          ans[u] = step\n",
        "        for i, (v, edgeColor) in enumerate(graph[u]):\n",
        "          if v == -1 or edgeColor == prevColor:\n",
        "            continue\n",
        "          q.append((v, edgeColor))\n",
        "          graph[u][i] = (-1, edgeColor)  # Mark (u, v) as used.\n",
        "      step += 1\n",
        "\n",
        "    return ans"
      ],
      "metadata": {
        "id": "yGxqTQJCfwH8"
      },
      "execution_count": null,
      "outputs": []
    },
    {
      "cell_type": "code",
      "source": [],
      "metadata": {
        "id": "d4gdDb5GfwLH"
      },
      "execution_count": null,
      "outputs": []
    },
    {
      "cell_type": "markdown",
      "source": [
        "**13th-February-2023**\n",
        "\n",
        "\n",
        "**Leetcode 2477**: **Minimum Fuel Cost to Report to the Capital**\n",
        "\n",
        "**Problem**:There is a tree (i.e., a connected, undirected graph with no cycles) structure country network consisting of n cities numbered from 0 to n - 1 and exactly n - 1 roads. The capital city is city 0. You are given a 2D integer array roads where roads[i] = [ai, bi] denotes that there exists a bidirectional road connecting cities ai and bi.\n",
        "\n",
        "There is a meeting for the representatives of each city. The meeting is in the capital city.\n",
        "\n",
        "There is a car in each city. You are given an integer seats that indicates the number of seats in each car.\n",
        "\n",
        "A representative can use the car in their city to travel or change the car and ride with another representative. The cost of traveling between two cities is one liter of fuel.\n",
        "\n",
        "Return the minimum number of liters of fuel to reach the capital city.\n",
        "\n",
        "\n",
        "**URL**: **https://leetcode.com/problems/minimum-fuel-cost-to-report-to-the-capital/**"
      ],
      "metadata": {
        "id": "tYc2yBDqboGg"
      }
    },
    {
      "cell_type": "code",
      "source": [
        "class Solution:\n",
        "  def minimumFuelCost(self, roads: List[List[int]], seats: int) -> int:\n",
        "    ans = 0\n",
        "    graph = [[] for _ in range(len(roads) + 1)]\n",
        "\n",
        "    for u, v in roads:\n",
        "      graph[u].append(v)\n",
        "      graph[v].append(u)\n",
        "\n",
        "    def dfs(u: int, prev: int) -> int:\n",
        "      nonlocal ans\n",
        "      people = 1\n",
        "      for v in graph[u]:\n",
        "        if v == prev:\n",
        "          continue\n",
        "        people += dfs(v, u)\n",
        "      if u > 0:\n",
        "        # # of cars needed.\n",
        "        ans += int(math.ceil(people / seats))\n",
        "      return people\n",
        "\n",
        "    dfs(0, -1)\n",
        "    return ans"
      ],
      "metadata": {
        "id": "xqIKylKifwOL"
      },
      "execution_count": null,
      "outputs": []
    },
    {
      "cell_type": "code",
      "source": [],
      "metadata": {
        "id": "rFxhEY6NfwRi"
      },
      "execution_count": null,
      "outputs": []
    },
    {
      "cell_type": "markdown",
      "source": [
        "**14th-February-2023**\n",
        "\n",
        "\n",
        "**Leetcode 1523**: **Count Odd Numbers in an Interval Range**\n",
        "\n",
        "**Problem**:Given two non-negative integers low and high. Return the count of odd numbers between low and high (inclusive).\n",
        "\n",
        "**URL**: **https://leetcode.com/problems/count-odd-numbers-in-an-interval-range/**"
      ],
      "metadata": {
        "id": "2tP97R0cdXOG"
      }
    },
    {
      "cell_type": "code",
      "source": [
        "class Solution:\n",
        "    def countOdds(self, low: int, high: int) -> int:\n",
        "        count = (high - low) // 2\n",
        "        if (high % 2 != 0 or low % 2 != 0):\n",
        "            count += 1\n",
        "        return count"
      ],
      "metadata": {
        "id": "nxxJtC_9fwU-"
      },
      "execution_count": null,
      "outputs": []
    },
    {
      "cell_type": "code",
      "source": [],
      "metadata": {
        "id": "pEZys-_SfwYI"
      },
      "execution_count": null,
      "outputs": []
    },
    {
      "cell_type": "markdown",
      "source": [
        "**15th-February-2023**\n",
        "\n",
        "\n",
        "**Leetcode 67**: **Add Binary**\n",
        "\n",
        "**Problem**:Given two binary strings a and b, return their sum as a binary string.\n",
        "\n",
        "**URL**: **https://leetcode.com/problems/add-binary/**\n"
      ],
      "metadata": {
        "id": "0uJQ4N2um1jm"
      }
    },
    {
      "cell_type": "code",
      "source": [
        "class Solution:\n",
        "    def addBinary(self, a: str, b: str) -> str:\n",
        "        return format(int(a,2) + int(b,2), \"b\")"
      ],
      "metadata": {
        "id": "qT_SRvzSfwbe"
      },
      "execution_count": null,
      "outputs": []
    },
    {
      "cell_type": "code",
      "source": [],
      "metadata": {
        "id": "RfvYmDsgmzxy"
      },
      "execution_count": null,
      "outputs": []
    },
    {
      "cell_type": "markdown",
      "source": [
        "**16th-February-2023**\n",
        "\n",
        "\n",
        "**Leetcode 989**: **Add to Array-Form of Integer**\n",
        "\n",
        "**Problem**:The array-form of an integer num is an array representing its digits in left to right order.\n",
        "\n",
        "For example, for num = 1321, the array form is [1,3,2,1].\n",
        "\n",
        "Given num, the array-form of an integer, and an integer k, return the array-form of the integer num + k.\n",
        "\n",
        "\n",
        "\n",
        "\n",
        "**URL**: **https://leetcode.com/problems/add-to-array-form-of-integer/**\n"
      ],
      "metadata": {
        "id": "RzG_8QSK7zMy"
      }
    },
    {
      "cell_type": "code",
      "source": [
        "class Solution:\n",
        "  def addToArrayForm(self, num: List[int], k: int) -> List[int]:\n",
        "    for i in reversed(range(len(num))):\n",
        "      k, num[i] = divmod(num[i] + k, 10)\n",
        "\n",
        "    while k > 0:\n",
        "      num = [k % 10] + num\n",
        "      k //= 10\n",
        "\n",
        "    return num"
      ],
      "metadata": {
        "id": "9FwQPcPlmz01"
      },
      "execution_count": null,
      "outputs": []
    },
    {
      "cell_type": "code",
      "source": [],
      "metadata": {
        "id": "-msPStXXmz4Y"
      },
      "execution_count": null,
      "outputs": []
    },
    {
      "cell_type": "markdown",
      "source": [
        "**17th-February-2023**\n",
        "\n",
        "\n",
        "**Leetcode 104**: **Maximum Depth of Binary Tree**\n",
        "\n",
        "**Problem**:Given the root of a binary tree, return its maximum depth.\n",
        "\n",
        "A binary tree's maximum depth is the number of nodes along the longest path from the root node down to the farthest leaf node.\n",
        "\n",
        "\n",
        "\n",
        "\n",
        "\n",
        "**URL**: **https://leetcode.com/problems/maximum-depth-of-binary-tree/**"
      ],
      "metadata": {
        "id": "-JM-70bpuOHI"
      }
    },
    {
      "cell_type": "code",
      "source": [
        "# Definition for a binary tree node.\n",
        "# class TreeNode:\n",
        "#     def __init__(self, val=0, left=None, right=None):\n",
        "#         self.val = val\n",
        "#         self.left = left\n",
        "#         self.right = right\n",
        "class Solution:\n",
        "    def maxDepth(self, root: Optional[TreeNode]) -> int:\n",
        "        if not root:\n",
        "                return 0\n",
        "        return 1 + max(self.maxDepth(root.left), self.maxDepth(root.right))"
      ],
      "metadata": {
        "id": "QlujJJkSmz7i"
      },
      "execution_count": null,
      "outputs": []
    },
    {
      "cell_type": "code",
      "source": [],
      "metadata": {
        "id": "ZqlUs0vlmz-v"
      },
      "execution_count": null,
      "outputs": []
    },
    {
      "cell_type": "markdown",
      "source": [
        "**18th-February-2023**\n",
        "\n",
        "\n",
        "**Leetcode 783**: **Minimum Distance Between BST Nodes**\n",
        "\n",
        "**Problem**:Given the root of a Binary Search Tree (BST), return the minimum difference between the values of any two different nodes in the tree\n",
        "\n",
        "\n",
        "**URL**: **https://leetcode.com/problems/minimum-distance-between-bst-nodes/**"
      ],
      "metadata": {
        "id": "Vl4Xz1O8vULo"
      }
    },
    {
      "cell_type": "code",
      "source": [
        "# Definition for a binary tree node.\n",
        "# class TreeNode:\n",
        "#     def __init__(self, val=0, left=None, right=None):\n",
        "#         self.val = val\n",
        "#         self.left = left\n",
        "#         self.right = right\n",
        "class Solution:\n",
        "    def minDiffInBST(self, root: Optional[TreeNode]) -> int:\n",
        "        ordered = []\n",
        "        def inorder(curr = root):\n",
        "            nonlocal ordered\n",
        "            if curr != None:\n",
        "                inorder(curr.left)\n",
        "                ordered.append(curr.val)\n",
        "                inorder(curr.right)\n",
        "            return\n",
        "        inorder()\n",
        "        mini = float(\"inf\")\n",
        "        for i in range(len(ordered)-1):\n",
        "            mini = min(ordered[i+1] - ordered[i], mini)\n",
        "        return mini"
      ],
      "metadata": {
        "id": "MvOM3aA8m0B3"
      },
      "execution_count": null,
      "outputs": []
    },
    {
      "cell_type": "code",
      "source": [],
      "metadata": {
        "id": "TYQZlqDWm0FQ"
      },
      "execution_count": null,
      "outputs": []
    },
    {
      "cell_type": "markdown",
      "source": [
        "**19th-February-2023**\n",
        "\n",
        "\n",
        "**Leetcode 226**: **Invert Binary Tree**\n",
        "\n",
        "**Problem**:Given the root of a binary tree, invert the tree, and return its root.\n",
        "\n",
        "\n",
        "**URL**: **https://leetcode.com/problems/invert-binary-tree/**"
      ],
      "metadata": {
        "id": "nN9P72-iYwv_"
      }
    },
    {
      "cell_type": "code",
      "source": [
        "# Definition for a binary tree node.\n",
        "# class TreeNode:\n",
        "#     def __init__(self, val=0, left=None, right=None):\n",
        "#         self.val = val\n",
        "#         self.left = left\n",
        "#         self.right = right\n",
        "class Solution:\n",
        "    def invertTree(self, root: Optional[TreeNode]) -> Optional[TreeNode]:\n",
        "        if not root:\n",
        "            return None\n",
        "\n",
        "        left = root.left\n",
        "        right = root.right\n",
        "        root.left = self.invertTree(right)\n",
        "        root.right = self.invertTree(left)\n",
        "        return root\n"
      ],
      "metadata": {
        "id": "2fBc8CLsm0Ip"
      },
      "execution_count": null,
      "outputs": []
    },
    {
      "cell_type": "code",
      "source": [],
      "metadata": {
        "id": "7rmwOCiXm0MN"
      },
      "execution_count": null,
      "outputs": []
    },
    {
      "cell_type": "markdown",
      "source": [
        "**20th-February-2023**\n",
        "\n",
        "\n",
        "**Leetcode 103**: **Binary Tree Zigzag Level Order Traversal**\n",
        "\n",
        "**Problem**:Given the root of a binary tree, return the zigzag level order traversal of its nodes' values. (i.e., from left to right, then right to left for the next level and alternate between).\n",
        "\n",
        "\n",
        "**URL**: **https://leetcode.com/problems/binary-tree-zigzag-level-order-traversal/**"
      ],
      "metadata": {
        "id": "qt-PR9V5G7JB"
      }
    },
    {
      "cell_type": "code",
      "source": [
        "# Definition for a binary tree node.\n",
        "# class TreeNode:\n",
        "#     def __init__(self, val=0, left=None, right=None):\n",
        "#         self.val = val\n",
        "#         self.left = left\n",
        "#         self.right = right\n",
        "class Solution:\n",
        "  def zigzagLevelOrder(self, root: Optional[TreeNode]) -> List[List[int]]:\n",
        "    if not root:\n",
        "      return []\n",
        "\n",
        "    ans = []\n",
        "    q = collections.deque([root])\n",
        "    isLeftToRight = True\n",
        "\n",
        "    while q:\n",
        "      size = len(q)\n",
        "      currLevel = [0] * size\n",
        "      for i in range(size):\n",
        "        node = q.popleft()\n",
        "        index = i if isLeftToRight else size - i - 1\n",
        "        currLevel[index] = node.val\n",
        "        if node.left:\n",
        "          q.append(node.left)\n",
        "        if node.right:\n",
        "          q.append(node.right)\n",
        "      ans.append(currLevel)\n",
        "      isLeftToRight = not isLeftToRight\n",
        "\n",
        "    return ans"
      ],
      "metadata": {
        "id": "-dV7aSOsm0Pd"
      },
      "execution_count": null,
      "outputs": []
    },
    {
      "cell_type": "code",
      "source": [],
      "metadata": {
        "id": "f5_FxVMoyNp4"
      },
      "execution_count": null,
      "outputs": []
    },
    {
      "cell_type": "markdown",
      "source": [
        "**21st-February-2023**\n",
        "\n",
        "\n",
        "**Leetcode 35**: **Search Insert Position**\n",
        "\n",
        "**Problem**:Given a sorted array of distinct integers and a target value, return the index if the target is found. If not, return the index where it would be if it were inserted in order.\n",
        "\n",
        "You must write an algorithm with O(log n) runtime complexity.\n",
        "\n",
        "\n",
        "\n",
        "**URL**: **https://leetcode.com/problems/search-insert-position/**"
      ],
      "metadata": {
        "id": "97WvQ1c6yPXM"
      }
    },
    {
      "cell_type": "code",
      "source": [
        "class Solution:\n",
        "  def searchInsert(self, nums: List[int], target: int) -> int:\n",
        "    l = 0\n",
        "    r = len(nums)\n",
        "\n",
        "    while l < r:\n",
        "      m = (l + r) // 2\n",
        "      if nums[m] == target:\n",
        "        return m\n",
        "      if nums[m] < target:\n",
        "        l = m + 1\n",
        "      else:\n",
        "        r = m\n",
        "\n",
        "    return l"
      ],
      "metadata": {
        "id": "ZV6ufnbUyNtv"
      },
      "execution_count": null,
      "outputs": []
    },
    {
      "cell_type": "code",
      "source": [],
      "metadata": {
        "id": "fuGkQbkRyNyK"
      },
      "execution_count": null,
      "outputs": []
    },
    {
      "cell_type": "markdown",
      "source": [
        "**22nd-February-2023**\n",
        "\n",
        "\n",
        "**Leetcode 540**: **Single Element in a Sorted Array**\n",
        "\n",
        "**Problem**:You are given a sorted array consisting of only integers where every element appears exactly twice, except for one element which appears exactly once.\n",
        "\n",
        "Return the single element that appears only once.\n",
        "\n",
        "Your solution must run in O(log n) time and O(1) space.\n",
        "\n",
        "\n",
        "\n",
        "\n",
        "**URL**: **https://leetcode.com/problems/single-element-in-a-sorted-array/**"
      ],
      "metadata": {
        "id": "bDCXZo1YuywE"
      }
    },
    {
      "cell_type": "code",
      "source": [
        "class Solution:\n",
        "  def singleNonDuplicate(self, nums: List[int]) -> int:\n",
        "    l = 0\n",
        "    r = len(nums) - 1\n",
        "\n",
        "    while l < r:\n",
        "      m = (l + r) // 2\n",
        "      if m % 2 == 1:\n",
        "        m -= 1\n",
        "      if nums[m] == nums[m + 1]:\n",
        "        l = m + 2\n",
        "      else:\n",
        "        r = m\n",
        "\n",
        "    return nums[l]\n"
      ],
      "metadata": {
        "id": "VXXOX3X7yN2X"
      },
      "execution_count": null,
      "outputs": []
    },
    {
      "cell_type": "code",
      "source": [],
      "metadata": {
        "id": "bpnD4nWWyN6h"
      },
      "execution_count": null,
      "outputs": []
    },
    {
      "cell_type": "markdown",
      "source": [
        "**23rd-February-2023**\n",
        "\n",
        "\n",
        "**Leetcode 540**: **Capacity To Ship Packages Within D Days**\n",
        "\n",
        "**Problem**:A conveyor belt has packages that must be shipped from one port to another within days days.\n",
        "\n",
        "The ith package on the conveyor belt has a weight of weights[i]. Each day, we load the ship with packages on the conveyor belt (in the order given by weights). We may not load more weight than the maximum weight capacity of the ship.\n",
        "\n",
        "Return the least weight capacity of the ship that will result in all the packages on the conveyor belt being shipped within days days.\n",
        "\n",
        "\n",
        "\n",
        "\n",
        "\n",
        "**URL**: **https://leetcode.com/problems/capacity-to-ship-packages-within-d-days/**"
      ],
      "metadata": {
        "id": "cd2dN1lpH_-s"
      }
    },
    {
      "cell_type": "code",
      "source": [
        "class Solution:\n",
        "  def shipWithinDays(self, weights: List[int], days: int) -> int:\n",
        "    l = max(weights)\n",
        "    r = sum(weights)\n",
        "\n",
        "    def shipDays(shipCapacity: int) -> int:\n",
        "      days = 1\n",
        "      capacity = 0\n",
        "      for weight in weights:\n",
        "        if capacity + weight > shipCapacity:\n",
        "          days += 1\n",
        "          capacity = weight\n",
        "        else:\n",
        "          capacity += weight\n",
        "      return days\n",
        "\n",
        "    while l < r:\n",
        "      m = (l + r) // 2\n",
        "      if shipDays(m) <= days:\n",
        "        r = m\n",
        "      else:\n",
        "        l = m + 1\n",
        "\n",
        "    return l"
      ],
      "metadata": {
        "id": "ivrkHvhJyN-_"
      },
      "execution_count": null,
      "outputs": []
    },
    {
      "cell_type": "code",
      "source": [],
      "metadata": {
        "id": "x53ZvPPZyODY"
      },
      "execution_count": null,
      "outputs": []
    },
    {
      "cell_type": "markdown",
      "source": [
        "**24th-February-2023**\n",
        "\n",
        "\n",
        "**Leetcode 502**: **IPO**\n",
        "\n",
        "**Problem**:Suppose LeetCode will start its IPO soon. In order to sell a good price of its shares to Venture Capital, LeetCode would like to work on some projects to increase its capital before the IPO. Since it has limited resources, it can only finish at most k distinct projects before the IPO. Help LeetCode design the best way to maximize its total capital after finishing at most k distinct projects.\n",
        "\n",
        "You are given n projects where the ith project has a pure profit profits[i] and a minimum capital of capital[i] is needed to start it.\n",
        "\n",
        "Initially, you have w capital. When you finish a project, you will obtain its pure profit and the profit will be added to your total capital.\n",
        "\n",
        "Pick a list of at most k distinct projects from given projects to maximize your final capital, and return the final maximized capital.\n",
        "\n",
        "The answer is guaranteed to fit in a 32-bit signed integer.\n",
        "\n",
        "\n",
        "\n",
        "**URL**: **https://leetcode.com/problems/ipo/**"
      ],
      "metadata": {
        "id": "qTTxnuPMr1C3"
      }
    },
    {
      "cell_type": "code",
      "source": [
        "class Solution:\n",
        "    def findMaximizedCapital(self, k: int, w: int, profits: List[int], capital: List[int]) -> int:\n",
        "        ans = w\n",
        "        curr = 0\n",
        "        arr = [(j,i) for i,j in zip(profits, capital)]\n",
        "        arr.sort()\n",
        "        n = len(arr)\n",
        "        q = []\n",
        "        while k:\n",
        "            while curr < n and arr[curr][0] <= ans:\n",
        "                heapq.heappush(q, -arr[curr][1])\n",
        "                curr += 1\n",
        "            if not q:\n",
        "                return ans\n",
        "            ans -= heapq.heappop(q)\n",
        "            k -= 1\n",
        "        return ans"
      ],
      "metadata": {
        "id": "Iyq_n2SByOIX"
      },
      "execution_count": null,
      "outputs": []
    },
    {
      "cell_type": "code",
      "source": [],
      "metadata": {
        "id": "IOgMQeyNyOM3"
      },
      "execution_count": null,
      "outputs": []
    },
    {
      "cell_type": "markdown",
      "source": [
        "**25th-February-2023**\n",
        "\n",
        "\n",
        "**Leetcode 502**: **Minimize Deviation in Array**\n",
        "\n",
        "**Problem**:You are given an array nums of n positive integers.\n",
        "\n",
        "You can perform two types of operations on any element of the array any number of times:\n",
        "\n",
        "**If the element is even, divide it by 2.\n",
        "For example, if the array is [1,2,3,4], then you can do this operation on the last element, and the array will be [1,2,3,2].\n",
        "\n",
        "**If the element is odd, multiply it by 2.\n",
        "\n",
        "For example, if the array is [1,2,3,4], then you can do this operation on the first element, and the array will be [2,2,3,4].\n",
        "\n",
        "**The deviation of the array is the maximum difference between any two elements in the array.\n",
        "\n",
        "Return the minimum deviation the array can have after performing some number of operations.\n",
        "\n",
        "\n",
        "**URL**: **https://leetcode.com/problems/minimize-deviation-in-array/**"
      ],
      "metadata": {
        "id": "lqSkUGW1qPF8"
      }
    },
    {
      "cell_type": "code",
      "source": [
        "class Solution:\n",
        "    def minimumDeviation(self, nums: List[int]) -> int:\n",
        "        maxHeap = [-x*2 if x % 2 != 0 else -x for x in nums]\n",
        "        heapify(maxHeap)\n",
        "        ans, minItem = maxsize, -max(maxHeap)\n",
        "        while maxHeap[0] % 2 == 0:\n",
        "            maxItem = -heappop(maxHeap)\n",
        "            ans = min(ans, maxItem - minItem)\n",
        "            maxItem //= 2\n",
        "            minItem = min(minItem, maxItem)\n",
        "            heappush(maxHeap, -maxItem)\n",
        "        ans = min(ans, -maxHeap[0] - minItem)\n",
        "        return ans"
      ],
      "metadata": {
        "id": "dkbHcNkZyOQ8"
      },
      "execution_count": null,
      "outputs": []
    },
    {
      "cell_type": "code",
      "source": [],
      "metadata": {
        "id": "us3V-bXMyOVP"
      },
      "execution_count": null,
      "outputs": []
    },
    {
      "cell_type": "markdown",
      "source": [
        "**26th-February-2023**\n",
        "\n",
        "\n",
        "**Leetcode 121**: **Best Time to Buy and Sell Stock**\n",
        "\n",
        "**Problem**:You are given an array prices where prices[i] is the price of a given stock on the ith day.\n",
        "\n",
        "You want to maximize your profit by choosing a single day to buy one stock and choosing a different day in the future to sell that stock.\n",
        "\n",
        "Return the maximum profit you can achieve from this transaction. If you cannot achieve any profit, return 0.\n",
        "\n",
        "\n",
        "\n",
        "\n",
        "\n",
        "\n",
        "**URL**: **https://leetcode.com/problems/best-time-to-buy-and-sell-stock/**"
      ],
      "metadata": {
        "id": "6clUfW0NiXHb"
      }
    },
    {
      "cell_type": "code",
      "source": [
        "class Solution:\n",
        "    def maxProfit(self, prices: List[int]) -> int:\n",
        "        max_profit_price = 0\n",
        "        min_buy_price = float('inf')\n",
        "        for price in prices:\n",
        "            min_buy_price=min(min_buy_price, price)\n",
        "            max_profit_price=max(max_profit_price, price - min_buy_price)\n",
        "        return max_profit_price\n"
      ],
      "metadata": {
        "id": "sijKeNGvyOdQ"
      },
      "execution_count": null,
      "outputs": []
    },
    {
      "cell_type": "code",
      "source": [],
      "metadata": {
        "id": "HvJXuN0TyOhm"
      },
      "execution_count": null,
      "outputs": []
    },
    {
      "cell_type": "markdown",
      "source": [
        "**27th-February-2023**\n",
        "\n",
        "**Leetcode 72**: **Edit Distance**\n",
        "\n",
        "**Problem**: Given two strings word1 and word2, return the minimum number of operations required to convert word1 to word2.\n",
        "\n",
        "You have the following three operations permitted on a word:\n",
        "\n",
        "**Insert a character\n",
        "\n",
        "**Delete a character\n",
        "\n",
        "**Replace a character\n",
        "\n",
        "\n",
        "**URL**: **https://leetcode.com/problems/edit-distance/**"
      ],
      "metadata": {
        "id": "AxPPbo6Aj_va"
      }
    },
    {
      "cell_type": "code",
      "source": [
        "class Solution:\n",
        "    def minDistance(self, word1: str, word2: str) -> int:\n",
        "        m, n = len(word1), len(word2)\n",
        "        dp = [[0] * (n + 1) for _ in range(m + 1)]\n",
        "\n",
        "        for i in range(m + 1):\n",
        "            for j in range(n + 1):\n",
        "                if i == 0:\n",
        "                    dp[i][j] = j\n",
        "                elif j == 0:\n",
        "                    dp[i][j] = i\n",
        "                elif word1[i - 1] == word2[j - 1]:\n",
        "                    dp[i][j] = dp[i - 1][j - 1]\n",
        "                else:\n",
        "                    dp[i][j] = min(dp[i - 1][j - 1], dp[i - 1][j], dp[i][j - 1]) + 1\n",
        "\n",
        "        return dp[m][n]"
      ],
      "metadata": {
        "id": "31kN56SVm0S5"
      },
      "execution_count": null,
      "outputs": []
    },
    {
      "cell_type": "code",
      "source": [],
      "metadata": {
        "id": "hS5EHD4q8NqX"
      },
      "execution_count": null,
      "outputs": []
    },
    {
      "cell_type": "markdown",
      "source": [
        "**28th-February-2023**\n",
        "\n",
        "**Leetcode 427**: **Construct Quad Tree**\n",
        "\n",
        "**Problem**: Given a n * n matrix grid of 0's and 1's only. We want to represent the grid with a Quad-Tree.\n",
        "\n",
        "Return the root of the Quad-Tree representing the grid.\n",
        "\n",
        "Notice that you can assign the value of a node to True or False when isLeaf is False, and both are accepted in the answer.\n",
        "\n",
        "A Quad-Tree is a tree data structure in which each internal node has exactly four children. Besides, each node has two attributes:\n",
        "\n",
        "val: True if the node represents a grid of 1's or False if the node represents a grid of 0's.\n",
        "isLeaf: True if the node is leaf node on the tree or False if the node has the four children.\n",
        "class Node {\n",
        "    public boolean val;\n",
        "    public boolean isLeaf;\n",
        "    public Node topLeft;\n",
        "    public Node topRight;\n",
        "    public Node bottomLeft;\n",
        "    public Node bottomRight;\n",
        "}\n",
        "We can construct a Quad-Tree from a two-dimensional area using the following steps:\n",
        "\n",
        "If the current grid has the same value (i.e all 1's or all 0's) set isLeaf True and set val to the value of the grid and set the four children to Null and stop.\n",
        "If the current grid has different values, set isLeaf to False and set val to any value and divide the current grid into four sub-grids as shown in the photo.\n",
        "Recurse for each of the children with the proper sub-grid.\n",
        "\n",
        "If you want to know more about the Quad-Tree, you can refer to the wiki.\n",
        "\n",
        "Quad-Tree format:\n",
        "\n",
        "The output represents the serialized format of a Quad-Tree using level order traversal, where null signifies a path terminator where no node exists below.\n",
        "\n",
        "It is very similar to the serialization of the binary tree. The only difference is that the node is represented as a list [isLeaf, val].\n",
        "\n",
        "If the value of isLeaf or val is True we represent it as 1 in the list [isLeaf, val] and if the value of isLeaf or val is False we represent it as 0.\n",
        "\n",
        "\n",
        "\n",
        "\n",
        "\n",
        "\n",
        "**URL**: **https://leetcode.com/problems/construct-quad-tree/**"
      ],
      "metadata": {
        "id": "13Y_81598RYQ"
      }
    },
    {
      "cell_type": "code",
      "source": [
        "\"\"\"\n",
        "# Definition for a QuadTree node.\n",
        "class Node:\n",
        "    def __init__(self, val, isLeaf, topLeft, topRight, bottomLeft, bottomRight):\n",
        "        self.val = val\n",
        "        self.isLeaf = isLeaf\n",
        "        self.topLeft = topLeft\n",
        "        self.topRight = topRight\n",
        "        self.bottomLeft = bottomLeft\n",
        "        self.bottomRight = bottomRight\n",
        "\"\"\"\n",
        "\n",
        "class Solution:\n",
        "    def construct(self, grid: List[List[int]]) -> 'Node':\n",
        "        def is_same(grid, x, y, length):\n",
        "            val = grid[x][y]\n",
        "            for i in range(x, x+length):\n",
        "                for j in range(y, y+length):\n",
        "                    if val != grid[i][j]:\n",
        "                        return False\n",
        "            return True\n",
        "\n",
        "        def solve(grid, x, y, length):\n",
        "            if is_same(grid, x,y, length):\n",
        "                return Node(grid[x][y], True)\n",
        "            else:\n",
        "                root = Node(None, False)\n",
        "                root.topLeft = solve(grid, x, y, length//2)\n",
        "                root.topRight = solve(grid, x, y+length//2, length//2)\n",
        "                root.bottomLeft = solve(grid, x+length//2, y, length//2)\n",
        "                root.bottomRight = solve(grid, x+length//2, y+length//2, length//2)\n",
        "                return root\n",
        "        return solve(grid, 0, 0, len(grid))"
      ],
      "metadata": {
        "id": "KFVbF67Q8NtN"
      },
      "execution_count": null,
      "outputs": []
    },
    {
      "cell_type": "code",
      "source": [],
      "metadata": {
        "id": "5Adxvjap8NwV"
      },
      "execution_count": null,
      "outputs": []
    },
    {
      "cell_type": "markdown",
      "source": [
        "**1st-March-2023**\n",
        "\n",
        "**Leetcode 652**: **Find Duplicate Subtrees**\n",
        "\n",
        "**Problem**: Given the root of a binary tree, return all duplicate subtrees.\n",
        "\n",
        "For each kind of duplicate subtrees, you only need to return the root node of any one of them.\n",
        "\n",
        "Two trees are duplicate if they have the same structure with the same node values.\n",
        "\n",
        "\n",
        "**URL**: **https://leetcode.com/problems/find-duplicate-subtrees/**"
      ],
      "metadata": {
        "id": "sXr4Gt5iRTn2"
      }
    },
    {
      "cell_type": "code",
      "source": [
        "# Definition for a binary tree node.\n",
        "# class TreeNode:\n",
        "#     def __init__(self, val=0, left=None, right=None):\n",
        "#         self.val = val\n",
        "#         self.left = left\n",
        "#         self.right = right\n",
        "class Solution:\n",
        "  def findDuplicateSubtrees(self, root: Optional[TreeNode]) -> List[Optional[TreeNode]]:\n",
        "    ans = []\n",
        "    count = collections.Counter()\n",
        "\n",
        "    def encode(root: Optional[TreeNode]) -> str:\n",
        "      if not root:\n",
        "        return ''\n",
        "\n",
        "      encoded = str(root.val) + '#' + \\\n",
        "          encode(root.left) + '#' + \\\n",
        "          encode(root.right)\n",
        "      count[encoded] += 1\n",
        "      if count[encoded] == 2:\n",
        "        ans.append(root)\n",
        "      return encoded\n",
        "\n",
        "    encode(root)\n",
        "    return ans"
      ],
      "metadata": {
        "id": "2UN7vofN8Nzh"
      },
      "execution_count": null,
      "outputs": []
    },
    {
      "cell_type": "code",
      "source": [],
      "metadata": {
        "id": "zWd470XL8N2v"
      },
      "execution_count": null,
      "outputs": []
    },
    {
      "cell_type": "markdown",
      "source": [
        "**2nd-March-2023**\n",
        "\n",
        "**Leetcode 912**: **Sort An Array**\n",
        "\n",
        "**Problem**: Given an array of integers nums, sort the array in ascending order and return it.\n",
        "\n",
        "You must solve the problem without using any built-in functions in O(nlog(n)) time complexity and with the smallest space complexity possible.\n",
        "\n",
        "\n",
        "\n",
        "\n",
        "**URL**: **https://leetcode.com/problems/sort-an-array/**"
      ],
      "metadata": {
        "id": "oOjN2dyc-MYO"
      }
    },
    {
      "cell_type": "code",
      "source": [
        "from queue import PriorityQueue as pq\n",
        "class Solution:\n",
        "    def sortArray(self, nums: List[int]) -> List[int]:\n",
        "        q = pq()\n",
        "        for i in nums:\n",
        "            q.put(i)\n",
        "        for i in range(len(nums)):\n",
        "            nums[i] = q.get()\n",
        "        return nums"
      ],
      "metadata": {
        "id": "OcOdouAB8N58"
      },
      "execution_count": null,
      "outputs": []
    },
    {
      "cell_type": "code",
      "source": [],
      "metadata": {
        "id": "PKb30SyI8N9F"
      },
      "execution_count": null,
      "outputs": []
    },
    {
      "cell_type": "markdown",
      "source": [
        "**3rd-March-2023**\n",
        "\n",
        "**Leetcode 443**: **String Compression**\n",
        "\n",
        "**Problem**: Given an array of characters chars, compress it using the following algorithm:\n",
        "\n",
        "Begin with an empty string s. For each group of consecutive repeating characters in chars:\n",
        "\n",
        "**If the group's length is 1, append the character to s.\n",
        "\n",
        "**Otherwise, append the character followed by the group's length.\n",
        "\n",
        "The compressed string s should not be returned separately, but instead, be stored in the input character array chars. Note that group lengths that are 10 or longer will be split into multiple characters in chars.\n",
        "\n",
        "After you are done modifying the input array, return the new length of the array.\n",
        "\n",
        "You must write an algorithm that uses only constant extra space.\n",
        "\n",
        "\n",
        "\n",
        "\n",
        "**URL**: **https://leetcode.com/problems/string-compression/**"
      ],
      "metadata": {
        "id": "Xn6vBYGWQCBi"
      }
    },
    {
      "cell_type": "code",
      "source": [
        "class Solution:\n",
        "  def compress(self, chars: List[str]) -> int:\n",
        "    res = 0\n",
        "    i = 0\n",
        "\n",
        "    while i < len(chars):\n",
        "      letter = chars[i]\n",
        "      count = 0\n",
        "      while i < len(chars) and chars[i] == letter:\n",
        "        count += 1\n",
        "        i += 1\n",
        "      chars[res] = letter\n",
        "      res += 1\n",
        "      if count > 1:\n",
        "        for c in str(count):\n",
        "          chars[res] = c\n",
        "          res += 1\n",
        "\n",
        "    return res"
      ],
      "metadata": {
        "id": "K2SRkHm38OAQ"
      },
      "execution_count": null,
      "outputs": []
    },
    {
      "cell_type": "code",
      "source": [],
      "metadata": {
        "id": "8JtqEoSsQFQo"
      },
      "execution_count": null,
      "outputs": []
    },
    {
      "cell_type": "markdown",
      "source": [
        "**4th-March-2023**\n",
        "\n",
        "**Leetcode 28**: **Find the Index of the First Occurrence in a String**\n",
        "\n",
        "**Problem**: Given two strings needle and haystack, return the index of the first occurrence of needle in haystack, or -1 if needle is not part of haystack.\n",
        "\n",
        "\n",
        "\n",
        "**URL**: **https://leetcode.com/problems/find-the-index-of-the-first-occurrence-in-a-string/**"
      ],
      "metadata": {
        "id": "qkSqp7yLQLPP"
      }
    },
    {
      "cell_type": "code",
      "source": [
        "class Solution:\n",
        "  def strStr(self, haystack: str, needle: str) -> int:\n",
        "    m = len(haystack)\n",
        "    n = len(needle)\n",
        "\n",
        "    for i in range(m - n + 1):\n",
        "      if haystack[i:i + n] == needle:\n",
        "        return i\n",
        "\n",
        "    return -1\n"
      ],
      "metadata": {
        "id": "UpCef2shQFUa"
      },
      "execution_count": null,
      "outputs": []
    },
    {
      "cell_type": "code",
      "source": [],
      "metadata": {
        "id": "jZOaQ5_VQFXq"
      },
      "execution_count": null,
      "outputs": []
    },
    {
      "cell_type": "markdown",
      "source": [
        "**5th-March-2023**\n",
        "\n",
        "**Leetcode 2444**: **Count Subarrays With Fixed Bounds**\n",
        "\n",
        "**Problem**: You are given an integer array nums and two integers minK and maxK.\n",
        "\n",
        "A fixed-bound subarray of nums is a subarray that satisfies the following conditions:\n",
        "\n",
        "**The minimum value in the subarray is equal to minK.\n",
        "\n",
        "**The maximum value in the subarray is equal to maxK.\n",
        "\n",
        "Return the number of fixed-bound subarrays.\n",
        "\n",
        "A subarray is a contiguous part of an array.\n",
        "\n",
        "\n",
        "**URL**: **https://leetcode.com/problems/count-subarrays-with-fixed-bounds/**"
      ],
      "metadata": {
        "id": "XSC70Pw8uUc-"
      }
    },
    {
      "cell_type": "code",
      "source": [
        "class Solution:\n",
        "  def countSubarrays(self, nums: List[int], minK: int, maxK: int) -> int:\n",
        "    ans = 0\n",
        "    j = -1\n",
        "    prevMinKIndex = -1\n",
        "    prevMaxKIndex = -1\n",
        "\n",
        "    for i, num in enumerate(nums):\n",
        "      if num < minK or num > maxK:\n",
        "        j = i\n",
        "      if num == minK:\n",
        "        prevMinKIndex = i\n",
        "      if num == maxK:\n",
        "        prevMaxKIndex = i\n",
        "      # any index k in [j + 1, min(prevMinKIndex, prevMaxKIndex)] can be the\n",
        "      # start of the subarray s.t. nums[k..i] satisfies the conditions\n",
        "      ans += max(0, min(prevMinKIndex, prevMaxKIndex) - j)\n",
        "\n",
        "    return ans\n"
      ],
      "metadata": {
        "id": "CL3DLPCGQFai"
      },
      "execution_count": null,
      "outputs": []
    },
    {
      "cell_type": "code",
      "source": [],
      "metadata": {
        "id": "5wcCAZ_lQFeK"
      },
      "execution_count": null,
      "outputs": []
    },
    {
      "cell_type": "markdown",
      "source": [
        "**6th-March-2023**\n",
        "\n",
        "**Leetcode 1345**: **Count Subarrays With Fixed Bounds**\n",
        "\n",
        "**Problem**: Given an array of integers arr, you are initially positioned at the first index of the array.\n",
        "\n",
        "In one step you can jump from index i to index:\n",
        "\n",
        "**i + 1 where: i + 1 < arr.length.\n",
        "\n",
        "**i - 1 where: i - 1 >= 0.\n",
        "\n",
        "**j where: arr[i] == arr[j] and i != j.\n",
        "\n",
        "Return the minimum number of steps to reach the last index of the array.\n",
        "\n",
        "Notice that you can not jump outside of the array at any time.\n",
        "\n",
        "\n",
        "**URL**: **https://leetcode.com/problems/count-subarrays-with-fixed-bounds/**"
      ],
      "metadata": {
        "id": "AD31svBzwOJd"
      }
    },
    {
      "cell_type": "code",
      "source": [
        "lass Solution:\n",
        "  def minJumps(self, arr: List[int]) -> int:\n",
        "    n = len(arr)\n",
        "    # {num: indices}\n",
        "    graph = collections.defaultdict(list)\n",
        "    steps = 0\n",
        "    q = collections.deque([0])\n",
        "    seen = {0}\n",
        "\n",
        "    for i, a in enumerate(arr):\n",
        "      graph[a].append(i)\n",
        "\n",
        "    while q:\n",
        "      for _ in range(len(q)):\n",
        "        i = q.popleft()\n",
        "        if i == n - 1:\n",
        "          return steps\n",
        "        seen.add(i)\n",
        "        u = arr[i]\n",
        "        if i + 1 < n:\n",
        "          graph[u].append(i + 1)\n",
        "        if i - 1 >= 0:\n",
        "          graph[u].append(i - 1)\n",
        "        for v in graph[u]:\n",
        "          if v in seen:\n",
        "            continue\n",
        "          q.append(v)\n",
        "        graph[u].clear()\n",
        "      steps += 1\n"
      ],
      "metadata": {
        "id": "i-VQtP10QFlH"
      },
      "execution_count": null,
      "outputs": []
    },
    {
      "cell_type": "code",
      "source": [],
      "metadata": {
        "id": "biezm5SYQFod"
      },
      "execution_count": null,
      "outputs": []
    },
    {
      "cell_type": "markdown",
      "source": [
        "**7th-March-2023**\n",
        "\n",
        "**Leetcode 1539**: **Kth Missing Positive Number**\n",
        "\n",
        "**Problem**: Given an array arr of positive integers sorted in a strictly increasing order, and an integer k.\n",
        "\n",
        "Return the kth positive integer that is missing from this array.\n",
        "\n",
        "**URL**: **https://leetcode.com/problems/kth-missing-positive-number/**"
      ],
      "metadata": {
        "id": "7KmLDZiENDry"
      }
    },
    {
      "cell_type": "code",
      "source": [
        "class Solution:\n",
        "    def findKthPositive(self, arr: List[int], k: int) -> int:\n",
        "        left, right = 0, len(arr) - 1\n",
        "        while left <= right:\n",
        "            mid = (left + right) // 2\n",
        "            missing = arr[mid] - mid - 1\n",
        "            if missing < k:\n",
        "                left = mid + 1\n",
        "            else:\n",
        "                right = mid - 1\n",
        "        return right + k + 1"
      ],
      "metadata": {
        "id": "a7pnAP1xQFr3"
      },
      "execution_count": null,
      "outputs": []
    },
    {
      "cell_type": "code",
      "source": [],
      "metadata": {
        "id": "JRVjOYOLQFvT"
      },
      "execution_count": null,
      "outputs": []
    },
    {
      "cell_type": "markdown",
      "source": [
        "**8th-March-2023**\n",
        "\n",
        "**Leetcode 218**7: **Minimum Time to Complete Trips**\n",
        "\n",
        "**Problem**: You are given an array time where time[i] denotes the time taken by the ith bus to complete one trip.\n",
        "\n",
        "Each bus can make multiple trips successively; that is, the next trip can start immediately after completing the current trip. Also, each bus operates independently; that is, the trips of one bus do not influence the trips of any other bus.\n",
        "\n",
        "You are also given an integer totalTrips, which denotes the number of trips all buses should make in total. Return the minimum time required for all buses to complete at least totalTrips trips.\n",
        "\n",
        "\n",
        "**URL**: **https://leetcode.com/problems/minimum-time-to-complete-trips/**"
      ],
      "metadata": {
        "id": "nkLe6R0dH6k4"
      }
    },
    {
      "cell_type": "code",
      "source": [
        "class Solution:\n",
        "    def minimumTime(self, time: List[int], totalTrips: int) -> int:\n",
        "        check = lambda t: sum(t // bus for bus in time) >= totalTrips\n",
        "\n",
        "        lo, hi = 1, time[0] * totalTrips\n",
        "        while lo < hi:\n",
        "            mid = (lo + hi) // 2\n",
        "            if check(mid):\n",
        "                hi = mid\n",
        "            else:\n",
        "                lo = mid + 1\n",
        "\n",
        "        return lo\n"
      ],
      "metadata": {
        "id": "SvX4LfsRQFyu"
      },
      "execution_count": null,
      "outputs": []
    },
    {
      "cell_type": "code",
      "source": [],
      "metadata": {
        "id": "wI_QHKSuOFby"
      },
      "execution_count": null,
      "outputs": []
    },
    {
      "cell_type": "markdown",
      "source": [
        "**9th-March-2023**\n",
        "\n",
        "**Leetcode 875**: **Koko Eating Bananas**\n",
        "\n",
        "**Problem**: Koko loves to eat bananas. There are n piles of bananas, the ith pile has piles[i] bananas. The guards have gone and will come back in h hours.\n",
        "\n",
        "Koko can decide her bananas-per-hour eating speed of k. Each hour, she chooses some pile of bananas and eats k bananas from that pile. If the pile has less than k bananas, she eats all of them instead and will not eat any more bananas during this hour.\n",
        "\n",
        "Koko likes to eat slowly but still wants to finish eating all the bananas before the guards return.\n",
        "\n",
        "Return the minimum integer k such that she can eat all the bananas within h hours.\n",
        "\n",
        "**URL**: **https://leetcode.com/problems/koko-eating-bananas/**"
      ],
      "metadata": {
        "id": "eFralBjoOGdd"
      }
    },
    {
      "cell_type": "code",
      "source": [
        "class Solution:\n",
        "  def minEatingSpeed(self, piles: List[int], h: int) -> int:\n",
        "    l = 1\n",
        "    r = max(piles)\n",
        "\n",
        "    # Hours to eat all piles with speed m\n",
        "    def eatHours(m: int) -> int:\n",
        "      return sum((pile - 1) // m + 1 for pile in piles)\n",
        "\n",
        "    while l < r:\n",
        "      m = (l + r) // 2\n",
        "      if eatHours(m) <= h:\n",
        "        r = m\n",
        "      else:\n",
        "        l = m + 1\n",
        "\n",
        "    return l\n"
      ],
      "metadata": {
        "id": "wTu0aJPCOFfQ"
      },
      "execution_count": null,
      "outputs": []
    },
    {
      "cell_type": "code",
      "source": [],
      "metadata": {
        "id": "75GUUwsbOFiY"
      },
      "execution_count": null,
      "outputs": []
    },
    {
      "cell_type": "markdown",
      "source": [
        "**10th-March-2023**\n",
        "\n",
        "**Leetcode 142**: **Linked List Cycle II**\n",
        "\n",
        "**Problem**: Given the head of a linked list, return the node where the cycle begins. If there is no cycle, return null.\n",
        "\n",
        "There is a cycle in a linked list if there is some node in the list that can be reached again by continuously following the next pointer. Internally, pos is used to denote the index of the node that tail's next pointer is connected to (0-indexed). It is -1 if there is no cycle. Note that pos is not passed as a parameter.\n",
        "\n",
        "Do not modify the linked list.\n",
        "\n",
        "**URL**:**https://leetcode.com/problems/linked-list-cycle-ii/**"
      ],
      "metadata": {
        "id": "CDEu28Wu2VZ8"
      }
    },
    {
      "cell_type": "code",
      "source": [
        "# Definition for singly-linked list.\n",
        "# class ListNode:\n",
        "#     def __init__(self, x):\n",
        "#         self.val = x\n",
        "#         self.next = None\n",
        "\n",
        "class Solution:\n",
        "    def detectCycle(self, head: Optional[ListNode]) -> Optional[ListNode]:\n",
        "         node_dict = {}\n",
        "\n",
        "         while head:\n",
        "\t\t\t# if node is not in dict, add it.\n",
        "            if head not in node_dict:\n",
        "                node_dict[head] = 'visited'\n",
        "\t\t\t# our node is in dict, so we have seen this node and this node is the start point of our cycle.\n",
        "            else:\n",
        "                return head\n",
        "\t\t\t# go to next node\n",
        "            head = head.next\n",
        "        # return None if there is no cycle.\n",
        "         return None"
      ],
      "metadata": {
        "id": "QNX6B63QOFlr"
      },
      "execution_count": null,
      "outputs": []
    },
    {
      "cell_type": "code",
      "source": [],
      "metadata": {
        "id": "uk_Pn1K2OFpL"
      },
      "execution_count": null,
      "outputs": []
    },
    {
      "cell_type": "markdown",
      "source": [
        "**11th-March-2023**\n",
        "\n",
        "**Leetcode 382**: **Linked List Random Node**\n",
        "\n",
        "**Problem**: Given a singly linked list, return a random node's value from the linked list. Each node must have the same probability of being chosen.\n",
        "\n",
        "Implement the Solution class:\n",
        "\n",
        "Solution(ListNode head) Initializes the object with the head of the singly-linked list head.\n",
        "\n",
        "**int getRandom() Chooses a node randomly from the list and returns its value.\n",
        "\n",
        "**All the nodes of the list should be equally likely to be chosen\n",
        "\n",
        "**URL**:**https://leetcode.com/problems/linked-list-random-node/**"
      ],
      "metadata": {
        "id": "jUR_vMz_mRNv"
      }
    },
    {
      "cell_type": "code",
      "source": [
        "# Definition for singly-linked list.\n",
        "# class ListNode:\n",
        "#     def __init__(self, val=0, next=None):\n",
        "#         self.val = val\n",
        "#         self.next = next\n",
        "\n",
        "class Solution:\n",
        "    def __init__(self, head: ListNode):\n",
        "        self.nodes = []\n",
        "        while head:\n",
        "            self.nodes.append(head.val)\n",
        "            head = head.next\n",
        "\n",
        "    def getRandom(self) -> int:\n",
        "        ind = random.randint(0, len(self.nodes) - 1)\n",
        "        return self.nodes[ind]\n",
        "\n",
        "\n",
        "\n",
        "# Your Solution object will be instantiated and called as such:\n",
        "# obj = Solution(head)\n",
        "# param_1 = obj.getRandom()"
      ],
      "metadata": {
        "id": "vCV05DX8OFst"
      },
      "execution_count": null,
      "outputs": []
    },
    {
      "cell_type": "code",
      "source": [],
      "metadata": {
        "id": "DPnGsP6aQF2G"
      },
      "execution_count": null,
      "outputs": []
    },
    {
      "cell_type": "markdown",
      "source": [
        "**12th-March-2023**\n",
        "\n",
        "**Leetcode 109**: **Convert Sorted List to Binary Search Tree**\n",
        "\n",
        "**Problem**: Given the head of a singly linked list where elements are sorted in ascending order, convert it to a\n",
        "height-balanced\n",
        " binary search tree.\n",
        "\n",
        "**URL**:**https://leetcode.com/problems/convert-sorted-list-to-binary-search-tree/**"
      ],
      "metadata": {
        "id": "kmz81lL4S9cX"
      }
    },
    {
      "cell_type": "code",
      "source": [
        "# Definition for singly-linked list.\n",
        "# class ListNode:\n",
        "#     def __init__(self, val=0, next=None):\n",
        "#         self.val = val\n",
        "#         self.next = next\n",
        "# Definition for a binary tree node.\n",
        "# class TreeNode:\n",
        "#     def __init__(self, val=0, left=None, right=None):\n",
        "#         self.val = val\n",
        "#         self.left = left\n",
        "#         self.right = right\n",
        "class Solution:\n",
        "  def sortedListToBST(self, head: Optional[ListNode]) -> Optional[TreeNode]:\n",
        "    A = []\n",
        "\n",
        "    # Construct the array\n",
        "    curr = head\n",
        "    while curr:\n",
        "      A.append(curr.val)\n",
        "      curr = curr.next\n",
        "\n",
        "    def helper(l: int, r: int) -> Optional[TreeNode]:\n",
        "      if l > r:\n",
        "        return None\n",
        "\n",
        "      m = (l + r) // 2\n",
        "      root = TreeNode(A[m])\n",
        "      root.left = helper(l, m - 1)\n",
        "      root.right = helper(m + 1, r)\n",
        "      return root\n",
        "\n",
        "    return helper(0, len(A) - 1)\n"
      ],
      "metadata": {
        "id": "C216sMW4QF5T"
      },
      "execution_count": null,
      "outputs": []
    },
    {
      "cell_type": "code",
      "source": [],
      "metadata": {
        "id": "yLjNlkg8ykWg"
      },
      "execution_count": null,
      "outputs": []
    },
    {
      "cell_type": "markdown",
      "source": [
        "**13th-March-2023**\n",
        "\n",
        "**Leetcode 23**: **Merge K Sorted Lists**\n",
        "\n",
        "**Problem**: You are given an array of k linked-lists lists, each linked-list is sorted in ascending order.\n",
        "\n",
        "Merge all the linked-lists into one sorted linked-list and return it.\n",
        "\n",
        "\n",
        "**URL**:**https://leetcode.com/problems/merge-k-sorted-lists/**"
      ],
      "metadata": {
        "id": "TMt_tjw0yleb"
      }
    },
    {
      "cell_type": "code",
      "source": [
        "# Definition for singly-linked list.\n",
        "# class ListNode:\n",
        "#     def __init__(self, val=0, next=None):\n",
        "#         self.val = val\n",
        "#         self.next = next\n",
        "from queue import PriorityQueue\n",
        "\n",
        "\n",
        "class Solution:\n",
        "  def mergeKLists(self, lists: List[ListNode]) -> ListNode:\n",
        "    dummy = ListNode(0)\n",
        "    curr = dummy\n",
        "    pq = PriorityQueue()\n",
        "\n",
        "    for i, lst in enumerate(lists):\n",
        "      if lst:\n",
        "        pq.put((lst.val, i, lst))\n",
        "\n",
        "    while not pq.empty():\n",
        "      _, i, minNode = pq.get()\n",
        "      if minNode.next:\n",
        "        pq.put((minNode.next.val, i, minNode.next))\n",
        "      curr.next = minNode\n",
        "      curr = curr.next\n",
        "\n",
        "    return dummy.next\n"
      ],
      "metadata": {
        "id": "J4R10IB1ykaI"
      },
      "execution_count": null,
      "outputs": []
    },
    {
      "cell_type": "code",
      "source": [],
      "metadata": {
        "id": "usKoqRFsykdv"
      },
      "execution_count": null,
      "outputs": []
    },
    {
      "cell_type": "markdown",
      "source": [
        "**14th-March-2023**\n",
        "\n",
        "**Leetcode 101**: **Symmetric Tree**\n",
        "\n",
        "**Problem**:Given the root of a binary tree, check whether it is a mirror of itself (i.e., symmetric around its center).\n",
        "\n",
        "\n",
        "\n",
        "**URL**:**https://leetcode.com/problems/symmetric-tree/**"
      ],
      "metadata": {
        "id": "kYRlgNw45sCA"
      }
    },
    {
      "cell_type": "code",
      "source": [
        " Definition for a binary tree node.\n",
        "# class TreeNode:\n",
        "#     def __init__(self, val=0, left=None, right=None):\n",
        "#         self.val = val\n",
        "#         self.left = left\n",
        "#         self.right = right\n",
        "class Solution:\n",
        "    def isSymmetric(self, root: Optional[TreeNode]) -> bool:\n",
        "        def isSymmetric(p: Optional[TreeNode], q: Optional[TreeNode]) -> bool:\n",
        "            if not p or not q:\n",
        "                return p == q\n",
        "\n",
        "            return p.val == q.val and \\\n",
        "                isSymmetric(p.left, q.right) and \\\n",
        "                isSymmetric(p.right, q.left)\n",
        "\n",
        "        return isSymmetric(root, root)\n"
      ],
      "metadata": {
        "id": "OPdn8xpYykhK"
      },
      "execution_count": null,
      "outputs": []
    },
    {
      "cell_type": "code",
      "source": [],
      "metadata": {
        "id": "xzel2kEcykkU"
      },
      "execution_count": null,
      "outputs": []
    },
    {
      "cell_type": "markdown",
      "source": [
        "**15th-March-2023**\n",
        "\n",
        "**Leetcode 129**: **Sum Root to Leaf Numbers**\n",
        "\n",
        "**Problem**:You are given the root of a binary tree containing digits from 0 to 9 only.\n",
        "\n",
        "Each root-to-leaf path in the tree represents a number.\n",
        "\n",
        "\n",
        "> **For example, the root-to-leaf path 1 -> 2 -> 3 represents the number 123.**\n",
        "\n",
        "\n",
        "Return the total sum of all root-to-leaf numbers. Test cases are generated so that the answer will fit in a 32-bit integer.\n",
        "\n",
        "A leaf node is a node with no children.\n",
        "\n",
        "\n",
        "\n",
        "**URL**:**https://leetcode.com/problems/sum-root-to-leaf-numbers/**\n",
        "\n",
        "\n"
      ],
      "metadata": {
        "id": "EsWAaOGlE-AU"
      }
    },
    {
      "cell_type": "code",
      "source": [
        "# Definition for a binary tree node.\n",
        "# class TreeNode:\n",
        "#     def __init__(self, val=0, left=None, right=None):\n",
        "#         self.val = val\n",
        "#         self.left = left\n",
        "#         self.right = right\n",
        "class Solution:\n",
        "  def sumNumbers(self, root: Optional[TreeNode]) -> int:\n",
        "    ans = 0\n",
        "\n",
        "    def dfs(root: Optional[TreeNode], path: int) -> None:\n",
        "      nonlocal ans\n",
        "      if not root:\n",
        "        return\n",
        "      if not root.left and not root.right:\n",
        "        ans += path * 10 + root.val\n",
        "        return\n",
        "\n",
        "      dfs(root.left, path * 10 + root.val)\n",
        "      dfs(root.right, path * 10 + root.val)\n",
        "\n",
        "    dfs(root, 0)\n",
        "    return ans"
      ],
      "metadata": {
        "id": "9zY3erIzE5mF"
      },
      "execution_count": null,
      "outputs": []
    },
    {
      "cell_type": "code",
      "source": [],
      "metadata": {
        "id": "Hog3X_PxE5pd"
      },
      "execution_count": null,
      "outputs": []
    },
    {
      "cell_type": "markdown",
      "source": [
        "**16th-March-2023**\n",
        "\n",
        "**Leetcode 958**: **Check Completeness Of A Binary Tree**\n",
        "\n",
        "**Problem**:Given the root of a binary tree, determine if it is a complete binary tree.\n",
        "\n",
        "In a complete binary tree, every level, except possibly the last, is completely filled, and all nodes in the last level are as far left as possible. It can have between 1 and 2h nodes inclusive at the last level h.\n",
        "\n",
        "\n",
        "**URL**:**https://leetcode.com/problems/check-completeness-of-a-binary-tree/**"
      ],
      "metadata": {
        "id": "vV0lsZelLqIM"
      }
    },
    {
      "cell_type": "code",
      "source": [
        "# Definition for a binary tree node.\n",
        "# class TreeNode:\n",
        "#     def __init__(self, val=0, left=None, right=None):\n",
        "#         self.val = val\n",
        "#         self.left = left\n",
        "#         self.right = right\n",
        "from collections import deque\n",
        "\n",
        "class Solution:\n",
        "    def isCompleteTree(self, root: TreeNode) -> bool:\n",
        "        if not root:\n",
        "            return True\n",
        "\n",
        "        q = deque([root])\n",
        "\n",
        "        while q[0] is not None:\n",
        "            node = q.popleft()\n",
        "            q.append(node.left)\n",
        "            q.append(node.right)\n",
        "\n",
        "        while q and q[0] is None:\n",
        "            q.popleft()\n",
        "        return not bool(q)"
      ],
      "metadata": {
        "id": "0Ep1S4MwE5tW"
      },
      "execution_count": null,
      "outputs": []
    },
    {
      "cell_type": "code",
      "source": [],
      "metadata": {
        "id": "Rvx7fOnbE5xH"
      },
      "execution_count": null,
      "outputs": []
    },
    {
      "cell_type": "markdown",
      "source": [
        "**17th-March-2023**\n",
        "\n",
        "**Leetcode 106**: **Construct Binary Tree From Inorder And Postorder Traversal**\n",
        "\n",
        "**Problem**:Given two integer arrays inorder and postorder where inorder is the inorder traversal of a binary tree and postorder is the postorder traversal of the same tree, construct and return the binary tree.\n",
        "\n",
        "\n",
        "\n",
        "\n",
        "**URL**:**https://leetcode.com/problems/construct-binary-tree-from-inorder-and-postorder-traversal/**"
      ],
      "metadata": {
        "id": "AAVGP0X_2CnR"
      }
    },
    {
      "cell_type": "code",
      "source": [
        "# Definition for a binary tree node.\n",
        "# class TreeNode:\n",
        "#     def __init__(self, val=0, left=None, right=None):\n",
        "#         self.val = val\n",
        "#         self.left = left\n",
        "#         self.right = right\n",
        "class Solution:\n",
        "  def buildTree(self, inorder: List[int], postorder: List[int]) -> Optional[TreeNode]:\n",
        "    inToIndex = {num: i for i, num in enumerate(inorder)}\n",
        "\n",
        "    def build(inStart: int, inEnd: int, postStart: int, postEnd: int) -> Optional[TreeNode]:\n",
        "      if inStart > inEnd:\n",
        "        return None\n",
        "\n",
        "      rootVal = postorder[postEnd]\n",
        "      rootInIndex = inToIndex[rootVal]\n",
        "      leftSize = rootInIndex - inStart\n",
        "\n",
        "      root = TreeNode(rootVal)\n",
        "      root.left = build(inStart, rootInIndex - 1,  postStart,\n",
        "                        postStart + leftSize - 1)\n",
        "      root.right = build(rootInIndex + 1, inEnd,  postStart + leftSize,\n",
        "                         postEnd - 1)\n",
        "      return root\n",
        "\n",
        "    return build(0, len(inorder) - 1, 0, len(postorder) - 1)"
      ],
      "metadata": {
        "id": "ksaDbkznE504"
      },
      "execution_count": null,
      "outputs": []
    },
    {
      "cell_type": "code",
      "source": [],
      "metadata": {
        "id": "twLLaQKsE54z"
      },
      "execution_count": null,
      "outputs": []
    },
    {
      "cell_type": "markdown",
      "source": [
        "**18th-March-2023**\n",
        "\n",
        "**Leetcode 208**: **Implement Trie (Prefix Tree)**\n",
        "\n",
        "**Problem**:A trie (pronounced as \"try\") or prefix tree is a tree data structure used to efficiently store and retrieve keys in a dataset of strings. There are various applications of this data structure, such as autocomplete and spellchecker.\n",
        "\n",
        "Implement the Trie class:\n",
        "\n",
        "\n",
        "**Trie() Initializes the trie object.\n",
        "\n",
        "**void insert(String word) Inserts the string word into the trie.\n",
        "\n",
        "**boolean search(String word) Returns true if the string word is in the trie (i.e., was inserted before), and false otherwise.\n",
        "\n",
        "**boolean startsWith(String prefix) Returns true if there is a previously inserted string word that has the prefix prefix, and false otherwise.\n",
        "\n",
        "\n",
        "\n",
        "**URL**:**https://leetcode.com/problems/implement-trie-prefix-tree/**"
      ],
      "metadata": {
        "id": "NSP9ncjesNCj"
      }
    },
    {
      "cell_type": "code",
      "source": [
        "class TrieNode:\n",
        "  def __init__(self):\n",
        "    self.children: Dict[str, TrieNode] = collections.defaultdict(TrieNode)\n",
        "    self.isWord = False\n",
        "\n",
        "\n",
        "class Trie:\n",
        "  def __init__(self):\n",
        "    self.root = TrieNode()\n",
        "\n",
        "  def insert(self, word: str) -> None:\n",
        "    node: TrieNode = self.root\n",
        "    for c in word:\n",
        "      if c not in node.children:\n",
        "        node.children[c] = TrieNode()\n",
        "      node = node.children[c]\n",
        "    node.isWord = True\n",
        "\n",
        "  def search(self, word: str) -> bool:\n",
        "    node: TrieNode = self._find(word)\n",
        "    return node and node.isWord\n",
        "\n",
        "  def startsWith(self, prefix: str) -> bool:\n",
        "    return self._find(prefix)\n",
        "\n",
        "  def _find(self, prefix: str) -> Optional[TrieNode]:\n",
        "    node: TrieNode = self.root\n",
        "    for c in prefix:\n",
        "      if c not in node.children:\n",
        "        return None\n",
        "      node = node.children[c]\n",
        "    return node\n",
        "\n",
        "\n",
        "# Your Trie object will be instantiated and called as such:\n",
        "# obj = Trie()\n",
        "# obj.insert(word)\n",
        "# param_2 = obj.search(word)\n",
        "# param_3 = obj.startsWith(prefix)"
      ],
      "metadata": {
        "id": "f9PNsVo7E58T"
      },
      "execution_count": null,
      "outputs": []
    },
    {
      "cell_type": "code",
      "source": [],
      "metadata": {
        "id": "PieNFK5GE5_5"
      },
      "execution_count": null,
      "outputs": []
    },
    {
      "cell_type": "markdown",
      "source": [
        "**19th-March-2023**\n",
        "\n",
        "**Leetcode 1472**: **Design Browser History**\n",
        "\n",
        "**Problem**:You have a browser of one tab where you start on the homepage and you can visit another url, get back in the history number of steps or move forward in the history number of steps.\n",
        "\n",
        "Implement the BrowserHistory class:\n",
        "\n",
        "**BrowserHistory(string homepage) Initializes the object with the homepage of the browser.\n",
        "\n",
        "**void visit(string url) Visits url from the current page. It clears up all the forward history.\n",
        "\n",
        "**string back(int steps) Move steps back in history. If you can only return x steps in the history and steps > x, you will return only x steps. Return the current url after moving back in history at most steps.\n",
        "\n",
        "**string forward(int steps) Move steps forward in history. If you can only forward x steps in the history and steps > x, you will forward only x steps. Return the current url after forwarding in history at most steps.\n",
        "\n",
        "\n",
        "\n",
        "\n",
        "**URL**:**https://leetcode.com/problems/design-browser-history/**"
      ],
      "metadata": {
        "id": "163EWpUf09Tw"
      }
    },
    {
      "cell_type": "code",
      "source": [
        "class BrowserHistory:\n",
        "  def __init__(self, homepage: str):\n",
        "    self.urls = []\n",
        "    self.index = -1\n",
        "    self.lastIndex = -1\n",
        "    self.visit(homepage)\n",
        "\n",
        "  def visit(self, url: str) -> None:\n",
        "    self.index += 1\n",
        "    if self.index < len(self.urls):\n",
        "      self.urls[self.index] = url\n",
        "    else:\n",
        "      self.urls.append(url)\n",
        "    self.lastIndex = self.index\n",
        "\n",
        "  def back(self, steps: int) -> str:\n",
        "    self.index = max(0, self.index - steps)\n",
        "    return self.urls[self.index]\n",
        "\n",
        "  def forward(self, steps: int) -> str:\n",
        "    self.index = min(self.lastIndex, self.index + steps)\n",
        "    return self.urls[self.index]\n",
        "\n",
        "\n",
        "\n",
        "\n",
        "# Your BrowserHistory object will be instantiated and called as such:\n",
        "# obj = BrowserHistory(homepage)\n",
        "# obj.visit(url)\n",
        "# param_2 = obj.back(steps)\n",
        "# param_3 = obj.forward(steps)"
      ],
      "metadata": {
        "id": "ClZ3PR5LE6Do"
      },
      "execution_count": null,
      "outputs": []
    },
    {
      "cell_type": "code",
      "source": [],
      "metadata": {
        "id": "NlsagBDL7OZD"
      },
      "execution_count": null,
      "outputs": []
    },
    {
      "cell_type": "markdown",
      "source": [
        "**20th-March-2023**\n",
        "\n",
        "**Leetcode 211**: **Design Add and Search Words Data Structure**\n",
        "\n",
        "**Problem**:Design a data structure that supports adding new words and finding if a string matches any previously added string.\n",
        "\n",
        "Implement the WordDictionary class:\n",
        "\n",
        "**WordDictionary() Initializes the object.\n",
        "\n",
        "**void addWord(word) Adds word to the data structure, it can be matched later.\n",
        "\n",
        "**bool search(word) Returns true if there is any string in the data structure that matches word or false otherwise. word may contain dots '.' where dots can be matched with any letter.\n",
        "\n",
        "\n",
        "\n",
        "\n",
        "**URL**:**https://leetcode.com/problems/design-add-and-search-words-data-structure/**"
      ],
      "metadata": {
        "id": "Vd0XhPrA7QDr"
      }
    },
    {
      "cell_type": "code",
      "source": [
        "class TrieNode:\n",
        "  def __init__(self):\n",
        "    self.children: Dict[str, TrieNode] = {}\n",
        "    self.isWord = False\n",
        "\n",
        "\n",
        "class WordDictionary:\n",
        "  def __init__(self):\n",
        "    self.root = TrieNode()\n",
        "\n",
        "  def addWord(self, word: str) -> None:\n",
        "    node: TrieNode = self.root\n",
        "    for c in word:\n",
        "      node = node.children.setdefault(c, TrieNode())\n",
        "    node.isWord = True\n",
        "\n",
        "  def search(self, word: str) -> bool:\n",
        "    return self._dfs(word, 0, self.root)\n",
        "\n",
        "  def _dfs(self, word: str, s: int, node: TrieNode) -> bool:\n",
        "    if s == len(word):\n",
        "      return node.isWord\n",
        "    if word[s] != '.':\n",
        "      child: TrieNode = node.children.get(word[s], None)\n",
        "      return self._dfs(word, s + 1, child) if child else False\n",
        "    return any(self._dfs(word, s + 1, child) for child in node.children.values())\n",
        "\n",
        "\n",
        "\n",
        "# Your WordDictionary object will be instantiated and called as such:\n",
        "# obj = WordDictionary()\n",
        "# obj.addWord(word)\n",
        "# param_2 = obj.search(word)"
      ],
      "metadata": {
        "id": "9fnDGgbI7Od7"
      },
      "execution_count": null,
      "outputs": []
    },
    {
      "cell_type": "code",
      "source": [],
      "metadata": {
        "id": "Vvy-WrEW7Ohr"
      },
      "execution_count": null,
      "outputs": []
    },
    {
      "cell_type": "markdown",
      "source": [
        "**21st-March-2023**\n",
        "\n",
        "**Leetcode 605**: **Can Place Flowers**\n",
        "\n",
        "**Problem**:You have a long flowerbed in which some of the plots are planted, and some are not. However, flowers cannot be planted in adjacent plots.\n",
        "\n",
        "Given an integer array flowerbed containing 0's and 1's, where 0 means empty and 1 means not empty, and an integer n, return if n new flowers can be planted in the flowerbed without violating the no-adjacent-flowers rule.\n",
        "\n",
        "\n",
        "\n",
        "\n",
        "**URL**:**https://leetcode.com/problems/can-place-flowers/**"
      ],
      "metadata": {
        "id": "4YT69HSloI5-"
      }
    },
    {
      "cell_type": "code",
      "source": [
        "class Solution:\n",
        "  def canPlaceFlowers(self, flowerbed: List[int], n: int) -> bool:\n",
        "    for i, flower in enumerate(flowerbed):\n",
        "      if flower == 0 and (i == 0 or flowerbed[i - 1] == 0) and (i == len(flowerbed) - 1 or flowerbed[i + 1] == 0):\n",
        "        flowerbed[i] = 1\n",
        "        n -= 1\n",
        "      if n <= 0:\n",
        "        return True\n",
        "\n",
        "    return False\n"
      ],
      "metadata": {
        "id": "H038u8Lb7Okz"
      },
      "execution_count": null,
      "outputs": []
    },
    {
      "cell_type": "code",
      "source": [],
      "metadata": {
        "id": "zSr7RCV57Osj"
      },
      "execution_count": null,
      "outputs": []
    },
    {
      "cell_type": "markdown",
      "source": [
        "**22nd-March-2023**\n",
        "\n",
        "**Leetcode 2348**: **Number of Zero-Filled Subarrays**\n",
        "\n",
        "**Problem**:Given an integer array nums, return the number of subarrays filled with 0.\n",
        "\n",
        "A subarray is a contiguous non-empty sequence of elements within an array.\n",
        "\n",
        "**URL**:**https://leetcode.com/problems/number-of-zero-filled-subarrays/**"
      ],
      "metadata": {
        "id": "D8BiQGej8-Vx"
      }
    },
    {
      "cell_type": "code",
      "source": [
        "class Solution:\n",
        "  def zeroFilledSubarray(self, nums: List[int]) -> int:\n",
        "    ans = 0\n",
        "    indexBeforeZero = -1\n",
        "\n",
        "    for i, num in enumerate(nums):\n",
        "      if num:\n",
        "        indexBeforeZero = i\n",
        "      else:\n",
        "        ans += i - indexBeforeZero\n",
        "\n",
        "    return ans"
      ],
      "metadata": {
        "id": "EvZdjFaB7OwY"
      },
      "execution_count": null,
      "outputs": []
    },
    {
      "cell_type": "code",
      "source": [],
      "metadata": {
        "id": "Iau5xIej7Ozj"
      },
      "execution_count": null,
      "outputs": []
    },
    {
      "cell_type": "markdown",
      "source": [
        "**23rd-March-2023**\n",
        "\n",
        "**Leetcode 2492**: **Minimum Score of a Path Between Two Cities**\n",
        "\n",
        "**Problem**:You are given a positive integer n representing n cities numbered from 1 to n. You are also given a 2D array roads where roads[i] = [ai, bi, distancei] indicates that there is a bidirectional road between cities ai and bi with a distance equal to distancei. The cities graph is not necessarily connected.\n",
        "\n",
        "The score of a path between two cities is defined as the minimum distance of a road in this path.\n",
        "\n",
        "Return the minimum possible score of a path between cities 1 and n.\n",
        "\n",
        "Note:\n",
        "\n",
        "**A path is a sequence of roads between two cities.\n",
        "\n",
        "**It is allowed for a path to contain the same road multiple times, and you can visit cities 1 and n multiple times along the path.\n",
        "\n",
        "**The test cases are generated such that there is at least one path between 1 and n.\n",
        "\n",
        "**URL**:**https://leetcode.com/problems/minimum-score-of-a-path-between-two-cities/**"
      ],
      "metadata": {
        "id": "WiUkcweQSaQR"
      }
    },
    {
      "cell_type": "code",
      "source": [
        "class Solution:\n",
        "  def minScore(self, n: int, roads: List[List[int]]) -> int:\n",
        "    ans = math.inf\n",
        "    graph = [[] for _ in range(n + 1)]  # graph[u] := [(v, distance)]\n",
        "    q = collections.deque([1])\n",
        "    seen = {1}\n",
        "\n",
        "    for u, v, distance in roads:\n",
        "      graph[u].append((v, distance))\n",
        "      graph[v].append((u, distance))\n",
        "\n",
        "    while q:\n",
        "      u = q.popleft()\n",
        "      for v, d in graph[u]:\n",
        "        ans = min(ans, d)\n",
        "        if v in seen:\n",
        "          continue\n",
        "        q.append(v)\n",
        "        seen.add(v)\n",
        "\n",
        "    return ans\n"
      ],
      "metadata": {
        "id": "Y162IMF97O3T"
      },
      "execution_count": null,
      "outputs": []
    },
    {
      "cell_type": "code",
      "source": [],
      "metadata": {
        "id": "NdzVODAt7O7E"
      },
      "execution_count": null,
      "outputs": []
    },
    {
      "cell_type": "markdown",
      "source": [
        "**24th-March-2023**\n",
        "\n",
        "**Leetcode 1319**: **Number of Operations to Make Network Connected**\n",
        "\n",
        "**Problem**:There are n computers numbered from 0 to n - 1 connected by ethernet cables connections forming a network where connections[i] = [ai, bi] represents a connection between computers ai and bi. Any computer can reach any other computer directly or indirectly through the network.\n",
        "\n",
        "You are given an initial computer network connections. You can extract certain cables between two directly connected computers, and place them between any pair of disconnected computers to make them directly connected.\n",
        "\n",
        "Return the minimum number of times you need to do this in order to make all the computers connected. If it is not possible, return -1\n",
        "\n",
        "**URL**:**https://leetcode.com/problems/number-of-operations-to-make-network-connected/**"
      ],
      "metadata": {
        "id": "NcqtCLEH28Xy"
      }
    },
    {
      "cell_type": "code",
      "source": [
        "class Solution:\n",
        "    def makeConnected(self, n: int, connections: List[List[int]]) -> int:\n",
        "        if len(connections) < n - 1:\n",
        "            return -1\n",
        "\n",
        "        graph = [set() for i in range(n)]\n",
        "        for u, v in connections:\n",
        "            graph[u].add(v)\n",
        "            graph[v].add(u)\n",
        "\n",
        "        visited = [0] * n\n",
        "\n",
        "        def dfs(node):\n",
        "            if visited[node]:\n",
        "                return 0\n",
        "            visited[node] = 1\n",
        "            for neighbor in graph[node]:\n",
        "                dfs(neighbor)\n",
        "            return 1\n",
        "\n",
        "        return sum(dfs(node) for node in range(n)) - 1"
      ],
      "metadata": {
        "id": "i6fsuIef7O_P"
      },
      "execution_count": null,
      "outputs": []
    },
    {
      "cell_type": "code",
      "source": [],
      "metadata": {
        "id": "IbpyqVgn7PDT"
      },
      "execution_count": null,
      "outputs": []
    },
    {
      "cell_type": "markdown",
      "source": [
        "**25th-March-2023**\n",
        "\n",
        "**Leetcode 1466**: **Reorder Routes to Make All Paths Lead to the City Zero**\n",
        "\n",
        "**Problem**:There are n cities numbered from 0 to n - 1 and n - 1 roads such that there is only one way to travel between two different cities (this network form a tree). Last year, The ministry of transport decided to orient the roads in one direction because they are too narrow.\n",
        "\n",
        "Roads are represented by connections where connections[i] = [ai, bi] represents a road from city ai to city bi.\n",
        "\n",
        "This year, there will be a big event in the capital (city 0), and many people want to travel to this city.\n",
        "\n",
        "Your task consists of reorienting some roads such that each city can visit the city 0. Return the minimum number of edges changed.\n",
        "\n",
        "It's guaranteed that each city can reach city 0 after reorder.\n",
        "\n",
        "**URL**:**https://leetcode.com/problems/reorder-routes-to-make-all-paths-lead-to-the-city-zero/**"
      ],
      "metadata": {
        "id": "jG4KI44o36rX"
      }
    },
    {
      "cell_type": "code",
      "source": [
        "class Solution:\n",
        "    def minReorder(self, n: int, connections: List[List[int]]) -> int:\n",
        "        #start at city 0\n",
        "        #recursively check its neighbors\n",
        "        #count its outgoing edges\n",
        "\n",
        "        edges = {(a,b) for a, b in connections}\n",
        "        neighbors = {city:[] for city in range(n) }\n",
        "        visit = set()\n",
        "        changes = 0\n",
        "\n",
        "        for a, b in connections :\n",
        "            neighbors[a].append(b)\n",
        "            neighbors[b].append(a)\n",
        "\n",
        "        def dfs(city):\n",
        "            nonlocal edges, neighbors, visit, changes\n",
        "\n",
        "            for neighbor in neighbors[city]:\n",
        "                if neighbor in visit:\n",
        "                    continue\n",
        "            #checking to see if this neighbor can reach city 0\n",
        "\n",
        "                if (neighbor, city) not in edges:\n",
        "                    changes += 1\n",
        "                visit.add(neighbor)\n",
        "                dfs(neighbor)\n",
        "        visit.add(0)\n",
        "        dfs(0)\n",
        "        return changes\n",
        "\n",
        "\n"
      ],
      "metadata": {
        "id": "Jota6fVF7PHL"
      },
      "execution_count": null,
      "outputs": []
    },
    {
      "cell_type": "code",
      "source": [],
      "metadata": {
        "id": "QSj_cpHz7PLI"
      },
      "execution_count": null,
      "outputs": []
    },
    {
      "cell_type": "markdown",
      "source": [
        "**26th-March-2023**\n",
        "\n",
        "**Leetcode 2316**: **Count Unreachable Pairs of Nodes in an Undirected Graph**\n",
        "\n",
        "**Problem**:You are given an integer n. There is an undirected graph with n nodes, numbered from 0 to n - 1. You are given a 2D integer array edges where edges[i] = [ai, bi] denotes that there exists an undirected edge connecting nodes ai and bi.\n",
        "\n",
        "Return the number of pairs of different nodes that are unreachable from each other.\n",
        "\n",
        "\n",
        "\n",
        "\n",
        "**URL**:**https://leetcode.com/problems/count-unreachable-pairs-of-nodes-in-an-undirected-graph/**"
      ],
      "metadata": {
        "id": "wvA58txexmmp"
      }
    },
    {
      "cell_type": "code",
      "source": [
        "class Solution:\n",
        "    def countPairs(self, n: int, edges: List[List[int]]) -> int:\n",
        "        def dfs(node, visited):\n",
        "            if visited[node]:\n",
        "                return 0\n",
        "\n",
        "            visited[node] = True\n",
        "            return 1 + sum(dfs(neighbor, visited) for neighbor in graph[node])\n",
        "\n",
        "        # build adjacency graph\n",
        "        graph = [[] for i in range(n)]\n",
        "        for u, v in edges:\n",
        "            graph[u].append(v)\n",
        "            graph[v].append(u)\n",
        "\n",
        "        # calculate sizes of connected components\n",
        "        visited = [False] * n\n",
        "        sizes = [dfs(i, visited) for i in range(n)]\n",
        "\n",
        "        return sum([sizes[i] * (n - sizes[i]) for i in range(n)]) // 2"
      ],
      "metadata": {
        "id": "20BiPUPVz2mp"
      },
      "execution_count": null,
      "outputs": []
    },
    {
      "cell_type": "code",
      "source": [],
      "metadata": {
        "id": "aOyWNNVez2qg"
      },
      "execution_count": null,
      "outputs": []
    },
    {
      "cell_type": "markdown",
      "source": [
        "**27th-March-2023**\n",
        "\n",
        "**Leetcode 2360**: **Longest Cycle in a Graph**\n",
        "\n",
        "**Problem**:You are given a directed graph of n nodes numbered from 0 to n - 1, where each node has at most one outgoing edge.\n",
        "\n",
        "The graph is represented with a given 0-indexed array edges of size n, indicating that there is a directed edge from node i to node edges[i]. If there is no outgoing edge from node i, then edges[i] == -1.\n",
        "\n",
        "Return the length of the longest cycle in the graph. If no cycle exists, return -1.\n",
        "\n",
        "A cycle is a path that starts and ends at the same node.\n",
        "\n",
        "\n",
        "\n",
        "\n",
        "**URL**:**https://leetcode.com/problems/longest-cycle-in-a-graph/**"
      ],
      "metadata": {
        "id": "85LfvQbQ0SFC"
      }
    },
    {
      "cell_type": "code",
      "source": [
        "class Solution:\n",
        "  def longestCycle(self, edges: List[int]) -> int:\n",
        "    ans = -1\n",
        "    time = 1\n",
        "    timeVisited = [0] * len(edges)\n",
        "\n",
        "    for i, edge in enumerate(edges):\n",
        "      if timeVisited[i]:\n",
        "        continue\n",
        "      startTime = time\n",
        "      u = i\n",
        "      while u != -1 and not timeVisited[u]:\n",
        "        timeVisited[u] = time\n",
        "        time += 1\n",
        "        u = edges[u]  # Move to next node\n",
        "      if u != -1 and timeVisited[u] >= startTime:\n",
        "        ans = max(ans, time - timeVisited[u])\n",
        "\n",
        "    return ans"
      ],
      "metadata": {
        "id": "8I7Dc5dq7PPb"
      },
      "execution_count": null,
      "outputs": []
    },
    {
      "cell_type": "code",
      "source": [],
      "metadata": {
        "id": "bTVEVTouwdqt"
      },
      "execution_count": null,
      "outputs": []
    },
    {
      "cell_type": "markdown",
      "source": [
        "**28th-March-2023**\n",
        "\n",
        "**Leetcode 64**: **Minimum Path Sum**\n",
        "\n",
        "**Problem**:Given a m x n grid filled with non-negative numbers, find a path from top left to bottom right, which minimizes the sum of all numbers along its path.\n",
        "\n",
        "Note: You can only move either down or right at any point in time.\n",
        "\n",
        "\n",
        "\n",
        "\n",
        "**URL**:**https://leetcode.com/problems/minimum-path-sum/**"
      ],
      "metadata": {
        "id": "j4tOLaYf0RPG"
      }
    },
    {
      "cell_type": "code",
      "source": [
        "class Solution:\n",
        "  def minPathSum(self, grid: List[List[int]]) -> int:\n",
        "    m = len(grid)\n",
        "    n = len(grid[0])\n",
        "\n",
        "    for i in range(m):\n",
        "      for j in range(n):\n",
        "        if i > 0 and j > 0:\n",
        "          grid[i][j] += min(grid[i - 1][j], grid[i][j - 1])\n",
        "        elif i > 0:\n",
        "          grid[i][0] += grid[i - 1][0]\n",
        "        elif j > 0:\n",
        "          grid[0][j] += grid[0][j - 1]\n",
        "\n",
        "    return grid[m - 1][n - 1]"
      ],
      "metadata": {
        "id": "_3F08qpdMFH7"
      },
      "execution_count": null,
      "outputs": []
    },
    {
      "cell_type": "code",
      "source": [],
      "metadata": {
        "id": "0-KGWJTlMFLC"
      },
      "execution_count": null,
      "outputs": []
    },
    {
      "cell_type": "markdown",
      "source": [
        "**29th-March-2023**\n",
        "\n",
        "**Leetcode 983**: **Minimum Cost For Tickets**\n",
        "\n",
        "**Problem**:You have planned some train traveling one year in advance. The days of the year in which you will travel are given as an integer array days. Each day is an integer from 1 to 365.\n",
        "\n",
        "Train tickets are sold in three different ways:\n",
        "\n",
        "**a 1-day pass is sold for costs[0] dollars,\n",
        "\n",
        "**a 7-day pass is sold for costs[1] dollars, and\n",
        "\n",
        "**a 30-day pass is sold for costs[2] dollars.\n",
        "\n",
        "The passes allow that many days of consecutive travel.\n",
        "\n",
        "For example, if we get a 7-day pass on day 2, then we can travel for 7 days: 2, 3, 4, 5, 6, 7, and 8.\n",
        "Return the minimum number of dollars you need to travel every day in the given list of days.\n",
        "\n",
        "\n",
        "\n",
        "\n",
        "\n",
        "\n",
        "\n",
        "**URL**:**https://leetcode.com/problems/minimum-cost-for-tickets/**"
      ],
      "metadata": {
        "id": "e8MUPsDLGVuT"
      }
    },
    {
      "cell_type": "code",
      "source": [
        "class Solution:\n",
        "  def mincostTickets(self, days: List[int], costs: List[int]) -> int:\n",
        "    ans = 0\n",
        "    last7 = collections.deque()\n",
        "    last30 = collections.deque()\n",
        "\n",
        "    for day in days:\n",
        "      while last7 and last7[0][0] + 7 <= day:\n",
        "        last7.popleft()\n",
        "      while last30 and last30[0][0] + 30 <= day:\n",
        "        last30.popleft()\n",
        "      last7.append([day, ans + costs[1]])\n",
        "      last30.append([day, ans + costs[2]])\n",
        "      ans = min(ans + costs[0], last7[0][1], last30[0][1])\n",
        "\n",
        "    return ans\n"
      ],
      "metadata": {
        "id": "Z12QxdOVMFOB"
      },
      "execution_count": null,
      "outputs": []
    },
    {
      "cell_type": "code",
      "source": [],
      "metadata": {
        "id": "gSAmuxEKMFRe"
      },
      "execution_count": null,
      "outputs": []
    },
    {
      "cell_type": "markdown",
      "source": [
        "**30th-March-2023**\n",
        "\n",
        "**Leetcode 1402**: **Reducing Dishes**\n",
        "\n",
        "**Problem**:A chef has collected data on the satisfaction level of his n dishes. Chef can cook any dish in 1 unit of time.\n",
        "\n",
        "Like-time coefficient of a dish is defined as the time taken to cook that dish including previous dishes multiplied by its satisfaction level i.e. time[i] * satisfaction[i].\n",
        "\n",
        "Return the maximum sum of like-time coefficient that the chef can obtain after dishes preparation.\n",
        "\n",
        "Dishes can be prepared in any order and the chef can discard some dishes to get this maximum value.\n",
        "\n",
        "\n",
        "\n",
        "\n",
        "\n",
        "**URL**:**https://leetcode.com/problems/reducing-dishes/**"
      ],
      "metadata": {
        "id": "OXOKbzKgH__u"
      }
    },
    {
      "cell_type": "code",
      "source": [
        "class Solution:\n",
        "  def maxSatisfaction(self, satisfaction: List[int]) -> int:\n",
        "    ans = 0\n",
        "    sumSatisfaction = 0\n",
        "\n",
        "    for s in sorted(satisfaction, reverse=True):\n",
        "      sumSatisfaction += s\n",
        "      if sumSatisfaction <= 0:\n",
        "        return ans\n",
        "      ans += sumSatisfaction\n",
        "\n",
        "    return ans\n"
      ],
      "metadata": {
        "id": "cuCSPO8TMFUr"
      },
      "execution_count": null,
      "outputs": []
    },
    {
      "cell_type": "code",
      "source": [],
      "metadata": {
        "id": "oSux0YouMFX6"
      },
      "execution_count": null,
      "outputs": []
    },
    {
      "cell_type": "markdown",
      "source": [
        "**31st-March-2023**\n",
        "\n",
        "**Leetcode 87**: **Scramble String**\n",
        "\n",
        "**Problem**:We can scramble a string s to get a string t using the following algorithm:\n",
        "\n",
        "If the length of the string is 1, stop.\n",
        "If the length of the string is > 1, do the following:\n",
        "\n",
        "**Split the string into two non-empty substrings at a random index, i.e., if the string is s, divide it to x and y where s = x + y.\n",
        "\n",
        "**Randomly decide to swap the two substrings or to keep them in the same order. i.e., after this step, s may become s = x + y or s = y + x.\n",
        "\n",
        "**Apply step 1 recursively on each of the two substrings x and y.\n",
        "\n",
        "Given two strings s1 and s2 of the same length, return true if s2 is a scrambled string of s1, otherwise, return false.\n",
        "\n",
        "\n",
        "**URL**:**https://leetcode.com/problems/scramble-string/**\n",
        "\n",
        "\n"
      ],
      "metadata": {
        "id": "9lkfY-9TWgRh"
      }
    },
    {
      "cell_type": "code",
      "source": [
        "class Solution:\n",
        "  @functools.lru_cache(None)\n",
        "  def isScramble(self, s1: str, s2: str) -> bool:\n",
        "    if s1 == s2:\n",
        "      return True\n",
        "    if collections.Counter(s1) != collections.Counter(s2):\n",
        "      return False\n",
        "\n",
        "    for i in range(1, len(s1)):\n",
        "      if self.isScramble(s1[:i], s2[:i]) and self.isScramble(s1[i:], s2[i:]):\n",
        "        return True\n",
        "      if self.isScramble(s1[:i], s2[len(s2) - i:]) and self.isScramble(s1[i:], s2[:len(s2) - i]):\n",
        "        return True\n",
        "\n",
        "    return False"
      ],
      "metadata": {
        "id": "tZUa2Yo7MFa2"
      },
      "execution_count": null,
      "outputs": []
    },
    {
      "cell_type": "code",
      "source": [],
      "metadata": {
        "id": "sEm8YRVzV_rG"
      },
      "execution_count": null,
      "outputs": []
    },
    {
      "cell_type": "markdown",
      "source": [
        "**1st-April-2023**\n",
        "\n",
        "**Leetcode 1444**: **Number of Ways Of Cutting a Pizza**\n",
        "\n",
        "**Problem**:Given a rectangular pizza represented as a rows x cols matrix containing the following characters: 'A' (an apple) and '.' (empty cell) and given the integer k. You have to cut the pizza into k pieces using k-1 cuts.\n",
        "\n",
        "For each cut you choose the direction: vertical or horizontal, then you choose a cut position at the cell boundary and cut the pizza into two pieces. If you cut the pizza vertically, give the left part of the pizza to a person. If you cut the pizza horizontally, give the upper part of the pizza to a person. Give the last piece of pizza to the last person.\n",
        "\n",
        "Return the number of ways of cutting the pizza such that each piece contains at least one apple. Since the answer can be a huge number, return this modulo 10^9 + 7.\n",
        "\n",
        "\n",
        "\n",
        "**URL**:**https://leetcode.com/problems/number-of-ways-of-cutting-a-pizza/**\n"
      ],
      "metadata": {
        "id": "RuMOhzux8DWG"
      }
    },
    {
      "cell_type": "code",
      "source": [
        "class Solution:\n",
        "  def ways(self, pizza: List[str], k: int) -> int:\n",
        "    M = len(pizza)\n",
        "    N = len(pizza[0])\n",
        "    prefix = [[0] * (N + 1) for _ in range(M + 1)]\n",
        "\n",
        "    for i in range(M):\n",
        "      for j in range(N):\n",
        "        prefix[i + 1][j + 1] = (pizza[i][j] == 'A') + \\\n",
        "            prefix[i][j + 1] + prefix[i + 1][j] - prefix[i][j]\n",
        "\n",
        "    # HasApple of pizza[row1..row2)[col1..col2)\n",
        "    def hasApple(row1: int, row2: int, col1: int, col2: int) -> bool:\n",
        "      return (prefix[row2][col2] - prefix[row1][col2] -\n",
        "              prefix[row2][col1] + prefix[row1][col1]) > 0\n",
        "\n",
        "    # Dp(m, n, k) := # of ways to cut pizza[m:M][n:N] w/ k cuts\n",
        "    @functools.lru_cache(None)\n",
        "    def dp(m: int, n: int, k: int) -> int:\n",
        "      if k == 0:\n",
        "        return 1\n",
        "\n",
        "      ans = 0\n",
        "\n",
        "      for i in range(m + 1, M):  # Cut horizontally\n",
        "        if hasApple(m, i, n, N) and hasApple(i, M, n, N):\n",
        "          ans += dp(i, n, k - 1)\n",
        "\n",
        "      for j in range(n + 1, N):  # Cut vertically\n",
        "        if hasApple(m, M, n, j) and hasApple(m, M, j, N):\n",
        "          ans += dp(m, j, k - 1)\n",
        "\n",
        "      return ans\n",
        "\n",
        "    return dp(0, 0, k - 1) % (10**9 + 7)\n"
      ],
      "metadata": {
        "id": "7hXZxzPjV_uN"
      },
      "execution_count": null,
      "outputs": []
    },
    {
      "cell_type": "code",
      "source": [],
      "metadata": {
        "id": "cAFZtiaVV_xl"
      },
      "execution_count": null,
      "outputs": []
    },
    {
      "cell_type": "markdown",
      "source": [
        "**2nd-April-2023**\n",
        "\n",
        "**Leetcode 704**: **Number of Ways Of Cutting a Pizza**\n",
        "\n",
        "**Problem**:Given an array of integers nums which is sorted in ascending order, and an integer target, write a function to search target in nums. If target exists, then return its index. Otherwise, return -1.\n",
        "\n",
        "You must write an algorithm with O(log n) runtime complexity.\n",
        "\n",
        "\n",
        "\n",
        "\n",
        "\n",
        "**URL**:**https://leetcode.com/problems/binary-search/**"
      ],
      "metadata": {
        "id": "GYB8-0lu9e1S"
      }
    },
    {
      "cell_type": "code",
      "source": [
        "class Solution:\n",
        "    def search(self, nums: List[int], target: int) -> int:\n",
        "        for value, number in enumerate(nums):\n",
        "            if number == target:\n",
        "                return value\n",
        "        else:\n",
        "            return -1"
      ],
      "metadata": {
        "id": "qOEuY8bvV_00"
      },
      "execution_count": null,
      "outputs": []
    },
    {
      "cell_type": "code",
      "source": [],
      "metadata": {
        "id": "opwL2fkHV_3g"
      },
      "execution_count": null,
      "outputs": []
    },
    {
      "cell_type": "markdown",
      "source": [
        "**3rd-April-2023**\n",
        "\n",
        "**Leetcode 2300**: **Successful Pairs of Spells and Potions**\n",
        "\n",
        "**Problem**:You are given two positive integer arrays spells and potions, of length n and m respectively, where spells[i] represents the strength of the ith spell and potions[j] represents the strength of the jth potion.\n",
        "\n",
        "You are also given an integer success. A spell and potion pair is considered successful if the product of their strengths is at least success.\n",
        "\n",
        "Return an integer array pairs of length n where pairs[i] is the number of potions that will form a successful pair with the ith spell.\n",
        "\n",
        "\n",
        "**URL**:**https://leetcode.com/problems/successful-pairs-of-spells-and-potions/**"
      ],
      "metadata": {
        "id": "K3TI3Hz15Il2"
      }
    },
    {
      "cell_type": "code",
      "source": [
        "class Solution:\n",
        "  def successfulPairs(self, spells: List[int], potions: List[int], success: int) -> List[int]:\n",
        "    potions.sort()\n",
        "\n",
        "    # First index i s.t. spell * potions[i] >= success\n",
        "    def firstIndexSuccess(spell: int):\n",
        "      left = 0\n",
        "      right = len(potions)\n",
        "      while left < right:\n",
        "        n = (left + right) // 2\n",
        "        if spell * potions[n] >= success:\n",
        "          right = n\n",
        "        else:\n",
        "          left = n + 1\n",
        "      return left\n",
        "\n",
        "    return [len(potions) - firstIndexSuccess(spell) for spell in spells]"
      ],
      "metadata": {
        "id": "E9buCOZpV_7o"
      },
      "execution_count": null,
      "outputs": []
    },
    {
      "cell_type": "code",
      "source": [],
      "metadata": {
        "id": "O-J9Ts60V__N"
      },
      "execution_count": null,
      "outputs": []
    },
    {
      "cell_type": "markdown",
      "source": [
        "**4th-April-2023**\n",
        "\n",
        "**Leetcode 881**: **Boats to Save People**\n",
        "\n",
        "**Problem**:You are given an array people where people[i] is the weight of the ith person, and an infinite number of boats where each boat can carry a maximum weight of limit. Each boat carries at most two people at the same time, provided the sum of the weight of those people is at most limit.\n",
        "\n",
        "Return the minimum number of boats to carry every given person.\n",
        "\n",
        "**URL**:**https://leetcode.com/problems/boats-to-save-people/**"
      ],
      "metadata": {
        "id": "RMp135zzEpc4"
      }
    },
    {
      "cell_type": "code",
      "source": [
        "class Solution:\n",
        "  def numRescueBoats(self, people: List[int], limit: int) -> int:\n",
        "    ans = 0\n",
        "    i = 0\n",
        "    j = len(people) - 1\n",
        "\n",
        "    people.sort()\n",
        "\n",
        "    while i <= j:\n",
        "      remain = limit - people[j]\n",
        "      j -= 1\n",
        "      if people[i] <= remain:\n",
        "        i += 1\n",
        "      ans += 1\n",
        "\n",
        "    return ans\n"
      ],
      "metadata": {
        "id": "wkbzYt_EWAGw"
      },
      "execution_count": null,
      "outputs": []
    },
    {
      "cell_type": "code",
      "source": [],
      "metadata": {
        "id": "HDfEF7QzWAK9"
      },
      "execution_count": null,
      "outputs": []
    },
    {
      "cell_type": "markdown",
      "source": [
        "**5th-April-2023**\n",
        "\n",
        "**Leetcode 2405**: **Optimal Partition of A String**\n",
        "\n",
        "**Problem**:Given a string s, partition the string into one or more substrings such that the characters in each substring are unique. That is, no letter appears in a single substring more than once.\n",
        "\n",
        "Return the minimum number of substrings in such a partition.\n",
        "\n",
        "Note that each character should belong to exactly one substring in a partition.\n",
        "\n",
        "**URL**:**https://leetcode.com/problems/optimal-partition-of-string/**"
      ],
      "metadata": {
        "id": "IprgNUlJI6AY"
      }
    },
    {
      "cell_type": "code",
      "source": [
        "class Solution:\n",
        "  def partitionString(self, s: str) -> int:\n",
        "    res = 1\n",
        "    used = 0\n",
        "\n",
        "    for c in s:\n",
        "      i = ord(c) - ord('a')\n",
        "      if used >> i & 1:\n",
        "        used = 1 << i\n",
        "        res += 1\n",
        "      else:\n",
        "        used |= 1 << i\n",
        "\n",
        "    return res"
      ],
      "metadata": {
        "id": "iNsz_KaXWAOd"
      },
      "execution_count": null,
      "outputs": []
    },
    {
      "cell_type": "code",
      "source": [],
      "metadata": {
        "id": "Gx-Gm0ttWASF"
      },
      "execution_count": null,
      "outputs": []
    },
    {
      "cell_type": "markdown",
      "source": [
        "**6th-April-2023**\n",
        "\n",
        "**Leetcode 2439**: **Minimize Maximum of Array**\n",
        "\n",
        "**Problem**:You are given a 0-indexed array nums comprising of n non-negative integers.\n",
        "\n",
        "In one operation, you must:\n",
        "\n",
        "**Choose an integer i such that 1 <= i < n and nums[i] > 0.\n",
        "\n",
        "**Decrease nums[i] by 1.\n",
        "\n",
        "**Increase nums[i - 1] by 1.\n",
        "\n",
        "Return the minimum possible value of the maximum integer of nums after performing any number of operations.\n",
        "\n",
        "\n",
        "**URL**:**https://leetcode.com/problems/minimize-maximum-of-array/**"
      ],
      "metadata": {
        "id": "IHN9Rri7LPPT"
      }
    },
    {
      "cell_type": "code",
      "source": [
        "class Solution:\n",
        "  def minimizeArrayValue(self, nums: List[int]) -> int:\n",
        "    res = 0\n",
        "    prefix = 0\n",
        "\n",
        "    for i, num in enumerate(nums):\n",
        "      prefix += num\n",
        "      prefixAvg = math.ceil(prefix / (i + 1))\n",
        "      res = max(res, prefixAvg)\n",
        "\n",
        "    return res"
      ],
      "metadata": {
        "id": "-X06usUXWAVJ"
      },
      "execution_count": null,
      "outputs": []
    },
    {
      "cell_type": "code",
      "source": [],
      "metadata": {
        "id": "igzj98WyWAYK"
      },
      "execution_count": null,
      "outputs": []
    },
    {
      "cell_type": "markdown",
      "source": [
        "**7th-April-2023**\n",
        "\n",
        "**Leetcode 1254**: **Number of Closed Islands**\n",
        "\n",
        "**Problem**:Given a 2D grid consists of 0s (land) and 1s (water).  An island is a maximal 4-directionally connected group of 0s and a closed island is an island totally (all left, top, right, bottom) surrounded by 1s.\n",
        "\n",
        "Return the number of closed islands.\n",
        "\n",
        "\n",
        "\n",
        "**URL**:**https://leetcode.com/problems/number-of-closed-islands/**"
      ],
      "metadata": {
        "id": "PreaHXn4fOTJ"
      }
    },
    {
      "cell_type": "code",
      "source": [
        "class Solution:\n",
        "  def closedIsland(self, grid: List[List[int]]) -> int:\n",
        "    m = len(grid)\n",
        "    n = len(grid[0])\n",
        "\n",
        "    def dfs(i: int, j: int) -> None:\n",
        "      if i < 0 or i == m or j < 0 or j == n:\n",
        "        return\n",
        "      if grid[i][j] == 1:\n",
        "        return\n",
        "\n",
        "      grid[i][j] = 1\n",
        "      dfs(i + 1, j)\n",
        "      dfs(i - 1, j)\n",
        "      dfs(i, j + 1)\n",
        "      dfs(i, j - 1)\n",
        "\n",
        "    # Remove lands connected to edge\n",
        "    for i in range(m):\n",
        "      for j in range(n):\n",
        "        if i * j == 0 or i == m - 1 or j == n - 1:\n",
        "          if grid[i][j] == 0:\n",
        "            dfs(i, j)\n",
        "\n",
        "    res = 0\n",
        "\n",
        "    # Reduce to 200. Number of Islands\n",
        "    for i in range(m):\n",
        "      for j in range(n):\n",
        "        if grid[i][j] == 0:\n",
        "          dfs(i, j)\n",
        "          res += 1\n",
        "\n",
        "    return res"
      ],
      "metadata": {
        "id": "xwdjIH36WAb8"
      },
      "execution_count": null,
      "outputs": []
    },
    {
      "cell_type": "code",
      "source": [],
      "metadata": {
        "id": "FaF9t02IWAfy"
      },
      "execution_count": null,
      "outputs": []
    },
    {
      "cell_type": "markdown",
      "source": [
        "**8th-April-2023**\n",
        "\n",
        "**Leetcode 1020**: **Number of Enclaves**\n",
        "\n",
        "**Problem**:You are given an m x n binary matrix grid, where 0 represents a sea cell and 1 represents a land cell.\n",
        "\n",
        "A move consists of walking from one land cell to another adjacent (4-directionally) land cell or walking off the boundary of the grid.\n",
        "\n",
        "Return the number of land cells in grid for which we cannot walk off the boundary of the grid in any number of moves.\n",
        "\n",
        "**URL**:**https://leetcode.com/problems/number-of-enclaves/**"
      ],
      "metadata": {
        "id": "qPDCVKHQOELx"
      }
    },
    {
      "cell_type": "code",
      "source": [
        "class Solution:\n",
        "  def minimizeArrayValue(self, nums: List[int]) -> int:\n",
        "    res = 0\n",
        "    prefix = 0\n",
        "\n",
        "    for i, num in enumerate(nums):\n",
        "      prefix += num\n",
        "      prefixAvg = math.ceil(prefix / (i + 1))\n",
        "      res = max(res, prefixAvg)\n",
        "\n",
        "    return res"
      ],
      "metadata": {
        "id": "8QILevMVWAjM"
      },
      "execution_count": null,
      "outputs": []
    },
    {
      "cell_type": "code",
      "source": [],
      "metadata": {
        "id": "kPowE2gnEX4x"
      },
      "execution_count": null,
      "outputs": []
    },
    {
      "cell_type": "markdown",
      "source": [
        "**9th-April-2023**\n",
        "\n",
        "**Leetcode 133**: **Clone Graph**\n",
        "\n",
        "**Problem**:Given a reference of a node in a connected undirected graph.\n",
        "\n",
        "Return a deep copy (clone) of the graph.\n",
        "\n",
        "Each node in the graph contains a value (int) and a list (List[Node]) of its neighbors.\n",
        "\n",
        "class Node {\n",
        "\n",
        "    public int val;\n",
        "\n",
        "    public List<Node> neighbors;\n",
        "}\n",
        "\n",
        "\n",
        "\n",
        "Test case format:\n",
        "\n",
        "For simplicity, each node's value is the same as the node's index (1-indexed). For example, the first node with val == 1, the second node with val == 2, and so on. The graph is represented in the test case using an adjacency list.\n",
        "\n",
        "An adjacency list is a collection of unordered lists used to represent a finite graph. Each list describes the set of neighbors of a node in the graph.\n",
        "\n",
        "The given node will always be the first node with val = 1. You must return the copy of the given node as a reference to the cloned graph.\n",
        "\n",
        "\n",
        "\n",
        "**URL**:**https://leetcode.com/problems/clone-graph/**\n"
      ],
      "metadata": {
        "id": "r9Hob98bFpeL"
      }
    },
    {
      "cell_type": "code",
      "source": [
        "\"\"\"\n",
        "# Definition for a Node.\n",
        "class Node:\n",
        "    def __init__(self, val = 0, neighbors = None):\n",
        "        self.val = val\n",
        "        self.neighbors = neighbors if neighbors is not None else []\n",
        "\"\"\"\n",
        "\n",
        "class Solution:\n",
        "  def cloneGraph(self, node: 'Node') -> 'Node':\n",
        "    if not node:\n",
        "      return None\n",
        "    if node in self.map:\n",
        "      return self.map[node]\n",
        "\n",
        "    newNode = Node(node.val, [])\n",
        "    self.map[node] = newNode\n",
        "\n",
        "    for neighbor in node.neighbors:\n",
        "      self.map[node].neighbors.append(self.cloneGraph(neighbor))\n",
        "\n",
        "    return newNode\n",
        "\n",
        "  map = {}"
      ],
      "metadata": {
        "id": "E-hZ9zRbEX7n"
      },
      "execution_count": null,
      "outputs": []
    },
    {
      "cell_type": "code",
      "source": [],
      "metadata": {
        "id": "OyhsLKHREX-m"
      },
      "execution_count": null,
      "outputs": []
    },
    {
      "cell_type": "markdown",
      "source": [
        "**10th-April-2023**\n",
        "\n",
        "**Leetcode 1857**: **Largest Color Value In A Directed Graph**\n",
        "\n",
        "**Problem**:There is a directed graph of n colored nodes and m edges. The nodes are numbered from 0 to n - 1.\n",
        "\n",
        "You are given a string colors where colors[i] is a lowercase English letter representing the color of the ith node in this graph (0-indexed). You are also given a 2D array edges where edges[j] = [aj, bj] indicates that there is a directed edge from node aj to node bj.\n",
        "\n",
        "A valid path in the graph is a sequence of nodes x1 -> x2 -> x3 -> ... -> xk such that there is a directed edge from xi to xi+1 for every 1 <= i < k. The color value of the path is the number of nodes that are colored the most frequently occurring color along that path.\n",
        "\n",
        "Return the largest color value of any valid path in the given graph, or -1 if the graph contains a cycle.\n",
        "\n",
        "\n",
        "\n",
        "**URL**:**https://leetcode.com/problems/largest-color-value-in-a-directed-graph/**"
      ],
      "metadata": {
        "id": "PWfuVqmQ1952"
      }
    },
    {
      "cell_type": "code",
      "source": [
        "class Solution:\n",
        "  def largestPathValue(self, colors: str, edges: List[List[int]]) -> int:\n",
        "    n = len(colors)\n",
        "    ans = 0\n",
        "    processed = 0\n",
        "    graph = [[] for _ in range(n)]\n",
        "    inDegree = [0] * n\n",
        "    q = collections.deque()\n",
        "    count = [[0] * 26 for _ in range(n)]\n",
        "\n",
        "    # Build graph\n",
        "    for u, v in edges:\n",
        "      graph[u].append(v)\n",
        "      inDegree[v] += 1\n",
        "\n",
        "    # Vpology\n",
        "    for i, degree in enumerate(inDegree):\n",
        "      if degree == 0:\n",
        "        q.append(i)\n",
        "\n",
        "    while q:\n",
        "      u = q.popleft()\n",
        "      processed += 1\n",
        "      count[u][ord(colors[u]) - ord('a')] += 1\n",
        "      ans = max(ans, count[u][ord(colors[u]) - ord('a')])\n",
        "      for v in graph[u]:\n",
        "        for i in range(26):\n",
        "          count[v][i] = max(count[v][i], count[u][i])\n",
        "        inDegree[v] -= 1\n",
        "        if inDegree[v] == 0:\n",
        "          q.append(v)\n",
        "\n",
        "    return ans if processed == n else -1"
      ],
      "metadata": {
        "id": "7DafkzFkEYBV"
      },
      "execution_count": null,
      "outputs": []
    },
    {
      "cell_type": "code",
      "source": [],
      "metadata": {
        "id": "dyjufk2SEYEZ"
      },
      "execution_count": null,
      "outputs": []
    },
    {
      "cell_type": "markdown",
      "source": [
        "**11th-April-2023**\n",
        "\n",
        "**Leetcode 1857**: **Valid Parentheses**\n",
        "\n",
        "**Problem**:Given a string s containing just the characters '(', ')', '{', '}', '[' and ']', determine if the input string is valid.\n",
        "\n",
        "An input string is valid if:\n",
        "\n",
        "**Open brackets must be closed by the same type of brackets.\n",
        "\n",
        "**Open brackets must be closed in the correct order.\n",
        "\n",
        "**Every close bracket has a corresponding open bracket of the same type.\n",
        "\n",
        "\n",
        "\n",
        "**URL**:**https://leetcode.com/problems/valid-parentheses/**"
      ],
      "metadata": {
        "id": "7IVBV4vd0CK-"
      }
    },
    {
      "cell_type": "code",
      "source": [
        "class Solution:\n",
        "    def isValid(self, s: str) -> bool:\n",
        "        stack = []\n",
        "\n",
        "        for i in s:\n",
        "            if i == '(':\n",
        "                stack.append(')')\n",
        "            elif i == '{':\n",
        "                stack.append('}')\n",
        "            elif i == '[':\n",
        "                stack.append(']')\n",
        "            elif not stack or stack.pop() != i:\n",
        "                return False\n",
        "\n",
        "        return not stack\n"
      ],
      "metadata": {
        "id": "v9vxrbNrEYPD"
      },
      "execution_count": null,
      "outputs": []
    },
    {
      "cell_type": "code",
      "source": [],
      "metadata": {
        "id": "qO_naa2OjMxa"
      },
      "execution_count": null,
      "outputs": []
    },
    {
      "cell_type": "markdown",
      "source": [
        "**12th-April-2023**\n",
        "\n",
        "**Leetcode 2390**: **Remove Stars From a String**\n",
        "\n",
        "**Problem**:You are given a string s, which contains stars *.\n",
        "\n",
        "In one operation, you can:\n",
        "\n",
        "**Choose a star in s.\n",
        "\n",
        "**Remove the closest non-star character to its left, as well as remove the star itself.\n",
        "\n",
        "Return the string after all stars have been removed.\n",
        "\n",
        "Note:\n",
        "\n",
        "The input will be generated such that the operation is always possible.\n",
        "It can be shown that the resulting string will always be unique.\n",
        "\n",
        "**URL**:**https://leetcode.com/problems/removing-stars-from-a-string/**"
      ],
      "metadata": {
        "id": "VFN54JOFjNu3"
      }
    },
    {
      "cell_type": "code",
      "source": [
        "class Solution:\n",
        "  def removeStars(self, s: str) -> str:\n",
        "    res = []\n",
        "    for i in s:\n",
        "      if i == '*':\n",
        "        res.pop()\n",
        "      else:\n",
        "        res.append(i)\n",
        "    return ''.join(res)"
      ],
      "metadata": {
        "id": "PY24ULE4jM0S"
      },
      "execution_count": null,
      "outputs": []
    },
    {
      "cell_type": "code",
      "source": [],
      "metadata": {
        "id": "GAdych1AjM3X"
      },
      "execution_count": null,
      "outputs": []
    },
    {
      "cell_type": "markdown",
      "source": [
        "**Leetcode 71**: **Simplify Path**\n",
        "\n",
        "**Problem**:Given a string path, which is an absolute path (starting with a slash '/') to a file or directory in a Unix-style file system, convert it to the simplified canonical path.\n",
        "\n",
        "In a Unix-style file system, a period '.' refers to the current directory, a double period '..' refers to the directory up a level, and any multiple consecutive slashes (i.e. '//') are treated as a single slash '/'. For this problem, any other format of periods such as '...' are treated as file/directory names.\n",
        "\n",
        "The canonical path should have the following format:\n",
        "\n",
        "**The path starts with a single slash '/'.\n",
        "\n",
        "**Any two directories are separated by a single slash '/'.\n",
        "\n",
        "**The path does not end with a trailing '/'.\n",
        "\n",
        "**The path only contains the directories on the path from the root directory to the target file or directory (i.e., no period '.' or double period '..')\n",
        "Return the simplified canonical path.\n",
        "\n",
        "\n",
        "**URL**:**https://leetcode.com/problems/simplify-path/**"
      ],
      "metadata": {
        "id": "GaHau-67SijG"
      }
    },
    {
      "cell_type": "code",
      "source": [
        "class Solution:\n",
        "  def simplifyPath(self, path: str) -> str:\n",
        "    stack = []\n",
        "\n",
        "    for str in path.split('/'):\n",
        "      if str in ('', '.'):\n",
        "        continue\n",
        "      if str == '..':\n",
        "        if stack:\n",
        "          stack.pop()\n",
        "      else:\n",
        "        stack.append(str)\n",
        "\n",
        "    return '/' + '/'.join(stack)"
      ],
      "metadata": {
        "id": "DjaWGnJCjM6X"
      },
      "execution_count": null,
      "outputs": []
    },
    {
      "cell_type": "code",
      "source": [],
      "metadata": {
        "id": "-UxMxyopjM9V"
      },
      "execution_count": null,
      "outputs": []
    },
    {
      "cell_type": "markdown",
      "source": [
        "**Leetcode 946**: **Validate Stack Sequences**\n",
        "\n",
        "**Problem**:Given two integer arrays pushed and popped each with distinct values, return true if this could have been the result of a sequence of push and pop operations on an initially empty stack, or false otherwise.\n",
        "\n",
        "\n",
        "**URL**:**https://leetcode.com/problems/validate-stack-sequences/**"
      ],
      "metadata": {
        "id": "K7WNJFFzfV4P"
      }
    },
    {
      "cell_type": "code",
      "source": [
        "class Solution:\n",
        "  def validateStackSequences(self, pushed: List[int], popped: List[int]) -> bool:\n",
        "    stack = []\n",
        "    x = 0  # popped's index\n",
        "\n",
        "    for i in pushed:\n",
        "      stack.append(i)\n",
        "      while stack and stack[-1] == popped[x]:\n",
        "        stack.pop()\n",
        "        x += 1\n",
        "\n",
        "    return not stack"
      ],
      "metadata": {
        "id": "kUqGbtp_jNAF"
      },
      "execution_count": null,
      "outputs": []
    },
    {
      "cell_type": "code",
      "source": [],
      "metadata": {
        "id": "kYR7UBODjNDh"
      },
      "execution_count": null,
      "outputs": []
    },
    {
      "cell_type": "markdown",
      "source": [
        "**Leetcode 516**: **Longest Palindromic Subsequence**\n",
        "\n",
        "**Problem**:Given a string s, find the longest palindromic subsequence's length in s.\n",
        "\n",
        "A subsequence is a sequence that can be derived from another sequence by deleting some or no elements without changing the order of the remaining elements.\n",
        "\n",
        "\n",
        "**URL**:**https://leetcode.com/problems/longest-palindromic-subsequence/**"
      ],
      "metadata": {
        "id": "3-Ok3Axd4Hg9"
      }
    },
    {
      "cell_type": "code",
      "source": [
        "class Solution:\n",
        "  def longestPalindromeSubseq(self, s: str) -> int:\n",
        "    # dp(i, j) := LPS's length in s[i..j]\n",
        "    @functools.lru_cache(None)\n",
        "    def dp(i: int, j: int) -> int:\n",
        "      if i > j:\n",
        "        return 0\n",
        "      if i == j:\n",
        "        return 1\n",
        "      if s[i] == s[j]:\n",
        "        return 2 + dp(i + 1, j - 1)\n",
        "      return max(dp(i + 1, j), dp(i, j - 1))\n",
        "\n",
        "    return dp(0, len(s) - 1)"
      ],
      "metadata": {
        "id": "zxsVdGdb5hoN"
      },
      "execution_count": null,
      "outputs": []
    },
    {
      "cell_type": "code",
      "source": [],
      "metadata": {
        "id": "a9UhyNii5hrO"
      },
      "execution_count": null,
      "outputs": []
    },
    {
      "cell_type": "markdown",
      "source": [
        "**Leetcode 2218**: **Maximum Value of K Coins From Piles**\n",
        "\n",
        "**Problem**:There are n piles of coins on a table. Each pile consists of a positive number of coins of assorted denominations.\n",
        "\n",
        "In one move, you can choose any coin on top of any pile, remove it, and add it to your wallet.\n",
        "\n",
        "Given a list piles, where piles[i] is a list of integers denoting the composition of the ith pile from top to bottom, and a positive integer k, return the maximum total value of coins you can have in your wallet if you choose exactly k coins optimally\n",
        "\n",
        "**URL**:**https://leetcode.com/problems/maximum-value-of-k-coins-from-piles/**"
      ],
      "metadata": {
        "id": "JcCGxw1k6HmG"
      }
    },
    {
      "cell_type": "code",
      "source": [
        "class Solution:\n",
        "  def maxValueOfCoins(self, piles: List[List[int]], k: int) -> int:\n",
        "    # dp(i, k) := max value of picking k coins from piles[i:]\n",
        "    @functools.lru_cache(None)\n",
        "    def dp(i: int, k: int) -> int:\n",
        "      if i == len(piles) or k == 0:\n",
        "        return 0\n",
        "\n",
        "      res = dp(i + 1, k)  # Pick 0 coins from current pile\n",
        "      vals = 0  # Coins picked from current pile\n",
        "\n",
        "      # Try to pick 1, 2, ..., k coins from current pile\n",
        "      for j in range(min(len(piles[i]), k)):\n",
        "        vals += piles[i][j]\n",
        "        res = max(res, vals + dp(i + 1, k - j - 1))\n",
        "\n",
        "      return res\n",
        "\n",
        "    return dp(0, k)"
      ],
      "metadata": {
        "id": "Ep543Ft95huf"
      },
      "execution_count": null,
      "outputs": []
    },
    {
      "cell_type": "code",
      "source": [],
      "metadata": {
        "id": "_t7-mLRf5hxk"
      },
      "execution_count": null,
      "outputs": []
    },
    {
      "cell_type": "markdown",
      "source": [
        "**Leetcode 1639**: **Number of Ways to Form a Target String Given a Dictionary**\n",
        "\n",
        "**Problem**:You are given a list of strings of the same length words and a string target.\n",
        "\n",
        "Your task is to form target using the given words under the following rules:\n",
        "\n",
        "**target should be formed from left to right.\n",
        "\n",
        "**To form the ith character (0-indexed) of target, you can choose the kth character of the jth string in words if target[i] = words[j][k].\n",
        "\n",
        "**Once you use the kth character of the jth string of words, you can no longer use the xth character of any string in words where x <= k. In other words, all characters to the left of or at index k become unusuable for every string.\n",
        "\n",
        "**Repeat the process until you form the string target.\n",
        "\n",
        "\n",
        "**Notice** that you can use multiple characters from the same string in words provided the conditions above are met.\n",
        "\n",
        "Return the number of ways to form target from words. Since the answer may be too large, return it modulo 109 + 7.\n",
        "\n",
        "\n",
        "\n",
        "**URL**:**https://leetcode.com/problems/number-of-ways-to-form-a-target-string-given-a-dictionary/**"
      ],
      "metadata": {
        "id": "9EB5-0upbS0L"
      }
    },
    {
      "cell_type": "code",
      "source": [
        "class Solution:\n",
        "    def numWays(self, words: List[str], target: str) -> int:\n",
        "        n = len(words[0])\n",
        "        m = len(target)\n",
        "        mod = 10**9 + 7\n",
        "        dp = [0] * (m+1)\n",
        "        dp[0] = 1\n",
        "\n",
        "        count = [[0] * 26 for _ in range(n)]\n",
        "        for i in range(n):\n",
        "            for word in words:\n",
        "                count[i][ord(word[i]) - ord('a')] += 1\n",
        "\n",
        "        for i in range(n):\n",
        "            for j in range(m-1, -1, -1):\n",
        "                dp[j+1] += dp[j] * count[i][ord(target[j]) - ord('a')]\n",
        "                dp[j+1] %= mod\n",
        "\n",
        "        return dp[m]"
      ],
      "metadata": {
        "id": "T7n9ahFx5h0z"
      },
      "execution_count": null,
      "outputs": []
    },
    {
      "cell_type": "code",
      "source": [],
      "metadata": {
        "id": "CHZGxcF_5h4D"
      },
      "execution_count": null,
      "outputs": []
    },
    {
      "cell_type": "markdown",
      "source": [
        "**Leetcode 1431**:**Kids With the Greatest Number of Candies**\n",
        "\n",
        "**Problem**:There are n kids with candies. You are given an integer array candies, where each candies[i] represents the number of candies the ith kid has, and an integer extraCandies, denoting the number of extra candies that you have.\n",
        "\n",
        "Return a boolean array result of length n, where result[i] is true if, after giving the ith kid all the extraCandies, they will have the greatest number of candies among all the kids, or false otherwise.\n",
        "\n",
        "Note that multiple kids can have the greatest number of candies.\n",
        "\n",
        "\n",
        "\n",
        "**URL**:**https://leetcode.com/problems/kids-with-the-greatest-number-of-candies/**"
      ],
      "metadata": {
        "id": "R8FgJ0pHiLkS"
      }
    },
    {
      "cell_type": "code",
      "source": [
        "class Solution:\n",
        "    def kidsWithCandies(self, candies: List[int], extraCandies: int) -> List[bool]:\n",
        "        maximum = max(candies)\n",
        "        return [candy + extraCandies >= maximum for candy in candies]"
      ],
      "metadata": {
        "id": "EhYOqnv-5h7O"
      },
      "execution_count": null,
      "outputs": []
    },
    {
      "cell_type": "code",
      "source": [],
      "metadata": {
        "id": "KL1STK0U5h--"
      },
      "execution_count": null,
      "outputs": []
    },
    {
      "cell_type": "markdown",
      "source": [
        "**Leetcode 1768**:**Merge Strings Alternately**\n",
        "\n",
        "**Problem**:You are given two strings word1 and word2. Merge the strings by adding letters in alternating order, starting with word1. If a string is longer than the other, append the additional letters onto the end of the merged string.\n",
        "\n",
        "Return the merged string.\n",
        "\n",
        "\n",
        "\n",
        "\n",
        "**URL**:**https://leetcode.com/problems/merge-strings-alternately/**"
      ],
      "metadata": {
        "id": "KRWYkBTkqgA2"
      }
    },
    {
      "cell_type": "code",
      "source": [
        "class Solution:\n",
        "    def mergeAlternately(self, word1: str, word2: str) -> str:\n",
        "        # Create a result string to store the values\n",
        "        ans = \"\"\n",
        "\n",
        "        # Calculate the lengths of the strings\n",
        "        len1 = len(word1)\n",
        "        len2 = len(word2)\n",
        "\n",
        "        # Iterate until the length of the smallest word\n",
        "        for i in range(min(len1, len2)):\n",
        "            # Add element of word1\n",
        "            ans += word1[i]\n",
        "            # Add element of word2\n",
        "            ans += word2[i]\n",
        "\n",
        "        # Check if you have remaining element in word1\n",
        "        # If yes, add the elements to the result string\n",
        "        if len1 > len2:\n",
        "            ans += word1[len2: ]\n",
        "\n",
        "        # Check if you have remaining element in word2\n",
        "        # If yes, add the elements to the result string\n",
        "        if len1 < len2:\n",
        "            ans += word2[len1: ]\n",
        "        return ans\n",
        "\n"
      ],
      "metadata": {
        "id": "sTxGEAce5iCh"
      },
      "execution_count": null,
      "outputs": []
    },
    {
      "cell_type": "code",
      "source": [],
      "metadata": {
        "id": "lbxVJPBhsvHG"
      },
      "execution_count": null,
      "outputs": []
    },
    {
      "cell_type": "markdown",
      "source": [
        "**Leetcode 1372**:**Longest ZigZag Path in a Binary Tree**\n",
        "\n",
        "**Problem**:You are given the root of a binary tree.\n",
        "\n",
        "A ZigZag path for a binary tree is defined as follow:\n",
        "\n",
        "**Choose any node in the binary tree and a direction (right or left).\n",
        "\n",
        "**If the current direction is right, move to the right child of the current node; otherwise, move to the left child.\n",
        "\n",
        "**Change the direction from right to left or from left to right.\n",
        "\n",
        "**Repeat the second and third steps until you can't move in the tree.\n",
        "\n",
        "Zigzag length is defined as the number of nodes visited - 1. (A single node has a length of 0).\n",
        "\n",
        "Return the longest ZigZag path contained in that tree.\n",
        "\n",
        "\n",
        "\n",
        "**URL**:**https://leetcode.com/problems/longest-zigzag-path-in-a-binary-tree/**"
      ],
      "metadata": {
        "id": "B7VdJwaysy6V"
      }
    },
    {
      "cell_type": "code",
      "source": [
        "# Definition for a binary tree node.\n",
        "# class TreeNode:\n",
        "#     def __init__(self, val=0, left=None, right=None):\n",
        "#         self.val = val\n",
        "#         self.left = left\n",
        "#         self.right = right\n",
        "class T:\n",
        "  def __init__(self, leftMax: int, rightMax: int, subtreeMax: int):\n",
        "    self.leftMax = leftMax\n",
        "    self.rightMax = rightMax\n",
        "    self.subtreeMax = subtreeMax\n",
        "\n",
        "\n",
        "class Solution:\n",
        "  def longestZigZag(self, root: Optional[TreeNode]) -> int:\n",
        "    def dfs(root: Optional[TreeNode]) -> T:\n",
        "      if not root:\n",
        "        return T(-1, -1, -1)\n",
        "      left = dfs(root.left)\n",
        "      right = dfs(root.right)\n",
        "      leftZigZag = left.rightMax + 1\n",
        "      rightZigZag = right.leftMax + 1\n",
        "      subtreeMax = max(leftZigZag, rightZigZag,\n",
        "                       left.subtreeMax, right.subtreeMax)\n",
        "      return T(leftZigZag, rightZigZag, subtreeMax)\n",
        "\n",
        "    return dfs(root).subtreeMax\n"
      ],
      "metadata": {
        "id": "0X3N5XqtsvJ5"
      },
      "execution_count": null,
      "outputs": []
    },
    {
      "cell_type": "code",
      "source": [],
      "metadata": {
        "id": "tKO5dkKJsvNO"
      },
      "execution_count": null,
      "outputs": []
    },
    {
      "cell_type": "markdown",
      "source": [
        "**Leetcode 662**:**Maximum Width of Binary Tree**\n",
        "\n",
        "**Problem**:Given the root of a binary tree, return the maximum width of the given tree.\n",
        "\n",
        "The maximum width of a tree is the maximum width among all levels.\n",
        "\n",
        "The width of one level is defined as the length between the end-nodes (the leftmost and rightmost non-null nodes), where the null nodes between the end-nodes that would be present in a complete binary tree extending down to that level are also counted into the length calculation.\n",
        "\n",
        "It is guaranteed that the answer will in the range of a 32-bit signed integer.\n",
        "\n",
        "\n",
        "\n",
        "**URL**:**https://leetcode.com/problems/maximum-width-of-binary-tree/**"
      ],
      "metadata": {
        "id": "dUzS9_QypNnE"
      }
    },
    {
      "cell_type": "code",
      "source": [
        "# Definition for a binary tree node.\n",
        "# class TreeNode:\n",
        "#     def __init__(self, val=0, left=None, right=None):\n",
        "#         self.val = val\n",
        "#         self.left = left\n",
        "#         self.right = right\n",
        "class Solution:\n",
        "    def widthOfBinaryTree(self, root: Optional[TreeNode]) -> int:\n",
        "        deq = collections.deque([(root, 1)])\n",
        "        max_w = 0\n",
        "\n",
        "        while deq:\n",
        "\t\t    # update max_width if there are more then one element on the current level\n",
        "            if deq[0][1] != deq[-1][1]:\n",
        "                max_w = max(max_w, (1 + deq[-1][1] - deq[0][1]))\n",
        "            for i in range(len(deq)):\n",
        "                node, cur = deq.popleft() # pop current node and current position on the level of a tree\n",
        "                if node.left:\n",
        "                    deq.append((node.left, cur * 2 - 1))   # left node always odd\n",
        "                if node.right:\n",
        "                    deq.append((node.right, cur * 2))   # right node always even\n",
        "\n",
        "        return max(1, max_w)"
      ],
      "metadata": {
        "id": "b5QbtiChsvQN"
      },
      "execution_count": null,
      "outputs": []
    },
    {
      "cell_type": "code",
      "source": [],
      "metadata": {
        "id": "ukYHzFxBsvTv"
      },
      "execution_count": null,
      "outputs": []
    },
    {
      "cell_type": "markdown",
      "source": [
        "**Leetcode 879**:**Profitable Schemes**\n",
        "\n",
        "**Problem**:There is a group of n members, and a list of various crimes they could commit. The ith crime generates a profit[i] and requires group[i] members to participate in it. If a member participates in one crime, that member can't participate in another crime.\n",
        "\n",
        "Let's call a profitable scheme any subset of these crimes that generates at least minProfit profit, and the total number of members participating in that subset of crimes is at most n.\n",
        "\n",
        "Return the number of schemes that can be chosen. Since the answer may be very large, return it modulo 109 + 7.\n",
        "\n",
        "**URL**:**https://leetcode.com/problems/profitable-schemes/**"
      ],
      "metadata": {
        "id": "idz0K1gd4Srn"
      }
    },
    {
      "cell_type": "code",
      "source": [
        "class Solution:\n",
        "    def profitableSchemes(self, n: int, minProfit: int, group: List[int], profit: List[int]) -> int:\n",
        "        MOD = 10**9 + 7\n",
        "        dp = [[0] * (n + 1) for i in range(minProfit + 1)]\n",
        "        dp[0][0] = 1\n",
        "        for g, p in zip(group, profit):\n",
        "            for i in range(minProfit, -1, -1):\n",
        "                for j in range(n - g, -1, -1):\n",
        "                    dp[min(i + p, minProfit)][j + g] += dp[i][j]\n",
        "                    dp[min(i + p, minProfit)][j + g] %= MOD\n",
        "        return sum(dp[minProfit]) % MOD"
      ],
      "metadata": {
        "id": "T1mzNxsC_RR4"
      },
      "execution_count": null,
      "outputs": []
    },
    {
      "cell_type": "code",
      "source": [],
      "metadata": {
        "id": "kAkPbhRy_RWD"
      },
      "execution_count": null,
      "outputs": []
    },
    {
      "cell_type": "markdown",
      "source": [
        "**Leetcode 1312**:**Minimum Insertion Steps to Make a String Palindrome**\n",
        "\n",
        "**Problem**:Given a string s. In one step you can insert any character at any index of the string.\n",
        "\n",
        "Return the minimum number of steps to make s palindrome.\n",
        "\n",
        "A Palindrome String is one that reads the same backward as well as forward.\n",
        "\n",
        "\n",
        "**URL**:**https://leetcode.com/problems/minimum-insertion-steps-to-make-a-string-palindrome/**"
      ],
      "metadata": {
        "id": "vBdb7aI7AK-K"
      }
    },
    {
      "cell_type": "code",
      "source": [
        "class Solution:\n",
        "  def minInsertions(self, s: str) -> int:\n",
        "    return len(s) - self._longestPalindromeSubseq(s)\n",
        "\n",
        "  # Same as 516. Longest Palindromic Subsequence\n",
        "  def _longestPalindromeSubseq(self, s: str) -> int:\n",
        "    n = len(s)\n",
        "    # dp[i][j] := LPS's length in s[i..j]\n",
        "    dp = [[0] * n for _ in range(n)]\n",
        "\n",
        "    for i in range(n):\n",
        "      dp[i][i] = 1\n",
        "\n",
        "    for d in range(1, n):\n",
        "      for i in range(n - d):\n",
        "        j = i + d\n",
        "        if s[i] == s[j]:\n",
        "          dp[i][j] = 2 + dp[i + 1][j - 1]\n",
        "        else:\n",
        "          dp[i][j] = max(dp[i + 1][j], dp[i][j - 1])\n",
        "\n",
        "    return dp[0][n - 1]"
      ],
      "metadata": {
        "id": "Z-6HAGFDAIGm"
      },
      "execution_count": null,
      "outputs": []
    },
    {
      "cell_type": "code",
      "source": [],
      "metadata": {
        "id": "p9ZUmZ6w_RaH"
      },
      "execution_count": null,
      "outputs": []
    },
    {
      "cell_type": "markdown",
      "source": [
        "**Leetcode 1416**:**Restore The Array**\n",
        "\n",
        "**Problem**:A program was supposed to print an array of integers. The program forgot to print whitespaces and the array is printed as a string of digits s and all we know is that all integers in the array were in the range [1, k] and there are no leading zeros in the array.\n",
        "\n",
        "Given the string s and the integer k, return the number of the possible arrays that can be printed as s using the mentioned program. Since the answer may be very large, return it modulo 109 + 7.\n",
        "\n",
        "\n",
        "\n",
        "**URL**:**https://leetcode.com/problems/restore-the-array/**"
      ],
      "metadata": {
        "id": "ps161kkuXAn3"
      }
    },
    {
      "cell_type": "code",
      "source": [
        "class Solution:\n",
        "    def numberOfArrays(self, s: str, k: int) -> int:\n",
        "        n = len(s)\n",
        "        dp = [0] * (n + 1)\n",
        "        dp[-1] = 1\n",
        "\n",
        "        for i in range(n - 1, -1, -1):\n",
        "            if s[i] == '0':\n",
        "                continue\n",
        "            num = 0\n",
        "            j = i\n",
        "            while j < n and int(s[i:j+1]) <= k:\n",
        "                num += dp[j+1]\n",
        "                j += 1\n",
        "            dp[i] = num % (10 ** 9 + 7)\n",
        "\n",
        "        return dp[0]"
      ],
      "metadata": {
        "id": "MhiRbuAb_ReD"
      },
      "execution_count": null,
      "outputs": []
    },
    {
      "cell_type": "code",
      "source": [],
      "metadata": {
        "id": "ZAw_JY6m_RiD"
      },
      "execution_count": null,
      "outputs": []
    },
    {
      "cell_type": "markdown",
      "source": [
        "**Leetcode 1046**:**Last Stone Weight**\n",
        "\n",
        "**Problem**:You are given an array of integers stones where stones[i] is the weight of the ith stone.\n",
        "\n",
        "We are playing a game with the stones. On each turn, we choose the heaviest two stones and smash them together. Suppose the heaviest two stones have weights x and y with x <= y. The result of this smash is:\n",
        "\n",
        "**If x == y, both stones are destroyed, and\n",
        "\n",
        "**If x != y, the stone of weight x is destroyed, and the stone of weight y has new weight y - x.\n",
        "\n",
        "At the end of the game, there is at most one stone left.\n",
        "\n",
        "Return the weight of the last remaining stone. If there are no stones left, return 0.\n",
        "\n",
        "**URL**:**https://leetcode.com/problems/last-stone-weight/**"
      ],
      "metadata": {
        "id": "Kp0cOnxDEVmq"
      }
    },
    {
      "cell_type": "code",
      "source": [
        "class Solution(object):\n",
        "    def lastStoneWeight(self, stones):\n",
        "\n",
        "        while len(stones) > 1:\n",
        "            stones.sort()\n",
        "            if stones[-1] == stones[-2]:\n",
        "                stones.pop(-1)\n",
        "                stones.pop(-1)\n",
        "            else:\n",
        "                stones[-1] = stones[-1] - stones[-2]\n",
        "                stones.pop(-2)\n",
        "        if len(stones) == 0:\n",
        "            return 0\n",
        "        else:\n",
        "            return stones[0]"
      ],
      "metadata": {
        "id": "U-CQ_3gQ_RnA"
      },
      "execution_count": null,
      "outputs": []
    },
    {
      "cell_type": "code",
      "source": [],
      "metadata": {
        "id": "-8MRuqZdxfwi"
      },
      "execution_count": null,
      "outputs": []
    },
    {
      "cell_type": "markdown",
      "source": [
        "**Leetcode 2336**:**Smallest Number in Infinite Set**\n",
        "\n",
        "**Problem**:You have a set which contains all positive integers [1, 2, 3, 4, 5, ...].\n",
        "\n",
        "Implement the SmallestInfiniteSet class:\n",
        "\n",
        "**SmallestInfiniteSet() Initializes the SmallestInfiniteSet object to contain all positive integers.\n",
        "\n",
        "**int popSmallest() Removes and returns the smallest integer contained in the infinite set.\n",
        "\n",
        "**void addBack(int num) Adds a positive integer num back into the infinite set, if it is not already in the infinite set.\n",
        "\n",
        "\n",
        "**URL**:**https://leetcode.com/problems/smallest-number-in-infinite-set/**"
      ],
      "metadata": {
        "id": "pZOTHABuxjUm"
      }
    },
    {
      "cell_type": "code",
      "source": [
        "from sortedcontainers import SortedSet\n",
        "\n",
        "class SmallestInfiniteSet:\n",
        "    def __init__(self):\n",
        "        self.added_integers = SortedSet()\n",
        "        self.current_integer = 1\n",
        "    def popSmallest(self) -> int:\n",
        "        if len(self.added_integers):\n",
        "            answer = self.added_integers[0]\n",
        "            self.added_integers.discard(answer)\n",
        "        else:\n",
        "            answer = self.current_integer\n",
        "            self.current_integer += 1\n",
        "        return answer\n",
        "    def addBack(self, num: int) -> None:\n",
        "        if self.current_integer <= num or num in self.added_integers:\n",
        "            return\n",
        "        self.added_integers.add(num)\n",
        "\n",
        "\n",
        "# Your SmallestInfiniteSet object will be instantiated and called as such:\n",
        "# obj = SmallestInfiniteSet()\n",
        "# param_1 = obj.popSmallest()\n",
        "# obj.addBack(num)"
      ],
      "metadata": {
        "id": "aW20nyIcxf0H"
      },
      "execution_count": null,
      "outputs": []
    },
    {
      "cell_type": "code",
      "source": [],
      "metadata": {
        "id": "9uX5z1rkxf3v"
      },
      "execution_count": null,
      "outputs": []
    },
    {
      "cell_type": "markdown",
      "source": [
        "**Leetcode 258**:**Add Digits**\n",
        "\n",
        "**Problem**:Given an integer num, repeatedly add all its digits until the result has only one digit, and return it.\n",
        "\n",
        "\n",
        "**URL**:**https://leetcode.com/problems/add-digits/**"
      ],
      "metadata": {
        "id": "XvI-9ay3hN8h"
      }
    },
    {
      "cell_type": "code",
      "source": [
        "class Solution:\n",
        "  def addDigits(self, num: int) -> int:\n",
        "    return 0 if num == 0 else 1 + (num - 1) % 9"
      ],
      "metadata": {
        "id": "RaS-gFPSxf7R"
      },
      "execution_count": null,
      "outputs": []
    },
    {
      "cell_type": "code",
      "source": [],
      "metadata": {
        "id": "NfYCfZiSxf-y"
      },
      "execution_count": null,
      "outputs": []
    },
    {
      "cell_type": "markdown",
      "source": [
        "**Leetcode 319**:**Bulb Switcher**\n",
        "\n",
        "**Problem**:There are n bulbs that are initially off. You first turn on all the bulbs, then you turn off every second bulb.\n",
        "\n",
        "On the third round, you toggle every third bulb (turning on if it's off or turning off if it's on). For the ith round, you toggle every i bulb. For the nth round, you only toggle the last bulb.\n",
        "\n",
        "Return the number of bulbs that are on after n rounds.\n",
        "\n",
        "\n",
        "**URL**:**https://leetcode.com/problems/bulb-switcher/**"
      ],
      "metadata": {
        "id": "V6f0K99pCOnB"
      }
    },
    {
      "cell_type": "code",
      "source": [
        "class Solution:\n",
        "  def bulbSwitch(self, n: int) -> int:\n",
        "    return int(sqrt(n))"
      ],
      "metadata": {
        "id": "IWNWmhXjxgFk"
      },
      "execution_count": null,
      "outputs": []
    },
    {
      "cell_type": "code",
      "source": [],
      "metadata": {
        "id": "ajb9-schxgI7"
      },
      "execution_count": null,
      "outputs": []
    },
    {
      "cell_type": "markdown",
      "source": [
        "**Leetcode 839**:**Similar String Groups**\n",
        "\n",
        "**Problem**:Two strings X and Y are similar if we can swap two letters (in different positions) of X, so that it equals Y. Also two strings X and Y are similar if they are equal.\n",
        "\n",
        "For example, \"tars\" and \"rats\" are similar (swapping at positions 0 and 2), and \"rats\" and \"arts\" are similar, but \"star\" is not similar to \"tars\", \"rats\", or \"arts\".\n",
        "\n",
        "Together, these form two connected groups by similarity: {\"tars\", \"rats\", \"arts\"} and {\"star\"}.  Notice that \"tars\" and \"arts\" are in the same group even though they are not similar.  Formally, each group is such that a word is in the group if and only if it is similar to at least one other word in the group.\n",
        "\n",
        "We are given a list strs of strings where every string in strs is an anagram of every other string in strs. How many groups are there?\n",
        "\n",
        "\n",
        "\n",
        "\n",
        "**URL**:**https://leetcode.com/problems/similar-string-groups/**"
      ],
      "metadata": {
        "id": "SLe9KQHz2Ipa"
      }
    },
    {
      "cell_type": "code",
      "source": [
        "class Solution:\n",
        "    def numSimilarGroups(self, strs: List[str]) -> int:\n",
        "        def similar(a: str, b: str):\n",
        "            diff1 = -1\n",
        "            diff2 = -1\n",
        "\n",
        "            for i in range(len(a)):\n",
        "                if a[i] != b[i]:\n",
        "                    if diff1 == -1:\n",
        "                        diff1 = i\n",
        "                    elif diff2 == -1:\n",
        "                        diff2 = i\n",
        "                    else:\n",
        "                        return False\n",
        "            return True\n",
        "\n",
        "        groupList = []\n",
        "\n",
        "        for s in strs:\n",
        "            foundGroup = -1\n",
        "\n",
        "            for i, group in enumerate(groupList):\n",
        "                for s2 in group:\n",
        "                    if similar(s, s2):\n",
        "                        if foundGroup == -1:\n",
        "                            foundGroup = i\n",
        "                            groupList[i].append(s)\n",
        "                            break\n",
        "                        else:\n",
        "                            groupList[foundGroup] = groupList[foundGroup] + groupList[i]\n",
        "                            del groupList[i]\n",
        "                            break\n",
        "\n",
        "            if foundGroup == -1:\n",
        "                groupList.append([s])\n",
        "        return len(groupList)"
      ],
      "metadata": {
        "id": "lO3etOZixgMM"
      },
      "execution_count": null,
      "outputs": []
    },
    {
      "cell_type": "code",
      "source": [],
      "metadata": {
        "id": "01PGMpgVxgPV"
      },
      "execution_count": null,
      "outputs": []
    },
    {
      "cell_type": "markdown",
      "source": [
        "**Leetcode 1697**:**Checking Existence of Edge Length Limited Paths**\n",
        "\n",
        "**Problem**:An undirected graph of n nodes is defined by edgeList, where edgeList[i] = [ui, vi, disi] denotes an edge between nodes ui and vi with distance disi. Note that there may be multiple edges between two nodes.\n",
        "\n",
        "Given an array queries, where queries[j] = [pj, qj, limitj], your task is to determine for each queries[j] whether there is a path between pj and qj such that each edge on the path has a distance strictly less than limitj .\n",
        "\n",
        "Return a boolean array answer, where answer.length == queries.length and the jth value of answer is true if there is a path for queries[j] is true, and false otherwise.\n",
        "\n",
        "\n",
        "**URL**:**https://leetcode.com/problems/checking-existence-of-edge-length-limited-paths/**"
      ],
      "metadata": {
        "id": "V_LcYHableSS"
      }
    },
    {
      "cell_type": "code",
      "source": [
        "\n",
        "class UnionFind:\n",
        "    def __init__(self, n):\n",
        "        self.parent = list(range(n))\n",
        "        self.rank = [0] * n\n",
        "\n",
        "    def find(self, x):\n",
        "        if self.parent[x] != x:\n",
        "            self.parent[x] = self.find(self.parent[x])\n",
        "        return self.parent[x]\n",
        "\n",
        "    def union(self, x, y):\n",
        "        px, py = self.find(x), self.find(y)\n",
        "        if px != py:\n",
        "            if self.rank[px] < self.rank[py]:\n",
        "                self.parent[px] = py\n",
        "            elif self.rank[px] > self.rank[py]:\n",
        "                self.parent[py] = px\n",
        "            else:\n",
        "                self.parent[py] = px\n",
        "                self.rank[px] += 1\n",
        "\n",
        "    def connected(self, x, y):\n",
        "        return self.find(x) == self.find(y)\n",
        "\n",
        "class Solution:\n",
        "    def distanceLimitedPathsExist(self, n: int, edges: List[List[int]], queries: List[List[int]]) -> List[bool]:\n",
        "        edges = sorted(edges, key=lambda x: x[2])\n",
        "        ans = [False] * len(queries)\n",
        "        uf = UnionFind(n)\n",
        "        i = 0\n",
        "        sorted_queries = sorted(enumerate(queries), key=lambda x: x[1][2])\n",
        "        for q_idx, (u, v, limit) in sorted_queries:\n",
        "            while i < len(edges) and edges[i][2] < limit:\n",
        "                uf.union(edges[i][0], edges[i][1])\n",
        "                i += 1\n",
        "            ans[q_idx] = uf.connected(u, v)\n",
        "        return ans"
      ],
      "metadata": {
        "id": "Y9CjHSxvxgR8"
      },
      "execution_count": null,
      "outputs": []
    },
    {
      "cell_type": "code",
      "source": [],
      "metadata": {
        "id": "he_dwWnxpQ_j"
      },
      "execution_count": null,
      "outputs": []
    },
    {
      "cell_type": "markdown",
      "source": [
        "**Leetcode 1579**:**Remove Max Number of Edges to Keep Graph Fully Traversable**\n",
        "\n",
        "**Problem**:Alice and Bob have an undirected graph of n nodes and three types of edges:\n",
        "\n",
        "**Type 1: Can be traversed by Alice only.\n",
        "\n",
        "**Type 2: Can be traversed by Bob only.\n",
        "\n",
        "**Type 3: Can be traversed by both Alice and Bob.\n",
        "\n",
        "Given an array edges where edges[i] = [typei, ui, vi] represents a bidirectional edge of type typei between nodes ui and vi, find the maximum number of edges you can remove so that after removing the edges, the graph can still be fully traversed by both Alice and Bob. The graph is fully traversed by Alice and Bob if starting from any node, they can reach all other nodes.\n",
        "\n",
        "Return the maximum number of edges you can remove, or return -1 if Alice and Bob cannot fully traverse the graph.\n",
        "\n",
        "\n",
        "\n",
        "**URL**:**https://leetcode.com/problems/remove-max-number-of-edges-to-keep-graph-fully-traversable/**"
      ],
      "metadata": {
        "id": "tZYCwJF7pS9m"
      }
    },
    {
      "cell_type": "code",
      "source": [
        "class Solution:\n",
        "    def maxNumEdgesToRemove(self, n, edges):\n",
        "\n",
        "        def find(i, root):\n",
        "            if i != root[i]:\n",
        "                root[i] = find(root[i], root)\n",
        "            return root[i]\n",
        "\n",
        "        def uni(x, y, root):\n",
        "            x, y = find(x, root), find(y, root)\n",
        "            if x == y: return 0\n",
        "            root[x] = y\n",
        "            return 1\n",
        "\n",
        "        res = alice_edges = bob_edges = 0\n",
        "\n",
        "\n",
        "        root = list(range(n + 1))\n",
        "        for t, i, j in edges:\n",
        "            if t == 3:\n",
        "                if uni(i, j, root):\n",
        "                    alice_edges += 1\n",
        "                    bob_edges += 1\n",
        "                else:\n",
        "                    res += 1\n",
        "        root0 = root[:]\n",
        "\n",
        "\n",
        "        for t, i, j in edges:\n",
        "            if t == 1:\n",
        "                if uni(i, j, root):\n",
        "                    alice_edges += 1\n",
        "                else:\n",
        "                    res += 1\n",
        "\n",
        "\n",
        "        root = root0\n",
        "        for t, i, j in edges:\n",
        "            if t == 2:\n",
        "                if uni(i, j, root):\n",
        "                    bob_edges += 1\n",
        "                else:\n",
        "                    res += 1\n",
        "\n",
        "        return res if alice_edges == bob_edges == n - 1 else -1"
      ],
      "metadata": {
        "id": "_4Pk-4i6pRCu"
      },
      "execution_count": null,
      "outputs": []
    },
    {
      "cell_type": "code",
      "source": [],
      "metadata": {
        "id": "SGP2mG9SpRGM"
      },
      "execution_count": null,
      "outputs": []
    },
    {
      "cell_type": "markdown",
      "source": [
        "**Leetcode 1491**:**Average Salary Excluding the Minimum and Maximum Salary**\n",
        "\n",
        "**Problem**:You are given an array of unique integers salary where salary[i] is the salary of the ith employee.\n",
        "\n",
        "Return the average salary of employees excluding the minimum and maximum salary. Answers within 10-5 of the actual answer will be accepted.\n",
        "\n",
        "\n",
        "\n",
        "**URL**:**https://leetcode.com/problems/average-salary-excluding-the-minimum-and-maximum-salary/**"
      ],
      "metadata": {
        "id": "JAsUumq7zgCE"
      }
    },
    {
      "cell_type": "code",
      "source": [
        "class Solution:\n",
        "    def average(self, salary: List[int]) -> float:\n",
        "        sum = 0\n",
        "        for i in salary:\n",
        "            sum += i\n",
        "        return ((sum - max(salary) - min(salary)) / (len(salary) - 2))"
      ],
      "metadata": {
        "id": "7s2eS7NapRJy"
      },
      "execution_count": null,
      "outputs": []
    },
    {
      "cell_type": "code",
      "source": [],
      "metadata": {
        "id": "XJiWCBBvpRNa"
      },
      "execution_count": null,
      "outputs": []
    },
    {
      "cell_type": "markdown",
      "source": [
        "**Leetcode 1822**:**Sign of the Product of an Array**\n",
        "\n",
        "**Problem**:There is a function signFunc(x) that returns:\n",
        "\n",
        "** 1 if x is positive.\n",
        "\n",
        "** -1 if x is negative.\n",
        "\n",
        "** 0 if x is equal to 0.\n",
        "\n",
        "You are given an integer array nums. Let product be the product of all values in the array nums.\n",
        "\n",
        "Return signFunc(product).\n",
        "\n",
        "\n",
        "\n",
        "**URL**:**https://leetcode.com/problems/sign-of-the-product-of-an-array/**"
      ],
      "metadata": {
        "id": "cJXRWFcwZL8l"
      }
    },
    {
      "cell_type": "code",
      "source": [
        "class Solution:\n",
        "    def arraySign(self, nums: List[int]) -> int:\n",
        "        ans = 1\n",
        "        for i in nums:\n",
        "            ans = ans * i\n",
        "        if ans > 0:\n",
        "            return 1\n",
        "        elif ans < 0:\n",
        "            return -1\n",
        "        else:\n",
        "            return 0\n"
      ],
      "metadata": {
        "id": "SPnbme5BpRRC"
      },
      "execution_count": null,
      "outputs": []
    },
    {
      "cell_type": "code",
      "source": [],
      "metadata": {
        "id": "oWEdIND8pRUk"
      },
      "execution_count": null,
      "outputs": []
    },
    {
      "cell_type": "markdown",
      "source": [
        "**Leetcode 2215**:**Find the Difference of Two Arrays**\n",
        "\n",
        "**Problem**:Given two 0-indexed integer arrays nums1 and nums2, return a list answer of size 2 where:\n",
        "\n",
        "**answer[0] is a list of all distinct integers in nums1 which are not present in nums2.\n",
        "\n",
        "**answer[1] is a list of all distinct integers in nums2 which are not present in nums1.\n",
        "\n",
        "Note that the integers in the lists may be returned in any order.\n",
        "\n",
        "\n",
        "\n",
        "**URL**:**https://leetcode.com/problems/find-the-difference-of-two-arrays/**"
      ],
      "metadata": {
        "id": "GiT8lfhGbtz-"
      }
    },
    {
      "cell_type": "code",
      "source": [
        "class Solution:\n",
        "  def findDifference(self, nums1: List[int], nums2: List[int]) -> List[List[int]]:\n",
        "    set1 = set(nums1)\n",
        "    set2 = set(nums2)\n",
        "    return [set1 - set2, set2 - set1]\n"
      ],
      "metadata": {
        "id": "I9UnK8EipRYY"
      },
      "execution_count": null,
      "outputs": []
    },
    {
      "cell_type": "code",
      "source": [],
      "metadata": {
        "id": "gOwMkpNXpRcX"
      },
      "execution_count": null,
      "outputs": []
    },
    {
      "cell_type": "markdown",
      "source": [
        "**Leetcode 649**:**Dota2 Senate**\n",
        "\n",
        "**Problem**:In the world of Dota2, there are two parties: the Radiant and the Dire.\n",
        "\n",
        "The Dota2 senate consists of senators coming from two parties. Now the Senate wants to decide on a change in the Dota2 game. The voting for this change is a round-based procedure. In each round, each senator can exercise one of the two rights:\n",
        "\n",
        "**Ban one senator's right: A senator can make another senator lose all his rights in this and all the following rounds.\n",
        "\n",
        "**Announce the victory: If this senator found the senators who still have rights to vote are all from the same party, he can announce the victory and decide on the change in the game.\n",
        "\n",
        "Given a string senate representing each senator's party belonging. The character 'R' and 'D' represent the Radiant party and the Dire party. Then if there are n senators, the size of the given string will be n.\n",
        "\n",
        "The round-based procedure starts from the first senator to the last senator in the given order. This procedure will last until the end of voting. All the senators who have lost their rights will be skipped during the procedure.\n",
        "\n",
        "Suppose every senator is smart enough and will play the best strategy for his own party. Predict which party will finally announce the victory and change the Dota2 game. The output should be \"Radiant\" or \"Dire\".\n",
        "\n",
        "\n",
        "\n",
        "**URL**:**https://leetcode.com/problems/dota2-senate/**"
      ],
      "metadata": {
        "id": "7zeXs0rIR0HH"
      }
    },
    {
      "cell_type": "code",
      "source": [
        "class Solution:\n",
        "    def predictPartyVictory(self, senate: str) -> str:\n",
        "        n=len(senate)\n",
        "        R_idx=deque([i for i in range(n) if senate[i]=='R'])\n",
        "        D_idx=deque([j for j in range(n) if senate[j]=='D'])\n",
        "        while R_idx and D_idx:\n",
        "            r=R_idx.popleft()\n",
        "            d=D_idx.popleft()\n",
        "\n",
        "            if r<d:\n",
        "                R_idx.append(n+r)\n",
        "\n",
        "            else:\n",
        "                D_idx.append(n+d)\n",
        "\n",
        "\n",
        "        return 'Radiant' if R_idx else 'Dire'"
      ],
      "metadata": {
        "id": "q6vvkO0tpRgJ"
      },
      "execution_count": null,
      "outputs": []
    },
    {
      "cell_type": "code",
      "source": [],
      "metadata": {
        "id": "zBy2-I43pRjn"
      },
      "execution_count": null,
      "outputs": []
    },
    {
      "cell_type": "markdown",
      "source": [
        "**Leetcode 1456**:**Maximum Number of Vowels in a Substring of Given Length**\n",
        "\n",
        "**Problem**:Given a string s and an integer k, return the maximum number of vowel letters in any substring of s with length k.\n",
        "\n",
        "Vowel letters in English are 'a', 'e', 'i', 'o', and 'u'.\n",
        "\n",
        "**URL**:**https://leetcode.com/problems/maximum-number-of-vowels-in-a-substring-of-given-length/**"
      ],
      "metadata": {
        "id": "dOqUibnatUtJ"
      }
    },
    {
      "cell_type": "code",
      "source": [
        "class Solution:\n",
        "  def maxVowels(self, s: str, k: int) -> int:\n",
        "    ans = 0\n",
        "    maxi = 0\n",
        "    vowels = {'a', 'e', 'i', 'o', 'u'}\n",
        "\n",
        "    for i, c in enumerate(s):\n",
        "      if c in vowels:\n",
        "        maxi += 1\n",
        "      if i >= k and s[i - k] in vowels:\n",
        "        maxi -= 1\n",
        "      ans = max(ans, maxi)\n",
        "\n",
        "    return ans"
      ],
      "metadata": {
        "id": "RQ8SKDsgpRnV"
      },
      "execution_count": null,
      "outputs": []
    },
    {
      "cell_type": "code",
      "source": [],
      "metadata": {
        "id": "RAy8OlImSJYA"
      },
      "execution_count": null,
      "outputs": []
    },
    {
      "cell_type": "markdown",
      "source": [
        "**Leetcode 1498**:**Number of Subsequences That Satisfy the Given Sum Condition**\n",
        "\n",
        "**Problem**:You are given an array of integers nums and an integer target.\n",
        "\n",
        "Return the number of non-empty subsequences of nums such that the sum of the minimum and maximum element on it is less or equal to target. Since the answer may be too large, return it modulo 109 + 7.\n",
        "\n",
        "\n",
        "**URL**:**https://leetcode.com/problems/number-of-subsequences-that-satisfy-the-given-sum-condition/**"
      ],
      "metadata": {
        "id": "Dojeh0SpSMul"
      }
    },
    {
      "cell_type": "code",
      "source": [
        "class Solution:\n",
        "  def numSubseq(self, nums: List[int], target: int) -> int:\n",
        "    kMod = 1_000_000_007\n",
        "    n = len(nums)\n",
        "    ans = 0\n",
        "\n",
        "    nums.sort()\n",
        "\n",
        "    l = 0\n",
        "    r = n - 1\n",
        "    while l <= r:\n",
        "      if nums[l] + nums[r] <= target:\n",
        "        ans += pow(2, r - l, kMod)\n",
        "        l += 1\n",
        "      else:\n",
        "        r -= 1\n",
        "\n",
        "    return ans % kMod"
      ],
      "metadata": {
        "id": "3IwShMz4SJau"
      },
      "execution_count": null,
      "outputs": []
    },
    {
      "cell_type": "code",
      "source": [],
      "metadata": {
        "id": "8d3BuDWhSJeI"
      },
      "execution_count": null,
      "outputs": []
    },
    {
      "cell_type": "markdown",
      "source": [
        "**Leetcode 1964**:**Find the Longest Valid Obstacle Course at Each Position**\n",
        "\n",
        "**Problem**:You want to build some obstacle courses. You are given a 0-indexed integer array obstacles of length n, where obstacles[i] describes the height of the ith obstacle.\n",
        "\n",
        "For every index i between 0 and n - 1 (inclusive), find the length of the longest obstacle course in obstacles such that:\n",
        "\n",
        "**You choose any number of obstacles between 0 and i inclusive.\n",
        "\n",
        "**You must include the ith obstacle in the course.\n",
        "\n",
        "**You must put the chosen obstacles in the same order as they appear in obstacles.\n",
        "\n",
        "**Every obstacle (except the first) is taller than or the same height as the obstacle immediately before it.\n",
        "\n",
        "Return an array ans of length n, where ans[i] is the length of the longest obstacle course for index i as described above.\n",
        "\n",
        "**URL**:**https://leetcode.com/problems/find-the-longest-valid-obstacle-course-at-each-position//**"
      ],
      "metadata": {
        "id": "KXSvmM-kUHas"
      }
    },
    {
      "cell_type": "code",
      "source": [
        "class Solution:\n",
        "  def longestObstacleCourseAtEachPosition(self, obstacles: List[int]) -> List[int]:\n",
        "    ans = []\n",
        "    # tail[i] := the minimum tail of all increasing subseqs having length i + 1\n",
        "    # it's easy to see that tail must be an increasing array\n",
        "    tail = []\n",
        "\n",
        "    for obstacle in obstacles:\n",
        "      if not tail or obstacle >= tail[-1]:\n",
        "        tail.append(obstacle)\n",
        "        ans.append(len(tail))\n",
        "      else:\n",
        "        index = bisect_right(tail, obstacle)\n",
        "        tail[index] = obstacle\n",
        "        ans.append(index + 1)\n",
        "\n",
        "    return ans\n"
      ],
      "metadata": {
        "id": "CKptd0d6SJhI"
      },
      "execution_count": null,
      "outputs": []
    },
    {
      "cell_type": "code",
      "source": [],
      "metadata": {
        "id": "zaGlo1x_SJkX"
      },
      "execution_count": null,
      "outputs": []
    },
    {
      "cell_type": "markdown",
      "source": [
        "**Leetcode 1572**:**Matrix Diagonal Sum**\n",
        "\n",
        "**Problem**:Given a square matrix mat, return the sum of the matrix diagonals.\n",
        "\n",
        "Only include the sum of all the elements on the primary diagonal and all the elements on the secondary diagonal that are not part of the primary diagonal.\n",
        "\n",
        "\n",
        "\n",
        "\n",
        "\n",
        "**URL**:**https://leetcode.com/problems/matrix-diagonal-sum/**"
      ],
      "metadata": {
        "id": "F3kVSxffzYUC"
      }
    },
    {
      "cell_type": "code",
      "source": [
        "class Solution:\n",
        "    def diagonalSum(self, mat: List[List[int]]) -> int:\n",
        "        sum = 0\n",
        "        for j in range(len(mat)):\n",
        "            sum += mat[j][j] + mat[j][~j]\n",
        "        if (len(mat) % 2): sum -= mat[int(j/2)][int(j/2)]\n",
        "        return sum\n"
      ],
      "metadata": {
        "id": "kdwcQckQSJnP"
      },
      "execution_count": null,
      "outputs": []
    },
    {
      "cell_type": "code",
      "source": [],
      "metadata": {
        "id": "sVc5T6poSJqn"
      },
      "execution_count": null,
      "outputs": []
    },
    {
      "cell_type": "markdown",
      "source": [
        "**Leetcode 54** : **Spiral Matrix**\n",
        "\n",
        "**Problem**:Given an m x n matrix, return all elements of the matrix in spiral order.\n",
        "\n",
        "\n",
        "\n",
        "**URL**:**https://leetcode.com/problems/spiral-matrix/**"
      ],
      "metadata": {
        "id": "yBmxRprRTadK"
      }
    },
    {
      "cell_type": "code",
      "source": [
        "class Solution:\n",
        "  def spiralOrder(self, matrix: List[List[int]]) -> List[int]:\n",
        "    if not matrix:\n",
        "      return []\n",
        "\n",
        "    m = len(matrix)\n",
        "    n = len(matrix[0])\n",
        "    ans = []\n",
        "    r1 = 0\n",
        "    c1 = 0\n",
        "    r2 = m - 1\n",
        "    c2 = n - 1\n",
        "\n",
        "    # Repeatedly add matrix[r1..r2][c1..c2] to ans\n",
        "    while len(ans) < m * n:\n",
        "      j = c1\n",
        "      while j <= c2 and len(ans) < m * n:\n",
        "        ans.append(matrix[r1][j])\n",
        "        j += 1\n",
        "      i = r1 + 1\n",
        "      while i <= r2 - 1 and len(ans) < m * n:\n",
        "        ans.append(matrix[i][c2])\n",
        "        i += 1\n",
        "      j = c2\n",
        "      while j >= c1 and len(ans) < m * n:\n",
        "        ans.append(matrix[r2][j])\n",
        "        j -= 1\n",
        "      i = r2 - 1\n",
        "      while i >= r1 + 1 and len(ans) < m * n:\n",
        "        ans.append(matrix[i][c1])\n",
        "        i -= 1\n",
        "      r1 += 1\n",
        "      c1 += 1\n",
        "      r2 -= 1\n",
        "      c2 -= 1\n",
        "\n",
        "    return ans"
      ],
      "metadata": {
        "id": "psMCOptWSJuF"
      },
      "execution_count": null,
      "outputs": []
    },
    {
      "cell_type": "code",
      "source": [],
      "metadata": {
        "id": "fcvyVjtkSJxd"
      },
      "execution_count": null,
      "outputs": []
    },
    {
      "cell_type": "markdown",
      "source": [
        "**Leetcode 59** : **Spiral Matrix II**\n",
        "\n",
        "**Problem**:Given a positive integer n, generate an n x n matrix filled with elements from 1 to n2 in spiral order.\n",
        "\n",
        "\n",
        "**URL**:**https://leetcode.com/problems/spiral-matrix-ii/**"
      ],
      "metadata": {
        "id": "rRvBWXXbs99k"
      }
    },
    {
      "cell_type": "code",
      "source": [
        "class Solution:\n",
        "  def generateMatrix(self, n: int) -> List[List[int]]:\n",
        "    ans = [[0] * n for _ in range(n)]\n",
        "    count = 1\n",
        "\n",
        "    for min in range(n // 2):\n",
        "      max = n - min - 1\n",
        "      for i in range(min, max):\n",
        "        ans[min][i] = count\n",
        "        count += 1\n",
        "      for i in range(min, max):\n",
        "        ans[i][max] = count\n",
        "        count += 1\n",
        "      for i in range(max, min, -1):\n",
        "        ans[max][i] = count\n",
        "        count += 1\n",
        "      for i in range(max, min, -1):\n",
        "        ans[i][min] = count\n",
        "        count += 1\n",
        "\n",
        "    if n & 1:\n",
        "      ans[n // 2][n // 2] = count\n",
        "\n",
        "    return ans"
      ],
      "metadata": {
        "id": "aoNCnKF6SJ01"
      },
      "execution_count": null,
      "outputs": []
    },
    {
      "cell_type": "code",
      "source": [],
      "metadata": {
        "id": "90iu7MQNpRq2"
      },
      "execution_count": null,
      "outputs": []
    },
    {
      "cell_type": "markdown",
      "source": [
        "**Leetcode 1035** : **Uncrossed Lines**\n",
        "\n",
        "**Problem**:You are given two integer arrays nums1 and nums2. We write the integers of nums1 and nums2 (in the order they are given) on two separate horizontal lines.\n",
        "\n",
        "We may draw connecting lines: a straight line connecting two numbers nums1[i] and nums2[j] such that:\n",
        "\n",
        "**nums1[i] == nums2[j], and\n",
        "\n",
        "**the line we draw does not intersect any other connecting (non-horizontal) line.\n",
        "\n",
        "Note that a connecting line cannot intersect even at the endpoints (i.e., each number can only belong to one connecting line).\n",
        "\n",
        "Return the maximum number of connecting lines we can draw in this way.\n",
        "\n",
        "**URL**:**https://leetcode.com/problems/uncrossed-lines/**"
      ],
      "metadata": {
        "id": "Rkhlw9VoPoLM"
      }
    },
    {
      "cell_type": "code",
      "source": [
        "class Solution:\n",
        "  def maxUncrossedLines(self, nums1: List[int], nums2: List[int]) -> int:\n",
        "    m = len(nums1)\n",
        "    n = len(nums2)\n",
        "    dp = [[0] * (n + 1) for _ in range(m + 1)]\n",
        "\n",
        "    for i in range(1, m + 1):\n",
        "      for j in range(1, n + 1):\n",
        "        dp[i][j] = dp[i - 1][j - 1] + 1 \\\n",
        "            if nums1[i - 1] == nums2[j - 1] \\\n",
        "            else max(dp[i - 1][j], dp[i][j - 1])\n",
        "\n",
        "    return dp[m][n]"
      ],
      "metadata": {
        "id": "WTgE3lclBOPp"
      },
      "execution_count": null,
      "outputs": []
    },
    {
      "cell_type": "code",
      "source": [],
      "metadata": {
        "id": "Z6xjv1z9BOSt"
      },
      "execution_count": null,
      "outputs": []
    },
    {
      "cell_type": "markdown",
      "source": [
        "**Leetcode 2140** : **Solving Questions With Brainpower**\n",
        "\n",
        "**Problem** : You are given a 0-indexed 2D integer array questions where questions[i] = [pointsi, brainpoweri].\n",
        "\n",
        "The array describes the questions of an exam, where you have to process the questions in order (i.e., starting from question 0) and make a decision whether to solve or skip each question. Solving question i will earn you pointsi points but you will be unable to solve each of the next brainpoweri questions. If you skip question i, you get to make the decision on the next question.\n",
        "\n",
        "**For example, given questions = [[3, 2], [4, 3], [4, 4], [2, 5]]:\n",
        "\n",
        "  **If question 0 is solved, you will earn 3 points but you will be unable to solve questions 1 and 2.\n",
        "\n",
        "  **If instead, question 0 is skipped and question 1 is solved, you will earn 4 points but you will be unable to solve questions 2 and 3.\n",
        "\n",
        "Return the maximum points you can earn for the exam.\n",
        "\n",
        "**URL**:**https://leetcode.com/problems/solving-questions-with-brainpower/**"
      ],
      "metadata": {
        "id": "ykFjLKCFB7BQ"
      }
    },
    {
      "cell_type": "code",
      "source": [
        "class Solution:\n",
        "  def mostPoints(self, questions: List[List[int]]) -> int:\n",
        "    n = len(questions)\n",
        "    # dp[i] := max points starting from questions[i]\n",
        "    dp = [0] * (n + 1)\n",
        "\n",
        "    for i in reversed(range(n)):\n",
        "      points, brainpower = questions[i]\n",
        "      nextIndex = i + brainpower + 1\n",
        "      nextPoints = dp[nextIndex] if nextIndex < n else 0\n",
        "      dp[i] = max(points + nextPoints, dp[i + 1])\n",
        "\n",
        "    return dp[0]"
      ],
      "metadata": {
        "id": "JSojmVtOBOWS"
      },
      "execution_count": null,
      "outputs": []
    },
    {
      "cell_type": "code",
      "source": [],
      "metadata": {
        "id": "YiR7ekE_BOZd"
      },
      "execution_count": null,
      "outputs": []
    },
    {
      "cell_type": "markdown",
      "source": [
        "**Leetcode 2466** : **Count Ways To Build Good Strings**\n",
        "\n",
        "**Problem** : Given the integers zero, one, low, and high, we can construct a string by starting with an empty string, and then at each step perform either of the following:\n",
        "\n",
        "**Append the character '0' zero times.\n",
        "\n",
        "**Append the character '1' one times.\n",
        "\n",
        "**This can be performed any number of times.\n",
        "\n",
        "A good string is a string constructed by the above process having a length between low and high (inclusive).\n",
        "\n",
        "Return the number of different good strings that can be constructed satisfying these properties. Since the answer can be large, return it modulo 109 + 7.\n",
        "\n",
        "\n",
        "\n",
        "**URL**:**https://leetcode.com/problems/count-ways-to-build-good-strings/**"
      ],
      "metadata": {
        "id": "F-G5JMzBv5ly"
      }
    },
    {
      "cell_type": "code",
      "source": [
        "class Solution:\n",
        "  def countGoodStrings(self, low: int, high: int, zero: int, one: int) -> int:\n",
        "    kMod = 1_000_000_007\n",
        "    ans = 0\n",
        "    # dp[i] := # of good strings with length i\n",
        "    dp = [1] + [0] * high\n",
        "\n",
        "    for i in range(1, high + 1):\n",
        "      if i >= zero:\n",
        "        dp[i] = (dp[i] + dp[i - zero]) % kMod\n",
        "      if i >= one:\n",
        "        dp[i] = (dp[i] + dp[i - one]) % kMod\n",
        "      if i >= low:\n",
        "        ans = (ans + dp[i]) % kMod\n",
        "\n",
        "    return ans"
      ],
      "metadata": {
        "id": "sLsfHF3iBOcq"
      },
      "execution_count": null,
      "outputs": []
    },
    {
      "cell_type": "code",
      "source": [],
      "metadata": {
        "id": "K3JgSPmgnyiJ"
      },
      "execution_count": null,
      "outputs": []
    },
    {
      "cell_type": "markdown",
      "source": [
        "**Leetcode 1799** : **Maximize Score After N Operations**\n",
        "\n",
        "**Problem** : You are given nums, an array of positive integers of size 2 * n. You must perform n operations on this array.\n",
        "\n",
        "In the ith operation (1-indexed), you will:\n",
        "\n",
        "**Choose two elements, x and y.\n",
        "\n",
        "**Receive a score of i * gcd(x, y).\n",
        "\n",
        "**Remove x and y from nums.\n",
        "\n",
        "Return the maximum score you can receive after performing n operations.\n",
        "\n",
        "The function gcd(x, y) is the greatest common divisor of x and y.\n",
        "\n",
        "\n",
        "\n",
        "**URL**:**https://leetcode.com/problems/maximize-score-after-n-operations/**"
      ],
      "metadata": {
        "id": "X4XOEfHen0Fi"
      }
    },
    {
      "cell_type": "code",
      "source": [
        "import math\n",
        "from typing import List\n",
        "\n",
        "class Solution:\n",
        "    def maxScore(self, nums: List[int]) -> int:\n",
        "        # Calculate the length of the nums\n",
        "        n = len(nums)\n",
        "\n",
        "        # Initialize the dp array with 0\n",
        "        dp = [0] * (1 << n)\n",
        "        gcd = [[0]*n for _ in range(n)]\n",
        "\n",
        "        # Calculate the gcd for all pairs\n",
        "        for i in range(n):\n",
        "            for j in range(i+1, n):\n",
        "                gcd[i][j] = math.gcd(nums[i], nums[j])\n",
        "\n",
        "        # Dynamic programming to calculate the maxScore\n",
        "        for mask in range(1, 1 << n):\n",
        "            bits = [b for b in range(n) if ((mask >> b) & 1)]\n",
        "            if len(bits) % 2 == 0:\n",
        "                for i in range(len(bits)):\n",
        "                    for j in range(i+1, len(bits)):\n",
        "                        dp[mask] = max(dp[mask], dp[mask ^ (1 << bits[i]) ^ (1 << bits[j])] + (len(bits)//2) * gcd[bits[i]][bits[j]])\n",
        "        return dp[-1]"
      ],
      "metadata": {
        "id": "U2JD9GqYnylC"
      },
      "execution_count": null,
      "outputs": []
    },
    {
      "cell_type": "code",
      "source": [],
      "metadata": {
        "id": "BFifkMnEnyoF"
      },
      "execution_count": null,
      "outputs": []
    },
    {
      "cell_type": "markdown",
      "source": [
        "**Leetcode 1721** : **Swapping Nodes in a Linked List**\n",
        "\n",
        "**Problem** : You are given the head of a linked list, and an integer k.\n",
        "\n",
        "Return the head of the linked list after swapping the values of the kth node from the beginning and the kth node from the end (the list is 1-indexed).\n",
        "\n",
        "\n",
        "\n",
        "\n",
        "**URL**:**https://leetcode.com/problems/swapping-nodes-in-a-linked-list/**"
      ],
      "metadata": {
        "id": "a30DsUbYV5dR"
      }
    },
    {
      "cell_type": "code",
      "source": [
        "# Definition for singly-linked list.\n",
        "# class ListNode:\n",
        "#     def __init__(self, val=0, next=None):\n",
        "#         self.val = val\n",
        "#         self.next = next\n",
        "class Solution:\n",
        "    def swapNodes(self, head: Optional[ListNode], k: int) -> Optional[ListNode]:\n",
        "        k_beg, k_end, temp = head, head, head\n",
        "        for i in range(k-1):\n",
        "            temp = temp.next\n",
        "        k_beg = temp\n",
        "        while temp.next:\n",
        "            k_end = k_end.next\n",
        "            temp = temp.next\n",
        "        k_beg.val, k_end.val = k_end.val, k_beg.val\n",
        "        return head"
      ],
      "metadata": {
        "id": "o80yXdQgnyrK"
      },
      "execution_count": null,
      "outputs": []
    },
    {
      "cell_type": "code",
      "source": [],
      "metadata": {
        "id": "bkchGTI9nyuh"
      },
      "execution_count": null,
      "outputs": []
    },
    {
      "cell_type": "markdown",
      "source": [
        "**Leetcode 24** : **Swap Nodes in Pairs**\n",
        "\n",
        "**Problem** : Given a linked list, swap every two adjacent nodes and return its head. You must solve the problem without modifying the values in the list's nodes (i.e., only nodes themselves may be changed.)\n",
        "\n",
        "\n",
        "\n",
        "\n",
        "\n",
        "**URL**:**https://leetcode.com/problems/swap-nodes-in-pairs/**"
      ],
      "metadata": {
        "id": "fsOYvnssYWVh"
      }
    },
    {
      "cell_type": "code",
      "source": [
        "# Definition for singly-linked list.\n",
        "# class ListNode:\n",
        "#     def __init__(self, val=0, next=None):\n",
        "#         self.val = val\n",
        "#         self.next = next\n",
        "class Solution:\n",
        "  def swapPairs(self, head: ListNode) -> ListNode:\n",
        "    def getLength(head: ListNode) -> int:\n",
        "      length = 0\n",
        "      while head:\n",
        "        length += 1\n",
        "        head = head.next\n",
        "      return length\n",
        "\n",
        "    length = getLength(head)\n",
        "    dummy = ListNode(0, head)\n",
        "    prev = dummy\n",
        "    curr = head\n",
        "\n",
        "    for _ in range(length // 2):\n",
        "      next = curr.next\n",
        "      curr.next = next.next\n",
        "      next.next = prev.next\n",
        "      prev.next = next\n",
        "      prev = curr\n",
        "      curr = curr.next\n",
        "\n",
        "    return dummy.next"
      ],
      "metadata": {
        "id": "w5qkThQ3nyxz"
      },
      "execution_count": null,
      "outputs": []
    },
    {
      "cell_type": "code",
      "source": [],
      "metadata": {
        "id": "rG04Jdksny0z"
      },
      "execution_count": null,
      "outputs": []
    },
    {
      "cell_type": "markdown",
      "source": [
        "**Leetcode 2130** : **Maximum Twin Sum of a Linked List**\n",
        "\n",
        "**Problem** : In a linked list of size n, where n is even, the ith node (0-indexed) of the linked list is known as the twin of the (n-1-i)th node, if 0 <= i <= (n / 2) - 1.\n",
        "\n",
        "**For example, if n = 4, then node 0 is the twin of node 3, and node 1 is the twin of node 2. These are the only nodes with twins for n = 4.\n",
        "The twin sum is defined as the sum of a node and its twin.\n",
        "\n",
        "Given the head of a linked list with even length, return the maximum twin sum of the linked list.\n",
        "\n",
        "\n",
        "\n",
        "\n",
        "**URL**:**https://leetcode.com/problems/maximum-twin-sum-of-a-linked-list/**"
      ],
      "metadata": {
        "id": "G0gG8_YchdtG"
      }
    },
    {
      "cell_type": "code",
      "source": [
        "# Definition for singly-linked list.\n",
        "# class ListNode:\n",
        "#     def __init__(self, val=0, next=None):\n",
        "#         self.val = val\n",
        "#         self.next = next\n",
        "class Solution:\n",
        "  def pairSum(self, head: Optional[ListNode]) -> int:\n",
        "    def reverseList(head: ListNode) -> ListNode:\n",
        "      prev = None\n",
        "      while head:\n",
        "        next = head.next\n",
        "        head.next = prev\n",
        "        prev = head\n",
        "        head = next\n",
        "      return prev\n",
        "\n",
        "    ans = 0\n",
        "    slow = head\n",
        "    fast = head\n",
        "\n",
        "    # Let slow point to the start of the second half\n",
        "    while fast and fast.next:\n",
        "      slow = slow.next\n",
        "      fast = fast.next.next\n",
        "\n",
        "    # Tail points to the end with reversed second half\n",
        "    tail = reverseList(slow)\n",
        "\n",
        "    while tail:\n",
        "      ans = max(ans, head.val + tail.val)\n",
        "      head = head.next\n",
        "      tail = tail.next\n",
        "\n",
        "    return ans"
      ],
      "metadata": {
        "id": "ntGO8LUfd1qI"
      },
      "execution_count": null,
      "outputs": []
    },
    {
      "cell_type": "code",
      "source": [],
      "metadata": {
        "id": "Pyzp6bNAd1tu"
      },
      "execution_count": null,
      "outputs": []
    },
    {
      "cell_type": "markdown",
      "source": [
        "**Leetcode 1557** : **Minimum Number of Vertices to Reach All Nodes**\n",
        "\n",
        "**Problem** : Given a directed acyclic graph, with n vertices numbered from 0 to n-1, and an array edges where edges[i] = [fromi, toi] represents a directed edge from node fromi to node toi.\n",
        "\n",
        "Find the smallest set of vertices from which all nodes in the graph are reachable. It's guaranteed that a unique solution exists.\n",
        "\n",
        "Notice that you can return the vertices in any order.\n",
        "\n",
        "\n",
        "**URL**:**https://leetcode.com/problems/minimum-number-of-vertices-to-reach-all-nodes/**"
      ],
      "metadata": {
        "id": "VV6mRtpag8lJ"
      }
    },
    {
      "cell_type": "code",
      "source": [
        "class Solution:\n",
        "  def findSmallestSetOfVertices(self, n: int, edges: List[List[int]]) -> List[int]:\n",
        "    inDegree = [0] * n\n",
        "\n",
        "    for _, v in edges:\n",
        "      inDegree[v] += 1\n",
        "\n",
        "    return [i for i, d in enumerate(inDegree) if d == 0]\n"
      ],
      "metadata": {
        "id": "DDiE0LPKd1xb"
      },
      "execution_count": null,
      "outputs": []
    },
    {
      "cell_type": "code",
      "source": [],
      "metadata": {
        "id": "LPCrYF9fd10i"
      },
      "execution_count": null,
      "outputs": []
    },
    {
      "cell_type": "markdown",
      "source": [
        "**Leetcode 785** : **Is Graph Bipartite?**\n",
        "\n",
        "**Problem** : There is an undirected graph with n nodes, where each node is numbered between 0 and n - 1. You are given a 2D array graph, where graph[u] is an array of nodes that node u is adjacent to. More formally, for each v in graph[u], there is an undirected edge between node u and node v. The graph has the following properties:\n",
        "\n",
        "**There are no self-edges (graph[u] does not contain u).\n",
        "\n",
        "**There are no parallel edges (graph[u] does not contain duplicate values).\n",
        "\n",
        "**If v is in graph[u], then u is in graph[v] (the graph is undirected).\n",
        "\n",
        "**The graph may not be connected, meaning there may be two nodes u and v such that there is no path between them.\n",
        "\n",
        "A graph is bipartite if the nodes can be partitioned into two independent sets A and B such that every edge in the graph connects a node in set A and a node in set B.\n",
        "\n",
        "Return true if and only if it is bipartite.\n",
        "\n",
        "**URL**:**https://leetcode.com/problems/is-graph-bipartite/**"
      ],
      "metadata": {
        "id": "zRxfHF5i4cxE"
      }
    },
    {
      "cell_type": "code",
      "source": [
        "from enum import Enum\n",
        "\n",
        "\n",
        "class Color(Enum):\n",
        "  kWhite = 0\n",
        "  kRed = 1\n",
        "  kGreen = 2\n",
        "\n",
        "\n",
        "class Solution:\n",
        "  def isBipartite(self, graph: List[List[int]]) -> bool:\n",
        "    colors = [Color.kWhite] * len(graph)\n",
        "\n",
        "    def isValidColor(u: int, color: Color) -> bool:\n",
        "      # The painted color should be same as the `color`\n",
        "      if colors[u] != Color.kWhite:\n",
        "        return colors[u] == color\n",
        "\n",
        "      colors[u] = color  # Always paint w/ `color`\n",
        "\n",
        "      # All children should have valid colors\n",
        "      childrenColor = Color.kRed if colors[u] == Color.kGreen else Color.kGreen\n",
        "      return all(isValidColor(v, childrenColor) for v in graph[u])\n",
        "\n",
        "    return all(colors[i] != Color.kWhite or isValidColor(i, Color.kRed)\n",
        "               for i in range(len(graph)))"
      ],
      "metadata": {
        "id": "FyZqAMbld13_"
      },
      "execution_count": null,
      "outputs": []
    },
    {
      "cell_type": "code",
      "source": [],
      "metadata": {
        "id": "ZkVW9RTFd17S"
      },
      "execution_count": null,
      "outputs": []
    },
    {
      "cell_type": "markdown",
      "source": [
        "**Leetcode 399** : **Evaluate Division**\n",
        "\n",
        "**Problem** :You are given an array of variable pairs equations and an array of real numbers values, where equations[i] = [Ai, Bi] and values[i] represent the equation Ai / Bi = values[i]. Each Ai or Bi is a string that represents a single variable.\n",
        "\n",
        "You are also given some queries, where queries[j] = [Cj, Dj] represents the jth query where you must find the answer for Cj / Dj = ?.\n",
        "\n",
        "Return the answers to all queries. If a single answer cannot be determined, return -1.0.\n",
        "\n",
        "Note: The input is always valid. You may assume that evaluating the queries will not result in division by zero and that there is no contradiction.\n",
        "\n",
        "\n",
        "\n",
        "**URL**:**https://leetcode.com/problems/evaluate-division/**"
      ],
      "metadata": {
        "id": "egz6MpyrrWe7"
      }
    },
    {
      "cell_type": "code",
      "source": [
        "class Solution:\n",
        "  def calcEquation(self, equations: List[List[str]], values: List[float], queries: List[List[str]]) -> List[float]:\n",
        "    ans = []\n",
        "    # graph[A][B] := A / B\n",
        "    graph = collections.defaultdict(dict)\n",
        "\n",
        "    for (A, B), value in zip(equations, values):\n",
        "      graph[A][B] = value\n",
        "      graph[B][A] = 1 / value\n",
        "\n",
        "    # Returns A / C.\n",
        "    def devide(A: str, C: str, seen: Set[str]) -> float:\n",
        "      if A == C:\n",
        "        return 1.0\n",
        "\n",
        "      seen.add(A)\n",
        "\n",
        "      # value := A / B\n",
        "      for B, value in graph[A].items():\n",
        "        if B in seen:\n",
        "          continue\n",
        "        res = devide(B, C, seen)  # B / C\n",
        "        if res > 0:  # valid result\n",
        "          return value * res  # (A / B) * (B / C) = A / C\n",
        "\n",
        "      return -1.0  # invalid result\n",
        "\n",
        "    for A, C in queries:\n",
        "      if A not in graph and C not in graph:\n",
        "        ans.append(-1.0)\n",
        "      else:\n",
        "        ans.append(devide(A, C, set()))\n",
        "\n",
        "    return ans"
      ],
      "metadata": {
        "id": "uQQvzIwOd1-r"
      },
      "execution_count": null,
      "outputs": []
    },
    {
      "cell_type": "code",
      "source": [],
      "metadata": {
        "id": "FpN4CMQ1ny4M"
      },
      "execution_count": null,
      "outputs": []
    },
    {
      "cell_type": "markdown",
      "source": [
        "**Leetcode 934** : **Shortest Bridge**\n",
        "\n",
        "**Problem** :You are given an n x n binary matrix grid where 1 represents land and 0 represents water.\n",
        "\n",
        "An island is a 4-directionally connected group of 1's not connected to any other 1's. There are exactly two islands in grid.\n",
        "\n",
        "You may change 0's to 1's to connect the two islands to form one island.\n",
        "\n",
        "Return the smallest number of 0's you must flip to connect the two islands.\n",
        "\n",
        "\n",
        "\n",
        "**URL**:**https://leetcode.com/problems/shortest-bridge/**"
      ],
      "metadata": {
        "id": "n0aEE95ixJpd"
      }
    },
    {
      "cell_type": "code",
      "source": [
        "class Solution:\n",
        "    def shortestBridge(self, grid: List[List[int]]) -> int:\n",
        "\n",
        "\n",
        "        island=[]\n",
        "        #  find a single one\n",
        "        for i,r in enumerate(grid):\n",
        "            for j,c in enumerate(r):\n",
        "                if c==1:\n",
        "                    island.append((i,j))\n",
        "                    break\n",
        "            if island:\n",
        "                break\n",
        "\n",
        "        def bfs(pos,val):\n",
        "\n",
        "            q=deque()\n",
        "            directions=[[1,0],[-1,0],[0,1],[0,-1]]\n",
        "            for n in pos:\n",
        "                q.append(n)\n",
        "                visited.add(n)\n",
        "            level=0\n",
        "            while q:\n",
        "                for _ in range(len(q)):\n",
        "\n",
        "                    row,col=q.popleft()\n",
        "\n",
        "                    for dr,dc in directions:\n",
        "                        r,c=row+dr,col+dc\n",
        "                        if (r >=0 and r<len(grid) and c>=0 and c<len(grid)\n",
        "                            and (r,c) not in visited):\n",
        "                            if grid[r][c]==val :\n",
        "                                q.append((r,c))\n",
        "                                visited.add((r,c))\n",
        "                            elif grid[r][c]==1 and val ==0:\n",
        "                                return level\n",
        "                level+=1\n",
        "\n",
        "            return level\n",
        "\n",
        "\n",
        "        visited=set()\n",
        "        bfs(island,1)\n",
        "        return bfs(list(visited),0)"
      ],
      "metadata": {
        "id": "2V7h1I7hxa4h"
      },
      "execution_count": null,
      "outputs": []
    },
    {
      "cell_type": "code",
      "source": [],
      "metadata": {
        "id": "ex-2YjYIxa7R"
      },
      "execution_count": null,
      "outputs": []
    },
    {
      "cell_type": "markdown",
      "source": [
        "**Leetcode 347** : **Top K Frequent Elements**\n",
        "\n",
        "**Problem** :Given an integer array nums and an integer k, return the k most frequent elements. You may return the answer in any order.\n",
        "\n",
        "\n",
        "\n",
        "**URL**:**https://leetcode.com/problems/top-k-frequent-elements**"
      ],
      "metadata": {
        "id": "7BSMZtkXEAG-"
      }
    },
    {
      "cell_type": "code",
      "source": [
        "class Solution:\n",
        "    def topKFrequent(self, nums: List[int], k: int) -> List[int]:\n",
        "        count = {}\n",
        "        for n in nums:\n",
        "            count[n] = count.get(n, 0)+1\n",
        "        return sorted(count, key=count.get, reverse=True)[:k]"
      ],
      "metadata": {
        "id": "NDOBrkPsxa-U"
      },
      "execution_count": null,
      "outputs": []
    },
    {
      "cell_type": "code",
      "source": [],
      "metadata": {
        "id": "4kY4vrFtxbBU"
      },
      "execution_count": null,
      "outputs": []
    },
    {
      "cell_type": "markdown",
      "source": [
        "**Leetcode 703** : **Kth Largest Element in a Stream**\n",
        "\n",
        "**Problem** :Design a class to find the kth largest element in a stream. Note that it is the kth largest element in the sorted order, not the kth distinct element.\n",
        "\n",
        "Implement KthLargest class:\n",
        "\n",
        "**KthLargest(int k, int[] nums) Initializes the object with the integer k and the stream of integers nums.\n",
        "\n",
        "**int add(int val) Appends the integer val to the stream and returns the element representing the kth largest element in the stream.\n",
        "\n",
        "\n",
        "\n",
        "**URL**:**https://leetcode.com/problems/kth-largest-element-in-a-stream**"
      ],
      "metadata": {
        "id": "N-Y-4Ql3qMFH"
      }
    },
    {
      "cell_type": "code",
      "source": [
        "class KthLargest:\n",
        "    def __init__(self, k: int, nums: List[int]):\n",
        "        self.nums = nums\n",
        "        self.k = k\n",
        "        heapify(self.nums)\n",
        "        while len(self.nums) > self.k:\n",
        "            heappop(self.nums)\n",
        "\n",
        "    def add(self, val: int) -> int:\n",
        "        if len(self.nums) < self.k:\n",
        "            heappush(self.nums, val)\n",
        "        elif val > self.nums[0]:\n",
        "            heapreplace(self.nums, val)\n",
        "\n",
        "        return self.nums[0]\n",
        "\n",
        "\n",
        "# Your KthLargest object will be instantiated and called as such:\n",
        "# obj = KthLargest(k, nums)\n",
        "# param_1 = obj.add(val)"
      ],
      "metadata": {
        "id": "nftOPlmvxbEM"
      },
      "execution_count": null,
      "outputs": []
    },
    {
      "cell_type": "code",
      "source": [],
      "metadata": {
        "id": "30EbfsjIxbHW"
      },
      "execution_count": null,
      "outputs": []
    },
    {
      "cell_type": "markdown",
      "source": [
        "**Leetcode 2542** : **Maximum Subsequence Score**\n",
        "\n",
        "**Problem** :You are given two 0-indexed integer arrays nums1 and nums2 of equal length n and a positive integer k. You must choose a subsequence of indices from nums1 of length k.\n",
        "\n",
        "For chosen indices i0, i1, ..., ik - 1, your score is defined as:\n",
        "\n",
        "The sum of the selected elements from nums1 multiplied with the minimum of the selected elements from nums2.\n",
        "\n",
        "**It can defined simply as: (nums1[i0] + nums1[i1] +...+ nums1[ik - 1]) * min(nums2[i0] , nums2[i1], ... ,nums2[ik - 1]).\n",
        "\n",
        "**Return the maximum possible score.\n",
        "\n",
        "A subsequence of indices of an array is a set that can be derived from the set {0, 1, ..., n-1} by deleting some or no elements.\n",
        "\n",
        "\n",
        "\n",
        "**URL**:**https://leetcode.com/problems/kth-largest-element-in-a-stream**"
      ],
      "metadata": {
        "id": "MHdb815Hp70_"
      }
    },
    {
      "cell_type": "code",
      "source": [
        "class Solution:\n",
        "  # Same as 1383. Maximum Performance of a Team\n",
        "  def maxScore(self, nums1: List[int], nums2: List[int], k: int) -> int:\n",
        "    ans = 0\n",
        "    summ = 0\n",
        "    # (nums2[i], nums1[i]) sorted by nums2[i] in descending order.\n",
        "    A = sorted([(num2, num1)\n",
        "               for num1, num2 in zip(nums1, nums2)], reverse=True)\n",
        "    minHeap = []\n",
        "\n",
        "    for num2, num1 in A:\n",
        "      heapq.heappush(minHeap, num1)\n",
        "      summ += num1\n",
        "      if len(minHeap) > k:\n",
        "        summ -= heapq.heappop(minHeap)\n",
        "      if len(minHeap) == k:\n",
        "        ans = max(ans, summ * num2)\n",
        "\n",
        "    return ans"
      ],
      "metadata": {
        "id": "6cSd5wnJxbNQ"
      },
      "execution_count": null,
      "outputs": []
    },
    {
      "cell_type": "code",
      "source": [],
      "metadata": {
        "id": "GIZfAWskxbTW"
      },
      "execution_count": null,
      "outputs": []
    },
    {
      "cell_type": "markdown",
      "source": [
        "**Leetcode 837** : **New 21 Game**\n",
        "\n",
        "**Problem** :Alice plays the following game, loosely based on the card game \"21\".\n",
        "\n",
        "Alice starts with 0 points and draws numbers while she has less than k points. During each draw, she gains an integer number of points randomly from the range [1, maxPts], where maxPts is an integer. Each draw is independent and the outcomes have equal probabilities.\n",
        "\n",
        "Alice stops drawing numbers when she gets k or more points.\n",
        "\n",
        "Return the probability that Alice has n or fewer points.\n",
        "\n",
        "Answers within 10-5 of the actual answer are considered accepted.\n",
        "\n",
        "\n",
        "**URL**:**https://leetcode.com/problems/new-21-game**"
      ],
      "metadata": {
        "id": "C3guybMMswRZ"
      }
    },
    {
      "cell_type": "code",
      "source": [
        "class Solution:\n",
        "  def new21Game(self, n: int, k: int, maxPts: int) -> float:\n",
        "    # When the game ends, the point is in [k..k - 1 + maxPts]\n",
        "    #   P = 1, if n >= k - 1 + maxPts\n",
        "    #   P = 0, if n < k (note the constraints already have k <= n)\n",
        "    if k == 0 or n >= k - 1 + maxPts:\n",
        "      return 1.0\n",
        "\n",
        "    ans = 0.0\n",
        "    dp = [1.0] + [0] * n  # dp[i] := prob to have i points\n",
        "    windowSum = dp[0]  # P(i - 1) + P(i - 2) + ... + P(i - maxPts)\n",
        "\n",
        "    for i in range(1, n + 1):\n",
        "      # The prob to get point i is\n",
        "      # P(i) = [P(i - 1) + P(i - 2) + ... + P(i - maxPts)] / maxPts\n",
        "      dp[i] = windowSum / maxPts\n",
        "      if i < k:\n",
        "        windowSum += dp[i]\n",
        "      else:  # The game ends\n",
        "        ans += dp[i]\n",
        "      if i - maxPts >= 0:\n",
        "        windowSum -= dp[i - maxPts]\n",
        "\n",
        "    return ans"
      ],
      "metadata": {
        "id": "h_2UgIness_J"
      },
      "execution_count": null,
      "outputs": []
    },
    {
      "cell_type": "code",
      "source": [],
      "metadata": {
        "id": "GMxQRcD7stCG"
      },
      "execution_count": null,
      "outputs": []
    },
    {
      "cell_type": "markdown",
      "source": [
        "**Leetcode 1140** : **Stone Game II**\n",
        "\n",
        "**Problem** :Alice and Bob continue their games with piles of stones.  There are a number of piles arranged in a row, and each pile has a positive integer number of stones piles[i].  The objective of the game is to end with the most stones.\n",
        "\n",
        "Alice and Bob take turns, with Alice starting first.  Initially, M = 1.\n",
        "\n",
        "On each player's turn, that player can take all the stones in the first X remaining piles, where 1 <= X <= 2M.  Then, we set M = max(M, X).\n",
        "\n",
        "The game continues until all the stones have been taken.\n",
        "\n",
        "Assuming Alice and Bob play optimally, return the maximum number of stones Alice can get.\n",
        "\n",
        "\n",
        "**URL**:**https://leetcode.com/problems/stone-game-ii**"
      ],
      "metadata": {
        "id": "sfoUJN2XMfS4"
      }
    },
    {
      "cell_type": "code",
      "source": [
        "class Solution:\n",
        "    def helper(self, piles, dp, suffixSum, i, M):\n",
        "        if i == len(piles):\n",
        "            return 0\n",
        "        if i + 2 * M >= len(piles):\n",
        "            return suffixSum[i]\n",
        "\n",
        "        if dp[i][M] != 0:\n",
        "            return dp[i][M]\n",
        "\n",
        "        result = 0\n",
        "        for x in range(1, 2 * M + 1):\n",
        "            result = max(result, suffixSum[i] - self.helper(piles, dp, suffixSum, i + x, max(M, x)))\n",
        "\n",
        "        dp[i][M] = result\n",
        "        return result\n",
        "\n",
        "    def stoneGameII(self, piles):\n",
        "        if not piles:\n",
        "            return 0\n",
        "        dp = [[0] * len(piles) for _ in range(len(piles))]\n",
        "\n",
        "        suffixSum = [0] * len(piles)\n",
        "        suffixSum[-1] = piles[-1]\n",
        "        for i in range(len(piles) - 2, -1, -1):\n",
        "            suffixSum[i] = piles[i] + suffixSum[i + 1]\n",
        "\n",
        "        return self.helper(piles, dp, suffixSum, 0, 1)"
      ],
      "metadata": {
        "id": "3ULetmqZstFW"
      },
      "execution_count": null,
      "outputs": []
    },
    {
      "cell_type": "code",
      "source": [],
      "metadata": {
        "id": "LbcB_M-EstIn"
      },
      "execution_count": null,
      "outputs": []
    },
    {
      "cell_type": "markdown",
      "source": [
        "**Leetcode 1406** : **Stone Game III**\n",
        "\n",
        "**Problem** :Alice and Bob continue their games with piles of stones. There are several stones arranged in a row, and each stone has an associated value which is an integer given in the array stoneValue.\n",
        "\n",
        "Alice and Bob take turns, with Alice starting first. On each player's turn, that player can take 1, 2, or 3 stones from the first remaining stones in the row.\n",
        "\n",
        "The score of each player is the sum of the values of the stones taken. The score of each player is 0 initially.\n",
        "\n",
        "The objective of the game is to end with the highest score, and the winner is the player with the highest score and there could be a tie. The game continues until all the stones have been taken.\n",
        "\n",
        "Assume Alice and Bob play optimally.\n",
        "\n",
        "Return \"Alice\" if Alice will win, \"Bob\" if Bob will win, or \"Tie\" if they will end the game with the same score.\n",
        "\n",
        "\n",
        "\n",
        "**URL**:**https://leetcode.com/problems/stone-game-iii**"
      ],
      "metadata": {
        "id": "8laX-Hd63Tzw"
      }
    },
    {
      "cell_type": "code",
      "source": [
        "class Solution:\n",
        "  def stoneGameIII(self, stoneValue: List[int]) -> str:\n",
        "    n = len(stoneValue)\n",
        "    # dp[i] := max \"relative score\" Alice can make w/ stoneValue[i:]\n",
        "    dp = [-math.inf] * n + [0]\n",
        "\n",
        "    for i in reversed(range(n)):\n",
        "      summ = 0\n",
        "      for j in range(i, i + 3):\n",
        "        if j == n:\n",
        "          break\n",
        "        summ += stoneValue[j]\n",
        "        dp[i] = max(dp[i], summ - dp[j + 1])\n",
        "\n",
        "    score = dp[0]\n",
        "    if score == 0:\n",
        "      return 'Tie'\n",
        "    return 'Alice' if score > 0 else 'Bob'"
      ],
      "metadata": {
        "id": "SEByqyedstLv"
      },
      "execution_count": null,
      "outputs": []
    },
    {
      "cell_type": "code",
      "source": [],
      "metadata": {
        "id": "UzaUBC0-stPJ"
      },
      "execution_count": null,
      "outputs": []
    },
    {
      "cell_type": "markdown",
      "source": [
        "**Leetcode 1547** : **Minimum Cost to Cut a Stick**\n",
        "\n",
        "**Problem** :Given a wooden stick of length n units. The stick is labelled from 0 to n. For example, a stick of length 6 is labelled as follows:\n",
        "\n",
        "\n",
        "Given an integer array cuts where cuts[i] denotes a position you should perform a cut at.\n",
        "\n",
        "You should perform the cuts in order, you can change the order of the cuts as you wish.\n",
        "\n",
        "The cost of one cut is the length of the stick to be cut, the total cost is the sum of costs of all cuts. When you cut a stick, it will be split into two smaller sticks (i.e. the sum of their lengths is the length of the stick before the cut). Please refer to the first example for a better explanation.\n",
        "\n",
        "Return the minimum total cost of the cuts.\n",
        "\n",
        "\n",
        "\n",
        "**URL**:**https://leetcode.com/problems/minimum-cost-to-cut-a-stick**"
      ],
      "metadata": {
        "id": "MMe6NdKFnVRJ"
      }
    },
    {
      "cell_type": "code",
      "source": [
        "class Solution:\n",
        "  def minCost(self, n: int, cuts: List[int]) -> int:\n",
        "    A = sorted([0] + cuts + [n])\n",
        "\n",
        "    dp = [[0] * len(A) for _ in range(len(A))]\n",
        "\n",
        "    for d in range(2, len(A)):\n",
        "      for i in range(len(A) - d):\n",
        "        j = i + d\n",
        "        dp[i][j] = math.inf\n",
        "        for k in range(i + 1, j):\n",
        "          dp[i][j] = min(dp[i][j], A[j] - A[i] + dp[i][k] + dp[k][j])\n",
        "\n",
        "    return dp[0][len(A) - 1]"
      ],
      "metadata": {
        "id": "w-z6HNtsstSU"
      },
      "execution_count": null,
      "outputs": []
    },
    {
      "cell_type": "code",
      "source": [],
      "metadata": {
        "id": "x-kZ-uP_stVl"
      },
      "execution_count": null,
      "outputs": []
    },
    {
      "cell_type": "markdown",
      "source": [
        "**Leetcode 1603** : **Design Parking System**\n",
        "\n",
        "**Problem** :Design a parking system for a parking lot. The parking lot has three kinds of parking spaces: big, medium, and small, with a fixed number of slots for each size.\n",
        "\n",
        "Implement the ParkingSystem class:\n",
        "\n",
        "**ParkingSystem(int big, int medium, int small) Initializes object of the ParkingSystem class. The number of slots for each parking space are given as part of the constructor.\n",
        "\n",
        "\n",
        "**bool addCar(int carType) Checks whether there is a parking space of carType for the car that wants to get into the parking lot. carType can be of three kinds: big, medium, or small, which are represented by 1, 2, and 3 respectively. A car can only park in a parking space of its carType. If there is no space available, return false, else park the car in that size space and return true.\n",
        "\n",
        "Return the minimum total cost of the cuts.\n",
        "\n",
        "\n",
        "\n",
        "**URL**:**https://leetcode.com/problems/design-parking-system**"
      ],
      "metadata": {
        "id": "sDKhBmdE07n_"
      }
    },
    {
      "cell_type": "code",
      "source": [
        "class ParkingSystem:\n",
        "\n",
        "    def __init__(self, big: int, medium: int, small: int):\n",
        "        self.count = [big, medium, small]\n",
        "\n",
        "\n",
        "    def addCar(self, carType: int) -> bool:\n",
        "        self.count[carType - 1] -= 1\n",
        "        return self.count[carType - 1] >= 0\n",
        "\n"
      ],
      "metadata": {
        "id": "OUrlR4UH06l6"
      },
      "execution_count": null,
      "outputs": []
    },
    {
      "cell_type": "code",
      "source": [],
      "metadata": {
        "id": "6plu-5uy06pV"
      },
      "execution_count": null,
      "outputs": []
    },
    {
      "cell_type": "markdown",
      "source": [
        "**Leetcode 705** : **Design Hashset**\n",
        "\n",
        "**Problem** :Design a HashSet without using any built-in hash table libraries.\n",
        "\n",
        "Implement MyHashSet class:\n",
        "\n",
        "**void add(key) Inserts the value key into the HashSet.\n",
        "\n",
        "**bool contains(key) Returns whether the value key exists in the HashSet or not.\n",
        "\n",
        "**void remove(key) Removes the value key in the HashSet. If key does not exist in the HashSet, do nothing.\n",
        "\n",
        "\n",
        "\n",
        "**URL**:**https://leetcode.com/problems/design-hashset**"
      ],
      "metadata": {
        "id": "tCZlwMO1a1L9"
      }
    },
    {
      "cell_type": "code",
      "source": [
        "class MyHashSet:\n",
        "  def __init__(self):\n",
        "    self.set = [False] * 1000001\n",
        "\n",
        "  def add(self, key: int) -> None:\n",
        "    self.set[key] = True\n",
        "\n",
        "  def remove(self, key: int) -> None:\n",
        "    self.set[key] = False\n",
        "\n",
        "  def contains(self, key: int) -> bool:\n",
        "    return self.set[key]"
      ],
      "metadata": {
        "id": "vHjIQWvJ06s2"
      },
      "execution_count": null,
      "outputs": []
    },
    {
      "cell_type": "code",
      "source": [],
      "metadata": {
        "id": "POsGLVI306wO"
      },
      "execution_count": null,
      "outputs": []
    },
    {
      "cell_type": "markdown",
      "source": [
        "**Leetcode 1396** : **Design Underground System**\n",
        "\n",
        "**Problem** :An underground railway system is keeping track of customer travel times between different stations. They are using this data to calculate the average time it takes to travel from one station to another.\n",
        "\n",
        "Implement the UndergroundSystem class:\n",
        "\n",
        "**void checkIn(int id, string stationName, int t)\n",
        "\n",
        "--A customer with a card ID equal to id, checks in at the station stationName at time t.\n",
        "\n",
        "--A customer can only be checked into one place at a time.\n",
        "\n",
        "**void checkOut(int id, string stationName, int t)\n",
        "\n",
        "--A customer with a card ID equal to id, checks out from the station stationName at time t.\n",
        "\n",
        "**double getAverageTime(string startStation, string endStation)\n",
        "\n",
        "--Returns the average time it takes to travel from startStation to endStation.\n",
        "\n",
        "--The average time is computed from all the previous traveling times from startStation to endStation that happened directly, meaning a check in at startStation followed by a check out from endStation.\n",
        "\n",
        "--The time it takes to travel from startStation to endStation may be different from the time it takes to travel from endStation to startStation.\n",
        "\n",
        "--There will be at least one customer that has traveled from startStation to endStation before getAverageTime is called.\n",
        "\n",
        "You may assume all calls to the checkIn and checkOut methods are consistent. If a customer checks in at time t1 then checks out at time t2, then t1 < t2. All events happen in chronological order.\n",
        "\n",
        "\n",
        "**URL**:**https://leetcode.com/problems/design-underground-system/**"
      ],
      "metadata": {
        "id": "-fJ3fS2hvxoP"
      }
    },
    {
      "cell_type": "code",
      "source": [
        "class UndergroundSystem:\n",
        "  def __init__(self):\n",
        "    # {id: (stationName, time)}\n",
        "    self.checkIns = {}\n",
        "    # {route: (numTrips, totalTime)}\n",
        "    self.checkOuts = collections.defaultdict(lambda: [0, 0])\n",
        "\n",
        "  def checkIn(self, id: int, stationName: str, t: int) -> None:\n",
        "    self.checkIns[id] = (stationName, t)\n",
        "\n",
        "  def checkOut(self, id: int, stationName: str, t: int) -> None:\n",
        "    startStation, startTime = self.checkIns.pop(id)\n",
        "    route = (startStation, stationName)\n",
        "    self.checkOuts[route][0] += 1\n",
        "    self.checkOuts[route][1] += t - startTime\n",
        "\n",
        "  def getAverageTime(self, startStation: str, endStation: str) -> float:\n",
        "    numTrips, totalTime = self.checkOuts[(startStation, endStation)]\n",
        "    return totalTime / numTrips"
      ],
      "metadata": {
        "id": "QEymZxyM06zh"
      },
      "execution_count": null,
      "outputs": []
    },
    {
      "cell_type": "code",
      "source": [],
      "metadata": {
        "id": "QJ8-33vH062o"
      },
      "execution_count": null,
      "outputs": []
    },
    {
      "cell_type": "markdown",
      "source": [
        "**Leetcode 1091** : **Shortest Path in Binary Matrix**\n",
        "\n",
        "**Problem** :Given an n x n binary matrix grid, return the length of the shortest clear path in the matrix. If there is no clear path, return -1.\n",
        "\n",
        "A clear path in a binary matrix is a path from the top-left cell (i.e., (0, 0)) to the bottom-right cell (i.e., (n - 1, n - 1)) such that:\n",
        "\n",
        "**All the visited cells of the path are 0.\n",
        "\n",
        "**All the adjacent cells of the path are 8-directionally connected (i.e., they are different and they share an edge or a corner).\n",
        "\n",
        "The length of a clear path is the number of visited cells of this path.\n",
        "\n",
        "\n",
        "\n",
        "**URL**:**https://leetcode.com/problems/shortest-path-in-binary-matrix/**"
      ],
      "metadata": {
        "id": "_IPsmhbG3d9r"
      }
    },
    {
      "cell_type": "code",
      "source": [
        "class Solution:\n",
        "    def shortestPathBinaryMatrix(self, grid: List[List[int]]) -> int:\n",
        "\n",
        "        lengthOfGrid = len(grid)\n",
        "        queue = deque([(0,0,1)])\n",
        "        visited = set((0,0))\n",
        "        direct = [[0,1], [1,0],[0,-1], [-1,0],\n",
        "                    [1,1],[-1,-1],[1,-1],[-1,1]]\n",
        "        while queue:\n",
        "            row, column, lengthOfPosition = queue.popleft()\n",
        "            if min(row, column) < 0 or max(row, column) >= lengthOfGrid or grid[row][column]:\n",
        "                continue\n",
        "            if row == lengthOfGrid -1 and column == lengthOfGrid - 1:\n",
        "                return lengthOfPosition\n",
        "            for directRow, directColumn in direct:\n",
        "                if (row + directRow, column + directColumn) not in visited:\n",
        "                    queue.append((row + directRow, column+ directColumn, lengthOfPosition + 1))\n",
        "                    visited.add((row + directRow, column + directColumn))\n",
        "\n",
        "        return -1\n",
        "\n"
      ],
      "metadata": {
        "id": "mifBs2QD065-"
      },
      "execution_count": null,
      "outputs": []
    },
    {
      "cell_type": "code",
      "source": [],
      "metadata": {
        "id": "pMoflnEE069o"
      },
      "execution_count": null,
      "outputs": []
    },
    {
      "cell_type": "markdown",
      "source": [
        "**Leetcode 2101** : **Detonate the Maximum Bombs**\n",
        "\n",
        "**Problem** :You are given a list of bombs. The range of a bomb is defined as the area where its effect can be felt. This area is in the shape of a circle with the center as the location of the bomb.\n",
        "\n",
        "The bombs are represented by a 0-indexed 2D integer array bombs where bombs[i] = [xi, yi, ri]. xi and yi denote the X-coordinate and Y-coordinate of the location of the ith bomb, whereas ri denotes the radius of its range.\n",
        "\n",
        "You may choose to detonate a single bomb. When a bomb is detonated, it will detonate all bombs that lie in its range. These bombs will further detonate the bombs that lie in their ranges.\n",
        "\n",
        "Given the list of bombs, return the maximum number of bombs that can be detonated if you are allowed to detonate only one bomb.\n",
        "\n",
        "**URL**:**https://leetcode.com/problems/detonate-the-maximum-bombs/**"
      ],
      "metadata": {
        "id": "o3oo3rDzPKqE"
      }
    },
    {
      "cell_type": "code",
      "source": [
        "class Solution:\n",
        "  def maximumDetonation(self, bombs: List[List[int]]) -> int:\n",
        "    n = len(bombs)\n",
        "    ans = 0\n",
        "    graph = [[] for _ in range(n)]\n",
        "\n",
        "    for i, (xi, yi, ri) in enumerate(bombs):\n",
        "      for j, (xj, yj, rj) in enumerate(bombs):\n",
        "        if i == j:\n",
        "          continue\n",
        "        if ri**2 >= (xi - xj)**2 + (yi - yj)**2:\n",
        "          graph[i].append(j)\n",
        "\n",
        "    def dfs(u: int, seen: Set[int]) -> None:\n",
        "      for v in graph[u]:\n",
        "        if v in seen:\n",
        "          continue\n",
        "        seen.add(v)\n",
        "        dfs(v, seen)\n",
        "\n",
        "    for i in range(n):\n",
        "      seen = set([i])\n",
        "      dfs(i, seen)\n",
        "      ans = max(ans, len(seen))\n",
        "\n",
        "    return ans"
      ],
      "metadata": {
        "id": "lOp8vx8F07A3"
      },
      "execution_count": null,
      "outputs": []
    },
    {
      "cell_type": "code",
      "source": [],
      "metadata": {
        "id": "jtEZ_JNz07EL"
      },
      "execution_count": null,
      "outputs": []
    },
    {
      "cell_type": "markdown",
      "source": [
        "**Leetcode 1376** : **Time Needed to Inform All Employees**\n",
        "\n",
        "**Problem** :A company has n employees with a unique ID for each employee from 0 to n - 1. The head of the company is the one with headID.\n",
        "\n",
        "Each employee has one direct manager given in the manager array where manager[i] is the direct manager of the i-th employee, manager[headID] = -1. Also, it is guaranteed that the subordination relationships have a tree structure.\n",
        "\n",
        "The head of the company wants to inform all the company employees of an urgent piece of news. He will inform his direct subordinates, and they will inform their subordinates, and so on until all employees know about the urgent news.\n",
        "\n",
        "The i-th employee needs informTime[i] minutes to inform all of his direct subordinates (i.e., After informTime[i] minutes, all his direct subordinates can start spreading the news).\n",
        "\n",
        "Return the number of minutes needed to inform all the employees about the urgent news.\n",
        "\n",
        "**URL**:**https://leetcode.com/problems/time-needed-to-inform-all-employees/**"
      ],
      "metadata": {
        "id": "X6gcGQZGvwho"
      }
    },
    {
      "cell_type": "code",
      "source": [
        "class Solution:\n",
        "    def numOfMinutes(self, n: int, headID: int, a: List[int], b: List[int]) -> int:\n",
        "        mp=defaultdict(list)\n",
        "        for i in range(len(a)):\n",
        "            mp[a[i]].append(i)\n",
        "        v=deque()\n",
        "        v+=[[headID,b[headID]]]\n",
        "        ans=0\n",
        "        while v:\n",
        "            x=v[0]\n",
        "            v.popleft()\n",
        "            for i in mp[x[0]]:\n",
        "                v+=[[i,x[1]+b[i]]]\n",
        "                ans=max(ans,x[1]+b[i])\n",
        "        return ans\n",
        "\n"
      ],
      "metadata": {
        "id": "pU8Y2zSyvBL1"
      },
      "execution_count": null,
      "outputs": []
    },
    {
      "cell_type": "code",
      "source": [],
      "metadata": {
        "id": "Y4XlNMtMvBPP"
      },
      "execution_count": null,
      "outputs": []
    },
    {
      "cell_type": "markdown",
      "source": [
        "**Leetcode 547** : **Number of Provinces**\n",
        "\n",
        "**Problem** :There are n cities. Some of them are connected, while some are not. If city a is connected directly with city b, and city b is connected directly with city c, then city a is connected indirectly with city c.\n",
        "\n",
        "A province is a group of directly or indirectly connected cities and no other cities outside of the group.\n",
        "\n",
        "You are given an n x n matrix isConnected where isConnected[i][j] = 1 if the ith city and the jth city are directly connected, and isConnected[i][j] = 0 otherwise.\n",
        "\n",
        "Return the total number of provinces.\n",
        "\n",
        "**URL**:**https://leetcode.com/problems/number-of-provinces/**"
      ],
      "metadata": {
        "id": "P_4hYiBGTqGY"
      }
    },
    {
      "cell_type": "code",
      "source": [
        "class UnionFind:\n",
        "  def __init__(self, n: int):\n",
        "    self.count = n\n",
        "    self.id = list(range(n))\n",
        "    self.rank = [0] * n\n",
        "\n",
        "  def unionByRank(self, u: int, v: int) -> None:\n",
        "    i = self._find(u)\n",
        "    j = self._find(v)\n",
        "    if i == j:\n",
        "      return\n",
        "    if self.rank[i] < self.rank[j]:\n",
        "      self.id[i] = self.id[j]\n",
        "    elif self.rank[i] > self.rank[j]:\n",
        "      self.id[j] = self.id[i]\n",
        "    else:\n",
        "      self.id[i] = self.id[j]\n",
        "      self.rank[j] += 1\n",
        "    self.count -= 1\n",
        "\n",
        "  def _find(self, u: int) -> int:\n",
        "    if self.id[u] != u:\n",
        "      self.id[u] = self._find(self.id[u])\n",
        "    return self.id[u]\n",
        "\n",
        "\n",
        "class Solution:\n",
        "  def findCircleNum(self, isConnected: List[List[int]]) -> int:\n",
        "    n = len(isConnected)\n",
        "    uf = UnionFind(n)\n",
        "\n",
        "    for i in range(n):\n",
        "      for j in range(i, n):\n",
        "        if isConnected[i][j] == 1:\n",
        "          uf.unionByRank(i, j)\n",
        "\n",
        "    return uf.count"
      ],
      "metadata": {
        "id": "kKAayvhSvBSo"
      },
      "execution_count": null,
      "outputs": []
    },
    {
      "cell_type": "code",
      "source": [],
      "metadata": {
        "id": "9bCFHHCJvBWF"
      },
      "execution_count": null,
      "outputs": []
    },
    {
      "cell_type": "markdown",
      "source": [
        "**Leetcode 1232** : **Check If It Is a Straight Line**\n",
        "\n",
        "**Problem** :You are given an array coordinates, coordinates[i] = [x, y], where [x, y] represents the coordinate of a point. Check if these points make a straight line in the XY plane.\n",
        "\n",
        "\n",
        "**URL**:**https://leetcode.com/problems/check-if-it-is-a-straight-line/**"
      ],
      "metadata": {
        "id": "ta7jrrmPUKS_"
      }
    },
    {
      "cell_type": "code",
      "source": [
        "class Solution:\n",
        "    def checkStraightLine(self, coordinates: List[List[int]]) -> bool:\n",
        "        x0, y0, x1, y1 = *coordinates[0], *coordinates[1]\n",
        "        dx = x1 - x0\n",
        "        dy = y1 - y0\n",
        "\n",
        "        return all((x - x0) * dy == (y - y0) * dx for x, y in coordinates)"
      ],
      "metadata": {
        "id": "bByf4DKkvBZb"
      },
      "execution_count": null,
      "outputs": []
    },
    {
      "cell_type": "code",
      "source": [],
      "metadata": {
        "id": "QOe2RZ-9vBcv"
      },
      "execution_count": null,
      "outputs": []
    },
    {
      "cell_type": "markdown",
      "source": [
        "**Leetcode 1502** : **Can Make Arithmetic Progression From Sequence**\n",
        "\n",
        "**Problem** :A sequence of numbers is called an arithmetic progression if the difference between any two consecutive elements is the same.\n",
        "\n",
        "Given an array of numbers arr, return true if the array can be rearranged to form an arithmetic progression. Otherwise, return false.\n",
        "\n",
        "**URL**:**https://leetcode.com/problems/can-make-arithmetic-progression-from-sequence/**"
      ],
      "metadata": {
        "id": "KP8cizDXUQMq"
      }
    },
    {
      "cell_type": "code",
      "source": [
        "class Solution:\n",
        "    def canMakeArithmeticProgression(self, arr: List[int]) -> bool:\n",
        "        arr.sort()\n",
        "        difference=arr[1]-arr[0]\n",
        "        for i in range(len(arr)-1):\n",
        "            if arr[i+1]-arr[i] != difference:\n",
        "                return False\n",
        "        return True\n"
      ],
      "metadata": {
        "id": "9oH-rKD1vBgY"
      },
      "execution_count": null,
      "outputs": []
    },
    {
      "cell_type": "code",
      "source": [],
      "metadata": {
        "id": "Xd6a2ZOEFSX-"
      },
      "execution_count": null,
      "outputs": []
    },
    {
      "cell_type": "markdown",
      "source": [
        "**Leetcode 1318** : **Minimum Flips to Make a OR b Equal to c**\n",
        "\n",
        "**Problem** :Given 3 positives numbers a, b and c. Return the minimum flips required in some bits of a and b to make ( a OR b == c ). (bitwise OR operation).\n",
        "Flip operation consists of change any single bit 1 to 0 or change the bit 0 to 1 in their binary representation.\n",
        "\n",
        "\n",
        "**URL**:**https://leetcode.com/problems/minimum-flips-to-make-a-or-b-equal-to-c/**\n"
      ],
      "metadata": {
        "id": "f3KhYN2nFQiT"
      }
    },
    {
      "cell_type": "code",
      "source": [
        "class Solution:\n",
        "  def minFlips(self, a: int, b: int, c: int) -> int:\n",
        "    kMaxBit = 30\n",
        "    ans = 0\n",
        "\n",
        "    for i in range(kMaxBit):\n",
        "      if (c >> i & 1) == 1:\n",
        "        ans += (a >> i & 1) == 0 and (b >> i & 1) == 0\n",
        "      else:  # (c >> i & 1) == 0\n",
        "        ans += ((a >> i & 1) == 1) + ((b >> i & 1) == 1)\n",
        "\n",
        "    return ans"
      ],
      "metadata": {
        "id": "Twi3yFL1vBjv"
      },
      "execution_count": null,
      "outputs": []
    },
    {
      "cell_type": "code",
      "source": [],
      "metadata": {
        "id": "KA7f0hckvBnI"
      },
      "execution_count": null,
      "outputs": []
    },
    {
      "cell_type": "markdown",
      "source": [
        "**Leetcode 1351** : **Count Negative Numbers in a Sorted Matrix**\n",
        "\n",
        "**Problem** :Given a m x n matrix grid which is sorted in non-increasing order both row-wise and column-wise, return the number of negative numbers in grid.\n",
        "\n",
        "\n",
        "\n",
        "**URL**:**https://leetcode.com/problems/count-negative-numbers-in-a-sorted-matrix/**\n"
      ],
      "metadata": {
        "id": "oyaoRry8IUQX"
      }
    },
    {
      "cell_type": "code",
      "source": [
        "class Solution:\n",
        "  def countNegatives(self, grid: List[List[int]]) -> int:\n",
        "    m = len(grid)\n",
        "    n = len(grid[0])\n",
        "    ans = 0\n",
        "    i = m - 1\n",
        "    j = 0\n",
        "\n",
        "    while i >= 0 and j < n:\n",
        "      if grid[i][j] < 0:\n",
        "        ans += n - j\n",
        "        i -= 1\n",
        "      else:\n",
        "        j += 1\n",
        "\n",
        "    return ans"
      ],
      "metadata": {
        "id": "bRVBrY_zvBqL"
      },
      "execution_count": null,
      "outputs": []
    },
    {
      "cell_type": "code",
      "source": [],
      "metadata": {
        "id": "yKEtXAbVvBtg"
      },
      "execution_count": null,
      "outputs": []
    },
    {
      "cell_type": "markdown",
      "source": [
        "**Leetcode 744** : **Find Smallest Letter Greater Than Target**\n",
        "\n",
        "**Problem** :You are given an array of characters letters that is sorted in non-decreasing order, and a character target. There are at least two different characters in letters.\n",
        "\n",
        "Return the smallest character in letters that is lexicographically greater than target. If such a character does not exist, return the first character in letters.\n",
        "\n",
        "\n",
        "**URL**:**https://leetcode.com/problems/find-smallest-letter-greater-than-target/**\n"
      ],
      "metadata": {
        "id": "UJY3gfd_vT1N"
      }
    },
    {
      "cell_type": "code",
      "source": [
        "class Solution:\n",
        "  def nextGreatestLetter(self, letters: List[str], target: str) -> str:\n",
        "    l = bisect.bisect_right(range(len(letters)), target,\n",
        "                            key=lambda m: letters[m])\n",
        "    return letters[l % len(letters)]"
      ],
      "metadata": {
        "id": "PxpFbx3OvBwy"
      },
      "execution_count": null,
      "outputs": []
    },
    {
      "cell_type": "code",
      "source": [],
      "metadata": {
        "id": "nHg7ho8YvB0d"
      },
      "execution_count": null,
      "outputs": []
    },
    {
      "cell_type": "markdown",
      "source": [
        "**Leetcode 1802** : **Maximum Value at a Given Index in a Bounded Array**\n",
        "\n",
        "**Problem** :You are given three positive integers: n, index, and maxSum. You want to construct an array nums (0-indexed) that satisfies the following conditions:\n",
        "\n",
        "**nums.length == n\n",
        "\n",
        "**nums[i] is a positive integer where 0 <= i < n.\n",
        "\n",
        "**abs(nums[i] - nums[i+1]) <= 1 where 0 <= i < n-1.\n",
        "\n",
        "**The sum of all the elements of nums does not exceed maxSum.\n",
        "nums[index] is maximized.\n",
        "\n",
        "Return nums[index] of the constructed array.\n",
        "\n",
        "Note that abs(x) equals x if x >= 0, and -x otherwise.\n",
        "\n",
        "\n",
        "\n",
        "**URL**:**https://leetcode.com/problems/maximum-value-at-a-given-index-in-a-bounded-array/**\n"
      ],
      "metadata": {
        "id": "QvVHvS1NKLBe"
      }
    },
    {
      "cell_type": "code",
      "source": [
        "class Solution:\n",
        "    def maxValue(self, n: int, index: int, maxSum: int) -> int:\n",
        "        maxSum -= n\n",
        "        def check(x):\n",
        "            y = max(0, x - index)\n",
        "            ans = (x+y) * (x-y+1) // 2\n",
        "            y = max(0, x - ((n-1) - index))\n",
        "            ans += (x+y) * (x-y+1) // 2\n",
        "            return (ans - x)\n",
        "\n",
        "        l, r = 0, maxSum\n",
        "        while l < r:\n",
        "            mid = (l + r + 1) >> 1\n",
        "            if check(mid) <= maxSum:\n",
        "                l = mid\n",
        "            else:\n",
        "                r = mid - 1\n",
        "        return l + 1\n"
      ],
      "metadata": {
        "id": "6eJWYEvCvB4C"
      },
      "execution_count": null,
      "outputs": []
    },
    {
      "cell_type": "code",
      "source": [],
      "metadata": {
        "id": "cwHJKt-1vB7a"
      },
      "execution_count": null,
      "outputs": []
    },
    {
      "cell_type": "markdown",
      "source": [
        "**Leetcode 1146** : **Snapshot Array**\n",
        "\n",
        "**Problem** :Implement a SnapshotArray that supports the following interface:\n",
        "\n",
        "**SnapshotArray(int length) initializes an array-like data structure with the given length. Initially, each element equals 0.\n",
        "\n",
        "**void set(index, val) sets the element at the given index to be equal to val.\n",
        "\n",
        "**int snap() takes a snapshot of the array and returns the snap_id: the total number of times we called snap() minus 1.\n",
        "\n",
        "**int get(index, snap_id) returns the value at the given index, at the time we took the snapshot with the given snap_id\n",
        "\n",
        "\n",
        "\n",
        "**URL**:**https://leetcode.com/problems/snapshot-array/**\n"
      ],
      "metadata": {
        "id": "tVMzvaGhLcdA"
      }
    },
    {
      "cell_type": "code",
      "source": [
        "class SnapshotArray:\n",
        "  def __init__(self, length: int):\n",
        "    self.snaps = [[[0, 0]] for _ in range(length)]\n",
        "    self.snap_id = 0\n",
        "\n",
        "  def set(self, index: int, val: int) -> None:\n",
        "    snap = self.snaps[index][-1]\n",
        "    if snap[0] == self.snap_id:\n",
        "      snap[1] = val\n",
        "    else:\n",
        "      self.snaps[index].append([self.snap_id, val])\n",
        "\n",
        "  def snap(self) -> int:\n",
        "    self.snap_id += 1\n",
        "    return self.snap_id - 1\n",
        "\n",
        "  def get(self, index: int, snap_id: int) -> int:\n",
        "    i = bisect_left(self.snaps[index], [snap_id + 1]) - 1\n",
        "    return self.snaps[index][i][1]\n"
      ],
      "metadata": {
        "id": "EDACdT1kvB_H"
      },
      "execution_count": null,
      "outputs": []
    },
    {
      "cell_type": "code",
      "source": [],
      "metadata": {
        "id": "klUh3FcZvCCe"
      },
      "execution_count": null,
      "outputs": []
    },
    {
      "cell_type": "markdown",
      "source": [
        "**Leetcode 228** : **Summary Ranges**\n",
        "\n",
        "**Problem** :You are given a sorted unique integer array nums.\n",
        "\n",
        "A range [a,b] is the set of all integers from a to b (inclusive).\n",
        "\n",
        "Return the smallest sorted list of ranges that cover all the numbers in the array exactly. That is, each element of nums is covered by exactly one of the ranges, and there is no integer x such that x is in one of the ranges but not in nums.\n",
        "\n",
        "Each range [a,b] in the list should be output as:\n",
        "\n",
        "**\"a->b\" if a != b\n",
        "\n",
        "**\"a\" if a == b\n",
        "\n",
        "**URL**:**https://leetcode.com/problems/summary-ranges/**\n"
      ],
      "metadata": {
        "id": "1fvK9DaGMjpz"
      }
    },
    {
      "cell_type": "code",
      "source": [
        "class Solution:\n",
        "  def summaryRanges(self, nums: List[int]) -> List[str]:\n",
        "    ans = []\n",
        "\n",
        "    i = 0\n",
        "    while i < len(nums):\n",
        "      begin = nums[i]\n",
        "      while i < len(nums) - 1 and nums[i] == nums[i + 1] - 1:\n",
        "        i += 1\n",
        "      end = nums[i]\n",
        "      if begin == end:\n",
        "        ans.append(str(begin))\n",
        "      else:\n",
        "        ans.append(str(begin) + \"->\" + str(end))\n",
        "      i += 1\n",
        "\n",
        "    return ans\n"
      ],
      "metadata": {
        "id": "RgCDjf-SMO36"
      },
      "execution_count": null,
      "outputs": []
    },
    {
      "cell_type": "code",
      "source": [],
      "metadata": {
        "id": "WkL8FiyPMO6w"
      },
      "execution_count": null,
      "outputs": []
    },
    {
      "cell_type": "markdown",
      "source": [
        "**Leetcode 228** : **Equal Row and Column Pairs**\n",
        "\n",
        "**Problem** :Given a 0-indexed n x n integer matrix grid, return the number of pairs (ri, cj) such that row ri and column cj are equal.\n",
        "\n",
        "A row and column pair is considered equal if they contain the same elements in the same order (i.e., an equal array).\n",
        "\n",
        "\n",
        "\n",
        "**URL**:**https://leetcode.com/problems/equal-row-and-column-pairs/**"
      ],
      "metadata": {
        "id": "aPckSFpUOAXV"
      }
    },
    {
      "cell_type": "code",
      "source": [
        "class Solution:\n",
        "  def equalPairs(self, grid: List[List[int]]) -> int:\n",
        "    n = len(grid)\n",
        "    ans = 0\n",
        "\n",
        "    for i in range(n):\n",
        "      for j in range(n):\n",
        "        k = 0\n",
        "        while k < n:\n",
        "          if grid[i][k] != grid[k][j]:\n",
        "            break\n",
        "          k += 1\n",
        "        if k == n:  # R[i] == C[j]\n",
        "          ans += 1\n",
        "\n",
        "    return ans"
      ],
      "metadata": {
        "id": "fJuD-qqRMO-G"
      },
      "execution_count": null,
      "outputs": []
    },
    {
      "cell_type": "code",
      "source": [],
      "metadata": {
        "id": "qh6RK5KvMPBQ"
      },
      "execution_count": null,
      "outputs": []
    },
    {
      "cell_type": "markdown",
      "source": [
        "**Leetcode 530** : **Minimum Absolute Difference in BST**\n",
        "\n",
        "**Problem** :Given a 0-indexed n x n integer matrix grid, return the number of pairs (ri, cj) such that row ri and column cj are equal.\n",
        "\n",
        "A row and column pair is considered equal if they contain the same elements in the same order (i.e., an equal array).\n",
        "\n",
        "\n",
        "\n",
        "**URL**:**https://leetcode.com/problems/minimum-absolute-difference-in-bst/**"
      ],
      "metadata": {
        "id": "eHrdXECyqNwg"
      }
    },
    {
      "cell_type": "code",
      "source": [
        "# Definition for a binary tree node.\n",
        "# class TreeNode:\n",
        "#     def __init__(self, val=0, left=None, right=None):\n",
        "#         self.val = val\n",
        "#         self.left = left\n",
        "#         self.right = right\n",
        "def preorder(root, v):\n",
        "    if root is None:\n",
        "        return\n",
        "    v.append(root.val)\n",
        "    preorder(root.left, v)\n",
        "    preorder(root.right, v)\n",
        "\n",
        "class Solution:\n",
        "    def getMinimumDifference(self, root: Optional[TreeNode]) -> int:\n",
        "        min = sys.maxsize\n",
        "        lst = []\n",
        "        preorder(root, lst)\n",
        "        for i in range(len(lst)-1):\n",
        "            for j in range(i+1, len(lst)):\n",
        "                if(min > abs(lst[i]-lst[j])):\n",
        "                    min = abs(lst[i]-lst[j])\n",
        "        return min"
      ],
      "metadata": {
        "id": "NI-0P0OwMPEr"
      },
      "execution_count": null,
      "outputs": []
    },
    {
      "cell_type": "code",
      "source": [],
      "metadata": {
        "id": "LHSlELm-MPH2"
      },
      "execution_count": null,
      "outputs": []
    },
    {
      "cell_type": "markdown",
      "source": [
        "**Leetcode 1161** : **Maximum Level Sum of a Binary Tree**\n",
        "\n",
        "**Problem** :Given the root of a binary tree, the level of its root is 1, the level of its children is 2, and so on.\n",
        "\n",
        "Return the smallest level x such that the sum of all the values of nodes at level x is maximal.\n",
        "\n",
        "**URL**:**https://leetcode.com/problems/maximum-level-sum-of-a-binary-tree/**"
      ],
      "metadata": {
        "id": "L8UId_bxTZfv"
      }
    },
    {
      "cell_type": "code",
      "source": [
        "# Definition for a binary tree node.\n",
        "# class TreeNode:\n",
        "#     def __init__(self, val=0, left=None, right=None):\n",
        "#         self.val = val\n",
        "#         self.left = left\n",
        "#         self.right = right\n",
        "class Solution:\n",
        "  def maxLevelSum(self, root: Optional[TreeNode]) -> int:\n",
        "    # levelSums[i] := sum of level (i + 1) (1-indexed)\n",
        "    levelSums = []\n",
        "\n",
        "    def dfs(root: Optional[TreeNode], level: int) -> None:\n",
        "      if not root:\n",
        "        return\n",
        "      if len(levelSums) == level:\n",
        "        levelSums.append(0)\n",
        "      levelSums[level] += root.val\n",
        "      dfs(root.left, level + 1)\n",
        "      dfs(root.right, level + 1)\n",
        "\n",
        "    dfs(root, 0)\n",
        "    return 1 + levelSums.index(max(levelSums))"
      ],
      "metadata": {
        "id": "oI2j4c5cMPLT"
      },
      "execution_count": null,
      "outputs": []
    },
    {
      "cell_type": "code",
      "source": [],
      "metadata": {
        "id": "iWUvcODcMPOq"
      },
      "execution_count": null,
      "outputs": []
    },
    {
      "cell_type": "markdown",
      "source": [
        "**Leetcode 1569** : **Number of Ways to Reorder Array to Get Same BST**\n",
        "\n",
        "**Problem** :Given an array nums that represents a permutation of integers from 1 to n. We are going to construct a binary search tree (BST) by inserting the elements of nums in order into an initially empty BST. Find the number of different ways to reorder nums so that the constructed BST is identical to that formed from the original array nums.\n",
        "\n",
        "\n",
        "**For example, given nums = [2,1,3], we will have 2 as the root, 1 as a left child, and 3 as a right child. The array [2,3,1] also yields the same BST but [3,2,1] yields a different BST.\n",
        "\n",
        "Return the number of ways to reorder nums such that the BST formed is identical to the original BST formed from nums.\n",
        "\n",
        "Since the answer may be very large, return it modulo 109 + 7.\n",
        "\n",
        "\n",
        "\n",
        "**URL**:**https://leetcode.com/problems/number-of-ways-to-reorder-array-to-get-same-bst/**"
      ],
      "metadata": {
        "id": "Dz_hOSUhNFvg"
      }
    },
    {
      "cell_type": "code",
      "source": [
        "from math import comb\n",
        "from typing import List\n",
        "\n",
        "class Solution:\n",
        "    def numOfWays(self, nums: List[int]) -> int:\n",
        "        def f(nums):\n",
        "            if len(nums) <= 2:\n",
        "                return 1\n",
        "            left = [v for v in nums if v < nums[0]]\n",
        "            right = [v for v in nums if v > nums[0]]\n",
        "            return comb(len(left) + len(right), len(right)) * f(left) * f(right)\n",
        "\n",
        "        return (f(nums) - 1) % (10**9 + 7)"
      ],
      "metadata": {
        "id": "o7KMTmDSMPRw"
      },
      "execution_count": null,
      "outputs": []
    },
    {
      "cell_type": "code",
      "source": [],
      "metadata": {
        "id": "fHr8mHtCMPU6"
      },
      "execution_count": null,
      "outputs": []
    },
    {
      "cell_type": "markdown",
      "source": [
        "**Leetcode 1187** : **Make Array Strictly Increasing**\n",
        "\n",
        "**Problem** :Given two integer arrays arr1 and arr2, return the minimum number of operations (possibly zero) needed to make arr1 strictly increasing.\n",
        "\n",
        "In one operation, you can choose two indices 0 <= i < arr1.length and 0 <= j < arr2.length and do the assignment arr1[i] = arr2[j].\n",
        "\n",
        "If there is no way to make arr1 strictly increasing, return -1.\n",
        "\n",
        "\n",
        "\n",
        "**URL**:**https://leetcode.com/problems/make-array-strictly-increasing/**"
      ],
      "metadata": {
        "id": "MIzLNG-5Jryv"
      }
    },
    {
      "cell_type": "code",
      "source": [
        "class Solution:\n",
        "  def makeArrayIncreasing(self, arr1: List[int], arr2: List[int]) -> int:\n",
        "    # dp[i] := min steps to reach i at previous round\n",
        "    dp = {-1: 0}\n",
        "\n",
        "    arr2.sort()\n",
        "\n",
        "    for a in arr1:\n",
        "      nextDp = collections.defaultdict(lambda: math.inf)\n",
        "      for val, steps in dp.items():\n",
        "        # it's possible to use the value in arr1\n",
        "        if a > val:\n",
        "          nextDp[a] = min(nextDp[a], steps)\n",
        "        # Also try the value in arr2\n",
        "        i = bisect_right(arr2, val)\n",
        "        if i < len(arr2):\n",
        "          nextDp[arr2[i]] = min(nextDp[arr2[i]], steps + 1)\n",
        "      if not nextDp:\n",
        "        return -1\n",
        "      dp = nextDp\n",
        "\n",
        "    return min(dp.values())"
      ],
      "metadata": {
        "id": "GLev8jaeJ-tW"
      },
      "execution_count": null,
      "outputs": []
    },
    {
      "cell_type": "code",
      "source": [],
      "metadata": {
        "id": "6nWo_a37J-wR"
      },
      "execution_count": null,
      "outputs": []
    },
    {
      "cell_type": "markdown",
      "source": [
        "**Leetcode 2328** : **Number of Increasing Paths in a Grid**\n",
        "\n",
        "**Problem** :You are given an m x n integer matrix grid, where you can move from a cell to any adjacent cell in all 4 directions.\n",
        "\n",
        "Return the number of strictly increasing paths in the grid such that you can start from any cell and end at any cell. Since the answer may be very large, return it modulo 109 + 7.\n",
        "\n",
        "Two paths are considered different if they do not have exactly the same sequence of visited cells.\n",
        "\n",
        "\n",
        "**URL**:**https://leetcode.com/problems/number-of-increasing-paths-in-a-grid/**"
      ],
      "metadata": {
        "id": "DWpK4zVarv8D"
      }
    },
    {
      "cell_type": "code",
      "source": [
        "class Solution:\n",
        "  def countPaths(self, grid: List[List[int]]) -> int:\n",
        "    kMod = 1_000_000_007\n",
        "    m = len(grid)\n",
        "    n = len(grid[0])\n",
        "    dirs = [0, 1, 0, -1, 0]\n",
        "\n",
        "    # dp(i, j) := # of increasing paths starting from (i, j)\n",
        "    @functools.lru_cache(None)\n",
        "    def dp(i: int, j: int) -> int:\n",
        "      ans = 1  # Current cell contributes 1 length\n",
        "      for k in range(4):\n",
        "        x = i + dirs[k]\n",
        "        y = j + dirs[k + 1]\n",
        "        if x < 0 or x == m or y < 0 or y == n:\n",
        "          continue\n",
        "        if grid[x][y] <= grid[i][j]:\n",
        "          continue\n",
        "        ans += dp(x, y)\n",
        "        ans %= kMod\n",
        "      return ans\n",
        "\n",
        "    return sum(dp(i, j)\n",
        "               for i in range(m)\n",
        "               for j in range(n)) % kMod"
      ],
      "metadata": {
        "id": "Z62SLP-IJ-z-"
      },
      "execution_count": null,
      "outputs": []
    },
    {
      "cell_type": "code",
      "source": [],
      "metadata": {
        "id": "kvfLpTtfJ-6N"
      },
      "execution_count": null,
      "outputs": []
    },
    {
      "cell_type": "markdown",
      "source": [
        "**Leetcode 1732** : **Find the Highest Altitude**\n",
        "\n",
        "**Problem** :There is a biker going on a road trip. The road trip consists of n + 1 points at different altitudes. The biker starts his trip on point 0 with altitude equal 0.\n",
        "\n",
        "You are given an integer array gain of length n where gain[i] is the net gain in altitude between points i​​​​​​ and i + 1 for all (0 <= i < n). Return the highest altitude of a point.\n",
        "\n",
        "\n",
        "**URL**:**https://leetcode.com/problems/find-the-highest-altitude/**"
      ],
      "metadata": {
        "id": "NOh0FNYCicGS"
      }
    },
    {
      "cell_type": "code",
      "source": [
        "class Solution:\n",
        "    def largestAltitude(self, gain: List[int]) -> int:\n",
        "        curr=0\n",
        "        highest=0\n",
        "        for x in gain:\n",
        "            curr+=x\n",
        "            highest=max(curr,highest)\n",
        "\n",
        "        return highest"
      ],
      "metadata": {
        "id": "-iGVlH5LJ-9t"
      },
      "execution_count": null,
      "outputs": []
    },
    {
      "cell_type": "code",
      "source": [],
      "metadata": {
        "id": "DXUAcl4rJ_A-"
      },
      "execution_count": null,
      "outputs": []
    },
    {
      "cell_type": "markdown",
      "source": [
        "**Leetcode 2090** : **K Radius Subarray Averages**\n",
        "\n",
        "**Problem** :You are given a 0-indexed array nums of n integers, and an integer k.\n",
        "\n",
        "The k-radius average for a subarray of nums centered at some index i with the radius k is the average of all elements in nums between the indices i - k and i + k (inclusive). If there are less than k elements before or after the index i, then the k-radius average is -1.\n",
        "\n",
        "Build and return an array avgs of length n where avgs[i] is the k-radius average for the subarray centered at index i.\n",
        "\n",
        "The average of x elements is the sum of the x elements divided by x, using integer division. The integer division truncates toward zero, which means losing its fractional part.\n",
        "\n",
        "For example, the average of four elements 2, 3, 1, and 5 is (2 + 3 + 1 + 5) / 4 = 11 / 4 = 2.75, which truncates to 2.\n",
        "\n",
        "**URL**:**https://leetcode.com/problems/k-radius-subarray-averages/**"
      ],
      "metadata": {
        "id": "eFRG8QwttHNh"
      }
    },
    {
      "cell_type": "code",
      "source": [
        "class Solution:\n",
        "  def getAverages(self, nums: List[int], k: int) -> List[int]:\n",
        "    n = len(nums)\n",
        "    size = 2 * k + 1\n",
        "    ans = [-1] * n\n",
        "    if size > n:\n",
        "      return ans\n",
        "\n",
        "    summ = sum(nums[:size])\n",
        "\n",
        "    for i in range(k, n - k):\n",
        "      ans[i] = summ // size\n",
        "      if i + k + 1 < n:\n",
        "        summ += nums[i + k + 1] - nums[i - k]\n",
        "\n",
        "    return ans"
      ],
      "metadata": {
        "id": "YB4NL_zjJ_En"
      },
      "execution_count": null,
      "outputs": []
    },
    {
      "cell_type": "code",
      "source": [],
      "metadata": {
        "id": "6FrSYb6WJ_IA"
      },
      "execution_count": null,
      "outputs": []
    },
    {
      "cell_type": "markdown",
      "source": [
        "**Leetcode 2448** : **Minimum Cost to Make Array Equal**\n",
        "\n",
        "**Problem** :You are given two 0-indexed arrays nums and cost consisting each of n positive integers.\n",
        "\n",
        "You can do the following operation any number of times:\n",
        "\n",
        "Increase or decrease any element of the array nums by 1.\n",
        "The cost of doing one operation on the ith element is cost[i].\n",
        "\n",
        "Return the minimum total cost such that all the elements of the array nums become equal.\n",
        "\n",
        "\n",
        "\n",
        "**URL**:**https://leetcode.com/problems/minimum-cost-to-make-array-equal/**"
      ],
      "metadata": {
        "id": "03itYEZlnEgy"
      }
    },
    {
      "cell_type": "code",
      "source": [
        "class Solution:\n",
        "  def minCost(self, nums: List[int], cost: List[int]) -> int:\n",
        "    ans = 0\n",
        "    l = min(nums)\n",
        "    r = max(nums)\n",
        "\n",
        "    def getCost(target: int) -> int:\n",
        "      return sum(abs(num - target) * c for num, c in zip(nums, cost))\n",
        "\n",
        "    while l < r:\n",
        "      m = (l + r) // 2\n",
        "      cost1 = getCost(m)\n",
        "      cost2 = getCost(m + 1)\n",
        "      ans = min(cost1, cost2)\n",
        "      if cost1 < cost2:\n",
        "        r = m\n",
        "      else:\n",
        "        l = m + 1\n",
        "\n",
        "    return ans"
      ],
      "metadata": {
        "id": "x4TawGEPJ_LH"
      },
      "execution_count": null,
      "outputs": []
    },
    {
      "cell_type": "code",
      "source": [],
      "metadata": {
        "id": "D04qY6HYGg4Q"
      },
      "execution_count": null,
      "outputs": []
    },
    {
      "cell_type": "markdown",
      "source": [
        "**Leetcode 714** : **Best Time to Buy and Sell Stock with Transaction Fee**\n",
        "\n",
        "**Problem** :You are given an array prices where prices[i] is the price of a given stock on the ith day, and an integer fee representing a transaction fee.\n",
        "\n",
        "Find the maximum profit you can achieve. You may complete as many transactions as you like, but you need to pay the transaction fee for each transaction.\n",
        "\n",
        "Note: You may not engage in multiple transactions simultaneously (i.e., you must sell the stock before you buy again).\n",
        "\n",
        "\n",
        "\n",
        "**URL**:**https://leetcode.com/problems/best-time-to-buy-and-sell-stock-with-transaction-fee/**"
      ],
      "metadata": {
        "id": "x6kTmGfKGiEw"
      }
    },
    {
      "cell_type": "code",
      "source": [
        "class Solution:\n",
        "  def maxProfit(self, prices: List[int], fee: int) -> int:\n",
        "    sell = 0\n",
        "    hold = -math.inf\n",
        "\n",
        "    for price in prices:\n",
        "      sell = max(sell, hold + price)\n",
        "      hold = max(hold, sell - price - fee)\n",
        "\n",
        "    return sell"
      ],
      "metadata": {
        "id": "UUxxmCuqGg6_"
      },
      "execution_count": null,
      "outputs": []
    },
    {
      "cell_type": "code",
      "source": [],
      "metadata": {
        "id": "NvuIqFAkGg-M"
      },
      "execution_count": null,
      "outputs": []
    },
    {
      "cell_type": "markdown",
      "source": [
        "**Leetcode 1027** : **Longest Arithmetic Subsequence**\n",
        "\n",
        "**Problem** :Given an array nums of integers, return the length of the longest arithmetic subsequence in nums.\n",
        "\n",
        "Note that:\n",
        "\n",
        "**A subsequence is an array that can be derived from another array by deleting some or no elements without changing the order of the remaining elements.\n",
        "\n",
        "**A sequence seq is arithmetic if seq[i + 1] - seq[i] are all the same value (for 0 <= i < seq.length - 1).\n",
        "\n",
        "\n",
        "**URL**:**https://leetcode.com/problems/longest-arithmetic-subsequence/**"
      ],
      "metadata": {
        "id": "3wpkInZpI7oY"
      }
    },
    {
      "cell_type": "code",
      "source": [
        "class Solution:\n",
        "  def longestArithSeqLength(self, nums: List[int]) -> int:\n",
        "    n = len(nums)\n",
        "    ans = 0\n",
        "    # dp[i][k] := length of the longest arithmetic subseq ofnums\n",
        "    # nums[0..i] with k = diff + 500\n",
        "    dp = [[0] * 1001 for _ in range(n)]\n",
        "\n",
        "    for i in range(n):\n",
        "      for j in range(i):\n",
        "        k = nums[i] - nums[j] + 500\n",
        "        dp[i][k] = max(2, dp[j][k] + 1)\n",
        "        ans = max(ans, dp[i][k])\n",
        "\n",
        "    return ans"
      ],
      "metadata": {
        "id": "KkVsFmvrGhCx"
      },
      "execution_count": null,
      "outputs": []
    },
    {
      "cell_type": "code",
      "source": [],
      "metadata": {
        "id": "t7iyRolHGhF-"
      },
      "execution_count": null,
      "outputs": []
    },
    {
      "cell_type": "markdown",
      "source": [
        "**Leetcode 956** : **Tallest Billboard**\n",
        "\n",
        "**Problem** :You are installing a billboard and want it to have the largest height. The billboard will have two steel supports, one on each side. Each steel support must be an equal height.\n",
        "\n",
        "You are given a collection of rods that can be welded together. For example, if you have rods of lengths 1, 2, and 3, you can weld them together to make a support of length 6.\n",
        "\n",
        "Return the largest possible height of your billboard installation. If you cannot support the billboard, return 0.\n",
        "\n",
        "\n",
        "\n",
        "**URL**:**https://leetcode.com/problems/tallest-billboard/**"
      ],
      "metadata": {
        "id": "IIevlaTQq6Zc"
      }
    },
    {
      "cell_type": "code",
      "source": [
        "class Solution:\n",
        "    def tallestBillboard(self, rods: List[int]) -> int:\n",
        "        ans={}\n",
        "        return self.dfs(rods,0,0,ans)\n",
        "\n",
        "    def dfs(self,nums,i,diff,ans):\n",
        "        if (i,diff) in ans:\n",
        "            return ans[(i,diff)]\n",
        "\n",
        "        if i>=len(nums):\n",
        "            if diff:\n",
        "                return float('-inf')\n",
        "\n",
        "            return 0\n",
        "\n",
        "        long=self.dfs(nums,i+1,diff+nums[i],ans)\n",
        "        skip=self.dfs(nums,i+1,diff,ans)\n",
        "        short=self.dfs(nums,i+1,abs(nums[i]-diff),ans)+min(diff,nums[i])\n",
        "        ans[(i,diff)]=max(long,short,skip)\n",
        "        return ans[(i,diff)]"
      ],
      "metadata": {
        "id": "-u6NqiUqGhI1"
      },
      "execution_count": null,
      "outputs": []
    },
    {
      "cell_type": "code",
      "source": [],
      "metadata": {
        "id": "uUYEw3QNGhL7"
      },
      "execution_count": null,
      "outputs": []
    },
    {
      "cell_type": "markdown",
      "source": [
        "**Leetcode 1575** : **Count All Possible Routes**\n",
        "\n",
        "**Problem** :You are given an array of distinct positive integers locations where locations[i] represents the position of city i. You are also given integers start, finish and fuel representing the starting city, ending city, and the initial amount of fuel you have, respectively.\n",
        "\n",
        "At each step, if you are at city i, you can pick any city j such that j != i and 0 <= j < locations.length and move to city j. Moving from city i to city j reduces the amount of fuel you have by |locations[i] - locations[j]|. Please notice that |x| denotes the absolute value of x.\n",
        "\n",
        "Notice that fuel cannot become negative at any point in time, and that you are allowed to visit any city more than once (including start and finish).\n",
        "\n",
        "Return the count of all possible routes from start to finish. Since the answer may be too large, return it modulo 109 + 7.\n",
        "\n",
        "\n",
        "**URL**:**https://leetcode.com/problems/count-all-possible-routes/**"
      ],
      "metadata": {
        "id": "zYc1QXwSLhfU"
      }
    },
    {
      "cell_type": "code",
      "source": [
        "class Solution:\n",
        "  def countRoutes(self, locations: List[int], start: int, finish: int, fuel: int) -> int:\n",
        "    kMod = 1_000_000_007\n",
        "\n",
        "    @functools.lru_cache(None)\n",
        "    def dp(i: int, fuel: int) -> int:\n",
        "      if fuel < 0:\n",
        "        return 0\n",
        "\n",
        "      res = 1 if i == finish else 0\n",
        "      for j in range(len(locations)):\n",
        "        if j == i:\n",
        "          continue\n",
        "        res += dp(j, fuel - abs(locations[i] - locations[j]))\n",
        "        res %= kMod\n",
        "\n",
        "      return res\n",
        "\n",
        "    return dp(start, fuel)"
      ],
      "metadata": {
        "id": "3T6bCR-OGhPQ"
      },
      "execution_count": null,
      "outputs": []
    },
    {
      "cell_type": "code",
      "source": [],
      "metadata": {
        "id": "3V-ULCFhGhSD"
      },
      "execution_count": null,
      "outputs": []
    },
    {
      "cell_type": "markdown",
      "source": [
        "**Leetcode 2462** : **Total Cost to Hire K Workers**\n",
        "\n",
        "**Problem** :You are given a 0-indexed integer array costs where costs[i] is the cost of hiring the ith worker.\n",
        "\n",
        "You are also given two integers k and candidates. We want to hire exactly k workers according to the following rules:\n",
        "\n",
        "**You will run k sessions and hire exactly one worker in each session.\n",
        "\n",
        "**In each hiring session, choose the worker with the lowest cost from either the first candidates workers or the last candidates workers. Break the tie by the smallest index.\n",
        "    \n",
        "    For example, if costs = [3,2,7,7,1,2] and candidates = 2, then in the first\n",
        "    \n",
        "    hiring session, we will choose the 4th worker because they have the lowest\n",
        "     \n",
        "    cost [3,2,7,7,1,2].\n",
        "\n",
        "**In the second hiring session, we will choose 1st worker because they have the same lowest cost as 4th worker but they have the smallest index [3,2,7,7,2]. Please note that the indexing may be changed in the process.\n",
        "\n",
        "**If there are fewer than candidates workers remaining, choose the worker with the lowest cost among them. Break the tie by the smallest index.\n",
        "\n",
        "**A worker can only be chosen once.\n",
        "\n",
        "Return the total cost to hire exactly k workers.\n",
        "\n",
        "\n",
        "**URL**:**https://leetcode.com/problems/count-all-possible-routes/**"
      ],
      "metadata": {
        "id": "dEq-iRXXtsgH"
      }
    },
    {
      "cell_type": "code",
      "source": [
        "class Solution:\n",
        "  def totalCost(self, costs: List[int], k: int, candidates: int) -> int:\n",
        "    ans = 0\n",
        "    i = 0\n",
        "    j = len(costs) - 1\n",
        "    minHeapL = []  # First half\n",
        "    minHeapR = []  # Second half\n",
        "\n",
        "    for _ in range(k):\n",
        "      while len(minHeapL) < candidates and i <= j:\n",
        "        heapq.heappush(minHeapL, costs[i])\n",
        "        i += 1\n",
        "      while len(minHeapR) < candidates and i <= j:\n",
        "        heapq.heappush(minHeapR, costs[j])\n",
        "        j -= 1\n",
        "      if not minHeapL:\n",
        "        ans += heapq.heappop(minHeapR)\n",
        "      elif not minHeapR:\n",
        "        ans += heapq.heappop(minHeapL)\n",
        "      # Both `minHeapL` and `minHeapR` are not empty.\n",
        "      elif minHeapL[0] <= minHeapR[0]:\n",
        "        ans += heapq.heappop(minHeapL)\n",
        "      else:\n",
        "        ans += heapq.heappop(minHeapR)\n",
        "\n",
        "    return ans"
      ],
      "metadata": {
        "id": "D-xwuW4WGhVP"
      },
      "execution_count": null,
      "outputs": []
    },
    {
      "cell_type": "code",
      "source": [],
      "metadata": {
        "id": "lY397S1uGhYK"
      },
      "execution_count": null,
      "outputs": []
    },
    {
      "cell_type": "markdown",
      "source": [
        "**Leetcode 373** : **Find K Pairs with Smallest Sums**\n",
        "\n",
        "**Problem** :You are given two integer arrays nums1 and nums2 sorted in ascending order and an integer k.\n",
        "\n",
        "Define a pair (u, v) which consists of one element from the first array and one element from the second array.\n",
        "\n",
        "Return the k pairs (u1, v1), (u2, v2), ..., (uk, vk) with the smallest sums.\n",
        "\n",
        "**URL**:**https://leetcode.com/problems/find-k-pairs-with-smallest-sums/**"
      ],
      "metadata": {
        "id": "WXZLpVdq0kGC"
      }
    },
    {
      "cell_type": "code",
      "source": [
        "class Solution:\n",
        "    def kSmallestPairs(self, nums1: List[int], nums2: List[int], k: int) -> List[List[int]]:\n",
        "        if not nums2 or not nums1: return []\n",
        "        heap = []\n",
        "        heapq.heapify(heap)\n",
        "        for i, num1 in enumerate(nums1[:k]):\n",
        "            for num2 in nums2[:k//(i+1)]:\n",
        "                heapq.heappush(heap, [num1+num2, num1, num2])\n",
        "        return [x[1:] for x in heapq.nsmallest(k, heap)]"
      ],
      "metadata": {
        "id": "SCKKtxTMGhbX"
      },
      "execution_count": null,
      "outputs": []
    },
    {
      "cell_type": "code",
      "source": [],
      "metadata": {
        "id": "guLg101TLW4s"
      },
      "execution_count": null,
      "outputs": []
    },
    {
      "cell_type": "markdown",
      "source": [
        "**Leetcode 1514** : **Path with Maximum Probability**\n",
        "\n",
        "**Problem** :You are given an undirected weighted graph of n nodes (0-indexed), represented by an edge list where edges[i] = [a, b] is an undirected edge connecting the nodes a and b with a probability of success of traversing that edge succProb[i].\n",
        "\n",
        "Given two nodes start and end, find the path with the maximum probability of success to go from start to end and return its success probability.\n",
        "\n",
        "If there is no path from start to end, return 0. Your answer will be accepted if it differs from the correct answer by at most 1e-5.\n",
        "\n",
        "**URL**:**https://leetcode.com/problems/path-with-maximum-probability/**"
      ],
      "metadata": {
        "id": "IAYUO3d7LZb-"
      }
    },
    {
      "cell_type": "code",
      "source": [
        "class Solution:\n",
        "  def maxProbability(self, n: int, edges: List[List[int]], succProb: List[float], start: int, end: int) -> float:\n",
        "    graph = [[] for _ in range(n)]  # [a: [(b, prob_ab)]]\n",
        "    maxHeap = [(-1.0, start)]   # (prob to reach u, u)\n",
        "    seen = [False] * n\n",
        "\n",
        "    for i, ((u, v), prob) in enumerate(zip(edges, succProb)):\n",
        "      graph[u].append((v, prob))\n",
        "      graph[v].append((u, prob))\n",
        "\n",
        "    while maxHeap:\n",
        "      prob, u = heapq.heappop(maxHeap)\n",
        "      prob *= -1\n",
        "      if u == end:\n",
        "        return prob\n",
        "      if seen[u]:\n",
        "        continue\n",
        "      seen[u] = True\n",
        "      for nextNode, edgeProb in graph[u]:\n",
        "        if seen[nextNode]:\n",
        "          continue\n",
        "        heapq.heappush(maxHeap, (-prob * edgeProb, nextNode))\n",
        "\n",
        "    return 0"
      ],
      "metadata": {
        "id": "TR8Q6iunLW8K"
      },
      "execution_count": null,
      "outputs": []
    },
    {
      "cell_type": "code",
      "source": [],
      "metadata": {
        "id": "o604C0RELW_Q"
      },
      "execution_count": null,
      "outputs": []
    },
    {
      "cell_type": "markdown",
      "source": [
        "**Leetcode 864** : **Shortest Path to Get All Keys**\n",
        "\n",
        "**Problem** :You are given an m x n grid grid where:\n",
        "\n",
        "**'.' is an empty cell.\n",
        "\n",
        "**'#' is a wall.\n",
        "\n",
        "**'@' is the starting point.\n",
        "\n",
        "**Lowercase letters represent keys.\n",
        "\n",
        "**Uppercase letters represent locks.\n",
        "\n",
        "You start at the starting point and one move consists of walking one space in one of the four cardinal directions. You cannot walk outside the grid, or walk into a wall.\n",
        "\n",
        "If you walk over a key, you can pick it up and you cannot walk over a lock unless you have its corresponding key.\n",
        "\n",
        "For some 1 <= k <= 6, there is exactly one lowercase and one uppercase letter of the first k letters of the English alphabet in the grid. This means that there is exactly one key for each lock, and one lock for each key; and also that the letters used to represent the keys and locks were chosen in the same order as the English alphabet.\n",
        "\n",
        "Return the lowest number of moves to acquire all keys. If it is impossible, return -1.\n",
        "\n",
        "\n",
        "\n",
        "**URL**:**https://leetcode.com/problems/shortest-path-to-get-all-keys/**"
      ],
      "metadata": {
        "id": "UD4r_qp40B_4"
      }
    },
    {
      "cell_type": "code",
      "source": [
        "class Solution:\n",
        "    def shortestPathAllKeys(self, grid: List[str]) -> int:\n",
        "       # queue -->[ crrow ,crcol , distance , keys]\n",
        "        m , n =len(grid) , len(grid[0])\n",
        "        keys = 0\n",
        "        sr,sc=None,None\n",
        "        for i in range(m):\n",
        "            for j in range(n):\n",
        "                if 97<=ord(grid[i][j])<=122:keys+=1\n",
        "                if grid[i][j] == '@':sr,sc=i,j\n",
        "        d = \"\"\n",
        "        if 97<=ord(grid[sr][sc])<=122:d= grid[sr][sc]\n",
        "        queue =[(sr,sc,0,d)]\n",
        "        dp = {(sr,sc,d):True}\n",
        "        while queue:\n",
        "            row , col , dis , key = queue.pop(0)\n",
        "            if len(key) == keys:return dis\n",
        "            # Try to move in four directions\n",
        "            new = ((row+1,col),(row-1,col),(row,col-1),(row,col+1))\n",
        "            for r,c in new:\n",
        "                if 0<=r<m and 0<=c<n and grid[r][c]!='#':\n",
        "                    if 65<=ord(grid[r][c])<=90:\n",
        "                        # its a lock\n",
        "                        k = grid[r][c].lower()\n",
        "                        #print(k,key)\n",
        "                        if k in key and (r,c,key) not in dp:\n",
        "                            queue.append((r,c,dis+1,key))\n",
        "                            dp[(r,c,key)]=True\n",
        "                    elif 97<=ord(grid[r][c])<=122:\n",
        "                        # its a key\n",
        "                        new = key+grid[r][c] if grid[r][c] not in key else key\n",
        "                        new = \"\".join(sorted(list(new)))\n",
        "                        if (r,c,new)  in dp:continue\n",
        "                        queue.append((r,c,dis+1,new))\n",
        "                        dp[(r,c,new)] = True\n",
        "                    else:\n",
        "                        if (r,c,key) in dp:continue\n",
        "                        queue.append((r,c,dis+1,key))\n",
        "                        dp[(r,c,key)]  = True\n",
        "\n",
        "        return -1"
      ],
      "metadata": {
        "id": "bPxOoEDWLXCj"
      },
      "execution_count": null,
      "outputs": []
    },
    {
      "cell_type": "code",
      "source": [],
      "metadata": {
        "id": "gBc2Qww_LXFm"
      },
      "execution_count": null,
      "outputs": []
    },
    {
      "cell_type": "markdown",
      "source": [
        "**Leetcode 1970** : **Last Day Where You Can Still Cross**\n",
        "\n",
        "**Problem** :There is a 1-based binary matrix where 0 represents land and 1 represents water. You are given integers row and col representing the number of rows and columns in the matrix, respectively.\n",
        "\n",
        "Initially on day 0, the entire matrix is land. However, each day a new cell becomes flooded with water. You are given a 1-based 2D array cells, where cells[i] = [ri, ci] represents that on the ith day, the cell on the rith row and cith column (1-based coordinates) will be covered with water (i.e., changed to 1).\n",
        "\n",
        "You want to find the last day that it is possible to walk from the top to the bottom by only walking on land cells. You can start from any cell in the top row and end at any cell in the bottom row. You can only travel in the four cardinal directions (left, right, up, and down).\n",
        "\n",
        "Return the last day where it is possible to walk from the top to the bottom by only walking on land cells.\n",
        "\n",
        "\n",
        "\n",
        "\n",
        "\n",
        "\n",
        "**URL**:**https://leetcode.com/problems/last-day-where-you-can-still-cross/**"
      ],
      "metadata": {
        "id": "I-Bi2OHcio2A"
      }
    },
    {
      "cell_type": "code",
      "source": [
        "class Solution:\n",
        "  def latestDayToCross(self, row: int, col: int, cells: List[List[int]]) -> int:\n",
        "    dirs = [0, 1, 0, -1, 0]\n",
        "\n",
        "    def canWalk(day: int) -> bool:\n",
        "      matrix = [[0] * col for _ in range(row)]\n",
        "      for i in range(day):\n",
        "        x, y = cells[i]\n",
        "        matrix[x - 1][y - 1] = 1\n",
        "\n",
        "      q = collections.deque()\n",
        "\n",
        "      for j in range(col):\n",
        "        if matrix[0][j] == 0:\n",
        "          q.append((0, j))\n",
        "          matrix[0][j] = 1\n",
        "\n",
        "      while q:\n",
        "        i, j = q.popleft()\n",
        "        for k in range(4):\n",
        "          x = i + dirs[k]\n",
        "          y = j + dirs[k + 1]\n",
        "          if x < 0 or x == row or y < 0 or y == col:\n",
        "            continue\n",
        "          if matrix[x][y] == 1:\n",
        "            continue\n",
        "          if x == row - 1:\n",
        "            return True\n",
        "          q.append((x, y))\n",
        "          matrix[x][y] = 1\n",
        "\n",
        "      return False\n",
        "\n",
        "    ans = 0\n",
        "    l = 1\n",
        "    r = len(cells) - 1\n",
        "\n",
        "    while l <= r:\n",
        "      m = (l + r) // 2\n",
        "      if canWalk(m):\n",
        "        ans = m\n",
        "        l = m + 1\n",
        "      else:\n",
        "        r = m - 1\n",
        "\n",
        "    return ans"
      ],
      "metadata": {
        "id": "17xNlUtALXIv"
      },
      "execution_count": null,
      "outputs": []
    },
    {
      "cell_type": "code",
      "source": [],
      "metadata": {
        "id": "DuDLsnBjLXL7"
      },
      "execution_count": null,
      "outputs": []
    },
    {
      "cell_type": "markdown",
      "source": [
        "**Leetcode 2305** : **Fair Distribution of Cookies**\n",
        "\n",
        "**Problem** : You are given an integer array cookies, where cookies[i] denotes the number of cookies in the ith bag. You are also given an integer k that denotes the number of children to distribute all the bags of cookies to. All the cookies in the same bag must go to the same child and cannot be split up.\n",
        "\n",
        "The unfairness of a distribution is defined as the maximum total cookies obtained by a single child in the distribution.\n",
        "\n",
        "Return the minimum unfairness of all distributions.\n",
        "\n",
        "\n",
        "\n",
        "\n",
        "\n",
        "**URL**:**https://leetcode.com/problems/fair-distribution-of-cookies/**"
      ],
      "metadata": {
        "id": "OgfnYGMs60dg"
      }
    },
    {
      "cell_type": "code",
      "source": [
        "class Solution:\n",
        "    def distributeCookies(self, cookies: List[int], k: int) -> int:\n",
        "        min_unfairness = float('inf')\n",
        "        distribution = [0] * k\n",
        "\n",
        "        def backtrack(i):\n",
        "            nonlocal min_unfairness, distribution\n",
        "\n",
        "            if i == len(cookies):\n",
        "                min_unfairness = min(min_unfairness, max(distribution))\n",
        "                return\n",
        "\n",
        "            # Bounding condition to stop a branch if unfairness already exceeds current optimal solution\n",
        "            if min_unfairness <= max(distribution):\n",
        "                return\n",
        "\n",
        "            for j in range(k):\n",
        "                distribution[j] += cookies[i]\n",
        "                backtrack(i + 1)\n",
        "                distribution[j] -= cookies[i]\n",
        "\n",
        "        backtrack(0)\n",
        "        return min_unfairness"
      ],
      "metadata": {
        "id": "ak9XRkte6zXH"
      },
      "execution_count": null,
      "outputs": []
    },
    {
      "cell_type": "code",
      "source": [],
      "metadata": {
        "id": "R3Zh9DNj6zZ8"
      },
      "execution_count": null,
      "outputs": []
    },
    {
      "cell_type": "markdown",
      "source": [
        "**Leetcode 1601** : **Maximum Number of Achievable Transfer Requests**\n",
        "\n",
        "**Problem** :We have n buildings numbered from 0 to n - 1. Each building has a number of employees. It's transfer season, and some employees want to change the building they reside in.\n",
        "\n",
        "You are given an array requests where requests[i] = [fromi, toi] represents an employee's request to transfer from building fromi to building toi.\n",
        "\n",
        "All buildings are full, so a list of requests is achievable only if for each building, the net change in employee transfers is zero. This means the number of employees leaving is equal to the number of employees moving in. For example if n = 3 and two employees are leaving building 0, one is leaving building 1, and one is leaving building 2, there should be two employees moving to building 0, one employee moving to building 1, and one employee moving to building 2.\n",
        "\n",
        "Return the maximum number of achievable requests.\n",
        "\n",
        "\n",
        "\n",
        "**URL**:**https://leetcode.com/problems/maximum-number-of-achievable-transfer-requests/**"
      ],
      "metadata": {
        "id": "i4fzoNcX9dUD"
      }
    },
    {
      "cell_type": "code",
      "source": [
        "import itertools\n",
        "\n",
        "class Solution:\n",
        "    def maximumRequests(self, n, req):\n",
        "        for k in range(len(req), 0, -1):\n",
        "            for c in itertools.combinations(range(len(req)), k):\n",
        "                degree = [0] * n\n",
        "                for i in c:\n",
        "                    degree[req[i][0]] -= 1\n",
        "                    degree[req[i][1]] += 1\n",
        "                if not any(degree):\n",
        "                    return k\n",
        "        return 0"
      ],
      "metadata": {
        "id": "m06MmKy-6zdP"
      },
      "execution_count": null,
      "outputs": []
    },
    {
      "cell_type": "code",
      "source": [],
      "metadata": {
        "id": "cx7XFmD86zgS"
      },
      "execution_count": null,
      "outputs": []
    },
    {
      "cell_type": "markdown",
      "source": [
        "**Leetcode 859** : **Buddy Strings**\n",
        "\n",
        "**Problem** :Given two strings s and goal, return true if you can swap two letters in s so the result is equal to goal, otherwise, return false.\n",
        "\n",
        "Swapping letters is defined as taking two indices i and j (0-indexed) such that i != j and swapping the characters at s[i] and s[j].\n",
        "\n",
        "**For example, swapping at indices 0 and 2 in \"abcd\" results in \"cbad\".\n",
        "\n",
        "\n",
        "\n",
        "**URL**:**https://leetcode.com/problems/buddy-strings/**"
      ],
      "metadata": {
        "id": "a0MqMaiMNTnW"
      }
    },
    {
      "cell_type": "code",
      "source": [
        "class Solution:\n",
        "  def buddyStrings(self, A: str, B: str) -> bool:\n",
        "    if len(A) != len(B):\n",
        "      return False\n",
        "    if A == B and len(set(A)) < len(A):\n",
        "      return True\n",
        "\n",
        "    diff = [(a, b) for a, b in zip(A, B) if a != b]\n",
        "\n",
        "    return len(diff) == 2 and diff[0] == diff[1][::-1]"
      ],
      "metadata": {
        "id": "5Y490xSw6zjM"
      },
      "execution_count": null,
      "outputs": []
    },
    {
      "cell_type": "code",
      "source": [],
      "metadata": {
        "id": "zVKbOfaS6zmI"
      },
      "execution_count": null,
      "outputs": []
    },
    {
      "cell_type": "markdown",
      "source": [
        "**Leetcode 137** : **Single Number II**\n",
        "\n",
        "**Problem** :Given an integer array nums where every element appears three times except for one, which appears exactly once. Find the single element and return it.\n",
        "\n",
        "You must implement a solution with a linear runtime complexity and use only constant extra space.\n",
        "\n",
        "\n",
        "\n",
        "**URL**:**https://leetcode.com/problems/single-number-ii/**"
      ],
      "metadata": {
        "id": "2O-LqgjC_IpH"
      }
    },
    {
      "cell_type": "code",
      "source": [
        "class Solution:\n",
        "  def singleNumber(self, nums: List[int]) -> int:\n",
        "    ones = 0\n",
        "    twos = 0\n",
        "\n",
        "    for num in nums:\n",
        "      ones ^= (num & ~twos)\n",
        "      twos ^= (num & ~ones)\n",
        "\n",
        "    return ones"
      ],
      "metadata": {
        "id": "_P0dPqpi6zpb"
      },
      "execution_count": null,
      "outputs": []
    },
    {
      "cell_type": "code",
      "source": [],
      "metadata": {
        "id": "9Os6Qd6PGIaq"
      },
      "execution_count": null,
      "outputs": []
    },
    {
      "cell_type": "markdown",
      "source": [
        "**Leetcode 1493** : **Longest Subarray of 1's After Deleting One Element**\n",
        "\n",
        "**Problem** :Given a binary array nums, you should delete one element from it.\n",
        "\n",
        "Return the size of the longest non-empty subarray containing only 1's in the resulting array. Return 0 if there is no such subarray.\n",
        "\n",
        "\n",
        "\n",
        "\n",
        "\n",
        "**URL**:**https://leetcode.com/problems/longest-subarray-of-1s-after-deleting-one-element/**"
      ],
      "metadata": {
        "id": "SQjRRgAoGJn5"
      }
    },
    {
      "cell_type": "code",
      "source": [
        "class Solution:\n",
        "  def longestSubarray(self, nums: List[int]) -> int:\n",
        "    l = 0\n",
        "    count0 = 0\n",
        "\n",
        "    for num in nums:\n",
        "      if num == 0:\n",
        "        count0 += 1\n",
        "      if count0 > 1:\n",
        "        if nums[l] == 0:\n",
        "          count0 -= 1\n",
        "        l += 1\n",
        "\n",
        "    return len(nums) - l - 1"
      ],
      "metadata": {
        "id": "XkGMvHlsGIdz"
      },
      "execution_count": null,
      "outputs": []
    },
    {
      "cell_type": "code",
      "source": [],
      "metadata": {
        "id": "LroKvqrEGIhm"
      },
      "execution_count": null,
      "outputs": []
    },
    {
      "cell_type": "markdown",
      "source": [
        "**Leetcode 209** : **Minimum Size Subarray Sum**\n",
        "\n",
        "**Problem** :Given an array of positive integers nums and a positive integer target, return the minimal length of a\n",
        "subarray whose sum is greater than or equal to target. If there is no such subarray, return 0 instead.\n",
        "\n",
        "\n",
        "\n",
        "\n",
        "**URL**:**https://leetcode.com/problems/minimum-size-subarray-sum/**"
      ],
      "metadata": {
        "id": "JRIWiHl9q-V3"
      }
    },
    {
      "cell_type": "code",
      "source": [
        "class Solution:\n",
        "  def minSubArrayLen(self, s: int, nums: List[int]) -> int:\n",
        "    ans = math.inf\n",
        "    summ = 0\n",
        "    j = 0\n",
        "\n",
        "    for i, num in enumerate(nums):\n",
        "      summ += num\n",
        "      while summ >= s:\n",
        "        ans = min(ans, i - j + 1)\n",
        "        summ -= nums[j]\n",
        "        j += 1\n",
        "\n",
        "    return ans if ans != math.inf else 0"
      ],
      "metadata": {
        "id": "CMBqwbvqGIlC"
      },
      "execution_count": null,
      "outputs": []
    },
    {
      "cell_type": "code",
      "source": [],
      "metadata": {
        "id": "fnQ8Q2IOGIof"
      },
      "execution_count": null,
      "outputs": []
    },
    {
      "cell_type": "markdown",
      "source": [
        "**Leetcode 2024** : **Maximize the Confusion of an Exam**\n",
        "\n",
        "**Problem** :A teacher is writing a test with n true/false questions, with 'T' denoting true and 'F' denoting false. He wants to confuse the students by maximizing the number of consecutive questions with the same answer (multiple trues or multiple falses in a row).\n",
        "\n",
        "You are given a string answerKey, where answerKey[i] is the original answer to the ith question. In addition, you are given an integer k, the maximum number of times you may perform the following operation:\n",
        "\n",
        "**Change the answer key for any question to 'T' or 'F' (i.e., set answerKey[i] to 'T' or 'F').\n",
        "Return the maximum number of consecutive 'T's or 'F's in the answer key after performing the operation at most k times.\n",
        "\n",
        "\n",
        "\n",
        "**URL**:**https://leetcode.com/problems/maximize-the-confusion-of-an-exam/**"
      ],
      "metadata": {
        "id": "KSdOEGtSDH_2"
      }
    },
    {
      "cell_type": "code",
      "source": [
        "class Solution:\n",
        "  def maxConsecutiveAnswers(self, answerKey: str, k: int) -> int:\n",
        "    ans = 0\n",
        "    maxCount = 0\n",
        "    count = collections.Counter()\n",
        "\n",
        "    l = 0\n",
        "    for r, c in enumerate(answerKey):\n",
        "      count[c == 'T'] += 1\n",
        "      maxCount = max(maxCount, count[c == 'T'])\n",
        "      while maxCount + k < r - l + 1:\n",
        "        count[answerKey[l] == 'T'] -= 1\n",
        "        l += 1\n",
        "      ans = max(ans, r - l + 1)\n",
        "\n",
        "    return ans\n"
      ],
      "metadata": {
        "id": "yASCQlolGIro"
      },
      "execution_count": null,
      "outputs": []
    },
    {
      "cell_type": "code",
      "source": [],
      "metadata": {
        "id": "Lni_bbkNGIuy"
      },
      "execution_count": null,
      "outputs": []
    },
    {
      "cell_type": "markdown",
      "source": [
        "**Leetcode 2551** : **Put Marbles in Bags**\n",
        "\n",
        "**Problem** :You have k bags. You are given a 0-indexed integer array weights where weights[i] is the weight of the ith marble. You are also given the integer k.\n",
        "\n",
        "Divide the marbles into the k bags according to the following rules:\n",
        "\n",
        "**No bag is empty.\n",
        "\n",
        "**If the ith marble and jth marble are in a bag, then all marbles with an index between the ith and jth indices should also be in that same bag.\n",
        "\n",
        "**If a bag consists of all the marbles with an index from i to j inclusively, then the cost of the bag is weights[i] + weights[j].\n",
        "\n",
        "The score after distributing the marbles is the sum of the costs of all the k bags.\n",
        "\n",
        "Return the difference between the maximum and minimum scores among marble distributions.\n",
        "\n",
        "\n",
        "\n",
        "\n",
        "\n",
        "\n",
        "**URL**:**https://leetcode.com/problems/put-marbles-in-bags/**"
      ],
      "metadata": {
        "id": "Rm_-LHOvt0uG"
      }
    },
    {
      "cell_type": "code",
      "source": [
        "class Solution:\n",
        "  def putMarbles(self, weights: List[int], k: int) -> int:\n",
        "\n",
        "    A = [a + b for a, b in itertools.pairwise(weights)]\n",
        "    return sum(heapq.nlargest(k - 1, A)) - sum(heapq.nsmallest(k - 1, A))"
      ],
      "metadata": {
        "id": "uH3-224dGIya"
      },
      "execution_count": null,
      "outputs": []
    },
    {
      "cell_type": "code",
      "source": [],
      "metadata": {
        "id": "6vF3kYIfZ7KC"
      },
      "execution_count": null,
      "outputs": []
    },
    {
      "cell_type": "markdown",
      "source": [
        "**Leetcode 2272** : **Substring With Largest Variance**\n",
        "\n",
        "**Problem** :The variance of a string is defined as the largest difference between the number of occurrences of any 2 characters present in the string. Note the two characters may or may not be the same.\n",
        "\n",
        "Given a string s consisting of lowercase English letters only, return the largest variance possible among all substrings of s.\n",
        "\n",
        "A substring is a contiguous sequence of characters within a string.\n",
        "\n",
        "\n",
        "\n",
        "\n",
        "\n",
        "**URL**:**https://leetcode.com/problems/substring-with-largest-variance/**"
      ],
      "metadata": {
        "id": "ft9JqNncZ7_Z"
      }
    },
    {
      "cell_type": "code",
      "source": [
        "class Solution:\n",
        "  def largestVariance(self, s: str) -> int:\n",
        "    # A := the w// higher freq\n",
        "    # B := the w// lower freq\n",
        "    def kadane(a: str, b: str) -> int:\n",
        "      ans = 0\n",
        "      countA = 0\n",
        "      countB = 0\n",
        "      canExtendPrevB = False\n",
        "\n",
        "      for c in s:\n",
        "        if c != a and c != b:\n",
        "          continue\n",
        "        if c == a:\n",
        "          countA += 1\n",
        "        else:\n",
        "          countB += 1\n",
        "        if countB > 0:\n",
        "          # An interval should contain at least one b\n",
        "          ans = max(ans, countA - countB)\n",
        "        elif countB == 0 and canExtendPrevB:\n",
        "          # Edge case: consider previous b\n",
        "          ans = max(ans, countA - 1)\n",
        "\n",
        "        # Reset if # Of b > # Of a\n",
        "        if countB > countA:\n",
        "          countA = 0\n",
        "          countB = 0\n",
        "          canExtendPrevB = True\n",
        "\n",
        "      return ans\n",
        "\n",
        "    return max(kadane(c1, c2)\n",
        "               for c1 in string.ascii_lowercase\n",
        "               for c2 in string.ascii_lowercase\n",
        "               if c1 != c2)"
      ],
      "metadata": {
        "id": "ri7WeoDoZ7M-"
      },
      "execution_count": null,
      "outputs": []
    },
    {
      "cell_type": "code",
      "source": [],
      "metadata": {
        "id": "9WGjDs5mZ7QE"
      },
      "execution_count": null,
      "outputs": []
    },
    {
      "cell_type": "markdown",
      "source": [
        "**Leetcode 111** : **Minimum Depth of Binary Tree**\n",
        "\n",
        "**Problem** :Given a binary tree, find its minimum depth.\n",
        "\n",
        "The minimum depth is the number of nodes along the shortest path from the root node down to the nearest leaf node.\n",
        "\n",
        "Note: A leaf is a node with no children.\n",
        "\n",
        "**URL**:**https://leetcode.com/problems/minimum-depth-of-binary-tree/**"
      ],
      "metadata": {
        "id": "SSeMUOlu2atm"
      }
    },
    {
      "cell_type": "code",
      "source": [
        "# Definition for a binary tree node.\n",
        "# class TreeNode:\n",
        "#     def __init__(self, val=0, left=None, right=None):\n",
        "#         self.val = val\n",
        "#         self.left = left\n",
        "#         self.right = right\n",
        "class Solution:\n",
        "  def minDepth(self, root: Optional[TreeNode]) -> int:\n",
        "    if not root:\n",
        "      return 0\n",
        "    if not root.left:\n",
        "      return self.minDepth(root.right) + 1\n",
        "    if not root.right:\n",
        "      return self.minDepth(root.left) + 1\n",
        "    return min(self.minDepth(root.left), self.minDepth(root.right)) + 1"
      ],
      "metadata": {
        "id": "tnJn1QA6Z7TK"
      },
      "execution_count": null,
      "outputs": []
    },
    {
      "cell_type": "code",
      "source": [],
      "metadata": {
        "id": "m--qOBG1Z7WW"
      },
      "execution_count": null,
      "outputs": []
    },
    {
      "cell_type": "markdown",
      "source": [
        "**Leetcode 863** : **All Nodes Distance K in Binary Tree**\n",
        "\n",
        "**Problem** :Given the root of a binary tree, the value of a target node target, and an integer k, return an array of the values of all nodes that have a distance k from the target node.\n",
        "\n",
        "You can return the answer in any order.\n",
        "\n",
        "**URL**:**https://leetcode.com/problems/all-nodes-distance-k-in-binary-tree/**"
      ],
      "metadata": {
        "id": "LpiRt4PWFIhZ"
      }
    },
    {
      "cell_type": "code",
      "source": [
        "# Definition for a binary tree node.\n",
        "# class TreeNode:\n",
        "#     def __init__(self, x):\n",
        "#         self.val = x\n",
        "#         self.left = None\n",
        "#         self.right = None\n",
        "\n",
        "class Solution:\n",
        "    def distanceK(self, root: TreeNode, target: TreeNode, k: int) -> List[int]:\n",
        "        adj = defaultdict(list)\n",
        "        vis = set()\n",
        "        res = []\n",
        "\n",
        "        def makeGraph(node):\n",
        "            if node.left:\n",
        "                adj[node].append(node.left)\n",
        "                adj[node.left].append(node)\n",
        "                makeGraph(node.left)\n",
        "            if node.right:\n",
        "                adj[node].append(node.right)\n",
        "                adj[node.right].append(node)\n",
        "                makeGraph(node.right)\n",
        "\n",
        "        makeGraph(root)\n",
        "\n",
        "        def dfs(node, d):\n",
        "            if d < k:\n",
        "                vis.add(node)\n",
        "                d += 1\n",
        "                for u in adj[node]:\n",
        "                    if u not in vis:\n",
        "                        dfs(u, d)\n",
        "            else:\n",
        "                res.append(node.val)\n",
        "\n",
        "        dfs(target, 0)\n",
        "        return res"
      ],
      "metadata": {
        "id": "cOoo1LN2Z7Ze"
      },
      "execution_count": null,
      "outputs": []
    },
    {
      "cell_type": "code",
      "source": [],
      "metadata": {
        "id": "cMvMcLqEZ7c4"
      },
      "execution_count": null,
      "outputs": []
    },
    {
      "cell_type": "markdown",
      "source": [
        "**Leetcode 802** : **Find Eventual Safe States**\n",
        "\n",
        "**Problem** :There is a directed graph of n nodes with each node labeled from 0 to n - 1. The graph is represented by a 0-indexed 2D integer array graph where graph[i] is an integer array of nodes adjacent to node i, meaning there is an edge from node i to each node in graph[i].\n",
        "\n",
        "A node is a terminal node if there are no outgoing edges. A node is a safe node if every possible path starting from that node leads to a terminal node (or another safe node).\n",
        "\n",
        "Return an array containing all the safe nodes of the graph. The answer should be sorted in ascending order.\n",
        "\n",
        "\n",
        "**URL**:**https://leetcode.com/problems/find-eventual-safe-states/**"
      ],
      "metadata": {
        "id": "pQaSCbcWgixj"
      }
    },
    {
      "cell_type": "code",
      "source": [
        "from enum import Enum\n",
        "\n",
        "\n",
        "class State(Enum):\n",
        "  kInit = 0\n",
        "  kVisiting = 1\n",
        "  kVisited = 2\n",
        "\n",
        "\n",
        "class Solution:\n",
        "  def eventualSafeNodes(self, graph: List[List[int]]) -> List[int]:\n",
        "    states = [State.kInit] * len(graph)\n",
        "\n",
        "    def hasCycle(u: int) -> bool:\n",
        "      if states[u] == State.kVisiting:\n",
        "        return True\n",
        "      if states[u] == State.kVisited:\n",
        "        return False\n",
        "\n",
        "      states[u] = State.kVisiting\n",
        "      if any(hasCycle(v) for v in graph[u]):\n",
        "        return True\n",
        "      states[u] = State.kVisited\n",
        "\n",
        "    return [i for i in range(len(graph)) if not hasCycle(i)]"
      ],
      "metadata": {
        "id": "3RROkm5AZ7gG"
      },
      "execution_count": null,
      "outputs": []
    },
    {
      "cell_type": "code",
      "source": [],
      "metadata": {
        "id": "82LJZrSu4BFd"
      },
      "execution_count": null,
      "outputs": []
    },
    {
      "cell_type": "markdown",
      "source": [
        "**Leetcode 207** : **Course Schedule**\n",
        "\n",
        "**Problem** :There are a total of numCourses courses you have to take, labeled from 0 to numCourses - 1. You are given an array prerequisites where prerequisites[i] = [ai, bi] indicates that you must take course bi first if you want to take course ai.\n",
        "\n",
        "For example, the pair [0, 1], indicates that to take course 0 you have to first take course 1.\n",
        "Return true if you can finish all courses. Otherwise, return false.\n",
        "\n",
        "\n",
        "\n",
        "**URL**:**https://leetcode.com/problems/courrse-schedule/**"
      ],
      "metadata": {
        "id": "YUigN5u74B_a"
      }
    },
    {
      "cell_type": "code",
      "source": [
        "from enum import Enum\n",
        "\n",
        "\n",
        "class State(Enum):\n",
        "  kInit = 0\n",
        "  kVisiting = 1\n",
        "  kVisited = 2\n",
        "\n",
        "\n",
        "class Solution:\n",
        "  def canFinish(self, numCourses: int, prerequisites: List[List[int]]) -> bool:\n",
        "    graph = [[] for _ in range(numCourses)]\n",
        "    states = [State.kInit] * numCourses\n",
        "\n",
        "    for v, u in prerequisites:\n",
        "      graph[u].append(v)\n",
        "\n",
        "    def hasCycle(u: int) -> bool:\n",
        "      if states[u] == State.kVisiting:\n",
        "        return True\n",
        "      if states[u] == State.kVisited:\n",
        "        return False\n",
        "\n",
        "      states[u] = State.kVisiting\n",
        "      if any(hasCycle(v) for v in graph[u]):\n",
        "        return True\n",
        "      states[u] = State.kVisited\n",
        "\n",
        "      return False\n",
        "\n",
        "    return not any(hasCycle(i) for i in range(numCourses))"
      ],
      "metadata": {
        "id": "IObXNXzy4BIr"
      },
      "execution_count": null,
      "outputs": []
    },
    {
      "cell_type": "code",
      "source": [],
      "metadata": {
        "id": "i3BOWF-l4BL1"
      },
      "execution_count": null,
      "outputs": []
    },
    {
      "cell_type": "markdown",
      "source": [
        "**Leetcode 1218** : **Longest Arithmetic Subsequence of Given Difference**\n",
        "\n",
        "**Problem** :Given an integer array arr and an integer difference, return the length of the longest subsequence in arr which is an arithmetic sequence such that the difference between adjacent elements in the subsequence equals difference.\n",
        "\n",
        "A subsequence is a sequence that can be derived from arr by deleting some or no elements without changing the order of the remaining elements.\n",
        "\n",
        "\n",
        "**URL**:**https://leetcode.com/problems/longest-arithmetic-subsequence-of-given-difference/**"
      ],
      "metadata": {
        "id": "3LABq61_EGaN"
      }
    },
    {
      "cell_type": "code",
      "source": [
        "class Solution:\n",
        "  def longestSubsequence(self, arr: List[int], difference: int) -> int:\n",
        "    ans = 0\n",
        "    lengthAt = {}\n",
        "\n",
        "    for a in arr:\n",
        "      lengthAt[a] = lengthAt.get(a - difference, 0) + 1\n",
        "      ans = max(ans, lengthAt[a])\n",
        "\n",
        "    return ans\n"
      ],
      "metadata": {
        "id": "0DAENzpE4BPE"
      },
      "execution_count": null,
      "outputs": []
    },
    {
      "cell_type": "code",
      "source": [],
      "metadata": {
        "id": "Kp2cGTSe4BSM"
      },
      "execution_count": null,
      "outputs": []
    },
    {
      "cell_type": "markdown",
      "source": [
        "**Leetcode 1751** : **Maximum Number of Events That Can Be Attended II**\n",
        "\n",
        "**Problem** :You are given an array of events where events[i] = [startDayi, endDayi, valuei]. The ith event starts at startDayi and ends at endDayi, and if you attend this event, you will receive a value of valuei. You are also given an integer k which represents the maximum number of events you can attend.\n",
        "\n",
        "You can only attend one event at a time. If you choose to attend an event, you must attend the entire event. Note that the end day is inclusive: that is, you cannot attend two events where one of them starts and the other ends on the same day.\n",
        "\n",
        "Return the maximum sum of values that you can receive by attending events.\n",
        "\n",
        "\n",
        "\n",
        "**URL**:**https://leetcode.com/problems/maximum-number-of-events-that-can-be-attended-ii/**"
      ],
      "metadata": {
        "id": "r8NprZ4VYFxj"
      }
    },
    {
      "cell_type": "code",
      "source": [
        "class Solution:\n",
        "  def maxValue(self, events: List[List[int]], k: int) -> int:\n",
        "    e = sorted(events)\n",
        "\n",
        "    @functools.lru_cache(None)\n",
        "    def dp(i, k):\n",
        "      if k == 0 or i == len(e):\n",
        "        return 0\n",
        "\n",
        "      # Binary search events to find the first index j s.t. e[j][0] > e[i][1]\n",
        "      j = bisect.bisect(e, [e[i][1], math.inf, math.inf], i + 1)\n",
        "      return max(dp(i + 1, k), e[i][2] + dp(j, k - 1))\n",
        "\n",
        "    return dp(0, k)\n"
      ],
      "metadata": {
        "id": "Ftpc-bcL4BVe"
      },
      "execution_count": null,
      "outputs": []
    },
    {
      "cell_type": "code",
      "source": [],
      "metadata": {
        "id": "EV6LY9CoyeIi"
      },
      "execution_count": null,
      "outputs": []
    },
    {
      "cell_type": "markdown",
      "source": [
        "**Leetcode 1125** : **Smallest Sufficient Team**\n",
        "\n",
        "**Problem** :In a project, you have a list of required skills req_skills, and a list of people. The ith person people[i] contains a list of skills that the person has.\n",
        "\n",
        "Consider a sufficient team: a set of people such that for every required skill in req_skills, there is at least one person in the team who has that skill. We can represent these teams by the index of each person.\n",
        "\n",
        "**For example, team = [0, 1, 3] represents the people with skills people[0], people[1], and people[3].\n",
        "\n",
        "Return any sufficient team of the smallest possible size, represented by the index of each person. You may return the answer in any order.\n",
        "\n",
        "It is guaranteed an answer exists.\n",
        "\n",
        "\n",
        "\n",
        "\n",
        "\n",
        "**URL**:**https://leetcode.com/problems/smallest-sufficient-team/**"
      ],
      "metadata": {
        "id": "IMUTCE-pyfTP"
      }
    },
    {
      "cell_type": "code",
      "source": [
        "class Solution:\n",
        "    def smallestSufficientTeam(self, req_skills: List[str], people: List[List[str]]) -> List[int]:\n",
        "        m=len(req_skills)\n",
        "        n=len(people)\n",
        "        skill_index={v:i for i,v in enumerate(req_skills)}\n",
        "        cand=[]\n",
        "        for skills in people:\n",
        "            val=0\n",
        "            for skill in skills:\n",
        "                val |=1<<skill_index[skill]\n",
        "\n",
        "            cand.append(val)\n",
        "\n",
        "        @cache\n",
        "        def fn(i,mask):\n",
        "            if mask==0:\n",
        "                return []\n",
        "\n",
        "            if i==n:\n",
        "                return [0]*100\n",
        "\n",
        "            if not (mask & cand[i]):\n",
        "                return fn(i+1,mask)\n",
        "\n",
        "            return min(fn(i+1,mask),[i]+fn(i+1,mask &~cand[i]),key=len)\n",
        "\n",
        "        return fn(0,(1<<m)-1)"
      ],
      "metadata": {
        "id": "QzzyssU_yeLV"
      },
      "execution_count": null,
      "outputs": []
    },
    {
      "cell_type": "code",
      "source": [],
      "metadata": {
        "id": "HWTu3qaMyeN_"
      },
      "execution_count": null,
      "outputs": []
    },
    {
      "cell_type": "markdown",
      "source": [
        "**Leetcode 445** : **Add Two Numbers II**\n",
        "\n",
        "**Problem** :You are given two non-empty linked lists representing two non-negative integers. The most significant digit comes first and each of their nodes contains a single digit. Add the two numbers and return the sum as a linked list.\n",
        "\n",
        "You may assume the two numbers do not contain any leading zero, except the number 0 itself.\n",
        "\n",
        "\n",
        "**URL**:**https://leetcode.com/problems/add-two-numbers-ii/**"
      ],
      "metadata": {
        "id": "T9exmtTF4dp7"
      }
    },
    {
      "cell_type": "code",
      "source": [
        "# Definition for singly-linked list.\n",
        "# class ListNode:\n",
        "#     def __init__(self, val=0, next=None):\n",
        "#         self.val = val\n",
        "#         self.next = next\n",
        "class Solution:\n",
        "  def addTwoNumbers(self, l1: ListNode, l2: ListNode) -> ListNode:\n",
        "    stack1 = []\n",
        "    stack2 = []\n",
        "\n",
        "    while l1:\n",
        "      stack1.append(l1)\n",
        "      l1 = l1.next\n",
        "\n",
        "    while l2:\n",
        "      stack2.append(l2)\n",
        "      l2 = l2.next\n",
        "\n",
        "    head = None\n",
        "    carry = 0\n",
        "\n",
        "    while carry or stack1 or stack2:\n",
        "      if stack1:\n",
        "        carry += stack1.pop().val\n",
        "      if stack2:\n",
        "        carry += stack2.pop().val\n",
        "      node = ListNode(carry % 10)\n",
        "      node.next = head\n",
        "      head = node\n",
        "      carry //= 10\n",
        "\n",
        "    return head\n"
      ],
      "metadata": {
        "id": "g5kMwrGByeQv"
      },
      "execution_count": null,
      "outputs": []
    },
    {
      "cell_type": "code",
      "source": [],
      "metadata": {
        "id": "E1rgmUBpyeTr"
      },
      "execution_count": null,
      "outputs": []
    },
    {
      "cell_type": "markdown",
      "source": [
        "**Leetcode 445** : **LRU Cache**\n",
        "\n",
        "**Problem** :Design a data structure that follows the constraints of a Least Recently Used (LRU) cache.\n",
        "\n",
        "Implement the LRUCache class:\n",
        "\n",
        "**LRUCache(int capacity) Initialize the LRU cache with positive size capacity.\n",
        "\n",
        "**int get(int key) Return the value of the key if the key exists, otherwise return -1.\n",
        "\n",
        "**void put(int key, int value) Update the value of the key if the key exists.\n",
        "Otherwise, add the key-value pair to the cache. If the number of keys exceeds the capacity from this operation, evict the least recently used key.\n",
        "\n",
        "\n",
        "The functions get and put must each run in O(1) average time complexity.\n",
        "\n",
        "\n",
        "\n",
        "\n",
        "\n",
        "**URL**:**https://leetcode.com/problems/lru-cache/**"
      ],
      "metadata": {
        "id": "p43wG2WW1MT7"
      }
    },
    {
      "cell_type": "code",
      "source": [
        "class Node:\n",
        "  def __init__(self, key: int, value: int):\n",
        "    self.key = key\n",
        "    self.value = value\n",
        "    self.prev = None\n",
        "    self.next = None\n",
        "\n",
        "\n",
        "class LRUCache:\n",
        "  def __init__(self, capacity: int):\n",
        "    self.capacity = capacity\n",
        "    self.keyToNode = {}\n",
        "    self.head = Node(-1, -1)\n",
        "    self.tail = Node(-1, -1)\n",
        "    self.join(self.head, self.tail)\n",
        "\n",
        "  def get(self, key: int) -> int:\n",
        "    if key not in self.keyToNode:\n",
        "      return -1\n",
        "\n",
        "    node = self.keyToNode[key]\n",
        "    self.remove(node)\n",
        "    self.moveToHead(node)\n",
        "    return node.value\n",
        "\n",
        "  def put(self, key: int, value: int) -> None:\n",
        "    if key in self.keyToNode:\n",
        "      node = self.keyToNode[key]\n",
        "      node.value = value\n",
        "      self.remove(node)\n",
        "      self.moveToHead(node)\n",
        "      return\n",
        "\n",
        "    if len(self.keyToNode) == self.capacity:\n",
        "      lastNode = self.tail.prev\n",
        "      del self.keyToNode[lastNode.key]\n",
        "      self.remove(lastNode)\n",
        "\n",
        "    self.moveToHead(Node(key, value))\n",
        "    self.keyToNode[key] = self.head.next\n",
        "\n",
        "  def join(self, node1: Node, node2: Node):\n",
        "    node1.next = node2\n",
        "    node2.prev = node1\n",
        "\n",
        "  def moveToHead(self, node: Node):\n",
        "    self.join(node, self.head.next)\n",
        "    self.join(self.head, node)\n",
        "\n",
        "  def remove(self, node: Node):\n",
        "    self.join(node.prev, node.next)\n"
      ],
      "metadata": {
        "id": "BUjnYTQsyeW1"
      },
      "execution_count": null,
      "outputs": []
    },
    {
      "cell_type": "code",
      "source": [],
      "metadata": {
        "id": "s_Y0Vc9XyeZ6"
      },
      "execution_count": null,
      "outputs": []
    },
    {
      "cell_type": "markdown",
      "source": [
        "**Leetcode 435** : **Non-overlapping Intervals**\n",
        "\n",
        "**Problem** :Given an array of intervals intervals where intervals[i] = [starti, endi], return the minimum number of intervals you need to remove to make the rest of the intervals non-overlapping.\n",
        "\n",
        "\n",
        "**URL**:**https://leetcode.com/problems/non-overlapping-intervals/**"
      ],
      "metadata": {
        "id": "4QXWViVNVfZT"
      }
    },
    {
      "cell_type": "code",
      "source": [
        "class Solution:\n",
        "  def eraseOverlapIntervals(self, intervals: List[List[int]]) -> int:\n",
        "    ans = 0\n",
        "    currentEnd = -math.inf\n",
        "\n",
        "    for interval in sorted(intervals, key=lambda x: x[1]):\n",
        "      if interval[0] >= currentEnd:\n",
        "        currentEnd = interval[1]\n",
        "      else:\n",
        "        ans += 1\n",
        "\n",
        "    return ans\n"
      ],
      "metadata": {
        "id": "Im4vTaMryec9"
      },
      "execution_count": null,
      "outputs": []
    },
    {
      "cell_type": "code",
      "source": [],
      "metadata": {
        "id": "Zr7qfe0lyeft"
      },
      "execution_count": null,
      "outputs": []
    },
    {
      "cell_type": "markdown",
      "source": [
        "**Leetcode 735** : **Asteroid Collision**\n",
        "\n",
        "**Problem** :We are given an array asteroids of integers representing asteroids in a row.\n",
        "\n",
        "For each asteroid, the absolute value represents its size, and the sign represents its direction (positive meaning right, negative meaning left). Each asteroid moves at the same speed.\n",
        "\n",
        "Find out the state of the asteroids after all collisions. If two asteroids meet, the smaller one will explode. If both are the same size, both will explode. Two asteroids moving in the same direction will never meet.\n",
        "\n",
        "\n",
        "\n",
        "**URL**:**https://leetcode.com/problems/asteroid-collision/**"
      ],
      "metadata": {
        "id": "dv7fTyPpC8hk"
      }
    },
    {
      "cell_type": "code",
      "source": [
        "class Solution:\n",
        "  def asteroidCollision(self, asteroids: List[int]) -> List[int]:\n",
        "    stack = []\n",
        "\n",
        "    for a in asteroids:\n",
        "      if a > 0:\n",
        "        stack.append(a)\n",
        "      else:  # a < 0\n",
        "        # Destroy previous positive one(s).\n",
        "        while stack and stack[-1] > 0 and stack[-1] < -a:\n",
        "          stack.pop()\n",
        "        if not stack or stack[-1] < 0:\n",
        "          stack.append(a)\n",
        "        elif stack[-1] == -a:\n",
        "          stack.pop()  # Both explode.\n",
        "        else:  # stack[-1] > current\n",
        "          pass  # Destroy current, so do nothing.\n",
        "\n",
        "    return stack\n"
      ],
      "metadata": {
        "id": "5cLHn916yei2"
      },
      "execution_count": null,
      "outputs": []
    },
    {
      "cell_type": "code",
      "source": [],
      "metadata": {
        "id": "RRM4GD6nEkZF"
      },
      "execution_count": null,
      "outputs": []
    },
    {
      "cell_type": "markdown",
      "source": [
        "**Leetcode 673** : **Number of Longest Increasing Subsequence**\n",
        "\n",
        "**Problem** :Given an integer array nums, return the number of longest increasing subsequences.\n",
        "\n",
        "Notice that the sequence has to be strictly increasing.\n",
        "\n",
        "\n",
        "**URL**:**https://leetcode.com/problems/number-of-longest-increasing-subsequence/**"
      ],
      "metadata": {
        "id": "9IRBay0xE5t3"
      }
    },
    {
      "cell_type": "code",
      "source": [
        "class Solution:\n",
        "  def findNumberOfLIS(self, nums: List[int]) -> int:\n",
        "    ans = 0\n",
        "    maxLength = 0\n",
        "    length = [1] * len(nums)  # length[i] := LIS's length ending w/ nums[i]\n",
        "    count = [1] * len(nums)  # count[i] := # of the LIS ending w/ nums[i]\n",
        "\n",
        "    # Calculate length and count arrays\n",
        "    for i, num in enumerate(nums):\n",
        "      for j in range(i):\n",
        "        if nums[j] < num:\n",
        "          if length[i] < length[j] + 1:\n",
        "            length[i] = length[j] + 1\n",
        "            count[i] = count[j]\n",
        "          elif length[i] == length[j] + 1:\n",
        "            count[i] += count[j]\n",
        "\n",
        "    # Get # Of LIS\n",
        "    for i, l in enumerate(length):\n",
        "      if l > maxLength:\n",
        "        maxLength = l\n",
        "        ans = count[i]\n",
        "      elif l == maxLength:\n",
        "        ans += count[i]\n",
        "\n",
        "    return ans"
      ],
      "metadata": {
        "id": "_TKt3yqOEkcG"
      },
      "execution_count": null,
      "outputs": []
    },
    {
      "cell_type": "code",
      "source": [],
      "metadata": {
        "id": "ffQmLXOiEkft"
      },
      "execution_count": null,
      "outputs": []
    },
    {
      "cell_type": "markdown",
      "source": [
        "**Leetcode 688** : **Knight Probability in Chessboard**\n",
        "\n",
        "**Problem** :On an n x n chessboard, a knight starts at the cell (row, column) and attempts to make exactly k moves. The rows and columns are 0-indexed, so the top-left cell is (0, 0), and the bottom-right cell is (n - 1, n - 1).\n",
        "\n",
        "A chess knight has eight possible moves it can make, as illustrated below. Each move is two cells in a cardinal direction, then one cell in an orthogonal direction.\n",
        "\n",
        "\n",
        "Each time the knight is to move, it chooses one of eight possible moves uniformly at random (even if the piece would go off the chessboard) and moves there.\n",
        "\n",
        "The knight continues moving until it has made exactly k moves or has moved off the chessboard.\n",
        "\n",
        "Return the probability that the knight remains on the board after it has stopped moving.\n",
        "\n",
        "**URL**:**https://leetcode.com/problems/knight-probability-in-chessboard/**"
      ],
      "metadata": {
        "id": "1E4pS_HaPTDk"
      }
    },
    {
      "cell_type": "code",
      "source": [
        "class Solution:\n",
        "  def knightProbability(self, n: int, K: int, r: int, c: int) -> float:\n",
        "    dirs = [(1, 2), (2, 1), (2, -1), (1, -2),\n",
        "            (-1, -2), (-2, -1), (-2, 1), (-1, 2)]\n",
        "\n",
        "    # dp[i][j] := probability to stand on (i, j)\n",
        "    dp = [[0] * n for _ in range(n)]\n",
        "    dp[r][c] = 1\n",
        "\n",
        "    for _ in range(K):\n",
        "      newDp = [[0] * n for _ in range(n)]\n",
        "      for i in range(n):\n",
        "        for j in range(n):\n",
        "          for dx, dy in dirs:\n",
        "            x = i + dx\n",
        "            y = j + dy\n",
        "            if 0 <= x < n and 0 <= y < n:\n",
        "              newDp[i][j] += dp[x][y]\n",
        "      dp = newDp\n",
        "\n",
        "    return sum(map(sum, dp)) / 8**K\n"
      ],
      "metadata": {
        "id": "IhSnRZVZEkjO"
      },
      "execution_count": null,
      "outputs": []
    },
    {
      "cell_type": "code",
      "source": [],
      "metadata": {
        "id": "bu0CLfEVEkmm"
      },
      "execution_count": null,
      "outputs": []
    },
    {
      "cell_type": "markdown",
      "source": [
        "**Leetcode 894** : **All Possible Full Binary Trees**\n",
        "\n",
        "**Problem** :Given an integer n, return a list of all possible full binary trees with n nodes. Each node of each tree in the answer must have Node.val == 0.\n",
        "\n",
        "Each element of the answer is the root node of one possible tree. You may return the final list of trees in any order.\n",
        "\n",
        "A full binary tree is a binary tree where each node has exactly 0 or 2 children.\n",
        "\n",
        "**URL**:**https://leetcode.com/problems/all-possible-full-binary-trees//**"
      ],
      "metadata": {
        "id": "7h1ccmD-ZPTS"
      }
    },
    {
      "cell_type": "code",
      "source": [
        "# Definition for a binary tree node.\n",
        "# class TreeNode:\n",
        "#     def __init__(self, val=0, left=None, right=None):\n",
        "#         self.val = val\n",
        "#         self.left = left\n",
        "#         self.right = right\n",
        "class Solution:\n",
        "  @functools.lru_cache(None)\n",
        "  def allPossibleFBT(self, n: int) -> List[Optional[TreeNode]]:\n",
        "    if n % 2 == 0:\n",
        "      return []\n",
        "    if n == 1:\n",
        "      return [TreeNode(0)]\n",
        "\n",
        "    ans = []\n",
        "\n",
        "    for leftCount in range(n):\n",
        "      rightCount = n - 1 - leftCount\n",
        "      for left in self.allPossibleFBT(leftCount):\n",
        "        for right in self.allPossibleFBT(rightCount):\n",
        "          ans.append(TreeNode(0))\n",
        "          ans[-1].left = left\n",
        "          ans[-1].right = right\n",
        "\n",
        "    return ans\n"
      ],
      "metadata": {
        "id": "E5nccTnYEkqF"
      },
      "execution_count": null,
      "outputs": []
    },
    {
      "cell_type": "code",
      "source": [],
      "metadata": {
        "id": "DnpOxIqMEktN"
      },
      "execution_count": null,
      "outputs": []
    },
    {
      "cell_type": "markdown",
      "source": [
        "**Leetcode 894** : ** Pow(x, n)**\n",
        "\n",
        "**Problem** :Implement pow(x, n), which calculates x raised to the power n (i.e., xn).\n",
        "\n",
        "\n",
        "**URL**:**https://leetcode.com/problems/powx-n**"
      ],
      "metadata": {
        "id": "Gj9EEFlj7iEf"
      }
    },
    {
      "cell_type": "code",
      "source": [
        "class Solution:\n",
        "    def myPow(self, x: float, n: int) -> float:\n",
        "        return x**n\n"
      ],
      "metadata": {
        "id": "JiJ-at-DEkww"
      },
      "execution_count": null,
      "outputs": []
    },
    {
      "cell_type": "code",
      "source": [],
      "metadata": {
        "id": "gn7Qa6wAEkz-"
      },
      "execution_count": null,
      "outputs": []
    },
    {
      "cell_type": "markdown",
      "source": [
        "**Leetcode 852** : **Peak Index in a Mountain Array**\n",
        "\n",
        "**Problem** :An array arr a mountain if the following properties hold:\n",
        "\n",
        "arr.length >= 3\n",
        "\n",
        "There exists some i with 0 < i < arr.length - 1 such that:\n",
        "\n",
        "**arr[0] < arr[1] < ... < arr[i - 1] < arr[i]\n",
        "\n",
        "**arr[i] > arr[i + 1] > ... > arr[arr.length - 1]\n",
        "\n",
        "**Given a mountain array arr, return the index i such that arr[0] < arr[1] < ... < arr[i - 1] < arr[i] > arr[i + 1] > ... > arr[arr.length - 1].\n",
        "\n",
        "You must solve it in O(log(arr.length)) time complexity.\n",
        "\n",
        "\n",
        "\n",
        "\n",
        "**URL**:**https://leetcode.com/problems/peak-index-in-a-mountain-array**"
      ],
      "metadata": {
        "id": "Qb0IjWU7XGH7"
      }
    },
    {
      "cell_type": "code",
      "source": [
        "class Solution:\n",
        "  def peakIndexInMountainArray(self, arr: List[int]) -> int:\n",
        "    l = 0\n",
        "    r = len(arr) - 1\n",
        "\n",
        "    while l < r:\n",
        "      m = (l + r) // 2\n",
        "      if arr[m] >= arr[m + 1]:\n",
        "        r = m\n",
        "      else:\n",
        "        l = m + 1\n",
        "\n",
        "    return l\n"
      ],
      "metadata": {
        "id": "3zAg5eU1Ek3k"
      },
      "execution_count": null,
      "outputs": []
    },
    {
      "cell_type": "code",
      "source": [],
      "metadata": {
        "id": "VMEInphMEk6r"
      },
      "execution_count": null,
      "outputs": []
    },
    {
      "cell_type": "markdown",
      "source": [
        "**Leetcode 1870** : **Minimum Speed to Arrive on Time**\n",
        "\n",
        "**Problem** :You are given a floating-point number hour, representing the amount of time you have to reach the office. To commute to the office, you must take n trains in sequential order. You are also given an integer array dist of length n, where dist[i] describes the distance (in kilometers) of the ith train ride.\n",
        "\n",
        "Each train can only depart at an integer hour, so you may need to wait in between each train ride.\n",
        "\n",
        "**For example, if the 1st train ride takes 1.5 hours, you must wait for an additional 0.5 hours before you can depart on the 2nd train ride at the 2 hour mark.\n",
        "Return the minimum positive integer speed (in kilometers per hour) that all the trains must travel at for you to reach the office on time, or -1 if it is impossible to be on time.\n",
        "\n",
        "Tests are generated such that the answer will not exceed 107 and hour will have at most two digits after the decimal point.\n",
        "\n",
        "\n",
        "\n",
        "**URL**:**https://leetcode.com/problems/minimum-speed-to-arrive-on-time/**"
      ],
      "metadata": {
        "id": "wpLy2oFNYv0B"
      }
    },
    {
      "cell_type": "code",
      "source": [
        "class Solution:\n",
        "  def minSpeedOnTime(self, dist: List[int], hour: float) -> int:\n",
        "    ans = -1\n",
        "    l = 1\n",
        "    r = int(1e7)\n",
        "\n",
        "    def time(speed: int) -> float:\n",
        "      summ = 0\n",
        "      for i in range(len(dist) - 1):\n",
        "        summ += math.ceil(dist[i] / speed)\n",
        "      return summ + dist[-1] / speed\n",
        "\n",
        "    while l <= r:\n",
        "      m = (l + r) // 2\n",
        "      if time(m) > hour:\n",
        "        l = m + 1\n",
        "      else:\n",
        "        ans = m\n",
        "        r = m - 1\n",
        "\n",
        "    return ans\n"
      ],
      "metadata": {
        "id": "6GhueQQyEk9u"
      },
      "execution_count": null,
      "outputs": []
    },
    {
      "cell_type": "code",
      "source": [],
      "metadata": {
        "id": "vD71ot1vWc-_"
      },
      "execution_count": null,
      "outputs": []
    },
    {
      "cell_type": "markdown",
      "source": [
        "**Leetcode 2141** : **Maximum Running Time of N Computers**\n",
        "\n",
        "**Problem** :You have n computers. You are given the integer n and a 0-indexed integer array batteries where the ith battery can run a computer for batteries[i] minutes. You are interested in running all n computers simultaneously using the given batteries.\n",
        "\n",
        "Initially, you can insert at most one battery into each computer. After that and at any integer time moment, you can remove a battery from a computer and insert another battery any number of times. The inserted battery can be a totally new battery or a battery from another computer. You may assume that the removing and inserting processes take no time.\n",
        "\n",
        "Note that the batteries cannot be recharged.\n",
        "\n",
        "Return the maximum number of minutes you can run all the n computers simultaneously.\n",
        "\n",
        "\n",
        "\n",
        "\n",
        "\n",
        "**URL**:**https://leetcode.com/problems/maximum-running-time-of-n-computers/**"
      ],
      "metadata": {
        "id": "1E8khl82Wd0F"
      }
    },
    {
      "cell_type": "code",
      "source": [
        "class Solution:\n",
        "    def maxRunTime(self, n: int, batteries: List[int]) -> int:\n",
        "        left=0\n",
        "        right=sum(batteries)//n+1\n",
        "        def check(time):\n",
        "            return sum(min(time,b) for b in batteries)>=n*time\n",
        "\n",
        "        while left<=right:\n",
        "            mid=(left+right)//2\n",
        "            if check(mid):\n",
        "                left=mid+1\n",
        "\n",
        "            else:\n",
        "                right=mid-1\n",
        "\n",
        "        return right"
      ],
      "metadata": {
        "id": "S7rIwwKcWdCK"
      },
      "execution_count": null,
      "outputs": []
    },
    {
      "cell_type": "code",
      "source": [],
      "metadata": {
        "id": "ta0tc-wMWdFU"
      },
      "execution_count": null,
      "outputs": []
    },
    {
      "cell_type": "markdown",
      "source": [
        "**Leetcode 486** : **Predict the Winner**\n",
        "\n",
        "**Problem** :You are given an integer array nums. Two players are playing a game with this array: player 1 and player 2.\n",
        "\n",
        "Player 1 and player 2 take turns, with player 1 starting first. Both players start the game with a score of 0. At each turn, the player takes one of the numbers from either end of the array (i.e., nums[0] or nums[nums.length - 1]) which reduces the size of the array by 1. The player adds the chosen number to their score. The game ends when there are no more elements in the array.\n",
        "\n",
        "Return true if Player 1 can win the game. If the scores of both players are equal, then player 1 is still the winner, and you should also return true. You may assume that both players are playing optimally.\n",
        "\n",
        "\n",
        "**URL**:**https://leetcode.com/problems/predict-the-winner/**"
      ],
      "metadata": {
        "id": "XzvRFr0l-mha"
      }
    },
    {
      "cell_type": "code",
      "source": [
        "class Solution:\n",
        "    def PredictTheWinner(self, nums: List[int]) -> bool:\n",
        "        n = len(nums)\n",
        "        dp = nums[:]\n",
        "\n",
        "        for i in range(n - 2, -1, -1):\n",
        "            for j in range(i + 1, n):\n",
        "                dp[j] = max(nums[i] - dp[j], nums[j] - dp[j - 1])\n",
        "\n",
        "        return dp[-1] >= 0"
      ],
      "metadata": {
        "id": "vngXfgvaWdIp"
      },
      "execution_count": null,
      "outputs": []
    },
    {
      "cell_type": "code",
      "source": [],
      "metadata": {
        "id": "FDj3aK4hWdMB"
      },
      "execution_count": null,
      "outputs": []
    },
    {
      "cell_type": "markdown",
      "source": [
        "**Leetcode 808** : **Soup Servings**\n",
        "\n",
        "**Problem** :There are two types of soup: type A and type B. Initially, we have n ml of each type of soup. There are four kinds of operations:\n",
        "\n",
        "1. Serve 100 ml of soup A and 0 ml of soup B,\n",
        "\n",
        "2. Serve 75 ml of soup A and 25 ml of soup B,\n",
        "\n",
        "3. Serve 50 ml of soup A and 50 ml of soup B, and\n",
        "\n",
        "4. Serve 25 ml of soup A and 75 ml of soup B.\n",
        "\n",
        "When we serve some soup, we give it to someone, and we no longer have it. Each turn, we will choose from the four operations with an equal probability 0.25. If the remaining volume of soup is not enough to complete the operation, we will serve as much as possible. We stop once we no longer have some quantity of both types of soup.\n",
        "\n",
        "Note that we do not have an operation where all 100 ml's of soup B are used first.\n",
        "\n",
        "Return the probability that soup A will be empty first, plus half the probability that A and B become empty at the same time. Answers within 10-5 of the actual answer will be accepted.\n",
        "\n",
        "\n",
        "\n",
        "\n",
        "\n",
        "**URL**:**https://leetcode.com/problems/soup-servings/**"
      ],
      "metadata": {
        "id": "MNdbHevwokMd"
      }
    },
    {
      "cell_type": "code",
      "source": [
        "class Solution:\n",
        "  def soupServings(self, n: int) -> float:\n",
        "    def dfs(a: int, b: int) -> float:\n",
        "      if a <= 0 and b <= 0:\n",
        "        return 0.5\n",
        "      if a <= 0:\n",
        "        return 1.0\n",
        "      if b <= 0:\n",
        "        return 0.0\n",
        "      if memo[a][b] > 0:\n",
        "        return memo[a][b]\n",
        "\n",
        "      memo[a][b] = 0.25 * (dfs(a - 4, b) +\n",
        "                           dfs(a - 3, b - 1) +\n",
        "                           dfs(a - 2, b - 2) +\n",
        "                           dfs(a - 1, b - 3))\n",
        "      return memo[a][b]\n",
        "\n",
        "    memo = [[0.0] * 192 for _ in range(192)]\n",
        "    return 1 if n >= 4800 else dfs((n + 24) // 25, (n + 24) // 25)\n"
      ],
      "metadata": {
        "id": "D8SR--XIWdPO"
      },
      "execution_count": null,
      "outputs": []
    },
    {
      "cell_type": "code",
      "source": [],
      "metadata": {
        "id": "7agoY09wWdSh"
      },
      "execution_count": null,
      "outputs": []
    },
    {
      "cell_type": "markdown",
      "source": [
        "**Leetcode 664** : **Strange Painter**\n",
        "\n",
        "**Problem** :There is a strange printer with the following two special properties:\n",
        "\n",
        "**The printer can only print a sequence of the same character each time.\n",
        "\n",
        "**At each turn, the printer can print new characters starting from and ending at any place and will cover the original existing characters.\n",
        "\n",
        "Given a string s, return the minimum number of turns the printer needed to print it.\n",
        "\n",
        "\n",
        "\n",
        "\n",
        "\n",
        "\n",
        "**URL**:**https://leetcode.com/problems/strange-painter/**"
      ],
      "metadata": {
        "id": "GvklUMAOuwPz"
      }
    },
    {
      "cell_type": "code",
      "source": [
        "class Solution:\n",
        "    def strangePrinter(self, s: str) -> int:\n",
        "        n = len(s)\n",
        "        dp = [[inf] * (n) for _ in range(n)]\n",
        "\n",
        "        for i in range(n): dp[i][i] = 1\n",
        "\n",
        "        for j in range(0, n):\n",
        "            for i in range(j - 1, -1, -1):\n",
        "                dp[i][j] = dp[i + 1][j] + 1\n",
        "                for k in range(i + 1, j + 1):\n",
        "                    if s[i] == s[k]:\n",
        "                        dp[i][j] = min(dp[i][j], dp[i][k - 1] + (0 if k + 1 > j else dp[k + 1][j]))\n",
        "\n",
        "        return dp[0][n - 1]"
      ],
      "metadata": {
        "id": "IfkYW5IBw2q3"
      },
      "execution_count": null,
      "outputs": []
    },
    {
      "cell_type": "code",
      "source": [],
      "metadata": {
        "id": "Np21xoPnw2ts"
      },
      "execution_count": null,
      "outputs": []
    },
    {
      "cell_type": "markdown",
      "source": [
        "**Leetcode 712** : **Minimum ASCII Delete Sum for Two Strings**\n",
        "\n",
        "**Problem** :Given two strings s1 and s2, return the lowest ASCII sum of deleted characters to make two strings equal.\n",
        "\n",
        "\n",
        "**URL**:**https://leetcode.com/problems/minimum-ascii-delete-sum-for-two-strings/**"
      ],
      "metadata": {
        "id": "v8pi9J1-yJOL"
      }
    },
    {
      "cell_type": "code",
      "source": [
        "lass Solution:\n",
        "    def minimumDeleteSum(self, s1: str, s2: str) -> int:\n",
        "        s1, s2 = list(map(ord, s1)), list(map(ord, s2))\n",
        "        m, n = len(s1), len(s2)\n",
        "        dp = [[0 for _ in range(m)] for _ in range(n)]\n",
        "        for j, i in product(range(m), range(n)):\n",
        "            dp[i][j] = max((j>0) * dp[i][j-1],\n",
        "                           (i>0) * dp[i-1][j],\n",
        "                           (s1[j] == s2[i]) * ((i>0 and j >0) * dp[i-1][j-1] + s1[j]))\n",
        "        return sum(s1) + sum(s2) - 2 * dp[-1][-1]"
      ],
      "metadata": {
        "id": "t-NtjGYvw2w9"
      },
      "execution_count": null,
      "outputs": []
    },
    {
      "cell_type": "code",
      "source": [],
      "metadata": {
        "id": "3bkmZxjtw20O"
      },
      "execution_count": null,
      "outputs": []
    },
    {
      "cell_type": "markdown",
      "source": [
        "**Leetcode 77** : **Combinations**\n",
        "\n",
        "**Problem** :Given two integers n and k, return all possible combinations of k numbers chosen from the range [1, n].\n",
        "\n",
        "You may return the answer in any order.\n",
        "\n",
        "**URL**:**https://leetcode.com/problems/combinations/**"
      ],
      "metadata": {
        "id": "BYnQjz3N43jG"
      }
    },
    {
      "cell_type": "code",
      "source": [
        "class Solution:\n",
        "  def combine(self, n: int, k: int) -> List[List[int]]:\n",
        "    ans = []\n",
        "\n",
        "    def dfs(s: int, path: List[int]) -> None:\n",
        "      if len(path) == k:\n",
        "        ans.append(path.copy())\n",
        "        return\n",
        "\n",
        "      for i in range(s, n + 1):\n",
        "        path.append(i)\n",
        "        dfs(i + 1, path)\n",
        "        path.pop()\n",
        "\n",
        "    dfs(1, [])\n",
        "    return ans\n"
      ],
      "metadata": {
        "id": "Ei05VONqw23m"
      },
      "execution_count": null,
      "outputs": []
    },
    {
      "cell_type": "code",
      "source": [],
      "metadata": {
        "id": "5Q8t3KbGw26n"
      },
      "execution_count": null,
      "outputs": []
    },
    {
      "cell_type": "markdown",
      "source": [
        "**Leetcode 46** : **Permutations**\n",
        "\n",
        "**Problem** :Given an array nums of distinct integers, return all the possible permutations. You can return the answer in any order.\n",
        "\n",
        "**URL**:**https://leetcode.com/problems/permutations/**"
      ],
      "metadata": {
        "id": "RbPyIG90-k16"
      }
    },
    {
      "cell_type": "code",
      "source": [
        "lass Solution:\n",
        "  def permute(self, nums: List[int]) -> List[List[int]]:\n",
        "    ans = []\n",
        "    used = [False] * len(nums)\n",
        "\n",
        "    def dfs(path: List[int]) -> None:\n",
        "      if len(path) == len(nums):\n",
        "        ans.append(path.copy())\n",
        "        return\n",
        "\n",
        "      for i, num in enumerate(nums):\n",
        "        if used[i]:\n",
        "          continue\n",
        "        used[i] = True\n",
        "        path.append(num)\n",
        "        dfs(path)\n",
        "        path.pop()\n",
        "        used[i] = False\n",
        "\n",
        "    dfs([])\n",
        "    return ans\n"
      ],
      "metadata": {
        "id": "6WeWWHYiw29i"
      },
      "execution_count": null,
      "outputs": []
    },
    {
      "cell_type": "code",
      "source": [],
      "metadata": {
        "id": "snZGXuVaw3Ah"
      },
      "execution_count": null,
      "outputs": []
    },
    {
      "cell_type": "markdown",
      "source": [
        "**Leetcode 46** : **Letter Combinations of a Phone Number**\n",
        "\n",
        "**Problem** :Given a string containing digits from 2-9 inclusive, return all possible letter combinations that the number could represent. Return the answer in any order.\n",
        "\n",
        "A mapping of digits to letters (just like on the telephone buttons) is given below. Note that 1 does not map to any letters.\n",
        "\n",
        "**URL**:**https://leetcode.com/problems/letter-combinations-of-a-phone-number/**"
      ],
      "metadata": {
        "id": "bSD5du9lq1Au"
      }
    },
    {
      "cell_type": "code",
      "source": [
        "class Solution:\n",
        "  def letterCombinations(self, digits: str) -> List[str]:\n",
        "    if not digits:\n",
        "      return []\n",
        "\n",
        "    ans = ['']\n",
        "    digitToLetters = ['', '', 'abc', 'def', 'ghi',\n",
        "                      'jkl', 'mno', 'pqrs', 'tuv', 'wxyz']\n",
        "\n",
        "    for d in digits:\n",
        "      temp = []\n",
        "      for s in ans:\n",
        "        for c in digitToLetters[ord(d) - ord('0')]:\n",
        "          temp.append(s + c)\n",
        "      ans = temp\n",
        "\n",
        "    return ans\n"
      ],
      "metadata": {
        "id": "csQJLCjTw3Dn"
      },
      "execution_count": null,
      "outputs": []
    },
    {
      "cell_type": "code",
      "source": [],
      "metadata": {
        "id": "OW1N1tX3w3G1"
      },
      "execution_count": null,
      "outputs": []
    },
    {
      "cell_type": "markdown",
      "source": [
        "**Leetcode 139** : **Word Break**\n",
        "\n",
        "**Problem** :Given a string s and a dictionary of strings wordDict, return true if s can be segmented into a space-separated sequence of one or more dictionary words.\n",
        "\n",
        "Note that the same word in the dictionary may be reused multiple times in the segmentation.\n",
        "\n",
        "\n",
        "**URL**:**https://leetcode.com/problems/word-break/**"
      ],
      "metadata": {
        "id": "o4YsAYknijyc"
      }
    },
    {
      "cell_type": "code",
      "source": [
        "class Solution:\n",
        "  def wordBreak(self, s: str, wordDict: List[str]) -> bool:\n",
        "    n = len(s)\n",
        "    maxLength = len(max(wordDict, key=len))\n",
        "    wordSet = set(wordDict)\n",
        "    # dp[i] := True if s[0..i) can be segmented\n",
        "    dp = [True] + [False] * n\n",
        "\n",
        "    for i in range(1, n + 1):\n",
        "      for j in reversed(range(i)):\n",
        "        if i - j > maxLength:\n",
        "          break\n",
        "        # s[0..j) can be segmented and s[j..i) in wordSet\n",
        "        # So s[0..i) can be segmented\n",
        "        if dp[j] and s[j:i] in wordSet:\n",
        "          dp[i] = True\n",
        "          break\n",
        "\n",
        "    return dp[n]"
      ],
      "metadata": {
        "id": "QU5zxeH5w3KF"
      },
      "execution_count": null,
      "outputs": []
    },
    {
      "cell_type": "code",
      "source": [],
      "metadata": {
        "id": "G1nXHn3oR8_8"
      },
      "execution_count": null,
      "outputs": []
    },
    {
      "cell_type": "markdown",
      "source": [
        "**Date**: **5th August 2023**\n",
        "\n",
        "**Leetcode 95** : **Unique Binary Search Trees II**\n",
        "\n",
        "**Problem** :Given an integer n, return all the structurally unique BST's (binary search trees), which has exactly n nodes of unique values from 1 to n. Return the answer in any order.\n",
        "\n",
        "**URL**:**https://leetcode.com/problems/unique-binary-search-trees-ii/**"
      ],
      "metadata": {
        "id": "0Qpk15RiR-Ci"
      }
    },
    {
      "cell_type": "code",
      "source": [
        "class Solution:\n",
        "  def generateTrees(self, n: int) -> List[TreeNode]:\n",
        "    if n == 0:\n",
        "      return []\n",
        "\n",
        "    def generateTrees(mini: int, maxi: int) -> List[Optional[int]]:\n",
        "      if mini > maxi:\n",
        "        return [None]\n",
        "\n",
        "      ans = []\n",
        "\n",
        "      for i in range(mini, maxi + 1):\n",
        "        for left in generateTrees(mini, i - 1):\n",
        "          for right in generateTrees(i + 1, maxi):\n",
        "            ans.append(TreeNode(i))\n",
        "            ans[-1].left = left\n",
        "            ans[-1].right = right\n",
        "\n",
        "      return ans\n",
        "\n",
        "    return generateTrees(1, n)\n"
      ],
      "metadata": {
        "id": "TQrwhnVjR9C4"
      },
      "execution_count": null,
      "outputs": []
    },
    {
      "cell_type": "code",
      "source": [],
      "metadata": {
        "id": "-_VL5JPSR9F0"
      },
      "execution_count": null,
      "outputs": []
    },
    {
      "cell_type": "markdown",
      "source": [
        "**Date**: **6th August 2023**\n",
        "\n",
        "**Leetcode 920** : **Number of Music Playlists**\n",
        "\n",
        "**Problem** :Your music player contains n different songs. You want to listen to goal songs (not necessarily different) during your trip. To avoid boredom, you will create a playlist so that:\n",
        "\n",
        "**Every song is played at least once.\n",
        "\n",
        "**A song can only be played again only if k other songs have been played.\n",
        "\n",
        "Given n, goal, and k, return the number of possible playlists that you can create. Since the answer can be very large, return it modulo 109 + 7.\n",
        "\n",
        "**URL**:**https://leetcode.com/problems/number-of-music-playlists/**"
      ],
      "metadata": {
        "id": "mQCo5-Z57MQt"
      }
    },
    {
      "cell_type": "code",
      "source": [
        "class Solution:\n",
        "    def numMusicPlaylists(self, n: int, goal: int, k: int) -> int:\n",
        "        @lru_cache(None)\n",
        "        def dp(uniques, repeats, rem, songsTilNewRepeat):\n",
        "            if songsTilNewRepeat == 0:\n",
        "                repeats += 1\n",
        "                songsTilNewRepeat = 1\n",
        "            if uniques > rem:\n",
        "                return 0\n",
        "            if rem == 0:\n",
        "                return 1\n",
        "\n",
        "            res = 0\n",
        "            # either pick from uniques, or from repeats\n",
        "            if uniques > 0:\n",
        "                res += dp(uniques - 1, repeats, rem - 1, songsTilNewRepeat - 1) * uniques\n",
        "            if repeats > 0:\n",
        "                res += dp(uniques, repeats - 1, rem - 1, songsTilNewRepeat - 1) * repeats\n",
        "            return res\n",
        "\n",
        "\n",
        "        return dp(n, 0, goal, k + 1) % (10 ** 9 + 7)"
      ],
      "metadata": {
        "id": "Ahf1dtKMR9JA"
      },
      "execution_count": null,
      "outputs": []
    },
    {
      "cell_type": "code",
      "source": [],
      "metadata": {
        "id": "q1kH587JR9QY"
      },
      "execution_count": null,
      "outputs": []
    },
    {
      "cell_type": "markdown",
      "source": [
        "**Date**: **7th August 2023**\n",
        "\n",
        "**Leetcode 74** : **Search a 2D Matrix**\n",
        "\n",
        "**Problem** :You are given an m x n integer matrix matrix with the following two properties:\n",
        "\n",
        "**Each row is sorted in non-decreasing order.\n",
        "\n",
        "**The first integer of each row is greater than the last integer of the previous row.\n",
        "\n",
        "Given an integer target, return true if target is in matrix or false otherwise.\n",
        "\n",
        "You must write a solution in O(log(m * n)) time complexity.\n",
        "\n",
        "\n",
        "**URL**:**https://leetcode.com/problems/search-a-2d-matrix/**"
      ],
      "metadata": {
        "id": "kcJrGJPACJhs"
      }
    },
    {
      "cell_type": "code",
      "source": [
        "class Solution:\n",
        "    def searchMatrix(self, matrix: List[List[int]], target: int) -> bool:\n",
        "        if not matrix:\n",
        "            return False\n",
        "\n",
        "        m = len(matrix)\n",
        "        n = len(matrix[0])\n",
        "        l = 0\n",
        "        r = m * n\n",
        "\n",
        "        while l < r:\n",
        "            mid = (l + r) // 2\n",
        "            i = mid // n\n",
        "            j = mid % n\n",
        "            if matrix[i][j] == target:\n",
        "                return True\n",
        "            if matrix[i][j] < target:\n",
        "                l = mid + 1\n",
        "            else:\n",
        "                r = mid\n",
        "\n",
        "        return False"
      ],
      "metadata": {
        "id": "tScSNhKpR9Tw"
      },
      "execution_count": null,
      "outputs": []
    },
    {
      "cell_type": "code",
      "source": [],
      "metadata": {
        "id": "4t-OkwzIR9Wn"
      },
      "execution_count": null,
      "outputs": []
    },
    {
      "cell_type": "markdown",
      "source": [
        "**Date**: **8th August 2023**\n",
        "\n",
        "**Leetcode 33** : **Search in Rotated Sorted Array**\n",
        "\n",
        "**Problem** :There is an integer array nums sorted in ascending order (with distinct values).\n",
        "\n",
        "Prior to being passed to your function, nums is possibly rotated at an unknown pivot index k (1 <= k < nums.length) such that the resulting array is [nums[k], nums[k+1], ..., nums[n-1], nums[0], nums[1], ..., nums[k-1]] (0-indexed). For example, [0,1,2,4,5,6,7] might be rotated at pivot index 3 and become [4,5,6,7,0,1,2].\n",
        "\n",
        "Given the array nums after the possible rotation and an integer target, return the index of target if it is in nums, or -1 if it is not in nums.\n",
        "\n",
        "You must write an algorithm with O(log n) runtime complexity.\n",
        "\n",
        "**URL**:**https://leetcode.com/problems/search-in-rotated-sorted-array/**"
      ],
      "metadata": {
        "id": "GHMWVzAgM_AO"
      }
    },
    {
      "cell_type": "code",
      "source": [
        "class Solution:\n",
        "    def searchMatrix(self, matrix: List[List[int]], target: int) -> bool:\n",
        "        if not matrix:\n",
        "            return False\n",
        "\n",
        "        m = len(matrix)\n",
        "        n = len(matrix[0])\n",
        "        l = 0\n",
        "        r = m * n\n",
        "\n",
        "        while l < r:\n",
        "            mid = (l + r) // 2\n",
        "            i = mid // n\n",
        "            j = mid % n\n",
        "            if matrix[i][j] == target:\n",
        "                return True\n",
        "            if matrix[i][j] < target:\n",
        "                l = mid + 1\n",
        "            else:\n",
        "                r = mid\n",
        "\n",
        "        return False"
      ],
      "metadata": {
        "id": "Gtqn_yNuR9Zv"
      },
      "execution_count": null,
      "outputs": []
    },
    {
      "cell_type": "code",
      "source": [],
      "metadata": {
        "id": "kjWq5pAyR9c4"
      },
      "execution_count": null,
      "outputs": []
    },
    {
      "cell_type": "markdown",
      "source": [
        "**Date**: **9th August 2023**\n",
        "\n",
        "**Leetcode 2616** : **Minimize the Maximum Difference of Pairs**\n",
        "\n",
        "**Problem** :You are given a 0-indexed integer array nums and an integer p. Find p pairs of indices of nums such that the maximum difference amongst all the pairs is minimized. Also, ensure no index appears more than once amongst the p pairs.\n",
        "\n",
        "Note that for a pair of elements at the index i and j, the difference of this pair is |nums[i] - nums[j]|, where |x| represents the absolute value of x.\n",
        "\n",
        "Return the minimum maximum difference among all p pairs. We define the maximum of an empty set to be zero.\n",
        "\n",
        "\n",
        "\n",
        "**URL**:**https://leetcode.com/problems/minimize-the-maximum-difference-of-pairs/**"
      ],
      "metadata": {
        "id": "aEY3sKWYAjQx"
      }
    },
    {
      "cell_type": "code",
      "source": [
        "class Solution:\n",
        "  def minimizeMax(self, nums: List[int], p: int) -> int:\n",
        "    nums.sort()\n",
        "\n",
        "    # Returns the # of pairs that can be obtained if the difference between each\n",
        "    # pair <= `maxDiff`.\n",
        "    def numPairs(maxDiff: int) -> int:\n",
        "      pairs = 0\n",
        "      i = 1\n",
        "      while i < len(nums):\n",
        "        # Greedily pair nums[i] with nums[i - 1].\n",
        "        if nums[i] - nums[i - 1] <= maxDiff:\n",
        "          pairs += 1\n",
        "          i += 2\n",
        "        else:\n",
        "          i += 1\n",
        "      return pairs\n",
        "\n",
        "    return bisect.bisect_left(\n",
        "        range(0, nums[-1] - nums[0]), p,\n",
        "        key=lambda m: numPairs(m))\n"
      ],
      "metadata": {
        "id": "UhkWToi3R9f7"
      },
      "execution_count": null,
      "outputs": []
    },
    {
      "cell_type": "code",
      "source": [],
      "metadata": {
        "id": "EYnX50hTR9jM"
      },
      "execution_count": null,
      "outputs": []
    },
    {
      "cell_type": "markdown",
      "source": [
        "**Date**: **10th August 2023**\n",
        "\n",
        "**Leetcode 81** : **Search in Rotated Sorted Array II**\n",
        "\n",
        "**Problem** :There is an integer array nums sorted in non-decreasing order (not necessarily with distinct values).\n",
        "\n",
        "Before being passed to your function, nums is rotated at an unknown pivot index k (0 <= k < nums.length) such that the resulting array is [nums[k], nums[k+1], ..., nums[n-1], nums[0], nums[1], ..., nums[k-1]] (0-indexed). For example, [0,1,2,4,4,4,5,6,6,7] might be rotated at pivot index 5 and become [4,5,6,6,7,0,1,2,4,4].\n",
        "\n",
        "Given the array nums after the rotation and an integer target, return true if target is in nums, or false if it is not in nums.\n",
        "\n",
        "You must decrease the overall operation steps as much as possible.\n",
        "\n",
        "**URL**:**https://leetcode.com/problems/search-in-rotated-sorted-array-ii/**"
      ],
      "metadata": {
        "id": "89XLd5RUSVLB"
      }
    },
    {
      "cell_type": "code",
      "source": [
        "class Solution:\n",
        "  def search(self, nums: List[int], target: int) -> bool:\n",
        "    l = 0\n",
        "    r = len(nums) - 1\n",
        "\n",
        "    while l <= r:\n",
        "      m = (l + r) // 2\n",
        "      if nums[m] == target:\n",
        "        return True\n",
        "      if nums[l] == nums[m] == nums[r]:\n",
        "        l += 1\n",
        "        r -= 1\n",
        "      elif nums[l] <= nums[m]:  # nums[l..m] are sorted\n",
        "        if nums[l] <= target < nums[m]:\n",
        "          r = m - 1\n",
        "        else:\n",
        "          l = m + 1\n",
        "      else:  # nums[m..n - 1] are sorted\n",
        "        if nums[m] < target <= nums[r]:\n",
        "          l = m + 1\n",
        "        else:\n",
        "          r = m - 1\n",
        "\n",
        "    return False\n"
      ],
      "metadata": {
        "id": "XrmZBS_5STZZ"
      },
      "execution_count": null,
      "outputs": []
    },
    {
      "cell_type": "code",
      "source": [],
      "metadata": {
        "id": "9CeVhhwdSTk2"
      },
      "execution_count": null,
      "outputs": []
    },
    {
      "cell_type": "markdown",
      "source": [
        "**Date**: **11th August 2023**\n",
        "\n",
        "**Leetcode 518** : **Coin Change II**\n",
        "\n",
        "**Problem** :You are given an integer array coins representing coins of different denominations and an integer amount representing a total amount of money.\n",
        "\n",
        "Return the number of combinations that make up that amount. If that amount of money cannot be made up by any combination of the coins, return 0.\n",
        "\n",
        "You may assume that you have an infinite number of each kind of coin.\n",
        "\n",
        "The answer is guaranteed to fit into a signed 32-bit integer.\n",
        "**URL**:**https://leetcode.com/problems/coin-change-ii/**"
      ],
      "metadata": {
        "id": "t4Qa_rsW7Sxg"
      }
    },
    {
      "cell_type": "code",
      "source": [
        "class Solution:\n",
        "  def change(self, amount: int, coins: List[int]) -> int:\n",
        "    dp = [1] + [0] * amount\n",
        "\n",
        "    for coin in coins:\n",
        "      for i in range(coin, amount + 1):\n",
        "        dp[i] += dp[i - coin]\n",
        "\n",
        "    return dp[amount]\n"
      ],
      "metadata": {
        "id": "NuBBRjYwSTnz"
      },
      "execution_count": null,
      "outputs": []
    },
    {
      "cell_type": "code",
      "source": [],
      "metadata": {
        "id": "m1QL5OMZSTrE"
      },
      "execution_count": null,
      "outputs": []
    },
    {
      "cell_type": "markdown",
      "source": [
        "**Date**: **12th August 2023**\n",
        "\n",
        "**Leetcode 63** : **Unique Paths II**\n",
        "\n",
        "**Problem** :You are given an m x n integer array grid. There is a robot initially located at the top-left corner (i.e., grid[0][0]). The robot tries to move to the bottom-right corner (i.e., grid[m - 1][n - 1]). The robot can only move either down or right at any point in time.\n",
        "\n",
        "An obstacle and space are marked as 1 or 0 respectively in grid. A path that the robot takes cannot include any square that is an obstacle.\n",
        "\n",
        "Return the number of possible unique paths that the robot can take to reach the bottom-right corner.\n",
        "\n",
        "The testcases are generated so that the answer will be less than or equal to 2 * 10^9.\n",
        "\n",
        "**URL**:**https://leetcode.com/problems/unique-paths-ii/**"
      ],
      "metadata": {
        "id": "bpt01zInhQGu"
      }
    },
    {
      "cell_type": "code",
      "source": [
        "class Solution:\n",
        "  def uniquePathsWithObstacles(self, obstacleGrid: List[List[int]]) -> int:\n",
        "    m = len(obstacleGrid)\n",
        "    n = len(obstacleGrid[0])\n",
        "    # dp[i][j] := unique paths from (0, 0) to (i - 1, j - 1)\n",
        "    dp = [[0] * (n + 1) for _ in range(m + 1)]\n",
        "    dp[0][1] = 1  # Can also set dp[1][0] = 1\n",
        "\n",
        "    for i in range(1, m + 1):\n",
        "      for j in range(1, n + 1):\n",
        "        if obstacleGrid[i - 1][j - 1] == 0:\n",
        "          dp[i][j] = dp[i - 1][j] + dp[i][j - 1]\n",
        "\n",
        "    return dp[m][n]\n"
      ],
      "metadata": {
        "id": "D-trWlfWSTuR"
      },
      "execution_count": null,
      "outputs": []
    },
    {
      "cell_type": "code",
      "source": [],
      "metadata": {
        "id": "ECjQkdaRSTxO"
      },
      "execution_count": null,
      "outputs": []
    },
    {
      "cell_type": "markdown",
      "source": [
        "**Date**: **13th August 2023**\n",
        "\n",
        "**Leetcode 2369** : **Check if There is a Valid Partition For The Array**\n",
        "\n",
        "**Problem** :You are given a 0-indexed integer array nums. You have to partition the array into one or more contiguous subarrays.\n",
        "\n",
        "We call a partition of the array valid if each of the obtained subarrays satisfies one of the following conditions:\n",
        "\n",
        "1. The subarray consists of exactly 2 equal elements. For example, the subarray [2,2] is good.\n",
        "\n",
        "2. The subarray consists of exactly 3 equal elements. For example, the subarray [4,4,4] is good.\n",
        "\n",
        "3. The subarray consists of exactly 3 consecutive increasing elements, that is, the difference between adjacent elements is 1. For example, the subarray [3,4,5] is good, but the subarray [1,3,5] is not.\n",
        "\n",
        "Return true if the array has at least one valid partition. Otherwise, return false.\n",
        "\n",
        "\n",
        "\n",
        "**URL**:**https://leetcode.com/problems/check-if-there-is-a-valid-partition-for-the-array/**"
      ],
      "metadata": {
        "id": "I7D7W_FM9FLt"
      }
    },
    {
      "cell_type": "code",
      "source": [
        "class Solution:\n",
        "  def validPartition(self, nums: List[int]) -> bool:\n",
        "    n = len(nums)\n",
        "    # dp[i] := True if there's a valid partition for first i elements\n",
        "    dp = [False] * (n + 1)\n",
        "    dp[0] = True\n",
        "    dp[2] = nums[0] == nums[1]\n",
        "\n",
        "    for i in range(3, n + 1):\n",
        "      dp[i] = (dp[i - 2] and nums[i - 2] == nums[i - 1]) or \\\n",
        "          (dp[i - 3] and ((nums[i - 3] == nums[i - 2] and nums[i - 2] == nums[i - 1]) or\n",
        "                          (nums[i - 3] + 1 == nums[i - 2] and nums[i - 2] + 1 == nums[i - 1])))\n",
        "\n",
        "    return dp[n]\n"
      ],
      "metadata": {
        "id": "VmrQszzFST0S"
      },
      "execution_count": null,
      "outputs": []
    },
    {
      "cell_type": "code",
      "source": [],
      "metadata": {
        "id": "v7g3h9npST3g"
      },
      "execution_count": null,
      "outputs": []
    },
    {
      "cell_type": "markdown",
      "source": [
        "**Date**: **14th August 2023**\n",
        "\n",
        "**Leetcode 215** : **Kth Largest Element in an Array**\n",
        "\n",
        "**Problem** :Given an integer array nums and an integer k, return the kth largest element in the array.\n",
        "\n",
        "Note that it is the kth largest element in the sorted order, not the kth distinct element.\n",
        "\n",
        "Can you solve it without sorting?\n",
        "\n",
        "**URL**:**https://leetcode.com/problems/kth-largest-element-in-an-array/**"
      ],
      "metadata": {
        "id": "nmTRtUZpbsrw"
      }
    },
    {
      "cell_type": "code",
      "source": [
        "class Solution:\n",
        "  def findKthLargest(self, nums: List[int], k: int) -> int:\n",
        "    minHeap = []\n",
        "\n",
        "    for num in nums:\n",
        "      heapq.heappush(minHeap, num)\n",
        "      if len(minHeap) > k:\n",
        "        heapq.heappop(minHeap)\n",
        "\n",
        "    return minHeap[0]\n"
      ],
      "metadata": {
        "id": "L4mdN1vmbrrb"
      },
      "execution_count": null,
      "outputs": []
    },
    {
      "cell_type": "code",
      "source": [],
      "metadata": {
        "id": "iHKuRa9_bruu"
      },
      "execution_count": null,
      "outputs": []
    },
    {
      "cell_type": "markdown",
      "source": [
        "**Date**: **15th August 2023**\n",
        "\n",
        "**Leetcode 86** : **Partition List**\n",
        "\n",
        "**Problem** :Given the head of a linked list and a value x, partition it such that all nodes less than x come before nodes greater than or equal to x.\n",
        "\n",
        "You should preserve the original relative order of the nodes in each of the two partitions.\n",
        "\n",
        "\n",
        "**URL**:**https://leetcode.com/problems/partition-list/**"
      ],
      "metadata": {
        "id": "byAaCMdjHCJc"
      }
    },
    {
      "cell_type": "code",
      "source": [
        "class Solution:\n",
        "  def partition(self, head: ListNode, x: int) -> ListNode:\n",
        "    beforeHead = ListNode(0)\n",
        "    afterHead = ListNode(0)\n",
        "    before = beforeHead\n",
        "    after = afterHead\n",
        "\n",
        "    while head:\n",
        "      if head.val < x:\n",
        "        before.next = head\n",
        "        before = head\n",
        "      else:\n",
        "        after.next = head\n",
        "        after = head\n",
        "      head = head.next\n",
        "\n",
        "    after.next = None\n",
        "    before.next = afterHead.next\n",
        "\n",
        "    return beforeHead.next\n"
      ],
      "metadata": {
        "id": "PEeZwVp6brx8"
      },
      "execution_count": null,
      "outputs": []
    },
    {
      "cell_type": "code",
      "source": [],
      "metadata": {
        "id": "_FNDI_W-br1i"
      },
      "execution_count": null,
      "outputs": []
    },
    {
      "cell_type": "markdown",
      "source": [
        "**Date**: **16th August 2023**\n",
        "\n",
        "**Leetcode 86** : **Sliding Window Maximum**\n",
        "\n",
        "**Problem** :You are given an array of integers nums, there is a sliding window of size k which is moving from the very left of the array to the very right. You can only see the k numbers in the window. Each time the sliding window moves right by one position.\n",
        "\n",
        "Return the max sliding window.\n",
        "\n",
        "\n",
        "**URL**:**https://leetcode.com/problems/sliding-window-maximum/**"
      ],
      "metadata": {
        "id": "6k3zs9QndtIY"
      }
    },
    {
      "cell_type": "code",
      "source": [
        "class Solution:\n",
        "  def maxSlidingWindow(self, nums: List[int], k: int) -> List[int]:\n",
        "    ans = []\n",
        "    dq = collections.deque()  # Max queue\n",
        "\n",
        "    for i, num in enumerate(nums):\n",
        "      while dq and dq[-1] < num:\n",
        "        dq.pop()\n",
        "      dq.append(num)\n",
        "      if i >= k and nums[i - k] == dq[0]:  # Out of bound\n",
        "        dq.popleft()\n",
        "      if i >= k - 1:\n",
        "        ans.append(dq[0])\n",
        "\n",
        "    return ans\n"
      ],
      "metadata": {
        "id": "H3ZLU00dbr4v"
      },
      "execution_count": null,
      "outputs": []
    },
    {
      "cell_type": "code",
      "source": [],
      "metadata": {
        "id": "vH-Ian0gbr8G"
      },
      "execution_count": null,
      "outputs": []
    },
    {
      "cell_type": "markdown",
      "source": [
        "**Date**: **17th August 2023**\n",
        "\n",
        "**Leetcode 542** : **01 Matrix**\n",
        "\n",
        "**Problem** :Given an m x n binary matrix mat, return the distance of the nearest 0 for each cell.\n",
        "\n",
        "The distance between two adjacent cells is 1.\n",
        "\n",
        "\n",
        "\n",
        "**URL**:**https://leetcode.com/problems/01-matrix/**"
      ],
      "metadata": {
        "id": "ZvFkahdS_-Wk"
      }
    },
    {
      "cell_type": "code",
      "source": [
        "class Solution:\n",
        "  def updateMatrix(self, mat: List[List[int]]) -> List[List[int]]:\n",
        "    m = len(mat)\n",
        "    n = len(mat[0])\n",
        "    dirs = [0, 1, 0, -1, 0]\n",
        "    q = collections.deque()\n",
        "    seen = [[False] * n for _ in range(m)]\n",
        "\n",
        "    for i in range(m):\n",
        "      for j in range(n):\n",
        "        if mat[i][j] == 0:\n",
        "          q.append((i, j))\n",
        "          seen[i][j] = True\n",
        "\n",
        "    while q:\n",
        "      i, j = q.popleft()\n",
        "      for k in range(4):\n",
        "        x = i + dirs[k]\n",
        "        y = j + dirs[k + 1]\n",
        "        if x < 0 or x == m or y < 0 or y == n:\n",
        "          continue\n",
        "        if seen[x][y]:\n",
        "          continue\n",
        "        mat[x][y] = mat[i][j] + 1\n",
        "        q.append((x, y))\n",
        "        seen[x][y] = True\n",
        "\n",
        "    return mat\n"
      ],
      "metadata": {
        "id": "2UVef27Dbr_l"
      },
      "execution_count": null,
      "outputs": []
    },
    {
      "cell_type": "code",
      "source": [],
      "metadata": {
        "id": "BHE6BcUDbsCs"
      },
      "execution_count": null,
      "outputs": []
    },
    {
      "cell_type": "markdown",
      "source": [
        "**Date**: **18th August 2023**\n",
        "\n",
        "**Leetcode 1615** : **Maximal Network Rank**\n",
        "\n",
        "**Problem** :There is an infrastructure of n cities with some number of roads connecting these cities. Each roads[i] = [ai, bi] indicates that there is a bidirectional road between cities ai and bi.\n",
        "\n",
        "The network rank of two different cities is defined as the total number of directly connected roads to either city. If a road is directly connected to both cities, it is only counted once.\n",
        "\n",
        "The maximal network rank of the infrastructure is the maximum network rank of all pairs of different cities.\n",
        "\n",
        "Given the integer n and the array roads, return the maximal network rank of the entire infrastructure.\n",
        "\n",
        "**URL**:**https://leetcode.com/problems/maximal-network-rank/**"
      ],
      "metadata": {
        "id": "VmN3yKxvzvqj"
      }
    },
    {
      "cell_type": "code",
      "source": [
        "class Solution:\n",
        "    def maximalNetworkRank(self, n, roads):\n",
        "        graph = [[] for _ in range(n)]\n",
        "\n",
        "        for a, b in roads:\n",
        "            graph[a].append(b)\n",
        "            graph[b].append(a)\n",
        "\n",
        "        max_rank = 0\n",
        "        for i in range(n):\n",
        "            for j in range(i + 1, n):\n",
        "                rank = len(graph[i]) + len(graph[j])\n",
        "                if j in graph[i] or i in graph[j]:\n",
        "                    rank -= 1\n",
        "                max_rank = max(max_rank, rank)\n",
        "\n",
        "        return max_rank"
      ],
      "metadata": {
        "id": "IA5yLXkV9_1O"
      },
      "execution_count": null,
      "outputs": []
    },
    {
      "cell_type": "code",
      "source": [],
      "metadata": {
        "id": "RYqzjuzF9_4y"
      },
      "execution_count": null,
      "outputs": []
    },
    {
      "cell_type": "markdown",
      "source": [
        "**Date**: **19th August 2023**\n",
        "\n",
        "**Leetcode 1489** : **Find Critical and Pseudo-Critical Edges in Minimum Spanning Tree**\n",
        "\n",
        "**Problem** :Given a weighted undirected connected graph with n vertices numbered from 0 to n - 1, and an array edges where edges[i] = [ai, bi, weighti] represents a bidirectional and weighted edge between nodes ai and bi. A minimum spanning tree (MST) is a subset of the graph's edges that connects all vertices without cycles and with the minimum possible total edge weight.\n",
        "\n",
        "Find all the critical and pseudo-critical edges in the given graph's minimum spanning tree (MST). An MST edge whose deletion from the graph would cause the MST weight to increase is called a critical edge. On the other hand, a pseudo-critical edge is that which can appear in some MSTs but not all.\n",
        "\n",
        "Note that you can return the indices of the edges in any order.\n",
        "\n",
        "\n",
        "**URL**:**https://leetcode.com/problems/find-critical-and-pseudo-critical-edges-in-minimum-spanning-tree/**"
      ],
      "metadata": {
        "id": "6VP7rAGIL4OV"
      }
    },
    {
      "cell_type": "code",
      "source": [
        "class UnionFind:\n",
        "  def __init__(self, n: int):\n",
        "    self.id = list(range(n))\n",
        "    self.rank = [0] * n\n",
        "\n",
        "  def unionByRank(self, u: int, v: int) -> None:\n",
        "    i = self.find(u)\n",
        "    j = self.find(v)\n",
        "    if i == j:\n",
        "      return\n",
        "    if self.rank[i] < self.rank[j]:\n",
        "      self.id[i] = j\n",
        "    elif self.rank[i] > self.rank[j]:\n",
        "      self.id[j] = i\n",
        "    else:\n",
        "      self.id[i] = j\n",
        "      self.rank[j] += 1\n",
        "\n",
        "  def find(self, u: int) -> int:\n",
        "    if self.id[u] != u:\n",
        "      self.id[u] = self.find(self.id[u])\n",
        "    return self.id[u]\n",
        "\n",
        "\n",
        "class Solution:\n",
        "  def findCriticalAndPseudoCriticalEdges(self, n: int, edges: List[List[int]]) -> List[List[int]]:\n",
        "    criticalEdges = []\n",
        "    pseudoCriticalEdges = []\n",
        "\n",
        "    # Record the index information, so edges[i] := (u, v, weight, index).\n",
        "    for i in range(len(edges)):\n",
        "      edges[i].append(i)\n",
        "\n",
        "    # Sort by weight.\n",
        "    edges.sort(key=lambda x: x[2])\n",
        "\n",
        "    def getMSTWeight(firstEdge: List[int], deletedEdgeIndex: int) -> Union[int, float]:\n",
        "      mstWeight = 0\n",
        "      uf = UnionFind(n)\n",
        "\n",
        "      if firstEdge:\n",
        "        uf.unionByRank(firstEdge[0], firstEdge[1])\n",
        "        mstWeight += firstEdge[2]\n",
        "\n",
        "      for u, v, weight, index in edges:\n",
        "        if index == deletedEdgeIndex:\n",
        "          continue\n",
        "        if uf.find(u) == uf.find(v):\n",
        "          continue\n",
        "        uf.unionByRank(u, v)\n",
        "        mstWeight += weight\n",
        "\n",
        "      root = uf.find(0)\n",
        "      if any(uf.find(i) != root for i in range(n)):\n",
        "        return math.inf\n",
        "\n",
        "      return mstWeight\n",
        "\n",
        "    mstWeight = getMSTWeight([], -1)\n",
        "\n",
        "    for edge in edges:\n",
        "      index = edge[3]\n",
        "      # Deleting `e` makes the MST weight increase or can't form a MST.\n",
        "      if getMSTWeight([], index) > mstWeight:\n",
        "        criticalEdges.append(index)\n",
        "      # If an edge can be in any MST, we can always add `edge` to the edge set.\n",
        "      elif getMSTWeight(edge, -1) == mstWeight:\n",
        "        pseudoCriticalEdges.append(index)\n",
        "\n",
        "    return [criticalEdges, pseudoCriticalEdges]\n"
      ],
      "metadata": {
        "id": "cHnHTrht9_8O"
      },
      "execution_count": null,
      "outputs": []
    },
    {
      "cell_type": "code",
      "source": [],
      "metadata": {
        "id": "v0p-tAIA9__l"
      },
      "execution_count": null,
      "outputs": []
    },
    {
      "cell_type": "markdown",
      "source": [
        "**Date**: **20th August 2023**\n",
        "\n",
        "**Leetcode 1203** : **Sort Items by Groups Respecting Dependencies**\n",
        "\n",
        "**Problem** :There are n items each belonging to zero or one of m groups where group[i] is the group that the i-th item belongs to and it's equal to -1 if the i-th item belongs to no group. The items and the groups are zero indexed. A group can have no item belonging to it.\n",
        "\n",
        "Return a sorted list of the items such that:\n",
        "\n",
        "**The items that belong to the same group are next to each other in the sorted list.\n",
        "\n",
        "**There are some relations between these items where beforeItems[i] is a list containing all the items that should come before the i-th item in the sorted array (to the left of the i-th item).\n",
        "Return any solution if there is more than one solution and return an empty list if there is no solution.\n",
        "\n",
        "\n",
        "**URL**:**https://leetcode.com/problems/sort-items-by-groups-respecting-dependencies/**"
      ],
      "metadata": {
        "id": "E7B0_hvWNckH"
      }
    },
    {
      "cell_type": "code",
      "source": [
        "class Solution:\n",
        "  def sortItems(self, n: int, m: int, group: List[int], beforeItems: List[List[int]]) -> List[int]:\n",
        "        def topo_sort(points, pre, suc):\n",
        "            order = []\n",
        "            sources = [p for p in points if not pre[p]]\n",
        "            while sources:\n",
        "                s = sources.pop()\n",
        "                order.append(s)\n",
        "                for u in suc[s]:\n",
        "                    pre[u].remove(s)\n",
        "                    if not pre[u]:\n",
        "                        sources.append(u)\n",
        "            return order if len(order) == len(points) else []\n",
        "\n",
        "        # find the group of each item\n",
        "        group2item = collections.defaultdict(set)\n",
        "        for i in range(n):\n",
        "            if group[i] == -1:\n",
        "                group[i] = m\n",
        "                m += 1\n",
        "            group2item[group[i]].add(i)\n",
        "        # find the relationships between the groups and each items in the same group\n",
        "        t_pre, t_suc = collections.defaultdict(set), collections.defaultdict(set)\n",
        "        g_pre, g_suc = collections.defaultdict(set), collections.defaultdict(set)\n",
        "        for i in range(n):\n",
        "            for j in beforeItems[i]:\n",
        "                if group[i] == group[j]:\n",
        "                    t_pre[i].add(j)\n",
        "                    t_suc[j].add(i)\n",
        "                else:\n",
        "                    g_pre[group[i]].add(group[j])\n",
        "                    g_suc[group[j]].add(group[i])\n",
        "        # topological sort the groups\n",
        "        groups_order = topo_sort([i for i in group2item], g_pre, g_suc)\n",
        "        # topological sort the items in each group\n",
        "        t_order = []\n",
        "        for i in groups_order:\n",
        "            items = group2item[i]\n",
        "            i_order = topo_sort(items, t_pre, t_suc)\n",
        "            if len(i_order) != len(items):\n",
        "                return []\n",
        "            t_order += i_order\n",
        "        return t_order if len(t_order) == n else []"
      ],
      "metadata": {
        "id": "N9hXrEuR-AC7"
      },
      "execution_count": null,
      "outputs": []
    },
    {
      "cell_type": "code",
      "source": [],
      "metadata": {
        "id": "UJQg_EsS-AGO"
      },
      "execution_count": null,
      "outputs": []
    },
    {
      "cell_type": "markdown",
      "source": [
        "**Date**: **21st August 2023**\n",
        "\n",
        "**Leetcode 459** : **Repeated Substring Pattern**\n",
        "\n",
        "**Problem** :Given a string s, check if it can be constructed by taking a substring of it and appending multiple copies of the substring together.\n",
        "\n",
        "\n",
        "\n",
        "**URL**:**https://leetcode.com/problems/repeated-substring-pattern/**"
      ],
      "metadata": {
        "id": "u2lcI2tB6NxP"
      }
    },
    {
      "cell_type": "code",
      "source": [
        "class Solution:\n",
        "  def repeatedSubstringPattern(self, s: str) -> bool:\n",
        "    return s in (s + s)[1:-1]\n"
      ],
      "metadata": {
        "id": "YfhjohFo-AJd"
      },
      "execution_count": null,
      "outputs": []
    },
    {
      "cell_type": "code",
      "source": [],
      "metadata": {
        "id": "xij-Gaaw-AM5"
      },
      "execution_count": null,
      "outputs": []
    },
    {
      "cell_type": "markdown",
      "source": [
        "**Date**: **22nd August 2023**\n",
        "\n",
        "**Leetcode 168** : **Excel Sheet Column Title**\n",
        "\n",
        "**Problem** :Given an integer columnNumber, return its corresponding column title as it appears in an Excel sheet.\n",
        "\n",
        "For example:\n",
        "\n",
        "A -> 1\n",
        "\n",
        "B -> 2\n",
        "\n",
        "C -> 3\n",
        "\n",
        "...\n",
        "\n",
        "Z -> 26\n",
        "\n",
        "AA -> 27\n",
        "\n",
        "AB -> 28\n",
        "\n",
        "...\n",
        "\n",
        "\n",
        "**URL**:**https://leetcode.com/problems/excel-sheet-column-title/**"
      ],
      "metadata": {
        "id": "GQCmxSFHI9AF"
      }
    },
    {
      "cell_type": "code",
      "source": [
        "class Solution:\n",
        "  def convertToTitle(self, n: int) -> str:\n",
        "    return self.convertToTitle((n - 1) // 26) + \\\n",
        "        chr(ord('A') + (n - 1) % 26) if n else ''\n"
      ],
      "metadata": {
        "id": "hwowKMMD-AQS"
      },
      "execution_count": null,
      "outputs": []
    },
    {
      "cell_type": "markdown",
      "source": [
        "**Date**: **23rd August 2023**\n",
        "\n",
        "**Leetcode 767** : **Reorganize String**\n",
        "\n",
        "**Problem** :Given a string s, rearrange the characters of s so that any two adjacent characters are not the same.\n",
        "\n",
        "Return any possible rearrangement of s or return \"\" if not possible.\n",
        "\n",
        "\n",
        "**URL**:**https://leetcode.com/problems/reorganize-string/**"
      ],
      "metadata": {
        "id": "jl_SU98pKdHi"
      }
    },
    {
      "cell_type": "code",
      "source": [
        "class Solution:\n",
        "  def reorganizeString(self, s: str) -> str:\n",
        "    n = len(s)\n",
        "    count = collections.Counter(s)\n",
        "    maxCount = max(count.values())\n",
        "\n",
        "    if maxCount > (n + 1) // 2:\n",
        "      return ''\n",
        "\n",
        "    if maxCount == (n + 1) // 2:\n",
        "      maxLetter = max(count, key=count.get)\n",
        "      ans = [maxLetter if i % 2 == 0 else '' for i in range(n)]\n",
        "      del count[maxLetter]\n",
        "      i = 1\n",
        "    else:\n",
        "      ans = [''] * n\n",
        "      i = 0\n",
        "\n",
        "    for c, freq in count.items():\n",
        "      for _ in range(freq):\n",
        "        ans[i] = c\n",
        "        i += 2\n",
        "        if i >= n:\n",
        "          i = 1\n",
        "\n",
        "    return ''.join(ans)"
      ],
      "metadata": {
        "id": "Ngy9rSb8-ATz"
      },
      "execution_count": null,
      "outputs": []
    },
    {
      "cell_type": "code",
      "source": [],
      "metadata": {
        "id": "Y7631UKn-AXH"
      },
      "execution_count": null,
      "outputs": []
    },
    {
      "cell_type": "markdown",
      "source": [
        "**Date**: **24th August 2023**\n",
        "\n",
        "**Leetcode 68** : **Text Justification**\n",
        "\n",
        "**Problem** :Given an array of strings words and a width maxWidth, format the text such that each line has exactly maxWidth characters and is fully (left and right) justified.\n",
        "\n",
        "You should pack your words in a greedy approach; that is, pack as many words as you can in each line. Pad extra spaces ' ' when necessary so that each line has exactly maxWidth characters.\n",
        "\n",
        "Extra spaces between words should be distributed as evenly as possible. If the number of spaces on a line does not divide evenly between words, the empty slots on the left will be assigned more spaces than the slots on the right.\n",
        "\n",
        "For the last line of text, it should be left-justified, and no extra space is inserted between words.\n",
        "\n",
        "Note:\n",
        "\n",
        "**A word is defined as a character sequence consisting of non-space characters only.\n",
        "\n",
        "**Each word's length is guaranteed to be greater than 0 and not exceed maxWidth.\n",
        "\n",
        "**The input array words contains at least one word.\n",
        "\n",
        "**URL**:**https://leetcode.com/problems/text-justification/**"
      ],
      "metadata": {
        "id": "ovzpIIYAhFuf"
      }
    },
    {
      "cell_type": "code",
      "source": [
        "class Solution:\n",
        "  def fullJustify(self, words: List[str], maxWidth: int) -> List[str]:\n",
        "    ans = []\n",
        "    row = []\n",
        "    rowLetters = 0\n",
        "\n",
        "    for word in words:\n",
        "      if rowLetters + len(word) + len(row) > maxWidth:\n",
        "        for i in range(maxWidth - rowLetters):\n",
        "          row[i % (len(row) - 1 or 1)] += ' '\n",
        "        ans.append(''.join(row))\n",
        "        row = []\n",
        "        rowLetters = 0\n",
        "      row.append(word)\n",
        "      rowLetters += len(word)\n",
        "\n",
        "    return ans + [' '.join(row).ljust(maxWidth)]\n"
      ],
      "metadata": {
        "id": "Dp92tBu4zjPR"
      },
      "execution_count": null,
      "outputs": []
    },
    {
      "cell_type": "code",
      "source": [],
      "metadata": {
        "id": "wW5vCMv_zjS6"
      },
      "execution_count": null,
      "outputs": []
    },
    {
      "cell_type": "markdown",
      "source": [
        "**Date**: **25th August 2023**\n",
        "\n",
        "**Leetcode 97** : **Interleaving String**\n",
        "\n",
        "**Problem** :Given strings s1, s2, and s3, find whether s3 is formed by an interleaving of s1 and s2.\n",
        "\n",
        "An interleaving of two strings s and t is a configuration where s and t are divided into n and m substrings respectively, such that:\n",
        "\n",
        "**s = s1 + s2 + ... + sn\n",
        "\n",
        "**t = t1 + t2 + ... + tm\n",
        "\n",
        "**|n - m| <= 1\n",
        "\n",
        "**The interleaving is s1 + t1 + s2 + t2 + s3 + t3 + ... or t1 + s1 + t2 + s2 + t3 + s3 + ...\n",
        "\n",
        "Note: a + b is the concatenation of strings a and b.\n",
        "\n",
        "\n",
        "\n",
        "**URL**:**https://leetcode.com/problems/interleaving-string/**"
      ],
      "metadata": {
        "id": "KTcm034p0IMb"
      }
    },
    {
      "cell_type": "code",
      "source": [
        "class Solution:\n",
        "  def isInterleave(self, s1: str, s2: str, s3: str) -> bool:\n",
        "    m = len(s1)\n",
        "    n = len(s2)\n",
        "    if m + n != len(s3):\n",
        "      return False\n",
        "\n",
        "    dp = [False] * (n + 1)\n",
        "\n",
        "    for i in range(m + 1):\n",
        "      for j in range(n + 1):\n",
        "        if i == 0 and j == 0:\n",
        "          dp[j] = True\n",
        "        elif i == 0:\n",
        "          dp[j] = dp[j - 1] and s2[j - 1] == s3[j - 1]\n",
        "        elif j == 0:\n",
        "          dp[j] = dp[j] and s1[i - 1] == s3[i - 1]\n",
        "        else:\n",
        "          dp[j] = (dp[j] and s1[i - 1] == s3[i + j - 1]) or \\\n",
        "              (dp[j - 1] and s2[j - 1] == s3[i + j - 1])\n",
        "\n",
        "    return dp[n]\n"
      ],
      "metadata": {
        "id": "Ite-dis_zjWA"
      },
      "execution_count": null,
      "outputs": []
    },
    {
      "cell_type": "code",
      "source": [],
      "metadata": {
        "id": "h8mt-kwuzjZH"
      },
      "execution_count": null,
      "outputs": []
    },
    {
      "cell_type": "markdown",
      "source": [
        "**Date**: **26th August 2023**\n",
        "\n",
        "**Leetcode 646** : **Maximum Length of Pair Chain**\n",
        "\n",
        "**Problem** :You are given an array of n pairs pairs where pairs[i] = [lefti, righti] and lefti < righti.\n",
        "\n",
        "A pair p2 = [c, d] follows a pair p1 = [a, b] if b < c. A chain of pairs can be formed in this fashion.\n",
        "\n",
        "Return the length longest chain which can be formed.\n",
        "\n",
        "You do not need to use up all the given intervals. You can select pairs in any order.\n",
        "\n",
        "\n",
        "**URL**:**https://leetcode.com/problems/maximum-length-of-pair-chain/**"
      ],
      "metadata": {
        "id": "iqnNqpbZpQ-f"
      }
    },
    {
      "cell_type": "code",
      "source": [
        "class Solution:\n",
        "  def findLongestChain(self, pairs: List[List[int]]) -> int:\n",
        "    ans = 0\n",
        "    prevEnd = -math.inf\n",
        "\n",
        "    for s, e in sorted(pairs, key=lambda x: x[1]):\n",
        "      if s > prevEnd:\n",
        "        ans += 1\n",
        "        prevEnd = e\n",
        "\n",
        "    return ans"
      ],
      "metadata": {
        "id": "KbPV_-32zjb9"
      },
      "execution_count": null,
      "outputs": []
    },
    {
      "cell_type": "code",
      "source": [],
      "metadata": {
        "id": "YLmfVz8ezjfH"
      },
      "execution_count": null,
      "outputs": []
    },
    {
      "cell_type": "markdown",
      "source": [
        "**Date**: **27th August 2023**\n",
        "\n",
        "**Leetcode 403** : **Frog Jump**\n",
        "\n",
        "**Problem** :A frog is crossing a river. The river is divided into some number of units, and at each unit, there may or may not exist a stone. The frog can jump on a stone, but it must not jump into the water.\n",
        "\n",
        "Given a list of stones' positions (in units) in sorted ascending order, determine if the frog can cross the river by landing on the last stone. Initially, the frog is on the first stone and assumes the first jump must be 1 unit.\n",
        "\n",
        "If the frog's last jump was k units, its next jump must be either k - 1, k, or k + 1 units. The frog can only jump in the forward direction.\n",
        "\n",
        "**URL**:**https://leetcode.com/problems/frog-jump/**"
      ],
      "metadata": {
        "id": "92B8XsTect4l"
      }
    },
    {
      "cell_type": "code",
      "source": [
        "class Solution:\n",
        "  def canCross(self, stones: List[int]) -> bool:\n",
        "    n = len(stones)\n",
        "    # dp[i][j] := True if a frog can make a size j jump from stones[i]\n",
        "    dp = [[False] * (n + 1) for _ in range(n)]\n",
        "    dp[0][1] = True\n",
        "\n",
        "    for i in range(1, n):\n",
        "      for j in range(i):\n",
        "        k = stones[i] - stones[j]\n",
        "        if k <= n and dp[j][k]:\n",
        "          dp[i][k - 1] = True\n",
        "          dp[i][k] = True\n",
        "          dp[i][k + 1] = True\n",
        "\n",
        "    return any(dp[-1])\n"
      ],
      "metadata": {
        "id": "C6aD6w_XzjiO"
      },
      "execution_count": null,
      "outputs": []
    },
    {
      "cell_type": "code",
      "source": [],
      "metadata": {
        "id": "1SBpw3dXzjlG"
      },
      "execution_count": null,
      "outputs": []
    },
    {
      "cell_type": "markdown",
      "source": [
        "**Date**: **28th August 2023**\n",
        "\n",
        "**Leetcode 225** : **Implement Stack Using Queues**\n",
        "\n",
        "**Problem** :Implement a last-in-first-out (LIFO) stack using only two queues. The implemented stack should support all the functions of a normal stack (push, top, pop, and empty).\n",
        "\n",
        "Implement the MyStack class:\n",
        "\n",
        "**void push(int x) Pushes element x to the top of the stack.\n",
        "\n",
        "**int pop() Removes the element on the top of the stack and returns it.\n",
        "\n",
        "**int top() Returns the element on the top of the stack.\n",
        "\n",
        "**boolean empty() Returns true if the stack is empty, false otherwise.\n",
        "\n",
        "Notes:\n",
        "\n",
        "**You must use only standard operations of a queue, which means that only push to back, peek/pop from front, size and is empty operations are valid.\n",
        "\n",
        "**Depending on your language, the queue may not be supported natively. You may simulate a queue using a list or deque (double-ended queue) as long as you use only a queue's standard operations.\n",
        "\n",
        "**URL**:**https://leetcode.com/problems/implement-stack-using-queues/**"
      ],
      "metadata": {
        "id": "6p_OUWK_cxQQ"
      }
    },
    {
      "cell_type": "code",
      "source": [
        "class MyStack:\n",
        "  def __init__(self):\n",
        "    self.q = collections.deque()\n",
        "\n",
        "  def push(self, x: int) -> None:\n",
        "    self.q.append(x)\n",
        "    for _ in range(len(self.q) - 1):\n",
        "      self.q.append(self.q.popleft())\n",
        "\n",
        "  def pop(self) -> int:\n",
        "    return self.q.popleft()\n",
        "\n",
        "  def top(self) -> int:\n",
        "    return self.q[0]\n",
        "\n",
        "  def empty(self) -> bool:\n",
        "    return not self.q\n",
        "\n",
        "\n",
        "# Your MyStack object will be instantiated and called as such:\n",
        "# obj = MyStack()\n",
        "# obj.push(x)\n",
        "# param_2 = obj.pop()\n",
        "# param_3 = obj.top()\n",
        "# param_4 = obj.empty()"
      ],
      "metadata": {
        "id": "VLEcx_-Uzjn9"
      },
      "execution_count": null,
      "outputs": []
    },
    {
      "cell_type": "code",
      "source": [],
      "metadata": {
        "id": "YhYGBLDE_bVn"
      },
      "execution_count": null,
      "outputs": []
    },
    {
      "cell_type": "markdown",
      "source": [
        "**Date**: **29th August 2023**\n",
        "\n",
        "**Leetcode 2483** : **Minimum Penalty for a Shop**\n",
        "\n",
        "**Problem** :Implement a last-in-first-out (LIFO) stack using only two queues. The implementYou are given the customer visit log of a shop represented by a 0-indexed string customers consisting only of characters 'N' and 'Y':\n",
        "\n",
        "**if the ith character is 'Y', it means that customers come at the ith hour\n",
        "\n",
        "**whereas 'N' indicates that no customers come at the ith hour.\n",
        "\n",
        "If the shop closes at the jth hour (0 <= j <= n), the penalty is calculated as follows:\n",
        "\n",
        "**For every hour when the shop is open and no customers come, the penalty increases by 1.\n",
        "\n",
        "**For every hour when the shop is closed and customers come, the penalty increases by 1.\n",
        "\n",
        "Return the earliest hour at which the shop must be closed to incur a minimum penalty.\n",
        "\n",
        "Note that if a shop closes at the jth hour, it means the shop is closed at the hour j.\n",
        "\n",
        "**URL**:**https://leetcode.com/problems/minimum-penalty-for-a-shop/**"
      ],
      "metadata": {
        "id": "38RABozy_cTB"
      }
    },
    {
      "cell_type": "code",
      "source": [
        "class Solution:\n",
        "  def bestClosingTime(self, customers: str) -> int:\n",
        "    # Instead of computing the minimum penalty, we can compute the max profit.\n",
        "    ans = 0\n",
        "    profit = 0\n",
        "    maxProfit = 0\n",
        "\n",
        "    for i, customer in enumerate(customers):\n",
        "      profit += 1 if customer == 'Y' else -1\n",
        "      if profit > maxProfit:\n",
        "        maxProfit = profit\n",
        "        ans = i + 1\n",
        "\n",
        "    return ans\n"
      ],
      "metadata": {
        "id": "4MENvXpd_bZJ"
      },
      "execution_count": null,
      "outputs": []
    },
    {
      "cell_type": "code",
      "source": [],
      "metadata": {
        "id": "0ee1H7ye_bcf"
      },
      "execution_count": null,
      "outputs": []
    },
    {
      "cell_type": "markdown",
      "source": [
        "**Date**: **30th August 2023**\n",
        "\n",
        "**Leetcode 2366** : **Minimum Replacements to Sort the Array**\n",
        "\n",
        "**Problem** :IYou are given a 0-indexed integer array nums. In one operation you can replace any element of the array with any two elements that sum to it.\n",
        "\n",
        "**For example, consider nums = [5,6,7]. In one operation, we can replace nums[1] with 2 and 4 and convert nums to [5,2,4,7].\n",
        "\n",
        "Return the minimum number of operations to make an array that is sorted in non-decreasing order.\n",
        "\n",
        "\n",
        "\n",
        "**URL**:**https://leetcode.com/problems/minimum-replacements-to-sort-the-array/**"
      ],
      "metadata": {
        "id": "Y9iTojO5xTNX"
      }
    },
    {
      "cell_type": "code",
      "source": [],
      "metadata": {
        "id": "HgGqTpn4_bgP"
      },
      "execution_count": null,
      "outputs": []
    },
    {
      "cell_type": "code",
      "source": [],
      "metadata": {
        "id": "YPUtMkX-_bjz"
      },
      "execution_count": null,
      "outputs": []
    },
    {
      "cell_type": "code",
      "source": [],
      "metadata": {
        "id": "nAtewBl-_bnD"
      },
      "execution_count": null,
      "outputs": []
    },
    {
      "cell_type": "code",
      "source": [],
      "metadata": {
        "id": "4cr0-wS9_bqs"
      },
      "execution_count": null,
      "outputs": []
    },
    {
      "cell_type": "code",
      "source": [],
      "metadata": {
        "id": "Tv8nsgdt_buY"
      },
      "execution_count": null,
      "outputs": []
    },
    {
      "cell_type": "code",
      "source": [],
      "metadata": {
        "id": "sDyNxKbo_bxl"
      },
      "execution_count": null,
      "outputs": []
    },
    {
      "cell_type": "code",
      "source": [],
      "metadata": {
        "id": "eP4Vwl5Y_b1B"
      },
      "execution_count": null,
      "outputs": []
    }
  ]
}