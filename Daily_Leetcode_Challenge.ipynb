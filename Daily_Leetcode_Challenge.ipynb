{
  "nbformat": 4,
  "nbformat_minor": 0,
  "metadata": {
    "colab": {
      "provenance": [],
      "authorship_tag": "ABX9TyOOO+agoSwcll+OFP5AGK1+",
      "include_colab_link": true
    },
    "kernelspec": {
      "name": "python3",
      "display_name": "Python 3"
    },
    "language_info": {
      "name": "python"
    }
  },
  "cells": [
    {
      "cell_type": "markdown",
      "metadata": {
        "id": "view-in-github",
        "colab_type": "text"
      },
      "source": [
        "<a href=\"https://colab.research.google.com/github/Drey-Tee/Data_Structures_And_Algorithms/blob/main/Daily_Leetcode_Challenge.ipynb\" target=\"_parent\"><img src=\"https://colab.research.google.com/assets/colab-badge.svg\" alt=\"Open In Colab\"/></a>"
      ]
    },
    {
      "cell_type": "markdown",
      "source": [
        "**28th-September-2022**\n",
        "\n",
        "\n",
        "**Leetcode 838**: **Push Dominoes**\n",
        "\n",
        "**Problem**: There are n dominoes in a line, and we place each domino vertically upright. In the beginning, we simultaneously push some of the dominoes either to the left or to the right.\n",
        "\n",
        "After each second, each domino that is falling to the left pushes the adjacent domino on the left. Similarly, the dominoes falling to the right push their adjacent dominoes standing on the right.\n",
        "\n",
        "When a vertical domino has dominoes falling on it from both sides, it stays still due to the balance of the forces.\n",
        "\n",
        "For the purposes of this question, we will consider that a falling domino expends no additional force to a falling or already fallen domino.\n",
        "\n",
        "You are given a string dominoes representing the initial state where:\n",
        "\n",
        "dominoes[i] = 'L', if the ith domino has been pushed to the left,\n",
        "dominoes[i] = 'R', if the ith domino has been pushed to the right, and\n",
        "dominoes[i] = '.', if the ith domino has not been pushed.\n",
        "\n",
        "Return a string representing the final state.\n",
        "\n",
        " \n",
        "**URL**: https://leetcode.com/problems/push-dominoes/\n",
        "\n"
      ],
      "metadata": {
        "id": "9opmJ0RV-L4I"
      }
    },
    {
      "cell_type": "code",
      "source": [
        "class Solution:\n",
        "    def pushDominoes(self, dominoes: str) -> str:\n",
        "        while True:\n",
        "            new_dominoes = dominoes.replace('R.L', '|').replace('.L', 'LL').replace('R.', 'RR').replace('|', 'R.L')\n",
        "            if new_dominoes == dominoes:\n",
        "                break\n",
        "            else:\n",
        "                dominoes = new_dominoes\n",
        "            \n",
        "        return dominoes\n",
        "        "
      ],
      "metadata": {
        "id": "23yIgkQo-MwH"
      },
      "execution_count": null,
      "outputs": []
    },
    {
      "cell_type": "code",
      "source": [],
      "metadata": {
        "id": "SYJLuZ8S-QAB"
      },
      "execution_count": null,
      "outputs": []
    },
    {
      "cell_type": "markdown",
      "source": [
        "**29th-September-2022**\n",
        "\n",
        "\n",
        "**Leetcode 19**: **Remove Nth Node From End of List**\n",
        "\n",
        "**Problem**:Given the head of a linked list, remove the nth node from the end of the list and return its head.\n",
        "\n",
        "\n",
        " \n",
        "**URL**: **https://leetcode.com/problems/remove-nth-node-from-end-of-list/**"
      ],
      "metadata": {
        "id": "s5vzx1_5EDuQ"
      }
    },
    {
      "cell_type": "code",
      "source": [
        "# Definition for singly-linked list.\n",
        "# class ListNode:\n",
        "#     def __init__(self, val=0, next=None):\n",
        "#         self.val = val\n",
        "#         self.next = next\n",
        "class Solution:\n",
        "    def removeNthFromEnd(self, head: Optional[ListNode], n: int) -> Optional[ListNode]:\n",
        "        h1 = head\n",
        "        h2 = None\n",
        "        k = 1\n",
        "        while(h1):\n",
        "            if k == n+1:\n",
        "                h2 = head\n",
        "            elif k > n+1:\n",
        "                h2 = h2.next\n",
        "            h1 = h1.next\n",
        "            k += 1\n",
        "        if h2:\n",
        "            h2.next = h2.next.next\n",
        "        else:\n",
        "\t\t\t# Since h2 never started from head so nth node must be the first node\n",
        "            head = head.next\n",
        "        return head\n",
        "        "
      ],
      "metadata": {
        "id": "cqcRBBiO-QDE"
      },
      "execution_count": null,
      "outputs": []
    },
    {
      "cell_type": "code",
      "source": [],
      "metadata": {
        "id": "isdHSCMG-QGS"
      },
      "execution_count": null,
      "outputs": []
    },
    {
      "cell_type": "markdown",
      "source": [
        "**30th-September-2022**\n",
        "\n",
        "\n",
        "**Leetcode 658**: **Find K Closest Elements**\n",
        "\n",
        "**Problem**:Given a sorted integer array arr, two integers k and x, return the k closest integers to x in the array. The result should also be sorted in ascending order.\n",
        "\n",
        "An integer a is closer to x than an integer b if:\n",
        "\n",
        "|a - x| < |b - x|, or\n",
        "\n",
        "|a - x| == |b - x| and a < b\n",
        " \n",
        "**URL**: **https://leetcode.com/problems/find-k-closest-elements/**"
      ],
      "metadata": {
        "id": "RxXTF3xJZouz"
      }
    },
    {
      "cell_type": "code",
      "source": [
        "class Solution:\n",
        "    def findClosestElements(self, arr: List[int], k: int, x: int) -> List[int]:\n",
        "        min = 0\n",
        "        max=len(arr) - 1\n",
        "        while max - min +1 > k:\n",
        "            if  abs(x-arr[min]) > abs(x-arr[max]):\n",
        "                min +=1\n",
        "            else:\n",
        "                max-=1\n",
        "        return arr[min :max+1]\n",
        "        "
      ],
      "metadata": {
        "id": "kjApQjgO-QJR"
      },
      "execution_count": null,
      "outputs": []
    },
    {
      "cell_type": "code",
      "source": [],
      "metadata": {
        "id": "ezVE5Y03-QMQ"
      },
      "execution_count": null,
      "outputs": []
    },
    {
      "cell_type": "markdown",
      "source": [
        "**1st-October-2022**\n",
        "\n",
        "\n",
        "**Leetcode 218**: **The Skyline Problem**\n",
        "\n",
        "**Problem**:A city's skyline is the outer contour of the silhouette formed by all the buildings in that city when viewed from a distance. Given the locations and heights of all the buildings, return the skyline formed by these buildings collectively.\n",
        "\n",
        "The geometric information of each building is given in the array buildings where buildings[i] = [lefti, righti, heighti]:\n",
        "\n",
        "lefti is the x coordinate of the left edge of the ith building.\n",
        "righti is the x coordinate of the right edge of the ith building.\n",
        "heighti is the height of the ith building.\n",
        "You may assume all buildings are perfect rectangles grounded on an absolutely flat surface at height 0.\n",
        "\n",
        "The skyline should be represented as a list of \"key points\" sorted by their x-coordinate in the form [[x1,y1],[x2,y2],...]. Each key point is the left endpoint of some horizontal segment in the skyline except the last point in the list, which always has a y-coordinate 0 and is used to mark the skyline's termination where the rightmost building ends. Any ground between the leftmost and rightmost buildings should be part of the skyline's contour.\n",
        "\n",
        "Note: There must be no consecutive horizontal lines of equal height in the output skyline. For instance, [...,[2 3],[4 5],[7 5],[11 5],[12 7],...] is not acceptable; the three lines of height 5 should be merged into one in the final output as such: [...,[2 3],[4 5],[12 7],...]\n",
        " \n",
        "**URL**: **https://leetcode.com/problems/the-skyline-problem/**"
      ],
      "metadata": {
        "id": "3Av-UMgfY5Zg"
      }
    },
    {
      "cell_type": "code",
      "source": [
        "class Solution:\n",
        "    def getSkyline(self, buildings: List[List[int]]) -> List[List[int]]:\n",
        "        # for the same x, (x, -H) should be in front of (x, 0)\n",
        "        # For Example 2, we should process (2, -3) then (2, 0), as there's no height change\n",
        "        x_height_right_tuples = sorted([(L, -H, R) for L, R, H in buildings] + [(R, 0, \"doesn't matter\") for _, R, _ in buildings])   \n",
        "        # (0, float('inf')) is always in max_heap, so max_heap[0] is always valid\n",
        "        result, max_heap = [[0, 0]], [(0, float('inf'))]\n",
        "        for x, negative_height, R in x_height_right_tuples:\n",
        "            while x >= max_heap[0][1]:\n",
        "                # reduce max height up to date, i.e. only consider max height in the right side of line x\n",
        "                heapq.heappop(max_heap)\n",
        "            if negative_height:\n",
        "                # Consider each height, as it may be the potential max height\n",
        "                heapq.heappush(max_heap, (negative_height, R))\n",
        "            curr_max_height = -max_heap[0][0]\n",
        "            if result[-1][1] != curr_max_height:\n",
        "                result.append([x, curr_max_height])\n",
        "        return result[1:] "
      ],
      "metadata": {
        "id": "lbYdrVx6-QPa"
      },
      "execution_count": null,
      "outputs": []
    },
    {
      "cell_type": "code",
      "source": [],
      "metadata": {
        "id": "6Q9iQZGq-QSw"
      },
      "execution_count": null,
      "outputs": []
    },
    {
      "cell_type": "markdown",
      "source": [
        "**2nd-October-2022**\n",
        "\n",
        "\n",
        "**Leetcode 91**: **Decode Ways**\n",
        "\n",
        "**Problem**:A message containing letters from A-Z can be encoded into numbers using the following mapping:\n",
        "\n",
        "'A' -> \"1\"\n",
        "'B' -> \"2\"\n",
        "...\n",
        "'Z' -> \"26\"\n",
        "To decode an encoded message, all the digits must be grouped then mapped back into letters using the reverse of the mapping above (there may be multiple ways). For example, \"11106\" can be mapped into:\n",
        "\n",
        "\"AAJF\" with the grouping (1 1 10 6)\n",
        "\"KJF\" with the grouping (11 10 6)\n",
        "Note that the grouping (1 11 06) is invalid because \"06\" cannot be mapped into 'F' since \"6\" is different from \"06\".\n",
        "\n",
        "Given a string s containing only digits, return the number of ways to decode it.\n",
        "\n",
        "The test cases are generated so that the answer fits in a 32-bit integer.\n",
        "\n",
        " \n",
        "**URL**: **https://leetcode.com/problems/decode-ways/**"
      ],
      "metadata": {
        "id": "9_cxRK4U7bFZ"
      }
    },
    {
      "cell_type": "code",
      "source": [
        "class Solution:\n",
        "    def numDecodings(self, s: str) -> int:\n",
        "        @cache\n",
        "        def depth_first_search(k):\n",
        "            if k == len(s):\n",
        "                return 1\n",
        "            if s[k] == '0':\n",
        "                return 0\n",
        "            results = depth_first_search(k+1)\n",
        "            if 10 <= int(s[k:k+2]) <= 26:\n",
        "                results += depth_first_search(k+2)\n",
        "            return results\n",
        "        return depth_first_search(0)\n",
        "        "
      ],
      "metadata": {
        "id": "dgYWdR5F-QV5"
      },
      "execution_count": null,
      "outputs": []
    },
    {
      "cell_type": "code",
      "source": [],
      "metadata": {
        "id": "cdL3z8K3-QZA"
      },
      "execution_count": null,
      "outputs": []
    },
    {
      "cell_type": "markdown",
      "source": [
        "**3rd-October-2022**\n",
        "\n",
        "\n",
        "**Leetcode 1155**: **Number of Dice Rolls With Target Sum**\n",
        "\n",
        "**Problem**:You have n dice and each die has k faces numbered from 1 to k.\n",
        "\n",
        "Given three integers n, k, and target, return the number of possible ways (out of the kn total ways) to roll the dice so the sum of the face-up numbers equals target. Since the answer may be too large, return it modulo 109 + 7.\n",
        "\n",
        " \n",
        " \n",
        "**URL**: **https://leetcode.com/problems/number-of-dice-rolls-with-target-sum/**"
      ],
      "metadata": {
        "id": "VQnmBV6__xOD"
      }
    },
    {
      "cell_type": "code",
      "source": [
        "class Solution:\n",
        "    def numRollsToTarget(self, n: int, k: int, target: int) -> int:\n",
        "        dp = [[0 for j in range(target+2)] for i in range(n+1)]\n",
        "    \n",
        "        dp[0][0] = 1\n",
        "\n",
        "        for rem_d in range(1, n+1):\n",
        "                for tot_S in range(0, target + 2):\n",
        "                    for a in range(1,min(k+1,tot_S + 1)):\n",
        "                        dp[rem_d][tot_S] += dp[rem_d-1][tot_S - a]\n",
        "        return dp[n][target]%(10**9+7)\n",
        "  "
      ],
      "metadata": {
        "id": "kioIZeU5-QcH"
      },
      "execution_count": null,
      "outputs": []
    },
    {
      "cell_type": "code",
      "source": [],
      "metadata": {
        "id": "DBloOeSD-QfQ"
      },
      "execution_count": null,
      "outputs": []
    },
    {
      "cell_type": "markdown",
      "source": [
        "**4th-October-2022**\n",
        "\n",
        "\n",
        "**Leetcode 1578**: **Minimum Time to Make Rope Colorful**\n",
        "\n",
        "**Problem**:Alice has n balloons arranged on a rope. You are given a 0-indexed string colors where colors[i] is the color of the ith balloon.\n",
        "\n",
        "Alice wants the rope to be colorful. She does not want two consecutive balloons to be of the same color, so she asks Bob for help. Bob can remove some balloons from the rope to make it colorful. You are given a 0-indexed integer array neededTime where neededTime[i] is the time (in seconds) that Bob needs to remove the ith balloon from the rope.\n",
        "\n",
        "Return the minimum time Bob needs to make the rope colorful.\n",
        " \n",
        " \n",
        "**URL**: **https://leetcode.com/problems/minimum-time-to-make-rope-colorful/**"
      ],
      "metadata": {
        "id": "KoJGrkdpFgGw"
      }
    },
    {
      "cell_type": "code",
      "source": [
        "class Solution:\n",
        "    def minCost(self, colors: str, neededTime: List[int]) -> int:\n",
        "        res = 0\n",
        "        temp_max = 0\n",
        "        for i in range(len(colors)):\n",
        "            if i>0 and colors[i] == colors[i-1]:\n",
        "                res += min(neededTime[i],temp_max)\n",
        "                temp_max = max(temp_max,neededTime[i])\n",
        "            else:\n",
        "                temp_max = neededTime[i]\n",
        "        return res\n",
        "        "
      ],
      "metadata": {
        "id": "8XkMx6BO-Qiq"
      },
      "execution_count": null,
      "outputs": []
    },
    {
      "cell_type": "code",
      "source": [],
      "metadata": {
        "id": "uTLYfiiCGIgo"
      },
      "execution_count": null,
      "outputs": []
    },
    {
      "cell_type": "markdown",
      "source": [
        "**5th-October-2022**\n",
        "\n",
        "\n",
        "**Leetcode 112**: **Path Sum**\n",
        "\n",
        "**Problem**:Given the root of a binary tree and an integer targetSum, return true if the tree has a root-to-leaf path such that adding up all the values along the path equals targetSum.\n",
        "\n",
        "A leaf is a node with no children.\n",
        "\n",
        " \n",
        "**URL**: **https://leetcode.com/problems/path-sum/**"
      ],
      "metadata": {
        "id": "wCM1YmxQGrgs"
      }
    },
    {
      "cell_type": "code",
      "source": [
        "# Definition for a binary tree node.\n",
        "# class TreeNode:\n",
        "#     def __init__(self, val=0, left=None, right=None):\n",
        "#         self.val = val\n",
        "#         self.left = left\n",
        "#         self.right = right\n",
        "class Solution:\n",
        "    def hasPathSum(self, root: TreeNode, sum: int) -> bool:\n",
        "        if not root:\n",
        "            return False\n",
        "        if root.val == sum and not root.left and not root.right:\n",
        "            return True\n",
        "        return self.hasPathSum(root.left, sum - root.val) or \\\n",
        "    self.hasPathSum(root.right, sum - root.val)\n"
      ],
      "metadata": {
        "id": "YO6VWhOPGuG2"
      },
      "execution_count": null,
      "outputs": []
    },
    {
      "cell_type": "code",
      "source": [],
      "metadata": {
        "id": "Y_yjyVPOG7Kp"
      },
      "execution_count": null,
      "outputs": []
    },
    {
      "cell_type": "markdown",
      "source": [
        "**6th-October-2022**\n",
        "\n",
        "\n",
        "**Leetcode 623**: **Add One Row to Tree**\n",
        "\n",
        "**Problem**:Given the root of a binary tree and two integers val and depth, add a row of nodes with value val at the given depth depth.\n",
        "\n",
        "Note that the root node is at depth 1.\n",
        "\n",
        "The adding rule is:\n",
        "\n",
        "Given the integer depth, for each not null tree node cur at the depth depth - 1, create two tree nodes with value val as cur's left subtree root and right subtree root.\n",
        "cur's original left subtree should be the left subtree of the new left subtree root.\n",
        "cur's original right subtree should be the right subtree of the new right subtree root.\n",
        "If depth == 1 that means there is no depth depth - 1 at all, then create a tree node with value val as the new root of the whole original tree, and the original tree is the new root's left subtree.\n",
        " \n",
        "**URL**: **https://leetcode.com/problems/add-one-row-to-tree/**"
      ],
      "metadata": {
        "id": "CTACHGMFZvuT"
      }
    },
    {
      "cell_type": "code",
      "source": [
        "# Definition for a binary tree node.\n",
        "# class TreeNode:\n",
        "#     def __init__(self, val=0, left=None, right=None):\n",
        "#         self.val = val\n",
        "#         self.left = left\n",
        "#         self.right = right\n",
        "class Solution:\n",
        "    def addOneRow(self, root: Optional[TreeNode], val: int, depth: int) -> Optional[TreeNode]:\n",
        "        if depth == 1:\n",
        "            return TreeNode(val, left=root)\n",
        "        \n",
        "        def dfs(node, level):\n",
        "            if node is None:\n",
        "                return\n",
        "\n",
        "            if level == depth - 1:\n",
        "                node.left = TreeNode(val, left=node.left)\n",
        "                node.right = TreeNode(val, right = node.right)\n",
        "                return\n",
        "            \n",
        "            dfs(node.left, level + 1)\n",
        "            dfs(node.right, level + 1)\n",
        "            \n",
        "        \n",
        "        dfs(root, 1)\n",
        "        \n",
        "        return root\n",
        "        "
      ],
      "metadata": {
        "id": "wwsdogTvG5j5"
      },
      "execution_count": null,
      "outputs": []
    },
    {
      "cell_type": "code",
      "source": [],
      "metadata": {
        "id": "QM7MXTFVawdU"
      },
      "execution_count": null,
      "outputs": []
    },
    {
      "cell_type": "markdown",
      "source": [
        "**7th-October-2022**\n",
        "\n",
        "\n",
        "**Leetcode 981**: **Time Based Key Value Store**\n",
        "\n",
        "**Problem**:Design a time-based key-value data structure that can store multiple values for the same key at different time stamps and retrieve the key's value at a certain timestamp.\n",
        "\n",
        "Implement the TimeMap class:\n",
        "\n",
        "TimeMap() Initializes the object of the data structure.\n",
        "void set(String key, String value, int timestamp) Stores the key key with the value value at the given time timestamp.\n",
        "String get(String key, int timestamp) Returns a value such that set was called previously, with timestamp_prev <= timestamp. If there are multiple such values, it returns the value associated with the largest timestamp_prev. If there are no values, it returns \"\".\n",
        " \n",
        " \n",
        "**URL**: **https://leetcode.com/problems/time-based-key-value-store/**"
      ],
      "metadata": {
        "id": "IMX9KasvGroX"
      }
    },
    {
      "cell_type": "code",
      "source": [
        "class TimeMap:\n",
        "    def __init__(self):\n",
        "        self.d={}\n",
        "\n",
        "    def set(self, key: str, value: str, timestamp: int) -> None:\n",
        "        self.d[(key,timestamp)]=value\n",
        "\n",
        "    def get(self, key: str, timestamp: int) -> str:\n",
        "        for i in range(timestamp,0,-1):\n",
        "            if (key,i) in self.d:\n",
        "                return self.d[(key,i)]\n",
        "        return \"\"\n",
        "\n",
        "\n",
        "# Your TimeMap object will be instantiated and called as such:\n",
        "# obj = TimeMap()\n",
        "# obj.set(key,value,timestamp)\n",
        "# param_2 = obj.get(key,timestamp)"
      ],
      "metadata": {
        "id": "-rIR_4eMGwM9"
      },
      "execution_count": null,
      "outputs": []
    },
    {
      "cell_type": "code",
      "source": [],
      "metadata": {
        "id": "TIh_rZYAG47d"
      },
      "execution_count": null,
      "outputs": []
    },
    {
      "cell_type": "markdown",
      "source": [
        "**8th-October-2022**\n",
        "\n",
        "\n",
        "**Leetcode 732**: **My Calendar III**\n",
        "\n",
        "**Problem**: A k-booking happens when k events have some non-empty intersection (i.e., there is some time that is common to all k events.)\n",
        "\n",
        "You are given some events [start, end), after each given event, return an integer k representing the maximum k-booking between all the previous events.\n",
        "\n",
        "Implement the MyCalendarThree class:\n",
        "\n",
        "MyCalendarThree() Initializes the object.\n",
        "int book(int start, int end) Returns an integer k representing the largest integer such that there exists a k-booking in the calendar.\n",
        " \n",
        "**URL**: **https://leetcode.com/problems/my-calendar-iii/**"
      ],
      "metadata": {
        "id": "_kIN84odGrrt"
      }
    },
    {
      "cell_type": "code",
      "source": [
        "# Your MyCalendarThree object will be instantiated and called as such:\n",
        "# obj = MyCalendarThree()\n",
        "# param_1 = obj.book(start,end)\n",
        "from sortedcontainers import SortedDict\n",
        "\n",
        "class MyCalendarThree:\n",
        "\n",
        "    def __init__(self):\n",
        "        self.__events_count = SortedDict()\n",
        "\n",
        "    def book(self, start: int, end: int) -> int:\n",
        "\t\t# Insert current event into the SortedDict\n",
        "        self.__events_count[start] = self.__events_count.get(start, 0) + 1\n",
        "        self.__events_count[end] = self.__events_count.get(end, 0) - 1\n",
        "        \n",
        "\t\t# Return maximum overlap count\n",
        "        return max(accumulate(self.__events_count.values()))\n",
        "    \n",
        "    "
      ],
      "metadata": {
        "id": "PhM0vXmmGxF0"
      },
      "execution_count": null,
      "outputs": []
    },
    {
      "cell_type": "code",
      "source": [],
      "metadata": {
        "id": "Dl-BvhEDG36m"
      },
      "execution_count": null,
      "outputs": []
    },
    {
      "cell_type": "markdown",
      "source": [
        "**9th-October-2022**\n",
        "\n",
        "\n",
        "**Leetcode 16**: **3 Sum Closest**\n",
        "\n",
        "**Problem**: Given an integer array nums of length n and an integer target, find three integers in nums such that the sum is closest to target.\n",
        "\n",
        "Return the sum of the three integers.\n",
        "\n",
        "You may assume that each input would have exactly one solution.\n",
        "\n",
        "**URL**: **https://leetcode.com/problems/3sum-closest/**"
      ],
      "metadata": {
        "id": "n1CbDvVBGrvI"
      }
    },
    {
      "cell_type": "code",
      "source": [
        "class Solution:\n",
        "    def threeSumClosest(self, nums: List[int], target: int) -> int:\n",
        "        nums.sort()\n",
        "        d, ans = float(\"inf\"), 0\n",
        "        for i in range(len(nums) - 2):\n",
        "            s, e = i + 1, len(nums) - 1\n",
        "            while(s < e):\n",
        "                sum = nums[i] + nums[s] + nums[e]\n",
        "                if sum == target: return sum\n",
        "                if abs(sum - target) < d:\n",
        "                    d = abs(sum - target)\n",
        "                    ans = sum\n",
        "                if sum < target: s += 1\n",
        "                else: e -= 1\n",
        "        \n",
        "        return ans"
      ],
      "metadata": {
        "id": "F-7pE_MgGyCq"
      },
      "execution_count": null,
      "outputs": []
    },
    {
      "cell_type": "code",
      "source": [],
      "metadata": {
        "id": "WN9q4MfCG3I6"
      },
      "execution_count": null,
      "outputs": []
    },
    {
      "cell_type": "markdown",
      "source": [
        "**10th-October-2022**\n",
        "\n",
        "\n",
        "**Leetcode 16**: **Two Sum IV-Input is a BST**\n",
        "\n",
        "**Problem**: Given the root of a Binary Search Tree and a target number k, return true if there exist two elements in the BST such that their sum is equal to the given target.\n",
        "\n",
        "\n",
        "\n",
        "**URL**: **https://leetcode.com/problems/two-sum-iv-input-is-a-bst/**"
      ],
      "metadata": {
        "id": "9Hq8OsYpGrye"
      }
    },
    {
      "cell_type": "code",
      "source": [
        "# Definition for a binary tree node.\n",
        "# class TreeNode:\n",
        "#     def __init__(self, val=0, left=None, right=None):\n",
        "#         self.val = val\n",
        "#         self.left = left\n",
        "#         self.right = right\n",
        "class BSTIterator:\n",
        "    def __init__(self, root: Optional[TreeNode], leftToRight: bool):\n",
        "        self.stack = []\n",
        "        self.leftToRight = leftToRight\n",
        "        self.pushUntilNone(root)\n",
        "\n",
        "    def next(self) -> int:\n",
        "        node = self.stack.pop()\n",
        "        if self.leftToRight:\n",
        "            self.pushUntilNone(node.right)\n",
        "        else:\n",
        "            self.pushUntilNone(node.left)\n",
        "        return node.val\n",
        "\n",
        "    def pushUntilNone(self, root: Optional[TreeNode]):\n",
        "        while root:\n",
        "            self.stack.append(root)\n",
        "            root = root.left if self.leftToRight else root.right\n",
        "\n",
        "\n",
        "class Solution:\n",
        "    def findTarget(self, root: Optional[TreeNode], k: int) -> bool:\n",
        "        if not root:\n",
        "            return False\n",
        "\n",
        "        left = BSTIterator(root, True)\n",
        "        right = BSTIterator(root, False)\n",
        "\n",
        "        l = left.next()\n",
        "        r = right.next()\n",
        "\n",
        "        while l < r:\n",
        "            summ = l + r\n",
        "            if summ == k:\n",
        "                return True\n",
        "            if summ < k:\n",
        "                l = left.next()\n",
        "            else:\n",
        "                 r = right.next()\n",
        "\n",
        "        return False\n"
      ],
      "metadata": {
        "id": "WXQQURahG2Om"
      },
      "execution_count": null,
      "outputs": []
    },
    {
      "cell_type": "code",
      "source": [],
      "metadata": {
        "id": "I_G-rwm2GyuP"
      },
      "execution_count": null,
      "outputs": []
    },
    {
      "cell_type": "markdown",
      "source": [
        "**11th-October-2022**\n",
        "\n",
        "\n",
        "**Leetcode 1328**: **Break a Palindrome**\n",
        "\n",
        "**Problem**: Given a palindromic string of lowercase English letters palindrome, replace exactly one character with any lowercase English letter so that the resulting string is not a palindrome and that it is the lexicographically smallest one possible.\n",
        "\n",
        "Return the resulting string. If there is no way to replace a character to make it not a palindrome, return an empty string.\n",
        "\n",
        "A string a is lexicographically smaller than a string b (of the same length) if in the first position where a and b differ, a has a character strictly smaller than the corresponding character in b. For example, \"abcc\" is lexicographically smaller than \"abcd\" because the first position they differ is at the fourth character, and 'c' is smaller than 'd'.\n",
        "\n",
        "\n",
        "**URL**: **https://leetcode.com/problems/break-a-palindrome/**"
      ],
      "metadata": {
        "id": "LBlGmnpSGr33"
      }
    },
    {
      "cell_type": "code",
      "source": [
        "class Solution:\n",
        "    def breakPalindrome(self, palindrome: str) -> str:\n",
        "        if len(palindrome) == 1: \n",
        "            return \"\"\n",
        "        n = len(palindrome) // 2\n",
        "        for i in range(n):\n",
        "            if palindrome[i] != \"a\":\n",
        "                return palindrome[:i] + \"a\" + palindrome[i+1:]\n",
        "        return palindrome[:-1] + \"b\"\n",
        "        "
      ],
      "metadata": {
        "id": "9KcZRVkWGzkd"
      },
      "execution_count": null,
      "outputs": []
    },
    {
      "cell_type": "code",
      "source": [],
      "metadata": {
        "id": "ZCEU4rLRG1f1"
      },
      "execution_count": null,
      "outputs": []
    },
    {
      "cell_type": "markdown",
      "source": [
        "**12th-October-2022**\n",
        "\n",
        "\n",
        "**Leetcode 334**: **Increasing Triplet Sequence**\n",
        "\n",
        "**Problem**: Given an integer array nums, return true if there exists a triple of indices (i, j, k) such that i < j < k and nums[i] < nums[j] < nums[k]. If no such indices exists, return false.\n",
        "\n",
        "**URL**: **https://leetcode.com/problems/increasing-triplet-subsequence/**"
      ],
      "metadata": {
        "id": "wXvpPGBWGsBt"
      }
    },
    {
      "cell_type": "code",
      "source": [
        "class Solution:\n",
        "    def increasingTriplet(self, nums: List[int]) -> bool:\n",
        "        first,second=float(\"inf\"),float(\"inf\")\n",
        "        if len(nums)<3:\n",
        "            return False\n",
        "        for num in nums:\n",
        "            if num <= first:\n",
        "                first = num\n",
        "            elif num <= second:\n",
        "                second = num\n",
        "            else:\n",
        "                return True \n",
        "        return False\n",
        "        "
      ],
      "metadata": {
        "id": "vmk1ooin-Ql6"
      },
      "execution_count": null,
      "outputs": []
    },
    {
      "cell_type": "code",
      "source": [],
      "metadata": {
        "id": "cKrJ3VctQxk2"
      },
      "execution_count": null,
      "outputs": []
    },
    {
      "cell_type": "markdown",
      "source": [
        "**13th-October-2022**\n",
        "\n",
        "\n",
        "**Leetcode 976**: **Largest Perimeter Triangle**\n",
        "\n",
        "**Problem**: Given an integer array nums, return the largest perimeter of a triangle with a non-zero area, formed from three of these lengths. If it is impossible to form any triangle of a non-zero area, return 0.\n",
        "\n",
        "\n",
        "**URL**: **https://leetcode.com/problems/largest-perimeter-triangle/**"
      ],
      "metadata": {
        "id": "Rcr0_ekIQ0rD"
      }
    },
    {
      "cell_type": "code",
      "source": [
        "class Solution:\n",
        "    def largestPerimeter(self, nums: List[int]) -> int:\n",
        "        nums.sort()\n",
        "        for i in reversed(range(len(nums) - 2)):\n",
        "            if nums[i] + nums[i+1] > nums[i+2]:\n",
        "                return nums[i] + nums[i+1] + nums[i+2]\n",
        "        return 0"
      ],
      "metadata": {
        "id": "ZtORoTPkQxnv"
      },
      "execution_count": null,
      "outputs": []
    },
    {
      "cell_type": "code",
      "source": [],
      "metadata": {
        "id": "A04pwejZQxrY"
      },
      "execution_count": null,
      "outputs": []
    },
    {
      "cell_type": "markdown",
      "source": [
        "**14th-October-2022**\n",
        "\n",
        "\n",
        "**Leetcode 237**: **Delete Node In a Linked List**\n",
        "\n",
        "**Problem**:There is a singly-linked list head and we want to delete a node node in it.\n",
        "\n",
        "You are given the node to be deleted node. You will not be given access to the first node of head.\n",
        "\n",
        "All the values of the linked list are unique, and it is guaranteed that the given node node is not the last node in the linked list.\n",
        "\n",
        "Delete the given node. Note that by deleting the node, we do not mean removing it from memory. We mean:\n",
        "\n",
        "The value of the given node should not exist in the linked list.\n",
        "The number of nodes in the linked list should decrease by one.\n",
        "All the values before node should be in the same order.\n",
        "All the values after node should be in the same order.\n",
        "Custom testing:\n",
        "\n",
        "For the input, you should provide the entire linked list head and the node to be given node. node should not be the last node of the list and should be an actual node in the list.\n",
        "We will build the linked list and pass the node to your function.\n",
        "The output will be the entire list after calling your function.\n",
        "\n",
        "**URL**: **https://leetcode.com/problems/delete-node-in-a-linked-list/**"
      ],
      "metadata": {
        "id": "Zl2Zsbap-g9F"
      }
    },
    {
      "cell_type": "code",
      "source": [
        "# Definition for singly-linked list.\n",
        "# class ListNode:\n",
        "#     def __init__(self, x):\n",
        "#         self.val = x\n",
        "#         self.next = None\n",
        "\n",
        "class Solution:\n",
        "    def deleteNode(self, node):\n",
        "        \"\"\"\n",
        "        :type node: ListNode\n",
        "        :rtype: void Do not return anything, modify node in-place instead.\n",
        "        \"\"\"\n",
        "        nextNode = node.next\n",
        "        # Step 2\n",
        "        node.val = nextNode.val\n",
        "        # Step 3\n",
        "        node.next = nextNode.next\n",
        "        nextNode.next = None\n",
        "        del(nextNode)"
      ],
      "metadata": {
        "id": "F5ksuNBzQxui"
      },
      "execution_count": null,
      "outputs": []
    },
    {
      "cell_type": "code",
      "source": [],
      "metadata": {
        "id": "ZYCVZ0USQxxw"
      },
      "execution_count": null,
      "outputs": []
    },
    {
      "cell_type": "markdown",
      "source": [
        "**15th-October-2022**\n",
        "\n",
        "\n",
        "**Leetcode 237**: **Delete the Middle Node of a Linked List**\n",
        "\n",
        "**Problem**:You are given the head of a linked list. Delete the middle node, and return the head of the modified linked list.\n",
        "\n",
        "The middle node of a linked list of size n is the ⌊n / 2⌋th node from the start using 0-based indexing, where ⌊x⌋ denotes the largest integer less than or equal to x.\n",
        "\n",
        "For n = 1, 2, 3, 4, and 5, the middle nodes are 0, 1, 1, 2, and 2, respectively.\n",
        "\n",
        "\n",
        "**URL**: **https://leetcode.com/problems/delete-the-middle-node-of-a-linked-list/solution/**"
      ],
      "metadata": {
        "id": "g13FqnNb81pL"
      }
    },
    {
      "cell_type": "code",
      "source": [
        "# Definition for singly-linked list.\n",
        "# class ListNode:\n",
        "#     def __init__(self, val=0, next=None):\n",
        "#         self.val = val\n",
        "#         self.next = next\n",
        "class Solution:\n",
        "    def deleteMiddle(self, head: Optional[ListNode]) -> Optional[ListNode]:\n",
        "        if not head.next: \n",
        "            return None                   # If only head, then it's the middle node\n",
        "\n",
        "        l1 = head.next  \n",
        "        l2 = head\n",
        "\n",
        "        while l1.next and l1.next.next:             # On each iteration, l1 jumps two nodes and l2\n",
        "            l1 = l1.next.next                       # jumps one node, so when ptr1 hits the end of the\n",
        "            l2 = l2.next                            # list, l1 will be at the middle node.\n",
        "      \n",
        "        l2.next = l2.next.next                      # middle node is removed.\n",
        "\n",
        "        return head\n",
        "\n",
        "        "
      ],
      "metadata": {
        "id": "JVTf80yQQx05"
      },
      "execution_count": null,
      "outputs": []
    },
    {
      "cell_type": "code",
      "source": [],
      "metadata": {
        "id": "lCDo_As7Qx4B"
      },
      "execution_count": null,
      "outputs": []
    },
    {
      "cell_type": "markdown",
      "source": [
        "**16th-October-2022**\n",
        "\n",
        "\n",
        "**Leetcode 1531**: **String Compression II**\n",
        "\n",
        "**Problem**:Run-length encoding is a string compression method that works by replacing consecutive identical characters (repeated 2 or more times) with the concatenation of the character and the number marking the count of the characters (length of the run). For example, to compress the string \"aabccc\" we replace \"aa\" by \"a2\" and replace \"ccc\" by \"c3\". Thus the compressed string becomes \"a2bc3\".\n",
        "\n",
        "Notice that in this problem, we are not adding '1' after single characters.\n",
        "\n",
        "Given a string s and an integer k. You need to delete at most k characters from s such that the run-length encoded version of s has minimum length.\n",
        "\n",
        "Find the minimum length of the run-length encoded version of s after deleting at most k characters.\n",
        "\n",
        " \n",
        "\n",
        "**URL**: **https://leetcode.com/problems/string-compression-ii/**"
      ],
      "metadata": {
        "id": "6lpC1HNBHwrh"
      }
    },
    {
      "cell_type": "code",
      "source": [
        "class Solution:\n",
        "    def getLengthOfOptimalCompression(self, s: str, k: int) -> int:\n",
        "        @cache\n",
        "        def counter(start, last, last_count, k):\n",
        "            if k < 0: return float('inf')\n",
        "            if start == len(s): return 0\n",
        "            if s[start] == last:\n",
        "                delta = 1 if last_count == 1 or last_count == 9 or last_count == 99                 else 0\n",
        "                return delta + counter(start+1, last, last_count+1, k)\n",
        "            else:\n",
        "                keep_cnt = 1 + counter(start+1, s[start], 1, k)\n",
        "                delete_cnt = counter(start+1, last, last_count, k - 1)\n",
        "                return min(keep_cnt, delete_cnt)\n",
        "        return counter(0,\"\",0,k)\n",
        "        "
      ],
      "metadata": {
        "id": "jZUX7FAuQx7K"
      },
      "execution_count": null,
      "outputs": []
    },
    {
      "cell_type": "code",
      "source": [],
      "metadata": {
        "id": "YpJDJAfcQx-I"
      },
      "execution_count": null,
      "outputs": []
    },
    {
      "cell_type": "markdown",
      "source": [
        "**17th-October-2022**\n",
        "\n",
        "\n",
        "**Leetcode 1335**: **Minimum Difficulty of a Job Schedule**\n",
        "\n",
        "**Problem**:You want to schedule a list of jobs in d days. Jobs are dependent (i.e To work on the ith job, you have to finish all the jobs j where 0 <= j < i).\n",
        "\n",
        "You have to finish at least one task every day. The difficulty of a job schedule is the sum of difficulties of each day of the d days. The difficulty of a day is the maximum difficulty of a job done on that day.\n",
        "\n",
        "You are given an integer array jobDifficulty and an integer d. The difficulty of the ith job is jobDifficulty[i].\n",
        "\n",
        "Return the minimum difficulty of a job schedule. If you cannot find a schedule for the jobs return -1.\n",
        "\n",
        " \n",
        "\n",
        "**URL**: **https://leetcode.com/problems/minimum-difficulty-of-a-job-schedule/**"
      ],
      "metadata": {
        "id": "Nj_j0ttJC2bX"
      }
    },
    {
      "cell_type": "code",
      "source": [
        "class Solution:\n",
        "    def minDifficulty(self, jobDifficulty: List[int], d: int) -> int:\n",
        "        n = len(jobDifficulty)\n",
        "    \n",
        "        @cache\n",
        "        def dp(i, k):\n",
        "            if k == d: return max(jobDifficulty[i:])\n",
        "            res = float('inf')\n",
        "            curr = 0\n",
        "            for j in range(i, n - d + k):\n",
        "                curr = max(curr, jobDifficulty[j])\n",
        "                res = min(res, curr + dp(j + 1, k + 1))\n",
        "            return res\n",
        "        return -1 if n < d else dp(0, 1)"
      ],
      "metadata": {
        "id": "eCXRQlG6QyBJ"
      },
      "execution_count": null,
      "outputs": []
    },
    {
      "cell_type": "code",
      "source": [],
      "metadata": {
        "id": "Qy7dP5a0QyEh"
      },
      "execution_count": null,
      "outputs": []
    },
    {
      "cell_type": "markdown",
      "source": [
        "**18th-October-2022**\n",
        "\n",
        "\n",
        "**Leetcode 1832**: **Check if the Sentence is a Pangram**\n",
        "\n",
        "**Problem**:A pangram is a sentence where every letter of the English alphabet appears at least once.\n",
        "\n",
        "Given a string sentence containing only lowercase English letters, return true if sentence is a pangram, or false otherwise.\n",
        "\n",
        "\n",
        " \n",
        "\n",
        "**URL**: **https://leetcode.com/problems/check-if-the-sentence-is-pangram/**"
      ],
      "metadata": {
        "id": "k1mdmMbFD8K6"
      }
    },
    {
      "cell_type": "code",
      "source": [],
      "metadata": {
        "id": "xoHnG-zGQyHy"
      },
      "execution_count": null,
      "outputs": []
    },
    {
      "cell_type": "code",
      "source": [],
      "metadata": {
        "id": "w-SL9PktQyLT"
      },
      "execution_count": null,
      "outputs": []
    },
    {
      "cell_type": "code",
      "source": [],
      "metadata": {
        "id": "2mZlwj2tQysI"
      },
      "execution_count": null,
      "outputs": []
    },
    {
      "cell_type": "code",
      "source": [],
      "metadata": {
        "id": "IIhPQWU4QyvF"
      },
      "execution_count": null,
      "outputs": []
    },
    {
      "cell_type": "markdown",
      "source": [],
      "metadata": {
        "id": "QNJ6oQLJE65B"
      }
    },
    {
      "cell_type": "code",
      "source": [],
      "metadata": {
        "id": "39fcG5U3QyyN"
      },
      "execution_count": null,
      "outputs": []
    },
    {
      "cell_type": "code",
      "source": [],
      "metadata": {
        "id": "uvnS7uMWG976"
      },
      "execution_count": null,
      "outputs": []
    }
  ]
}