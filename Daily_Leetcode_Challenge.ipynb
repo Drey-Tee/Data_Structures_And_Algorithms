{
  "nbformat": 4,
  "nbformat_minor": 0,
  "metadata": {
    "colab": {
      "provenance": [],
      "authorship_tag": "ABX9TyNyYif4kA7sm51/AozQVBp3"
    },
    "kernelspec": {
      "name": "python3",
      "display_name": "Python 3"
    },
    "language_info": {
      "name": "python"
    }
  },
  "cells": [
    {
      "cell_type": "markdown",
      "source": [
        "**28th-September-2022**\n",
        "\n",
        "\n",
        "**Leetcode 838**: **Push Dominoes**\n",
        "\n",
        "**Problem**: There are n dominoes in a line, and we place each domino vertically upright. In the beginning, we simultaneously push some of the dominoes either to the left or to the right.\n",
        "\n",
        "After each second, each domino that is falling to the left pushes the adjacent domino on the left. Similarly, the dominoes falling to the right push their adjacent dominoes standing on the right.\n",
        "\n",
        "When a vertical domino has dominoes falling on it from both sides, it stays still due to the balance of the forces.\n",
        "\n",
        "For the purposes of this question, we will consider that a falling domino expends no additional force to a falling or already fallen domino.\n",
        "\n",
        "You are given a string dominoes representing the initial state where:\n",
        "\n",
        "dominoes[i] = 'L', if the ith domino has been pushed to the left,\n",
        "dominoes[i] = 'R', if the ith domino has been pushed to the right, and\n",
        "dominoes[i] = '.', if the ith domino has not been pushed.\n",
        "\n",
        "Return a string representing the final state.\n",
        "\n",
        " \n",
        "**URL**: https://leetcode.com/problems/push-dominoes/\n",
        "\n"
      ],
      "metadata": {
        "id": "9opmJ0RV-L4I"
      }
    },
    {
      "cell_type": "code",
      "source": [
        "class Solution:\n",
        "    def pushDominoes(self, dominoes: str) -> str:\n",
        "        while True:\n",
        "            new_dominoes = dominoes.replace('R.L', '|').replace('.L', 'LL').replace('R.', 'RR').replace('|', 'R.L')\n",
        "            if new_dominoes == dominoes:\n",
        "                break\n",
        "            else:\n",
        "                dominoes = new_dominoes\n",
        "            \n",
        "        return dominoes\n",
        "        "
      ],
      "metadata": {
        "id": "23yIgkQo-MwH"
      },
      "execution_count": null,
      "outputs": []
    },
    {
      "cell_type": "code",
      "source": [],
      "metadata": {
        "id": "SYJLuZ8S-QAB"
      },
      "execution_count": null,
      "outputs": []
    },
    {
      "cell_type": "markdown",
      "source": [
        "**29th-September-2022**\n",
        "\n",
        "\n",
        "**Leetcode 19**: **Remove Nth Node From End of List**\n",
        "\n",
        "**Problem**:Given the head of a linked list, remove the nth node from the end of the list and return its head.\n",
        "\n",
        "\n",
        " \n",
        "**URL**: **https://leetcode.com/problems/remove-nth-node-from-end-of-list/**"
      ],
      "metadata": {
        "id": "s5vzx1_5EDuQ"
      }
    },
    {
      "cell_type": "code",
      "source": [
        "# Definition for singly-linked list.\n",
        "# class ListNode:\n",
        "#     def __init__(self, val=0, next=None):\n",
        "#         self.val = val\n",
        "#         self.next = next\n",
        "class Solution:\n",
        "    def removeNthFromEnd(self, head: Optional[ListNode], n: int) -> Optional[ListNode]:\n",
        "        h1 = head\n",
        "        h2 = None\n",
        "        k = 1\n",
        "        while(h1):\n",
        "            if k == n+1:\n",
        "                h2 = head\n",
        "            elif k > n+1:\n",
        "                h2 = h2.next\n",
        "            h1 = h1.next\n",
        "            k += 1\n",
        "        if h2:\n",
        "            h2.next = h2.next.next\n",
        "        else:\n",
        "\t\t\t# Since h2 never started from head so nth node must be the first node\n",
        "            head = head.next\n",
        "        return head\n",
        "        "
      ],
      "metadata": {
        "id": "cqcRBBiO-QDE"
      },
      "execution_count": null,
      "outputs": []
    },
    {
      "cell_type": "code",
      "source": [],
      "metadata": {
        "id": "isdHSCMG-QGS"
      },
      "execution_count": null,
      "outputs": []
    },
    {
      "cell_type": "markdown",
      "source": [
        "**30th-September-2022**\n",
        "\n",
        "\n",
        "**Leetcode 658**: **Find K Closest Elements**\n",
        "\n",
        "**Problem**:Given a sorted integer array arr, two integers k and x, return the k closest integers to x in the array. The result should also be sorted in ascending order.\n",
        "\n",
        "An integer a is closer to x than an integer b if:\n",
        "\n",
        "|a - x| < |b - x|, or\n",
        "\n",
        "|a - x| == |b - x| and a < b\n",
        " \n",
        "**URL**: **https://leetcode.com/problems/find-k-closest-elements/**"
      ],
      "metadata": {
        "id": "RxXTF3xJZouz"
      }
    },
    {
      "cell_type": "code",
      "source": [
        "class Solution:\n",
        "    def findClosestElements(self, arr: List[int], k: int, x: int) -> List[int]:\n",
        "        min = 0\n",
        "        max=len(arr) - 1\n",
        "        while max - min +1 > k:\n",
        "            if  abs(x-arr[min]) > abs(x-arr[max]):\n",
        "                min +=1\n",
        "            else:\n",
        "                max-=1\n",
        "        return arr[min :max+1]\n",
        "        "
      ],
      "metadata": {
        "id": "kjApQjgO-QJR"
      },
      "execution_count": null,
      "outputs": []
    },
    {
      "cell_type": "code",
      "source": [],
      "metadata": {
        "id": "ezVE5Y03-QMQ"
      },
      "execution_count": null,
      "outputs": []
    },
    {
      "cell_type": "markdown",
      "source": [
        "**1st-October-2022**\n",
        "\n",
        "\n",
        "**Leetcode 218**: **The Skyline Problem**\n",
        "\n",
        "**Problem**:A city's skyline is the outer contour of the silhouette formed by all the buildings in that city when viewed from a distance. Given the locations and heights of all the buildings, return the skyline formed by these buildings collectively.\n",
        "\n",
        "The geometric information of each building is given in the array buildings where buildings[i] = [lefti, righti, heighti]:\n",
        "\n",
        "lefti is the x coordinate of the left edge of the ith building.\n",
        "righti is the x coordinate of the right edge of the ith building.\n",
        "heighti is the height of the ith building.\n",
        "You may assume all buildings are perfect rectangles grounded on an absolutely flat surface at height 0.\n",
        "\n",
        "The skyline should be represented as a list of \"key points\" sorted by their x-coordinate in the form [[x1,y1],[x2,y2],...]. Each key point is the left endpoint of some horizontal segment in the skyline except the last point in the list, which always has a y-coordinate 0 and is used to mark the skyline's termination where the rightmost building ends. Any ground between the leftmost and rightmost buildings should be part of the skyline's contour.\n",
        "\n",
        "Note: There must be no consecutive horizontal lines of equal height in the output skyline. For instance, [...,[2 3],[4 5],[7 5],[11 5],[12 7],...] is not acceptable; the three lines of height 5 should be merged into one in the final output as such: [...,[2 3],[4 5],[12 7],...]\n",
        " \n",
        "**URL**: **https://leetcode.com/problems/the-skyline-problem/**"
      ],
      "metadata": {
        "id": "3Av-UMgfY5Zg"
      }
    },
    {
      "cell_type": "code",
      "source": [],
      "metadata": {
        "id": "lbYdrVx6-QPa"
      },
      "execution_count": null,
      "outputs": []
    },
    {
      "cell_type": "code",
      "source": [],
      "metadata": {
        "id": "6Q9iQZGq-QSw"
      },
      "execution_count": null,
      "outputs": []
    },
    {
      "cell_type": "code",
      "source": [],
      "metadata": {
        "id": "dgYWdR5F-QV5"
      },
      "execution_count": null,
      "outputs": []
    },
    {
      "cell_type": "code",
      "source": [],
      "metadata": {
        "id": "cdL3z8K3-QZA"
      },
      "execution_count": null,
      "outputs": []
    },
    {
      "cell_type": "code",
      "source": [],
      "metadata": {
        "id": "kioIZeU5-QcH"
      },
      "execution_count": null,
      "outputs": []
    },
    {
      "cell_type": "code",
      "source": [],
      "metadata": {
        "id": "DBloOeSD-QfQ"
      },
      "execution_count": null,
      "outputs": []
    },
    {
      "cell_type": "code",
      "source": [],
      "metadata": {
        "id": "8XkMx6BO-Qiq"
      },
      "execution_count": null,
      "outputs": []
    },
    {
      "cell_type": "code",
      "source": [],
      "metadata": {
        "id": "vmk1ooin-Ql6"
      },
      "execution_count": null,
      "outputs": []
    }
  ]
}