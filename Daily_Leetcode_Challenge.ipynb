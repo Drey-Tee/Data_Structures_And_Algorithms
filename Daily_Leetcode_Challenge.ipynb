{
  "nbformat": 4,
  "nbformat_minor": 0,
  "metadata": {
    "colab": {
      "provenance": [],
      "authorship_tag": "ABX9TyPX216fDVLAHsDcajiSh/Iz"
    },
    "kernelspec": {
      "name": "python3",
      "display_name": "Python 3"
    },
    "language_info": {
      "name": "python"
    }
  },
  "cells": [
    {
      "cell_type": "markdown",
      "source": [
        "**28th-September-2022**\n",
        "\n",
        "\n",
        "**Leetcode 838**: **Push Dominoes**\n",
        "\n",
        "**Problem**: There are n dominoes in a line, and we place each domino vertically upright. In the beginning, we simultaneously push some of the dominoes either to the left or to the right.\n",
        "\n",
        "After each second, each domino that is falling to the left pushes the adjacent domino on the left. Similarly, the dominoes falling to the right push their adjacent dominoes standing on the right.\n",
        "\n",
        "When a vertical domino has dominoes falling on it from both sides, it stays still due to the balance of the forces.\n",
        "\n",
        "For the purposes of this question, we will consider that a falling domino expends no additional force to a falling or already fallen domino.\n",
        "\n",
        "You are given a string dominoes representing the initial state where:\n",
        "\n",
        "dominoes[i] = 'L', if the ith domino has been pushed to the left,\n",
        "dominoes[i] = 'R', if the ith domino has been pushed to the right, and\n",
        "dominoes[i] = '.', if the ith domino has not been pushed.\n",
        "\n",
        "Return a string representing the final state.\n",
        "\n",
        " \n",
        "**URL**: https://leetcode.com/problems/push-dominoes/\n",
        "\n"
      ],
      "metadata": {
        "id": "9opmJ0RV-L4I"
      }
    },
    {
      "cell_type": "code",
      "source": [
        "class Solution:\n",
        "    def pushDominoes(self, dominoes: str) -> str:\n",
        "        while True:\n",
        "            new_dominoes = dominoes.replace('R.L', '|').replace('.L', 'LL').replace('R.', 'RR').replace('|', 'R.L')\n",
        "            if new_dominoes == dominoes:\n",
        "                break\n",
        "            else:\n",
        "                dominoes = new_dominoes\n",
        "            \n",
        "        return dominoes\n",
        "        "
      ],
      "metadata": {
        "id": "23yIgkQo-MwH"
      },
      "execution_count": null,
      "outputs": []
    },
    {
      "cell_type": "code",
      "source": [],
      "metadata": {
        "id": "SYJLuZ8S-QAB"
      },
      "execution_count": null,
      "outputs": []
    },
    {
      "cell_type": "markdown",
      "source": [
        "**29th-September-2022**\n",
        "\n",
        "\n",
        "**Leetcode 19**: **Remove Nth Node From End of List**\n",
        "\n",
        "**Problem**:Given the head of a linked list, remove the nth node from the end of the list and return its head.\n",
        "\n",
        "\n",
        " \n",
        "**URL**: **https://leetcode.com/problems/remove-nth-node-from-end-of-list/**"
      ],
      "metadata": {
        "id": "s5vzx1_5EDuQ"
      }
    },
    {
      "cell_type": "code",
      "source": [
        "# Definition for singly-linked list.\n",
        "# class ListNode:\n",
        "#     def __init__(self, val=0, next=None):\n",
        "#         self.val = val\n",
        "#         self.next = next\n",
        "class Solution:\n",
        "    def removeNthFromEnd(self, head: Optional[ListNode], n: int) -> Optional[ListNode]:\n",
        "        h1 = head\n",
        "        h2 = None\n",
        "        k = 1\n",
        "        while(h1):\n",
        "            if k == n+1:\n",
        "                h2 = head\n",
        "            elif k > n+1:\n",
        "                h2 = h2.next\n",
        "            h1 = h1.next\n",
        "            k += 1\n",
        "        if h2:\n",
        "            h2.next = h2.next.next\n",
        "        else:\n",
        "\t\t\t# Since h2 never started from head so nth node must be the first node\n",
        "            head = head.next\n",
        "        return head\n",
        "        "
      ],
      "metadata": {
        "id": "cqcRBBiO-QDE"
      },
      "execution_count": null,
      "outputs": []
    },
    {
      "cell_type": "code",
      "source": [],
      "metadata": {
        "id": "isdHSCMG-QGS"
      },
      "execution_count": null,
      "outputs": []
    },
    {
      "cell_type": "markdown",
      "source": [
        "**30th-September-2022**\n",
        "\n",
        "\n",
        "**Leetcode 658**: **Find K Closest Elements**\n",
        "\n",
        "**Problem**:Given a sorted integer array arr, two integers k and x, return the k closest integers to x in the array. The result should also be sorted in ascending order.\n",
        "\n",
        "An integer a is closer to x than an integer b if:\n",
        "\n",
        "|a - x| < |b - x|, or\n",
        "\n",
        "|a - x| == |b - x| and a < b\n",
        " \n",
        "**URL**: **https://leetcode.com/problems/find-k-closest-elements/**"
      ],
      "metadata": {
        "id": "RxXTF3xJZouz"
      }
    },
    {
      "cell_type": "code",
      "source": [
        "class Solution:\n",
        "    def findClosestElements(self, arr: List[int], k: int, x: int) -> List[int]:\n",
        "        min = 0\n",
        "        max=len(arr) - 1\n",
        "        while max - min +1 > k:\n",
        "            if  abs(x-arr[min]) > abs(x-arr[max]):\n",
        "                min +=1\n",
        "            else:\n",
        "                max-=1\n",
        "        return arr[min :max+1]\n",
        "        "
      ],
      "metadata": {
        "id": "kjApQjgO-QJR"
      },
      "execution_count": null,
      "outputs": []
    },
    {
      "cell_type": "code",
      "source": [],
      "metadata": {
        "id": "ezVE5Y03-QMQ"
      },
      "execution_count": null,
      "outputs": []
    },
    {
      "cell_type": "markdown",
      "source": [
        "**1st-October-2022**\n",
        "\n",
        "\n",
        "**Leetcode 218**: **The Skyline Problem**\n",
        "\n",
        "**Problem**:A city's skyline is the outer contour of the silhouette formed by all the buildings in that city when viewed from a distance. Given the locations and heights of all the buildings, return the skyline formed by these buildings collectively.\n",
        "\n",
        "The geometric information of each building is given in the array buildings where buildings[i] = [lefti, righti, heighti]:\n",
        "\n",
        "lefti is the x coordinate of the left edge of the ith building.\n",
        "righti is the x coordinate of the right edge of the ith building.\n",
        "heighti is the height of the ith building.\n",
        "You may assume all buildings are perfect rectangles grounded on an absolutely flat surface at height 0.\n",
        "\n",
        "The skyline should be represented as a list of \"key points\" sorted by their x-coordinate in the form [[x1,y1],[x2,y2],...]. Each key point is the left endpoint of some horizontal segment in the skyline except the last point in the list, which always has a y-coordinate 0 and is used to mark the skyline's termination where the rightmost building ends. Any ground between the leftmost and rightmost buildings should be part of the skyline's contour.\n",
        "\n",
        "Note: There must be no consecutive horizontal lines of equal height in the output skyline. For instance, [...,[2 3],[4 5],[7 5],[11 5],[12 7],...] is not acceptable; the three lines of height 5 should be merged into one in the final output as such: [...,[2 3],[4 5],[12 7],...]\n",
        " \n",
        "**URL**: **https://leetcode.com/problems/the-skyline-problem/**"
      ],
      "metadata": {
        "id": "3Av-UMgfY5Zg"
      }
    },
    {
      "cell_type": "code",
      "source": [
        "class Solution:\n",
        "    def getSkyline(self, buildings: List[List[int]]) -> List[List[int]]:\n",
        "        # for the same x, (x, -H) should be in front of (x, 0)\n",
        "        # For Example 2, we should process (2, -3) then (2, 0), as there's no height change\n",
        "        x_height_right_tuples = sorted([(L, -H, R) for L, R, H in buildings] + [(R, 0, \"doesn't matter\") for _, R, _ in buildings])   \n",
        "        # (0, float('inf')) is always in max_heap, so max_heap[0] is always valid\n",
        "        result, max_heap = [[0, 0]], [(0, float('inf'))]\n",
        "        for x, negative_height, R in x_height_right_tuples:\n",
        "            while x >= max_heap[0][1]:\n",
        "                # reduce max height up to date, i.e. only consider max height in the right side of line x\n",
        "                heapq.heappop(max_heap)\n",
        "            if negative_height:\n",
        "                # Consider each height, as it may be the potential max height\n",
        "                heapq.heappush(max_heap, (negative_height, R))\n",
        "            curr_max_height = -max_heap[0][0]\n",
        "            if result[-1][1] != curr_max_height:\n",
        "                result.append([x, curr_max_height])\n",
        "        return result[1:] "
      ],
      "metadata": {
        "id": "lbYdrVx6-QPa"
      },
      "execution_count": null,
      "outputs": []
    },
    {
      "cell_type": "code",
      "source": [],
      "metadata": {
        "id": "6Q9iQZGq-QSw"
      },
      "execution_count": null,
      "outputs": []
    },
    {
      "cell_type": "markdown",
      "source": [
        "**2nd-October-2022**\n",
        "\n",
        "\n",
        "**Leetcode 91**: **Decode Ways**\n",
        "\n",
        "**Problem**:A message containing letters from A-Z can be encoded into numbers using the following mapping:\n",
        "\n",
        "'A' -> \"1\"\n",
        "'B' -> \"2\"\n",
        "...\n",
        "'Z' -> \"26\"\n",
        "To decode an encoded message, all the digits must be grouped then mapped back into letters using the reverse of the mapping above (there may be multiple ways). For example, \"11106\" can be mapped into:\n",
        "\n",
        "\"AAJF\" with the grouping (1 1 10 6)\n",
        "\"KJF\" with the grouping (11 10 6)\n",
        "Note that the grouping (1 11 06) is invalid because \"06\" cannot be mapped into 'F' since \"6\" is different from \"06\".\n",
        "\n",
        "Given a string s containing only digits, return the number of ways to decode it.\n",
        "\n",
        "The test cases are generated so that the answer fits in a 32-bit integer.\n",
        "\n",
        " \n",
        "**URL**: **https://leetcode.com/problems/decode-ways/**"
      ],
      "metadata": {
        "id": "9_cxRK4U7bFZ"
      }
    },
    {
      "cell_type": "code",
      "source": [
        "class Solution:\n",
        "    def numDecodings(self, s: str) -> int:\n",
        "        @cache\n",
        "        def depth_first_search(k):\n",
        "            if k == len(s):\n",
        "                return 1\n",
        "            if s[k] == '0':\n",
        "                return 0\n",
        "            results = depth_first_search(k+1)\n",
        "            if 10 <= int(s[k:k+2]) <= 26:\n",
        "                results += depth_first_search(k+2)\n",
        "            return results\n",
        "        return depth_first_search(0)\n",
        "        "
      ],
      "metadata": {
        "id": "dgYWdR5F-QV5"
      },
      "execution_count": null,
      "outputs": []
    },
    {
      "cell_type": "code",
      "source": [],
      "metadata": {
        "id": "cdL3z8K3-QZA"
      },
      "execution_count": null,
      "outputs": []
    },
    {
      "cell_type": "markdown",
      "source": [
        "**3rd-October-2022**\n",
        "\n",
        "\n",
        "**Leetcode 1155**: **Number of Dice Rolls With Target Sum**\n",
        "\n",
        "**Problem**:You have n dice and each die has k faces numbered from 1 to k.\n",
        "\n",
        "Given three integers n, k, and target, return the number of possible ways (out of the kn total ways) to roll the dice so the sum of the face-up numbers equals target. Since the answer may be too large, return it modulo 109 + 7.\n",
        "\n",
        " \n",
        " \n",
        "**URL**: **https://leetcode.com/problems/number-of-dice-rolls-with-target-sum/**"
      ],
      "metadata": {
        "id": "VQnmBV6__xOD"
      }
    },
    {
      "cell_type": "code",
      "source": [
        "class Solution:\n",
        "    def numRollsToTarget(self, n: int, k: int, target: int) -> int:\n",
        "        dp = [[0 for j in range(target+2)] for i in range(n+1)]\n",
        "    \n",
        "        dp[0][0] = 1\n",
        "\n",
        "        for rem_d in range(1, n+1):\n",
        "                for tot_S in range(0, target + 2):\n",
        "                    for a in range(1,min(k+1,tot_S + 1)):\n",
        "                        dp[rem_d][tot_S] += dp[rem_d-1][tot_S - a]\n",
        "        return dp[n][target]%(10**9+7)\n",
        "  "
      ],
      "metadata": {
        "id": "kioIZeU5-QcH"
      },
      "execution_count": null,
      "outputs": []
    },
    {
      "cell_type": "code",
      "source": [],
      "metadata": {
        "id": "DBloOeSD-QfQ"
      },
      "execution_count": null,
      "outputs": []
    },
    {
      "cell_type": "markdown",
      "source": [
        "**4th-October-2022**\n",
        "\n",
        "\n",
        "**Leetcode 1578**: **Minimum Time to Make Rope Colorful**\n",
        "\n",
        "**Problem**:Alice has n balloons arranged on a rope. You are given a 0-indexed string colors where colors[i] is the color of the ith balloon.\n",
        "\n",
        "Alice wants the rope to be colorful. She does not want two consecutive balloons to be of the same color, so she asks Bob for help. Bob can remove some balloons from the rope to make it colorful. You are given a 0-indexed integer array neededTime where neededTime[i] is the time (in seconds) that Bob needs to remove the ith balloon from the rope.\n",
        "\n",
        "Return the minimum time Bob needs to make the rope colorful.\n",
        " \n",
        " \n",
        "**URL**: **https://leetcode.com/problems/minimum-time-to-make-rope-colorful/**"
      ],
      "metadata": {
        "id": "KoJGrkdpFgGw"
      }
    },
    {
      "cell_type": "code",
      "source": [
        "class Solution:\n",
        "    def minCost(self, colors: str, neededTime: List[int]) -> int:\n",
        "        res = 0\n",
        "        temp_max = 0\n",
        "        for i in range(len(colors)):\n",
        "            if i>0 and colors[i] == colors[i-1]:\n",
        "                res += min(neededTime[i],temp_max)\n",
        "                temp_max = max(temp_max,neededTime[i])\n",
        "            else:\n",
        "                temp_max = neededTime[i]\n",
        "        return res\n",
        "        "
      ],
      "metadata": {
        "id": "8XkMx6BO-Qiq"
      },
      "execution_count": null,
      "outputs": []
    },
    {
      "cell_type": "code",
      "source": [],
      "metadata": {
        "id": "uTLYfiiCGIgo"
      },
      "execution_count": null,
      "outputs": []
    },
    {
      "cell_type": "markdown",
      "source": [
        "**5th-October-2022**\n",
        "\n",
        "\n",
        "**Leetcode 112**: **Path Sum**\n",
        "\n",
        "**Problem**:Given the root of a binary tree and an integer targetSum, return true if the tree has a root-to-leaf path such that adding up all the values along the path equals targetSum.\n",
        "\n",
        "A leaf is a node with no children.\n",
        "\n",
        " \n",
        "**URL**: **https://leetcode.com/problems/path-sum/**"
      ],
      "metadata": {
        "id": "wCM1YmxQGrgs"
      }
    },
    {
      "cell_type": "code",
      "source": [],
      "metadata": {
        "id": "YO6VWhOPGuG2"
      },
      "execution_count": null,
      "outputs": []
    },
    {
      "cell_type": "code",
      "source": [],
      "metadata": {
        "id": "Y_yjyVPOG7Kp"
      },
      "execution_count": null,
      "outputs": []
    },
    {
      "cell_type": "markdown",
      "source": [],
      "metadata": {
        "id": "gfU3GOrqGrkk"
      }
    },
    {
      "cell_type": "code",
      "source": [],
      "metadata": {
        "id": "t0pNE5vCGurU"
      },
      "execution_count": null,
      "outputs": []
    },
    {
      "cell_type": "code",
      "source": [],
      "metadata": {
        "id": "wwsdogTvG5j5"
      },
      "execution_count": null,
      "outputs": []
    },
    {
      "cell_type": "markdown",
      "source": [],
      "metadata": {
        "id": "IMX9KasvGroX"
      }
    },
    {
      "cell_type": "code",
      "source": [],
      "metadata": {
        "id": "-rIR_4eMGwM9"
      },
      "execution_count": null,
      "outputs": []
    },
    {
      "cell_type": "code",
      "source": [],
      "metadata": {
        "id": "TIh_rZYAG47d"
      },
      "execution_count": null,
      "outputs": []
    },
    {
      "cell_type": "markdown",
      "source": [],
      "metadata": {
        "id": "_kIN84odGrrt"
      }
    },
    {
      "cell_type": "code",
      "source": [],
      "metadata": {
        "id": "PhM0vXmmGxF0"
      },
      "execution_count": null,
      "outputs": []
    },
    {
      "cell_type": "code",
      "source": [],
      "metadata": {
        "id": "Dl-BvhEDG36m"
      },
      "execution_count": null,
      "outputs": []
    },
    {
      "cell_type": "markdown",
      "source": [],
      "metadata": {
        "id": "n1CbDvVBGrvI"
      }
    },
    {
      "cell_type": "code",
      "source": [],
      "metadata": {
        "id": "F-7pE_MgGyCq"
      },
      "execution_count": null,
      "outputs": []
    },
    {
      "cell_type": "code",
      "source": [],
      "metadata": {
        "id": "WN9q4MfCG3I6"
      },
      "execution_count": null,
      "outputs": []
    },
    {
      "cell_type": "markdown",
      "source": [],
      "metadata": {
        "id": "9Hq8OsYpGrye"
      }
    },
    {
      "cell_type": "code",
      "source": [],
      "metadata": {
        "id": "WXQQURahG2Om"
      },
      "execution_count": null,
      "outputs": []
    },
    {
      "cell_type": "code",
      "source": [],
      "metadata": {
        "id": "I_G-rwm2GyuP"
      },
      "execution_count": null,
      "outputs": []
    },
    {
      "cell_type": "markdown",
      "source": [],
      "metadata": {
        "id": "LBlGmnpSGr33"
      }
    },
    {
      "cell_type": "code",
      "source": [],
      "metadata": {
        "id": "9KcZRVkWGzkd"
      },
      "execution_count": null,
      "outputs": []
    },
    {
      "cell_type": "code",
      "source": [],
      "metadata": {
        "id": "ZCEU4rLRG1f1"
      },
      "execution_count": null,
      "outputs": []
    },
    {
      "cell_type": "markdown",
      "source": [],
      "metadata": {
        "id": "wXvpPGBWGsBt"
      }
    },
    {
      "cell_type": "code",
      "source": [],
      "metadata": {
        "id": "vmk1ooin-Ql6"
      },
      "execution_count": null,
      "outputs": []
    },
    {
      "cell_type": "code",
      "source": [],
      "metadata": {
        "id": "uvnS7uMWG976"
      },
      "execution_count": null,
      "outputs": []
    }
  ]
}